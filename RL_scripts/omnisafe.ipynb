{
 "cells": [
  {
   "cell_type": "code",
   "execution_count": 1,
   "metadata": {},
   "outputs": [
    {
     "name": "stdout",
     "output_type": "stream",
     "text": [
      "c:\\Users\\adame\\OneDrive\\Bureau\\CODE\\BlendingRL\n"
     ]
    }
   ],
   "source": [
    "import sys, os\n",
    "sys.path.append(os.path.dirname(os.path.abspath(os.getcwd())))\n",
    "try:\n",
    "    print(curr_dir)\n",
    "except:\n",
    "    curr_dir = os.path.dirname(os.path.abspath(os.getcwd()))\n",
    "    os.chdir(curr_dir)\n",
    "\n",
    "    print(curr_dir)"
   ]
  },
  {
   "cell_type": "code",
   "execution_count": 2,
   "metadata": {},
   "outputs": [],
   "source": [
    "import omnisafe\n",
    "import torch as th\n",
    "from envs_omni import BlendEnv_Omni\n",
    "from utils import *"
   ]
  },
  {
   "cell_type": "code",
   "execution_count": 3,
   "metadata": {},
   "outputs": [
    {
     "data": {
      "text/plain": [
       "{'seed': 0,\n",
       " 'train_cfgs': {'device': 'cpu',\n",
       "  'torch_threads': 16,\n",
       "  'vector_env_nums': 1,\n",
       "  'parallel': 1,\n",
       "  'total_steps': 1000000},\n",
       " 'algo_cfgs': {'steps_per_epoch': 20000,\n",
       "  'update_iters': 10,\n",
       "  'batch_size': 256,\n",
       "  'target_kl': 0.01,\n",
       "  'entropy_coef': 0.0001,\n",
       "  'reward_normalize': False,\n",
       "  'cost_normalize': False,\n",
       "  'obs_normalize': False,\n",
       "  'kl_early_stop': False,\n",
       "  'use_max_grad_norm': True,\n",
       "  'max_grad_norm': 40.0,\n",
       "  'use_critic_norm': True,\n",
       "  'critic_norm_coef': 0.001,\n",
       "  'gamma': 0.99,\n",
       "  'cost_gamma': 0.99,\n",
       "  'lam': 0.95,\n",
       "  'lam_c': 0.95,\n",
       "  'adv_estimation_method': 'gae',\n",
       "  'standardized_rew_adv': True,\n",
       "  'standardized_cost_adv': True,\n",
       "  'penalty_coef': 0.0,\n",
       "  'use_cost': True,\n",
       "  'cg_damping': 0.1,\n",
       "  'cg_iters': 15,\n",
       "  'fvp_obs': 'None',\n",
       "  'cost_limit': 25,\n",
       "  'fvp_sample_freq': 1},\n",
       " 'logger_cfgs': {'use_wandb': False,\n",
       "  'wandb_project': 'omnisafe',\n",
       "  'use_tensorboard': True,\n",
       "  'save_model_freq': 100,\n",
       "  'log_dir': './logs_os/simple/73-84/73',\n",
       "  'window_lens': 100},\n",
       " 'model_cfgs': {'weight_initialization_mode': 'kaiming_uniform',\n",
       "  'actor_type': 'gaussian_learning',\n",
       "  'linear_lr_decay': True,\n",
       "  'exploration_noise_anneal': False,\n",
       "  'std_range': [0.5, 0.1],\n",
       "  'actor': {'hidden_sizes': [128, 128, 128, 128],\n",
       "   'activation': 'relu',\n",
       "   'lr': None},\n",
       "  'critic': {'hidden_sizes': [128, 128, 128, 128],\n",
       "   'activation': 'relu',\n",
       "   'lr': 0.001}},\n",
       " 'env_cfgs': {'layout': 'simple',\n",
       "  'B': 0,\n",
       "  'D': 1,\n",
       "  'M': 1000,\n",
       "  'P': 0,\n",
       "  'Q': 0,\n",
       "  'Z': 100,\n",
       "  'alpha': 0,\n",
       "  'beta': 0,\n",
       "  'challenging_concentrations': False,\n",
       "  'illeg_act_handling': 'prop',\n",
       "  'max_pen_violations': 999,\n",
       "  'maxflow': 500,\n",
       "  'product_cost': 0,\n",
       "  'uniform_data': True}}"
      ]
     },
     "execution_count": 3,
     "metadata": {},
     "output_type": "execute_result"
    }
   ],
   "source": [
    "layout = \"simple\"\n",
    "ALGO = \"CPO\"\n",
    "cfg = cfg_to_omni(73, layout, total_steps=1e6, algo=ALGO, device=\"cpu\")\n",
    "cfg"
   ]
  },
  {
   "cell_type": "code",
   "execution_count": 4,
   "metadata": {},
   "outputs": [
    {
     "name": "stdout",
     "output_type": "stream",
     "text": [
      "Loading CPO.yaml from c:\\Users\\adame\\OneDrive\\Bureau\\CODE\\BlendingRL\\blendv2\\lib\\site-packages\\omnisafe\\utils\\..\\configs\\on-policy\\CPO.yaml\n"
     ]
    },
    {
     "data": {
      "text/html": [
       "<pre style=\"white-space:pre;overflow-x:auto;line-height:normal;font-family:Menlo,'DejaVu Sans Mono',consolas,'Courier New',monospace\"><span style=\"color: #008080; text-decoration-color: #008080; font-weight: bold\">Logging data to .</span><span style=\"color: #800080; text-decoration-color: #800080; font-weight: bold\">/logs_os/simple/73-84/</span><span style=\"color: #ff00ff; text-decoration-color: #ff00ff; font-weight: bold\">73</span><span style=\"color: #008080; text-decoration-color: #008080; font-weight: bold\">\\CPO-{Blend-simple}\\seed-</span><span style=\"color: #008080; text-decoration-color: #008080; font-weight: bold\">000</span><span style=\"color: #008080; text-decoration-color: #008080; font-weight: bold\">-</span><span style=\"color: #008080; text-decoration-color: #008080; font-weight: bold\">2025</span><span style=\"color: #008080; text-decoration-color: #008080; font-weight: bold\">-</span><span style=\"color: #008080; text-decoration-color: #008080; font-weight: bold\">01</span><span style=\"color: #008080; text-decoration-color: #008080; font-weight: bold\">-</span><span style=\"color: #008080; text-decoration-color: #008080; font-weight: bold\">06</span><span style=\"color: #008080; text-decoration-color: #008080; font-weight: bold\">-</span><span style=\"color: #008080; text-decoration-color: #008080; font-weight: bold\">21</span><span style=\"color: #008080; text-decoration-color: #008080; font-weight: bold\">-</span><span style=\"color: #008080; text-decoration-color: #008080; font-weight: bold\">46</span><span style=\"color: #008080; text-decoration-color: #008080; font-weight: bold\">-</span><span style=\"color: #008080; text-decoration-color: #008080; font-weight: bold\">33</span><span style=\"color: #008080; text-decoration-color: #008080; font-weight: bold\">\\progress.csv</span>\n",
       "</pre>\n"
      ],
      "text/plain": [
       "\u001b[1;36mLogging data to .\u001b[0m\u001b[1;35m/logs_os/simple/73-84/\u001b[0m\u001b[1;95m73\u001b[0m\u001b[1;36m\\CPO-\u001b[0m\u001b[1;36m{\u001b[0m\u001b[1;36mBlend-simple\u001b[0m\u001b[1;36m}\u001b[0m\u001b[1;36m\\seed-\u001b[0m\u001b[1;36m000\u001b[0m\u001b[1;36m-\u001b[0m\u001b[1;36m2025\u001b[0m\u001b[1;36m-\u001b[0m\u001b[1;36m01\u001b[0m\u001b[1;36m-\u001b[0m\u001b[1;36m06\u001b[0m\u001b[1;36m-\u001b[0m\u001b[1;36m21\u001b[0m\u001b[1;36m-\u001b[0m\u001b[1;36m46\u001b[0m\u001b[1;36m-\u001b[0m\u001b[1;36m33\u001b[0m\u001b[1;36m\\progress.csv\u001b[0m\n"
      ]
     },
     "metadata": {},
     "output_type": "display_data"
    },
    {
     "data": {
      "text/html": [
       "<pre style=\"white-space:pre;overflow-x:auto;line-height:normal;font-family:Menlo,'DejaVu Sans Mono',consolas,'Courier New',monospace\"><span style=\"color: #808000; text-decoration-color: #808000; font-weight: bold\">Save with config in config.json</span>\n",
       "</pre>\n"
      ],
      "text/plain": [
       "\u001b[1;33mSave with config in config.json\u001b[0m\n"
      ]
     },
     "metadata": {},
     "output_type": "display_data"
    },
    {
     "data": {
      "text/html": [
       "<pre style=\"white-space:pre;overflow-x:auto;line-height:normal;font-family:Menlo,'DejaVu Sans Mono',consolas,'Courier New',monospace\"><span style=\"color: #008000; text-decoration-color: #008000\">INFO: Start training</span>\n",
       "</pre>\n"
      ],
      "text/plain": [
       "\u001b[32mINFO: Start training\u001b[0m\n"
      ]
     },
     "metadata": {},
     "output_type": "display_data"
    },
    {
     "data": {
      "text/html": [
       "<pre style=\"white-space:pre;overflow-x:auto;line-height:normal;font-family:Menlo,'DejaVu Sans Mono',consolas,'Courier New',monospace\">c:\\Users\\adame\\OneDrive\\Bureau\\CODE\\BlendingRL\\blendv2\\lib\\site-packages\\rich\\live.py:231: UserWarning: install \n",
       "\"ipywidgets\" for Jupyter support\n",
       "  warnings.warn('install \"ipywidgets\" for Jupyter support')\n",
       "</pre>\n"
      ],
      "text/plain": [
       "c:\\Users\\adame\\OneDrive\\Bureau\\CODE\\BlendingRL\\blendv2\\lib\\site-packages\\rich\\live.py:231: UserWarning: install \n",
       "\"ipywidgets\" for Jupyter support\n",
       "  warnings.warn('install \"ipywidgets\" for Jupyter support')\n"
      ]
     },
     "metadata": {},
     "output_type": "display_data"
    },
    {
     "data": {
      "text/html": [
       "<pre style=\"white-space:pre;overflow-x:auto;line-height:normal;font-family:Menlo,'DejaVu Sans Mono',consolas,'Courier New',monospace\"><span style=\"color: #008000; text-decoration-color: #008000\">Warning: trajectory cut off when rollout by epoch at </span><span style=\"color: #008080; text-decoration-color: #008080; font-weight: bold\">2.0</span><span style=\"color: #008000; text-decoration-color: #008000\"> steps.</span>\n",
       "</pre>\n"
      ],
      "text/plain": [
       "\u001b[32mWarning: trajectory cut off when rollout by epoch at \u001b[0m\u001b[1;36m2.0\u001b[0m\u001b[32m steps.\u001b[0m\n"
      ]
     },
     "metadata": {},
     "output_type": "display_data"
    },
    {
     "data": {
      "text/html": [
       "<pre style=\"white-space:pre;overflow-x:auto;line-height:normal;font-family:Menlo,'DejaVu Sans Mono',consolas,'Courier New',monospace\"></pre>\n"
      ],
      "text/plain": []
     },
     "metadata": {},
     "output_type": "display_data"
    },
    {
     "data": {
      "text/html": [
       "<pre style=\"white-space:pre;overflow-x:auto;line-height:normal;font-family:Menlo,'DejaVu Sans Mono',consolas,'Courier New',monospace\"><span style=\"color: #800000; text-decoration-color: #800000\">Alert! Attempting infeasible recovery!</span>\n",
       "</pre>\n"
      ],
      "text/plain": [
       "\u001b[31mAlert! Attempting infeasible recovery!\u001b[0m\n"
      ]
     },
     "metadata": {},
     "output_type": "display_data"
    },
    {
     "data": {
      "text/html": [
       "<pre style=\"white-space:pre;overflow-x:auto;line-height:normal;font-family:Menlo,'DejaVu Sans Mono',consolas,'Courier New',monospace\"><span style=\"color: #008000; text-decoration-color: #008000\">Expected Improvement: </span><span style=\"color: #008080; text-decoration-color: #008080; font-weight: bold\">0.01486322283744812</span><span style=\"color: #008000; text-decoration-color: #008000\"> Actual: </span><span style=\"color: #008080; text-decoration-color: #008080; font-weight: bold\">0.021210066974163055</span>\n",
       "</pre>\n"
      ],
      "text/plain": [
       "\u001b[32mExpected Improvement: \u001b[0m\u001b[1;36m0.01486322283744812\u001b[0m\u001b[32m Actual: \u001b[0m\u001b[1;36m0.021210066974163055\u001b[0m\n"
      ]
     },
     "metadata": {},
     "output_type": "display_data"
    },
    {
     "data": {
      "text/html": [
       "<pre style=\"white-space:pre;overflow-x:auto;line-height:normal;font-family:Menlo,'DejaVu Sans Mono',consolas,'Courier New',monospace\"><span style=\"color: #008000; text-decoration-color: #008000\">Accept step at </span><span style=\"color: #808000; text-decoration-color: #808000\">i</span><span style=\"color: #008000; text-decoration-color: #008000\">=</span><span style=\"color: #008080; text-decoration-color: #008080; font-weight: bold\">1</span>\n",
       "</pre>\n"
      ],
      "text/plain": [
       "\u001b[32mAccept step at \u001b[0m\u001b[33mi\u001b[0m\u001b[32m=\u001b[0m\u001b[1;36m1\u001b[0m\n"
      ]
     },
     "metadata": {},
     "output_type": "display_data"
    },
    {
     "data": {
      "text/html": [
       "<pre style=\"white-space:pre;overflow-x:auto;line-height:normal;font-family:Menlo,'DejaVu Sans Mono',consolas,'Courier New',monospace\">┏━━━━━━━━━━━━━━━━━━━━━━━━━━━━━━━┳━━━━━━━━━━━━━━━━━━━━━━━━┓\n",
       "┃<span style=\"font-weight: bold\"> Metrics                       </span>┃<span style=\"font-weight: bold\"> Value                  </span>┃\n",
       "┡━━━━━━━━━━━━━━━━━━━━━━━━━━━━━━━╇━━━━━━━━━━━━━━━━━━━━━━━━┩\n",
       "│ Metrics/EpRet                 │ 22.30295181274414      │\n",
       "│ Metrics/EpCost                │ 5751.638671875         │\n",
       "│ Metrics/EpLen                 │ 6.0                    │\n",
       "│ Train/Epoch                   │ 0.0                    │\n",
       "│ Train/Entropy                 │ 1.4198722839355469     │\n",
       "│ Train/KL                      │ 0.00024007151660043746 │\n",
       "│ Train/StopIter                │ 10.0                   │\n",
       "│ Train/PolicyRatio/Mean        │ 0.9955736994743347     │\n",
       "│ Train/PolicyRatio/Min         │ 0.9955736994743347     │\n",
       "│ Train/PolicyRatio/Max         │ 0.9955736994743347     │\n",
       "│ Train/PolicyRatio/Std         │ 0.0031299092806875706  │\n",
       "│ Train/LR                      │ 0.0                    │\n",
       "│ Train/PolicyStd               │ 1.000997543334961      │\n",
       "│ TotalEnvSteps                 │ 20000.0                │\n",
       "│ Loss/Loss_pi                  │ -21.040058135986328    │\n",
       "│ Loss/Loss_pi/Delta            │ -21.040058135986328    │\n",
       "│ Value/Adv                     │ -4.005432074905002e-08 │\n",
       "│ Loss/Loss_reward_critic       │ 2401.000244140625      │\n",
       "│ Loss/Loss_reward_critic/Delta │ 2401.000244140625      │\n",
       "│ Value/reward                  │ -0.07542748749256134   │\n",
       "│ Loss/Loss_cost_critic         │ 619993.125             │\n",
       "│ Loss/Loss_cost_critic/Delta   │ 619993.125             │\n",
       "│ Value/cost                    │ 0.11390732228755951    │\n",
       "│ Time/Total                    │ 59.62889099121094      │\n",
       "│ Time/Rollout                  │ 35.57818603515625      │\n",
       "│ Time/Update                   │ 24.048810958862305     │\n",
       "│ Time/Epoch                    │ 59.62699508666992      │\n",
       "│ Time/FPS                      │ 335.4185485839844      │\n",
       "│ Env/Success_counts            │ nan                    │\n",
       "│ Misc/Alpha                    │ 0.1920643448829651     │\n",
       "│ Misc/FinalStepNorm            │ 0.18931035697460175    │\n",
       "│ Misc/gradient_norm            │ 0.8402309417724609     │\n",
       "│ Misc/xHx                      │ 0.5421712398529053     │\n",
       "│ Misc/H_inv_g                  │ 1.1145886182785034     │\n",
       "│ Misc/AcceptanceStep           │ 1.0                    │\n",
       "│ Misc/cost_gradient_norm       │ 800.9876098632812      │\n",
       "│ Misc/A                        │ 0.5311254858970642     │\n",
       "│ Misc/B                        │ -76.05963134765625     │\n",
       "│ Misc/q                        │ 0.5421712398529053     │\n",
       "│ Misc/r                        │ -69.0022964477539      │\n",
       "│ Misc/s                        │ 431053.5               │\n",
       "│ Misc/Lambda_star              │ 0.0                    │\n",
       "│ Misc/Nu_star                  │ 0.0002154018438886851  │\n",
       "│ Misc/OptimCase                │ 0.0                    │\n",
       "└───────────────────────────────┴────────────────────────┘\n",
       "</pre>\n"
      ],
      "text/plain": [
       "┏━━━━━━━━━━━━━━━━━━━━━━━━━━━━━━━┳━━━━━━━━━━━━━━━━━━━━━━━━┓\n",
       "┃\u001b[1m \u001b[0m\u001b[1mMetrics                      \u001b[0m\u001b[1m \u001b[0m┃\u001b[1m \u001b[0m\u001b[1mValue                 \u001b[0m\u001b[1m \u001b[0m┃\n",
       "┡━━━━━━━━━━━━━━━━━━━━━━━━━━━━━━━╇━━━━━━━━━━━━━━━━━━━━━━━━┩\n",
       "│ Metrics/EpRet                 │ 22.30295181274414      │\n",
       "│ Metrics/EpCost                │ 5751.638671875         │\n",
       "│ Metrics/EpLen                 │ 6.0                    │\n",
       "│ Train/Epoch                   │ 0.0                    │\n",
       "│ Train/Entropy                 │ 1.4198722839355469     │\n",
       "│ Train/KL                      │ 0.00024007151660043746 │\n",
       "│ Train/StopIter                │ 10.0                   │\n",
       "│ Train/PolicyRatio/Mean        │ 0.9955736994743347     │\n",
       "│ Train/PolicyRatio/Min         │ 0.9955736994743347     │\n",
       "│ Train/PolicyRatio/Max         │ 0.9955736994743347     │\n",
       "│ Train/PolicyRatio/Std         │ 0.0031299092806875706  │\n",
       "│ Train/LR                      │ 0.0                    │\n",
       "│ Train/PolicyStd               │ 1.000997543334961      │\n",
       "│ TotalEnvSteps                 │ 20000.0                │\n",
       "│ Loss/Loss_pi                  │ -21.040058135986328    │\n",
       "│ Loss/Loss_pi/Delta            │ -21.040058135986328    │\n",
       "│ Value/Adv                     │ -4.005432074905002e-08 │\n",
       "│ Loss/Loss_reward_critic       │ 2401.000244140625      │\n",
       "│ Loss/Loss_reward_critic/Delta │ 2401.000244140625      │\n",
       "│ Value/reward                  │ -0.07542748749256134   │\n",
       "│ Loss/Loss_cost_critic         │ 619993.125             │\n",
       "│ Loss/Loss_cost_critic/Delta   │ 619993.125             │\n",
       "│ Value/cost                    │ 0.11390732228755951    │\n",
       "│ Time/Total                    │ 59.62889099121094      │\n",
       "│ Time/Rollout                  │ 35.57818603515625      │\n",
       "│ Time/Update                   │ 24.048810958862305     │\n",
       "│ Time/Epoch                    │ 59.62699508666992      │\n",
       "│ Time/FPS                      │ 335.4185485839844      │\n",
       "│ Env/Success_counts            │ nan                    │\n",
       "│ Misc/Alpha                    │ 0.1920643448829651     │\n",
       "│ Misc/FinalStepNorm            │ 0.18931035697460175    │\n",
       "│ Misc/gradient_norm            │ 0.8402309417724609     │\n",
       "│ Misc/xHx                      │ 0.5421712398529053     │\n",
       "│ Misc/H_inv_g                  │ 1.1145886182785034     │\n",
       "│ Misc/AcceptanceStep           │ 1.0                    │\n",
       "│ Misc/cost_gradient_norm       │ 800.9876098632812      │\n",
       "│ Misc/A                        │ 0.5311254858970642     │\n",
       "│ Misc/B                        │ -76.05963134765625     │\n",
       "│ Misc/q                        │ 0.5421712398529053     │\n",
       "│ Misc/r                        │ -69.0022964477539      │\n",
       "│ Misc/s                        │ 431053.5               │\n",
       "│ Misc/Lambda_star              │ 0.0                    │\n",
       "│ Misc/Nu_star                  │ 0.0002154018438886851  │\n",
       "│ Misc/OptimCase                │ 0.0                    │\n",
       "└───────────────────────────────┴────────────────────────┘\n"
      ]
     },
     "metadata": {},
     "output_type": "display_data"
    },
    {
     "data": {
      "text/html": [
       "<pre style=\"white-space:pre;overflow-x:auto;line-height:normal;font-family:Menlo,'DejaVu Sans Mono',consolas,'Courier New',monospace\"><span style=\"color: #008000; text-decoration-color: #008000\">Warning: trajectory cut off when rollout by epoch at </span><span style=\"color: #008080; text-decoration-color: #008080; font-weight: bold\">2.0</span><span style=\"color: #008000; text-decoration-color: #008000\"> steps.</span>\n",
       "</pre>\n"
      ],
      "text/plain": [
       "\u001b[32mWarning: trajectory cut off when rollout by epoch at \u001b[0m\u001b[1;36m2.0\u001b[0m\u001b[32m steps.\u001b[0m\n"
      ]
     },
     "metadata": {},
     "output_type": "display_data"
    },
    {
     "data": {
      "text/html": [
       "<pre style=\"white-space:pre;overflow-x:auto;line-height:normal;font-family:Menlo,'DejaVu Sans Mono',consolas,'Courier New',monospace\"></pre>\n"
      ],
      "text/plain": []
     },
     "metadata": {},
     "output_type": "display_data"
    },
    {
     "data": {
      "text/html": [
       "<pre style=\"white-space:pre;overflow-x:auto;line-height:normal;font-family:Menlo,'DejaVu Sans Mono',consolas,'Courier New',monospace\"><span style=\"color: #800000; text-decoration-color: #800000\">Alert! Attempting infeasible recovery!</span>\n",
       "</pre>\n"
      ],
      "text/plain": [
       "\u001b[31mAlert! Attempting infeasible recovery!\u001b[0m\n"
      ]
     },
     "metadata": {},
     "output_type": "display_data"
    },
    {
     "data": {
      "text/html": [
       "<pre style=\"white-space:pre;overflow-x:auto;line-height:normal;font-family:Menlo,'DejaVu Sans Mono',consolas,'Courier New',monospace\"><span style=\"color: #008000; text-decoration-color: #008000\">Expected Improvement: </span><span style=\"color: #008080; text-decoration-color: #008080; font-weight: bold\">0.037677567452192307</span><span style=\"color: #008000; text-decoration-color: #008000\"> Actual: </span><span style=\"color: #008080; text-decoration-color: #008080; font-weight: bold\">0.04943396523594856</span>\n",
       "</pre>\n"
      ],
      "text/plain": [
       "\u001b[32mExpected Improvement: \u001b[0m\u001b[1;36m0.037677567452192307\u001b[0m\u001b[32m Actual: \u001b[0m\u001b[1;36m0.04943396523594856\u001b[0m\n"
      ]
     },
     "metadata": {},
     "output_type": "display_data"
    },
    {
     "data": {
      "text/html": [
       "<pre style=\"white-space:pre;overflow-x:auto;line-height:normal;font-family:Menlo,'DejaVu Sans Mono',consolas,'Courier New',monospace\"><span style=\"color: #008000; text-decoration-color: #008000\">INFO: violated KL constraint </span><span style=\"color: #008080; text-decoration-color: #008080; font-weight: bold\">0.01125611923635006</span><span style=\"color: #008000; text-decoration-color: #008000\"> at step </span><span style=\"color: #008080; text-decoration-color: #008080; font-weight: bold\">1</span><span style=\"color: #008000; text-decoration-color: #008000\">.</span>\n",
       "</pre>\n"
      ],
      "text/plain": [
       "\u001b[32mINFO: violated KL constraint \u001b[0m\u001b[1;36m0.01125611923635006\u001b[0m\u001b[32m at step \u001b[0m\u001b[1;36m1\u001b[0m\u001b[32m.\u001b[0m\n"
      ]
     },
     "metadata": {},
     "output_type": "display_data"
    },
    {
     "data": {
      "text/html": [
       "<pre style=\"white-space:pre;overflow-x:auto;line-height:normal;font-family:Menlo,'DejaVu Sans Mono',consolas,'Courier New',monospace\"><span style=\"color: #008000; text-decoration-color: #008000\">Expected Improvement: </span><span style=\"color: #008080; text-decoration-color: #008080; font-weight: bold\">0.037677567452192307</span><span style=\"color: #008000; text-decoration-color: #008000\"> Actual: </span><span style=\"color: #008080; text-decoration-color: #008080; font-weight: bold\">0.03740997239947319</span>\n",
       "</pre>\n"
      ],
      "text/plain": [
       "\u001b[32mExpected Improvement: \u001b[0m\u001b[1;36m0.037677567452192307\u001b[0m\u001b[32m Actual: \u001b[0m\u001b[1;36m0.03740997239947319\u001b[0m\n"
      ]
     },
     "metadata": {},
     "output_type": "display_data"
    },
    {
     "data": {
      "text/html": [
       "<pre style=\"white-space:pre;overflow-x:auto;line-height:normal;font-family:Menlo,'DejaVu Sans Mono',consolas,'Courier New',monospace\"><span style=\"color: #008000; text-decoration-color: #008000\">Accept step at </span><span style=\"color: #808000; text-decoration-color: #808000\">i</span><span style=\"color: #008000; text-decoration-color: #008000\">=</span><span style=\"color: #008080; text-decoration-color: #008080; font-weight: bold\">2</span>\n",
       "</pre>\n"
      ],
      "text/plain": [
       "\u001b[32mAccept step at \u001b[0m\u001b[33mi\u001b[0m\u001b[32m=\u001b[0m\u001b[1;36m2\u001b[0m\n"
      ]
     },
     "metadata": {},
     "output_type": "display_data"
    },
    {
     "data": {
      "text/html": [
       "<pre style=\"white-space:pre;overflow-x:auto;line-height:normal;font-family:Menlo,'DejaVu Sans Mono',consolas,'Courier New',monospace\">┏━━━━━━━━━━━━━━━━━━━━━━━━━━━━━━━┳━━━━━━━━━━━━━━━━━━━━━━━━┓\n",
       "┃<span style=\"font-weight: bold\"> Metrics                       </span>┃<span style=\"font-weight: bold\"> Value                  </span>┃\n",
       "┡━━━━━━━━━━━━━━━━━━━━━━━━━━━━━━━╇━━━━━━━━━━━━━━━━━━━━━━━━┩\n",
       "│ Metrics/EpRet                 │ 89.29351806640625      │\n",
       "│ Metrics/EpCost                │ 5256.263671875         │\n",
       "│ Metrics/EpLen                 │ 6.0                    │\n",
       "│ Train/Epoch                   │ 1.0                    │\n",
       "│ Train/Entropy                 │ 1.4196903705596924     │\n",
       "│ Train/KL                      │ 0.00020022469107061625 │\n",
       "│ Train/StopIter                │ 10.0                   │\n",
       "│ Train/PolicyRatio/Mean        │ 0.9978036880493164     │\n",
       "│ Train/PolicyRatio/Min         │ 0.9978036880493164     │\n",
       "│ Train/PolicyRatio/Max         │ 0.9978036880493164     │\n",
       "│ Train/PolicyRatio/Std         │ 0.0012774572242051363  │\n",
       "│ Train/LR                      │ 0.0                    │\n",
       "│ Train/PolicyStd               │ 1.0008783340454102     │\n",
       "│ TotalEnvSteps                 │ 40000.0                │\n",
       "│ Loss/Loss_pi                  │ -13.716120719909668    │\n",
       "│ Loss/Loss_pi/Delta            │ 7.32393741607666       │\n",
       "│ Value/Adv                     │ 1.602172794434864e-08  │\n",
       "│ Loss/Loss_reward_critic       │ 3458.007080078125      │\n",
       "│ Loss/Loss_reward_critic/Delta │ 1057.0068359375        │\n",
       "│ Value/reward                  │ 34.787635803222656     │\n",
       "│ Loss/Loss_cost_critic         │ 71434.1953125          │\n",
       "│ Loss/Loss_cost_critic/Delta   │ -548558.9296875        │\n",
       "│ Value/cost                    │ 2984.5                 │\n",
       "│ Time/Total                    │ 116.69719696044922     │\n",
       "│ Time/Rollout                  │ 30.99193000793457      │\n",
       "│ Time/Update                   │ 26.025266647338867     │\n",
       "│ Time/Epoch                    │ 57.01719665527344      │\n",
       "│ Time/FPS                      │ 350.7713623046875      │\n",
       "│ Env/Success_counts            │ nan                    │\n",
       "│ Misc/Alpha                    │ 0.11862677335739136    │\n",
       "│ Misc/FinalStepNorm            │ 0.13309504091739655    │\n",
       "│ Misc/gradient_norm            │ 1.5069243907928467     │\n",
       "│ Misc/xHx                      │ 1.4212305545806885     │\n",
       "│ Misc/H_inv_g                  │ 1.370462417602539      │\n",
       "│ Misc/AcceptanceStep           │ 2.0                    │\n",
       "│ Misc/cost_gradient_norm       │ 736.404541015625       │\n",
       "│ Misc/A                        │ 1.3502506017684937     │\n",
       "│ Misc/B                        │ -92.65998840332031     │\n",
       "│ Misc/q                        │ 1.4212305545806885     │\n",
       "│ Misc/r                        │ -144.77096557617188    │\n",
       "│ Misc/s                        │ 295275.40625           │\n",
       "│ Misc/Lambda_star              │ 0.0                    │\n",
       "│ Misc/Nu_star                  │ 0.0002602563763502985  │\n",
       "│ Misc/OptimCase                │ 0.0                    │\n",
       "└───────────────────────────────┴────────────────────────┘\n",
       "</pre>\n"
      ],
      "text/plain": [
       "┏━━━━━━━━━━━━━━━━━━━━━━━━━━━━━━━┳━━━━━━━━━━━━━━━━━━━━━━━━┓\n",
       "┃\u001b[1m \u001b[0m\u001b[1mMetrics                      \u001b[0m\u001b[1m \u001b[0m┃\u001b[1m \u001b[0m\u001b[1mValue                 \u001b[0m\u001b[1m \u001b[0m┃\n",
       "┡━━━━━━━━━━━━━━━━━━━━━━━━━━━━━━━╇━━━━━━━━━━━━━━━━━━━━━━━━┩\n",
       "│ Metrics/EpRet                 │ 89.29351806640625      │\n",
       "│ Metrics/EpCost                │ 5256.263671875         │\n",
       "│ Metrics/EpLen                 │ 6.0                    │\n",
       "│ Train/Epoch                   │ 1.0                    │\n",
       "│ Train/Entropy                 │ 1.4196903705596924     │\n",
       "│ Train/KL                      │ 0.00020022469107061625 │\n",
       "│ Train/StopIter                │ 10.0                   │\n",
       "│ Train/PolicyRatio/Mean        │ 0.9978036880493164     │\n",
       "│ Train/PolicyRatio/Min         │ 0.9978036880493164     │\n",
       "│ Train/PolicyRatio/Max         │ 0.9978036880493164     │\n",
       "│ Train/PolicyRatio/Std         │ 0.0012774572242051363  │\n",
       "│ Train/LR                      │ 0.0                    │\n",
       "│ Train/PolicyStd               │ 1.0008783340454102     │\n",
       "│ TotalEnvSteps                 │ 40000.0                │\n",
       "│ Loss/Loss_pi                  │ -13.716120719909668    │\n",
       "│ Loss/Loss_pi/Delta            │ 7.32393741607666       │\n",
       "│ Value/Adv                     │ 1.602172794434864e-08  │\n",
       "│ Loss/Loss_reward_critic       │ 3458.007080078125      │\n",
       "│ Loss/Loss_reward_critic/Delta │ 1057.0068359375        │\n",
       "│ Value/reward                  │ 34.787635803222656     │\n",
       "│ Loss/Loss_cost_critic         │ 71434.1953125          │\n",
       "│ Loss/Loss_cost_critic/Delta   │ -548558.9296875        │\n",
       "│ Value/cost                    │ 2984.5                 │\n",
       "│ Time/Total                    │ 116.69719696044922     │\n",
       "│ Time/Rollout                  │ 30.99193000793457      │\n",
       "│ Time/Update                   │ 26.025266647338867     │\n",
       "│ Time/Epoch                    │ 57.01719665527344      │\n",
       "│ Time/FPS                      │ 350.7713623046875      │\n",
       "│ Env/Success_counts            │ nan                    │\n",
       "│ Misc/Alpha                    │ 0.11862677335739136    │\n",
       "│ Misc/FinalStepNorm            │ 0.13309504091739655    │\n",
       "│ Misc/gradient_norm            │ 1.5069243907928467     │\n",
       "│ Misc/xHx                      │ 1.4212305545806885     │\n",
       "│ Misc/H_inv_g                  │ 1.370462417602539      │\n",
       "│ Misc/AcceptanceStep           │ 2.0                    │\n",
       "│ Misc/cost_gradient_norm       │ 736.404541015625       │\n",
       "│ Misc/A                        │ 1.3502506017684937     │\n",
       "│ Misc/B                        │ -92.65998840332031     │\n",
       "│ Misc/q                        │ 1.4212305545806885     │\n",
       "│ Misc/r                        │ -144.77096557617188    │\n",
       "│ Misc/s                        │ 295275.40625           │\n",
       "│ Misc/Lambda_star              │ 0.0                    │\n",
       "│ Misc/Nu_star                  │ 0.0002602563763502985  │\n",
       "│ Misc/OptimCase                │ 0.0                    │\n",
       "└───────────────────────────────┴────────────────────────┘\n"
      ]
     },
     "metadata": {},
     "output_type": "display_data"
    },
    {
     "data": {
      "text/html": [
       "<pre style=\"white-space:pre;overflow-x:auto;line-height:normal;font-family:Menlo,'DejaVu Sans Mono',consolas,'Courier New',monospace\"><span style=\"color: #008000; text-decoration-color: #008000\">Warning: trajectory cut off when rollout by epoch at </span><span style=\"color: #008080; text-decoration-color: #008080; font-weight: bold\">2.0</span><span style=\"color: #008000; text-decoration-color: #008000\"> steps.</span>\n",
       "</pre>\n"
      ],
      "text/plain": [
       "\u001b[32mWarning: trajectory cut off when rollout by epoch at \u001b[0m\u001b[1;36m2.0\u001b[0m\u001b[32m steps.\u001b[0m\n"
      ]
     },
     "metadata": {},
     "output_type": "display_data"
    },
    {
     "data": {
      "text/html": [
       "<pre style=\"white-space:pre;overflow-x:auto;line-height:normal;font-family:Menlo,'DejaVu Sans Mono',consolas,'Courier New',monospace\"></pre>\n"
      ],
      "text/plain": []
     },
     "metadata": {},
     "output_type": "display_data"
    },
    {
     "data": {
      "text/html": [
       "<pre style=\"white-space:pre;overflow-x:auto;line-height:normal;font-family:Menlo,'DejaVu Sans Mono',consolas,'Courier New',monospace\"><span style=\"color: #800000; text-decoration-color: #800000\">Alert! Attempting infeasible recovery!</span>\n",
       "</pre>\n"
      ],
      "text/plain": [
       "\u001b[31mAlert! Attempting infeasible recovery!\u001b[0m\n"
      ]
     },
     "metadata": {},
     "output_type": "display_data"
    },
    {
     "data": {
      "text/html": [
       "<pre style=\"white-space:pre;overflow-x:auto;line-height:normal;font-family:Menlo,'DejaVu Sans Mono',consolas,'Courier New',monospace\"><span style=\"color: #008000; text-decoration-color: #008000\">Expected Improvement: </span><span style=\"color: #008080; text-decoration-color: #008080; font-weight: bold\">0.02454373985528946</span><span style=\"color: #008000; text-decoration-color: #008000\"> Actual: </span><span style=\"color: #008080; text-decoration-color: #008080; font-weight: bold\">0.029948366805911064</span>\n",
       "</pre>\n"
      ],
      "text/plain": [
       "\u001b[32mExpected Improvement: \u001b[0m\u001b[1;36m0.02454373985528946\u001b[0m\u001b[32m Actual: \u001b[0m\u001b[1;36m0.029948366805911064\u001b[0m\n"
      ]
     },
     "metadata": {},
     "output_type": "display_data"
    },
    {
     "data": {
      "text/html": [
       "<pre style=\"white-space:pre;overflow-x:auto;line-height:normal;font-family:Menlo,'DejaVu Sans Mono',consolas,'Courier New',monospace\"><span style=\"color: #008000; text-decoration-color: #008000\">INFO: violated KL constraint </span><span style=\"color: #008080; text-decoration-color: #008080; font-weight: bold\">0.011916646733880043</span><span style=\"color: #008000; text-decoration-color: #008000\"> at step </span><span style=\"color: #008080; text-decoration-color: #008080; font-weight: bold\">1</span><span style=\"color: #008000; text-decoration-color: #008000\">.</span>\n",
       "</pre>\n"
      ],
      "text/plain": [
       "\u001b[32mINFO: violated KL constraint \u001b[0m\u001b[1;36m0.011916646733880043\u001b[0m\u001b[32m at step \u001b[0m\u001b[1;36m1\u001b[0m\u001b[32m.\u001b[0m\n"
      ]
     },
     "metadata": {},
     "output_type": "display_data"
    },
    {
     "data": {
      "text/html": [
       "<pre style=\"white-space:pre;overflow-x:auto;line-height:normal;font-family:Menlo,'DejaVu Sans Mono',consolas,'Courier New',monospace\"><span style=\"color: #008000; text-decoration-color: #008000\">Expected Improvement: </span><span style=\"color: #008080; text-decoration-color: #008080; font-weight: bold\">0.02454373985528946</span><span style=\"color: #008000; text-decoration-color: #008000\"> Actual: </span><span style=\"color: #008080; text-decoration-color: #008080; font-weight: bold\">0.023321542888879776</span>\n",
       "</pre>\n"
      ],
      "text/plain": [
       "\u001b[32mExpected Improvement: \u001b[0m\u001b[1;36m0.02454373985528946\u001b[0m\u001b[32m Actual: \u001b[0m\u001b[1;36m0.023321542888879776\u001b[0m\n"
      ]
     },
     "metadata": {},
     "output_type": "display_data"
    },
    {
     "data": {
      "text/html": [
       "<pre style=\"white-space:pre;overflow-x:auto;line-height:normal;font-family:Menlo,'DejaVu Sans Mono',consolas,'Courier New',monospace\"><span style=\"color: #008000; text-decoration-color: #008000\">Accept step at </span><span style=\"color: #808000; text-decoration-color: #808000\">i</span><span style=\"color: #008000; text-decoration-color: #008000\">=</span><span style=\"color: #008080; text-decoration-color: #008080; font-weight: bold\">2</span>\n",
       "</pre>\n"
      ],
      "text/plain": [
       "\u001b[32mAccept step at \u001b[0m\u001b[33mi\u001b[0m\u001b[32m=\u001b[0m\u001b[1;36m2\u001b[0m\n"
      ]
     },
     "metadata": {},
     "output_type": "display_data"
    },
    {
     "data": {
      "text/html": [
       "<pre style=\"white-space:pre;overflow-x:auto;line-height:normal;font-family:Menlo,'DejaVu Sans Mono',consolas,'Courier New',monospace\">┏━━━━━━━━━━━━━━━━━━━━━━━━━━━━━━━┳━━━━━━━━━━━━━━━━━━━━━━━━┓\n",
       "┃<span style=\"font-weight: bold\"> Metrics                       </span>┃<span style=\"font-weight: bold\"> Value                  </span>┃\n",
       "┡━━━━━━━━━━━━━━━━━━━━━━━━━━━━━━━╇━━━━━━━━━━━━━━━━━━━━━━━━┩\n",
       "│ Metrics/EpRet                 │ 92.38056945800781      │\n",
       "│ Metrics/EpCost                │ 4818.1142578125        │\n",
       "│ Metrics/EpLen                 │ 6.0                    │\n",
       "│ Train/Epoch                   │ 2.0                    │\n",
       "│ Train/Entropy                 │ 1.416505217552185      │\n",
       "│ Train/KL                      │ 0.0002116713731084019  │\n",
       "│ Train/StopIter                │ 10.0                   │\n",
       "│ Train/PolicyRatio/Mean        │ 0.997249186038971      │\n",
       "│ Train/PolicyRatio/Min         │ 0.997249186038971      │\n",
       "│ Train/PolicyRatio/Max         │ 0.997249186038971      │\n",
       "│ Train/PolicyRatio/Std         │ 0.0018117352155968547  │\n",
       "│ Train/LR                      │ 0.0                    │\n",
       "│ Train/PolicyStd               │ 0.997744083404541      │\n",
       "│ TotalEnvSteps                 │ 60000.0                │\n",
       "│ Loss/Loss_pi                  │ -13.753338813781738    │\n",
       "│ Loss/Loss_pi/Delta            │ -0.03721809387207031   │\n",
       "│ Value/Adv                     │ -4.577636936176077e-09 │\n",
       "│ Loss/Loss_reward_critic       │ 4085.978515625         │\n",
       "│ Loss/Loss_reward_critic/Delta │ 627.971435546875       │\n",
       "│ Value/reward                  │ 48.808170318603516     │\n",
       "│ Loss/Loss_cost_critic         │ 69770.921875           │\n",
       "│ Loss/Loss_cost_critic/Delta   │ -1663.2734375          │\n",
       "│ Value/cost                    │ 3113.8779296875        │\n",
       "│ Time/Total                    │ 173.19210815429688     │\n",
       "│ Time/Rollout                  │ 29.42110824584961      │\n",
       "│ Time/Update                   │ 27.025693893432617     │\n",
       "│ Time/Epoch                    │ 56.446800231933594     │\n",
       "│ Time/FPS                      │ 354.31591796875        │\n",
       "│ Env/Success_counts            │ nan                    │\n",
       "│ Misc/Alpha                    │ 0.12824007868766785    │\n",
       "│ Misc/FinalStepNorm            │ 0.11689525097608566    │\n",
       "│ Misc/gradient_norm            │ 1.552593469619751      │\n",
       "│ Misc/xHx                      │ 1.2161368131637573     │\n",
       "│ Misc/H_inv_g                  │ 1.2795947790145874     │\n",
       "│ Misc/AcceptanceStep           │ 2.0                    │\n",
       "│ Misc/cost_gradient_norm       │ 903.9611206054688      │\n",
       "│ Misc/A                        │ 1.1860170364379883     │\n",
       "│ Misc/B                        │ -77.75367736816406     │\n",
       "│ Misc/q                        │ 1.2161368131637573     │\n",
       "│ Misc/r                        │ -94.32508850097656     │\n",
       "│ Misc/s                        │ 295394.875             │\n",
       "│ Misc/Lambda_star              │ 0.0                    │\n",
       "│ Misc/Nu_star                  │ 0.0002602037275210023  │\n",
       "│ Misc/OptimCase                │ 0.0                    │\n",
       "└───────────────────────────────┴────────────────────────┘\n",
       "</pre>\n"
      ],
      "text/plain": [
       "┏━━━━━━━━━━━━━━━━━━━━━━━━━━━━━━━┳━━━━━━━━━━━━━━━━━━━━━━━━┓\n",
       "┃\u001b[1m \u001b[0m\u001b[1mMetrics                      \u001b[0m\u001b[1m \u001b[0m┃\u001b[1m \u001b[0m\u001b[1mValue                 \u001b[0m\u001b[1m \u001b[0m┃\n",
       "┡━━━━━━━━━━━━━━━━━━━━━━━━━━━━━━━╇━━━━━━━━━━━━━━━━━━━━━━━━┩\n",
       "│ Metrics/EpRet                 │ 92.38056945800781      │\n",
       "│ Metrics/EpCost                │ 4818.1142578125        │\n",
       "│ Metrics/EpLen                 │ 6.0                    │\n",
       "│ Train/Epoch                   │ 2.0                    │\n",
       "│ Train/Entropy                 │ 1.416505217552185      │\n",
       "│ Train/KL                      │ 0.0002116713731084019  │\n",
       "│ Train/StopIter                │ 10.0                   │\n",
       "│ Train/PolicyRatio/Mean        │ 0.997249186038971      │\n",
       "│ Train/PolicyRatio/Min         │ 0.997249186038971      │\n",
       "│ Train/PolicyRatio/Max         │ 0.997249186038971      │\n",
       "│ Train/PolicyRatio/Std         │ 0.0018117352155968547  │\n",
       "│ Train/LR                      │ 0.0                    │\n",
       "│ Train/PolicyStd               │ 0.997744083404541      │\n",
       "│ TotalEnvSteps                 │ 60000.0                │\n",
       "│ Loss/Loss_pi                  │ -13.753338813781738    │\n",
       "│ Loss/Loss_pi/Delta            │ -0.03721809387207031   │\n",
       "│ Value/Adv                     │ -4.577636936176077e-09 │\n",
       "│ Loss/Loss_reward_critic       │ 4085.978515625         │\n",
       "│ Loss/Loss_reward_critic/Delta │ 627.971435546875       │\n",
       "│ Value/reward                  │ 48.808170318603516     │\n",
       "│ Loss/Loss_cost_critic         │ 69770.921875           │\n",
       "│ Loss/Loss_cost_critic/Delta   │ -1663.2734375          │\n",
       "│ Value/cost                    │ 3113.8779296875        │\n",
       "│ Time/Total                    │ 173.19210815429688     │\n",
       "│ Time/Rollout                  │ 29.42110824584961      │\n",
       "│ Time/Update                   │ 27.025693893432617     │\n",
       "│ Time/Epoch                    │ 56.446800231933594     │\n",
       "│ Time/FPS                      │ 354.31591796875        │\n",
       "│ Env/Success_counts            │ nan                    │\n",
       "│ Misc/Alpha                    │ 0.12824007868766785    │\n",
       "│ Misc/FinalStepNorm            │ 0.11689525097608566    │\n",
       "│ Misc/gradient_norm            │ 1.552593469619751      │\n",
       "│ Misc/xHx                      │ 1.2161368131637573     │\n",
       "│ Misc/H_inv_g                  │ 1.2795947790145874     │\n",
       "│ Misc/AcceptanceStep           │ 2.0                    │\n",
       "│ Misc/cost_gradient_norm       │ 903.9611206054688      │\n",
       "│ Misc/A                        │ 1.1860170364379883     │\n",
       "│ Misc/B                        │ -77.75367736816406     │\n",
       "│ Misc/q                        │ 1.2161368131637573     │\n",
       "│ Misc/r                        │ -94.32508850097656     │\n",
       "│ Misc/s                        │ 295394.875             │\n",
       "│ Misc/Lambda_star              │ 0.0                    │\n",
       "│ Misc/Nu_star                  │ 0.0002602037275210023  │\n",
       "│ Misc/OptimCase                │ 0.0                    │\n",
       "└───────────────────────────────┴────────────────────────┘\n"
      ]
     },
     "metadata": {},
     "output_type": "display_data"
    },
    {
     "data": {
      "text/html": [
       "<pre style=\"white-space:pre;overflow-x:auto;line-height:normal;font-family:Menlo,'DejaVu Sans Mono',consolas,'Courier New',monospace\"><span style=\"color: #008000; text-decoration-color: #008000\">Warning: trajectory cut off when rollout by epoch at </span><span style=\"color: #008080; text-decoration-color: #008080; font-weight: bold\">2.0</span><span style=\"color: #008000; text-decoration-color: #008000\"> steps.</span>\n",
       "</pre>\n"
      ],
      "text/plain": [
       "\u001b[32mWarning: trajectory cut off when rollout by epoch at \u001b[0m\u001b[1;36m2.0\u001b[0m\u001b[32m steps.\u001b[0m\n"
      ]
     },
     "metadata": {},
     "output_type": "display_data"
    },
    {
     "data": {
      "text/html": [
       "<pre style=\"white-space:pre;overflow-x:auto;line-height:normal;font-family:Menlo,'DejaVu Sans Mono',consolas,'Courier New',monospace\"></pre>\n"
      ],
      "text/plain": []
     },
     "metadata": {},
     "output_type": "display_data"
    },
    {
     "data": {
      "text/html": [
       "<pre style=\"white-space:pre;overflow-x:auto;line-height:normal;font-family:Menlo,'DejaVu Sans Mono',consolas,'Courier New',monospace\"><span style=\"color: #800000; text-decoration-color: #800000\">Alert! Attempting infeasible recovery!</span>\n",
       "</pre>\n"
      ],
      "text/plain": [
       "\u001b[31mAlert! Attempting infeasible recovery!\u001b[0m\n"
      ]
     },
     "metadata": {},
     "output_type": "display_data"
    },
    {
     "data": {
      "text/html": [
       "<pre style=\"white-space:pre;overflow-x:auto;line-height:normal;font-family:Menlo,'DejaVu Sans Mono',consolas,'Courier New',monospace\"><span style=\"color: #008000; text-decoration-color: #008000\">Expected Improvement: </span><span style=\"color: #008080; text-decoration-color: #008080; font-weight: bold\">0.02385905385017395</span><span style=\"color: #008000; text-decoration-color: #008000\"> Actual: </span><span style=\"color: #008080; text-decoration-color: #008080; font-weight: bold\">0.031137820333242416</span>\n",
       "</pre>\n"
      ],
      "text/plain": [
       "\u001b[32mExpected Improvement: \u001b[0m\u001b[1;36m0.02385905385017395\u001b[0m\u001b[32m Actual: \u001b[0m\u001b[1;36m0.031137820333242416\u001b[0m\n"
      ]
     },
     "metadata": {},
     "output_type": "display_data"
    },
    {
     "data": {
      "text/html": [
       "<pre style=\"white-space:pre;overflow-x:auto;line-height:normal;font-family:Menlo,'DejaVu Sans Mono',consolas,'Courier New',monospace\"><span style=\"color: #008000; text-decoration-color: #008000\">INFO: violated KL constraint </span><span style=\"color: #008080; text-decoration-color: #008080; font-weight: bold\">0.011598354205489159</span><span style=\"color: #008000; text-decoration-color: #008000\"> at step </span><span style=\"color: #008080; text-decoration-color: #008080; font-weight: bold\">1</span><span style=\"color: #008000; text-decoration-color: #008000\">.</span>\n",
       "</pre>\n"
      ],
      "text/plain": [
       "\u001b[32mINFO: violated KL constraint \u001b[0m\u001b[1;36m0.011598354205489159\u001b[0m\u001b[32m at step \u001b[0m\u001b[1;36m1\u001b[0m\u001b[32m.\u001b[0m\n"
      ]
     },
     "metadata": {},
     "output_type": "display_data"
    },
    {
     "data": {
      "text/html": [
       "<pre style=\"white-space:pre;overflow-x:auto;line-height:normal;font-family:Menlo,'DejaVu Sans Mono',consolas,'Courier New',monospace\"><span style=\"color: #008000; text-decoration-color: #008000\">Expected Improvement: </span><span style=\"color: #008080; text-decoration-color: #008080; font-weight: bold\">0.02385905385017395</span><span style=\"color: #008000; text-decoration-color: #008000\"> Actual: </span><span style=\"color: #008080; text-decoration-color: #008080; font-weight: bold\">0.023859569802880287</span>\n",
       "</pre>\n"
      ],
      "text/plain": [
       "\u001b[32mExpected Improvement: \u001b[0m\u001b[1;36m0.02385905385017395\u001b[0m\u001b[32m Actual: \u001b[0m\u001b[1;36m0.023859569802880287\u001b[0m\n"
      ]
     },
     "metadata": {},
     "output_type": "display_data"
    },
    {
     "data": {
      "text/html": [
       "<pre style=\"white-space:pre;overflow-x:auto;line-height:normal;font-family:Menlo,'DejaVu Sans Mono',consolas,'Courier New',monospace\"><span style=\"color: #008000; text-decoration-color: #008000\">Accept step at </span><span style=\"color: #808000; text-decoration-color: #808000\">i</span><span style=\"color: #008000; text-decoration-color: #008000\">=</span><span style=\"color: #008080; text-decoration-color: #008080; font-weight: bold\">2</span>\n",
       "</pre>\n"
      ],
      "text/plain": [
       "\u001b[32mAccept step at \u001b[0m\u001b[33mi\u001b[0m\u001b[32m=\u001b[0m\u001b[1;36m2\u001b[0m\n"
      ]
     },
     "metadata": {},
     "output_type": "display_data"
    },
    {
     "data": {
      "text/html": [
       "<pre style=\"white-space:pre;overflow-x:auto;line-height:normal;font-family:Menlo,'DejaVu Sans Mono',consolas,'Courier New',monospace\">┏━━━━━━━━━━━━━━━━━━━━━━━━━━━━━━━┳━━━━━━━━━━━━━━━━━━━━━━━━━┓\n",
       "┃<span style=\"font-weight: bold\"> Metrics                       </span>┃<span style=\"font-weight: bold\"> Value                   </span>┃\n",
       "┡━━━━━━━━━━━━━━━━━━━━━━━━━━━━━━━╇━━━━━━━━━━━━━━━━━━━━━━━━━┩\n",
       "│ Metrics/EpRet                 │ 75.2990493774414        │\n",
       "│ Metrics/EpCost                │ 4451.79736328125        │\n",
       "│ Metrics/EpLen                 │ 6.0                     │\n",
       "│ Train/Epoch                   │ 3.0                     │\n",
       "│ Train/Entropy                 │ 1.4115346670150757      │\n",
       "│ Train/KL                      │ 0.00020829204004257917  │\n",
       "│ Train/StopIter                │ 10.0                    │\n",
       "│ Train/PolicyRatio/Mean        │ 1.0034931898117065      │\n",
       "│ Train/PolicyRatio/Min         │ 1.0034931898117065      │\n",
       "│ Train/PolicyRatio/Max         │ 1.0034931898117065      │\n",
       "│ Train/PolicyRatio/Std         │ 0.002145326929166913    │\n",
       "│ Train/LR                      │ 0.0                     │\n",
       "│ Train/PolicyStd               │ 0.992864191532135       │\n",
       "│ TotalEnvSteps                 │ 80000.0                 │\n",
       "│ Loss/Loss_pi                  │ -13.763154983520508     │\n",
       "│ Loss/Loss_pi/Delta            │ -0.009816169738769531   │\n",
       "│ Value/Adv                     │ -1.0776520120714395e-08 │\n",
       "│ Loss/Loss_reward_critic       │ 5215.58837890625        │\n",
       "│ Loss/Loss_reward_critic/Delta │ 1129.60986328125        │\n",
       "│ Value/reward                  │ 56.550086975097656      │\n",
       "│ Loss/Loss_cost_critic         │ 70658.2734375           │\n",
       "│ Loss/Loss_cost_critic/Delta   │ 887.3515625             │\n",
       "│ Value/cost                    │ 2964.561767578125       │\n",
       "│ Time/Total                    │ 231.07876586914062      │\n",
       "│ Time/Rollout                  │ 31.687437057495117      │\n",
       "│ Time/Update                   │ 26.147130966186523      │\n",
       "│ Time/Epoch                    │ 57.83456802368164       │\n",
       "│ Time/FPS                      │ 345.8139343261719       │\n",
       "│ Env/Success_counts            │ nan                     │\n",
       "│ Misc/Alpha                    │ 0.12374195456504822     │\n",
       "│ Misc/FinalStepNorm            │ 0.10267860442399979     │\n",
       "│ Misc/gradient_norm            │ 1.7315599918365479      │\n",
       "│ Misc/xHx                      │ 1.3061590194702148      │\n",
       "│ Misc/H_inv_g                  │ 1.2936979532241821      │\n",
       "│ Misc/AcceptanceStep           │ 2.0                     │\n",
       "│ Misc/cost_gradient_norm       │ 1120.0501708984375      │\n",
       "│ Misc/A                        │ 1.2776962518692017      │\n",
       "│ Misc/B                        │ -63.48960494995117      │\n",
       "│ Misc/q                        │ 1.3061590194702148      │\n",
       "│ Misc/r                        │ -93.71479797363281      │\n",
       "│ Misc/s                        │ 308560.15625            │\n",
       "│ Misc/Lambda_star              │ 0.0                     │\n",
       "│ Misc/Nu_star                  │ 0.000254592188866809    │\n",
       "│ Misc/OptimCase                │ 0.0                     │\n",
       "└───────────────────────────────┴─────────────────────────┘\n",
       "</pre>\n"
      ],
      "text/plain": [
       "┏━━━━━━━━━━━━━━━━━━━━━━━━━━━━━━━┳━━━━━━━━━━━━━━━━━━━━━━━━━┓\n",
       "┃\u001b[1m \u001b[0m\u001b[1mMetrics                      \u001b[0m\u001b[1m \u001b[0m┃\u001b[1m \u001b[0m\u001b[1mValue                  \u001b[0m\u001b[1m \u001b[0m┃\n",
       "┡━━━━━━━━━━━━━━━━━━━━━━━━━━━━━━━╇━━━━━━━━━━━━━━━━━━━━━━━━━┩\n",
       "│ Metrics/EpRet                 │ 75.2990493774414        │\n",
       "│ Metrics/EpCost                │ 4451.79736328125        │\n",
       "│ Metrics/EpLen                 │ 6.0                     │\n",
       "│ Train/Epoch                   │ 3.0                     │\n",
       "│ Train/Entropy                 │ 1.4115346670150757      │\n",
       "│ Train/KL                      │ 0.00020829204004257917  │\n",
       "│ Train/StopIter                │ 10.0                    │\n",
       "│ Train/PolicyRatio/Mean        │ 1.0034931898117065      │\n",
       "│ Train/PolicyRatio/Min         │ 1.0034931898117065      │\n",
       "│ Train/PolicyRatio/Max         │ 1.0034931898117065      │\n",
       "│ Train/PolicyRatio/Std         │ 0.002145326929166913    │\n",
       "│ Train/LR                      │ 0.0                     │\n",
       "│ Train/PolicyStd               │ 0.992864191532135       │\n",
       "│ TotalEnvSteps                 │ 80000.0                 │\n",
       "│ Loss/Loss_pi                  │ -13.763154983520508     │\n",
       "│ Loss/Loss_pi/Delta            │ -0.009816169738769531   │\n",
       "│ Value/Adv                     │ -1.0776520120714395e-08 │\n",
       "│ Loss/Loss_reward_critic       │ 5215.58837890625        │\n",
       "│ Loss/Loss_reward_critic/Delta │ 1129.60986328125        │\n",
       "│ Value/reward                  │ 56.550086975097656      │\n",
       "│ Loss/Loss_cost_critic         │ 70658.2734375           │\n",
       "│ Loss/Loss_cost_critic/Delta   │ 887.3515625             │\n",
       "│ Value/cost                    │ 2964.561767578125       │\n",
       "│ Time/Total                    │ 231.07876586914062      │\n",
       "│ Time/Rollout                  │ 31.687437057495117      │\n",
       "│ Time/Update                   │ 26.147130966186523      │\n",
       "│ Time/Epoch                    │ 57.83456802368164       │\n",
       "│ Time/FPS                      │ 345.8139343261719       │\n",
       "│ Env/Success_counts            │ nan                     │\n",
       "│ Misc/Alpha                    │ 0.12374195456504822     │\n",
       "│ Misc/FinalStepNorm            │ 0.10267860442399979     │\n",
       "│ Misc/gradient_norm            │ 1.7315599918365479      │\n",
       "│ Misc/xHx                      │ 1.3061590194702148      │\n",
       "│ Misc/H_inv_g                  │ 1.2936979532241821      │\n",
       "│ Misc/AcceptanceStep           │ 2.0                     │\n",
       "│ Misc/cost_gradient_norm       │ 1120.0501708984375      │\n",
       "│ Misc/A                        │ 1.2776962518692017      │\n",
       "│ Misc/B                        │ -63.48960494995117      │\n",
       "│ Misc/q                        │ 1.3061590194702148      │\n",
       "│ Misc/r                        │ -93.71479797363281      │\n",
       "│ Misc/s                        │ 308560.15625            │\n",
       "│ Misc/Lambda_star              │ 0.0                     │\n",
       "│ Misc/Nu_star                  │ 0.000254592188866809    │\n",
       "│ Misc/OptimCase                │ 0.0                     │\n",
       "└───────────────────────────────┴─────────────────────────┘\n"
      ]
     },
     "metadata": {},
     "output_type": "display_data"
    },
    {
     "data": {
      "text/html": [
       "<pre style=\"white-space:pre;overflow-x:auto;line-height:normal;font-family:Menlo,'DejaVu Sans Mono',consolas,'Courier New',monospace\"><span style=\"color: #008000; text-decoration-color: #008000\">Warning: trajectory cut off when rollout by epoch at </span><span style=\"color: #008080; text-decoration-color: #008080; font-weight: bold\">2.0</span><span style=\"color: #008000; text-decoration-color: #008000\"> steps.</span>\n",
       "</pre>\n"
      ],
      "text/plain": [
       "\u001b[32mWarning: trajectory cut off when rollout by epoch at \u001b[0m\u001b[1;36m2.0\u001b[0m\u001b[32m steps.\u001b[0m\n"
      ]
     },
     "metadata": {},
     "output_type": "display_data"
    },
    {
     "data": {
      "text/html": [
       "<pre style=\"white-space:pre;overflow-x:auto;line-height:normal;font-family:Menlo,'DejaVu Sans Mono',consolas,'Courier New',monospace\"></pre>\n"
      ],
      "text/plain": []
     },
     "metadata": {},
     "output_type": "display_data"
    },
    {
     "data": {
      "text/html": [
       "<pre style=\"white-space:pre;overflow-x:auto;line-height:normal;font-family:Menlo,'DejaVu Sans Mono',consolas,'Courier New',monospace\"><span style=\"color: #800000; text-decoration-color: #800000\">Alert! Attempting infeasible recovery!</span>\n",
       "</pre>\n"
      ],
      "text/plain": [
       "\u001b[31mAlert! Attempting infeasible recovery!\u001b[0m\n"
      ]
     },
     "metadata": {},
     "output_type": "display_data"
    },
    {
     "data": {
      "text/html": [
       "<pre style=\"white-space:pre;overflow-x:auto;line-height:normal;font-family:Menlo,'DejaVu Sans Mono',consolas,'Courier New',monospace\"><span style=\"color: #008000; text-decoration-color: #008000\">Expected Improvement: </span><span style=\"color: #008080; text-decoration-color: #008080; font-weight: bold\">0.03000972792506218</span><span style=\"color: #008000; text-decoration-color: #008000\"> Actual: </span><span style=\"color: #008080; text-decoration-color: #008080; font-weight: bold\">0.03064400516450405</span>\n",
       "</pre>\n"
      ],
      "text/plain": [
       "\u001b[32mExpected Improvement: \u001b[0m\u001b[1;36m0.03000972792506218\u001b[0m\u001b[32m Actual: \u001b[0m\u001b[1;36m0.03064400516450405\u001b[0m\n"
      ]
     },
     "metadata": {},
     "output_type": "display_data"
    },
    {
     "data": {
      "text/html": [
       "<pre style=\"white-space:pre;overflow-x:auto;line-height:normal;font-family:Menlo,'DejaVu Sans Mono',consolas,'Courier New',monospace\"><span style=\"color: #008000; text-decoration-color: #008000\">INFO: violated KL constraint </span><span style=\"color: #008080; text-decoration-color: #008080; font-weight: bold\">0.011059459298849106</span><span style=\"color: #008000; text-decoration-color: #008000\"> at step </span><span style=\"color: #008080; text-decoration-color: #008080; font-weight: bold\">1</span><span style=\"color: #008000; text-decoration-color: #008000\">.</span>\n",
       "</pre>\n"
      ],
      "text/plain": [
       "\u001b[32mINFO: violated KL constraint \u001b[0m\u001b[1;36m0.011059459298849106\u001b[0m\u001b[32m at step \u001b[0m\u001b[1;36m1\u001b[0m\u001b[32m.\u001b[0m\n"
      ]
     },
     "metadata": {},
     "output_type": "display_data"
    },
    {
     "data": {
      "text/html": [
       "<pre style=\"white-space:pre;overflow-x:auto;line-height:normal;font-family:Menlo,'DejaVu Sans Mono',consolas,'Courier New',monospace\"><span style=\"color: #008000; text-decoration-color: #008000\">Expected Improvement: </span><span style=\"color: #008080; text-decoration-color: #008080; font-weight: bold\">0.03000972792506218</span><span style=\"color: #008000; text-decoration-color: #008000\"> Actual: </span><span style=\"color: #008080; text-decoration-color: #008080; font-weight: bold\">0.024111855775117874</span>\n",
       "</pre>\n"
      ],
      "text/plain": [
       "\u001b[32mExpected Improvement: \u001b[0m\u001b[1;36m0.03000972792506218\u001b[0m\u001b[32m Actual: \u001b[0m\u001b[1;36m0.024111855775117874\u001b[0m\n"
      ]
     },
     "metadata": {},
     "output_type": "display_data"
    },
    {
     "data": {
      "text/html": [
       "<pre style=\"white-space:pre;overflow-x:auto;line-height:normal;font-family:Menlo,'DejaVu Sans Mono',consolas,'Courier New',monospace\"><span style=\"color: #008000; text-decoration-color: #008000\">Accept step at </span><span style=\"color: #808000; text-decoration-color: #808000\">i</span><span style=\"color: #008000; text-decoration-color: #008000\">=</span><span style=\"color: #008080; text-decoration-color: #008080; font-weight: bold\">2</span>\n",
       "</pre>\n"
      ],
      "text/plain": [
       "\u001b[32mAccept step at \u001b[0m\u001b[33mi\u001b[0m\u001b[32m=\u001b[0m\u001b[1;36m2\u001b[0m\n"
      ]
     },
     "metadata": {},
     "output_type": "display_data"
    },
    {
     "data": {
      "text/html": [
       "<pre style=\"white-space:pre;overflow-x:auto;line-height:normal;font-family:Menlo,'DejaVu Sans Mono',consolas,'Courier New',monospace\">┏━━━━━━━━━━━━━━━━━━━━━━━━━━━━━━━┳━━━━━━━━━━━━━━━━━━━━━━━━━┓\n",
       "┃<span style=\"font-weight: bold\"> Metrics                       </span>┃<span style=\"font-weight: bold\"> Value                   </span>┃\n",
       "┡━━━━━━━━━━━━━━━━━━━━━━━━━━━━━━━╇━━━━━━━━━━━━━━━━━━━━━━━━━┩\n",
       "│ Metrics/EpRet                 │ 83.1618881225586        │\n",
       "│ Metrics/EpCost                │ 4068.09228515625        │\n",
       "│ Metrics/EpLen                 │ 6.0                     │\n",
       "│ Train/Epoch                   │ 4.0                     │\n",
       "│ Train/Entropy                 │ 1.4041261672973633      │\n",
       "│ Train/KL                      │ 0.00019996048649773002  │\n",
       "│ Train/StopIter                │ 10.0                    │\n",
       "│ Train/PolicyRatio/Mean        │ 1.0018302202224731      │\n",
       "│ Train/PolicyRatio/Min         │ 1.0018302202224731      │\n",
       "│ Train/PolicyRatio/Max         │ 1.0018302202224731      │\n",
       "│ Train/PolicyRatio/Std         │ 0.0011293684365227818   │\n",
       "│ Train/LR                      │ 0.0                     │\n",
       "│ Train/PolicyStd               │ 0.9856070280075073      │\n",
       "│ TotalEnvSteps                 │ 100000.0                │\n",
       "│ Loss/Loss_pi                  │ -13.246185302734375     │\n",
       "│ Loss/Loss_pi/Delta            │ 0.5169696807861328      │\n",
       "│ Value/Adv                     │ -2.8610229740877458e-09 │\n",
       "│ Loss/Loss_reward_critic       │ 5528.810546875          │\n",
       "│ Loss/Loss_reward_critic/Delta │ 313.22216796875         │\n",
       "│ Value/reward                  │ 60.419498443603516      │\n",
       "│ Loss/Loss_cost_critic         │ 65667.6484375           │\n",
       "│ Loss/Loss_cost_critic/Delta   │ -4990.625               │\n",
       "│ Value/cost                    │ 2695.621826171875       │\n",
       "│ Time/Total                    │ 290.432373046875        │\n",
       "│ Time/Rollout                  │ 29.06772804260254       │\n",
       "│ Time/Update                   │ 30.228391647338867      │\n",
       "│ Time/Epoch                    │ 59.296119689941406      │\n",
       "│ Time/FPS                      │ 337.2901916503906       │\n",
       "│ Env/Success_counts            │ nan                     │\n",
       "│ Misc/Alpha                    │ 0.11826253682374954     │\n",
       "│ Misc/FinalStepNorm            │ 0.10667639970779419     │\n",
       "│ Misc/gradient_norm            │ 1.926653504371643       │\n",
       "│ Misc/xHx                      │ 1.4299986362457275      │\n",
       "│ Misc/H_inv_g                  │ 1.3867175579071045      │\n",
       "│ Misc/AcceptanceStep           │ 2.0                     │\n",
       "│ Misc/cost_gradient_norm       │ 1371.4422607421875      │\n",
       "│ Misc/A                        │ 1.3849694728851318      │\n",
       "│ Misc/B                        │ -50.51803207397461      │\n",
       "│ Misc/q                        │ 1.4299986362457275      │\n",
       "│ Misc/r                        │ -120.68449401855469     │\n",
       "│ Misc/s                        │ 323451.34375            │\n",
       "│ Misc/Lambda_star              │ 0.0                     │\n",
       "│ Misc/Nu_star                  │ 0.000248662632657215    │\n",
       "│ Misc/OptimCase                │ 0.0                     │\n",
       "└───────────────────────────────┴─────────────────────────┘\n",
       "</pre>\n"
      ],
      "text/plain": [
       "┏━━━━━━━━━━━━━━━━━━━━━━━━━━━━━━━┳━━━━━━━━━━━━━━━━━━━━━━━━━┓\n",
       "┃\u001b[1m \u001b[0m\u001b[1mMetrics                      \u001b[0m\u001b[1m \u001b[0m┃\u001b[1m \u001b[0m\u001b[1mValue                  \u001b[0m\u001b[1m \u001b[0m┃\n",
       "┡━━━━━━━━━━━━━━━━━━━━━━━━━━━━━━━╇━━━━━━━━━━━━━━━━━━━━━━━━━┩\n",
       "│ Metrics/EpRet                 │ 83.1618881225586        │\n",
       "│ Metrics/EpCost                │ 4068.09228515625        │\n",
       "│ Metrics/EpLen                 │ 6.0                     │\n",
       "│ Train/Epoch                   │ 4.0                     │\n",
       "│ Train/Entropy                 │ 1.4041261672973633      │\n",
       "│ Train/KL                      │ 0.00019996048649773002  │\n",
       "│ Train/StopIter                │ 10.0                    │\n",
       "│ Train/PolicyRatio/Mean        │ 1.0018302202224731      │\n",
       "│ Train/PolicyRatio/Min         │ 1.0018302202224731      │\n",
       "│ Train/PolicyRatio/Max         │ 1.0018302202224731      │\n",
       "│ Train/PolicyRatio/Std         │ 0.0011293684365227818   │\n",
       "│ Train/LR                      │ 0.0                     │\n",
       "│ Train/PolicyStd               │ 0.9856070280075073      │\n",
       "│ TotalEnvSteps                 │ 100000.0                │\n",
       "│ Loss/Loss_pi                  │ -13.246185302734375     │\n",
       "│ Loss/Loss_pi/Delta            │ 0.5169696807861328      │\n",
       "│ Value/Adv                     │ -2.8610229740877458e-09 │\n",
       "│ Loss/Loss_reward_critic       │ 5528.810546875          │\n",
       "│ Loss/Loss_reward_critic/Delta │ 313.22216796875         │\n",
       "│ Value/reward                  │ 60.419498443603516      │\n",
       "│ Loss/Loss_cost_critic         │ 65667.6484375           │\n",
       "│ Loss/Loss_cost_critic/Delta   │ -4990.625               │\n",
       "│ Value/cost                    │ 2695.621826171875       │\n",
       "│ Time/Total                    │ 290.432373046875        │\n",
       "│ Time/Rollout                  │ 29.06772804260254       │\n",
       "│ Time/Update                   │ 30.228391647338867      │\n",
       "│ Time/Epoch                    │ 59.296119689941406      │\n",
       "│ Time/FPS                      │ 337.2901916503906       │\n",
       "│ Env/Success_counts            │ nan                     │\n",
       "│ Misc/Alpha                    │ 0.11826253682374954     │\n",
       "│ Misc/FinalStepNorm            │ 0.10667639970779419     │\n",
       "│ Misc/gradient_norm            │ 1.926653504371643       │\n",
       "│ Misc/xHx                      │ 1.4299986362457275      │\n",
       "│ Misc/H_inv_g                  │ 1.3867175579071045      │\n",
       "│ Misc/AcceptanceStep           │ 2.0                     │\n",
       "│ Misc/cost_gradient_norm       │ 1371.4422607421875      │\n",
       "│ Misc/A                        │ 1.3849694728851318      │\n",
       "│ Misc/B                        │ -50.51803207397461      │\n",
       "│ Misc/q                        │ 1.4299986362457275      │\n",
       "│ Misc/r                        │ -120.68449401855469     │\n",
       "│ Misc/s                        │ 323451.34375            │\n",
       "│ Misc/Lambda_star              │ 0.0                     │\n",
       "│ Misc/Nu_star                  │ 0.000248662632657215    │\n",
       "│ Misc/OptimCase                │ 0.0                     │\n",
       "└───────────────────────────────┴─────────────────────────┘\n"
      ]
     },
     "metadata": {},
     "output_type": "display_data"
    },
    {
     "data": {
      "text/html": [
       "<pre style=\"white-space:pre;overflow-x:auto;line-height:normal;font-family:Menlo,'DejaVu Sans Mono',consolas,'Courier New',monospace\"><span style=\"color: #008000; text-decoration-color: #008000\">Warning: trajectory cut off when rollout by epoch at </span><span style=\"color: #008080; text-decoration-color: #008080; font-weight: bold\">2.0</span><span style=\"color: #008000; text-decoration-color: #008000\"> steps.</span>\n",
       "</pre>\n"
      ],
      "text/plain": [
       "\u001b[32mWarning: trajectory cut off when rollout by epoch at \u001b[0m\u001b[1;36m2.0\u001b[0m\u001b[32m steps.\u001b[0m\n"
      ]
     },
     "metadata": {},
     "output_type": "display_data"
    },
    {
     "data": {
      "text/html": [
       "<pre style=\"white-space:pre;overflow-x:auto;line-height:normal;font-family:Menlo,'DejaVu Sans Mono',consolas,'Courier New',monospace\"></pre>\n"
      ],
      "text/plain": []
     },
     "metadata": {},
     "output_type": "display_data"
    },
    {
     "data": {
      "text/html": [
       "<pre style=\"white-space:pre;overflow-x:auto;line-height:normal;font-family:Menlo,'DejaVu Sans Mono',consolas,'Courier New',monospace\"><span style=\"color: #800000; text-decoration-color: #800000\">Alert! Attempting infeasible recovery!</span>\n",
       "</pre>\n"
      ],
      "text/plain": [
       "\u001b[31mAlert! Attempting infeasible recovery!\u001b[0m\n"
      ]
     },
     "metadata": {},
     "output_type": "display_data"
    },
    {
     "data": {
      "text/html": [
       "<pre style=\"white-space:pre;overflow-x:auto;line-height:normal;font-family:Menlo,'DejaVu Sans Mono',consolas,'Courier New',monospace\"><span style=\"color: #008000; text-decoration-color: #008000\">Expected Improvement: </span><span style=\"color: #008080; text-decoration-color: #008080; font-weight: bold\">0.02342170476913452</span><span style=\"color: #008000; text-decoration-color: #008000\"> Actual: </span><span style=\"color: #008080; text-decoration-color: #008080; font-weight: bold\">0.020589536055922508</span>\n",
       "</pre>\n"
      ],
      "text/plain": [
       "\u001b[32mExpected Improvement: \u001b[0m\u001b[1;36m0.02342170476913452\u001b[0m\u001b[32m Actual: \u001b[0m\u001b[1;36m0.020589536055922508\u001b[0m\n"
      ]
     },
     "metadata": {},
     "output_type": "display_data"
    },
    {
     "data": {
      "text/html": [
       "<pre style=\"white-space:pre;overflow-x:auto;line-height:normal;font-family:Menlo,'DejaVu Sans Mono',consolas,'Courier New',monospace\"><span style=\"color: #008000; text-decoration-color: #008000\">INFO: violated KL constraint </span><span style=\"color: #008080; text-decoration-color: #008080; font-weight: bold\">0.011174764484167099</span><span style=\"color: #008000; text-decoration-color: #008000\"> at step </span><span style=\"color: #008080; text-decoration-color: #008080; font-weight: bold\">1</span><span style=\"color: #008000; text-decoration-color: #008000\">.</span>\n",
       "</pre>\n"
      ],
      "text/plain": [
       "\u001b[32mINFO: violated KL constraint \u001b[0m\u001b[1;36m0.011174764484167099\u001b[0m\u001b[32m at step \u001b[0m\u001b[1;36m1\u001b[0m\u001b[32m.\u001b[0m\n"
      ]
     },
     "metadata": {},
     "output_type": "display_data"
    },
    {
     "data": {
      "text/html": [
       "<pre style=\"white-space:pre;overflow-x:auto;line-height:normal;font-family:Menlo,'DejaVu Sans Mono',consolas,'Courier New',monospace\"><span style=\"color: #008000; text-decoration-color: #008000\">Expected Improvement: </span><span style=\"color: #008080; text-decoration-color: #008080; font-weight: bold\">0.02342170476913452</span><span style=\"color: #008000; text-decoration-color: #008000\"> Actual: </span><span style=\"color: #008080; text-decoration-color: #008080; font-weight: bold\">0.017123525962233543</span>\n",
       "</pre>\n"
      ],
      "text/plain": [
       "\u001b[32mExpected Improvement: \u001b[0m\u001b[1;36m0.02342170476913452\u001b[0m\u001b[32m Actual: \u001b[0m\u001b[1;36m0.017123525962233543\u001b[0m\n"
      ]
     },
     "metadata": {},
     "output_type": "display_data"
    },
    {
     "data": {
      "text/html": [
       "<pre style=\"white-space:pre;overflow-x:auto;line-height:normal;font-family:Menlo,'DejaVu Sans Mono',consolas,'Courier New',monospace\"><span style=\"color: #008000; text-decoration-color: #008000\">Accept step at </span><span style=\"color: #808000; text-decoration-color: #808000\">i</span><span style=\"color: #008000; text-decoration-color: #008000\">=</span><span style=\"color: #008080; text-decoration-color: #008080; font-weight: bold\">2</span>\n",
       "</pre>\n"
      ],
      "text/plain": [
       "\u001b[32mAccept step at \u001b[0m\u001b[33mi\u001b[0m\u001b[32m=\u001b[0m\u001b[1;36m2\u001b[0m\n"
      ]
     },
     "metadata": {},
     "output_type": "display_data"
    },
    {
     "data": {
      "text/html": [
       "<pre style=\"white-space:pre;overflow-x:auto;line-height:normal;font-family:Menlo,'DejaVu Sans Mono',consolas,'Courier New',monospace\">┏━━━━━━━━━━━━━━━━━━━━━━━━━━━━━━━┳━━━━━━━━━━━━━━━━━━━━━━━━┓\n",
       "┃<span style=\"font-weight: bold\"> Metrics                       </span>┃<span style=\"font-weight: bold\"> Value                  </span>┃\n",
       "┡━━━━━━━━━━━━━━━━━━━━━━━━━━━━━━━╇━━━━━━━━━━━━━━━━━━━━━━━━┩\n",
       "│ Metrics/EpRet                 │ 87.22081756591797      │\n",
       "│ Metrics/EpCost                │ 3579.441162109375      │\n",
       "│ Metrics/EpLen                 │ 6.0                    │\n",
       "│ Train/Epoch                   │ 5.0                    │\n",
       "│ Train/Entropy                 │ 1.39469313621521       │\n",
       "│ Train/KL                      │ 0.00020358056644909084 │\n",
       "│ Train/StopIter                │ 10.0                   │\n",
       "│ Train/PolicyRatio/Mean        │ 1.0000345706939697     │\n",
       "│ Train/PolicyRatio/Min         │ 1.0000345706939697     │\n",
       "│ Train/PolicyRatio/Max         │ 1.0000345706939697     │\n",
       "│ Train/PolicyRatio/Std         │ 0.00022271873604040593 │\n",
       "│ Train/LR                      │ 0.0                    │\n",
       "│ Train/PolicyStd               │ 0.9764453172683716     │\n",
       "│ TotalEnvSteps                 │ 120000.0               │\n",
       "│ Loss/Loss_pi                  │ -13.09223747253418     │\n",
       "│ Loss/Loss_pi/Delta            │ 0.1539478302001953     │\n",
       "│ Value/Adv                     │ 4.959106458812812e-09  │\n",
       "│ Loss/Loss_reward_critic       │ 6599.607421875         │\n",
       "│ Loss/Loss_reward_critic/Delta │ 1070.796875            │\n",
       "│ Value/reward                  │ 67.76647186279297      │\n",
       "│ Loss/Loss_cost_critic         │ 61639.96875            │\n",
       "│ Loss/Loss_cost_critic/Delta   │ -4027.6796875          │\n",
       "│ Value/cost                    │ 2309.225341796875      │\n",
       "│ Time/Total                    │ 360.7679443359375      │\n",
       "│ Time/Rollout                  │ 36.7697868347168       │\n",
       "│ Time/Update                   │ 33.51568603515625      │\n",
       "│ Time/Epoch                    │ 70.28547668457031      │\n",
       "│ Time/FPS                      │ 284.5538024902344      │\n",
       "│ Env/Success_counts            │ nan                    │\n",
       "│ Misc/Alpha                    │ 0.12016800791025162    │\n",
       "│ Misc/FinalStepNorm            │ 0.0881061777472496     │\n",
       "│ Misc/gradient_norm            │ 2.110502004623413      │\n",
       "│ Misc/xHx                      │ 1.3850080966949463     │\n",
       "│ Misc/H_inv_g                  │ 1.3820204734802246     │\n",
       "│ Misc/AcceptanceStep           │ 2.0                    │\n",
       "│ Misc/cost_gradient_norm       │ 1556.0185546875        │\n",
       "│ Misc/A                        │ 1.357579231262207      │\n",
       "│ Misc/B                        │ -41.72440719604492     │\n",
       "│ Misc/q                        │ 1.3850080966949463     │\n",
       "│ Misc/r                        │ -91.11203002929688     │\n",
       "│ Misc/s                        │ 302652.5625            │\n",
       "│ Misc/Lambda_star              │ 0.0                    │\n",
       "│ Misc/Nu_star                  │ 0.000257064908510074   │\n",
       "│ Misc/OptimCase                │ 0.0                    │\n",
       "└───────────────────────────────┴────────────────────────┘\n",
       "</pre>\n"
      ],
      "text/plain": [
       "┏━━━━━━━━━━━━━━━━━━━━━━━━━━━━━━━┳━━━━━━━━━━━━━━━━━━━━━━━━┓\n",
       "┃\u001b[1m \u001b[0m\u001b[1mMetrics                      \u001b[0m\u001b[1m \u001b[0m┃\u001b[1m \u001b[0m\u001b[1mValue                 \u001b[0m\u001b[1m \u001b[0m┃\n",
       "┡━━━━━━━━━━━━━━━━━━━━━━━━━━━━━━━╇━━━━━━━━━━━━━━━━━━━━━━━━┩\n",
       "│ Metrics/EpRet                 │ 87.22081756591797      │\n",
       "│ Metrics/EpCost                │ 3579.441162109375      │\n",
       "│ Metrics/EpLen                 │ 6.0                    │\n",
       "│ Train/Epoch                   │ 5.0                    │\n",
       "│ Train/Entropy                 │ 1.39469313621521       │\n",
       "│ Train/KL                      │ 0.00020358056644909084 │\n",
       "│ Train/StopIter                │ 10.0                   │\n",
       "│ Train/PolicyRatio/Mean        │ 1.0000345706939697     │\n",
       "│ Train/PolicyRatio/Min         │ 1.0000345706939697     │\n",
       "│ Train/PolicyRatio/Max         │ 1.0000345706939697     │\n",
       "│ Train/PolicyRatio/Std         │ 0.00022271873604040593 │\n",
       "│ Train/LR                      │ 0.0                    │\n",
       "│ Train/PolicyStd               │ 0.9764453172683716     │\n",
       "│ TotalEnvSteps                 │ 120000.0               │\n",
       "│ Loss/Loss_pi                  │ -13.09223747253418     │\n",
       "│ Loss/Loss_pi/Delta            │ 0.1539478302001953     │\n",
       "│ Value/Adv                     │ 4.959106458812812e-09  │\n",
       "│ Loss/Loss_reward_critic       │ 6599.607421875         │\n",
       "│ Loss/Loss_reward_critic/Delta │ 1070.796875            │\n",
       "│ Value/reward                  │ 67.76647186279297      │\n",
       "│ Loss/Loss_cost_critic         │ 61639.96875            │\n",
       "│ Loss/Loss_cost_critic/Delta   │ -4027.6796875          │\n",
       "│ Value/cost                    │ 2309.225341796875      │\n",
       "│ Time/Total                    │ 360.7679443359375      │\n",
       "│ Time/Rollout                  │ 36.7697868347168       │\n",
       "│ Time/Update                   │ 33.51568603515625      │\n",
       "│ Time/Epoch                    │ 70.28547668457031      │\n",
       "│ Time/FPS                      │ 284.5538024902344      │\n",
       "│ Env/Success_counts            │ nan                    │\n",
       "│ Misc/Alpha                    │ 0.12016800791025162    │\n",
       "│ Misc/FinalStepNorm            │ 0.0881061777472496     │\n",
       "│ Misc/gradient_norm            │ 2.110502004623413      │\n",
       "│ Misc/xHx                      │ 1.3850080966949463     │\n",
       "│ Misc/H_inv_g                  │ 1.3820204734802246     │\n",
       "│ Misc/AcceptanceStep           │ 2.0                    │\n",
       "│ Misc/cost_gradient_norm       │ 1556.0185546875        │\n",
       "│ Misc/A                        │ 1.357579231262207      │\n",
       "│ Misc/B                        │ -41.72440719604492     │\n",
       "│ Misc/q                        │ 1.3850080966949463     │\n",
       "│ Misc/r                        │ -91.11203002929688     │\n",
       "│ Misc/s                        │ 302652.5625            │\n",
       "│ Misc/Lambda_star              │ 0.0                    │\n",
       "│ Misc/Nu_star                  │ 0.000257064908510074   │\n",
       "│ Misc/OptimCase                │ 0.0                    │\n",
       "└───────────────────────────────┴────────────────────────┘\n"
      ]
     },
     "metadata": {},
     "output_type": "display_data"
    },
    {
     "data": {
      "text/html": [
       "<pre style=\"white-space:pre;overflow-x:auto;line-height:normal;font-family:Menlo,'DejaVu Sans Mono',consolas,'Courier New',monospace\"><span style=\"color: #008000; text-decoration-color: #008000\">Warning: trajectory cut off when rollout by epoch at </span><span style=\"color: #008080; text-decoration-color: #008080; font-weight: bold\">2.0</span><span style=\"color: #008000; text-decoration-color: #008000\"> steps.</span>\n",
       "</pre>\n"
      ],
      "text/plain": [
       "\u001b[32mWarning: trajectory cut off when rollout by epoch at \u001b[0m\u001b[1;36m2.0\u001b[0m\u001b[32m steps.\u001b[0m\n"
      ]
     },
     "metadata": {},
     "output_type": "display_data"
    },
    {
     "data": {
      "text/html": [
       "<pre style=\"white-space:pre;overflow-x:auto;line-height:normal;font-family:Menlo,'DejaVu Sans Mono',consolas,'Courier New',monospace\"></pre>\n"
      ],
      "text/plain": []
     },
     "metadata": {},
     "output_type": "display_data"
    },
    {
     "data": {
      "text/html": [
       "<pre style=\"white-space:pre;overflow-x:auto;line-height:normal;font-family:Menlo,'DejaVu Sans Mono',consolas,'Courier New',monospace\"><span style=\"color: #800000; text-decoration-color: #800000\">Alert! Attempting infeasible recovery!</span>\n",
       "</pre>\n"
      ],
      "text/plain": [
       "\u001b[31mAlert! Attempting infeasible recovery!\u001b[0m\n"
      ]
     },
     "metadata": {},
     "output_type": "display_data"
    },
    {
     "data": {
      "text/html": [
       "<pre style=\"white-space:pre;overflow-x:auto;line-height:normal;font-family:Menlo,'DejaVu Sans Mono',consolas,'Courier New',monospace\"><span style=\"color: #008000; text-decoration-color: #008000\">Expected Improvement: </span><span style=\"color: #008080; text-decoration-color: #008080; font-weight: bold\">0.021491553634405136</span><span style=\"color: #008000; text-decoration-color: #008000\"> Actual: </span><span style=\"color: #008080; text-decoration-color: #008080; font-weight: bold\">0.023505499586462975</span>\n",
       "</pre>\n"
      ],
      "text/plain": [
       "\u001b[32mExpected Improvement: \u001b[0m\u001b[1;36m0.021491553634405136\u001b[0m\u001b[32m Actual: \u001b[0m\u001b[1;36m0.023505499586462975\u001b[0m\n"
      ]
     },
     "metadata": {},
     "output_type": "display_data"
    },
    {
     "data": {
      "text/html": [
       "<pre style=\"white-space:pre;overflow-x:auto;line-height:normal;font-family:Menlo,'DejaVu Sans Mono',consolas,'Courier New',monospace\"><span style=\"color: #008000; text-decoration-color: #008000\">INFO: violated KL constraint </span><span style=\"color: #008080; text-decoration-color: #008080; font-weight: bold\">0.010928361676633358</span><span style=\"color: #008000; text-decoration-color: #008000\"> at step </span><span style=\"color: #008080; text-decoration-color: #008080; font-weight: bold\">1</span><span style=\"color: #008000; text-decoration-color: #008000\">.</span>\n",
       "</pre>\n"
      ],
      "text/plain": [
       "\u001b[32mINFO: violated KL constraint \u001b[0m\u001b[1;36m0.010928361676633358\u001b[0m\u001b[32m at step \u001b[0m\u001b[1;36m1\u001b[0m\u001b[32m.\u001b[0m\n"
      ]
     },
     "metadata": {},
     "output_type": "display_data"
    },
    {
     "data": {
      "text/html": [
       "<pre style=\"white-space:pre;overflow-x:auto;line-height:normal;font-family:Menlo,'DejaVu Sans Mono',consolas,'Courier New',monospace\"><span style=\"color: #008000; text-decoration-color: #008000\">Expected Improvement: </span><span style=\"color: #008080; text-decoration-color: #008080; font-weight: bold\">0.021491553634405136</span><span style=\"color: #008000; text-decoration-color: #008000\"> Actual: </span><span style=\"color: #008080; text-decoration-color: #008080; font-weight: bold\">0.018550187349319458</span>\n",
       "</pre>\n"
      ],
      "text/plain": [
       "\u001b[32mExpected Improvement: \u001b[0m\u001b[1;36m0.021491553634405136\u001b[0m\u001b[32m Actual: \u001b[0m\u001b[1;36m0.018550187349319458\u001b[0m\n"
      ]
     },
     "metadata": {},
     "output_type": "display_data"
    },
    {
     "data": {
      "text/html": [
       "<pre style=\"white-space:pre;overflow-x:auto;line-height:normal;font-family:Menlo,'DejaVu Sans Mono',consolas,'Courier New',monospace\"><span style=\"color: #008000; text-decoration-color: #008000\">Accept step at </span><span style=\"color: #808000; text-decoration-color: #808000\">i</span><span style=\"color: #008000; text-decoration-color: #008000\">=</span><span style=\"color: #008080; text-decoration-color: #008080; font-weight: bold\">2</span>\n",
       "</pre>\n"
      ],
      "text/plain": [
       "\u001b[32mAccept step at \u001b[0m\u001b[33mi\u001b[0m\u001b[32m=\u001b[0m\u001b[1;36m2\u001b[0m\n"
      ]
     },
     "metadata": {},
     "output_type": "display_data"
    },
    {
     "data": {
      "text/html": [
       "<pre style=\"white-space:pre;overflow-x:auto;line-height:normal;font-family:Menlo,'DejaVu Sans Mono',consolas,'Courier New',monospace\">┏━━━━━━━━━━━━━━━━━━━━━━━━━━━━━━━┳━━━━━━━━━━━━━━━━━━━━━━━━┓\n",
       "┃<span style=\"font-weight: bold\"> Metrics                       </span>┃<span style=\"font-weight: bold\"> Value                  </span>┃\n",
       "┡━━━━━━━━━━━━━━━━━━━━━━━━━━━━━━━╇━━━━━━━━━━━━━━━━━━━━━━━━┩\n",
       "│ Metrics/EpRet                 │ 105.40245819091797     │\n",
       "│ Metrics/EpCost                │ 3305.427734375         │\n",
       "│ Metrics/EpLen                 │ 6.0                    │\n",
       "│ Train/Epoch                   │ 6.0                    │\n",
       "│ Train/Entropy                 │ 1.383244276046753      │\n",
       "│ Train/KL                      │ 0.00019909589900635183 │\n",
       "│ Train/StopIter                │ 10.0                   │\n",
       "│ Train/PolicyRatio/Mean        │ 1.0025538206100464     │\n",
       "│ Train/PolicyRatio/Min         │ 1.0025538206100464     │\n",
       "│ Train/PolicyRatio/Max         │ 1.0025538206100464     │\n",
       "│ Train/PolicyRatio/Std         │ 0.0015543332556262612  │\n",
       "│ Train/LR                      │ 0.0                    │\n",
       "│ Train/PolicyStd               │ 0.9654701352119446     │\n",
       "│ TotalEnvSteps                 │ 140000.0               │\n",
       "│ Loss/Loss_pi                  │ -12.150598526000977    │\n",
       "│ Loss/Loss_pi/Delta            │ 0.9416389465332031     │\n",
       "│ Value/Adv                     │ 4.100799699813251e-09  │\n",
       "│ Loss/Loss_reward_critic       │ 7187.3330078125        │\n",
       "│ Loss/Loss_reward_critic/Delta │ 587.7255859375         │\n",
       "│ Value/reward                  │ 87.60295867919922      │\n",
       "│ Loss/Loss_cost_critic         │ 56531.5234375          │\n",
       "│ Loss/Loss_cost_critic/Delta   │ -5108.4453125          │\n",
       "│ Value/cost                    │ 2115.406005859375      │\n",
       "│ Time/Total                    │ 421.4563293457031      │\n",
       "│ Time/Rollout                  │ 34.59225082397461      │\n",
       "│ Time/Update                   │ 26.04104232788086      │\n",
       "│ Time/Epoch                    │ 60.63329315185547      │\n",
       "│ Time/FPS                      │ 329.8517761230469      │\n",
       "│ Env/Success_counts            │ nan                    │\n",
       "│ Misc/Alpha                    │ 0.12008675187826157    │\n",
       "│ Misc/FinalStepNorm            │ 0.09130265563726425    │\n",
       "│ Misc/gradient_norm            │ 2.0423099994659424     │\n",
       "│ Misc/xHx                      │ 1.3868827819824219     │\n",
       "│ Misc/H_inv_g                  │ 1.4224119186401367     │\n",
       "│ Misc/AcceptanceStep           │ 2.0                    │\n",
       "│ Misc/cost_gradient_norm       │ 1627.600341796875      │\n",
       "│ Misc/A                        │ 1.3637884855270386     │\n",
       "│ Misc/B                        │ -40.4930534362793      │\n",
       "│ Misc/q                        │ 1.3868827819824219     │\n",
       "│ Misc/r                        │ -78.32237243652344     │\n",
       "│ Misc/s                        │ 265623.1875            │\n",
       "│ Misc/Lambda_star              │ 0.0                    │\n",
       "│ Misc/Nu_star                  │ 0.00027439865516498685 │\n",
       "│ Misc/OptimCase                │ 0.0                    │\n",
       "└───────────────────────────────┴────────────────────────┘\n",
       "</pre>\n"
      ],
      "text/plain": [
       "┏━━━━━━━━━━━━━━━━━━━━━━━━━━━━━━━┳━━━━━━━━━━━━━━━━━━━━━━━━┓\n",
       "┃\u001b[1m \u001b[0m\u001b[1mMetrics                      \u001b[0m\u001b[1m \u001b[0m┃\u001b[1m \u001b[0m\u001b[1mValue                 \u001b[0m\u001b[1m \u001b[0m┃\n",
       "┡━━━━━━━━━━━━━━━━━━━━━━━━━━━━━━━╇━━━━━━━━━━━━━━━━━━━━━━━━┩\n",
       "│ Metrics/EpRet                 │ 105.40245819091797     │\n",
       "│ Metrics/EpCost                │ 3305.427734375         │\n",
       "│ Metrics/EpLen                 │ 6.0                    │\n",
       "│ Train/Epoch                   │ 6.0                    │\n",
       "│ Train/Entropy                 │ 1.383244276046753      │\n",
       "│ Train/KL                      │ 0.00019909589900635183 │\n",
       "│ Train/StopIter                │ 10.0                   │\n",
       "│ Train/PolicyRatio/Mean        │ 1.0025538206100464     │\n",
       "│ Train/PolicyRatio/Min         │ 1.0025538206100464     │\n",
       "│ Train/PolicyRatio/Max         │ 1.0025538206100464     │\n",
       "│ Train/PolicyRatio/Std         │ 0.0015543332556262612  │\n",
       "│ Train/LR                      │ 0.0                    │\n",
       "│ Train/PolicyStd               │ 0.9654701352119446     │\n",
       "│ TotalEnvSteps                 │ 140000.0               │\n",
       "│ Loss/Loss_pi                  │ -12.150598526000977    │\n",
       "│ Loss/Loss_pi/Delta            │ 0.9416389465332031     │\n",
       "│ Value/Adv                     │ 4.100799699813251e-09  │\n",
       "│ Loss/Loss_reward_critic       │ 7187.3330078125        │\n",
       "│ Loss/Loss_reward_critic/Delta │ 587.7255859375         │\n",
       "│ Value/reward                  │ 87.60295867919922      │\n",
       "│ Loss/Loss_cost_critic         │ 56531.5234375          │\n",
       "│ Loss/Loss_cost_critic/Delta   │ -5108.4453125          │\n",
       "│ Value/cost                    │ 2115.406005859375      │\n",
       "│ Time/Total                    │ 421.4563293457031      │\n",
       "│ Time/Rollout                  │ 34.59225082397461      │\n",
       "│ Time/Update                   │ 26.04104232788086      │\n",
       "│ Time/Epoch                    │ 60.63329315185547      │\n",
       "│ Time/FPS                      │ 329.8517761230469      │\n",
       "│ Env/Success_counts            │ nan                    │\n",
       "│ Misc/Alpha                    │ 0.12008675187826157    │\n",
       "│ Misc/FinalStepNorm            │ 0.09130265563726425    │\n",
       "│ Misc/gradient_norm            │ 2.0423099994659424     │\n",
       "│ Misc/xHx                      │ 1.3868827819824219     │\n",
       "│ Misc/H_inv_g                  │ 1.4224119186401367     │\n",
       "│ Misc/AcceptanceStep           │ 2.0                    │\n",
       "│ Misc/cost_gradient_norm       │ 1627.600341796875      │\n",
       "│ Misc/A                        │ 1.3637884855270386     │\n",
       "│ Misc/B                        │ -40.4930534362793      │\n",
       "│ Misc/q                        │ 1.3868827819824219     │\n",
       "│ Misc/r                        │ -78.32237243652344     │\n",
       "│ Misc/s                        │ 265623.1875            │\n",
       "│ Misc/Lambda_star              │ 0.0                    │\n",
       "│ Misc/Nu_star                  │ 0.00027439865516498685 │\n",
       "│ Misc/OptimCase                │ 0.0                    │\n",
       "└───────────────────────────────┴────────────────────────┘\n"
      ]
     },
     "metadata": {},
     "output_type": "display_data"
    },
    {
     "data": {
      "text/html": [
       "<pre style=\"white-space:pre;overflow-x:auto;line-height:normal;font-family:Menlo,'DejaVu Sans Mono',consolas,'Courier New',monospace\"><span style=\"color: #008000; text-decoration-color: #008000\">Warning: trajectory cut off when rollout by epoch at </span><span style=\"color: #008080; text-decoration-color: #008080; font-weight: bold\">2.0</span><span style=\"color: #008000; text-decoration-color: #008000\"> steps.</span>\n",
       "</pre>\n"
      ],
      "text/plain": [
       "\u001b[32mWarning: trajectory cut off when rollout by epoch at \u001b[0m\u001b[1;36m2.0\u001b[0m\u001b[32m steps.\u001b[0m\n"
      ]
     },
     "metadata": {},
     "output_type": "display_data"
    },
    {
     "data": {
      "text/html": [
       "<pre style=\"white-space:pre;overflow-x:auto;line-height:normal;font-family:Menlo,'DejaVu Sans Mono',consolas,'Courier New',monospace\"></pre>\n"
      ],
      "text/plain": []
     },
     "metadata": {},
     "output_type": "display_data"
    },
    {
     "data": {
      "text/html": [
       "<pre style=\"white-space:pre;overflow-x:auto;line-height:normal;font-family:Menlo,'DejaVu Sans Mono',consolas,'Courier New',monospace\"><span style=\"color: #800000; text-decoration-color: #800000\">Alert! Attempting infeasible recovery!</span>\n",
       "</pre>\n"
      ],
      "text/plain": [
       "\u001b[31mAlert! Attempting infeasible recovery!\u001b[0m\n"
      ]
     },
     "metadata": {},
     "output_type": "display_data"
    },
    {
     "data": {
      "text/html": [
       "<pre style=\"white-space:pre;overflow-x:auto;line-height:normal;font-family:Menlo,'DejaVu Sans Mono',consolas,'Courier New',monospace\"><span style=\"color: #008000; text-decoration-color: #008000\">Expected Improvement: </span><span style=\"color: #008080; text-decoration-color: #008080; font-weight: bold\">0.010127286426723003</span><span style=\"color: #008000; text-decoration-color: #008000\"> Actual: </span><span style=\"color: #008080; text-decoration-color: #008080; font-weight: bold\">0.025169527158141136</span>\n",
       "</pre>\n"
      ],
      "text/plain": [
       "\u001b[32mExpected Improvement: \u001b[0m\u001b[1;36m0.010127286426723003\u001b[0m\u001b[32m Actual: \u001b[0m\u001b[1;36m0.025169527158141136\u001b[0m\n"
      ]
     },
     "metadata": {},
     "output_type": "display_data"
    },
    {
     "data": {
      "text/html": [
       "<pre style=\"white-space:pre;overflow-x:auto;line-height:normal;font-family:Menlo,'DejaVu Sans Mono',consolas,'Courier New',monospace\"><span style=\"color: #008000; text-decoration-color: #008000\">INFO: violated KL constraint </span><span style=\"color: #008080; text-decoration-color: #008080; font-weight: bold\">0.0100483950227499</span><span style=\"color: #008000; text-decoration-color: #008000\"> at step </span><span style=\"color: #008080; text-decoration-color: #008080; font-weight: bold\">1</span><span style=\"color: #008000; text-decoration-color: #008000\">.</span>\n",
       "</pre>\n"
      ],
      "text/plain": [
       "\u001b[32mINFO: violated KL constraint \u001b[0m\u001b[1;36m0.0100483950227499\u001b[0m\u001b[32m at step \u001b[0m\u001b[1;36m1\u001b[0m\u001b[32m.\u001b[0m\n"
      ]
     },
     "metadata": {},
     "output_type": "display_data"
    },
    {
     "data": {
      "text/html": [
       "<pre style=\"white-space:pre;overflow-x:auto;line-height:normal;font-family:Menlo,'DejaVu Sans Mono',consolas,'Courier New',monospace\"><span style=\"color: #008000; text-decoration-color: #008000\">Expected Improvement: </span><span style=\"color: #008080; text-decoration-color: #008080; font-weight: bold\">0.010127286426723003</span><span style=\"color: #008000; text-decoration-color: #008000\"> Actual: </span><span style=\"color: #008080; text-decoration-color: #008080; font-weight: bold\">0.020252758637070656</span>\n",
       "</pre>\n"
      ],
      "text/plain": [
       "\u001b[32mExpected Improvement: \u001b[0m\u001b[1;36m0.010127286426723003\u001b[0m\u001b[32m Actual: \u001b[0m\u001b[1;36m0.020252758637070656\u001b[0m\n"
      ]
     },
     "metadata": {},
     "output_type": "display_data"
    },
    {
     "data": {
      "text/html": [
       "<pre style=\"white-space:pre;overflow-x:auto;line-height:normal;font-family:Menlo,'DejaVu Sans Mono',consolas,'Courier New',monospace\"><span style=\"color: #008000; text-decoration-color: #008000\">Accept step at </span><span style=\"color: #808000; text-decoration-color: #808000\">i</span><span style=\"color: #008000; text-decoration-color: #008000\">=</span><span style=\"color: #008080; text-decoration-color: #008080; font-weight: bold\">2</span>\n",
       "</pre>\n"
      ],
      "text/plain": [
       "\u001b[32mAccept step at \u001b[0m\u001b[33mi\u001b[0m\u001b[32m=\u001b[0m\u001b[1;36m2\u001b[0m\n"
      ]
     },
     "metadata": {},
     "output_type": "display_data"
    },
    {
     "data": {
      "text/html": [
       "<pre style=\"white-space:pre;overflow-x:auto;line-height:normal;font-family:Menlo,'DejaVu Sans Mono',consolas,'Courier New',monospace\">┏━━━━━━━━━━━━━━━━━━━━━━━━━━━━━━━┳━━━━━━━━━━━━━━━━━━━━━━━━┓\n",
       "┃<span style=\"font-weight: bold\"> Metrics                       </span>┃<span style=\"font-weight: bold\"> Value                  </span>┃\n",
       "┡━━━━━━━━━━━━━━━━━━━━━━━━━━━━━━━╇━━━━━━━━━━━━━━━━━━━━━━━━┩\n",
       "│ Metrics/EpRet                 │ 85.58165740966797      │\n",
       "│ Metrics/EpCost                │ 2915.7255859375        │\n",
       "│ Metrics/EpLen                 │ 6.0                    │\n",
       "│ Train/Epoch                   │ 7.0                    │\n",
       "│ Train/Entropy                 │ 1.371154546737671      │\n",
       "│ Train/KL                      │ 0.0001843988720793277  │\n",
       "│ Train/StopIter                │ 10.0                   │\n",
       "│ Train/PolicyRatio/Mean        │ 0.9987061023712158     │\n",
       "│ Train/PolicyRatio/Min         │ 0.9987061023712158     │\n",
       "│ Train/PolicyRatio/Max         │ 0.9987061023712158     │\n",
       "│ Train/PolicyRatio/Std         │ 0.000762586307246238   │\n",
       "│ Train/LR                      │ 0.0                    │\n",
       "│ Train/PolicyStd               │ 0.9539805054664612     │\n",
       "│ TotalEnvSteps                 │ 160000.0               │\n",
       "│ Loss/Loss_pi                  │ -10.795404434204102    │\n",
       "│ Loss/Loss_pi/Delta            │ 1.355194091796875      │\n",
       "│ Value/Adv                     │ 3.814697446813398e-09  │\n",
       "│ Loss/Loss_reward_critic       │ 8137.11376953125       │\n",
       "│ Loss/Loss_reward_critic/Delta │ 949.78076171875        │\n",
       "│ Value/reward                  │ 90.19957733154297      │\n",
       "│ Loss/Loss_cost_critic         │ 55167.55859375         │\n",
       "│ Loss/Loss_cost_critic/Delta   │ -1363.96484375         │\n",
       "│ Value/cost                    │ 1929.42578125          │\n",
       "│ Time/Total                    │ 473.46771240234375     │\n",
       "│ Time/Rollout                  │ 25.82605743408203      │\n",
       "│ Time/Update                   │ 26.145244598388672     │\n",
       "│ Time/Epoch                    │ 51.9713020324707       │\n",
       "│ Time/FPS                      │ 384.8277587890625      │\n",
       "│ Env/Success_counts            │ nan                    │\n",
       "│ Misc/Alpha                    │ 0.11893757432699203    │\n",
       "│ Misc/FinalStepNorm            │ 0.11453956365585327    │\n",
       "│ Misc/gradient_norm            │ 2.062471628189087      │\n",
       "│ Misc/xHx                      │ 1.4138123989105225     │\n",
       "│ Misc/H_inv_g                  │ 1.5578891038894653     │\n",
       "│ Misc/AcceptanceStep           │ 2.0                    │\n",
       "│ Misc/cost_gradient_norm       │ 1763.3648681640625     │\n",
       "│ Misc/A                        │ 1.408684253692627      │\n",
       "│ Misc/B                        │ -29.505842208862305    │\n",
       "│ Misc/q                        │ 1.4138123989105225     │\n",
       "│ Misc/r                        │ -38.09638595581055     │\n",
       "│ Misc/s                        │ 283016.28125           │\n",
       "│ Misc/Lambda_star              │ 0.0                    │\n",
       "│ Misc/Nu_star                  │ 0.00026583325234241784 │\n",
       "│ Misc/OptimCase                │ 0.0                    │\n",
       "└───────────────────────────────┴────────────────────────┘\n",
       "</pre>\n"
      ],
      "text/plain": [
       "┏━━━━━━━━━━━━━━━━━━━━━━━━━━━━━━━┳━━━━━━━━━━━━━━━━━━━━━━━━┓\n",
       "┃\u001b[1m \u001b[0m\u001b[1mMetrics                      \u001b[0m\u001b[1m \u001b[0m┃\u001b[1m \u001b[0m\u001b[1mValue                 \u001b[0m\u001b[1m \u001b[0m┃\n",
       "┡━━━━━━━━━━━━━━━━━━━━━━━━━━━━━━━╇━━━━━━━━━━━━━━━━━━━━━━━━┩\n",
       "│ Metrics/EpRet                 │ 85.58165740966797      │\n",
       "│ Metrics/EpCost                │ 2915.7255859375        │\n",
       "│ Metrics/EpLen                 │ 6.0                    │\n",
       "│ Train/Epoch                   │ 7.0                    │\n",
       "│ Train/Entropy                 │ 1.371154546737671      │\n",
       "│ Train/KL                      │ 0.0001843988720793277  │\n",
       "│ Train/StopIter                │ 10.0                   │\n",
       "│ Train/PolicyRatio/Mean        │ 0.9987061023712158     │\n",
       "│ Train/PolicyRatio/Min         │ 0.9987061023712158     │\n",
       "│ Train/PolicyRatio/Max         │ 0.9987061023712158     │\n",
       "│ Train/PolicyRatio/Std         │ 0.000762586307246238   │\n",
       "│ Train/LR                      │ 0.0                    │\n",
       "│ Train/PolicyStd               │ 0.9539805054664612     │\n",
       "│ TotalEnvSteps                 │ 160000.0               │\n",
       "│ Loss/Loss_pi                  │ -10.795404434204102    │\n",
       "│ Loss/Loss_pi/Delta            │ 1.355194091796875      │\n",
       "│ Value/Adv                     │ 3.814697446813398e-09  │\n",
       "│ Loss/Loss_reward_critic       │ 8137.11376953125       │\n",
       "│ Loss/Loss_reward_critic/Delta │ 949.78076171875        │\n",
       "│ Value/reward                  │ 90.19957733154297      │\n",
       "│ Loss/Loss_cost_critic         │ 55167.55859375         │\n",
       "│ Loss/Loss_cost_critic/Delta   │ -1363.96484375         │\n",
       "│ Value/cost                    │ 1929.42578125          │\n",
       "│ Time/Total                    │ 473.46771240234375     │\n",
       "│ Time/Rollout                  │ 25.82605743408203      │\n",
       "│ Time/Update                   │ 26.145244598388672     │\n",
       "│ Time/Epoch                    │ 51.9713020324707       │\n",
       "│ Time/FPS                      │ 384.8277587890625      │\n",
       "│ Env/Success_counts            │ nan                    │\n",
       "│ Misc/Alpha                    │ 0.11893757432699203    │\n",
       "│ Misc/FinalStepNorm            │ 0.11453956365585327    │\n",
       "│ Misc/gradient_norm            │ 2.062471628189087      │\n",
       "│ Misc/xHx                      │ 1.4138123989105225     │\n",
       "│ Misc/H_inv_g                  │ 1.5578891038894653     │\n",
       "│ Misc/AcceptanceStep           │ 2.0                    │\n",
       "│ Misc/cost_gradient_norm       │ 1763.3648681640625     │\n",
       "│ Misc/A                        │ 1.408684253692627      │\n",
       "│ Misc/B                        │ -29.505842208862305    │\n",
       "│ Misc/q                        │ 1.4138123989105225     │\n",
       "│ Misc/r                        │ -38.09638595581055     │\n",
       "│ Misc/s                        │ 283016.28125           │\n",
       "│ Misc/Lambda_star              │ 0.0                    │\n",
       "│ Misc/Nu_star                  │ 0.00026583325234241784 │\n",
       "│ Misc/OptimCase                │ 0.0                    │\n",
       "└───────────────────────────────┴────────────────────────┘\n"
      ]
     },
     "metadata": {},
     "output_type": "display_data"
    },
    {
     "data": {
      "text/html": [
       "<pre style=\"white-space:pre;overflow-x:auto;line-height:normal;font-family:Menlo,'DejaVu Sans Mono',consolas,'Courier New',monospace\"><span style=\"color: #008000; text-decoration-color: #008000\">Warning: trajectory cut off when rollout by epoch at </span><span style=\"color: #008080; text-decoration-color: #008080; font-weight: bold\">2.0</span><span style=\"color: #008000; text-decoration-color: #008000\"> steps.</span>\n",
       "</pre>\n"
      ],
      "text/plain": [
       "\u001b[32mWarning: trajectory cut off when rollout by epoch at \u001b[0m\u001b[1;36m2.0\u001b[0m\u001b[32m steps.\u001b[0m\n"
      ]
     },
     "metadata": {},
     "output_type": "display_data"
    },
    {
     "data": {
      "text/html": [
       "<pre style=\"white-space:pre;overflow-x:auto;line-height:normal;font-family:Menlo,'DejaVu Sans Mono',consolas,'Courier New',monospace\"></pre>\n"
      ],
      "text/plain": []
     },
     "metadata": {},
     "output_type": "display_data"
    },
    {
     "data": {
      "text/html": [
       "<pre style=\"white-space:pre;overflow-x:auto;line-height:normal;font-family:Menlo,'DejaVu Sans Mono',consolas,'Courier New',monospace\"><span style=\"color: #800000; text-decoration-color: #800000\">Alert! Attempting infeasible recovery!</span>\n",
       "</pre>\n"
      ],
      "text/plain": [
       "\u001b[31mAlert! Attempting infeasible recovery!\u001b[0m\n"
      ]
     },
     "metadata": {},
     "output_type": "display_data"
    },
    {
     "data": {
      "text/html": [
       "<pre style=\"white-space:pre;overflow-x:auto;line-height:normal;font-family:Menlo,'DejaVu Sans Mono',consolas,'Courier New',monospace\"><span style=\"color: #008000; text-decoration-color: #008000\">Expected Improvement: </span><span style=\"color: #008080; text-decoration-color: #008080; font-weight: bold\">0.010867327451705933</span><span style=\"color: #008000; text-decoration-color: #008000\"> Actual: </span><span style=\"color: #008080; text-decoration-color: #008080; font-weight: bold\">0.008543404750525951</span>\n",
       "</pre>\n"
      ],
      "text/plain": [
       "\u001b[32mExpected Improvement: \u001b[0m\u001b[1;36m0.010867327451705933\u001b[0m\u001b[32m Actual: \u001b[0m\u001b[1;36m0.008543404750525951\u001b[0m\n"
      ]
     },
     "metadata": {},
     "output_type": "display_data"
    },
    {
     "data": {
      "text/html": [
       "<pre style=\"white-space:pre;overflow-x:auto;line-height:normal;font-family:Menlo,'DejaVu Sans Mono',consolas,'Courier New',monospace\"><span style=\"color: #008000; text-decoration-color: #008000\">INFO: violated KL constraint </span><span style=\"color: #008080; text-decoration-color: #008080; font-weight: bold\">0.010581262409687042</span><span style=\"color: #008000; text-decoration-color: #008000\"> at step </span><span style=\"color: #008080; text-decoration-color: #008080; font-weight: bold\">1</span><span style=\"color: #008000; text-decoration-color: #008000\">.</span>\n",
       "</pre>\n"
      ],
      "text/plain": [
       "\u001b[32mINFO: violated KL constraint \u001b[0m\u001b[1;36m0.010581262409687042\u001b[0m\u001b[32m at step \u001b[0m\u001b[1;36m1\u001b[0m\u001b[32m.\u001b[0m\n"
      ]
     },
     "metadata": {},
     "output_type": "display_data"
    },
    {
     "data": {
      "text/html": [
       "<pre style=\"white-space:pre;overflow-x:auto;line-height:normal;font-family:Menlo,'DejaVu Sans Mono',consolas,'Courier New',monospace\"><span style=\"color: #008000; text-decoration-color: #008000\">Expected Improvement: </span><span style=\"color: #008080; text-decoration-color: #008080; font-weight: bold\">0.010867327451705933</span><span style=\"color: #008000; text-decoration-color: #008000\"> Actual: </span><span style=\"color: #008080; text-decoration-color: #008080; font-weight: bold\">0.007400182541459799</span>\n",
       "</pre>\n"
      ],
      "text/plain": [
       "\u001b[32mExpected Improvement: \u001b[0m\u001b[1;36m0.010867327451705933\u001b[0m\u001b[32m Actual: \u001b[0m\u001b[1;36m0.007400182541459799\u001b[0m\n"
      ]
     },
     "metadata": {},
     "output_type": "display_data"
    },
    {
     "data": {
      "text/html": [
       "<pre style=\"white-space:pre;overflow-x:auto;line-height:normal;font-family:Menlo,'DejaVu Sans Mono',consolas,'Courier New',monospace\"><span style=\"color: #008000; text-decoration-color: #008000\">Accept step at </span><span style=\"color: #808000; text-decoration-color: #808000\">i</span><span style=\"color: #008000; text-decoration-color: #008000\">=</span><span style=\"color: #008080; text-decoration-color: #008080; font-weight: bold\">2</span>\n",
       "</pre>\n"
      ],
      "text/plain": [
       "\u001b[32mAccept step at \u001b[0m\u001b[33mi\u001b[0m\u001b[32m=\u001b[0m\u001b[1;36m2\u001b[0m\n"
      ]
     },
     "metadata": {},
     "output_type": "display_data"
    },
    {
     "data": {
      "text/html": [
       "<pre style=\"white-space:pre;overflow-x:auto;line-height:normal;font-family:Menlo,'DejaVu Sans Mono',consolas,'Courier New',monospace\">┏━━━━━━━━━━━━━━━━━━━━━━━━━━━━━━━┳━━━━━━━━━━━━━━━━━━━━━━━━┓\n",
       "┃<span style=\"font-weight: bold\"> Metrics                       </span>┃<span style=\"font-weight: bold\"> Value                  </span>┃\n",
       "┡━━━━━━━━━━━━━━━━━━━━━━━━━━━━━━━╇━━━━━━━━━━━━━━━━━━━━━━━━┩\n",
       "│ Metrics/EpRet                 │ 85.19879913330078      │\n",
       "│ Metrics/EpCost                │ 2687.75                │\n",
       "│ Metrics/EpLen                 │ 6.0                    │\n",
       "│ Train/Epoch                   │ 8.0                    │\n",
       "│ Train/Entropy                 │ 1.3568904399871826     │\n",
       "│ Train/KL                      │ 0.00019367139611858875 │\n",
       "│ Train/StopIter                │ 10.0                   │\n",
       "│ Train/PolicyRatio/Mean        │ 1.0094153881072998     │\n",
       "│ Train/PolicyRatio/Min         │ 1.0094153881072998     │\n",
       "│ Train/PolicyRatio/Max         │ 1.0094153881072998     │\n",
       "│ Train/PolicyRatio/Std         │ 0.0056839510798454285  │\n",
       "│ Train/LR                      │ 0.0                    │\n",
       "│ Train/PolicyStd               │ 0.9405835270881653     │\n",
       "│ TotalEnvSteps                 │ 180000.0               │\n",
       "│ Loss/Loss_pi                  │ -11.466414451599121    │\n",
       "│ Loss/Loss_pi/Delta            │ -0.6710100173950195    │\n",
       "│ Value/Adv                     │ 2.956390465769232e-09  │\n",
       "│ Loss/Loss_reward_critic       │ 8982.287109375         │\n",
       "│ Loss/Loss_reward_critic/Delta │ 845.17333984375        │\n",
       "│ Value/reward                  │ 92.0668716430664       │\n",
       "│ Loss/Loss_cost_critic         │ 51481.9296875          │\n",
       "│ Loss/Loss_cost_critic/Delta   │ -3685.62890625         │\n",
       "│ Value/cost                    │ 1697.08154296875       │\n",
       "│ Time/Total                    │ 529.6526489257812      │\n",
       "│ Time/Rollout                  │ 29.30953025817871      │\n",
       "│ Time/Update                   │ 26.821277618408203     │\n",
       "│ Time/Epoch                    │ 56.13080596923828      │\n",
       "│ Time/FPS                      │ 356.3105773925781      │\n",
       "│ Env/Success_counts            │ nan                    │\n",
       "│ Misc/Alpha                    │ 0.12430146336555481    │\n",
       "│ Misc/FinalStepNorm            │ 0.09325924515724182    │\n",
       "│ Misc/gradient_norm            │ 1.93020761013031       │\n",
       "│ Misc/xHx                      │ 1.2944269180297852     │\n",
       "│ Misc/H_inv_g                  │ 1.618464708328247      │\n",
       "│ Misc/AcceptanceStep           │ 2.0                    │\n",
       "│ Misc/cost_gradient_norm       │ 1934.4915771484375     │\n",
       "│ Misc/A                        │ 1.2885220050811768     │\n",
       "│ Misc/B                        │ -29.580638885498047    │\n",
       "│ Misc/q                        │ 1.2944269180297852     │\n",
       "│ Misc/r                        │ -37.608638763427734    │\n",
       "│ Misc/s                        │ 239529.890625          │\n",
       "│ Misc/Lambda_star              │ 0.0                    │\n",
       "│ Misc/Nu_star                  │ 0.00028895828290842474 │\n",
       "│ Misc/OptimCase                │ 0.0                    │\n",
       "└───────────────────────────────┴────────────────────────┘\n",
       "</pre>\n"
      ],
      "text/plain": [
       "┏━━━━━━━━━━━━━━━━━━━━━━━━━━━━━━━┳━━━━━━━━━━━━━━━━━━━━━━━━┓\n",
       "┃\u001b[1m \u001b[0m\u001b[1mMetrics                      \u001b[0m\u001b[1m \u001b[0m┃\u001b[1m \u001b[0m\u001b[1mValue                 \u001b[0m\u001b[1m \u001b[0m┃\n",
       "┡━━━━━━━━━━━━━━━━━━━━━━━━━━━━━━━╇━━━━━━━━━━━━━━━━━━━━━━━━┩\n",
       "│ Metrics/EpRet                 │ 85.19879913330078      │\n",
       "│ Metrics/EpCost                │ 2687.75                │\n",
       "│ Metrics/EpLen                 │ 6.0                    │\n",
       "│ Train/Epoch                   │ 8.0                    │\n",
       "│ Train/Entropy                 │ 1.3568904399871826     │\n",
       "│ Train/KL                      │ 0.00019367139611858875 │\n",
       "│ Train/StopIter                │ 10.0                   │\n",
       "│ Train/PolicyRatio/Mean        │ 1.0094153881072998     │\n",
       "│ Train/PolicyRatio/Min         │ 1.0094153881072998     │\n",
       "│ Train/PolicyRatio/Max         │ 1.0094153881072998     │\n",
       "│ Train/PolicyRatio/Std         │ 0.0056839510798454285  │\n",
       "│ Train/LR                      │ 0.0                    │\n",
       "│ Train/PolicyStd               │ 0.9405835270881653     │\n",
       "│ TotalEnvSteps                 │ 180000.0               │\n",
       "│ Loss/Loss_pi                  │ -11.466414451599121    │\n",
       "│ Loss/Loss_pi/Delta            │ -0.6710100173950195    │\n",
       "│ Value/Adv                     │ 2.956390465769232e-09  │\n",
       "│ Loss/Loss_reward_critic       │ 8982.287109375         │\n",
       "│ Loss/Loss_reward_critic/Delta │ 845.17333984375        │\n",
       "│ Value/reward                  │ 92.0668716430664       │\n",
       "│ Loss/Loss_cost_critic         │ 51481.9296875          │\n",
       "│ Loss/Loss_cost_critic/Delta   │ -3685.62890625         │\n",
       "│ Value/cost                    │ 1697.08154296875       │\n",
       "│ Time/Total                    │ 529.6526489257812      │\n",
       "│ Time/Rollout                  │ 29.30953025817871      │\n",
       "│ Time/Update                   │ 26.821277618408203     │\n",
       "│ Time/Epoch                    │ 56.13080596923828      │\n",
       "│ Time/FPS                      │ 356.3105773925781      │\n",
       "│ Env/Success_counts            │ nan                    │\n",
       "│ Misc/Alpha                    │ 0.12430146336555481    │\n",
       "│ Misc/FinalStepNorm            │ 0.09325924515724182    │\n",
       "│ Misc/gradient_norm            │ 1.93020761013031       │\n",
       "│ Misc/xHx                      │ 1.2944269180297852     │\n",
       "│ Misc/H_inv_g                  │ 1.618464708328247      │\n",
       "│ Misc/AcceptanceStep           │ 2.0                    │\n",
       "│ Misc/cost_gradient_norm       │ 1934.4915771484375     │\n",
       "│ Misc/A                        │ 1.2885220050811768     │\n",
       "│ Misc/B                        │ -29.580638885498047    │\n",
       "│ Misc/q                        │ 1.2944269180297852     │\n",
       "│ Misc/r                        │ -37.608638763427734    │\n",
       "│ Misc/s                        │ 239529.890625          │\n",
       "│ Misc/Lambda_star              │ 0.0                    │\n",
       "│ Misc/Nu_star                  │ 0.00028895828290842474 │\n",
       "│ Misc/OptimCase                │ 0.0                    │\n",
       "└───────────────────────────────┴────────────────────────┘\n"
      ]
     },
     "metadata": {},
     "output_type": "display_data"
    },
    {
     "data": {
      "text/html": [
       "<pre style=\"white-space:pre;overflow-x:auto;line-height:normal;font-family:Menlo,'DejaVu Sans Mono',consolas,'Courier New',monospace\"><span style=\"color: #008000; text-decoration-color: #008000\">Warning: trajectory cut off when rollout by epoch at </span><span style=\"color: #008080; text-decoration-color: #008080; font-weight: bold\">2.0</span><span style=\"color: #008000; text-decoration-color: #008000\"> steps.</span>\n",
       "</pre>\n"
      ],
      "text/plain": [
       "\u001b[32mWarning: trajectory cut off when rollout by epoch at \u001b[0m\u001b[1;36m2.0\u001b[0m\u001b[32m steps.\u001b[0m\n"
      ]
     },
     "metadata": {},
     "output_type": "display_data"
    },
    {
     "data": {
      "text/html": [
       "<pre style=\"white-space:pre;overflow-x:auto;line-height:normal;font-family:Menlo,'DejaVu Sans Mono',consolas,'Courier New',monospace\"></pre>\n"
      ],
      "text/plain": []
     },
     "metadata": {},
     "output_type": "display_data"
    },
    {
     "data": {
      "text/html": [
       "<pre style=\"white-space:pre;overflow-x:auto;line-height:normal;font-family:Menlo,'DejaVu Sans Mono',consolas,'Courier New',monospace\"><span style=\"color: #800000; text-decoration-color: #800000\">Alert! Attempting infeasible recovery!</span>\n",
       "</pre>\n"
      ],
      "text/plain": [
       "\u001b[31mAlert! Attempting infeasible recovery!\u001b[0m\n"
      ]
     },
     "metadata": {},
     "output_type": "display_data"
    },
    {
     "data": {
      "text/html": [
       "<pre style=\"white-space:pre;overflow-x:auto;line-height:normal;font-family:Menlo,'DejaVu Sans Mono',consolas,'Courier New',monospace\"><span style=\"color: #008000; text-decoration-color: #008000\">Expected Improvement: </span><span style=\"color: #008080; text-decoration-color: #008080; font-weight: bold\">0.008673497475683689</span><span style=\"color: #008000; text-decoration-color: #008000\"> Actual: </span><span style=\"color: #008080; text-decoration-color: #008080; font-weight: bold\">0.009012644179165363</span>\n",
       "</pre>\n"
      ],
      "text/plain": [
       "\u001b[32mExpected Improvement: \u001b[0m\u001b[1;36m0.008673497475683689\u001b[0m\u001b[32m Actual: \u001b[0m\u001b[1;36m0.009012644179165363\u001b[0m\n"
      ]
     },
     "metadata": {},
     "output_type": "display_data"
    },
    {
     "data": {
      "text/html": [
       "<pre style=\"white-space:pre;overflow-x:auto;line-height:normal;font-family:Menlo,'DejaVu Sans Mono',consolas,'Courier New',monospace\"><span style=\"color: #008000; text-decoration-color: #008000\">Accept step at </span><span style=\"color: #808000; text-decoration-color: #808000\">i</span><span style=\"color: #008000; text-decoration-color: #008000\">=</span><span style=\"color: #008080; text-decoration-color: #008080; font-weight: bold\">1</span>\n",
       "</pre>\n"
      ],
      "text/plain": [
       "\u001b[32mAccept step at \u001b[0m\u001b[33mi\u001b[0m\u001b[32m=\u001b[0m\u001b[1;36m1\u001b[0m\n"
      ]
     },
     "metadata": {},
     "output_type": "display_data"
    },
    {
     "data": {
      "text/html": [
       "<pre style=\"white-space:pre;overflow-x:auto;line-height:normal;font-family:Menlo,'DejaVu Sans Mono',consolas,'Courier New',monospace\">┏━━━━━━━━━━━━━━━━━━━━━━━━━━━━━━━┳━━━━━━━━━━━━━━━━━━━━━━━━┓\n",
       "┃<span style=\"font-weight: bold\"> Metrics                       </span>┃<span style=\"font-weight: bold\"> Value                  </span>┃\n",
       "┡━━━━━━━━━━━━━━━━━━━━━━━━━━━━━━━╇━━━━━━━━━━━━━━━━━━━━━━━━┩\n",
       "│ Metrics/EpRet                 │ 154.39134216308594     │\n",
       "│ Metrics/EpCost                │ 2280.2470703125        │\n",
       "│ Metrics/EpLen                 │ 6.0                    │\n",
       "│ Train/Epoch                   │ 9.0                    │\n",
       "│ Train/Entropy                 │ 1.3420664072036743     │\n",
       "│ Train/KL                      │ 0.00026653989334590733 │\n",
       "│ Train/StopIter                │ 10.0                   │\n",
       "│ Train/PolicyRatio/Mean        │ 0.9979837536811829     │\n",
       "│ Train/PolicyRatio/Min         │ 0.9979837536811829     │\n",
       "│ Train/PolicyRatio/Max         │ 0.9979837536811829     │\n",
       "│ Train/PolicyRatio/Std         │ 0.0014256873400881886  │\n",
       "│ Train/LR                      │ 0.0                    │\n",
       "│ Train/PolicyStd               │ 0.9268450736999512     │\n",
       "│ TotalEnvSteps                 │ 200000.0               │\n",
       "│ Loss/Loss_pi                  │ -14.824387550354004    │\n",
       "│ Loss/Loss_pi/Delta            │ -3.357973098754883     │\n",
       "│ Value/Adv                     │ -9.727478378351861e-09 │\n",
       "│ Loss/Loss_reward_critic       │ 9188.46484375          │\n",
       "│ Loss/Loss_reward_critic/Delta │ 206.177734375          │\n",
       "│ Value/reward                  │ 95.97208404541016      │\n",
       "│ Loss/Loss_cost_critic         │ 47488.73828125         │\n",
       "│ Loss/Loss_cost_critic/Delta   │ -3993.19140625         │\n",
       "│ Value/cost                    │ 1518.8797607421875     │\n",
       "│ Time/Total                    │ 585.4072265625         │\n",
       "│ Time/Rollout                  │ 29.19204330444336      │\n",
       "│ Time/Update                   │ 26.51995086669922      │\n",
       "│ Time/Epoch                    │ 55.71199417114258      │\n",
       "│ Time/FPS                      │ 358.9891357421875      │\n",
       "│ Env/Success_counts            │ nan                    │\n",
       "│ Misc/Alpha                    │ 0.12330728769302368    │\n",
       "│ Misc/FinalStepNorm            │ 0.18497240543365479    │\n",
       "│ Misc/gradient_norm            │ 1.9089535474777222     │\n",
       "│ Misc/xHx                      │ 1.315383791923523      │\n",
       "│ Misc/H_inv_g                  │ 1.6576147079467773     │\n",
       "│ Misc/AcceptanceStep           │ 1.0                    │\n",
       "│ Misc/cost_gradient_norm       │ 1958.47900390625       │\n",
       "│ Misc/A                        │ 1.3116222620010376     │\n",
       "│ Misc/B                        │ -18.857072830200195    │\n",
       "│ Misc/q                        │ 1.315383791923523      │\n",
       "│ Misc/r                        │ -31.835086822509766    │\n",
       "│ Misc/s                        │ 269434.75              │\n",
       "│ Misc/Lambda_star              │ 0.0                    │\n",
       "│ Misc/Nu_star                  │ 0.00027245088131166995 │\n",
       "│ Misc/OptimCase                │ 0.0                    │\n",
       "└───────────────────────────────┴────────────────────────┘\n",
       "</pre>\n"
      ],
      "text/plain": [
       "┏━━━━━━━━━━━━━━━━━━━━━━━━━━━━━━━┳━━━━━━━━━━━━━━━━━━━━━━━━┓\n",
       "┃\u001b[1m \u001b[0m\u001b[1mMetrics                      \u001b[0m\u001b[1m \u001b[0m┃\u001b[1m \u001b[0m\u001b[1mValue                 \u001b[0m\u001b[1m \u001b[0m┃\n",
       "┡━━━━━━━━━━━━━━━━━━━━━━━━━━━━━━━╇━━━━━━━━━━━━━━━━━━━━━━━━┩\n",
       "│ Metrics/EpRet                 │ 154.39134216308594     │\n",
       "│ Metrics/EpCost                │ 2280.2470703125        │\n",
       "│ Metrics/EpLen                 │ 6.0                    │\n",
       "│ Train/Epoch                   │ 9.0                    │\n",
       "│ Train/Entropy                 │ 1.3420664072036743     │\n",
       "│ Train/KL                      │ 0.00026653989334590733 │\n",
       "│ Train/StopIter                │ 10.0                   │\n",
       "│ Train/PolicyRatio/Mean        │ 0.9979837536811829     │\n",
       "│ Train/PolicyRatio/Min         │ 0.9979837536811829     │\n",
       "│ Train/PolicyRatio/Max         │ 0.9979837536811829     │\n",
       "│ Train/PolicyRatio/Std         │ 0.0014256873400881886  │\n",
       "│ Train/LR                      │ 0.0                    │\n",
       "│ Train/PolicyStd               │ 0.9268450736999512     │\n",
       "│ TotalEnvSteps                 │ 200000.0               │\n",
       "│ Loss/Loss_pi                  │ -14.824387550354004    │\n",
       "│ Loss/Loss_pi/Delta            │ -3.357973098754883     │\n",
       "│ Value/Adv                     │ -9.727478378351861e-09 │\n",
       "│ Loss/Loss_reward_critic       │ 9188.46484375          │\n",
       "│ Loss/Loss_reward_critic/Delta │ 206.177734375          │\n",
       "│ Value/reward                  │ 95.97208404541016      │\n",
       "│ Loss/Loss_cost_critic         │ 47488.73828125         │\n",
       "│ Loss/Loss_cost_critic/Delta   │ -3993.19140625         │\n",
       "│ Value/cost                    │ 1518.8797607421875     │\n",
       "│ Time/Total                    │ 585.4072265625         │\n",
       "│ Time/Rollout                  │ 29.19204330444336      │\n",
       "│ Time/Update                   │ 26.51995086669922      │\n",
       "│ Time/Epoch                    │ 55.71199417114258      │\n",
       "│ Time/FPS                      │ 358.9891357421875      │\n",
       "│ Env/Success_counts            │ nan                    │\n",
       "│ Misc/Alpha                    │ 0.12330728769302368    │\n",
       "│ Misc/FinalStepNorm            │ 0.18497240543365479    │\n",
       "│ Misc/gradient_norm            │ 1.9089535474777222     │\n",
       "│ Misc/xHx                      │ 1.315383791923523      │\n",
       "│ Misc/H_inv_g                  │ 1.6576147079467773     │\n",
       "│ Misc/AcceptanceStep           │ 1.0                    │\n",
       "│ Misc/cost_gradient_norm       │ 1958.47900390625       │\n",
       "│ Misc/A                        │ 1.3116222620010376     │\n",
       "│ Misc/B                        │ -18.857072830200195    │\n",
       "│ Misc/q                        │ 1.315383791923523      │\n",
       "│ Misc/r                        │ -31.835086822509766    │\n",
       "│ Misc/s                        │ 269434.75              │\n",
       "│ Misc/Lambda_star              │ 0.0                    │\n",
       "│ Misc/Nu_star                  │ 0.00027245088131166995 │\n",
       "│ Misc/OptimCase                │ 0.0                    │\n",
       "└───────────────────────────────┴────────────────────────┘\n"
      ]
     },
     "metadata": {},
     "output_type": "display_data"
    },
    {
     "data": {
      "text/html": [
       "<pre style=\"white-space:pre;overflow-x:auto;line-height:normal;font-family:Menlo,'DejaVu Sans Mono',consolas,'Courier New',monospace\"><span style=\"color: #008000; text-decoration-color: #008000\">Warning: trajectory cut off when rollout by epoch at </span><span style=\"color: #008080; text-decoration-color: #008080; font-weight: bold\">2.0</span><span style=\"color: #008000; text-decoration-color: #008000\"> steps.</span>\n",
       "</pre>\n"
      ],
      "text/plain": [
       "\u001b[32mWarning: trajectory cut off when rollout by epoch at \u001b[0m\u001b[1;36m2.0\u001b[0m\u001b[32m steps.\u001b[0m\n"
      ]
     },
     "metadata": {},
     "output_type": "display_data"
    },
    {
     "data": {
      "text/html": [
       "<pre style=\"white-space:pre;overflow-x:auto;line-height:normal;font-family:Menlo,'DejaVu Sans Mono',consolas,'Courier New',monospace\"></pre>\n"
      ],
      "text/plain": []
     },
     "metadata": {},
     "output_type": "display_data"
    },
    {
     "data": {
      "text/html": [
       "<pre style=\"white-space:pre;overflow-x:auto;line-height:normal;font-family:Menlo,'DejaVu Sans Mono',consolas,'Courier New',monospace\"><span style=\"color: #800000; text-decoration-color: #800000\">Alert! Attempting infeasible recovery!</span>\n",
       "</pre>\n"
      ],
      "text/plain": [
       "\u001b[31mAlert! Attempting infeasible recovery!\u001b[0m\n"
      ]
     },
     "metadata": {},
     "output_type": "display_data"
    },
    {
     "data": {
      "text/html": [
       "<pre style=\"white-space:pre;overflow-x:auto;line-height:normal;font-family:Menlo,'DejaVu Sans Mono',consolas,'Courier New',monospace\"><span style=\"color: #008000; text-decoration-color: #008000\">Expected Improvement: </span><span style=\"color: #008080; text-decoration-color: #008080; font-weight: bold\">0.006146586500108242</span><span style=\"color: #008000; text-decoration-color: #008000\"> Actual: </span><span style=\"color: #008080; text-decoration-color: #008080; font-weight: bold\">0.00634319381788373</span>\n",
       "</pre>\n"
      ],
      "text/plain": [
       "\u001b[32mExpected Improvement: \u001b[0m\u001b[1;36m0.006146586500108242\u001b[0m\u001b[32m Actual: \u001b[0m\u001b[1;36m0.00634319381788373\u001b[0m\n"
      ]
     },
     "metadata": {},
     "output_type": "display_data"
    },
    {
     "data": {
      "text/html": [
       "<pre style=\"white-space:pre;overflow-x:auto;line-height:normal;font-family:Menlo,'DejaVu Sans Mono',consolas,'Courier New',monospace\"><span style=\"color: #008000; text-decoration-color: #008000\">INFO: violated KL constraint </span><span style=\"color: #008080; text-decoration-color: #008080; font-weight: bold\">0.010320727713406086</span><span style=\"color: #008000; text-decoration-color: #008000\"> at step </span><span style=\"color: #008080; text-decoration-color: #008080; font-weight: bold\">1</span><span style=\"color: #008000; text-decoration-color: #008000\">.</span>\n",
       "</pre>\n"
      ],
      "text/plain": [
       "\u001b[32mINFO: violated KL constraint \u001b[0m\u001b[1;36m0.010320727713406086\u001b[0m\u001b[32m at step \u001b[0m\u001b[1;36m1\u001b[0m\u001b[32m.\u001b[0m\n"
      ]
     },
     "metadata": {},
     "output_type": "display_data"
    },
    {
     "data": {
      "text/html": [
       "<pre style=\"white-space:pre;overflow-x:auto;line-height:normal;font-family:Menlo,'DejaVu Sans Mono',consolas,'Courier New',monospace\"><span style=\"color: #008000; text-decoration-color: #008000\">Expected Improvement: </span><span style=\"color: #008080; text-decoration-color: #008080; font-weight: bold\">0.006146586500108242</span><span style=\"color: #008000; text-decoration-color: #008000\"> Actual: </span><span style=\"color: #008080; text-decoration-color: #008080; font-weight: bold\">0.0052869864739477634</span>\n",
       "</pre>\n"
      ],
      "text/plain": [
       "\u001b[32mExpected Improvement: \u001b[0m\u001b[1;36m0.006146586500108242\u001b[0m\u001b[32m Actual: \u001b[0m\u001b[1;36m0.0052869864739477634\u001b[0m\n"
      ]
     },
     "metadata": {},
     "output_type": "display_data"
    },
    {
     "data": {
      "text/html": [
       "<pre style=\"white-space:pre;overflow-x:auto;line-height:normal;font-family:Menlo,'DejaVu Sans Mono',consolas,'Courier New',monospace\"><span style=\"color: #008000; text-decoration-color: #008000\">Accept step at </span><span style=\"color: #808000; text-decoration-color: #808000\">i</span><span style=\"color: #008000; text-decoration-color: #008000\">=</span><span style=\"color: #008080; text-decoration-color: #008080; font-weight: bold\">2</span>\n",
       "</pre>\n"
      ],
      "text/plain": [
       "\u001b[32mAccept step at \u001b[0m\u001b[33mi\u001b[0m\u001b[32m=\u001b[0m\u001b[1;36m2\u001b[0m\n"
      ]
     },
     "metadata": {},
     "output_type": "display_data"
    },
    {
     "data": {
      "text/html": [
       "<pre style=\"white-space:pre;overflow-x:auto;line-height:normal;font-family:Menlo,'DejaVu Sans Mono',consolas,'Courier New',monospace\">┏━━━━━━━━━━━━━━━━━━━━━━━━━━━━━━━┳━━━━━━━━━━━━━━━━━━━━━━━━┓\n",
       "┃<span style=\"font-weight: bold\"> Metrics                       </span>┃<span style=\"font-weight: bold\"> Value                  </span>┃\n",
       "┡━━━━━━━━━━━━━━━━━━━━━━━━━━━━━━━╇━━━━━━━━━━━━━━━━━━━━━━━━┩\n",
       "│ Metrics/EpRet                 │ 118.15141296386719     │\n",
       "│ Metrics/EpCost                │ 1948.2698974609375     │\n",
       "│ Metrics/EpLen                 │ 6.0                    │\n",
       "│ Train/Epoch                   │ 10.0                   │\n",
       "│ Train/Entropy                 │ 1.3218727111816406     │\n",
       "│ Train/KL                      │ 0.00019008523668162525 │\n",
       "│ Train/StopIter                │ 10.0                   │\n",
       "│ Train/PolicyRatio/Mean        │ 1.0035661458969116     │\n",
       "│ Train/PolicyRatio/Min         │ 1.0035661458969116     │\n",
       "│ Train/PolicyRatio/Max         │ 1.0035661458969116     │\n",
       "│ Train/PolicyRatio/Std         │ 0.002132114954292774   │\n",
       "│ Train/LR                      │ 0.0                    │\n",
       "│ Train/PolicyStd               │ 0.9084351062774658     │\n",
       "│ TotalEnvSteps                 │ 220000.0               │\n",
       "│ Loss/Loss_pi                  │ -9.909845352172852     │\n",
       "│ Loss/Loss_pi/Delta            │ 4.914542198181152      │\n",
       "│ Value/Adv                     │ 1.1825561863076928e-08 │\n",
       "│ Loss/Loss_reward_critic       │ 9768.5478515625        │\n",
       "│ Loss/Loss_reward_critic/Delta │ 580.0830078125         │\n",
       "│ Value/reward                  │ 113.94598388671875     │\n",
       "│ Loss/Loss_cost_critic         │ 41009.91796875         │\n",
       "│ Loss/Loss_cost_critic/Delta   │ -6478.8203125          │\n",
       "│ Value/cost                    │ 1281.6466064453125     │\n",
       "│ Time/Total                    │ 641.4332275390625      │\n",
       "│ Time/Rollout                  │ 29.63280487060547      │\n",
       "│ Time/Update                   │ 26.349082946777344     │\n",
       "│ Time/Epoch                    │ 55.98188781738281      │\n",
       "│ Time/FPS                      │ 357.2583923339844      │\n",
       "│ Env/Success_counts            │ nan                    │\n",
       "│ Misc/Alpha                    │ 0.12217196077108383    │\n",
       "│ Misc/FinalStepNorm            │ 0.10508342832326889    │\n",
       "│ Misc/gradient_norm            │ 1.8701189756393433     │\n",
       "│ Misc/xHx                      │ 1.339944839477539      │\n",
       "│ Misc/H_inv_g                  │ 1.747037649154663      │\n",
       "│ Misc/AcceptanceStep           │ 2.0                    │\n",
       "│ Misc/cost_gradient_norm       │ 1951.1092529296875     │\n",
       "│ Misc/A                        │ 1.3380558490753174     │\n",
       "│ Misc/B                        │ -20.26267433166504     │\n",
       "│ Misc/q                        │ 1.339944839477539      │\n",
       "│ Misc/r                        │ -18.560794830322266    │\n",
       "│ Misc/s                        │ 182370.765625          │\n",
       "│ Misc/Lambda_star              │ 0.0                    │\n",
       "│ Misc/Nu_star                  │ 0.00033115962287411094 │\n",
       "│ Misc/OptimCase                │ 0.0                    │\n",
       "└───────────────────────────────┴────────────────────────┘\n",
       "</pre>\n"
      ],
      "text/plain": [
       "┏━━━━━━━━━━━━━━━━━━━━━━━━━━━━━━━┳━━━━━━━━━━━━━━━━━━━━━━━━┓\n",
       "┃\u001b[1m \u001b[0m\u001b[1mMetrics                      \u001b[0m\u001b[1m \u001b[0m┃\u001b[1m \u001b[0m\u001b[1mValue                 \u001b[0m\u001b[1m \u001b[0m┃\n",
       "┡━━━━━━━━━━━━━━━━━━━━━━━━━━━━━━━╇━━━━━━━━━━━━━━━━━━━━━━━━┩\n",
       "│ Metrics/EpRet                 │ 118.15141296386719     │\n",
       "│ Metrics/EpCost                │ 1948.2698974609375     │\n",
       "│ Metrics/EpLen                 │ 6.0                    │\n",
       "│ Train/Epoch                   │ 10.0                   │\n",
       "│ Train/Entropy                 │ 1.3218727111816406     │\n",
       "│ Train/KL                      │ 0.00019008523668162525 │\n",
       "│ Train/StopIter                │ 10.0                   │\n",
       "│ Train/PolicyRatio/Mean        │ 1.0035661458969116     │\n",
       "│ Train/PolicyRatio/Min         │ 1.0035661458969116     │\n",
       "│ Train/PolicyRatio/Max         │ 1.0035661458969116     │\n",
       "│ Train/PolicyRatio/Std         │ 0.002132114954292774   │\n",
       "│ Train/LR                      │ 0.0                    │\n",
       "│ Train/PolicyStd               │ 0.9084351062774658     │\n",
       "│ TotalEnvSteps                 │ 220000.0               │\n",
       "│ Loss/Loss_pi                  │ -9.909845352172852     │\n",
       "│ Loss/Loss_pi/Delta            │ 4.914542198181152      │\n",
       "│ Value/Adv                     │ 1.1825561863076928e-08 │\n",
       "│ Loss/Loss_reward_critic       │ 9768.5478515625        │\n",
       "│ Loss/Loss_reward_critic/Delta │ 580.0830078125         │\n",
       "│ Value/reward                  │ 113.94598388671875     │\n",
       "│ Loss/Loss_cost_critic         │ 41009.91796875         │\n",
       "│ Loss/Loss_cost_critic/Delta   │ -6478.8203125          │\n",
       "│ Value/cost                    │ 1281.6466064453125     │\n",
       "│ Time/Total                    │ 641.4332275390625      │\n",
       "│ Time/Rollout                  │ 29.63280487060547      │\n",
       "│ Time/Update                   │ 26.349082946777344     │\n",
       "│ Time/Epoch                    │ 55.98188781738281      │\n",
       "│ Time/FPS                      │ 357.2583923339844      │\n",
       "│ Env/Success_counts            │ nan                    │\n",
       "│ Misc/Alpha                    │ 0.12217196077108383    │\n",
       "│ Misc/FinalStepNorm            │ 0.10508342832326889    │\n",
       "│ Misc/gradient_norm            │ 1.8701189756393433     │\n",
       "│ Misc/xHx                      │ 1.339944839477539      │\n",
       "│ Misc/H_inv_g                  │ 1.747037649154663      │\n",
       "│ Misc/AcceptanceStep           │ 2.0                    │\n",
       "│ Misc/cost_gradient_norm       │ 1951.1092529296875     │\n",
       "│ Misc/A                        │ 1.3380558490753174     │\n",
       "│ Misc/B                        │ -20.26267433166504     │\n",
       "│ Misc/q                        │ 1.339944839477539      │\n",
       "│ Misc/r                        │ -18.560794830322266    │\n",
       "│ Misc/s                        │ 182370.765625          │\n",
       "│ Misc/Lambda_star              │ 0.0                    │\n",
       "│ Misc/Nu_star                  │ 0.00033115962287411094 │\n",
       "│ Misc/OptimCase                │ 0.0                    │\n",
       "└───────────────────────────────┴────────────────────────┘\n"
      ]
     },
     "metadata": {},
     "output_type": "display_data"
    },
    {
     "data": {
      "text/html": [
       "<pre style=\"white-space:pre;overflow-x:auto;line-height:normal;font-family:Menlo,'DejaVu Sans Mono',consolas,'Courier New',monospace\"><span style=\"color: #008000; text-decoration-color: #008000\">Warning: trajectory cut off when rollout by epoch at </span><span style=\"color: #008080; text-decoration-color: #008080; font-weight: bold\">2.0</span><span style=\"color: #008000; text-decoration-color: #008000\"> steps.</span>\n",
       "</pre>\n"
      ],
      "text/plain": [
       "\u001b[32mWarning: trajectory cut off when rollout by epoch at \u001b[0m\u001b[1;36m2.0\u001b[0m\u001b[32m steps.\u001b[0m\n"
      ]
     },
     "metadata": {},
     "output_type": "display_data"
    },
    {
     "data": {
      "text/html": [
       "<pre style=\"white-space:pre;overflow-x:auto;line-height:normal;font-family:Menlo,'DejaVu Sans Mono',consolas,'Courier New',monospace\"></pre>\n"
      ],
      "text/plain": []
     },
     "metadata": {},
     "output_type": "display_data"
    },
    {
     "data": {
      "text/html": [
       "<pre style=\"white-space:pre;overflow-x:auto;line-height:normal;font-family:Menlo,'DejaVu Sans Mono',consolas,'Courier New',monospace\"><span style=\"color: #800000; text-decoration-color: #800000\">Alert! Attempting infeasible recovery!</span>\n",
       "</pre>\n"
      ],
      "text/plain": [
       "\u001b[31mAlert! Attempting infeasible recovery!\u001b[0m\n"
      ]
     },
     "metadata": {},
     "output_type": "display_data"
    },
    {
     "data": {
      "text/html": [
       "<pre style=\"white-space:pre;overflow-x:auto;line-height:normal;font-family:Menlo,'DejaVu Sans Mono',consolas,'Courier New',monospace\"><span style=\"color: #008000; text-decoration-color: #008000\">Expected Improvement: </span><span style=\"color: #008080; text-decoration-color: #008080; font-weight: bold\">-0.01116961520165205</span><span style=\"color: #008000; text-decoration-color: #008000\"> Actual: </span><span style=\"color: #008080; text-decoration-color: #008080; font-weight: bold\">-0.013386815786361694</span>\n",
       "</pre>\n"
      ],
      "text/plain": [
       "\u001b[32mExpected Improvement: \u001b[0m\u001b[1;36m-0.01116961520165205\u001b[0m\u001b[32m Actual: \u001b[0m\u001b[1;36m-0.013386815786361694\u001b[0m\n"
      ]
     },
     "metadata": {},
     "output_type": "display_data"
    },
    {
     "data": {
      "text/html": [
       "<pre style=\"white-space:pre;overflow-x:auto;line-height:normal;font-family:Menlo,'DejaVu Sans Mono',consolas,'Courier New',monospace\"><span style=\"color: #008000; text-decoration-color: #008000\">INFO: violated KL constraint </span><span style=\"color: #008080; text-decoration-color: #008080; font-weight: bold\">0.010166410356760025</span><span style=\"color: #008000; text-decoration-color: #008000\"> at step </span><span style=\"color: #008080; text-decoration-color: #008080; font-weight: bold\">1</span><span style=\"color: #008000; text-decoration-color: #008000\">.</span>\n",
       "</pre>\n"
      ],
      "text/plain": [
       "\u001b[32mINFO: violated KL constraint \u001b[0m\u001b[1;36m0.010166410356760025\u001b[0m\u001b[32m at step \u001b[0m\u001b[1;36m1\u001b[0m\u001b[32m.\u001b[0m\n"
      ]
     },
     "metadata": {},
     "output_type": "display_data"
    },
    {
     "data": {
      "text/html": [
       "<pre style=\"white-space:pre;overflow-x:auto;line-height:normal;font-family:Menlo,'DejaVu Sans Mono',consolas,'Courier New',monospace\"><span style=\"color: #008000; text-decoration-color: #008000\">Expected Improvement: </span><span style=\"color: #008080; text-decoration-color: #008080; font-weight: bold\">-0.01116961520165205</span><span style=\"color: #008000; text-decoration-color: #008000\"> Actual: </span><span style=\"color: #008080; text-decoration-color: #008080; font-weight: bold\">-0.010250537656247616</span>\n",
       "</pre>\n"
      ],
      "text/plain": [
       "\u001b[32mExpected Improvement: \u001b[0m\u001b[1;36m-0.01116961520165205\u001b[0m\u001b[32m Actual: \u001b[0m\u001b[1;36m-0.010250537656247616\u001b[0m\n"
      ]
     },
     "metadata": {},
     "output_type": "display_data"
    },
    {
     "data": {
      "text/html": [
       "<pre style=\"white-space:pre;overflow-x:auto;line-height:normal;font-family:Menlo,'DejaVu Sans Mono',consolas,'Courier New',monospace\"><span style=\"color: #008000; text-decoration-color: #008000\">Accept step at </span><span style=\"color: #808000; text-decoration-color: #808000\">i</span><span style=\"color: #008000; text-decoration-color: #008000\">=</span><span style=\"color: #008080; text-decoration-color: #008080; font-weight: bold\">2</span>\n",
       "</pre>\n"
      ],
      "text/plain": [
       "\u001b[32mAccept step at \u001b[0m\u001b[33mi\u001b[0m\u001b[32m=\u001b[0m\u001b[1;36m2\u001b[0m\n"
      ]
     },
     "metadata": {},
     "output_type": "display_data"
    },
    {
     "data": {
      "text/html": [
       "<pre style=\"white-space:pre;overflow-x:auto;line-height:normal;font-family:Menlo,'DejaVu Sans Mono',consolas,'Courier New',monospace\">┏━━━━━━━━━━━━━━━━━━━━━━━━━━━━━━━┳━━━━━━━━━━━━━━━━━━━━━━━━┓\n",
       "┃<span style=\"font-weight: bold\"> Metrics                       </span>┃<span style=\"font-weight: bold\"> Value                  </span>┃\n",
       "┡━━━━━━━━━━━━━━━━━━━━━━━━━━━━━━━╇━━━━━━━━━━━━━━━━━━━━━━━━┩\n",
       "│ Metrics/EpRet                 │ 108.23129272460938     │\n",
       "│ Metrics/EpCost                │ 1638.5235595703125     │\n",
       "│ Metrics/EpLen                 │ 6.0                    │\n",
       "│ Train/Epoch                   │ 11.0                   │\n",
       "│ Train/Entropy                 │ 1.3031259775161743     │\n",
       "│ Train/KL                      │ 0.00018704777176026255 │\n",
       "│ Train/StopIter                │ 10.0                   │\n",
       "│ Train/PolicyRatio/Mean        │ 0.9953673481941223     │\n",
       "│ Train/PolicyRatio/Min         │ 0.9953673481941223     │\n",
       "│ Train/PolicyRatio/Max         │ 0.9953673481941223     │\n",
       "│ Train/PolicyRatio/Std         │ 0.0027626738883554935  │\n",
       "│ Train/LR                      │ 0.0                    │\n",
       "│ Train/PolicyStd               │ 0.8916006684303284     │\n",
       "│ TotalEnvSteps                 │ 240000.0               │\n",
       "│ Loss/Loss_pi                  │ -9.04349136352539      │\n",
       "│ Loss/Loss_pi/Delta            │ 0.8663539886474609     │\n",
       "│ Value/Adv                     │ 2.2888184680880386e-09 │\n",
       "│ Loss/Loss_reward_critic       │ 9548.974609375         │\n",
       "│ Loss/Loss_reward_critic/Delta │ -219.5732421875        │\n",
       "│ Value/reward                  │ 100.67371368408203     │\n",
       "│ Loss/Loss_cost_critic         │ 38606.44140625         │\n",
       "│ Loss/Loss_cost_critic/Delta   │ -2403.4765625          │\n",
       "│ Value/cost                    │ 1065.840576171875      │\n",
       "│ Time/Total                    │ 698.2588500976562      │\n",
       "│ Time/Rollout                  │ 28.709375381469727     │\n",
       "│ Time/Update                   │ 28.07065200805664      │\n",
       "│ Time/Epoch                    │ 56.780025482177734     │\n",
       "│ Time/FPS                      │ 352.2365417480469      │\n",
       "│ Env/Success_counts            │ nan                    │\n",
       "│ Misc/Alpha                    │ 0.12184447050094604    │\n",
       "│ Misc/FinalStepNorm            │ 0.10638657212257385    │\n",
       "│ Misc/gradient_norm            │ 2.2209699153900146     │\n",
       "│ Misc/xHx                      │ 1.3471574783325195     │\n",
       "│ Misc/H_inv_g                  │ 1.6815468072891235     │\n",
       "│ Misc/AcceptanceStep           │ 2.0                    │\n",
       "│ Misc/cost_gradient_norm       │ 1981.8333740234375     │\n",
       "│ Misc/A                        │ 1.3409194946289062     │\n",
       "│ Misc/B                        │ -15.577943801879883    │\n",
       "│ Misc/q                        │ 1.3471574783325195     │\n",
       "│ Misc/r                        │ 32.267459869384766     │\n",
       "│ Misc/s                        │ 166910.34375           │\n",
       "│ Misc/Lambda_star              │ 0.0                    │\n",
       "│ Misc/Nu_star                  │ 0.00034615720505826175 │\n",
       "│ Misc/OptimCase                │ 0.0                    │\n",
       "└───────────────────────────────┴────────────────────────┘\n",
       "</pre>\n"
      ],
      "text/plain": [
       "┏━━━━━━━━━━━━━━━━━━━━━━━━━━━━━━━┳━━━━━━━━━━━━━━━━━━━━━━━━┓\n",
       "┃\u001b[1m \u001b[0m\u001b[1mMetrics                      \u001b[0m\u001b[1m \u001b[0m┃\u001b[1m \u001b[0m\u001b[1mValue                 \u001b[0m\u001b[1m \u001b[0m┃\n",
       "┡━━━━━━━━━━━━━━━━━━━━━━━━━━━━━━━╇━━━━━━━━━━━━━━━━━━━━━━━━┩\n",
       "│ Metrics/EpRet                 │ 108.23129272460938     │\n",
       "│ Metrics/EpCost                │ 1638.5235595703125     │\n",
       "│ Metrics/EpLen                 │ 6.0                    │\n",
       "│ Train/Epoch                   │ 11.0                   │\n",
       "│ Train/Entropy                 │ 1.3031259775161743     │\n",
       "│ Train/KL                      │ 0.00018704777176026255 │\n",
       "│ Train/StopIter                │ 10.0                   │\n",
       "│ Train/PolicyRatio/Mean        │ 0.9953673481941223     │\n",
       "│ Train/PolicyRatio/Min         │ 0.9953673481941223     │\n",
       "│ Train/PolicyRatio/Max         │ 0.9953673481941223     │\n",
       "│ Train/PolicyRatio/Std         │ 0.0027626738883554935  │\n",
       "│ Train/LR                      │ 0.0                    │\n",
       "│ Train/PolicyStd               │ 0.8916006684303284     │\n",
       "│ TotalEnvSteps                 │ 240000.0               │\n",
       "│ Loss/Loss_pi                  │ -9.04349136352539      │\n",
       "│ Loss/Loss_pi/Delta            │ 0.8663539886474609     │\n",
       "│ Value/Adv                     │ 2.2888184680880386e-09 │\n",
       "│ Loss/Loss_reward_critic       │ 9548.974609375         │\n",
       "│ Loss/Loss_reward_critic/Delta │ -219.5732421875        │\n",
       "│ Value/reward                  │ 100.67371368408203     │\n",
       "│ Loss/Loss_cost_critic         │ 38606.44140625         │\n",
       "│ Loss/Loss_cost_critic/Delta   │ -2403.4765625          │\n",
       "│ Value/cost                    │ 1065.840576171875      │\n",
       "│ Time/Total                    │ 698.2588500976562      │\n",
       "│ Time/Rollout                  │ 28.709375381469727     │\n",
       "│ Time/Update                   │ 28.07065200805664      │\n",
       "│ Time/Epoch                    │ 56.780025482177734     │\n",
       "│ Time/FPS                      │ 352.2365417480469      │\n",
       "│ Env/Success_counts            │ nan                    │\n",
       "│ Misc/Alpha                    │ 0.12184447050094604    │\n",
       "│ Misc/FinalStepNorm            │ 0.10638657212257385    │\n",
       "│ Misc/gradient_norm            │ 2.2209699153900146     │\n",
       "│ Misc/xHx                      │ 1.3471574783325195     │\n",
       "│ Misc/H_inv_g                  │ 1.6815468072891235     │\n",
       "│ Misc/AcceptanceStep           │ 2.0                    │\n",
       "│ Misc/cost_gradient_norm       │ 1981.8333740234375     │\n",
       "│ Misc/A                        │ 1.3409194946289062     │\n",
       "│ Misc/B                        │ -15.577943801879883    │\n",
       "│ Misc/q                        │ 1.3471574783325195     │\n",
       "│ Misc/r                        │ 32.267459869384766     │\n",
       "│ Misc/s                        │ 166910.34375           │\n",
       "│ Misc/Lambda_star              │ 0.0                    │\n",
       "│ Misc/Nu_star                  │ 0.00034615720505826175 │\n",
       "│ Misc/OptimCase                │ 0.0                    │\n",
       "└───────────────────────────────┴────────────────────────┘\n"
      ]
     },
     "metadata": {},
     "output_type": "display_data"
    },
    {
     "data": {
      "text/html": [
       "<pre style=\"white-space:pre;overflow-x:auto;line-height:normal;font-family:Menlo,'DejaVu Sans Mono',consolas,'Courier New',monospace\"><span style=\"color: #008000; text-decoration-color: #008000\">Warning: trajectory cut off when rollout by epoch at </span><span style=\"color: #008080; text-decoration-color: #008080; font-weight: bold\">2.0</span><span style=\"color: #008000; text-decoration-color: #008000\"> steps.</span>\n",
       "</pre>\n"
      ],
      "text/plain": [
       "\u001b[32mWarning: trajectory cut off when rollout by epoch at \u001b[0m\u001b[1;36m2.0\u001b[0m\u001b[32m steps.\u001b[0m\n"
      ]
     },
     "metadata": {},
     "output_type": "display_data"
    },
    {
     "data": {
      "text/html": [
       "<pre style=\"white-space:pre;overflow-x:auto;line-height:normal;font-family:Menlo,'DejaVu Sans Mono',consolas,'Courier New',monospace\"></pre>\n"
      ],
      "text/plain": []
     },
     "metadata": {},
     "output_type": "display_data"
    },
    {
     "data": {
      "text/html": [
       "<pre style=\"white-space:pre;overflow-x:auto;line-height:normal;font-family:Menlo,'DejaVu Sans Mono',consolas,'Courier New',monospace\"><span style=\"color: #800000; text-decoration-color: #800000\">Alert! Attempting infeasible recovery!</span>\n",
       "</pre>\n"
      ],
      "text/plain": [
       "\u001b[31mAlert! Attempting infeasible recovery!\u001b[0m\n"
      ]
     },
     "metadata": {},
     "output_type": "display_data"
    },
    {
     "data": {
      "text/html": [
       "<pre style=\"white-space:pre;overflow-x:auto;line-height:normal;font-family:Menlo,'DejaVu Sans Mono',consolas,'Courier New',monospace\"><span style=\"color: #008000; text-decoration-color: #008000\">Expected Improvement: </span><span style=\"color: #008080; text-decoration-color: #008080; font-weight: bold\">-0.015597452409565449</span><span style=\"color: #008000; text-decoration-color: #008000\"> Actual: </span><span style=\"color: #008080; text-decoration-color: #008080; font-weight: bold\">-0.012225705198943615</span>\n",
       "</pre>\n"
      ],
      "text/plain": [
       "\u001b[32mExpected Improvement: \u001b[0m\u001b[1;36m-0.015597452409565449\u001b[0m\u001b[32m Actual: \u001b[0m\u001b[1;36m-0.012225705198943615\u001b[0m\n"
      ]
     },
     "metadata": {},
     "output_type": "display_data"
    },
    {
     "data": {
      "text/html": [
       "<pre style=\"white-space:pre;overflow-x:auto;line-height:normal;font-family:Menlo,'DejaVu Sans Mono',consolas,'Courier New',monospace\"><span style=\"color: #008000; text-decoration-color: #008000\">Accept step at </span><span style=\"color: #808000; text-decoration-color: #808000\">i</span><span style=\"color: #008000; text-decoration-color: #008000\">=</span><span style=\"color: #008080; text-decoration-color: #008080; font-weight: bold\">1</span>\n",
       "</pre>\n"
      ],
      "text/plain": [
       "\u001b[32mAccept step at \u001b[0m\u001b[33mi\u001b[0m\u001b[32m=\u001b[0m\u001b[1;36m1\u001b[0m\n"
      ]
     },
     "metadata": {},
     "output_type": "display_data"
    },
    {
     "data": {
      "text/html": [
       "<pre style=\"white-space:pre;overflow-x:auto;line-height:normal;font-family:Menlo,'DejaVu Sans Mono',consolas,'Courier New',monospace\">┏━━━━━━━━━━━━━━━━━━━━━━━━━━━━━━━┳━━━━━━━━━━━━━━━━━━━━━━━━┓\n",
       "┃<span style=\"font-weight: bold\"> Metrics                       </span>┃<span style=\"font-weight: bold\"> Value                  </span>┃\n",
       "┡━━━━━━━━━━━━━━━━━━━━━━━━━━━━━━━╇━━━━━━━━━━━━━━━━━━━━━━━━┩\n",
       "│ Metrics/EpRet                 │ 123.83016967773438     │\n",
       "│ Metrics/EpCost                │ 1476.3482666015625     │\n",
       "│ Metrics/EpLen                 │ 6.0                    │\n",
       "│ Train/Epoch                   │ 12.0                   │\n",
       "│ Train/Entropy                 │ 1.2825111150741577     │\n",
       "│ Train/KL                      │ 0.0002934737713076174  │\n",
       "│ Train/StopIter                │ 10.0                   │\n",
       "│ Train/PolicyRatio/Mean        │ 0.997670590877533      │\n",
       "│ Train/PolicyRatio/Min         │ 0.997670590877533      │\n",
       "│ Train/PolicyRatio/Max         │ 0.997670590877533      │\n",
       "│ Train/PolicyRatio/Std         │ 0.0016471550334244967  │\n",
       "│ Train/LR                      │ 0.0                    │\n",
       "│ Train/PolicyStd               │ 0.8735021948814392     │\n",
       "│ TotalEnvSteps                 │ 260000.0               │\n",
       "│ Loss/Loss_pi                  │ -13.181340217590332    │\n",
       "│ Loss/Loss_pi/Delta            │ -4.137848854064941     │\n",
       "│ Value/Adv                     │ -5.722046170220096e-10 │\n",
       "│ Loss/Loss_reward_critic       │ 8883.607421875         │\n",
       "│ Loss/Loss_reward_critic/Delta │ -665.3671875           │\n",
       "│ Value/reward                  │ 102.3601303100586      │\n",
       "│ Loss/Loss_cost_critic         │ 34575.93359375         │\n",
       "│ Loss/Loss_cost_critic/Delta   │ -4030.5078125          │\n",
       "│ Value/cost                    │ 965.2177734375         │\n",
       "│ Time/Total                    │ 752.127197265625       │\n",
       "│ Time/Rollout                  │ 29.160419464111328     │\n",
       "│ Time/Update                   │ 24.66080093383789      │\n",
       "│ Time/Epoch                    │ 53.82122039794922      │\n",
       "│ Time/FPS                      │ 371.60064697265625     │\n",
       "│ Env/Success_counts            │ nan                    │\n",
       "│ Misc/Alpha                    │ 0.12333502620458603    │\n",
       "│ Misc/FinalStepNorm            │ 0.14197343587875366    │\n",
       "│ Misc/gradient_norm            │ 2.571960210800171      │\n",
       "│ Misc/xHx                      │ 1.3147921562194824     │\n",
       "│ Misc/H_inv_g                  │ 1.6252750158309937     │\n",
       "│ Misc/AcceptanceStep           │ 1.0                    │\n",
       "│ Misc/cost_gradient_norm       │ 1880.4073486328125     │\n",
       "│ Misc/A                        │ 1.3026281595230103     │\n",
       "│ Misc/B                        │ -14.766775131225586    │\n",
       "│ Misc/q                        │ 1.3147921562194824     │\n",
       "│ Misc/r                        │ 41.626853942871094     │\n",
       "│ Misc/s                        │ 142452.40625           │\n",
       "│ Misc/Lambda_star              │ 0.0                    │\n",
       "│ Misc/Nu_star                  │ 0.00037469688686542213 │\n",
       "│ Misc/OptimCase                │ 0.0                    │\n",
       "└───────────────────────────────┴────────────────────────┘\n",
       "</pre>\n"
      ],
      "text/plain": [
       "┏━━━━━━━━━━━━━━━━━━━━━━━━━━━━━━━┳━━━━━━━━━━━━━━━━━━━━━━━━┓\n",
       "┃\u001b[1m \u001b[0m\u001b[1mMetrics                      \u001b[0m\u001b[1m \u001b[0m┃\u001b[1m \u001b[0m\u001b[1mValue                 \u001b[0m\u001b[1m \u001b[0m┃\n",
       "┡━━━━━━━━━━━━━━━━━━━━━━━━━━━━━━━╇━━━━━━━━━━━━━━━━━━━━━━━━┩\n",
       "│ Metrics/EpRet                 │ 123.83016967773438     │\n",
       "│ Metrics/EpCost                │ 1476.3482666015625     │\n",
       "│ Metrics/EpLen                 │ 6.0                    │\n",
       "│ Train/Epoch                   │ 12.0                   │\n",
       "│ Train/Entropy                 │ 1.2825111150741577     │\n",
       "│ Train/KL                      │ 0.0002934737713076174  │\n",
       "│ Train/StopIter                │ 10.0                   │\n",
       "│ Train/PolicyRatio/Mean        │ 0.997670590877533      │\n",
       "│ Train/PolicyRatio/Min         │ 0.997670590877533      │\n",
       "│ Train/PolicyRatio/Max         │ 0.997670590877533      │\n",
       "│ Train/PolicyRatio/Std         │ 0.0016471550334244967  │\n",
       "│ Train/LR                      │ 0.0                    │\n",
       "│ Train/PolicyStd               │ 0.8735021948814392     │\n",
       "│ TotalEnvSteps                 │ 260000.0               │\n",
       "│ Loss/Loss_pi                  │ -13.181340217590332    │\n",
       "│ Loss/Loss_pi/Delta            │ -4.137848854064941     │\n",
       "│ Value/Adv                     │ -5.722046170220096e-10 │\n",
       "│ Loss/Loss_reward_critic       │ 8883.607421875         │\n",
       "│ Loss/Loss_reward_critic/Delta │ -665.3671875           │\n",
       "│ Value/reward                  │ 102.3601303100586      │\n",
       "│ Loss/Loss_cost_critic         │ 34575.93359375         │\n",
       "│ Loss/Loss_cost_critic/Delta   │ -4030.5078125          │\n",
       "│ Value/cost                    │ 965.2177734375         │\n",
       "│ Time/Total                    │ 752.127197265625       │\n",
       "│ Time/Rollout                  │ 29.160419464111328     │\n",
       "│ Time/Update                   │ 24.66080093383789      │\n",
       "│ Time/Epoch                    │ 53.82122039794922      │\n",
       "│ Time/FPS                      │ 371.60064697265625     │\n",
       "│ Env/Success_counts            │ nan                    │\n",
       "│ Misc/Alpha                    │ 0.12333502620458603    │\n",
       "│ Misc/FinalStepNorm            │ 0.14197343587875366    │\n",
       "│ Misc/gradient_norm            │ 2.571960210800171      │\n",
       "│ Misc/xHx                      │ 1.3147921562194824     │\n",
       "│ Misc/H_inv_g                  │ 1.6252750158309937     │\n",
       "│ Misc/AcceptanceStep           │ 1.0                    │\n",
       "│ Misc/cost_gradient_norm       │ 1880.4073486328125     │\n",
       "│ Misc/A                        │ 1.3026281595230103     │\n",
       "│ Misc/B                        │ -14.766775131225586    │\n",
       "│ Misc/q                        │ 1.3147921562194824     │\n",
       "│ Misc/r                        │ 41.626853942871094     │\n",
       "│ Misc/s                        │ 142452.40625           │\n",
       "│ Misc/Lambda_star              │ 0.0                    │\n",
       "│ Misc/Nu_star                  │ 0.00037469688686542213 │\n",
       "│ Misc/OptimCase                │ 0.0                    │\n",
       "└───────────────────────────────┴────────────────────────┘\n"
      ]
     },
     "metadata": {},
     "output_type": "display_data"
    },
    {
     "data": {
      "text/html": [
       "<pre style=\"white-space:pre;overflow-x:auto;line-height:normal;font-family:Menlo,'DejaVu Sans Mono',consolas,'Courier New',monospace\"><span style=\"color: #008000; text-decoration-color: #008000\">Warning: trajectory cut off when rollout by epoch at </span><span style=\"color: #008080; text-decoration-color: #008080; font-weight: bold\">2.0</span><span style=\"color: #008000; text-decoration-color: #008000\"> steps.</span>\n",
       "</pre>\n"
      ],
      "text/plain": [
       "\u001b[32mWarning: trajectory cut off when rollout by epoch at \u001b[0m\u001b[1;36m2.0\u001b[0m\u001b[32m steps.\u001b[0m\n"
      ]
     },
     "metadata": {},
     "output_type": "display_data"
    },
    {
     "data": {
      "text/html": [
       "<pre style=\"white-space:pre;overflow-x:auto;line-height:normal;font-family:Menlo,'DejaVu Sans Mono',consolas,'Courier New',monospace\"></pre>\n"
      ],
      "text/plain": []
     },
     "metadata": {},
     "output_type": "display_data"
    },
    {
     "data": {
      "text/html": [
       "<pre style=\"white-space:pre;overflow-x:auto;line-height:normal;font-family:Menlo,'DejaVu Sans Mono',consolas,'Courier New',monospace\"><span style=\"color: #800000; text-decoration-color: #800000\">Alert! Attempting infeasible recovery!</span>\n",
       "</pre>\n"
      ],
      "text/plain": [
       "\u001b[31mAlert! Attempting infeasible recovery!\u001b[0m\n"
      ]
     },
     "metadata": {},
     "output_type": "display_data"
    },
    {
     "data": {
      "text/html": [
       "<pre style=\"white-space:pre;overflow-x:auto;line-height:normal;font-family:Menlo,'DejaVu Sans Mono',consolas,'Courier New',monospace\"><span style=\"color: #008000; text-decoration-color: #008000\">Expected Improvement: </span><span style=\"color: #008080; text-decoration-color: #008080; font-weight: bold\">-0.03526393324136734</span><span style=\"color: #008000; text-decoration-color: #008000\"> Actual: </span><span style=\"color: #008080; text-decoration-color: #008080; font-weight: bold\">-0.03568494692444801</span>\n",
       "</pre>\n"
      ],
      "text/plain": [
       "\u001b[32mExpected Improvement: \u001b[0m\u001b[1;36m-0.03526393324136734\u001b[0m\u001b[32m Actual: \u001b[0m\u001b[1;36m-0.03568494692444801\u001b[0m\n"
      ]
     },
     "metadata": {},
     "output_type": "display_data"
    },
    {
     "data": {
      "text/html": [
       "<pre style=\"white-space:pre;overflow-x:auto;line-height:normal;font-family:Menlo,'DejaVu Sans Mono',consolas,'Courier New',monospace\"><span style=\"color: #008000; text-decoration-color: #008000\">Accept step at </span><span style=\"color: #808000; text-decoration-color: #808000\">i</span><span style=\"color: #008000; text-decoration-color: #008000\">=</span><span style=\"color: #008080; text-decoration-color: #008080; font-weight: bold\">1</span>\n",
       "</pre>\n"
      ],
      "text/plain": [
       "\u001b[32mAccept step at \u001b[0m\u001b[33mi\u001b[0m\u001b[32m=\u001b[0m\u001b[1;36m1\u001b[0m\n"
      ]
     },
     "metadata": {},
     "output_type": "display_data"
    },
    {
     "data": {
      "text/html": [
       "<pre style=\"white-space:pre;overflow-x:auto;line-height:normal;font-family:Menlo,'DejaVu Sans Mono',consolas,'Courier New',monospace\">┏━━━━━━━━━━━━━━━━━━━━━━━━━━━━━━━┳━━━━━━━━━━━━━━━━━━━━━━━━┓\n",
       "┃<span style=\"font-weight: bold\"> Metrics                       </span>┃<span style=\"font-weight: bold\"> Value                  </span>┃\n",
       "┡━━━━━━━━━━━━━━━━━━━━━━━━━━━━━━━╇━━━━━━━━━━━━━━━━━━━━━━━━┩\n",
       "│ Metrics/EpRet                 │ 103.6444320678711      │\n",
       "│ Metrics/EpCost                │ 1044.74658203125       │\n",
       "│ Metrics/EpLen                 │ 6.0                    │\n",
       "│ Train/Epoch                   │ 13.0                   │\n",
       "│ Train/Entropy                 │ 1.25493323802948       │\n",
       "│ Train/KL                      │ 0.0002835686318576336  │\n",
       "│ Train/StopIter                │ 10.0                   │\n",
       "│ Train/PolicyRatio/Mean        │ 1.0045944452285767     │\n",
       "│ Train/PolicyRatio/Min         │ 1.0045944452285767     │\n",
       "│ Train/PolicyRatio/Max         │ 1.0045944452285767     │\n",
       "│ Train/PolicyRatio/Std         │ 0.0032488475553691387  │\n",
       "│ Train/LR                      │ 0.0                    │\n",
       "│ Train/PolicyStd               │ 0.8498503565788269     │\n",
       "│ TotalEnvSteps                 │ 280000.0               │\n",
       "│ Loss/Loss_pi                  │ -11.372401237487793    │\n",
       "│ Loss/Loss_pi/Delta            │ 1.808938980102539      │\n",
       "│ Value/Adv                     │ 2.8610229740877458e-09 │\n",
       "│ Loss/Loss_reward_critic       │ 8534.4287109375        │\n",
       "│ Loss/Loss_reward_critic/Delta │ -349.1787109375        │\n",
       "│ Value/reward                  │ 99.20003509521484      │\n",
       "│ Loss/Loss_cost_critic         │ 27104.267578125        │\n",
       "│ Loss/Loss_cost_critic/Delta   │ -7471.666015625        │\n",
       "│ Value/cost                    │ 788.1411743164062      │\n",
       "│ Time/Total                    │ 807.7813110351562      │\n",
       "│ Time/Rollout                  │ 27.092823028564453     │\n",
       "│ Time/Update                   │ 28.511171340942383     │\n",
       "│ Time/Epoch                    │ 55.60399627685547      │\n",
       "│ Time/FPS                      │ 359.6864013671875      │\n",
       "│ Env/Success_counts            │ nan                    │\n",
       "│ Misc/Alpha                    │ 0.1172085776925087     │\n",
       "│ Misc/FinalStepNorm            │ 0.15449658036231995    │\n",
       "│ Misc/gradient_norm            │ 3.1950716972351074     │\n",
       "│ Misc/xHx                      │ 1.45583176612854       │\n",
       "│ Misc/H_inv_g                  │ 1.6825536489486694     │\n",
       "│ Misc/AcceptanceStep           │ 1.0                    │\n",
       "│ Misc/cost_gradient_norm       │ 1755.4732666015625     │\n",
       "│ Misc/A                        │ 1.393654465675354      │\n",
       "│ Misc/B                        │ -9.294909477233887     │\n",
       "│ Misc/q                        │ 1.45583176612854       │\n",
       "│ Misc/r                        │ 83.31413269042969      │\n",
       "│ Misc/s                        │ 111636.40625           │\n",
       "│ Misc/Lambda_star              │ 0.0                    │\n",
       "│ Misc/Nu_star                  │ 0.0004232647188473493  │\n",
       "│ Misc/OptimCase                │ 0.0                    │\n",
       "└───────────────────────────────┴────────────────────────┘\n",
       "</pre>\n"
      ],
      "text/plain": [
       "┏━━━━━━━━━━━━━━━━━━━━━━━━━━━━━━━┳━━━━━━━━━━━━━━━━━━━━━━━━┓\n",
       "┃\u001b[1m \u001b[0m\u001b[1mMetrics                      \u001b[0m\u001b[1m \u001b[0m┃\u001b[1m \u001b[0m\u001b[1mValue                 \u001b[0m\u001b[1m \u001b[0m┃\n",
       "┡━━━━━━━━━━━━━━━━━━━━━━━━━━━━━━━╇━━━━━━━━━━━━━━━━━━━━━━━━┩\n",
       "│ Metrics/EpRet                 │ 103.6444320678711      │\n",
       "│ Metrics/EpCost                │ 1044.74658203125       │\n",
       "│ Metrics/EpLen                 │ 6.0                    │\n",
       "│ Train/Epoch                   │ 13.0                   │\n",
       "│ Train/Entropy                 │ 1.25493323802948       │\n",
       "│ Train/KL                      │ 0.0002835686318576336  │\n",
       "│ Train/StopIter                │ 10.0                   │\n",
       "│ Train/PolicyRatio/Mean        │ 1.0045944452285767     │\n",
       "│ Train/PolicyRatio/Min         │ 1.0045944452285767     │\n",
       "│ Train/PolicyRatio/Max         │ 1.0045944452285767     │\n",
       "│ Train/PolicyRatio/Std         │ 0.0032488475553691387  │\n",
       "│ Train/LR                      │ 0.0                    │\n",
       "│ Train/PolicyStd               │ 0.8498503565788269     │\n",
       "│ TotalEnvSteps                 │ 280000.0               │\n",
       "│ Loss/Loss_pi                  │ -11.372401237487793    │\n",
       "│ Loss/Loss_pi/Delta            │ 1.808938980102539      │\n",
       "│ Value/Adv                     │ 2.8610229740877458e-09 │\n",
       "│ Loss/Loss_reward_critic       │ 8534.4287109375        │\n",
       "│ Loss/Loss_reward_critic/Delta │ -349.1787109375        │\n",
       "│ Value/reward                  │ 99.20003509521484      │\n",
       "│ Loss/Loss_cost_critic         │ 27104.267578125        │\n",
       "│ Loss/Loss_cost_critic/Delta   │ -7471.666015625        │\n",
       "│ Value/cost                    │ 788.1411743164062      │\n",
       "│ Time/Total                    │ 807.7813110351562      │\n",
       "│ Time/Rollout                  │ 27.092823028564453     │\n",
       "│ Time/Update                   │ 28.511171340942383     │\n",
       "│ Time/Epoch                    │ 55.60399627685547      │\n",
       "│ Time/FPS                      │ 359.6864013671875      │\n",
       "│ Env/Success_counts            │ nan                    │\n",
       "│ Misc/Alpha                    │ 0.1172085776925087     │\n",
       "│ Misc/FinalStepNorm            │ 0.15449658036231995    │\n",
       "│ Misc/gradient_norm            │ 3.1950716972351074     │\n",
       "│ Misc/xHx                      │ 1.45583176612854       │\n",
       "│ Misc/H_inv_g                  │ 1.6825536489486694     │\n",
       "│ Misc/AcceptanceStep           │ 1.0                    │\n",
       "│ Misc/cost_gradient_norm       │ 1755.4732666015625     │\n",
       "│ Misc/A                        │ 1.393654465675354      │\n",
       "│ Misc/B                        │ -9.294909477233887     │\n",
       "│ Misc/q                        │ 1.45583176612854       │\n",
       "│ Misc/r                        │ 83.31413269042969      │\n",
       "│ Misc/s                        │ 111636.40625           │\n",
       "│ Misc/Lambda_star              │ 0.0                    │\n",
       "│ Misc/Nu_star                  │ 0.0004232647188473493  │\n",
       "│ Misc/OptimCase                │ 0.0                    │\n",
       "└───────────────────────────────┴────────────────────────┘\n"
      ]
     },
     "metadata": {},
     "output_type": "display_data"
    },
    {
     "data": {
      "text/html": [
       "<pre style=\"white-space:pre;overflow-x:auto;line-height:normal;font-family:Menlo,'DejaVu Sans Mono',consolas,'Courier New',monospace\"><span style=\"color: #008000; text-decoration-color: #008000\">Warning: trajectory cut off when rollout by epoch at </span><span style=\"color: #008080; text-decoration-color: #008080; font-weight: bold\">2.0</span><span style=\"color: #008000; text-decoration-color: #008000\"> steps.</span>\n",
       "</pre>\n"
      ],
      "text/plain": [
       "\u001b[32mWarning: trajectory cut off when rollout by epoch at \u001b[0m\u001b[1;36m2.0\u001b[0m\u001b[32m steps.\u001b[0m\n"
      ]
     },
     "metadata": {},
     "output_type": "display_data"
    },
    {
     "data": {
      "text/html": [
       "<pre style=\"white-space:pre;overflow-x:auto;line-height:normal;font-family:Menlo,'DejaVu Sans Mono',consolas,'Courier New',monospace\"></pre>\n"
      ],
      "text/plain": []
     },
     "metadata": {},
     "output_type": "display_data"
    },
    {
     "data": {
      "text/html": [
       "<pre style=\"white-space:pre;overflow-x:auto;line-height:normal;font-family:Menlo,'DejaVu Sans Mono',consolas,'Courier New',monospace\"><span style=\"color: #800000; text-decoration-color: #800000\">Alert! Attempting infeasible recovery!</span>\n",
       "</pre>\n"
      ],
      "text/plain": [
       "\u001b[31mAlert! Attempting infeasible recovery!\u001b[0m\n"
      ]
     },
     "metadata": {},
     "output_type": "display_data"
    },
    {
     "data": {
      "text/html": [
       "<pre style=\"white-space:pre;overflow-x:auto;line-height:normal;font-family:Menlo,'DejaVu Sans Mono',consolas,'Courier New',monospace\"><span style=\"color: #008000; text-decoration-color: #008000\">Expected Improvement: </span><span style=\"color: #008080; text-decoration-color: #008080; font-weight: bold\">-0.04520399495959282</span><span style=\"color: #008000; text-decoration-color: #008000\"> Actual: </span><span style=\"color: #008080; text-decoration-color: #008080; font-weight: bold\">-0.044894490391016006</span>\n",
       "</pre>\n"
      ],
      "text/plain": [
       "\u001b[32mExpected Improvement: \u001b[0m\u001b[1;36m-0.04520399495959282\u001b[0m\u001b[32m Actual: \u001b[0m\u001b[1;36m-0.044894490391016006\u001b[0m\n"
      ]
     },
     "metadata": {},
     "output_type": "display_data"
    },
    {
     "data": {
      "text/html": [
       "<pre style=\"white-space:pre;overflow-x:auto;line-height:normal;font-family:Menlo,'DejaVu Sans Mono',consolas,'Courier New',monospace\"><span style=\"color: #008000; text-decoration-color: #008000\">Accept step at </span><span style=\"color: #808000; text-decoration-color: #808000\">i</span><span style=\"color: #008000; text-decoration-color: #008000\">=</span><span style=\"color: #008080; text-decoration-color: #008080; font-weight: bold\">1</span>\n",
       "</pre>\n"
      ],
      "text/plain": [
       "\u001b[32mAccept step at \u001b[0m\u001b[33mi\u001b[0m\u001b[32m=\u001b[0m\u001b[1;36m1\u001b[0m\n"
      ]
     },
     "metadata": {},
     "output_type": "display_data"
    },
    {
     "data": {
      "text/html": [
       "<pre style=\"white-space:pre;overflow-x:auto;line-height:normal;font-family:Menlo,'DejaVu Sans Mono',consolas,'Courier New',monospace\">┏━━━━━━━━━━━━━━━━━━━━━━━━━━━━━━━┳━━━━━━━━━━━━━━━━━━━━━━━━┓\n",
       "┃<span style=\"font-weight: bold\"> Metrics                       </span>┃<span style=\"font-weight: bold\"> Value                  </span>┃\n",
       "┡━━━━━━━━━━━━━━━━━━━━━━━━━━━━━━━╇━━━━━━━━━━━━━━━━━━━━━━━━┩\n",
       "│ Metrics/EpRet                 │ 93.18574523925781      │\n",
       "│ Metrics/EpCost                │ 855.7623291015625      │\n",
       "│ Metrics/EpLen                 │ 6.0                    │\n",
       "│ Train/Epoch                   │ 14.0                   │\n",
       "│ Train/Entropy                 │ 1.2249068021774292     │\n",
       "│ Train/KL                      │ 0.00028133782325312495 │\n",
       "│ Train/StopIter                │ 10.0                   │\n",
       "│ Train/PolicyRatio/Mean        │ 1.0038217306137085     │\n",
       "│ Train/PolicyRatio/Min         │ 1.0038217306137085     │\n",
       "│ Train/PolicyRatio/Max         │ 1.0038217306137085     │\n",
       "│ Train/PolicyRatio/Std         │ 0.0027023996226489544  │\n",
       "│ Train/LR                      │ 0.0                    │\n",
       "│ Train/PolicyStd               │ 0.8246957659721375     │\n",
       "│ TotalEnvSteps                 │ 300000.0               │\n",
       "│ Loss/Loss_pi                  │ -9.761265754699707     │\n",
       "│ Loss/Loss_pi/Delta            │ 1.611135482788086      │\n",
       "│ Value/Adv                     │ -5.149841442175784e-09 │\n",
       "│ Loss/Loss_reward_critic       │ 7156.8583984375        │\n",
       "│ Loss/Loss_reward_critic/Delta │ -1377.5703125          │\n",
       "│ Value/reward                  │ 84.0514907836914       │\n",
       "│ Loss/Loss_cost_critic         │ 21469.11328125         │\n",
       "│ Loss/Loss_cost_critic/Delta   │ -5635.154296875        │\n",
       "│ Value/cost                    │ 614.3353271484375      │\n",
       "│ Time/Total                    │ 868.8277587890625      │\n",
       "│ Time/Rollout                  │ 31.503704071044922     │\n",
       "│ Time/Update                   │ 29.4981632232666       │\n",
       "│ Time/Epoch                    │ 61.001869201660156     │\n",
       "│ Time/FPS                      │ 327.85882568359375     │\n",
       "│ Env/Success_counts            │ nan                    │\n",
       "│ Misc/Alpha                    │ 0.11896941065788269    │\n",
       "│ Misc/FinalStepNorm            │ 0.16150392591953278    │\n",
       "│ Misc/gradient_norm            │ 3.2024495601654053     │\n",
       "│ Misc/xHx                      │ 1.4130558967590332     │\n",
       "│ Misc/H_inv_g                  │ 1.7147101163864136     │\n",
       "│ Misc/AcceptanceStep           │ 1.0                    │\n",
       "│ Misc/cost_gradient_norm       │ 1639.141357421875      │\n",
       "│ Misc/A                        │ 1.3108859062194824     │\n",
       "│ Misc/B                        │ -8.134820938110352     │\n",
       "│ Misc/q                        │ 1.4130558967590332     │\n",
       "│ Misc/r                        │ 92.98895263671875      │\n",
       "│ Misc/s                        │ 84632.8828125          │\n",
       "│ Misc/Lambda_star              │ 0.0                    │\n",
       "│ Misc/Nu_star                  │ 0.00048612215323373675 │\n",
       "│ Misc/OptimCase                │ 0.0                    │\n",
       "└───────────────────────────────┴────────────────────────┘\n",
       "</pre>\n"
      ],
      "text/plain": [
       "┏━━━━━━━━━━━━━━━━━━━━━━━━━━━━━━━┳━━━━━━━━━━━━━━━━━━━━━━━━┓\n",
       "┃\u001b[1m \u001b[0m\u001b[1mMetrics                      \u001b[0m\u001b[1m \u001b[0m┃\u001b[1m \u001b[0m\u001b[1mValue                 \u001b[0m\u001b[1m \u001b[0m┃\n",
       "┡━━━━━━━━━━━━━━━━━━━━━━━━━━━━━━━╇━━━━━━━━━━━━━━━━━━━━━━━━┩\n",
       "│ Metrics/EpRet                 │ 93.18574523925781      │\n",
       "│ Metrics/EpCost                │ 855.7623291015625      │\n",
       "│ Metrics/EpLen                 │ 6.0                    │\n",
       "│ Train/Epoch                   │ 14.0                   │\n",
       "│ Train/Entropy                 │ 1.2249068021774292     │\n",
       "│ Train/KL                      │ 0.00028133782325312495 │\n",
       "│ Train/StopIter                │ 10.0                   │\n",
       "│ Train/PolicyRatio/Mean        │ 1.0038217306137085     │\n",
       "│ Train/PolicyRatio/Min         │ 1.0038217306137085     │\n",
       "│ Train/PolicyRatio/Max         │ 1.0038217306137085     │\n",
       "│ Train/PolicyRatio/Std         │ 0.0027023996226489544  │\n",
       "│ Train/LR                      │ 0.0                    │\n",
       "│ Train/PolicyStd               │ 0.8246957659721375     │\n",
       "│ TotalEnvSteps                 │ 300000.0               │\n",
       "│ Loss/Loss_pi                  │ -9.761265754699707     │\n",
       "│ Loss/Loss_pi/Delta            │ 1.611135482788086      │\n",
       "│ Value/Adv                     │ -5.149841442175784e-09 │\n",
       "│ Loss/Loss_reward_critic       │ 7156.8583984375        │\n",
       "│ Loss/Loss_reward_critic/Delta │ -1377.5703125          │\n",
       "│ Value/reward                  │ 84.0514907836914       │\n",
       "│ Loss/Loss_cost_critic         │ 21469.11328125         │\n",
       "│ Loss/Loss_cost_critic/Delta   │ -5635.154296875        │\n",
       "│ Value/cost                    │ 614.3353271484375      │\n",
       "│ Time/Total                    │ 868.8277587890625      │\n",
       "│ Time/Rollout                  │ 31.503704071044922     │\n",
       "│ Time/Update                   │ 29.4981632232666       │\n",
       "│ Time/Epoch                    │ 61.001869201660156     │\n",
       "│ Time/FPS                      │ 327.85882568359375     │\n",
       "│ Env/Success_counts            │ nan                    │\n",
       "│ Misc/Alpha                    │ 0.11896941065788269    │\n",
       "│ Misc/FinalStepNorm            │ 0.16150392591953278    │\n",
       "│ Misc/gradient_norm            │ 3.2024495601654053     │\n",
       "│ Misc/xHx                      │ 1.4130558967590332     │\n",
       "│ Misc/H_inv_g                  │ 1.7147101163864136     │\n",
       "│ Misc/AcceptanceStep           │ 1.0                    │\n",
       "│ Misc/cost_gradient_norm       │ 1639.141357421875      │\n",
       "│ Misc/A                        │ 1.3108859062194824     │\n",
       "│ Misc/B                        │ -8.134820938110352     │\n",
       "│ Misc/q                        │ 1.4130558967590332     │\n",
       "│ Misc/r                        │ 92.98895263671875      │\n",
       "│ Misc/s                        │ 84632.8828125          │\n",
       "│ Misc/Lambda_star              │ 0.0                    │\n",
       "│ Misc/Nu_star                  │ 0.00048612215323373675 │\n",
       "│ Misc/OptimCase                │ 0.0                    │\n",
       "└───────────────────────────────┴────────────────────────┘\n"
      ]
     },
     "metadata": {},
     "output_type": "display_data"
    },
    {
     "data": {
      "text/html": [
       "<pre style=\"white-space:pre;overflow-x:auto;line-height:normal;font-family:Menlo,'DejaVu Sans Mono',consolas,'Courier New',monospace\"><span style=\"color: #008000; text-decoration-color: #008000\">Warning: trajectory cut off when rollout by epoch at </span><span style=\"color: #008080; text-decoration-color: #008080; font-weight: bold\">2.0</span><span style=\"color: #008000; text-decoration-color: #008000\"> steps.</span>\n",
       "</pre>\n"
      ],
      "text/plain": [
       "\u001b[32mWarning: trajectory cut off when rollout by epoch at \u001b[0m\u001b[1;36m2.0\u001b[0m\u001b[32m steps.\u001b[0m\n"
      ]
     },
     "metadata": {},
     "output_type": "display_data"
    },
    {
     "data": {
      "text/html": [
       "<pre style=\"white-space:pre;overflow-x:auto;line-height:normal;font-family:Menlo,'DejaVu Sans Mono',consolas,'Courier New',monospace\"></pre>\n"
      ],
      "text/plain": []
     },
     "metadata": {},
     "output_type": "display_data"
    },
    {
     "data": {
      "text/html": [
       "<pre style=\"white-space:pre;overflow-x:auto;line-height:normal;font-family:Menlo,'DejaVu Sans Mono',consolas,'Courier New',monospace\"><span style=\"color: #800000; text-decoration-color: #800000\">Alert! Attempting infeasible recovery!</span>\n",
       "</pre>\n"
      ],
      "text/plain": [
       "\u001b[31mAlert! Attempting infeasible recovery!\u001b[0m\n"
      ]
     },
     "metadata": {},
     "output_type": "display_data"
    },
    {
     "data": {
      "text/html": [
       "<pre style=\"white-space:pre;overflow-x:auto;line-height:normal;font-family:Menlo,'DejaVu Sans Mono',consolas,'Courier New',monospace\"><span style=\"color: #008000; text-decoration-color: #008000\">Expected Improvement: </span><span style=\"color: #008080; text-decoration-color: #008080; font-weight: bold\">-0.047191280871629715</span><span style=\"color: #008000; text-decoration-color: #008000\"> Actual: </span><span style=\"color: #008080; text-decoration-color: #008080; font-weight: bold\">-0.04573219642043114</span>\n",
       "</pre>\n"
      ],
      "text/plain": [
       "\u001b[32mExpected Improvement: \u001b[0m\u001b[1;36m-0.047191280871629715\u001b[0m\u001b[32m Actual: \u001b[0m\u001b[1;36m-0.04573219642043114\u001b[0m\n"
      ]
     },
     "metadata": {},
     "output_type": "display_data"
    },
    {
     "data": {
      "text/html": [
       "<pre style=\"white-space:pre;overflow-x:auto;line-height:normal;font-family:Menlo,'DejaVu Sans Mono',consolas,'Courier New',monospace\"><span style=\"color: #008000; text-decoration-color: #008000\">Accept step at </span><span style=\"color: #808000; text-decoration-color: #808000\">i</span><span style=\"color: #008000; text-decoration-color: #008000\">=</span><span style=\"color: #008080; text-decoration-color: #008080; font-weight: bold\">1</span>\n",
       "</pre>\n"
      ],
      "text/plain": [
       "\u001b[32mAccept step at \u001b[0m\u001b[33mi\u001b[0m\u001b[32m=\u001b[0m\u001b[1;36m1\u001b[0m\n"
      ]
     },
     "metadata": {},
     "output_type": "display_data"
    },
    {
     "data": {
      "text/html": [
       "<pre style=\"white-space:pre;overflow-x:auto;line-height:normal;font-family:Menlo,'DejaVu Sans Mono',consolas,'Courier New',monospace\">┏━━━━━━━━━━━━━━━━━━━━━━━━━━━━━━━┳━━━━━━━━━━━━━━━━━━━━━━━━┓\n",
       "┃<span style=\"font-weight: bold\"> Metrics                       </span>┃<span style=\"font-weight: bold\"> Value                  </span>┃\n",
       "┡━━━━━━━━━━━━━━━━━━━━━━━━━━━━━━━╇━━━━━━━━━━━━━━━━━━━━━━━━┩\n",
       "│ Metrics/EpRet                 │ 77.01893615722656      │\n",
       "│ Metrics/EpCost                │ 638.1299438476562      │\n",
       "│ Metrics/EpLen                 │ 6.0                    │\n",
       "│ Train/Epoch                   │ 15.0                   │\n",
       "│ Train/Entropy                 │ 1.193015217781067      │\n",
       "│ Train/KL                      │ 0.00028335873503237963 │\n",
       "│ Train/StopIter                │ 10.0                   │\n",
       "│ Train/PolicyRatio/Mean        │ 1.0039721727371216     │\n",
       "│ Train/PolicyRatio/Min         │ 1.0039721727371216     │\n",
       "│ Train/PolicyRatio/Max         │ 1.0039721727371216     │\n",
       "│ Train/PolicyRatio/Std         │ 0.002808778313919902   │\n",
       "│ Train/LR                      │ 0.0                    │\n",
       "│ Train/PolicyStd               │ 0.7987074255943298     │\n",
       "│ TotalEnvSteps                 │ 320000.0               │\n",
       "│ Loss/Loss_pi                  │ -7.533802032470703     │\n",
       "│ Loss/Loss_pi/Delta            │ 2.227463722229004      │\n",
       "│ Value/Adv                     │ -4.959106458812812e-09 │\n",
       "│ Loss/Loss_reward_critic       │ 5159.47900390625       │\n",
       "│ Loss/Loss_reward_critic/Delta │ -1997.37939453125      │\n",
       "│ Value/reward                  │ 72.50775146484375      │\n",
       "│ Loss/Loss_cost_critic         │ 15234.9990234375       │\n",
       "│ Loss/Loss_cost_critic/Delta   │ -6234.1142578125       │\n",
       "│ Value/cost                    │ 462.9122619628906      │\n",
       "│ Time/Total                    │ 932.7691650390625      │\n",
       "│ Time/Rollout                  │ 29.794036865234375     │\n",
       "│ Time/Update                   │ 34.10081100463867      │\n",
       "│ Time/Epoch                    │ 63.89484786987305      │\n",
       "│ Time/FPS                      │ 313.0142822265625      │\n",
       "│ Env/Success_counts            │ nan                    │\n",
       "│ Misc/Alpha                    │ 0.12319644540548325    │\n",
       "│ Misc/FinalStepNorm            │ 0.16708707809448242    │\n",
       "│ Misc/gradient_norm            │ 3.554964303970337      │\n",
       "│ Misc/xHx                      │ 1.3177518844604492     │\n",
       "│ Misc/H_inv_g                  │ 1.642153263092041      │\n",
       "│ Misc/AcceptanceStep           │ 1.0                    │\n",
       "│ Misc/cost_gradient_norm       │ 1415.4432373046875     │\n",
       "│ Misc/A                        │ 1.206400990486145      │\n",
       "│ Misc/B                        │ -6.9590606689453125    │\n",
       "│ Misc/q                        │ 1.3177518844604492     │\n",
       "│ Misc/r                        │ 77.44632720947266      │\n",
       "│ Misc/s                        │ 53865.171875           │\n",
       "│ Misc/Lambda_star              │ 0.0                    │\n",
       "│ Misc/Nu_star                  │ 0.0006093417759984732  │\n",
       "│ Misc/OptimCase                │ 0.0                    │\n",
       "└───────────────────────────────┴────────────────────────┘\n",
       "</pre>\n"
      ],
      "text/plain": [
       "┏━━━━━━━━━━━━━━━━━━━━━━━━━━━━━━━┳━━━━━━━━━━━━━━━━━━━━━━━━┓\n",
       "┃\u001b[1m \u001b[0m\u001b[1mMetrics                      \u001b[0m\u001b[1m \u001b[0m┃\u001b[1m \u001b[0m\u001b[1mValue                 \u001b[0m\u001b[1m \u001b[0m┃\n",
       "┡━━━━━━━━━━━━━━━━━━━━━━━━━━━━━━━╇━━━━━━━━━━━━━━━━━━━━━━━━┩\n",
       "│ Metrics/EpRet                 │ 77.01893615722656      │\n",
       "│ Metrics/EpCost                │ 638.1299438476562      │\n",
       "│ Metrics/EpLen                 │ 6.0                    │\n",
       "│ Train/Epoch                   │ 15.0                   │\n",
       "│ Train/Entropy                 │ 1.193015217781067      │\n",
       "│ Train/KL                      │ 0.00028335873503237963 │\n",
       "│ Train/StopIter                │ 10.0                   │\n",
       "│ Train/PolicyRatio/Mean        │ 1.0039721727371216     │\n",
       "│ Train/PolicyRatio/Min         │ 1.0039721727371216     │\n",
       "│ Train/PolicyRatio/Max         │ 1.0039721727371216     │\n",
       "│ Train/PolicyRatio/Std         │ 0.002808778313919902   │\n",
       "│ Train/LR                      │ 0.0                    │\n",
       "│ Train/PolicyStd               │ 0.7987074255943298     │\n",
       "│ TotalEnvSteps                 │ 320000.0               │\n",
       "│ Loss/Loss_pi                  │ -7.533802032470703     │\n",
       "│ Loss/Loss_pi/Delta            │ 2.227463722229004      │\n",
       "│ Value/Adv                     │ -4.959106458812812e-09 │\n",
       "│ Loss/Loss_reward_critic       │ 5159.47900390625       │\n",
       "│ Loss/Loss_reward_critic/Delta │ -1997.37939453125      │\n",
       "│ Value/reward                  │ 72.50775146484375      │\n",
       "│ Loss/Loss_cost_critic         │ 15234.9990234375       │\n",
       "│ Loss/Loss_cost_critic/Delta   │ -6234.1142578125       │\n",
       "│ Value/cost                    │ 462.9122619628906      │\n",
       "│ Time/Total                    │ 932.7691650390625      │\n",
       "│ Time/Rollout                  │ 29.794036865234375     │\n",
       "│ Time/Update                   │ 34.10081100463867      │\n",
       "│ Time/Epoch                    │ 63.89484786987305      │\n",
       "│ Time/FPS                      │ 313.0142822265625      │\n",
       "│ Env/Success_counts            │ nan                    │\n",
       "│ Misc/Alpha                    │ 0.12319644540548325    │\n",
       "│ Misc/FinalStepNorm            │ 0.16708707809448242    │\n",
       "│ Misc/gradient_norm            │ 3.554964303970337      │\n",
       "│ Misc/xHx                      │ 1.3177518844604492     │\n",
       "│ Misc/H_inv_g                  │ 1.642153263092041      │\n",
       "│ Misc/AcceptanceStep           │ 1.0                    │\n",
       "│ Misc/cost_gradient_norm       │ 1415.4432373046875     │\n",
       "│ Misc/A                        │ 1.206400990486145      │\n",
       "│ Misc/B                        │ -6.9590606689453125    │\n",
       "│ Misc/q                        │ 1.3177518844604492     │\n",
       "│ Misc/r                        │ 77.44632720947266      │\n",
       "│ Misc/s                        │ 53865.171875           │\n",
       "│ Misc/Lambda_star              │ 0.0                    │\n",
       "│ Misc/Nu_star                  │ 0.0006093417759984732  │\n",
       "│ Misc/OptimCase                │ 0.0                    │\n",
       "└───────────────────────────────┴────────────────────────┘\n"
      ]
     },
     "metadata": {},
     "output_type": "display_data"
    },
    {
     "data": {
      "text/html": [
       "<pre style=\"white-space:pre;overflow-x:auto;line-height:normal;font-family:Menlo,'DejaVu Sans Mono',consolas,'Courier New',monospace\"><span style=\"color: #008000; text-decoration-color: #008000\">Warning: trajectory cut off when rollout by epoch at </span><span style=\"color: #008080; text-decoration-color: #008080; font-weight: bold\">2.0</span><span style=\"color: #008000; text-decoration-color: #008000\"> steps.</span>\n",
       "</pre>\n"
      ],
      "text/plain": [
       "\u001b[32mWarning: trajectory cut off when rollout by epoch at \u001b[0m\u001b[1;36m2.0\u001b[0m\u001b[32m steps.\u001b[0m\n"
      ]
     },
     "metadata": {},
     "output_type": "display_data"
    },
    {
     "data": {
      "text/html": [
       "<pre style=\"white-space:pre;overflow-x:auto;line-height:normal;font-family:Menlo,'DejaVu Sans Mono',consolas,'Courier New',monospace\"></pre>\n"
      ],
      "text/plain": []
     },
     "metadata": {},
     "output_type": "display_data"
    },
    {
     "data": {
      "text/html": [
       "<pre style=\"white-space:pre;overflow-x:auto;line-height:normal;font-family:Menlo,'DejaVu Sans Mono',consolas,'Courier New',monospace\"><span style=\"color: #800000; text-decoration-color: #800000\">Alert! Attempting infeasible recovery!</span>\n",
       "</pre>\n"
      ],
      "text/plain": [
       "\u001b[31mAlert! Attempting infeasible recovery!\u001b[0m\n"
      ]
     },
     "metadata": {},
     "output_type": "display_data"
    },
    {
     "data": {
      "text/html": [
       "<pre style=\"white-space:pre;overflow-x:auto;line-height:normal;font-family:Menlo,'DejaVu Sans Mono',consolas,'Courier New',monospace\"><span style=\"color: #008000; text-decoration-color: #008000\">Expected Improvement: </span><span style=\"color: #008080; text-decoration-color: #008080; font-weight: bold\">-0.04646219685673714</span><span style=\"color: #008000; text-decoration-color: #008000\"> Actual: </span><span style=\"color: #008080; text-decoration-color: #008080; font-weight: bold\">-0.046324167400598526</span>\n",
       "</pre>\n"
      ],
      "text/plain": [
       "\u001b[32mExpected Improvement: \u001b[0m\u001b[1;36m-0.04646219685673714\u001b[0m\u001b[32m Actual: \u001b[0m\u001b[1;36m-0.046324167400598526\u001b[0m\n"
      ]
     },
     "metadata": {},
     "output_type": "display_data"
    },
    {
     "data": {
      "text/html": [
       "<pre style=\"white-space:pre;overflow-x:auto;line-height:normal;font-family:Menlo,'DejaVu Sans Mono',consolas,'Courier New',monospace\"><span style=\"color: #008000; text-decoration-color: #008000\">Accept step at </span><span style=\"color: #808000; text-decoration-color: #808000\">i</span><span style=\"color: #008000; text-decoration-color: #008000\">=</span><span style=\"color: #008080; text-decoration-color: #008080; font-weight: bold\">1</span>\n",
       "</pre>\n"
      ],
      "text/plain": [
       "\u001b[32mAccept step at \u001b[0m\u001b[33mi\u001b[0m\u001b[32m=\u001b[0m\u001b[1;36m1\u001b[0m\n"
      ]
     },
     "metadata": {},
     "output_type": "display_data"
    },
    {
     "data": {
      "text/html": [
       "<pre style=\"white-space:pre;overflow-x:auto;line-height:normal;font-family:Menlo,'DejaVu Sans Mono',consolas,'Courier New',monospace\">┏━━━━━━━━━━━━━━━━━━━━━━━━━━━━━━━┳━━━━━━━━━━━━━━━━━━━━━━━━┓\n",
       "┃<span style=\"font-weight: bold\"> Metrics                       </span>┃<span style=\"font-weight: bold\"> Value                  </span>┃\n",
       "┡━━━━━━━━━━━━━━━━━━━━━━━━━━━━━━━╇━━━━━━━━━━━━━━━━━━━━━━━━┩\n",
       "│ Metrics/EpRet                 │ 47.56344223022461      │\n",
       "│ Metrics/EpCost                │ 521.3950805664062      │\n",
       "│ Metrics/EpLen                 │ 6.0                    │\n",
       "│ Train/Epoch                   │ 16.0                   │\n",
       "│ Train/Entropy                 │ 1.1574839353561401     │\n",
       "│ Train/KL                      │ 0.00027714771567843854 │\n",
       "│ Train/StopIter                │ 10.0                   │\n",
       "│ Train/PolicyRatio/Mean        │ 1.0013974905014038     │\n",
       "│ Train/PolicyRatio/Min         │ 1.0013974905014038     │\n",
       "│ Train/PolicyRatio/Max         │ 1.0013974905014038     │\n",
       "│ Train/PolicyRatio/Std         │ 0.0009881469886749983  │\n",
       "│ Train/LR                      │ 0.0                    │\n",
       "│ Train/PolicyStd               │ 0.770749568939209      │\n",
       "│ TotalEnvSteps                 │ 340000.0               │\n",
       "│ Loss/Loss_pi                  │ -5.9383745193481445    │\n",
       "│ Loss/Loss_pi/Delta            │ 1.5954275131225586     │\n",
       "│ Value/Adv                     │ -1.668930060816365e-08 │\n",
       "│ Loss/Loss_reward_critic       │ 3500.994384765625      │\n",
       "│ Loss/Loss_reward_critic/Delta │ -1658.484619140625     │\n",
       "│ Value/reward                  │ 53.26649475097656      │\n",
       "│ Loss/Loss_cost_critic         │ 11083.287109375        │\n",
       "│ Loss/Loss_cost_critic/Delta   │ -4151.7119140625       │\n",
       "│ Value/cost                    │ 354.1008605957031      │\n",
       "│ Time/Total                    │ 1020.7938842773438     │\n",
       "│ Time/Rollout                  │ 53.962562561035156     │\n",
       "│ Time/Update                   │ 34.00139236450195      │\n",
       "│ Time/Epoch                    │ 87.96395111083984      │\n",
       "│ Time/FPS                      │ 227.36585998535156     │\n",
       "│ Env/Success_counts            │ nan                    │\n",
       "│ Misc/Alpha                    │ 0.1287783533334732     │\n",
       "│ Misc/FinalStepNorm            │ 0.18968485295772552    │\n",
       "│ Misc/gradient_norm            │ 3.5619773864746094     │\n",
       "│ Misc/xHx                      │ 1.2059913873672485     │\n",
       "│ Misc/H_inv_g                  │ 1.635395884513855      │\n",
       "│ Misc/AcceptanceStep           │ 1.0                    │\n",
       "│ Misc/cost_gradient_norm       │ 1151.9727783203125     │\n",
       "│ Misc/A                        │ 1.0980546474456787     │\n",
       "│ Misc/B                        │ -6.832789897918701     │\n",
       "│ Misc/q                        │ 1.2059913873672485     │\n",
       "│ Misc/r                        │ 62.29862976074219      │\n",
       "│ Misc/s                        │ 35957.3359375          │\n",
       "│ Misc/Lambda_star              │ 0.0                    │\n",
       "│ Misc/Nu_star                  │ 0.0007457980536855757  │\n",
       "│ Misc/OptimCase                │ 0.0                    │\n",
       "└───────────────────────────────┴────────────────────────┘\n",
       "</pre>\n"
      ],
      "text/plain": [
       "┏━━━━━━━━━━━━━━━━━━━━━━━━━━━━━━━┳━━━━━━━━━━━━━━━━━━━━━━━━┓\n",
       "┃\u001b[1m \u001b[0m\u001b[1mMetrics                      \u001b[0m\u001b[1m \u001b[0m┃\u001b[1m \u001b[0m\u001b[1mValue                 \u001b[0m\u001b[1m \u001b[0m┃\n",
       "┡━━━━━━━━━━━━━━━━━━━━━━━━━━━━━━━╇━━━━━━━━━━━━━━━━━━━━━━━━┩\n",
       "│ Metrics/EpRet                 │ 47.56344223022461      │\n",
       "│ Metrics/EpCost                │ 521.3950805664062      │\n",
       "│ Metrics/EpLen                 │ 6.0                    │\n",
       "│ Train/Epoch                   │ 16.0                   │\n",
       "│ Train/Entropy                 │ 1.1574839353561401     │\n",
       "│ Train/KL                      │ 0.00027714771567843854 │\n",
       "│ Train/StopIter                │ 10.0                   │\n",
       "│ Train/PolicyRatio/Mean        │ 1.0013974905014038     │\n",
       "│ Train/PolicyRatio/Min         │ 1.0013974905014038     │\n",
       "│ Train/PolicyRatio/Max         │ 1.0013974905014038     │\n",
       "│ Train/PolicyRatio/Std         │ 0.0009881469886749983  │\n",
       "│ Train/LR                      │ 0.0                    │\n",
       "│ Train/PolicyStd               │ 0.770749568939209      │\n",
       "│ TotalEnvSteps                 │ 340000.0               │\n",
       "│ Loss/Loss_pi                  │ -5.9383745193481445    │\n",
       "│ Loss/Loss_pi/Delta            │ 1.5954275131225586     │\n",
       "│ Value/Adv                     │ -1.668930060816365e-08 │\n",
       "│ Loss/Loss_reward_critic       │ 3500.994384765625      │\n",
       "│ Loss/Loss_reward_critic/Delta │ -1658.484619140625     │\n",
       "│ Value/reward                  │ 53.26649475097656      │\n",
       "│ Loss/Loss_cost_critic         │ 11083.287109375        │\n",
       "│ Loss/Loss_cost_critic/Delta   │ -4151.7119140625       │\n",
       "│ Value/cost                    │ 354.1008605957031      │\n",
       "│ Time/Total                    │ 1020.7938842773438     │\n",
       "│ Time/Rollout                  │ 53.962562561035156     │\n",
       "│ Time/Update                   │ 34.00139236450195      │\n",
       "│ Time/Epoch                    │ 87.96395111083984      │\n",
       "│ Time/FPS                      │ 227.36585998535156     │\n",
       "│ Env/Success_counts            │ nan                    │\n",
       "│ Misc/Alpha                    │ 0.1287783533334732     │\n",
       "│ Misc/FinalStepNorm            │ 0.18968485295772552    │\n",
       "│ Misc/gradient_norm            │ 3.5619773864746094     │\n",
       "│ Misc/xHx                      │ 1.2059913873672485     │\n",
       "│ Misc/H_inv_g                  │ 1.635395884513855      │\n",
       "│ Misc/AcceptanceStep           │ 1.0                    │\n",
       "│ Misc/cost_gradient_norm       │ 1151.9727783203125     │\n",
       "│ Misc/A                        │ 1.0980546474456787     │\n",
       "│ Misc/B                        │ -6.832789897918701     │\n",
       "│ Misc/q                        │ 1.2059913873672485     │\n",
       "│ Misc/r                        │ 62.29862976074219      │\n",
       "│ Misc/s                        │ 35957.3359375          │\n",
       "│ Misc/Lambda_star              │ 0.0                    │\n",
       "│ Misc/Nu_star                  │ 0.0007457980536855757  │\n",
       "│ Misc/OptimCase                │ 0.0                    │\n",
       "└───────────────────────────────┴────────────────────────┘\n"
      ]
     },
     "metadata": {},
     "output_type": "display_data"
    },
    {
     "data": {
      "text/html": [
       "<pre style=\"white-space:pre;overflow-x:auto;line-height:normal;font-family:Menlo,'DejaVu Sans Mono',consolas,'Courier New',monospace\"><span style=\"color: #008000; text-decoration-color: #008000\">Warning: trajectory cut off when rollout by epoch at </span><span style=\"color: #008080; text-decoration-color: #008080; font-weight: bold\">2.0</span><span style=\"color: #008000; text-decoration-color: #008000\"> steps.</span>\n",
       "</pre>\n"
      ],
      "text/plain": [
       "\u001b[32mWarning: trajectory cut off when rollout by epoch at \u001b[0m\u001b[1;36m2.0\u001b[0m\u001b[32m steps.\u001b[0m\n"
      ]
     },
     "metadata": {},
     "output_type": "display_data"
    },
    {
     "data": {
      "text/html": [
       "<pre style=\"white-space:pre;overflow-x:auto;line-height:normal;font-family:Menlo,'DejaVu Sans Mono',consolas,'Courier New',monospace\"></pre>\n"
      ],
      "text/plain": []
     },
     "metadata": {},
     "output_type": "display_data"
    },
    {
     "data": {
      "text/html": [
       "<pre style=\"white-space:pre;overflow-x:auto;line-height:normal;font-family:Menlo,'DejaVu Sans Mono',consolas,'Courier New',monospace\"><span style=\"color: #800000; text-decoration-color: #800000\">Alert! Attempting infeasible recovery!</span>\n",
       "</pre>\n"
      ],
      "text/plain": [
       "\u001b[31mAlert! Attempting infeasible recovery!\u001b[0m\n"
      ]
     },
     "metadata": {},
     "output_type": "display_data"
    },
    {
     "data": {
      "text/html": [
       "<pre style=\"white-space:pre;overflow-x:auto;line-height:normal;font-family:Menlo,'DejaVu Sans Mono',consolas,'Courier New',monospace\"><span style=\"color: #008000; text-decoration-color: #008000\">Expected Improvement: </span><span style=\"color: #008080; text-decoration-color: #008080; font-weight: bold\">-0.03983853757381439</span><span style=\"color: #008000; text-decoration-color: #008000\"> Actual: </span><span style=\"color: #008080; text-decoration-color: #008080; font-weight: bold\">-0.04054741561412811</span>\n",
       "</pre>\n"
      ],
      "text/plain": [
       "\u001b[32mExpected Improvement: \u001b[0m\u001b[1;36m-0.03983853757381439\u001b[0m\u001b[32m Actual: \u001b[0m\u001b[1;36m-0.04054741561412811\u001b[0m\n"
      ]
     },
     "metadata": {},
     "output_type": "display_data"
    },
    {
     "data": {
      "text/html": [
       "<pre style=\"white-space:pre;overflow-x:auto;line-height:normal;font-family:Menlo,'DejaVu Sans Mono',consolas,'Courier New',monospace\"><span style=\"color: #008000; text-decoration-color: #008000\">Accept step at </span><span style=\"color: #808000; text-decoration-color: #808000\">i</span><span style=\"color: #008000; text-decoration-color: #008000\">=</span><span style=\"color: #008080; text-decoration-color: #008080; font-weight: bold\">1</span>\n",
       "</pre>\n"
      ],
      "text/plain": [
       "\u001b[32mAccept step at \u001b[0m\u001b[33mi\u001b[0m\u001b[32m=\u001b[0m\u001b[1;36m1\u001b[0m\n"
      ]
     },
     "metadata": {},
     "output_type": "display_data"
    },
    {
     "data": {
      "text/html": [
       "<pre style=\"white-space:pre;overflow-x:auto;line-height:normal;font-family:Menlo,'DejaVu Sans Mono',consolas,'Courier New',monospace\">┏━━━━━━━━━━━━━━━━━━━━━━━━━━━━━━━┳━━━━━━━━━━━━━━━━━━━━━━━━━┓\n",
       "┃<span style=\"font-weight: bold\"> Metrics                       </span>┃<span style=\"font-weight: bold\"> Value                   </span>┃\n",
       "┡━━━━━━━━━━━━━━━━━━━━━━━━━━━━━━━╇━━━━━━━━━━━━━━━━━━━━━━━━━┩\n",
       "│ Metrics/EpRet                 │ 31.969003677368164      │\n",
       "│ Metrics/EpCost                │ 314.781005859375        │\n",
       "│ Metrics/EpLen                 │ 6.0                     │\n",
       "│ Train/Epoch                   │ 17.0                    │\n",
       "│ Train/Entropy                 │ 1.1185637712478638      │\n",
       "│ Train/KL                      │ 0.0002592792734503746   │\n",
       "│ Train/StopIter                │ 10.0                    │\n",
       "│ Train/PolicyRatio/Mean        │ 1.0016721487045288      │\n",
       "│ Train/PolicyRatio/Min         │ 1.0016721487045288      │\n",
       "│ Train/PolicyRatio/Max         │ 1.0016721487045288      │\n",
       "│ Train/PolicyRatio/Std         │ 0.0011823596432805061   │\n",
       "│ Train/LR                      │ 0.0                     │\n",
       "│ Train/PolicyStd               │ 0.7413066029548645      │\n",
       "│ TotalEnvSteps                 │ 360000.0                │\n",
       "│ Loss/Loss_pi                  │ -4.441832542419434      │\n",
       "│ Loss/Loss_pi/Delta            │ 1.496541976928711       │\n",
       "│ Value/Adv                     │ -1.2207030941624453e-08 │\n",
       "│ Loss/Loss_reward_critic       │ 2129.3037109375         │\n",
       "│ Loss/Loss_reward_critic/Delta │ -1371.690673828125      │\n",
       "│ Value/reward                  │ 42.08580780029297       │\n",
       "│ Loss/Loss_cost_critic         │ 7427.70751953125        │\n",
       "│ Loss/Loss_cost_critic/Delta   │ -3655.57958984375       │\n",
       "│ Value/cost                    │ 273.6785888671875       │\n",
       "│ Time/Total                    │ 1090.435302734375       │\n",
       "│ Time/Rollout                  │ 36.65443801879883       │\n",
       "│ Time/Update                   │ 32.93510437011719       │\n",
       "│ Time/Epoch                    │ 69.58953857421875       │\n",
       "│ Time/FPS                      │ 287.3995056152344       │\n",
       "│ Env/Success_counts            │ nan                     │\n",
       "│ Misc/Alpha                    │ 0.13827283680438995     │\n",
       "│ Misc/FinalStepNorm            │ 0.19948817789554596     │\n",
       "│ Misc/gradient_norm            │ 3.472748041152954       │\n",
       "│ Misc/xHx                      │ 1.0460591316223145      │\n",
       "│ Misc/H_inv_g                  │ 1.50311279296875        │\n",
       "│ Misc/AcceptanceStep           │ 1.0                     │\n",
       "│ Misc/cost_gradient_norm       │ 938.6161499023438       │\n",
       "│ Misc/A                        │ 0.9667036533355713      │\n",
       "│ Misc/B                        │ -3.9864754676818848     │\n",
       "│ Misc/q                        │ 1.0460591316223145      │\n",
       "│ Misc/r                        │ 40.78280258178711       │\n",
       "│ Misc/s                        │ 20959.328125            │\n",
       "│ Misc/Lambda_star              │ 0.0                     │\n",
       "│ Misc/Nu_star                  │ 0.000976846436969936    │\n",
       "│ Misc/OptimCase                │ 0.0                     │\n",
       "└───────────────────────────────┴─────────────────────────┘\n",
       "</pre>\n"
      ],
      "text/plain": [
       "┏━━━━━━━━━━━━━━━━━━━━━━━━━━━━━━━┳━━━━━━━━━━━━━━━━━━━━━━━━━┓\n",
       "┃\u001b[1m \u001b[0m\u001b[1mMetrics                      \u001b[0m\u001b[1m \u001b[0m┃\u001b[1m \u001b[0m\u001b[1mValue                  \u001b[0m\u001b[1m \u001b[0m┃\n",
       "┡━━━━━━━━━━━━━━━━━━━━━━━━━━━━━━━╇━━━━━━━━━━━━━━━━━━━━━━━━━┩\n",
       "│ Metrics/EpRet                 │ 31.969003677368164      │\n",
       "│ Metrics/EpCost                │ 314.781005859375        │\n",
       "│ Metrics/EpLen                 │ 6.0                     │\n",
       "│ Train/Epoch                   │ 17.0                    │\n",
       "│ Train/Entropy                 │ 1.1185637712478638      │\n",
       "│ Train/KL                      │ 0.0002592792734503746   │\n",
       "│ Train/StopIter                │ 10.0                    │\n",
       "│ Train/PolicyRatio/Mean        │ 1.0016721487045288      │\n",
       "│ Train/PolicyRatio/Min         │ 1.0016721487045288      │\n",
       "│ Train/PolicyRatio/Max         │ 1.0016721487045288      │\n",
       "│ Train/PolicyRatio/Std         │ 0.0011823596432805061   │\n",
       "│ Train/LR                      │ 0.0                     │\n",
       "│ Train/PolicyStd               │ 0.7413066029548645      │\n",
       "│ TotalEnvSteps                 │ 360000.0                │\n",
       "│ Loss/Loss_pi                  │ -4.441832542419434      │\n",
       "│ Loss/Loss_pi/Delta            │ 1.496541976928711       │\n",
       "│ Value/Adv                     │ -1.2207030941624453e-08 │\n",
       "│ Loss/Loss_reward_critic       │ 2129.3037109375         │\n",
       "│ Loss/Loss_reward_critic/Delta │ -1371.690673828125      │\n",
       "│ Value/reward                  │ 42.08580780029297       │\n",
       "│ Loss/Loss_cost_critic         │ 7427.70751953125        │\n",
       "│ Loss/Loss_cost_critic/Delta   │ -3655.57958984375       │\n",
       "│ Value/cost                    │ 273.6785888671875       │\n",
       "│ Time/Total                    │ 1090.435302734375       │\n",
       "│ Time/Rollout                  │ 36.65443801879883       │\n",
       "│ Time/Update                   │ 32.93510437011719       │\n",
       "│ Time/Epoch                    │ 69.58953857421875       │\n",
       "│ Time/FPS                      │ 287.3995056152344       │\n",
       "│ Env/Success_counts            │ nan                     │\n",
       "│ Misc/Alpha                    │ 0.13827283680438995     │\n",
       "│ Misc/FinalStepNorm            │ 0.19948817789554596     │\n",
       "│ Misc/gradient_norm            │ 3.472748041152954       │\n",
       "│ Misc/xHx                      │ 1.0460591316223145      │\n",
       "│ Misc/H_inv_g                  │ 1.50311279296875        │\n",
       "│ Misc/AcceptanceStep           │ 1.0                     │\n",
       "│ Misc/cost_gradient_norm       │ 938.6161499023438       │\n",
       "│ Misc/A                        │ 0.9667036533355713      │\n",
       "│ Misc/B                        │ -3.9864754676818848     │\n",
       "│ Misc/q                        │ 1.0460591316223145      │\n",
       "│ Misc/r                        │ 40.78280258178711       │\n",
       "│ Misc/s                        │ 20959.328125            │\n",
       "│ Misc/Lambda_star              │ 0.0                     │\n",
       "│ Misc/Nu_star                  │ 0.000976846436969936    │\n",
       "│ Misc/OptimCase                │ 0.0                     │\n",
       "└───────────────────────────────┴─────────────────────────┘\n"
      ]
     },
     "metadata": {},
     "output_type": "display_data"
    },
    {
     "data": {
      "text/html": [
       "<pre style=\"white-space:pre;overflow-x:auto;line-height:normal;font-family:Menlo,'DejaVu Sans Mono',consolas,'Courier New',monospace\"><span style=\"color: #008000; text-decoration-color: #008000\">Warning: trajectory cut off when rollout by epoch at </span><span style=\"color: #008080; text-decoration-color: #008080; font-weight: bold\">2.0</span><span style=\"color: #008000; text-decoration-color: #008000\"> steps.</span>\n",
       "</pre>\n"
      ],
      "text/plain": [
       "\u001b[32mWarning: trajectory cut off when rollout by epoch at \u001b[0m\u001b[1;36m2.0\u001b[0m\u001b[32m steps.\u001b[0m\n"
      ]
     },
     "metadata": {},
     "output_type": "display_data"
    },
    {
     "data": {
      "text/html": [
       "<pre style=\"white-space:pre;overflow-x:auto;line-height:normal;font-family:Menlo,'DejaVu Sans Mono',consolas,'Courier New',monospace\"></pre>\n"
      ],
      "text/plain": []
     },
     "metadata": {},
     "output_type": "display_data"
    },
    {
     "data": {
      "text/html": [
       "<pre style=\"white-space:pre;overflow-x:auto;line-height:normal;font-family:Menlo,'DejaVu Sans Mono',consolas,'Courier New',monospace\"><span style=\"color: #800000; text-decoration-color: #800000\">Alert! Attempting infeasible recovery!</span>\n",
       "</pre>\n"
      ],
      "text/plain": [
       "\u001b[31mAlert! Attempting infeasible recovery!\u001b[0m\n"
      ]
     },
     "metadata": {},
     "output_type": "display_data"
    },
    {
     "data": {
      "text/html": [
       "<pre style=\"white-space:pre;overflow-x:auto;line-height:normal;font-family:Menlo,'DejaVu Sans Mono',consolas,'Courier New',monospace\"><span style=\"color: #008000; text-decoration-color: #008000\">Expected Improvement: </span><span style=\"color: #008080; text-decoration-color: #008080; font-weight: bold\">-0.04127044230699539</span><span style=\"color: #008000; text-decoration-color: #008000\"> Actual: </span><span style=\"color: #008080; text-decoration-color: #008080; font-weight: bold\">-0.04220465570688248</span>\n",
       "</pre>\n"
      ],
      "text/plain": [
       "\u001b[32mExpected Improvement: \u001b[0m\u001b[1;36m-0.04127044230699539\u001b[0m\u001b[32m Actual: \u001b[0m\u001b[1;36m-0.04220465570688248\u001b[0m\n"
      ]
     },
     "metadata": {},
     "output_type": "display_data"
    },
    {
     "data": {
      "text/html": [
       "<pre style=\"white-space:pre;overflow-x:auto;line-height:normal;font-family:Menlo,'DejaVu Sans Mono',consolas,'Courier New',monospace\"><span style=\"color: #008000; text-decoration-color: #008000\">Accept step at </span><span style=\"color: #808000; text-decoration-color: #808000\">i</span><span style=\"color: #008000; text-decoration-color: #008000\">=</span><span style=\"color: #008080; text-decoration-color: #008080; font-weight: bold\">1</span>\n",
       "</pre>\n"
      ],
      "text/plain": [
       "\u001b[32mAccept step at \u001b[0m\u001b[33mi\u001b[0m\u001b[32m=\u001b[0m\u001b[1;36m1\u001b[0m\n"
      ]
     },
     "metadata": {},
     "output_type": "display_data"
    },
    {
     "data": {
      "text/html": [
       "<pre style=\"white-space:pre;overflow-x:auto;line-height:normal;font-family:Menlo,'DejaVu Sans Mono',consolas,'Courier New',monospace\">┏━━━━━━━━━━━━━━━━━━━━━━━━━━━━━━━┳━━━━━━━━━━━━━━━━━━━━━━━━┓\n",
       "┃<span style=\"font-weight: bold\"> Metrics                       </span>┃<span style=\"font-weight: bold\"> Value                  </span>┃\n",
       "┡━━━━━━━━━━━━━━━━━━━━━━━━━━━━━━━╇━━━━━━━━━━━━━━━━━━━━━━━━┩\n",
       "│ Metrics/EpRet                 │ 25.44879913330078      │\n",
       "│ Metrics/EpCost                │ 246.74209594726562     │\n",
       "│ Metrics/EpLen                 │ 6.0                    │\n",
       "│ Train/Epoch                   │ 18.0                   │\n",
       "│ Train/Entropy                 │ 1.0784183740615845     │\n",
       "│ Train/KL                      │ 0.00025110566639341414 │\n",
       "│ Train/StopIter                │ 10.0                   │\n",
       "│ Train/PolicyRatio/Mean        │ 1.0014864206314087     │\n",
       "│ Train/PolicyRatio/Min         │ 1.0014864206314087     │\n",
       "│ Train/PolicyRatio/Max         │ 1.0014864206314087     │\n",
       "│ Train/PolicyRatio/Std         │ 0.001051142462529242   │\n",
       "│ Train/LR                      │ 0.0                    │\n",
       "│ Train/PolicyStd               │ 0.7120721936225891     │\n",
       "│ TotalEnvSteps                 │ 380000.0               │\n",
       "│ Loss/Loss_pi                  │ -3.330162763595581     │\n",
       "│ Loss/Loss_pi/Delta            │ 1.1116697788238525     │\n",
       "│ Value/Adv                     │ 6.484985437538171e-09  │\n",
       "│ Loss/Loss_reward_critic       │ 1318.802490234375      │\n",
       "│ Loss/Loss_reward_critic/Delta │ -810.501220703125      │\n",
       "│ Value/reward                  │ 27.053102493286133     │\n",
       "│ Loss/Loss_cost_critic         │ 5115.96044921875       │\n",
       "│ Loss/Loss_cost_critic/Delta   │ -2311.7470703125       │\n",
       "│ Value/cost                    │ 195.95364379882812     │\n",
       "│ Time/Total                    │ 1151.388427734375      │\n",
       "│ Time/Rollout                  │ 33.20980453491211      │\n",
       "│ Time/Update                   │ 27.689701080322266     │\n",
       "│ Time/Epoch                    │ 60.90053176879883      │\n",
       "│ Time/FPS                      │ 328.40435791015625     │\n",
       "│ Env/Success_counts            │ nan                    │\n",
       "│ Misc/Alpha                    │ 0.14366993308067322    │\n",
       "│ Misc/FinalStepNorm            │ 0.20507323741912842    │\n",
       "│ Misc/gradient_norm            │ 3.703627586364746      │\n",
       "│ Misc/xHx                      │ 0.9689429402351379     │\n",
       "│ Misc/H_inv_g                  │ 1.4259061813354492     │\n",
       "│ Misc/AcceptanceStep           │ 1.0                    │\n",
       "│ Misc/cost_gradient_norm       │ 752.2083129882812      │\n",
       "│ Misc/A                        │ 0.8837804198265076     │\n",
       "│ Misc/B                        │ -3.934183120727539     │\n",
       "│ Misc/q                        │ 0.9689429402351379     │\n",
       "│ Misc/r                        │ 32.5419807434082       │\n",
       "│ Misc/s                        │ 12434.8203125          │\n",
       "│ Misc/Lambda_star              │ 0.0                    │\n",
       "│ Misc/Nu_star                  │ 0.001268221763893962   │\n",
       "│ Misc/OptimCase                │ 0.0                    │\n",
       "└───────────────────────────────┴────────────────────────┘\n",
       "</pre>\n"
      ],
      "text/plain": [
       "┏━━━━━━━━━━━━━━━━━━━━━━━━━━━━━━━┳━━━━━━━━━━━━━━━━━━━━━━━━┓\n",
       "┃\u001b[1m \u001b[0m\u001b[1mMetrics                      \u001b[0m\u001b[1m \u001b[0m┃\u001b[1m \u001b[0m\u001b[1mValue                 \u001b[0m\u001b[1m \u001b[0m┃\n",
       "┡━━━━━━━━━━━━━━━━━━━━━━━━━━━━━━━╇━━━━━━━━━━━━━━━━━━━━━━━━┩\n",
       "│ Metrics/EpRet                 │ 25.44879913330078      │\n",
       "│ Metrics/EpCost                │ 246.74209594726562     │\n",
       "│ Metrics/EpLen                 │ 6.0                    │\n",
       "│ Train/Epoch                   │ 18.0                   │\n",
       "│ Train/Entropy                 │ 1.0784183740615845     │\n",
       "│ Train/KL                      │ 0.00025110566639341414 │\n",
       "│ Train/StopIter                │ 10.0                   │\n",
       "│ Train/PolicyRatio/Mean        │ 1.0014864206314087     │\n",
       "│ Train/PolicyRatio/Min         │ 1.0014864206314087     │\n",
       "│ Train/PolicyRatio/Max         │ 1.0014864206314087     │\n",
       "│ Train/PolicyRatio/Std         │ 0.001051142462529242   │\n",
       "│ Train/LR                      │ 0.0                    │\n",
       "│ Train/PolicyStd               │ 0.7120721936225891     │\n",
       "│ TotalEnvSteps                 │ 380000.0               │\n",
       "│ Loss/Loss_pi                  │ -3.330162763595581     │\n",
       "│ Loss/Loss_pi/Delta            │ 1.1116697788238525     │\n",
       "│ Value/Adv                     │ 6.484985437538171e-09  │\n",
       "│ Loss/Loss_reward_critic       │ 1318.802490234375      │\n",
       "│ Loss/Loss_reward_critic/Delta │ -810.501220703125      │\n",
       "│ Value/reward                  │ 27.053102493286133     │\n",
       "│ Loss/Loss_cost_critic         │ 5115.96044921875       │\n",
       "│ Loss/Loss_cost_critic/Delta   │ -2311.7470703125       │\n",
       "│ Value/cost                    │ 195.95364379882812     │\n",
       "│ Time/Total                    │ 1151.388427734375      │\n",
       "│ Time/Rollout                  │ 33.20980453491211      │\n",
       "│ Time/Update                   │ 27.689701080322266     │\n",
       "│ Time/Epoch                    │ 60.90053176879883      │\n",
       "│ Time/FPS                      │ 328.40435791015625     │\n",
       "│ Env/Success_counts            │ nan                    │\n",
       "│ Misc/Alpha                    │ 0.14366993308067322    │\n",
       "│ Misc/FinalStepNorm            │ 0.20507323741912842    │\n",
       "│ Misc/gradient_norm            │ 3.703627586364746      │\n",
       "│ Misc/xHx                      │ 0.9689429402351379     │\n",
       "│ Misc/H_inv_g                  │ 1.4259061813354492     │\n",
       "│ Misc/AcceptanceStep           │ 1.0                    │\n",
       "│ Misc/cost_gradient_norm       │ 752.2083129882812      │\n",
       "│ Misc/A                        │ 0.8837804198265076     │\n",
       "│ Misc/B                        │ -3.934183120727539     │\n",
       "│ Misc/q                        │ 0.9689429402351379     │\n",
       "│ Misc/r                        │ 32.5419807434082       │\n",
       "│ Misc/s                        │ 12434.8203125          │\n",
       "│ Misc/Lambda_star              │ 0.0                    │\n",
       "│ Misc/Nu_star                  │ 0.001268221763893962   │\n",
       "│ Misc/OptimCase                │ 0.0                    │\n",
       "└───────────────────────────────┴────────────────────────┘\n"
      ]
     },
     "metadata": {},
     "output_type": "display_data"
    },
    {
     "data": {
      "text/html": [
       "<pre style=\"white-space:pre;overflow-x:auto;line-height:normal;font-family:Menlo,'DejaVu Sans Mono',consolas,'Courier New',monospace\"><span style=\"color: #008000; text-decoration-color: #008000\">Warning: trajectory cut off when rollout by epoch at </span><span style=\"color: #008080; text-decoration-color: #008080; font-weight: bold\">2.0</span><span style=\"color: #008000; text-decoration-color: #008000\"> steps.</span>\n",
       "</pre>\n"
      ],
      "text/plain": [
       "\u001b[32mWarning: trajectory cut off when rollout by epoch at \u001b[0m\u001b[1;36m2.0\u001b[0m\u001b[32m steps.\u001b[0m\n"
      ]
     },
     "metadata": {},
     "output_type": "display_data"
    },
    {
     "data": {
      "text/html": [
       "<pre style=\"white-space:pre;overflow-x:auto;line-height:normal;font-family:Menlo,'DejaVu Sans Mono',consolas,'Courier New',monospace\"></pre>\n"
      ],
      "text/plain": []
     },
     "metadata": {},
     "output_type": "display_data"
    },
    {
     "data": {
      "text/html": [
       "<pre style=\"white-space:pre;overflow-x:auto;line-height:normal;font-family:Menlo,'DejaVu Sans Mono',consolas,'Courier New',monospace\"><span style=\"color: #800000; text-decoration-color: #800000\">Alert! Attempting infeasible recovery!</span>\n",
       "</pre>\n"
      ],
      "text/plain": [
       "\u001b[31mAlert! Attempting infeasible recovery!\u001b[0m\n"
      ]
     },
     "metadata": {},
     "output_type": "display_data"
    },
    {
     "data": {
      "text/html": [
       "<pre style=\"white-space:pre;overflow-x:auto;line-height:normal;font-family:Menlo,'DejaVu Sans Mono',consolas,'Courier New',monospace\"><span style=\"color: #008000; text-decoration-color: #008000\">Expected Improvement: </span><span style=\"color: #008080; text-decoration-color: #008080; font-weight: bold\">-0.05034397915005684</span><span style=\"color: #008000; text-decoration-color: #008000\"> Actual: </span><span style=\"color: #008080; text-decoration-color: #008080; font-weight: bold\">-0.045342136174440384</span>\n",
       "</pre>\n"
      ],
      "text/plain": [
       "\u001b[32mExpected Improvement: \u001b[0m\u001b[1;36m-0.05034397915005684\u001b[0m\u001b[32m Actual: \u001b[0m\u001b[1;36m-0.045342136174440384\u001b[0m\n"
      ]
     },
     "metadata": {},
     "output_type": "display_data"
    },
    {
     "data": {
      "text/html": [
       "<pre style=\"white-space:pre;overflow-x:auto;line-height:normal;font-family:Menlo,'DejaVu Sans Mono',consolas,'Courier New',monospace\"><span style=\"color: #008000; text-decoration-color: #008000\">Accept step at </span><span style=\"color: #808000; text-decoration-color: #808000\">i</span><span style=\"color: #008000; text-decoration-color: #008000\">=</span><span style=\"color: #008080; text-decoration-color: #008080; font-weight: bold\">1</span>\n",
       "</pre>\n"
      ],
      "text/plain": [
       "\u001b[32mAccept step at \u001b[0m\u001b[33mi\u001b[0m\u001b[32m=\u001b[0m\u001b[1;36m1\u001b[0m\n"
      ]
     },
     "metadata": {},
     "output_type": "display_data"
    },
    {
     "data": {
      "text/html": [
       "<pre style=\"white-space:pre;overflow-x:auto;line-height:normal;font-family:Menlo,'DejaVu Sans Mono',consolas,'Courier New',monospace\">┏━━━━━━━━━━━━━━━━━━━━━━━━━━━━━━━┳━━━━━━━━━━━━━━━━━━━━━━━━┓\n",
       "┃<span style=\"font-weight: bold\"> Metrics                       </span>┃<span style=\"font-weight: bold\"> Value                  </span>┃\n",
       "┡━━━━━━━━━━━━━━━━━━━━━━━━━━━━━━━╇━━━━━━━━━━━━━━━━━━━━━━━━┩\n",
       "│ Metrics/EpRet                 │ 15.776239395141602     │\n",
       "│ Metrics/EpCost                │ 161.94866943359375     │\n",
       "│ Metrics/EpLen                 │ 6.0                    │\n",
       "│ Train/Epoch                   │ 19.0                   │\n",
       "│ Train/Entropy                 │ 1.0369027853012085     │\n",
       "│ Train/KL                      │ 0.00024668092373758554 │\n",
       "│ Train/StopIter                │ 10.0                   │\n",
       "│ Train/PolicyRatio/Mean        │ 0.9993961453437805     │\n",
       "│ Train/PolicyRatio/Min         │ 0.9993961453437805     │\n",
       "│ Train/PolicyRatio/Max         │ 0.9993961453437805     │\n",
       "│ Train/PolicyRatio/Std         │ 0.0004269475757610053  │\n",
       "│ Train/LR                      │ 0.0                    │\n",
       "│ Train/PolicyStd               │ 0.683100700378418      │\n",
       "│ TotalEnvSteps                 │ 400000.0               │\n",
       "│ Loss/Loss_pi                  │ -2.3557980060577393    │\n",
       "│ Loss/Loss_pi/Delta            │ 0.9743647575378418     │\n",
       "│ Value/Adv                     │ 4.00543198608716e-09   │\n",
       "│ Loss/Loss_reward_critic       │ 757.577392578125       │\n",
       "│ Loss/Loss_reward_critic/Delta │ -561.22509765625       │\n",
       "│ Value/reward                  │ 16.391712188720703     │\n",
       "│ Loss/Loss_cost_critic         │ 3214.02587890625       │\n",
       "│ Loss/Loss_cost_critic/Delta   │ -1901.9345703125       │\n",
       "│ Value/cost                    │ 134.11741638183594     │\n",
       "│ Time/Total                    │ 1210.334716796875      │\n",
       "│ Time/Rollout                  │ 31.852066040039062     │\n",
       "│ Time/Update                   │ 27.050140380859375     │\n",
       "│ Time/Epoch                    │ 58.90220642089844      │\n",
       "│ Time/FPS                      │ 339.5458679199219      │\n",
       "│ Env/Success_counts            │ nan                    │\n",
       "│ Misc/Alpha                    │ 0.154209703207016      │\n",
       "│ Misc/FinalStepNorm            │ 0.21466977894306183    │\n",
       "│ Misc/gradient_norm            │ 3.6350362300872803     │\n",
       "│ Misc/xHx                      │ 0.8410204648971558     │\n",
       "│ Misc/H_inv_g                  │ 1.3354458808898926     │\n",
       "│ Misc/AcceptanceStep           │ 1.0                    │\n",
       "│ Misc/cost_gradient_norm       │ 591.8087158203125      │\n",
       "│ Misc/A                        │ 0.7142946124076843     │\n",
       "│ Misc/B                        │ -2.734593391418457     │\n",
       "│ Misc/q                        │ 0.8410204648971558     │\n",
       "│ Misc/r                        │ 29.3739013671875       │\n",
       "│ Misc/s                        │ 6808.6044921875        │\n",
       "│ Misc/Lambda_star              │ 0.0                    │\n",
       "│ Misc/Nu_star                  │ 0.0017139017581939697  │\n",
       "│ Misc/OptimCase                │ 0.0                    │\n",
       "└───────────────────────────────┴────────────────────────┘\n",
       "</pre>\n"
      ],
      "text/plain": [
       "┏━━━━━━━━━━━━━━━━━━━━━━━━━━━━━━━┳━━━━━━━━━━━━━━━━━━━━━━━━┓\n",
       "┃\u001b[1m \u001b[0m\u001b[1mMetrics                      \u001b[0m\u001b[1m \u001b[0m┃\u001b[1m \u001b[0m\u001b[1mValue                 \u001b[0m\u001b[1m \u001b[0m┃\n",
       "┡━━━━━━━━━━━━━━━━━━━━━━━━━━━━━━━╇━━━━━━━━━━━━━━━━━━━━━━━━┩\n",
       "│ Metrics/EpRet                 │ 15.776239395141602     │\n",
       "│ Metrics/EpCost                │ 161.94866943359375     │\n",
       "│ Metrics/EpLen                 │ 6.0                    │\n",
       "│ Train/Epoch                   │ 19.0                   │\n",
       "│ Train/Entropy                 │ 1.0369027853012085     │\n",
       "│ Train/KL                      │ 0.00024668092373758554 │\n",
       "│ Train/StopIter                │ 10.0                   │\n",
       "│ Train/PolicyRatio/Mean        │ 0.9993961453437805     │\n",
       "│ Train/PolicyRatio/Min         │ 0.9993961453437805     │\n",
       "│ Train/PolicyRatio/Max         │ 0.9993961453437805     │\n",
       "│ Train/PolicyRatio/Std         │ 0.0004269475757610053  │\n",
       "│ Train/LR                      │ 0.0                    │\n",
       "│ Train/PolicyStd               │ 0.683100700378418      │\n",
       "│ TotalEnvSteps                 │ 400000.0               │\n",
       "│ Loss/Loss_pi                  │ -2.3557980060577393    │\n",
       "│ Loss/Loss_pi/Delta            │ 0.9743647575378418     │\n",
       "│ Value/Adv                     │ 4.00543198608716e-09   │\n",
       "│ Loss/Loss_reward_critic       │ 757.577392578125       │\n",
       "│ Loss/Loss_reward_critic/Delta │ -561.22509765625       │\n",
       "│ Value/reward                  │ 16.391712188720703     │\n",
       "│ Loss/Loss_cost_critic         │ 3214.02587890625       │\n",
       "│ Loss/Loss_cost_critic/Delta   │ -1901.9345703125       │\n",
       "│ Value/cost                    │ 134.11741638183594     │\n",
       "│ Time/Total                    │ 1210.334716796875      │\n",
       "│ Time/Rollout                  │ 31.852066040039062     │\n",
       "│ Time/Update                   │ 27.050140380859375     │\n",
       "│ Time/Epoch                    │ 58.90220642089844      │\n",
       "│ Time/FPS                      │ 339.5458679199219      │\n",
       "│ Env/Success_counts            │ nan                    │\n",
       "│ Misc/Alpha                    │ 0.154209703207016      │\n",
       "│ Misc/FinalStepNorm            │ 0.21466977894306183    │\n",
       "│ Misc/gradient_norm            │ 3.6350362300872803     │\n",
       "│ Misc/xHx                      │ 0.8410204648971558     │\n",
       "│ Misc/H_inv_g                  │ 1.3354458808898926     │\n",
       "│ Misc/AcceptanceStep           │ 1.0                    │\n",
       "│ Misc/cost_gradient_norm       │ 591.8087158203125      │\n",
       "│ Misc/A                        │ 0.7142946124076843     │\n",
       "│ Misc/B                        │ -2.734593391418457     │\n",
       "│ Misc/q                        │ 0.8410204648971558     │\n",
       "│ Misc/r                        │ 29.3739013671875       │\n",
       "│ Misc/s                        │ 6808.6044921875        │\n",
       "│ Misc/Lambda_star              │ 0.0                    │\n",
       "│ Misc/Nu_star                  │ 0.0017139017581939697  │\n",
       "│ Misc/OptimCase                │ 0.0                    │\n",
       "└───────────────────────────────┴────────────────────────┘\n"
      ]
     },
     "metadata": {},
     "output_type": "display_data"
    },
    {
     "data": {
      "text/html": [
       "<pre style=\"white-space:pre;overflow-x:auto;line-height:normal;font-family:Menlo,'DejaVu Sans Mono',consolas,'Courier New',monospace\"><span style=\"color: #008000; text-decoration-color: #008000\">Warning: trajectory cut off when rollout by epoch at </span><span style=\"color: #008080; text-decoration-color: #008080; font-weight: bold\">2.0</span><span style=\"color: #008000; text-decoration-color: #008000\"> steps.</span>\n",
       "</pre>\n"
      ],
      "text/plain": [
       "\u001b[32mWarning: trajectory cut off when rollout by epoch at \u001b[0m\u001b[1;36m2.0\u001b[0m\u001b[32m steps.\u001b[0m\n"
      ]
     },
     "metadata": {},
     "output_type": "display_data"
    },
    {
     "data": {
      "text/html": [
       "<pre style=\"white-space:pre;overflow-x:auto;line-height:normal;font-family:Menlo,'DejaVu Sans Mono',consolas,'Courier New',monospace\"></pre>\n"
      ],
      "text/plain": []
     },
     "metadata": {},
     "output_type": "display_data"
    },
    {
     "data": {
      "text/html": [
       "<pre style=\"white-space:pre;overflow-x:auto;line-height:normal;font-family:Menlo,'DejaVu Sans Mono',consolas,'Courier New',monospace\"><span style=\"color: #800000; text-decoration-color: #800000\">Alert! Attempting infeasible recovery!</span>\n",
       "</pre>\n"
      ],
      "text/plain": [
       "\u001b[31mAlert! Attempting infeasible recovery!\u001b[0m\n"
      ]
     },
     "metadata": {},
     "output_type": "display_data"
    },
    {
     "data": {
      "text/html": [
       "<pre style=\"white-space:pre;overflow-x:auto;line-height:normal;font-family:Menlo,'DejaVu Sans Mono',consolas,'Courier New',monospace\"><span style=\"color: #008000; text-decoration-color: #008000\">Expected Improvement: </span><span style=\"color: #008080; text-decoration-color: #008080; font-weight: bold\">-0.041704609990119934</span><span style=\"color: #008000; text-decoration-color: #008000\"> Actual: </span><span style=\"color: #008080; text-decoration-color: #008080; font-weight: bold\">-0.03369979187846184</span>\n",
       "</pre>\n"
      ],
      "text/plain": [
       "\u001b[32mExpected Improvement: \u001b[0m\u001b[1;36m-0.041704609990119934\u001b[0m\u001b[32m Actual: \u001b[0m\u001b[1;36m-0.03369979187846184\u001b[0m\n"
      ]
     },
     "metadata": {},
     "output_type": "display_data"
    },
    {
     "data": {
      "text/html": [
       "<pre style=\"white-space:pre;overflow-x:auto;line-height:normal;font-family:Menlo,'DejaVu Sans Mono',consolas,'Courier New',monospace\"><span style=\"color: #008000; text-decoration-color: #008000\">Accept step at </span><span style=\"color: #808000; text-decoration-color: #808000\">i</span><span style=\"color: #008000; text-decoration-color: #008000\">=</span><span style=\"color: #008080; text-decoration-color: #008080; font-weight: bold\">1</span>\n",
       "</pre>\n"
      ],
      "text/plain": [
       "\u001b[32mAccept step at \u001b[0m\u001b[33mi\u001b[0m\u001b[32m=\u001b[0m\u001b[1;36m1\u001b[0m\n"
      ]
     },
     "metadata": {},
     "output_type": "display_data"
    },
    {
     "data": {
      "text/html": [
       "<pre style=\"white-space:pre;overflow-x:auto;line-height:normal;font-family:Menlo,'DejaVu Sans Mono',consolas,'Courier New',monospace\">┏━━━━━━━━━━━━━━━━━━━━━━━━━━━━━━━┳━━━━━━━━━━━━━━━━━━━━━━━━━┓\n",
       "┃<span style=\"font-weight: bold\"> Metrics                       </span>┃<span style=\"font-weight: bold\"> Value                   </span>┃\n",
       "┡━━━━━━━━━━━━━━━━━━━━━━━━━━━━━━━╇━━━━━━━━━━━━━━━━━━━━━━━━━┩\n",
       "│ Metrics/EpRet                 │ 16.673974990844727      │\n",
       "│ Metrics/EpCost                │ 86.78016662597656       │\n",
       "│ Metrics/EpLen                 │ 6.0                     │\n",
       "│ Train/Epoch                   │ 20.0                    │\n",
       "│ Train/Entropy                 │ 0.9962586760520935      │\n",
       "│ Train/KL                      │ 0.00025108546833507717  │\n",
       "│ Train/StopIter                │ 10.0                    │\n",
       "│ Train/PolicyRatio/Mean        │ 1.0001273155212402      │\n",
       "│ Train/PolicyRatio/Min         │ 1.0001273155212402      │\n",
       "│ Train/PolicyRatio/Max         │ 1.0001273155212402      │\n",
       "│ Train/PolicyRatio/Std         │ 9.002567094285041e-05   │\n",
       "│ Train/LR                      │ 0.0                     │\n",
       "│ Train/PolicyStd               │ 0.6559666991233826      │\n",
       "│ TotalEnvSteps                 │ 420000.0                │\n",
       "│ Loss/Loss_pi                  │ -1.6799730062484741     │\n",
       "│ Loss/Loss_pi/Delta            │ 0.6758249998092651      │\n",
       "│ Value/Adv                     │ -1.2683868177987279e-08 │\n",
       "│ Loss/Loss_reward_critic       │ 401.04461669921875      │\n",
       "│ Loss/Loss_reward_critic/Delta │ -356.53277587890625     │\n",
       "│ Value/reward                  │ 11.379268646240234      │\n",
       "│ Loss/Loss_cost_critic         │ 1918.830078125          │\n",
       "│ Loss/Loss_cost_critic/Delta   │ -1295.19580078125       │\n",
       "│ Value/cost                    │ 88.96174621582031       │\n",
       "│ Time/Total                    │ 1259.0504150390625      │\n",
       "│ Time/Rollout                  │ 26.89881706237793       │\n",
       "│ Time/Update                   │ 21.755752563476562      │\n",
       "│ Time/Epoch                    │ 48.654571533203125      │\n",
       "│ Time/FPS                      │ 411.0610656738281       │\n",
       "│ Env/Success_counts            │ nan                     │\n",
       "│ Misc/Alpha                    │ 0.17851956188678741     │\n",
       "│ Misc/FinalStepNorm            │ 0.20745348930358887     │\n",
       "│ Misc/gradient_norm            │ 3.012460470199585       │\n",
       "│ Misc/xHx                      │ 0.627564549446106       │\n",
       "│ Misc/H_inv_g                  │ 1.174250602722168       │\n",
       "│ Misc/AcceptanceStep           │ 1.0                     │\n",
       "│ Misc/cost_gradient_norm       │ 456.0361022949219       │\n",
       "│ Misc/A                        │ 0.5406008362770081      │\n",
       "│ Misc/B                        │ -1.0455416440963745     │\n",
       "│ Misc/q                        │ 0.627564549446106       │\n",
       "│ Misc/r                        │ 17.649520874023438      │\n",
       "│ Misc/s                        │ 3582.017578125          │\n",
       "│ Misc/Lambda_star              │ 0.0                     │\n",
       "│ Misc/Nu_star                  │ 0.002362931612879038    │\n",
       "│ Misc/OptimCase                │ 0.0                     │\n",
       "└───────────────────────────────┴─────────────────────────┘\n",
       "</pre>\n"
      ],
      "text/plain": [
       "┏━━━━━━━━━━━━━━━━━━━━━━━━━━━━━━━┳━━━━━━━━━━━━━━━━━━━━━━━━━┓\n",
       "┃\u001b[1m \u001b[0m\u001b[1mMetrics                      \u001b[0m\u001b[1m \u001b[0m┃\u001b[1m \u001b[0m\u001b[1mValue                  \u001b[0m\u001b[1m \u001b[0m┃\n",
       "┡━━━━━━━━━━━━━━━━━━━━━━━━━━━━━━━╇━━━━━━━━━━━━━━━━━━━━━━━━━┩\n",
       "│ Metrics/EpRet                 │ 16.673974990844727      │\n",
       "│ Metrics/EpCost                │ 86.78016662597656       │\n",
       "│ Metrics/EpLen                 │ 6.0                     │\n",
       "│ Train/Epoch                   │ 20.0                    │\n",
       "│ Train/Entropy                 │ 0.9962586760520935      │\n",
       "│ Train/KL                      │ 0.00025108546833507717  │\n",
       "│ Train/StopIter                │ 10.0                    │\n",
       "│ Train/PolicyRatio/Mean        │ 1.0001273155212402      │\n",
       "│ Train/PolicyRatio/Min         │ 1.0001273155212402      │\n",
       "│ Train/PolicyRatio/Max         │ 1.0001273155212402      │\n",
       "│ Train/PolicyRatio/Std         │ 9.002567094285041e-05   │\n",
       "│ Train/LR                      │ 0.0                     │\n",
       "│ Train/PolicyStd               │ 0.6559666991233826      │\n",
       "│ TotalEnvSteps                 │ 420000.0                │\n",
       "│ Loss/Loss_pi                  │ -1.6799730062484741     │\n",
       "│ Loss/Loss_pi/Delta            │ 0.6758249998092651      │\n",
       "│ Value/Adv                     │ -1.2683868177987279e-08 │\n",
       "│ Loss/Loss_reward_critic       │ 401.04461669921875      │\n",
       "│ Loss/Loss_reward_critic/Delta │ -356.53277587890625     │\n",
       "│ Value/reward                  │ 11.379268646240234      │\n",
       "│ Loss/Loss_cost_critic         │ 1918.830078125          │\n",
       "│ Loss/Loss_cost_critic/Delta   │ -1295.19580078125       │\n",
       "│ Value/cost                    │ 88.96174621582031       │\n",
       "│ Time/Total                    │ 1259.0504150390625      │\n",
       "│ Time/Rollout                  │ 26.89881706237793       │\n",
       "│ Time/Update                   │ 21.755752563476562      │\n",
       "│ Time/Epoch                    │ 48.654571533203125      │\n",
       "│ Time/FPS                      │ 411.0610656738281       │\n",
       "│ Env/Success_counts            │ nan                     │\n",
       "│ Misc/Alpha                    │ 0.17851956188678741     │\n",
       "│ Misc/FinalStepNorm            │ 0.20745348930358887     │\n",
       "│ Misc/gradient_norm            │ 3.012460470199585       │\n",
       "│ Misc/xHx                      │ 0.627564549446106       │\n",
       "│ Misc/H_inv_g                  │ 1.174250602722168       │\n",
       "│ Misc/AcceptanceStep           │ 1.0                     │\n",
       "│ Misc/cost_gradient_norm       │ 456.0361022949219       │\n",
       "│ Misc/A                        │ 0.5406008362770081      │\n",
       "│ Misc/B                        │ -1.0455416440963745     │\n",
       "│ Misc/q                        │ 0.627564549446106       │\n",
       "│ Misc/r                        │ 17.649520874023438      │\n",
       "│ Misc/s                        │ 3582.017578125          │\n",
       "│ Misc/Lambda_star              │ 0.0                     │\n",
       "│ Misc/Nu_star                  │ 0.002362931612879038    │\n",
       "│ Misc/OptimCase                │ 0.0                     │\n",
       "└───────────────────────────────┴─────────────────────────┘\n"
      ]
     },
     "metadata": {},
     "output_type": "display_data"
    },
    {
     "data": {
      "text/html": [
       "<pre style=\"white-space:pre;overflow-x:auto;line-height:normal;font-family:Menlo,'DejaVu Sans Mono',consolas,'Courier New',monospace\"><span style=\"color: #008000; text-decoration-color: #008000\">Warning: trajectory cut off when rollout by epoch at </span><span style=\"color: #008080; text-decoration-color: #008080; font-weight: bold\">2.0</span><span style=\"color: #008000; text-decoration-color: #008000\"> steps.</span>\n",
       "</pre>\n"
      ],
      "text/plain": [
       "\u001b[32mWarning: trajectory cut off when rollout by epoch at \u001b[0m\u001b[1;36m2.0\u001b[0m\u001b[32m steps.\u001b[0m\n"
      ]
     },
     "metadata": {},
     "output_type": "display_data"
    },
    {
     "data": {
      "text/html": [
       "<pre style=\"white-space:pre;overflow-x:auto;line-height:normal;font-family:Menlo,'DejaVu Sans Mono',consolas,'Courier New',monospace\"></pre>\n"
      ],
      "text/plain": []
     },
     "metadata": {},
     "output_type": "display_data"
    },
    {
     "data": {
      "text/html": [
       "<pre style=\"white-space:pre;overflow-x:auto;line-height:normal;font-family:Menlo,'DejaVu Sans Mono',consolas,'Courier New',monospace\"><span style=\"color: #800000; text-decoration-color: #800000\">Alert! Attempting infeasible recovery!</span>\n",
       "</pre>\n"
      ],
      "text/plain": [
       "\u001b[31mAlert! Attempting infeasible recovery!\u001b[0m\n"
      ]
     },
     "metadata": {},
     "output_type": "display_data"
    },
    {
     "data": {
      "text/html": [
       "<pre style=\"white-space:pre;overflow-x:auto;line-height:normal;font-family:Menlo,'DejaVu Sans Mono',consolas,'Courier New',monospace\"><span style=\"color: #008000; text-decoration-color: #008000\">Expected Improvement: </span><span style=\"color: #008080; text-decoration-color: #008080; font-weight: bold\">-0.042802248150110245</span><span style=\"color: #008000; text-decoration-color: #008000\"> Actual: </span><span style=\"color: #008080; text-decoration-color: #008080; font-weight: bold\">-0.03851303458213806</span>\n",
       "</pre>\n"
      ],
      "text/plain": [
       "\u001b[32mExpected Improvement: \u001b[0m\u001b[1;36m-0.042802248150110245\u001b[0m\u001b[32m Actual: \u001b[0m\u001b[1;36m-0.03851303458213806\u001b[0m\n"
      ]
     },
     "metadata": {},
     "output_type": "display_data"
    },
    {
     "data": {
      "text/html": [
       "<pre style=\"white-space:pre;overflow-x:auto;line-height:normal;font-family:Menlo,'DejaVu Sans Mono',consolas,'Courier New',monospace\"><span style=\"color: #008000; text-decoration-color: #008000\">Accept step at </span><span style=\"color: #808000; text-decoration-color: #808000\">i</span><span style=\"color: #008000; text-decoration-color: #008000\">=</span><span style=\"color: #008080; text-decoration-color: #008080; font-weight: bold\">1</span>\n",
       "</pre>\n"
      ],
      "text/plain": [
       "\u001b[32mAccept step at \u001b[0m\u001b[33mi\u001b[0m\u001b[32m=\u001b[0m\u001b[1;36m1\u001b[0m\n"
      ]
     },
     "metadata": {},
     "output_type": "display_data"
    },
    {
     "data": {
      "text/html": [
       "<pre style=\"white-space:pre;overflow-x:auto;line-height:normal;font-family:Menlo,'DejaVu Sans Mono',consolas,'Courier New',monospace\">┏━━━━━━━━━━━━━━━━━━━━━━━━━━━━━━━┳━━━━━━━━━━━━━━━━━━━━━━━━┓\n",
       "┃<span style=\"font-weight: bold\"> Metrics                       </span>┃<span style=\"font-weight: bold\"> Value                  </span>┃\n",
       "┡━━━━━━━━━━━━━━━━━━━━━━━━━━━━━━━╇━━━━━━━━━━━━━━━━━━━━━━━━┩\n",
       "│ Metrics/EpRet                 │ 13.13804817199707      │\n",
       "│ Metrics/EpCost                │ 61.75584411621094      │\n",
       "│ Metrics/EpLen                 │ 6.0                    │\n",
       "│ Train/Epoch                   │ 21.0                   │\n",
       "│ Train/Entropy                 │ 0.9541366100311279     │\n",
       "│ Train/KL                      │ 0.00024288227723445743 │\n",
       "│ Train/StopIter                │ 10.0                   │\n",
       "│ Train/PolicyRatio/Mean        │ 0.9993273615837097     │\n",
       "│ Train/PolicyRatio/Min         │ 0.9993273615837097     │\n",
       "│ Train/PolicyRatio/Max         │ 0.9993273615837097     │\n",
       "│ Train/PolicyRatio/Std         │ 0.0004756412236019969  │\n",
       "│ Train/LR                      │ 0.0                    │\n",
       "│ Train/PolicyStd               │ 0.6291443705558777     │\n",
       "│ TotalEnvSteps                 │ 440000.0               │\n",
       "│ Loss/Loss_pi                  │ -1.0168488025665283    │\n",
       "│ Loss/Loss_pi/Delta            │ 0.6631242036819458     │\n",
       "│ Value/Adv                     │ 1.0108947456899386e-08 │\n",
       "│ Loss/Loss_reward_critic       │ 103.7684555053711      │\n",
       "│ Loss/Loss_reward_critic/Delta │ -297.27616119384766    │\n",
       "│ Value/reward                  │ 8.107720375061035      │\n",
       "│ Loss/Loss_cost_critic         │ 1007.1824951171875     │\n",
       "│ Loss/Loss_cost_critic/Delta   │ -911.6475830078125     │\n",
       "│ Value/cost                    │ 59.78770446777344      │\n",
       "│ Time/Total                    │ 1302.59912109375       │\n",
       "│ Time/Rollout                  │ 22.325645446777344     │\n",
       "│ Time/Update                   │ 21.18545150756836      │\n",
       "│ Time/Epoch                    │ 43.5110969543457       │\n",
       "│ Time/FPS                      │ 459.6528625488281      │\n",
       "│ Env/Success_counts            │ nan                    │\n",
       "│ Misc/Alpha                    │ 0.17941424250602722    │\n",
       "│ Misc/FinalStepNorm            │ 0.22703060507774353    │\n",
       "│ Misc/gradient_norm            │ 4.4422760009765625     │\n",
       "│ Misc/xHx                      │ 0.6213211417198181     │\n",
       "│ Misc/H_inv_g                  │ 1.075151801109314      │\n",
       "│ Misc/AcceptanceStep           │ 1.0                    │\n",
       "│ Misc/cost_gradient_norm       │ 283.6417236328125      │\n",
       "│ Misc/A                        │ 0.5297195315361023     │\n",
       "│ Misc/B                        │ -0.9462347030639648    │\n",
       "│ Misc/q                        │ 0.6213211417198181     │\n",
       "│ Misc/r                        │ 11.317140579223633     │\n",
       "│ Misc/s                        │ 1398.202880859375      │\n",
       "│ Misc/Lambda_star              │ 0.0                    │\n",
       "│ Misc/Nu_star                  │ 0.00378207303583622    │\n",
       "│ Misc/OptimCase                │ 0.0                    │\n",
       "└───────────────────────────────┴────────────────────────┘\n",
       "</pre>\n"
      ],
      "text/plain": [
       "┏━━━━━━━━━━━━━━━━━━━━━━━━━━━━━━━┳━━━━━━━━━━━━━━━━━━━━━━━━┓\n",
       "┃\u001b[1m \u001b[0m\u001b[1mMetrics                      \u001b[0m\u001b[1m \u001b[0m┃\u001b[1m \u001b[0m\u001b[1mValue                 \u001b[0m\u001b[1m \u001b[0m┃\n",
       "┡━━━━━━━━━━━━━━━━━━━━━━━━━━━━━━━╇━━━━━━━━━━━━━━━━━━━━━━━━┩\n",
       "│ Metrics/EpRet                 │ 13.13804817199707      │\n",
       "│ Metrics/EpCost                │ 61.75584411621094      │\n",
       "│ Metrics/EpLen                 │ 6.0                    │\n",
       "│ Train/Epoch                   │ 21.0                   │\n",
       "│ Train/Entropy                 │ 0.9541366100311279     │\n",
       "│ Train/KL                      │ 0.00024288227723445743 │\n",
       "│ Train/StopIter                │ 10.0                   │\n",
       "│ Train/PolicyRatio/Mean        │ 0.9993273615837097     │\n",
       "│ Train/PolicyRatio/Min         │ 0.9993273615837097     │\n",
       "│ Train/PolicyRatio/Max         │ 0.9993273615837097     │\n",
       "│ Train/PolicyRatio/Std         │ 0.0004756412236019969  │\n",
       "│ Train/LR                      │ 0.0                    │\n",
       "│ Train/PolicyStd               │ 0.6291443705558777     │\n",
       "│ TotalEnvSteps                 │ 440000.0               │\n",
       "│ Loss/Loss_pi                  │ -1.0168488025665283    │\n",
       "│ Loss/Loss_pi/Delta            │ 0.6631242036819458     │\n",
       "│ Value/Adv                     │ 1.0108947456899386e-08 │\n",
       "│ Loss/Loss_reward_critic       │ 103.7684555053711      │\n",
       "│ Loss/Loss_reward_critic/Delta │ -297.27616119384766    │\n",
       "│ Value/reward                  │ 8.107720375061035      │\n",
       "│ Loss/Loss_cost_critic         │ 1007.1824951171875     │\n",
       "│ Loss/Loss_cost_critic/Delta   │ -911.6475830078125     │\n",
       "│ Value/cost                    │ 59.78770446777344      │\n",
       "│ Time/Total                    │ 1302.59912109375       │\n",
       "│ Time/Rollout                  │ 22.325645446777344     │\n",
       "│ Time/Update                   │ 21.18545150756836      │\n",
       "│ Time/Epoch                    │ 43.5110969543457       │\n",
       "│ Time/FPS                      │ 459.6528625488281      │\n",
       "│ Env/Success_counts            │ nan                    │\n",
       "│ Misc/Alpha                    │ 0.17941424250602722    │\n",
       "│ Misc/FinalStepNorm            │ 0.22703060507774353    │\n",
       "│ Misc/gradient_norm            │ 4.4422760009765625     │\n",
       "│ Misc/xHx                      │ 0.6213211417198181     │\n",
       "│ Misc/H_inv_g                  │ 1.075151801109314      │\n",
       "│ Misc/AcceptanceStep           │ 1.0                    │\n",
       "│ Misc/cost_gradient_norm       │ 283.6417236328125      │\n",
       "│ Misc/A                        │ 0.5297195315361023     │\n",
       "│ Misc/B                        │ -0.9462347030639648    │\n",
       "│ Misc/q                        │ 0.6213211417198181     │\n",
       "│ Misc/r                        │ 11.317140579223633     │\n",
       "│ Misc/s                        │ 1398.202880859375      │\n",
       "│ Misc/Lambda_star              │ 0.0                    │\n",
       "│ Misc/Nu_star                  │ 0.00378207303583622    │\n",
       "│ Misc/OptimCase                │ 0.0                    │\n",
       "└───────────────────────────────┴────────────────────────┘\n"
      ]
     },
     "metadata": {},
     "output_type": "display_data"
    },
    {
     "data": {
      "text/html": [
       "<pre style=\"white-space:pre;overflow-x:auto;line-height:normal;font-family:Menlo,'DejaVu Sans Mono',consolas,'Courier New',monospace\"><span style=\"color: #008000; text-decoration-color: #008000\">Warning: trajectory cut off when rollout by epoch at </span><span style=\"color: #008080; text-decoration-color: #008080; font-weight: bold\">2.0</span><span style=\"color: #008000; text-decoration-color: #008000\"> steps.</span>\n",
       "</pre>\n"
      ],
      "text/plain": [
       "\u001b[32mWarning: trajectory cut off when rollout by epoch at \u001b[0m\u001b[1;36m2.0\u001b[0m\u001b[32m steps.\u001b[0m\n"
      ]
     },
     "metadata": {},
     "output_type": "display_data"
    },
    {
     "data": {
      "text/html": [
       "<pre style=\"white-space:pre;overflow-x:auto;line-height:normal;font-family:Menlo,'DejaVu Sans Mono',consolas,'Courier New',monospace\"></pre>\n"
      ],
      "text/plain": []
     },
     "metadata": {},
     "output_type": "display_data"
    },
    {
     "data": {
      "text/html": [
       "<pre style=\"white-space:pre;overflow-x:auto;line-height:normal;font-family:Menlo,'DejaVu Sans Mono',consolas,'Courier New',monospace\"><span style=\"color: #800000; text-decoration-color: #800000\">Alert! Attempting infeasible recovery!</span>\n",
       "</pre>\n"
      ],
      "text/plain": [
       "\u001b[31mAlert! Attempting infeasible recovery!\u001b[0m\n"
      ]
     },
     "metadata": {},
     "output_type": "display_data"
    },
    {
     "data": {
      "text/html": [
       "<pre style=\"white-space:pre;overflow-x:auto;line-height:normal;font-family:Menlo,'DejaVu Sans Mono',consolas,'Courier New',monospace\"><span style=\"color: #008000; text-decoration-color: #008000\">Expected Improvement: </span><span style=\"color: #008080; text-decoration-color: #008080; font-weight: bold\">-0.04586675018072128</span><span style=\"color: #008000; text-decoration-color: #008000\"> Actual: </span><span style=\"color: #008080; text-decoration-color: #008080; font-weight: bold\">-0.04247206822037697</span>\n",
       "</pre>\n"
      ],
      "text/plain": [
       "\u001b[32mExpected Improvement: \u001b[0m\u001b[1;36m-0.04586675018072128\u001b[0m\u001b[32m Actual: \u001b[0m\u001b[1;36m-0.04247206822037697\u001b[0m\n"
      ]
     },
     "metadata": {},
     "output_type": "display_data"
    },
    {
     "data": {
      "text/html": [
       "<pre style=\"white-space:pre;overflow-x:auto;line-height:normal;font-family:Menlo,'DejaVu Sans Mono',consolas,'Courier New',monospace\"><span style=\"color: #008000; text-decoration-color: #008000\">Accept step at </span><span style=\"color: #808000; text-decoration-color: #808000\">i</span><span style=\"color: #008000; text-decoration-color: #008000\">=</span><span style=\"color: #008080; text-decoration-color: #008080; font-weight: bold\">1</span>\n",
       "</pre>\n"
      ],
      "text/plain": [
       "\u001b[32mAccept step at \u001b[0m\u001b[33mi\u001b[0m\u001b[32m=\u001b[0m\u001b[1;36m1\u001b[0m\n"
      ]
     },
     "metadata": {},
     "output_type": "display_data"
    },
    {
     "data": {
      "text/html": [
       "<pre style=\"white-space:pre;overflow-x:auto;line-height:normal;font-family:Menlo,'DejaVu Sans Mono',consolas,'Courier New',monospace\">┏━━━━━━━━━━━━━━━━━━━━━━━━━━━━━━━┳━━━━━━━━━━━━━━━━━━━━━━━━┓\n",
       "┃<span style=\"font-weight: bold\"> Metrics                       </span>┃<span style=\"font-weight: bold\"> Value                  </span>┃\n",
       "┡━━━━━━━━━━━━━━━━━━━━━━━━━━━━━━━╇━━━━━━━━━━━━━━━━━━━━━━━━┩\n",
       "│ Metrics/EpRet                 │ 7.594301700592041      │\n",
       "│ Metrics/EpCost                │ 41.7640495300293       │\n",
       "│ Metrics/EpLen                 │ 6.0                    │\n",
       "│ Train/Epoch                   │ 22.0                   │\n",
       "│ Train/Entropy                 │ 0.9118862152099609     │\n",
       "│ Train/KL                      │ 0.00024322749231941998 │\n",
       "│ Train/StopIter                │ 10.0                   │\n",
       "│ Train/PolicyRatio/Mean        │ 0.998101532459259      │\n",
       "│ Train/PolicyRatio/Min         │ 0.998101532459259      │\n",
       "│ Train/PolicyRatio/Max         │ 0.998101532459259      │\n",
       "│ Train/PolicyRatio/Std         │ 0.0013424052158370614  │\n",
       "│ Train/LR                      │ 0.0                    │\n",
       "│ Train/PolicyStd               │ 0.6034299731254578     │\n",
       "│ TotalEnvSteps                 │ 460000.0               │\n",
       "│ Loss/Loss_pi                  │ -0.7676059603691101    │\n",
       "│ Loss/Loss_pi/Delta            │ 0.2492428421974182     │\n",
       "│ Value/Adv                     │ 1.1825561863076928e-08 │\n",
       "│ Loss/Loss_reward_critic       │ 81.76365661621094      │\n",
       "│ Loss/Loss_reward_critic/Delta │ -22.004798889160156    │\n",
       "│ Value/reward                  │ 5.446300029754639      │\n",
       "│ Loss/Loss_cost_critic         │ 620.6764526367188      │\n",
       "│ Loss/Loss_cost_critic/Delta   │ -386.50604248046875    │\n",
       "│ Value/cost                    │ 32.001216888427734     │\n",
       "│ Time/Total                    │ 1356.4813232421875     │\n",
       "│ Time/Rollout                  │ 26.611024856567383     │\n",
       "│ Time/Update                   │ 27.232681274414062     │\n",
       "│ Time/Epoch                    │ 53.84370803833008      │\n",
       "│ Time/FPS                      │ 371.4454345703125      │\n",
       "│ Env/Success_counts            │ nan                    │\n",
       "│ Misc/Alpha                    │ 0.17499208450317383    │\n",
       "│ Misc/FinalStepNorm            │ 0.22581610083580017    │\n",
       "│ Misc/gradient_norm            │ 4.202939033508301      │\n",
       "│ Misc/xHx                      │ 0.6531203389167786     │\n",
       "│ Misc/H_inv_g                  │ 1.0361931324005127     │\n",
       "│ Misc/AcceptanceStep           │ 1.0                    │\n",
       "│ Misc/cost_gradient_norm       │ 226.70553588867188     │\n",
       "│ Misc/A                        │ 0.5479323863983154     │\n",
       "│ Misc/B                        │ -0.3035416603088379    │\n",
       "│ Misc/q                        │ 0.6531203389167786     │\n",
       "│ Misc/r                        │ 9.558655738830566      │\n",
       "│ Misc/s                        │ 868.6156005859375      │\n",
       "│ Misc/Lambda_star              │ 0.0                    │\n",
       "│ Misc/Nu_star                  │ 0.004798451904207468   │\n",
       "│ Misc/OptimCase                │ 0.0                    │\n",
       "└───────────────────────────────┴────────────────────────┘\n",
       "</pre>\n"
      ],
      "text/plain": [
       "┏━━━━━━━━━━━━━━━━━━━━━━━━━━━━━━━┳━━━━━━━━━━━━━━━━━━━━━━━━┓\n",
       "┃\u001b[1m \u001b[0m\u001b[1mMetrics                      \u001b[0m\u001b[1m \u001b[0m┃\u001b[1m \u001b[0m\u001b[1mValue                 \u001b[0m\u001b[1m \u001b[0m┃\n",
       "┡━━━━━━━━━━━━━━━━━━━━━━━━━━━━━━━╇━━━━━━━━━━━━━━━━━━━━━━━━┩\n",
       "│ Metrics/EpRet                 │ 7.594301700592041      │\n",
       "│ Metrics/EpCost                │ 41.7640495300293       │\n",
       "│ Metrics/EpLen                 │ 6.0                    │\n",
       "│ Train/Epoch                   │ 22.0                   │\n",
       "│ Train/Entropy                 │ 0.9118862152099609     │\n",
       "│ Train/KL                      │ 0.00024322749231941998 │\n",
       "│ Train/StopIter                │ 10.0                   │\n",
       "│ Train/PolicyRatio/Mean        │ 0.998101532459259      │\n",
       "│ Train/PolicyRatio/Min         │ 0.998101532459259      │\n",
       "│ Train/PolicyRatio/Max         │ 0.998101532459259      │\n",
       "│ Train/PolicyRatio/Std         │ 0.0013424052158370614  │\n",
       "│ Train/LR                      │ 0.0                    │\n",
       "│ Train/PolicyStd               │ 0.6034299731254578     │\n",
       "│ TotalEnvSteps                 │ 460000.0               │\n",
       "│ Loss/Loss_pi                  │ -0.7676059603691101    │\n",
       "│ Loss/Loss_pi/Delta            │ 0.2492428421974182     │\n",
       "│ Value/Adv                     │ 1.1825561863076928e-08 │\n",
       "│ Loss/Loss_reward_critic       │ 81.76365661621094      │\n",
       "│ Loss/Loss_reward_critic/Delta │ -22.004798889160156    │\n",
       "│ Value/reward                  │ 5.446300029754639      │\n",
       "│ Loss/Loss_cost_critic         │ 620.6764526367188      │\n",
       "│ Loss/Loss_cost_critic/Delta   │ -386.50604248046875    │\n",
       "│ Value/cost                    │ 32.001216888427734     │\n",
       "│ Time/Total                    │ 1356.4813232421875     │\n",
       "│ Time/Rollout                  │ 26.611024856567383     │\n",
       "│ Time/Update                   │ 27.232681274414062     │\n",
       "│ Time/Epoch                    │ 53.84370803833008      │\n",
       "│ Time/FPS                      │ 371.4454345703125      │\n",
       "│ Env/Success_counts            │ nan                    │\n",
       "│ Misc/Alpha                    │ 0.17499208450317383    │\n",
       "│ Misc/FinalStepNorm            │ 0.22581610083580017    │\n",
       "│ Misc/gradient_norm            │ 4.202939033508301      │\n",
       "│ Misc/xHx                      │ 0.6531203389167786     │\n",
       "│ Misc/H_inv_g                  │ 1.0361931324005127     │\n",
       "│ Misc/AcceptanceStep           │ 1.0                    │\n",
       "│ Misc/cost_gradient_norm       │ 226.70553588867188     │\n",
       "│ Misc/A                        │ 0.5479323863983154     │\n",
       "│ Misc/B                        │ -0.3035416603088379    │\n",
       "│ Misc/q                        │ 0.6531203389167786     │\n",
       "│ Misc/r                        │ 9.558655738830566      │\n",
       "│ Misc/s                        │ 868.6156005859375      │\n",
       "│ Misc/Lambda_star              │ 0.0                    │\n",
       "│ Misc/Nu_star                  │ 0.004798451904207468   │\n",
       "│ Misc/OptimCase                │ 0.0                    │\n",
       "└───────────────────────────────┴────────────────────────┘\n"
      ]
     },
     "metadata": {},
     "output_type": "display_data"
    },
    {
     "data": {
      "text/html": [
       "<pre style=\"white-space:pre;overflow-x:auto;line-height:normal;font-family:Menlo,'DejaVu Sans Mono',consolas,'Courier New',monospace\"><span style=\"color: #008000; text-decoration-color: #008000\">Warning: trajectory cut off when rollout by epoch at </span><span style=\"color: #008080; text-decoration-color: #008080; font-weight: bold\">2.0</span><span style=\"color: #008000; text-decoration-color: #008000\"> steps.</span>\n",
       "</pre>\n"
      ],
      "text/plain": [
       "\u001b[32mWarning: trajectory cut off when rollout by epoch at \u001b[0m\u001b[1;36m2.0\u001b[0m\u001b[32m steps.\u001b[0m\n"
      ]
     },
     "metadata": {},
     "output_type": "display_data"
    },
    {
     "data": {
      "text/html": [
       "<pre style=\"white-space:pre;overflow-x:auto;line-height:normal;font-family:Menlo,'DejaVu Sans Mono',consolas,'Courier New',monospace\"></pre>\n"
      ],
      "text/plain": []
     },
     "metadata": {},
     "output_type": "display_data"
    },
    {
     "data": {
      "text/html": [
       "<pre style=\"white-space:pre;overflow-x:auto;line-height:normal;font-family:Menlo,'DejaVu Sans Mono',consolas,'Courier New',monospace\"><span style=\"color: #008000; text-decoration-color: #008000\">Expected Improvement: </span><span style=\"color: #008080; text-decoration-color: #008080; font-weight: bold\">0.17663122713565826</span><span style=\"color: #008000; text-decoration-color: #008000\"> Actual: </span><span style=\"color: #008080; text-decoration-color: #008080; font-weight: bold\">0.19129428267478943</span>\n",
       "</pre>\n"
      ],
      "text/plain": [
       "\u001b[32mExpected Improvement: \u001b[0m\u001b[1;36m0.17663122713565826\u001b[0m\u001b[32m Actual: \u001b[0m\u001b[1;36m0.19129428267478943\u001b[0m\n"
      ]
     },
     "metadata": {},
     "output_type": "display_data"
    },
    {
     "data": {
      "text/html": [
       "<pre style=\"white-space:pre;overflow-x:auto;line-height:normal;font-family:Menlo,'DejaVu Sans Mono',consolas,'Courier New',monospace\"><span style=\"color: #008000; text-decoration-color: #008000\">Accept step at </span><span style=\"color: #808000; text-decoration-color: #808000\">i</span><span style=\"color: #008000; text-decoration-color: #008000\">=</span><span style=\"color: #008080; text-decoration-color: #008080; font-weight: bold\">1</span>\n",
       "</pre>\n"
      ],
      "text/plain": [
       "\u001b[32mAccept step at \u001b[0m\u001b[33mi\u001b[0m\u001b[32m=\u001b[0m\u001b[1;36m1\u001b[0m\n"
      ]
     },
     "metadata": {},
     "output_type": "display_data"
    },
    {
     "data": {
      "text/html": [
       "<pre style=\"white-space:pre;overflow-x:auto;line-height:normal;font-family:Menlo,'DejaVu Sans Mono',consolas,'Courier New',monospace\">┏━━━━━━━━━━━━━━━━━━━━━━━━━━━━━━━┳━━━━━━━━━━━━━━━━━━━━━━━━┓\n",
       "┃<span style=\"font-weight: bold\"> Metrics                       </span>┃<span style=\"font-weight: bold\"> Value                  </span>┃\n",
       "┡━━━━━━━━━━━━━━━━━━━━━━━━━━━━━━━╇━━━━━━━━━━━━━━━━━━━━━━━━┩\n",
       "│ Metrics/EpRet                 │ 5.674448013305664      │\n",
       "│ Metrics/EpCost                │ 21.887495040893555     │\n",
       "│ Metrics/EpLen                 │ 6.0                    │\n",
       "│ Train/Epoch                   │ 23.0                   │\n",
       "│ Train/Entropy                 │ 0.9049736857414246     │\n",
       "│ Train/KL                      │ 0.0002793427847791463  │\n",
       "│ Train/StopIter                │ 10.0                   │\n",
       "│ Train/PolicyRatio/Mean        │ 1.0053492784500122     │\n",
       "│ Train/PolicyRatio/Min         │ 1.0053492784500122     │\n",
       "│ Train/PolicyRatio/Max         │ 1.0053492784500122     │\n",
       "│ Train/PolicyRatio/Std         │ 0.003782539162784815   │\n",
       "│ Train/LR                      │ 0.0                    │\n",
       "│ Train/PolicyStd               │ 0.5993900895118713     │\n",
       "│ TotalEnvSteps                 │ 480000.0               │\n",
       "│ Loss/Loss_pi                  │ 0.32099422812461853    │\n",
       "│ Loss/Loss_pi/Delta            │ 1.0886001884937286     │\n",
       "│ Value/Adv                     │ 1.6403198799253005e-08 │\n",
       "│ Loss/Loss_reward_critic       │ 15.106070518493652     │\n",
       "│ Loss/Loss_reward_critic/Delta │ -66.65758609771729     │\n",
       "│ Value/reward                  │ 4.239403247833252      │\n",
       "│ Loss/Loss_cost_critic         │ 321.6564025878906      │\n",
       "│ Loss/Loss_cost_critic/Delta   │ -299.0200500488281     │\n",
       "│ Value/cost                    │ 21.565317153930664     │\n",
       "│ Time/Total                    │ 1403.362548828125      │\n",
       "│ Time/Rollout                  │ 24.72916030883789      │\n",
       "│ Time/Update                   │ 22.104415893554688     │\n",
       "│ Time/Epoch                    │ 46.83357620239258      │\n",
       "│ Time/FPS                      │ 427.0440673828125      │\n",
       "│ Env/Success_counts            │ nan                    │\n",
       "│ Misc/Alpha                    │ 0.11200351268053055    │\n",
       "│ Misc/FinalStepNorm            │ 0.11758909374475479    │\n",
       "│ Misc/gradient_norm            │ 8.60187816619873       │\n",
       "│ Misc/xHx                      │ 1.5942877531051636     │\n",
       "│ Misc/H_inv_g                  │ 1.0498692989349365     │\n",
       "│ Misc/AcceptanceStep           │ 1.0                    │\n",
       "│ Misc/cost_gradient_norm       │ 136.5533447265625      │\n",
       "│ Misc/A                        │ 1.3867616653442383     │\n",
       "│ Misc/B                        │ -0.0061773862689733505 │\n",
       "│ Misc/q                        │ 1.5942877531051636     │\n",
       "│ Misc/r                        │ 8.7636137008667        │\n",
       "│ Misc/s                        │ 370.0784912109375      │\n",
       "│ Misc/Lambda_star              │ 8.928290367126465      │\n",
       "│ Misc/Nu_star                  │ 0.0                    │\n",
       "│ Misc/OptimCase                │ 3.0                    │\n",
       "└───────────────────────────────┴────────────────────────┘\n",
       "</pre>\n"
      ],
      "text/plain": [
       "┏━━━━━━━━━━━━━━━━━━━━━━━━━━━━━━━┳━━━━━━━━━━━━━━━━━━━━━━━━┓\n",
       "┃\u001b[1m \u001b[0m\u001b[1mMetrics                      \u001b[0m\u001b[1m \u001b[0m┃\u001b[1m \u001b[0m\u001b[1mValue                 \u001b[0m\u001b[1m \u001b[0m┃\n",
       "┡━━━━━━━━━━━━━━━━━━━━━━━━━━━━━━━╇━━━━━━━━━━━━━━━━━━━━━━━━┩\n",
       "│ Metrics/EpRet                 │ 5.674448013305664      │\n",
       "│ Metrics/EpCost                │ 21.887495040893555     │\n",
       "│ Metrics/EpLen                 │ 6.0                    │\n",
       "│ Train/Epoch                   │ 23.0                   │\n",
       "│ Train/Entropy                 │ 0.9049736857414246     │\n",
       "│ Train/KL                      │ 0.0002793427847791463  │\n",
       "│ Train/StopIter                │ 10.0                   │\n",
       "│ Train/PolicyRatio/Mean        │ 1.0053492784500122     │\n",
       "│ Train/PolicyRatio/Min         │ 1.0053492784500122     │\n",
       "│ Train/PolicyRatio/Max         │ 1.0053492784500122     │\n",
       "│ Train/PolicyRatio/Std         │ 0.003782539162784815   │\n",
       "│ Train/LR                      │ 0.0                    │\n",
       "│ Train/PolicyStd               │ 0.5993900895118713     │\n",
       "│ TotalEnvSteps                 │ 480000.0               │\n",
       "│ Loss/Loss_pi                  │ 0.32099422812461853    │\n",
       "│ Loss/Loss_pi/Delta            │ 1.0886001884937286     │\n",
       "│ Value/Adv                     │ 1.6403198799253005e-08 │\n",
       "│ Loss/Loss_reward_critic       │ 15.106070518493652     │\n",
       "│ Loss/Loss_reward_critic/Delta │ -66.65758609771729     │\n",
       "│ Value/reward                  │ 4.239403247833252      │\n",
       "│ Loss/Loss_cost_critic         │ 321.6564025878906      │\n",
       "│ Loss/Loss_cost_critic/Delta   │ -299.0200500488281     │\n",
       "│ Value/cost                    │ 21.565317153930664     │\n",
       "│ Time/Total                    │ 1403.362548828125      │\n",
       "│ Time/Rollout                  │ 24.72916030883789      │\n",
       "│ Time/Update                   │ 22.104415893554688     │\n",
       "│ Time/Epoch                    │ 46.83357620239258      │\n",
       "│ Time/FPS                      │ 427.0440673828125      │\n",
       "│ Env/Success_counts            │ nan                    │\n",
       "│ Misc/Alpha                    │ 0.11200351268053055    │\n",
       "│ Misc/FinalStepNorm            │ 0.11758909374475479    │\n",
       "│ Misc/gradient_norm            │ 8.60187816619873       │\n",
       "│ Misc/xHx                      │ 1.5942877531051636     │\n",
       "│ Misc/H_inv_g                  │ 1.0498692989349365     │\n",
       "│ Misc/AcceptanceStep           │ 1.0                    │\n",
       "│ Misc/cost_gradient_norm       │ 136.5533447265625      │\n",
       "│ Misc/A                        │ 1.3867616653442383     │\n",
       "│ Misc/B                        │ -0.0061773862689733505 │\n",
       "│ Misc/q                        │ 1.5942877531051636     │\n",
       "│ Misc/r                        │ 8.7636137008667        │\n",
       "│ Misc/s                        │ 370.0784912109375      │\n",
       "│ Misc/Lambda_star              │ 8.928290367126465      │\n",
       "│ Misc/Nu_star                  │ 0.0                    │\n",
       "│ Misc/OptimCase                │ 3.0                    │\n",
       "└───────────────────────────────┴────────────────────────┘\n"
      ]
     },
     "metadata": {},
     "output_type": "display_data"
    },
    {
     "data": {
      "text/html": [
       "<pre style=\"white-space:pre;overflow-x:auto;line-height:normal;font-family:Menlo,'DejaVu Sans Mono',consolas,'Courier New',monospace\"><span style=\"color: #008000; text-decoration-color: #008000\">Warning: trajectory cut off when rollout by epoch at </span><span style=\"color: #008080; text-decoration-color: #008080; font-weight: bold\">2.0</span><span style=\"color: #008000; text-decoration-color: #008000\"> steps.</span>\n",
       "</pre>\n"
      ],
      "text/plain": [
       "\u001b[32mWarning: trajectory cut off when rollout by epoch at \u001b[0m\u001b[1;36m2.0\u001b[0m\u001b[32m steps.\u001b[0m\n"
      ]
     },
     "metadata": {},
     "output_type": "display_data"
    },
    {
     "data": {
      "text/html": [
       "<pre style=\"white-space:pre;overflow-x:auto;line-height:normal;font-family:Menlo,'DejaVu Sans Mono',consolas,'Courier New',monospace\"></pre>\n"
      ],
      "text/plain": []
     },
     "metadata": {},
     "output_type": "display_data"
    },
    {
     "data": {
      "text/html": [
       "<pre style=\"white-space:pre;overflow-x:auto;line-height:normal;font-family:Menlo,'DejaVu Sans Mono',consolas,'Courier New',monospace\"><span style=\"color: #808000; text-decoration-color: #808000\">Alert! Attempting feasible recovery!</span>\n",
       "</pre>\n"
      ],
      "text/plain": [
       "\u001b[33mAlert! Attempting feasible recovery!\u001b[0m\n"
      ]
     },
     "metadata": {},
     "output_type": "display_data"
    },
    {
     "data": {
      "text/html": [
       "<pre style=\"white-space:pre;overflow-x:auto;line-height:normal;font-family:Menlo,'DejaVu Sans Mono',consolas,'Courier New',monospace\"><span style=\"color: #008000; text-decoration-color: #008000\">Expected Improvement: </span><span style=\"color: #008080; text-decoration-color: #008080; font-weight: bold\">0.06507571041584015</span><span style=\"color: #008000; text-decoration-color: #008000\"> Actual: </span><span style=\"color: #008080; text-decoration-color: #008080; font-weight: bold\">0.09053684026002884</span>\n",
       "</pre>\n"
      ],
      "text/plain": [
       "\u001b[32mExpected Improvement: \u001b[0m\u001b[1;36m0.06507571041584015\u001b[0m\u001b[32m Actual: \u001b[0m\u001b[1;36m0.09053684026002884\u001b[0m\n"
      ]
     },
     "metadata": {},
     "output_type": "display_data"
    },
    {
     "data": {
      "text/html": [
       "<pre style=\"white-space:pre;overflow-x:auto;line-height:normal;font-family:Menlo,'DejaVu Sans Mono',consolas,'Courier New',monospace\"><span style=\"color: #008000; text-decoration-color: #008000\">Accept step at </span><span style=\"color: #808000; text-decoration-color: #808000\">i</span><span style=\"color: #008000; text-decoration-color: #008000\">=</span><span style=\"color: #008080; text-decoration-color: #008080; font-weight: bold\">1</span>\n",
       "</pre>\n"
      ],
      "text/plain": [
       "\u001b[32mAccept step at \u001b[0m\u001b[33mi\u001b[0m\u001b[32m=\u001b[0m\u001b[1;36m1\u001b[0m\n"
      ]
     },
     "metadata": {},
     "output_type": "display_data"
    },
    {
     "data": {
      "text/html": [
       "<pre style=\"white-space:pre;overflow-x:auto;line-height:normal;font-family:Menlo,'DejaVu Sans Mono',consolas,'Courier New',monospace\">┏━━━━━━━━━━━━━━━━━━━━━━━━━━━━━━━┳━━━━━━━━━━━━━━━━━━━━━━━━━┓\n",
       "┃<span style=\"font-weight: bold\"> Metrics                       </span>┃<span style=\"font-weight: bold\"> Value                   </span>┃\n",
       "┡━━━━━━━━━━━━━━━━━━━━━━━━━━━━━━━╇━━━━━━━━━━━━━━━━━━━━━━━━━┩\n",
       "│ Metrics/EpRet                 │ 8.941153526306152       │\n",
       "│ Metrics/EpCost                │ 27.852811813354492      │\n",
       "│ Metrics/EpLen                 │ 6.0                     │\n",
       "│ Train/Epoch                   │ 24.0                    │\n",
       "│ Train/Entropy                 │ 0.9061692357063293      │\n",
       "│ Train/KL                      │ 0.00010936527542071417  │\n",
       "│ Train/StopIter                │ 10.0                    │\n",
       "│ Train/PolicyRatio/Mean        │ 0.9997331500053406      │\n",
       "│ Train/PolicyRatio/Min         │ 0.9997331500053406      │\n",
       "│ Train/PolicyRatio/Max         │ 0.9997331500053406      │\n",
       "│ Train/PolicyRatio/Std         │ 0.00018870548228733242  │\n",
       "│ Train/LR                      │ 0.0                     │\n",
       "│ Train/PolicyStd               │ 0.6004427671432495      │\n",
       "│ TotalEnvSteps                 │ 500000.0                │\n",
       "│ Loss/Loss_pi                  │ -0.16497790813446045    │\n",
       "│ Loss/Loss_pi/Delta            │ -0.485972136259079      │\n",
       "│ Value/Adv                     │ -1.2969970875076342e-08 │\n",
       "│ Loss/Loss_reward_critic       │ 47.90004348754883       │\n",
       "│ Loss/Loss_reward_critic/Delta │ 32.793972969055176      │\n",
       "│ Value/reward                  │ 3.1297547817230225      │\n",
       "│ Loss/Loss_cost_critic         │ 360.3821105957031       │\n",
       "│ Loss/Loss_cost_critic/Delta   │ 38.7257080078125        │\n",
       "│ Value/cost                    │ 11.716968536376953      │\n",
       "│ Time/Total                    │ 1458.217529296875       │\n",
       "│ Time/Rollout                  │ 26.467601776123047      │\n",
       "│ Time/Update                   │ 28.340208053588867      │\n",
       "│ Time/Epoch                    │ 54.80780792236328       │\n",
       "│ Time/FPS                      │ 364.9114990234375       │\n",
       "│ Env/Success_counts            │ nan                     │\n",
       "│ Misc/Alpha                    │ 0.16425007581710815     │\n",
       "│ Misc/FinalStepNorm            │ 0.12941211462020874     │\n",
       "│ Misc/gradient_norm            │ 5.112964153289795       │\n",
       "│ Misc/xHx                      │ 0.7413424253463745      │\n",
       "│ Misc/H_inv_g                  │ 1.0464445352554321      │\n",
       "│ Misc/AcceptanceStep           │ 1.0                     │\n",
       "│ Misc/cost_gradient_norm       │ 209.41114807128906      │\n",
       "│ Misc/A                        │ 0.6036683320999146      │\n",
       "│ Misc/B                        │ 0.008624361827969551    │\n",
       "│ Misc/q                        │ 0.7413424253463745      │\n",
       "│ Misc/r                        │ 9.924562454223633       │\n",
       "│ Misc/s                        │ 715.435546875           │\n",
       "│ Misc/Lambda_star              │ 8.366344451904297       │\n",
       "│ Misc/Nu_star                  │ 0.01948888972401619     │\n",
       "│ Misc/OptimCase                │ 1.0                     │\n",
       "└───────────────────────────────┴─────────────────────────┘\n",
       "</pre>\n"
      ],
      "text/plain": [
       "┏━━━━━━━━━━━━━━━━━━━━━━━━━━━━━━━┳━━━━━━━━━━━━━━━━━━━━━━━━━┓\n",
       "┃\u001b[1m \u001b[0m\u001b[1mMetrics                      \u001b[0m\u001b[1m \u001b[0m┃\u001b[1m \u001b[0m\u001b[1mValue                  \u001b[0m\u001b[1m \u001b[0m┃\n",
       "┡━━━━━━━━━━━━━━━━━━━━━━━━━━━━━━━╇━━━━━━━━━━━━━━━━━━━━━━━━━┩\n",
       "│ Metrics/EpRet                 │ 8.941153526306152       │\n",
       "│ Metrics/EpCost                │ 27.852811813354492      │\n",
       "│ Metrics/EpLen                 │ 6.0                     │\n",
       "│ Train/Epoch                   │ 24.0                    │\n",
       "│ Train/Entropy                 │ 0.9061692357063293      │\n",
       "│ Train/KL                      │ 0.00010936527542071417  │\n",
       "│ Train/StopIter                │ 10.0                    │\n",
       "│ Train/PolicyRatio/Mean        │ 0.9997331500053406      │\n",
       "│ Train/PolicyRatio/Min         │ 0.9997331500053406      │\n",
       "│ Train/PolicyRatio/Max         │ 0.9997331500053406      │\n",
       "│ Train/PolicyRatio/Std         │ 0.00018870548228733242  │\n",
       "│ Train/LR                      │ 0.0                     │\n",
       "│ Train/PolicyStd               │ 0.6004427671432495      │\n",
       "│ TotalEnvSteps                 │ 500000.0                │\n",
       "│ Loss/Loss_pi                  │ -0.16497790813446045    │\n",
       "│ Loss/Loss_pi/Delta            │ -0.485972136259079      │\n",
       "│ Value/Adv                     │ -1.2969970875076342e-08 │\n",
       "│ Loss/Loss_reward_critic       │ 47.90004348754883       │\n",
       "│ Loss/Loss_reward_critic/Delta │ 32.793972969055176      │\n",
       "│ Value/reward                  │ 3.1297547817230225      │\n",
       "│ Loss/Loss_cost_critic         │ 360.3821105957031       │\n",
       "│ Loss/Loss_cost_critic/Delta   │ 38.7257080078125        │\n",
       "│ Value/cost                    │ 11.716968536376953      │\n",
       "│ Time/Total                    │ 1458.217529296875       │\n",
       "│ Time/Rollout                  │ 26.467601776123047      │\n",
       "│ Time/Update                   │ 28.340208053588867      │\n",
       "│ Time/Epoch                    │ 54.80780792236328       │\n",
       "│ Time/FPS                      │ 364.9114990234375       │\n",
       "│ Env/Success_counts            │ nan                     │\n",
       "│ Misc/Alpha                    │ 0.16425007581710815     │\n",
       "│ Misc/FinalStepNorm            │ 0.12941211462020874     │\n",
       "│ Misc/gradient_norm            │ 5.112964153289795       │\n",
       "│ Misc/xHx                      │ 0.7413424253463745      │\n",
       "│ Misc/H_inv_g                  │ 1.0464445352554321      │\n",
       "│ Misc/AcceptanceStep           │ 1.0                     │\n",
       "│ Misc/cost_gradient_norm       │ 209.41114807128906      │\n",
       "│ Misc/A                        │ 0.6036683320999146      │\n",
       "│ Misc/B                        │ 0.008624361827969551    │\n",
       "│ Misc/q                        │ 0.7413424253463745      │\n",
       "│ Misc/r                        │ 9.924562454223633       │\n",
       "│ Misc/s                        │ 715.435546875           │\n",
       "│ Misc/Lambda_star              │ 8.366344451904297       │\n",
       "│ Misc/Nu_star                  │ 0.01948888972401619     │\n",
       "│ Misc/OptimCase                │ 1.0                     │\n",
       "└───────────────────────────────┴─────────────────────────┘\n"
      ]
     },
     "metadata": {},
     "output_type": "display_data"
    },
    {
     "data": {
      "text/html": [
       "<pre style=\"white-space:pre;overflow-x:auto;line-height:normal;font-family:Menlo,'DejaVu Sans Mono',consolas,'Courier New',monospace\"><span style=\"color: #008000; text-decoration-color: #008000\">Warning: trajectory cut off when rollout by epoch at </span><span style=\"color: #008080; text-decoration-color: #008080; font-weight: bold\">2.0</span><span style=\"color: #008000; text-decoration-color: #008000\"> steps.</span>\n",
       "</pre>\n"
      ],
      "text/plain": [
       "\u001b[32mWarning: trajectory cut off when rollout by epoch at \u001b[0m\u001b[1;36m2.0\u001b[0m\u001b[32m steps.\u001b[0m\n"
      ]
     },
     "metadata": {},
     "output_type": "display_data"
    },
    {
     "data": {
      "text/html": [
       "<pre style=\"white-space:pre;overflow-x:auto;line-height:normal;font-family:Menlo,'DejaVu Sans Mono',consolas,'Courier New',monospace\"></pre>\n"
      ],
      "text/plain": []
     },
     "metadata": {},
     "output_type": "display_data"
    },
    {
     "data": {
      "text/html": [
       "<pre style=\"white-space:pre;overflow-x:auto;line-height:normal;font-family:Menlo,'DejaVu Sans Mono',consolas,'Courier New',monospace\"><span style=\"color: #800000; text-decoration-color: #800000\">Alert! Attempting infeasible recovery!</span>\n",
       "</pre>\n"
      ],
      "text/plain": [
       "\u001b[31mAlert! Attempting infeasible recovery!\u001b[0m\n"
      ]
     },
     "metadata": {},
     "output_type": "display_data"
    },
    {
     "data": {
      "text/html": [
       "<pre style=\"white-space:pre;overflow-x:auto;line-height:normal;font-family:Menlo,'DejaVu Sans Mono',consolas,'Courier New',monospace\"><span style=\"color: #008000; text-decoration-color: #008000\">Expected Improvement: </span><span style=\"color: #008080; text-decoration-color: #008080; font-weight: bold\">-0.059484776109457016</span><span style=\"color: #008000; text-decoration-color: #008000\"> Actual: </span><span style=\"color: #008080; text-decoration-color: #008080; font-weight: bold\">-0.05479855462908745</span>\n",
       "</pre>\n"
      ],
      "text/plain": [
       "\u001b[32mExpected Improvement: \u001b[0m\u001b[1;36m-0.059484776109457016\u001b[0m\u001b[32m Actual: \u001b[0m\u001b[1;36m-0.05479855462908745\u001b[0m\n"
      ]
     },
     "metadata": {},
     "output_type": "display_data"
    },
    {
     "data": {
      "text/html": [
       "<pre style=\"white-space:pre;overflow-x:auto;line-height:normal;font-family:Menlo,'DejaVu Sans Mono',consolas,'Courier New',monospace\"><span style=\"color: #008000; text-decoration-color: #008000\">Accept step at </span><span style=\"color: #808000; text-decoration-color: #808000\">i</span><span style=\"color: #008000; text-decoration-color: #008000\">=</span><span style=\"color: #008080; text-decoration-color: #008080; font-weight: bold\">1</span>\n",
       "</pre>\n"
      ],
      "text/plain": [
       "\u001b[32mAccept step at \u001b[0m\u001b[33mi\u001b[0m\u001b[32m=\u001b[0m\u001b[1;36m1\u001b[0m\n"
      ]
     },
     "metadata": {},
     "output_type": "display_data"
    },
    {
     "data": {
      "text/html": [
       "<pre style=\"white-space:pre;overflow-x:auto;line-height:normal;font-family:Menlo,'DejaVu Sans Mono',consolas,'Courier New',monospace\">┏━━━━━━━━━━━━━━━━━━━━━━━━━━━━━━━┳━━━━━━━━━━━━━━━━━━━━━━━━┓\n",
       "┃<span style=\"font-weight: bold\"> Metrics                       </span>┃<span style=\"font-weight: bold\"> Value                  </span>┃\n",
       "┡━━━━━━━━━━━━━━━━━━━━━━━━━━━━━━━╇━━━━━━━━━━━━━━━━━━━━━━━━┩\n",
       "│ Metrics/EpRet                 │ 13.560169219970703     │\n",
       "│ Metrics/EpCost                │ 29.8262882232666       │\n",
       "│ Metrics/EpLen                 │ 6.0                    │\n",
       "│ Train/Epoch                   │ 25.0                   │\n",
       "│ Train/Entropy                 │ 0.887443482875824      │\n",
       "│ Train/KL                      │ 0.00027111501549370587 │\n",
       "│ Train/StopIter                │ 10.0                   │\n",
       "│ Train/PolicyRatio/Mean        │ 1.0006803274154663     │\n",
       "│ Train/PolicyRatio/Min         │ 1.0006803274154663     │\n",
       "│ Train/PolicyRatio/Max         │ 1.0006803274154663     │\n",
       "│ Train/PolicyRatio/Std         │ 0.00048109222552739084 │\n",
       "│ Train/LR                      │ 0.0                    │\n",
       "│ Train/PolicyStd               │ 0.5898347496986389     │\n",
       "│ TotalEnvSteps                 │ 520000.0               │\n",
       "│ Loss/Loss_pi                  │ -0.6217043995857239    │\n",
       "│ Loss/Loss_pi/Delta            │ -0.4567264914512634    │\n",
       "│ Value/Adv                     │ 7.1525572131747595e-09 │\n",
       "│ Loss/Loss_reward_critic       │ 135.47116088867188     │\n",
       "│ Loss/Loss_reward_critic/Delta │ 87.57111740112305      │\n",
       "│ Value/reward                  │ 4.150782585144043      │\n",
       "│ Loss/Loss_cost_critic         │ 413.6592102050781      │\n",
       "│ Loss/Loss_cost_critic/Delta   │ 53.277099609375        │\n",
       "│ Value/cost                    │ 14.735090255737305     │\n",
       "│ Time/Total                    │ 1515.064208984375      │\n",
       "│ Time/Rollout                  │ 28.407812118530273     │\n",
       "│ Time/Update                   │ 28.3933162689209       │\n",
       "│ Time/Epoch                    │ 56.80112838745117      │\n",
       "│ Time/FPS                      │ 352.1056823730469      │\n",
       "│ Env/Success_counts            │ nan                    │\n",
       "│ Misc/Alpha                    │ 0.16623425483703613    │\n",
       "│ Misc/FinalStepNorm            │ 0.1670362502336502     │\n",
       "│ Misc/gradient_norm            │ 4.261784076690674      │\n",
       "│ Misc/xHx                      │ 0.723750650882721      │\n",
       "│ Misc/H_inv_g                  │ 0.9913956522941589     │\n",
       "│ Misc/AcceptanceStep           │ 1.0                    │\n",
       "│ Misc/cost_gradient_norm       │ 239.9139862060547      │\n",
       "│ Misc/A                        │ 0.5468287467956543     │\n",
       "│ Misc/B                        │ -0.013567924499511719  │\n",
       "│ Misc/q                        │ 0.723750650882721      │\n",
       "│ Misc/r                        │ 11.080053329467773     │\n",
       "│ Misc/s                        │ 693.9082641601562      │\n",
       "│ Misc/Lambda_star              │ 0.0                    │\n",
       "│ Misc/Nu_star                  │ 0.00536863598972559    │\n",
       "│ Misc/OptimCase                │ 0.0                    │\n",
       "└───────────────────────────────┴────────────────────────┘\n",
       "</pre>\n"
      ],
      "text/plain": [
       "┏━━━━━━━━━━━━━━━━━━━━━━━━━━━━━━━┳━━━━━━━━━━━━━━━━━━━━━━━━┓\n",
       "┃\u001b[1m \u001b[0m\u001b[1mMetrics                      \u001b[0m\u001b[1m \u001b[0m┃\u001b[1m \u001b[0m\u001b[1mValue                 \u001b[0m\u001b[1m \u001b[0m┃\n",
       "┡━━━━━━━━━━━━━━━━━━━━━━━━━━━━━━━╇━━━━━━━━━━━━━━━━━━━━━━━━┩\n",
       "│ Metrics/EpRet                 │ 13.560169219970703     │\n",
       "│ Metrics/EpCost                │ 29.8262882232666       │\n",
       "│ Metrics/EpLen                 │ 6.0                    │\n",
       "│ Train/Epoch                   │ 25.0                   │\n",
       "│ Train/Entropy                 │ 0.887443482875824      │\n",
       "│ Train/KL                      │ 0.00027111501549370587 │\n",
       "│ Train/StopIter                │ 10.0                   │\n",
       "│ Train/PolicyRatio/Mean        │ 1.0006803274154663     │\n",
       "│ Train/PolicyRatio/Min         │ 1.0006803274154663     │\n",
       "│ Train/PolicyRatio/Max         │ 1.0006803274154663     │\n",
       "│ Train/PolicyRatio/Std         │ 0.00048109222552739084 │\n",
       "│ Train/LR                      │ 0.0                    │\n",
       "│ Train/PolicyStd               │ 0.5898347496986389     │\n",
       "│ TotalEnvSteps                 │ 520000.0               │\n",
       "│ Loss/Loss_pi                  │ -0.6217043995857239    │\n",
       "│ Loss/Loss_pi/Delta            │ -0.4567264914512634    │\n",
       "│ Value/Adv                     │ 7.1525572131747595e-09 │\n",
       "│ Loss/Loss_reward_critic       │ 135.47116088867188     │\n",
       "│ Loss/Loss_reward_critic/Delta │ 87.57111740112305      │\n",
       "│ Value/reward                  │ 4.150782585144043      │\n",
       "│ Loss/Loss_cost_critic         │ 413.6592102050781      │\n",
       "│ Loss/Loss_cost_critic/Delta   │ 53.277099609375        │\n",
       "│ Value/cost                    │ 14.735090255737305     │\n",
       "│ Time/Total                    │ 1515.064208984375      │\n",
       "│ Time/Rollout                  │ 28.407812118530273     │\n",
       "│ Time/Update                   │ 28.3933162689209       │\n",
       "│ Time/Epoch                    │ 56.80112838745117      │\n",
       "│ Time/FPS                      │ 352.1056823730469      │\n",
       "│ Env/Success_counts            │ nan                    │\n",
       "│ Misc/Alpha                    │ 0.16623425483703613    │\n",
       "│ Misc/FinalStepNorm            │ 0.1670362502336502     │\n",
       "│ Misc/gradient_norm            │ 4.261784076690674      │\n",
       "│ Misc/xHx                      │ 0.723750650882721      │\n",
       "│ Misc/H_inv_g                  │ 0.9913956522941589     │\n",
       "│ Misc/AcceptanceStep           │ 1.0                    │\n",
       "│ Misc/cost_gradient_norm       │ 239.9139862060547      │\n",
       "│ Misc/A                        │ 0.5468287467956543     │\n",
       "│ Misc/B                        │ -0.013567924499511719  │\n",
       "│ Misc/q                        │ 0.723750650882721      │\n",
       "│ Misc/r                        │ 11.080053329467773     │\n",
       "│ Misc/s                        │ 693.9082641601562      │\n",
       "│ Misc/Lambda_star              │ 0.0                    │\n",
       "│ Misc/Nu_star                  │ 0.00536863598972559    │\n",
       "│ Misc/OptimCase                │ 0.0                    │\n",
       "└───────────────────────────────┴────────────────────────┘\n"
      ]
     },
     "metadata": {},
     "output_type": "display_data"
    },
    {
     "data": {
      "text/html": [
       "<pre style=\"white-space:pre;overflow-x:auto;line-height:normal;font-family:Menlo,'DejaVu Sans Mono',consolas,'Courier New',monospace\"><span style=\"color: #008000; text-decoration-color: #008000\">Warning: trajectory cut off when rollout by epoch at </span><span style=\"color: #008080; text-decoration-color: #008080; font-weight: bold\">2.0</span><span style=\"color: #008000; text-decoration-color: #008000\"> steps.</span>\n",
       "</pre>\n"
      ],
      "text/plain": [
       "\u001b[32mWarning: trajectory cut off when rollout by epoch at \u001b[0m\u001b[1;36m2.0\u001b[0m\u001b[32m steps.\u001b[0m\n"
      ]
     },
     "metadata": {},
     "output_type": "display_data"
    },
    {
     "data": {
      "text/html": [
       "<pre style=\"white-space:pre;overflow-x:auto;line-height:normal;font-family:Menlo,'DejaVu Sans Mono',consolas,'Courier New',monospace\"></pre>\n"
      ],
      "text/plain": []
     },
     "metadata": {},
     "output_type": "display_data"
    },
    {
     "data": {
      "text/html": [
       "<pre style=\"white-space:pre;overflow-x:auto;line-height:normal;font-family:Menlo,'DejaVu Sans Mono',consolas,'Courier New',monospace\"><span style=\"color: #008000; text-decoration-color: #008000\">Expected Improvement: </span><span style=\"color: #008080; text-decoration-color: #008080; font-weight: bold\">0.1344781517982483</span><span style=\"color: #008000; text-decoration-color: #008000\"> Actual: </span><span style=\"color: #008080; text-decoration-color: #008080; font-weight: bold\">0.17718517780303955</span>\n",
       "</pre>\n"
      ],
      "text/plain": [
       "\u001b[32mExpected Improvement: \u001b[0m\u001b[1;36m0.1344781517982483\u001b[0m\u001b[32m Actual: \u001b[0m\u001b[1;36m0.17718517780303955\u001b[0m\n"
      ]
     },
     "metadata": {},
     "output_type": "display_data"
    },
    {
     "data": {
      "text/html": [
       "<pre style=\"white-space:pre;overflow-x:auto;line-height:normal;font-family:Menlo,'DejaVu Sans Mono',consolas,'Courier New',monospace\"><span style=\"color: #008000; text-decoration-color: #008000\">Accept step at </span><span style=\"color: #808000; text-decoration-color: #808000\">i</span><span style=\"color: #008000; text-decoration-color: #008000\">=</span><span style=\"color: #008080; text-decoration-color: #008080; font-weight: bold\">1</span>\n",
       "</pre>\n"
      ],
      "text/plain": [
       "\u001b[32mAccept step at \u001b[0m\u001b[33mi\u001b[0m\u001b[32m=\u001b[0m\u001b[1;36m1\u001b[0m\n"
      ]
     },
     "metadata": {},
     "output_type": "display_data"
    },
    {
     "data": {
      "text/html": [
       "<pre style=\"white-space:pre;overflow-x:auto;line-height:normal;font-family:Menlo,'DejaVu Sans Mono',consolas,'Courier New',monospace\">┏━━━━━━━━━━━━━━━━━━━━━━━━━━━━━━━┳━━━━━━━━━━━━━━━━━━━━━━━━━┓\n",
       "┃<span style=\"font-weight: bold\"> Metrics                       </span>┃<span style=\"font-weight: bold\"> Value                   </span>┃\n",
       "┡━━━━━━━━━━━━━━━━━━━━━━━━━━━━━━━╇━━━━━━━━━━━━━━━━━━━━━━━━━┩\n",
       "│ Metrics/EpRet                 │ 14.70488166809082       │\n",
       "│ Metrics/EpCost                │ 13.474448204040527      │\n",
       "│ Metrics/EpLen                 │ 6.0                     │\n",
       "│ Train/Epoch                   │ 26.0                    │\n",
       "│ Train/Entropy                 │ 0.8859248161315918      │\n",
       "│ Train/KL                      │ 0.00022718842956237495  │\n",
       "│ Train/StopIter                │ 10.0                    │\n",
       "│ Train/PolicyRatio/Mean        │ 1.0057562589645386      │\n",
       "│ Train/PolicyRatio/Min         │ 1.0057562589645386      │\n",
       "│ Train/PolicyRatio/Max         │ 1.0057562589645386      │\n",
       "│ Train/PolicyRatio/Std         │ 0.0040702614933252335   │\n",
       "│ Train/LR                      │ 0.0                     │\n",
       "│ Train/PolicyStd               │ 0.5893596410751343      │\n",
       "│ TotalEnvSteps                 │ 540000.0                │\n",
       "│ Loss/Loss_pi                  │ 0.1465921252965927      │\n",
       "│ Loss/Loss_pi/Delta            │ 0.7682965248823166      │\n",
       "│ Value/Adv                     │ -3.8146971692576415e-10 │\n",
       "│ Loss/Loss_reward_critic       │ 50.65793228149414       │\n",
       "│ Loss/Loss_reward_critic/Delta │ -84.81322860717773      │\n",
       "│ Value/reward                  │ 5.826221942901611       │\n",
       "│ Loss/Loss_cost_critic         │ 290.8478698730469       │\n",
       "│ Loss/Loss_cost_critic/Delta   │ -122.81134033203125     │\n",
       "│ Value/cost                    │ 15.547865867614746      │\n",
       "│ Time/Total                    │ 1570.9599609375         │\n",
       "│ Time/Rollout                  │ 28.049678802490234      │\n",
       "│ Time/Update                   │ 27.798553466796875      │\n",
       "│ Time/Epoch                    │ 55.84823226928711       │\n",
       "│ Time/FPS                      │ 358.1134033203125       │\n",
       "│ Env/Success_counts            │ nan                     │\n",
       "│ Misc/Alpha                    │ 0.14995627105236053     │\n",
       "│ Misc/FinalStepNorm            │ 0.18859581649303436     │\n",
       "│ Misc/gradient_norm            │ 5.873043060302734       │\n",
       "│ Misc/xHx                      │ 0.8894073367118835      │\n",
       "│ Misc/H_inv_g                  │ 1.2576714754104614      │\n",
       "│ Misc/AcceptanceStep           │ 1.0                     │\n",
       "│ Misc/cost_gradient_norm       │ 125.74398803710938      │\n",
       "│ Misc/A                        │ 0.7680168747901917      │\n",
       "│ Misc/B                        │ -0.45848894119262695    │\n",
       "│ Misc/q                        │ 0.8894073367118835      │\n",
       "│ Misc/r                        │ 5.805212020874023       │\n",
       "│ Misc/s                        │ 277.6205139160156       │\n",
       "│ Misc/Lambda_star              │ 6.668610095977783       │\n",
       "│ Misc/Nu_star                  │ 0.0                     │\n",
       "│ Misc/OptimCase                │ 3.0                     │\n",
       "└───────────────────────────────┴─────────────────────────┘\n",
       "</pre>\n"
      ],
      "text/plain": [
       "┏━━━━━━━━━━━━━━━━━━━━━━━━━━━━━━━┳━━━━━━━━━━━━━━━━━━━━━━━━━┓\n",
       "┃\u001b[1m \u001b[0m\u001b[1mMetrics                      \u001b[0m\u001b[1m \u001b[0m┃\u001b[1m \u001b[0m\u001b[1mValue                  \u001b[0m\u001b[1m \u001b[0m┃\n",
       "┡━━━━━━━━━━━━━━━━━━━━━━━━━━━━━━━╇━━━━━━━━━━━━━━━━━━━━━━━━━┩\n",
       "│ Metrics/EpRet                 │ 14.70488166809082       │\n",
       "│ Metrics/EpCost                │ 13.474448204040527      │\n",
       "│ Metrics/EpLen                 │ 6.0                     │\n",
       "│ Train/Epoch                   │ 26.0                    │\n",
       "│ Train/Entropy                 │ 0.8859248161315918      │\n",
       "│ Train/KL                      │ 0.00022718842956237495  │\n",
       "│ Train/StopIter                │ 10.0                    │\n",
       "│ Train/PolicyRatio/Mean        │ 1.0057562589645386      │\n",
       "│ Train/PolicyRatio/Min         │ 1.0057562589645386      │\n",
       "│ Train/PolicyRatio/Max         │ 1.0057562589645386      │\n",
       "│ Train/PolicyRatio/Std         │ 0.0040702614933252335   │\n",
       "│ Train/LR                      │ 0.0                     │\n",
       "│ Train/PolicyStd               │ 0.5893596410751343      │\n",
       "│ TotalEnvSteps                 │ 540000.0                │\n",
       "│ Loss/Loss_pi                  │ 0.1465921252965927      │\n",
       "│ Loss/Loss_pi/Delta            │ 0.7682965248823166      │\n",
       "│ Value/Adv                     │ -3.8146971692576415e-10 │\n",
       "│ Loss/Loss_reward_critic       │ 50.65793228149414       │\n",
       "│ Loss/Loss_reward_critic/Delta │ -84.81322860717773      │\n",
       "│ Value/reward                  │ 5.826221942901611       │\n",
       "│ Loss/Loss_cost_critic         │ 290.8478698730469       │\n",
       "│ Loss/Loss_cost_critic/Delta   │ -122.81134033203125     │\n",
       "│ Value/cost                    │ 15.547865867614746      │\n",
       "│ Time/Total                    │ 1570.9599609375         │\n",
       "│ Time/Rollout                  │ 28.049678802490234      │\n",
       "│ Time/Update                   │ 27.798553466796875      │\n",
       "│ Time/Epoch                    │ 55.84823226928711       │\n",
       "│ Time/FPS                      │ 358.1134033203125       │\n",
       "│ Env/Success_counts            │ nan                     │\n",
       "│ Misc/Alpha                    │ 0.14995627105236053     │\n",
       "│ Misc/FinalStepNorm            │ 0.18859581649303436     │\n",
       "│ Misc/gradient_norm            │ 5.873043060302734       │\n",
       "│ Misc/xHx                      │ 0.8894073367118835      │\n",
       "│ Misc/H_inv_g                  │ 1.2576714754104614      │\n",
       "│ Misc/AcceptanceStep           │ 1.0                     │\n",
       "│ Misc/cost_gradient_norm       │ 125.74398803710938      │\n",
       "│ Misc/A                        │ 0.7680168747901917      │\n",
       "│ Misc/B                        │ -0.45848894119262695    │\n",
       "│ Misc/q                        │ 0.8894073367118835      │\n",
       "│ Misc/r                        │ 5.805212020874023       │\n",
       "│ Misc/s                        │ 277.6205139160156       │\n",
       "│ Misc/Lambda_star              │ 6.668610095977783       │\n",
       "│ Misc/Nu_star                  │ 0.0                     │\n",
       "│ Misc/OptimCase                │ 3.0                     │\n",
       "└───────────────────────────────┴─────────────────────────┘\n"
      ]
     },
     "metadata": {},
     "output_type": "display_data"
    },
    {
     "data": {
      "text/html": [
       "<pre style=\"white-space:pre;overflow-x:auto;line-height:normal;font-family:Menlo,'DejaVu Sans Mono',consolas,'Courier New',monospace\"><span style=\"color: #008000; text-decoration-color: #008000\">Warning: trajectory cut off when rollout by epoch at </span><span style=\"color: #008080; text-decoration-color: #008080; font-weight: bold\">2.0</span><span style=\"color: #008000; text-decoration-color: #008000\"> steps.</span>\n",
       "</pre>\n"
      ],
      "text/plain": [
       "\u001b[32mWarning: trajectory cut off when rollout by epoch at \u001b[0m\u001b[1;36m2.0\u001b[0m\u001b[32m steps.\u001b[0m\n"
      ]
     },
     "metadata": {},
     "output_type": "display_data"
    },
    {
     "data": {
      "text/html": [
       "<pre style=\"white-space:pre;overflow-x:auto;line-height:normal;font-family:Menlo,'DejaVu Sans Mono',consolas,'Courier New',monospace\"></pre>\n"
      ],
      "text/plain": []
     },
     "metadata": {},
     "output_type": "display_data"
    },
    {
     "data": {
      "text/html": [
       "<pre style=\"white-space:pre;overflow-x:auto;line-height:normal;font-family:Menlo,'DejaVu Sans Mono',consolas,'Courier New',monospace\"><span style=\"color: #008000; text-decoration-color: #008000\">Expected Improvement: </span><span style=\"color: #008080; text-decoration-color: #008080; font-weight: bold\">-0.12406960129737854</span><span style=\"color: #008000; text-decoration-color: #008000\"> Actual: </span><span style=\"color: #008080; text-decoration-color: #008080; font-weight: bold\">-0.07125364989042282</span>\n",
       "</pre>\n"
      ],
      "text/plain": [
       "\u001b[32mExpected Improvement: \u001b[0m\u001b[1;36m-0.12406960129737854\u001b[0m\u001b[32m Actual: \u001b[0m\u001b[1;36m-0.07125364989042282\u001b[0m\n"
      ]
     },
     "metadata": {},
     "output_type": "display_data"
    },
    {
     "data": {
      "text/html": [
       "<pre style=\"white-space:pre;overflow-x:auto;line-height:normal;font-family:Menlo,'DejaVu Sans Mono',consolas,'Courier New',monospace\"><span style=\"color: #008000; text-decoration-color: #008000\">INFO: did not improve improve &lt;</span><span style=\"color: #008080; text-decoration-color: #008080; font-weight: bold\">0</span>\n",
       "</pre>\n"
      ],
      "text/plain": [
       "\u001b[32mINFO: did not improve improve <\u001b[0m\u001b[1;36m0\u001b[0m\n"
      ]
     },
     "metadata": {},
     "output_type": "display_data"
    },
    {
     "data": {
      "text/html": [
       "<pre style=\"white-space:pre;overflow-x:auto;line-height:normal;font-family:Menlo,'DejaVu Sans Mono',consolas,'Courier New',monospace\"><span style=\"color: #008000; text-decoration-color: #008000\">Expected Improvement: </span><span style=\"color: #008080; text-decoration-color: #008080; font-weight: bold\">-0.12406960129737854</span><span style=\"color: #008000; text-decoration-color: #008000\"> Actual: </span><span style=\"color: #008080; text-decoration-color: #008080; font-weight: bold\">-0.06264813244342804</span>\n",
       "</pre>\n"
      ],
      "text/plain": [
       "\u001b[32mExpected Improvement: \u001b[0m\u001b[1;36m-0.12406960129737854\u001b[0m\u001b[32m Actual: \u001b[0m\u001b[1;36m-0.06264813244342804\u001b[0m\n"
      ]
     },
     "metadata": {},
     "output_type": "display_data"
    },
    {
     "data": {
      "text/html": [
       "<pre style=\"white-space:pre;overflow-x:auto;line-height:normal;font-family:Menlo,'DejaVu Sans Mono',consolas,'Courier New',monospace\"><span style=\"color: #008000; text-decoration-color: #008000\">INFO: did not improve improve &lt;</span><span style=\"color: #008080; text-decoration-color: #008080; font-weight: bold\">0</span>\n",
       "</pre>\n"
      ],
      "text/plain": [
       "\u001b[32mINFO: did not improve improve <\u001b[0m\u001b[1;36m0\u001b[0m\n"
      ]
     },
     "metadata": {},
     "output_type": "display_data"
    },
    {
     "data": {
      "text/html": [
       "<pre style=\"white-space:pre;overflow-x:auto;line-height:normal;font-family:Menlo,'DejaVu Sans Mono',consolas,'Courier New',monospace\"><span style=\"color: #008000; text-decoration-color: #008000\">Expected Improvement: </span><span style=\"color: #008080; text-decoration-color: #008080; font-weight: bold\">-0.12406960129737854</span><span style=\"color: #008000; text-decoration-color: #008000\"> Actual: </span><span style=\"color: #008080; text-decoration-color: #008080; font-weight: bold\">-0.05435077100992203</span>\n",
       "</pre>\n"
      ],
      "text/plain": [
       "\u001b[32mExpected Improvement: \u001b[0m\u001b[1;36m-0.12406960129737854\u001b[0m\u001b[32m Actual: \u001b[0m\u001b[1;36m-0.05435077100992203\u001b[0m\n"
      ]
     },
     "metadata": {},
     "output_type": "display_data"
    },
    {
     "data": {
      "text/html": [
       "<pre style=\"white-space:pre;overflow-x:auto;line-height:normal;font-family:Menlo,'DejaVu Sans Mono',consolas,'Courier New',monospace\"><span style=\"color: #008000; text-decoration-color: #008000\">INFO: did not improve improve &lt;</span><span style=\"color: #008080; text-decoration-color: #008080; font-weight: bold\">0</span>\n",
       "</pre>\n"
      ],
      "text/plain": [
       "\u001b[32mINFO: did not improve improve <\u001b[0m\u001b[1;36m0\u001b[0m\n"
      ]
     },
     "metadata": {},
     "output_type": "display_data"
    },
    {
     "data": {
      "text/html": [
       "<pre style=\"white-space:pre;overflow-x:auto;line-height:normal;font-family:Menlo,'DejaVu Sans Mono',consolas,'Courier New',monospace\"><span style=\"color: #008000; text-decoration-color: #008000\">Expected Improvement: </span><span style=\"color: #008080; text-decoration-color: #008080; font-weight: bold\">-0.12406960129737854</span><span style=\"color: #008000; text-decoration-color: #008000\"> Actual: </span><span style=\"color: #008080; text-decoration-color: #008080; font-weight: bold\">-0.04659370332956314</span>\n",
       "</pre>\n"
      ],
      "text/plain": [
       "\u001b[32mExpected Improvement: \u001b[0m\u001b[1;36m-0.12406960129737854\u001b[0m\u001b[32m Actual: \u001b[0m\u001b[1;36m-0.04659370332956314\u001b[0m\n"
      ]
     },
     "metadata": {},
     "output_type": "display_data"
    },
    {
     "data": {
      "text/html": [
       "<pre style=\"white-space:pre;overflow-x:auto;line-height:normal;font-family:Menlo,'DejaVu Sans Mono',consolas,'Courier New',monospace\"><span style=\"color: #008000; text-decoration-color: #008000\">INFO: did not improve improve &lt;</span><span style=\"color: #008080; text-decoration-color: #008080; font-weight: bold\">0</span>\n",
       "</pre>\n"
      ],
      "text/plain": [
       "\u001b[32mINFO: did not improve improve <\u001b[0m\u001b[1;36m0\u001b[0m\n"
      ]
     },
     "metadata": {},
     "output_type": "display_data"
    },
    {
     "data": {
      "text/html": [
       "<pre style=\"white-space:pre;overflow-x:auto;line-height:normal;font-family:Menlo,'DejaVu Sans Mono',consolas,'Courier New',monospace\"><span style=\"color: #008000; text-decoration-color: #008000\">Expected Improvement: </span><span style=\"color: #008080; text-decoration-color: #008080; font-weight: bold\">-0.12406960129737854</span><span style=\"color: #008000; text-decoration-color: #008000\"> Actual: </span><span style=\"color: #008080; text-decoration-color: #008080; font-weight: bold\">-0.039526235312223434</span>\n",
       "</pre>\n"
      ],
      "text/plain": [
       "\u001b[32mExpected Improvement: \u001b[0m\u001b[1;36m-0.12406960129737854\u001b[0m\u001b[32m Actual: \u001b[0m\u001b[1;36m-0.039526235312223434\u001b[0m\n"
      ]
     },
     "metadata": {},
     "output_type": "display_data"
    },
    {
     "data": {
      "text/html": [
       "<pre style=\"white-space:pre;overflow-x:auto;line-height:normal;font-family:Menlo,'DejaVu Sans Mono',consolas,'Courier New',monospace\"><span style=\"color: #008000; text-decoration-color: #008000\">INFO: did not improve improve &lt;</span><span style=\"color: #008080; text-decoration-color: #008080; font-weight: bold\">0</span>\n",
       "</pre>\n"
      ],
      "text/plain": [
       "\u001b[32mINFO: did not improve improve <\u001b[0m\u001b[1;36m0\u001b[0m\n"
      ]
     },
     "metadata": {},
     "output_type": "display_data"
    },
    {
     "data": {
      "text/html": [
       "<pre style=\"white-space:pre;overflow-x:auto;line-height:normal;font-family:Menlo,'DejaVu Sans Mono',consolas,'Courier New',monospace\"><span style=\"color: #008000; text-decoration-color: #008000\">Expected Improvement: </span><span style=\"color: #008080; text-decoration-color: #008080; font-weight: bold\">-0.12406960129737854</span><span style=\"color: #008000; text-decoration-color: #008000\"> Actual: </span><span style=\"color: #008080; text-decoration-color: #008080; font-weight: bold\">-0.03318806365132332</span>\n",
       "</pre>\n"
      ],
      "text/plain": [
       "\u001b[32mExpected Improvement: \u001b[0m\u001b[1;36m-0.12406960129737854\u001b[0m\u001b[32m Actual: \u001b[0m\u001b[1;36m-0.03318806365132332\u001b[0m\n"
      ]
     },
     "metadata": {},
     "output_type": "display_data"
    },
    {
     "data": {
      "text/html": [
       "<pre style=\"white-space:pre;overflow-x:auto;line-height:normal;font-family:Menlo,'DejaVu Sans Mono',consolas,'Courier New',monospace\"><span style=\"color: #008000; text-decoration-color: #008000\">INFO: did not improve improve &lt;</span><span style=\"color: #008080; text-decoration-color: #008080; font-weight: bold\">0</span>\n",
       "</pre>\n"
      ],
      "text/plain": [
       "\u001b[32mINFO: did not improve improve <\u001b[0m\u001b[1;36m0\u001b[0m\n"
      ]
     },
     "metadata": {},
     "output_type": "display_data"
    },
    {
     "data": {
      "text/html": [
       "<pre style=\"white-space:pre;overflow-x:auto;line-height:normal;font-family:Menlo,'DejaVu Sans Mono',consolas,'Courier New',monospace\"><span style=\"color: #008000; text-decoration-color: #008000\">Expected Improvement: </span><span style=\"color: #008080; text-decoration-color: #008080; font-weight: bold\">-0.12406960129737854</span><span style=\"color: #008000; text-decoration-color: #008000\"> Actual: </span><span style=\"color: #008080; text-decoration-color: #008080; font-weight: bold\">-0.027638748288154602</span>\n",
       "</pre>\n"
      ],
      "text/plain": [
       "\u001b[32mExpected Improvement: \u001b[0m\u001b[1;36m-0.12406960129737854\u001b[0m\u001b[32m Actual: \u001b[0m\u001b[1;36m-0.027638748288154602\u001b[0m\n"
      ]
     },
     "metadata": {},
     "output_type": "display_data"
    },
    {
     "data": {
      "text/html": [
       "<pre style=\"white-space:pre;overflow-x:auto;line-height:normal;font-family:Menlo,'DejaVu Sans Mono',consolas,'Courier New',monospace\"><span style=\"color: #008000; text-decoration-color: #008000\">INFO: did not improve improve &lt;</span><span style=\"color: #008080; text-decoration-color: #008080; font-weight: bold\">0</span>\n",
       "</pre>\n"
      ],
      "text/plain": [
       "\u001b[32mINFO: did not improve improve <\u001b[0m\u001b[1;36m0\u001b[0m\n"
      ]
     },
     "metadata": {},
     "output_type": "display_data"
    },
    {
     "data": {
      "text/html": [
       "<pre style=\"white-space:pre;overflow-x:auto;line-height:normal;font-family:Menlo,'DejaVu Sans Mono',consolas,'Courier New',monospace\"><span style=\"color: #008000; text-decoration-color: #008000\">Expected Improvement: </span><span style=\"color: #008080; text-decoration-color: #008080; font-weight: bold\">-0.12406960129737854</span><span style=\"color: #008000; text-decoration-color: #008000\"> Actual: </span><span style=\"color: #008080; text-decoration-color: #008080; font-weight: bold\">-0.022859672084450722</span>\n",
       "</pre>\n"
      ],
      "text/plain": [
       "\u001b[32mExpected Improvement: \u001b[0m\u001b[1;36m-0.12406960129737854\u001b[0m\u001b[32m Actual: \u001b[0m\u001b[1;36m-0.022859672084450722\u001b[0m\n"
      ]
     },
     "metadata": {},
     "output_type": "display_data"
    },
    {
     "data": {
      "text/html": [
       "<pre style=\"white-space:pre;overflow-x:auto;line-height:normal;font-family:Menlo,'DejaVu Sans Mono',consolas,'Courier New',monospace\"><span style=\"color: #008000; text-decoration-color: #008000\">INFO: did not improve improve &lt;</span><span style=\"color: #008080; text-decoration-color: #008080; font-weight: bold\">0</span>\n",
       "</pre>\n"
      ],
      "text/plain": [
       "\u001b[32mINFO: did not improve improve <\u001b[0m\u001b[1;36m0\u001b[0m\n"
      ]
     },
     "metadata": {},
     "output_type": "display_data"
    },
    {
     "data": {
      "text/html": [
       "<pre style=\"white-space:pre;overflow-x:auto;line-height:normal;font-family:Menlo,'DejaVu Sans Mono',consolas,'Courier New',monospace\"><span style=\"color: #008000; text-decoration-color: #008000\">Expected Improvement: </span><span style=\"color: #008080; text-decoration-color: #008080; font-weight: bold\">-0.12406960129737854</span><span style=\"color: #008000; text-decoration-color: #008000\"> Actual: </span><span style=\"color: #008080; text-decoration-color: #008080; font-weight: bold\">-0.018784603103995323</span>\n",
       "</pre>\n"
      ],
      "text/plain": [
       "\u001b[32mExpected Improvement: \u001b[0m\u001b[1;36m-0.12406960129737854\u001b[0m\u001b[32m Actual: \u001b[0m\u001b[1;36m-0.018784603103995323\u001b[0m\n"
      ]
     },
     "metadata": {},
     "output_type": "display_data"
    },
    {
     "data": {
      "text/html": [
       "<pre style=\"white-space:pre;overflow-x:auto;line-height:normal;font-family:Menlo,'DejaVu Sans Mono',consolas,'Courier New',monospace\"><span style=\"color: #008000; text-decoration-color: #008000\">INFO: did not improve improve &lt;</span><span style=\"color: #008080; text-decoration-color: #008080; font-weight: bold\">0</span>\n",
       "</pre>\n"
      ],
      "text/plain": [
       "\u001b[32mINFO: did not improve improve <\u001b[0m\u001b[1;36m0\u001b[0m\n"
      ]
     },
     "metadata": {},
     "output_type": "display_data"
    },
    {
     "data": {
      "text/html": [
       "<pre style=\"white-space:pre;overflow-x:auto;line-height:normal;font-family:Menlo,'DejaVu Sans Mono',consolas,'Courier New',monospace\"><span style=\"color: #008000; text-decoration-color: #008000\">Expected Improvement: </span><span style=\"color: #008080; text-decoration-color: #008080; font-weight: bold\">-0.12406960129737854</span><span style=\"color: #008000; text-decoration-color: #008000\"> Actual: </span><span style=\"color: #008080; text-decoration-color: #008080; font-weight: bold\">-0.015342751517891884</span>\n",
       "</pre>\n"
      ],
      "text/plain": [
       "\u001b[32mExpected Improvement: \u001b[0m\u001b[1;36m-0.12406960129737854\u001b[0m\u001b[32m Actual: \u001b[0m\u001b[1;36m-0.015342751517891884\u001b[0m\n"
      ]
     },
     "metadata": {},
     "output_type": "display_data"
    },
    {
     "data": {
      "text/html": [
       "<pre style=\"white-space:pre;overflow-x:auto;line-height:normal;font-family:Menlo,'DejaVu Sans Mono',consolas,'Courier New',monospace\"><span style=\"color: #008000; text-decoration-color: #008000\">INFO: did not improve improve &lt;</span><span style=\"color: #008080; text-decoration-color: #008080; font-weight: bold\">0</span>\n",
       "</pre>\n"
      ],
      "text/plain": [
       "\u001b[32mINFO: did not improve improve <\u001b[0m\u001b[1;36m0\u001b[0m\n"
      ]
     },
     "metadata": {},
     "output_type": "display_data"
    },
    {
     "data": {
      "text/html": [
       "<pre style=\"white-space:pre;overflow-x:auto;line-height:normal;font-family:Menlo,'DejaVu Sans Mono',consolas,'Courier New',monospace\"><span style=\"color: #008000; text-decoration-color: #008000\">Expected Improvement: </span><span style=\"color: #008080; text-decoration-color: #008080; font-weight: bold\">-0.12406960129737854</span><span style=\"color: #008000; text-decoration-color: #008000\"> Actual: </span><span style=\"color: #008080; text-decoration-color: #008080; font-weight: bold\">-0.012475628405809402</span>\n",
       "</pre>\n"
      ],
      "text/plain": [
       "\u001b[32mExpected Improvement: \u001b[0m\u001b[1;36m-0.12406960129737854\u001b[0m\u001b[32m Actual: \u001b[0m\u001b[1;36m-0.012475628405809402\u001b[0m\n"
      ]
     },
     "metadata": {},
     "output_type": "display_data"
    },
    {
     "data": {
      "text/html": [
       "<pre style=\"white-space:pre;overflow-x:auto;line-height:normal;font-family:Menlo,'DejaVu Sans Mono',consolas,'Courier New',monospace\"><span style=\"color: #008000; text-decoration-color: #008000\">INFO: did not improve improve &lt;</span><span style=\"color: #008080; text-decoration-color: #008080; font-weight: bold\">0</span>\n",
       "</pre>\n"
      ],
      "text/plain": [
       "\u001b[32mINFO: did not improve improve <\u001b[0m\u001b[1;36m0\u001b[0m\n"
      ]
     },
     "metadata": {},
     "output_type": "display_data"
    },
    {
     "data": {
      "text/html": [
       "<pre style=\"white-space:pre;overflow-x:auto;line-height:normal;font-family:Menlo,'DejaVu Sans Mono',consolas,'Courier New',monospace\"><span style=\"color: #008000; text-decoration-color: #008000\">Expected Improvement: </span><span style=\"color: #008080; text-decoration-color: #008080; font-weight: bold\">-0.12406960129737854</span><span style=\"color: #008000; text-decoration-color: #008000\"> Actual: </span><span style=\"color: #008080; text-decoration-color: #008080; font-weight: bold\">-0.010110732167959213</span>\n",
       "</pre>\n"
      ],
      "text/plain": [
       "\u001b[32mExpected Improvement: \u001b[0m\u001b[1;36m-0.12406960129737854\u001b[0m\u001b[32m Actual: \u001b[0m\u001b[1;36m-0.010110732167959213\u001b[0m\n"
      ]
     },
     "metadata": {},
     "output_type": "display_data"
    },
    {
     "data": {
      "text/html": [
       "<pre style=\"white-space:pre;overflow-x:auto;line-height:normal;font-family:Menlo,'DejaVu Sans Mono',consolas,'Courier New',monospace\"><span style=\"color: #008000; text-decoration-color: #008000\">INFO: did not improve improve &lt;</span><span style=\"color: #008080; text-decoration-color: #008080; font-weight: bold\">0</span>\n",
       "</pre>\n"
      ],
      "text/plain": [
       "\u001b[32mINFO: did not improve improve <\u001b[0m\u001b[1;36m0\u001b[0m\n"
      ]
     },
     "metadata": {},
     "output_type": "display_data"
    },
    {
     "data": {
      "text/html": [
       "<pre style=\"white-space:pre;overflow-x:auto;line-height:normal;font-family:Menlo,'DejaVu Sans Mono',consolas,'Courier New',monospace\"><span style=\"color: #008000; text-decoration-color: #008000\">Expected Improvement: </span><span style=\"color: #008080; text-decoration-color: #008080; font-weight: bold\">-0.12406960129737854</span><span style=\"color: #008000; text-decoration-color: #008000\"> Actual: </span><span style=\"color: #008080; text-decoration-color: #008080; font-weight: bold\">-0.008172574453055859</span>\n",
       "</pre>\n"
      ],
      "text/plain": [
       "\u001b[32mExpected Improvement: \u001b[0m\u001b[1;36m-0.12406960129737854\u001b[0m\u001b[32m Actual: \u001b[0m\u001b[1;36m-0.008172574453055859\u001b[0m\n"
      ]
     },
     "metadata": {},
     "output_type": "display_data"
    },
    {
     "data": {
      "text/html": [
       "<pre style=\"white-space:pre;overflow-x:auto;line-height:normal;font-family:Menlo,'DejaVu Sans Mono',consolas,'Courier New',monospace\"><span style=\"color: #008000; text-decoration-color: #008000\">INFO: did not improve improve &lt;</span><span style=\"color: #008080; text-decoration-color: #008080; font-weight: bold\">0</span>\n",
       "</pre>\n"
      ],
      "text/plain": [
       "\u001b[32mINFO: did not improve improve <\u001b[0m\u001b[1;36m0\u001b[0m\n"
      ]
     },
     "metadata": {},
     "output_type": "display_data"
    },
    {
     "data": {
      "text/html": [
       "<pre style=\"white-space:pre;overflow-x:auto;line-height:normal;font-family:Menlo,'DejaVu Sans Mono',consolas,'Courier New',monospace\"><span style=\"color: #008000; text-decoration-color: #008000\">Expected Improvement: </span><span style=\"color: #008080; text-decoration-color: #008080; font-weight: bold\">-0.12406960129737854</span><span style=\"color: #008000; text-decoration-color: #008000\"> Actual: </span><span style=\"color: #008080; text-decoration-color: #008080; font-weight: bold\">-0.006596415303647518</span>\n",
       "</pre>\n"
      ],
      "text/plain": [
       "\u001b[32mExpected Improvement: \u001b[0m\u001b[1;36m-0.12406960129737854\u001b[0m\u001b[32m Actual: \u001b[0m\u001b[1;36m-0.006596415303647518\u001b[0m\n"
      ]
     },
     "metadata": {},
     "output_type": "display_data"
    },
    {
     "data": {
      "text/html": [
       "<pre style=\"white-space:pre;overflow-x:auto;line-height:normal;font-family:Menlo,'DejaVu Sans Mono',consolas,'Courier New',monospace\"><span style=\"color: #008000; text-decoration-color: #008000\">INFO: did not improve improve &lt;</span><span style=\"color: #008080; text-decoration-color: #008080; font-weight: bold\">0</span>\n",
       "</pre>\n"
      ],
      "text/plain": [
       "\u001b[32mINFO: did not improve improve <\u001b[0m\u001b[1;36m0\u001b[0m\n"
      ]
     },
     "metadata": {},
     "output_type": "display_data"
    },
    {
     "data": {
      "text/html": [
       "<pre style=\"white-space:pre;overflow-x:auto;line-height:normal;font-family:Menlo,'DejaVu Sans Mono',consolas,'Courier New',monospace\"><span style=\"color: #008000; text-decoration-color: #008000\">Expected Improvement: </span><span style=\"color: #008080; text-decoration-color: #008080; font-weight: bold\">-0.12406960129737854</span><span style=\"color: #008000; text-decoration-color: #008000\"> Actual: </span><span style=\"color: #008080; text-decoration-color: #008080; font-weight: bold\">-0.005316817667335272</span>\n",
       "</pre>\n"
      ],
      "text/plain": [
       "\u001b[32mExpected Improvement: \u001b[0m\u001b[1;36m-0.12406960129737854\u001b[0m\u001b[32m Actual: \u001b[0m\u001b[1;36m-0.005316817667335272\u001b[0m\n"
      ]
     },
     "metadata": {},
     "output_type": "display_data"
    },
    {
     "data": {
      "text/html": [
       "<pre style=\"white-space:pre;overflow-x:auto;line-height:normal;font-family:Menlo,'DejaVu Sans Mono',consolas,'Courier New',monospace\"><span style=\"color: #008000; text-decoration-color: #008000\">INFO: did not improve improve &lt;</span><span style=\"color: #008080; text-decoration-color: #008080; font-weight: bold\">0</span>\n",
       "</pre>\n"
      ],
      "text/plain": [
       "\u001b[32mINFO: did not improve improve <\u001b[0m\u001b[1;36m0\u001b[0m\n"
      ]
     },
     "metadata": {},
     "output_type": "display_data"
    },
    {
     "data": {
      "text/html": [
       "<pre style=\"white-space:pre;overflow-x:auto;line-height:normal;font-family:Menlo,'DejaVu Sans Mono',consolas,'Courier New',monospace\"><span style=\"color: #008000; text-decoration-color: #008000\">Expected Improvement: </span><span style=\"color: #008080; text-decoration-color: #008080; font-weight: bold\">-0.12406960129737854</span><span style=\"color: #008000; text-decoration-color: #008000\"> Actual: </span><span style=\"color: #008080; text-decoration-color: #008080; font-weight: bold\">-0.004277066793292761</span>\n",
       "</pre>\n"
      ],
      "text/plain": [
       "\u001b[32mExpected Improvement: \u001b[0m\u001b[1;36m-0.12406960129737854\u001b[0m\u001b[32m Actual: \u001b[0m\u001b[1;36m-0.004277066793292761\u001b[0m\n"
      ]
     },
     "metadata": {},
     "output_type": "display_data"
    },
    {
     "data": {
      "text/html": [
       "<pre style=\"white-space:pre;overflow-x:auto;line-height:normal;font-family:Menlo,'DejaVu Sans Mono',consolas,'Courier New',monospace\"><span style=\"color: #008000; text-decoration-color: #008000\">INFO: did not improve improve &lt;</span><span style=\"color: #008080; text-decoration-color: #008080; font-weight: bold\">0</span>\n",
       "</pre>\n"
      ],
      "text/plain": [
       "\u001b[32mINFO: did not improve improve <\u001b[0m\u001b[1;36m0\u001b[0m\n"
      ]
     },
     "metadata": {},
     "output_type": "display_data"
    },
    {
     "data": {
      "text/html": [
       "<pre style=\"white-space:pre;overflow-x:auto;line-height:normal;font-family:Menlo,'DejaVu Sans Mono',consolas,'Courier New',monospace\"><span style=\"color: #008000; text-decoration-color: #008000\">Expected Improvement: </span><span style=\"color: #008080; text-decoration-color: #008080; font-weight: bold\">-0.12406960129737854</span><span style=\"color: #008000; text-decoration-color: #008000\"> Actual: </span><span style=\"color: #008080; text-decoration-color: #008080; font-weight: bold\">-0.0034362468868494034</span>\n",
       "</pre>\n"
      ],
      "text/plain": [
       "\u001b[32mExpected Improvement: \u001b[0m\u001b[1;36m-0.12406960129737854\u001b[0m\u001b[32m Actual: \u001b[0m\u001b[1;36m-0.0034362468868494034\u001b[0m\n"
      ]
     },
     "metadata": {},
     "output_type": "display_data"
    },
    {
     "data": {
      "text/html": [
       "<pre style=\"white-space:pre;overflow-x:auto;line-height:normal;font-family:Menlo,'DejaVu Sans Mono',consolas,'Courier New',monospace\"><span style=\"color: #008000; text-decoration-color: #008000\">INFO: did not improve improve &lt;</span><span style=\"color: #008080; text-decoration-color: #008080; font-weight: bold\">0</span>\n",
       "</pre>\n"
      ],
      "text/plain": [
       "\u001b[32mINFO: did not improve improve <\u001b[0m\u001b[1;36m0\u001b[0m\n"
      ]
     },
     "metadata": {},
     "output_type": "display_data"
    },
    {
     "data": {
      "text/html": [
       "<pre style=\"white-space:pre;overflow-x:auto;line-height:normal;font-family:Menlo,'DejaVu Sans Mono',consolas,'Courier New',monospace\"><span style=\"color: #008000; text-decoration-color: #008000\">Expected Improvement: </span><span style=\"color: #008080; text-decoration-color: #008080; font-weight: bold\">-0.12406960129737854</span><span style=\"color: #008000; text-decoration-color: #008000\"> Actual: </span><span style=\"color: #008080; text-decoration-color: #008080; font-weight: bold\">-0.002757994458079338</span>\n",
       "</pre>\n"
      ],
      "text/plain": [
       "\u001b[32mExpected Improvement: \u001b[0m\u001b[1;36m-0.12406960129737854\u001b[0m\u001b[32m Actual: \u001b[0m\u001b[1;36m-0.002757994458079338\u001b[0m\n"
      ]
     },
     "metadata": {},
     "output_type": "display_data"
    },
    {
     "data": {
      "text/html": [
       "<pre style=\"white-space:pre;overflow-x:auto;line-height:normal;font-family:Menlo,'DejaVu Sans Mono',consolas,'Courier New',monospace\"><span style=\"color: #008000; text-decoration-color: #008000\">INFO: did not improve improve &lt;</span><span style=\"color: #008080; text-decoration-color: #008080; font-weight: bold\">0</span>\n",
       "</pre>\n"
      ],
      "text/plain": [
       "\u001b[32mINFO: did not improve improve <\u001b[0m\u001b[1;36m0\u001b[0m\n"
      ]
     },
     "metadata": {},
     "output_type": "display_data"
    },
    {
     "data": {
      "text/html": [
       "<pre style=\"white-space:pre;overflow-x:auto;line-height:normal;font-family:Menlo,'DejaVu Sans Mono',consolas,'Courier New',monospace\"><span style=\"color: #008000; text-decoration-color: #008000\">Expected Improvement: </span><span style=\"color: #008080; text-decoration-color: #008080; font-weight: bold\">-0.12406960129737854</span><span style=\"color: #008000; text-decoration-color: #008000\"> Actual: </span><span style=\"color: #008080; text-decoration-color: #008080; font-weight: bold\">-0.002212284365668893</span>\n",
       "</pre>\n"
      ],
      "text/plain": [
       "\u001b[32mExpected Improvement: \u001b[0m\u001b[1;36m-0.12406960129737854\u001b[0m\u001b[32m Actual: \u001b[0m\u001b[1;36m-0.002212284365668893\u001b[0m\n"
      ]
     },
     "metadata": {},
     "output_type": "display_data"
    },
    {
     "data": {
      "text/html": [
       "<pre style=\"white-space:pre;overflow-x:auto;line-height:normal;font-family:Menlo,'DejaVu Sans Mono',consolas,'Courier New',monospace\"><span style=\"color: #008000; text-decoration-color: #008000\">INFO: did not improve improve &lt;</span><span style=\"color: #008080; text-decoration-color: #008080; font-weight: bold\">0</span>\n",
       "</pre>\n"
      ],
      "text/plain": [
       "\u001b[32mINFO: did not improve improve <\u001b[0m\u001b[1;36m0\u001b[0m\n"
      ]
     },
     "metadata": {},
     "output_type": "display_data"
    },
    {
     "data": {
      "text/html": [
       "<pre style=\"white-space:pre;overflow-x:auto;line-height:normal;font-family:Menlo,'DejaVu Sans Mono',consolas,'Courier New',monospace\"><span style=\"color: #008000; text-decoration-color: #008000\">Expected Improvement: </span><span style=\"color: #008080; text-decoration-color: #008080; font-weight: bold\">-0.12406960129737854</span><span style=\"color: #008000; text-decoration-color: #008000\"> Actual: </span><span style=\"color: #008080; text-decoration-color: #008080; font-weight: bold\">-0.0017736240988597274</span>\n",
       "</pre>\n"
      ],
      "text/plain": [
       "\u001b[32mExpected Improvement: \u001b[0m\u001b[1;36m-0.12406960129737854\u001b[0m\u001b[32m Actual: \u001b[0m\u001b[1;36m-0.0017736240988597274\u001b[0m\n"
      ]
     },
     "metadata": {},
     "output_type": "display_data"
    },
    {
     "data": {
      "text/html": [
       "<pre style=\"white-space:pre;overflow-x:auto;line-height:normal;font-family:Menlo,'DejaVu Sans Mono',consolas,'Courier New',monospace\"><span style=\"color: #008000; text-decoration-color: #008000\">INFO: did not improve improve &lt;</span><span style=\"color: #008080; text-decoration-color: #008080; font-weight: bold\">0</span>\n",
       "</pre>\n"
      ],
      "text/plain": [
       "\u001b[32mINFO: did not improve improve <\u001b[0m\u001b[1;36m0\u001b[0m\n"
      ]
     },
     "metadata": {},
     "output_type": "display_data"
    },
    {
     "data": {
      "text/html": [
       "<pre style=\"white-space:pre;overflow-x:auto;line-height:normal;font-family:Menlo,'DejaVu Sans Mono',consolas,'Courier New',monospace\"><span style=\"color: #008000; text-decoration-color: #008000\">INFO: no suitable step found</span><span style=\"color: #808000; text-decoration-color: #808000\">...</span>\n",
       "</pre>\n"
      ],
      "text/plain": [
       "\u001b[32mINFO: no suitable step found\u001b[0m\u001b[33m...\u001b[0m\n"
      ]
     },
     "metadata": {},
     "output_type": "display_data"
    },
    {
     "data": {
      "text/html": [
       "<pre style=\"white-space:pre;overflow-x:auto;line-height:normal;font-family:Menlo,'DejaVu Sans Mono',consolas,'Courier New',monospace\">┏━━━━━━━━━━━━━━━━━━━━━━━━━━━━━━━┳━━━━━━━━━━━━━━━━━━━━━━━━┓\n",
       "┃<span style=\"font-weight: bold\"> Metrics                       </span>┃<span style=\"font-weight: bold\"> Value                  </span>┃\n",
       "┡━━━━━━━━━━━━━━━━━━━━━━━━━━━━━━━╇━━━━━━━━━━━━━━━━━━━━━━━━┩\n",
       "│ Metrics/EpRet                 │ 15.465091705322266     │\n",
       "│ Metrics/EpCost                │ 23.283674240112305     │\n",
       "│ Metrics/EpLen                 │ 6.0                    │\n",
       "│ Train/Epoch                   │ 27.0                   │\n",
       "│ Train/Entropy                 │ 0.8881626129150391     │\n",
       "│ Train/KL                      │ 6.023122978149331e-08  │\n",
       "│ Train/StopIter                │ 10.0                   │\n",
       "│ Train/PolicyRatio/Mean        │ 1.0011168718338013     │\n",
       "│ Train/PolicyRatio/Min         │ 1.0011168718338013     │\n",
       "│ Train/PolicyRatio/Max         │ 1.0011168718338013     │\n",
       "│ Train/PolicyRatio/Std         │ 0.0015418262919411063  │\n",
       "│ Train/LR                      │ 0.0                    │\n",
       "│ Train/PolicyStd               │ 0.5907717347145081     │\n",
       "│ TotalEnvSteps                 │ 560000.0               │\n",
       "│ Loss/Loss_pi                  │ 0.019535427913069725   │\n",
       "│ Loss/Loss_pi/Delta            │ -0.127056697383523     │\n",
       "│ Value/Adv                     │ -5.340575981449547e-09 │\n",
       "│ Loss/Loss_reward_critic       │ 386.43402099609375     │\n",
       "│ Loss/Loss_reward_critic/Delta │ 335.7760887145996      │\n",
       "│ Value/reward                  │ 4.264432907104492      │\n",
       "│ Loss/Loss_cost_critic         │ 407.0556945800781      │\n",
       "│ Loss/Loss_cost_critic/Delta   │ 116.20782470703125     │\n",
       "│ Value/cost                    │ 8.402867317199707      │\n",
       "│ Time/Total                    │ 1632.1005859375        │\n",
       "│ Time/Rollout                  │ 28.876392364501953     │\n",
       "│ Time/Update                   │ 32.217098236083984     │\n",
       "│ Time/Epoch                    │ 61.09349060058594      │\n",
       "│ Time/FPS                      │ 327.36712646484375     │\n",
       "│ Env/Success_counts            │ nan                    │\n",
       "│ Misc/Alpha                    │ 0.1696629524230957     │\n",
       "│ Misc/FinalStepNorm            │ 0.0                    │\n",
       "│ Misc/gradient_norm            │ 3.582294225692749      │\n",
       "│ Misc/xHx                      │ 0.6947937607765198     │\n",
       "│ Misc/H_inv_g                  │ 0.9597365856170654     │\n",
       "│ Misc/AcceptanceStep           │ 0.0                    │\n",
       "│ Misc/cost_gradient_norm       │ 175.67259216308594     │\n",
       "│ Misc/A                        │ 0.5086835622787476     │\n",
       "│ Misc/B                        │ 0.013904864899814129   │\n",
       "│ Misc/q                        │ 0.6947937607765198     │\n",
       "│ Misc/r                        │ 9.484034538269043      │\n",
       "│ Misc/s                        │ 483.29925537109375     │\n",
       "│ Misc/Lambda_star              │ -5.525777816772461     │\n",
       "│ Misc/Nu_star                  │ 0.0                    │\n",
       "│ Misc/OptimCase                │ 2.0                    │\n",
       "└───────────────────────────────┴────────────────────────┘\n",
       "</pre>\n"
      ],
      "text/plain": [
       "┏━━━━━━━━━━━━━━━━━━━━━━━━━━━━━━━┳━━━━━━━━━━━━━━━━━━━━━━━━┓\n",
       "┃\u001b[1m \u001b[0m\u001b[1mMetrics                      \u001b[0m\u001b[1m \u001b[0m┃\u001b[1m \u001b[0m\u001b[1mValue                 \u001b[0m\u001b[1m \u001b[0m┃\n",
       "┡━━━━━━━━━━━━━━━━━━━━━━━━━━━━━━━╇━━━━━━━━━━━━━━━━━━━━━━━━┩\n",
       "│ Metrics/EpRet                 │ 15.465091705322266     │\n",
       "│ Metrics/EpCost                │ 23.283674240112305     │\n",
       "│ Metrics/EpLen                 │ 6.0                    │\n",
       "│ Train/Epoch                   │ 27.0                   │\n",
       "│ Train/Entropy                 │ 0.8881626129150391     │\n",
       "│ Train/KL                      │ 6.023122978149331e-08  │\n",
       "│ Train/StopIter                │ 10.0                   │\n",
       "│ Train/PolicyRatio/Mean        │ 1.0011168718338013     │\n",
       "│ Train/PolicyRatio/Min         │ 1.0011168718338013     │\n",
       "│ Train/PolicyRatio/Max         │ 1.0011168718338013     │\n",
       "│ Train/PolicyRatio/Std         │ 0.0015418262919411063  │\n",
       "│ Train/LR                      │ 0.0                    │\n",
       "│ Train/PolicyStd               │ 0.5907717347145081     │\n",
       "│ TotalEnvSteps                 │ 560000.0               │\n",
       "│ Loss/Loss_pi                  │ 0.019535427913069725   │\n",
       "│ Loss/Loss_pi/Delta            │ -0.127056697383523     │\n",
       "│ Value/Adv                     │ -5.340575981449547e-09 │\n",
       "│ Loss/Loss_reward_critic       │ 386.43402099609375     │\n",
       "│ Loss/Loss_reward_critic/Delta │ 335.7760887145996      │\n",
       "│ Value/reward                  │ 4.264432907104492      │\n",
       "│ Loss/Loss_cost_critic         │ 407.0556945800781      │\n",
       "│ Loss/Loss_cost_critic/Delta   │ 116.20782470703125     │\n",
       "│ Value/cost                    │ 8.402867317199707      │\n",
       "│ Time/Total                    │ 1632.1005859375        │\n",
       "│ Time/Rollout                  │ 28.876392364501953     │\n",
       "│ Time/Update                   │ 32.217098236083984     │\n",
       "│ Time/Epoch                    │ 61.09349060058594      │\n",
       "│ Time/FPS                      │ 327.36712646484375     │\n",
       "│ Env/Success_counts            │ nan                    │\n",
       "│ Misc/Alpha                    │ 0.1696629524230957     │\n",
       "│ Misc/FinalStepNorm            │ 0.0                    │\n",
       "│ Misc/gradient_norm            │ 3.582294225692749      │\n",
       "│ Misc/xHx                      │ 0.6947937607765198     │\n",
       "│ Misc/H_inv_g                  │ 0.9597365856170654     │\n",
       "│ Misc/AcceptanceStep           │ 0.0                    │\n",
       "│ Misc/cost_gradient_norm       │ 175.67259216308594     │\n",
       "│ Misc/A                        │ 0.5086835622787476     │\n",
       "│ Misc/B                        │ 0.013904864899814129   │\n",
       "│ Misc/q                        │ 0.6947937607765198     │\n",
       "│ Misc/r                        │ 9.484034538269043      │\n",
       "│ Misc/s                        │ 483.29925537109375     │\n",
       "│ Misc/Lambda_star              │ -5.525777816772461     │\n",
       "│ Misc/Nu_star                  │ 0.0                    │\n",
       "│ Misc/OptimCase                │ 2.0                    │\n",
       "└───────────────────────────────┴────────────────────────┘\n"
      ]
     },
     "metadata": {},
     "output_type": "display_data"
    },
    {
     "data": {
      "text/html": [
       "<pre style=\"white-space:pre;overflow-x:auto;line-height:normal;font-family:Menlo,'DejaVu Sans Mono',consolas,'Courier New',monospace\"><span style=\"color: #008000; text-decoration-color: #008000\">Warning: trajectory cut off when rollout by epoch at </span><span style=\"color: #008080; text-decoration-color: #008080; font-weight: bold\">2.0</span><span style=\"color: #008000; text-decoration-color: #008000\"> steps.</span>\n",
       "</pre>\n"
      ],
      "text/plain": [
       "\u001b[32mWarning: trajectory cut off when rollout by epoch at \u001b[0m\u001b[1;36m2.0\u001b[0m\u001b[32m steps.\u001b[0m\n"
      ]
     },
     "metadata": {},
     "output_type": "display_data"
    },
    {
     "data": {
      "text/html": [
       "<pre style=\"white-space:pre;overflow-x:auto;line-height:normal;font-family:Menlo,'DejaVu Sans Mono',consolas,'Courier New',monospace\"></pre>\n"
      ],
      "text/plain": []
     },
     "metadata": {},
     "output_type": "display_data"
    },
    {
     "data": {
      "text/html": [
       "<pre style=\"white-space:pre;overflow-x:auto;line-height:normal;font-family:Menlo,'DejaVu Sans Mono',consolas,'Courier New',monospace\"><span style=\"color: #808000; text-decoration-color: #808000\">Alert! Attempting feasible recovery!</span>\n",
       "</pre>\n"
      ],
      "text/plain": [
       "\u001b[33mAlert! Attempting feasible recovery!\u001b[0m\n"
      ]
     },
     "metadata": {},
     "output_type": "display_data"
    },
    {
     "data": {
      "text/html": [
       "<pre style=\"white-space:pre;overflow-x:auto;line-height:normal;font-family:Menlo,'DejaVu Sans Mono',consolas,'Courier New',monospace\"><span style=\"color: #008000; text-decoration-color: #008000\">Expected Improvement: </span><span style=\"color: #008080; text-decoration-color: #008080; font-weight: bold\">0.07285209745168686</span><span style=\"color: #008000; text-decoration-color: #008000\"> Actual: </span><span style=\"color: #008080; text-decoration-color: #008080; font-weight: bold\">0.1140984445810318</span>\n",
       "</pre>\n"
      ],
      "text/plain": [
       "\u001b[32mExpected Improvement: \u001b[0m\u001b[1;36m0.07285209745168686\u001b[0m\u001b[32m Actual: \u001b[0m\u001b[1;36m0.1140984445810318\u001b[0m\n"
      ]
     },
     "metadata": {},
     "output_type": "display_data"
    },
    {
     "data": {
      "text/html": [
       "<pre style=\"white-space:pre;overflow-x:auto;line-height:normal;font-family:Menlo,'DejaVu Sans Mono',consolas,'Courier New',monospace\"><span style=\"color: #008000; text-decoration-color: #008000\">INFO: no improve </span><span style=\"color: #008080; text-decoration-color: #008080; font-weight: bold\">0.03522305190563202</span><span style=\"color: #008000; text-decoration-color: #008000\"> &gt; </span><span style=\"color: #008080; text-decoration-color: #008080; font-weight: bold\">0</span>\n",
       "</pre>\n"
      ],
      "text/plain": [
       "\u001b[32mINFO: no improve \u001b[0m\u001b[1;36m0.03522305190563202\u001b[0m\u001b[32m > \u001b[0m\u001b[1;36m0\u001b[0m\n"
      ]
     },
     "metadata": {},
     "output_type": "display_data"
    },
    {
     "data": {
      "text/html": [
       "<pre style=\"white-space:pre;overflow-x:auto;line-height:normal;font-family:Menlo,'DejaVu Sans Mono',consolas,'Courier New',monospace\"><span style=\"color: #008000; text-decoration-color: #008000\">Expected Improvement: </span><span style=\"color: #008080; text-decoration-color: #008080; font-weight: bold\">0.07285209745168686</span><span style=\"color: #008000; text-decoration-color: #008000\"> Actual: </span><span style=\"color: #008080; text-decoration-color: #008080; font-weight: bold\">0.08371490240097046</span>\n",
       "</pre>\n"
      ],
      "text/plain": [
       "\u001b[32mExpected Improvement: \u001b[0m\u001b[1;36m0.07285209745168686\u001b[0m\u001b[32m Actual: \u001b[0m\u001b[1;36m0.08371490240097046\u001b[0m\n"
      ]
     },
     "metadata": {},
     "output_type": "display_data"
    },
    {
     "data": {
      "text/html": [
       "<pre style=\"white-space:pre;overflow-x:auto;line-height:normal;font-family:Menlo,'DejaVu Sans Mono',consolas,'Courier New',monospace\"><span style=\"color: #008000; text-decoration-color: #008000\">Accept step at </span><span style=\"color: #808000; text-decoration-color: #808000\">i</span><span style=\"color: #008000; text-decoration-color: #008000\">=</span><span style=\"color: #008080; text-decoration-color: #008080; font-weight: bold\">2</span>\n",
       "</pre>\n"
      ],
      "text/plain": [
       "\u001b[32mAccept step at \u001b[0m\u001b[33mi\u001b[0m\u001b[32m=\u001b[0m\u001b[1;36m2\u001b[0m\n"
      ]
     },
     "metadata": {},
     "output_type": "display_data"
    },
    {
     "data": {
      "text/html": [
       "<pre style=\"white-space:pre;overflow-x:auto;line-height:normal;font-family:Menlo,'DejaVu Sans Mono',consolas,'Courier New',monospace\">┏━━━━━━━━━━━━━━━━━━━━━━━━━━━━━━━┳━━━━━━━━━━━━━━━━━━━━━━━━┓\n",
       "┃<span style=\"font-weight: bold\"> Metrics                       </span>┃<span style=\"font-weight: bold\"> Value                  </span>┃\n",
       "┡━━━━━━━━━━━━━━━━━━━━━━━━━━━━━━━╇━━━━━━━━━━━━━━━━━━━━━━━━┩\n",
       "│ Metrics/EpRet                 │ 12.384603500366211     │\n",
       "│ Metrics/EpCost                │ 27.478740692138672     │\n",
       "│ Metrics/EpLen                 │ 6.0                    │\n",
       "│ Train/Epoch                   │ 28.0                   │\n",
       "│ Train/Entropy                 │ 0.8856966495513916     │\n",
       "│ Train/KL                      │ 5.9900168707827106e-05 │\n",
       "│ Train/StopIter                │ 10.0                   │\n",
       "│ Train/PolicyRatio/Mean        │ 1.001250982284546      │\n",
       "│ Train/PolicyRatio/Min         │ 1.001250982284546      │\n",
       "│ Train/PolicyRatio/Max         │ 1.001250982284546      │\n",
       "│ Train/PolicyRatio/Std         │ 0.0008076997473835945  │\n",
       "│ Train/LR                      │ 0.0                    │\n",
       "│ Train/PolicyStd               │ 0.5894798636436462     │\n",
       "│ TotalEnvSteps                 │ 580000.0               │\n",
       "│ Loss/Loss_pi                  │ -0.07405376434326172   │\n",
       "│ Loss/Loss_pi/Delta            │ -0.09358919225633144   │\n",
       "│ Value/Adv                     │ 1.9073485846288207e-10 │\n",
       "│ Loss/Loss_reward_critic       │ 456.7114562988281      │\n",
       "│ Loss/Loss_reward_critic/Delta │ 70.27743530273438      │\n",
       "│ Value/reward                  │ 7.54762601852417       │\n",
       "│ Loss/Loss_cost_critic         │ 402.287841796875       │\n",
       "│ Loss/Loss_cost_critic/Delta   │ -4.767852783203125     │\n",
       "│ Value/cost                    │ 13.721275329589844     │\n",
       "│ Time/Total                    │ 1690.14892578125       │\n",
       "│ Time/Rollout                  │ 30.48706817626953      │\n",
       "│ Time/Update                   │ 27.515239715576172     │\n",
       "│ Time/Epoch                    │ 58.0023078918457       │\n",
       "│ Time/FPS                      │ 344.8138732910156      │\n",
       "│ Env/Success_counts            │ nan                    │\n",
       "│ Misc/Alpha                    │ 0.14292526245117188    │\n",
       "│ Misc/FinalStepNorm            │ 0.08939454704523087    │\n",
       "│ Misc/gradient_norm            │ 3.3664517402648926     │\n",
       "│ Misc/xHx                      │ 0.9790661334991455     │\n",
       "│ Misc/H_inv_g                  │ 1.1194871664047241     │\n",
       "│ Misc/AcceptanceStep           │ 2.0                    │\n",
       "│ Misc/cost_gradient_norm       │ 188.5274658203125      │\n",
       "│ Misc/A                        │ 0.7330860495567322     │\n",
       "│ Misc/B                        │ 0.008050351403653622   │\n",
       "│ Misc/q                        │ 0.9790661334991455     │\n",
       "│ Misc/r                        │ 11.246140480041504     │\n",
       "│ Misc/s                        │ 514.17041015625        │\n",
       "│ Misc/Lambda_star              │ 9.542673110961914      │\n",
       "│ Misc/Nu_star                  │ 0.02413143962621689    │\n",
       "│ Misc/OptimCase                │ 1.0                    │\n",
       "└───────────────────────────────┴────────────────────────┘\n",
       "</pre>\n"
      ],
      "text/plain": [
       "┏━━━━━━━━━━━━━━━━━━━━━━━━━━━━━━━┳━━━━━━━━━━━━━━━━━━━━━━━━┓\n",
       "┃\u001b[1m \u001b[0m\u001b[1mMetrics                      \u001b[0m\u001b[1m \u001b[0m┃\u001b[1m \u001b[0m\u001b[1mValue                 \u001b[0m\u001b[1m \u001b[0m┃\n",
       "┡━━━━━━━━━━━━━━━━━━━━━━━━━━━━━━━╇━━━━━━━━━━━━━━━━━━━━━━━━┩\n",
       "│ Metrics/EpRet                 │ 12.384603500366211     │\n",
       "│ Metrics/EpCost                │ 27.478740692138672     │\n",
       "│ Metrics/EpLen                 │ 6.0                    │\n",
       "│ Train/Epoch                   │ 28.0                   │\n",
       "│ Train/Entropy                 │ 0.8856966495513916     │\n",
       "│ Train/KL                      │ 5.9900168707827106e-05 │\n",
       "│ Train/StopIter                │ 10.0                   │\n",
       "│ Train/PolicyRatio/Mean        │ 1.001250982284546      │\n",
       "│ Train/PolicyRatio/Min         │ 1.001250982284546      │\n",
       "│ Train/PolicyRatio/Max         │ 1.001250982284546      │\n",
       "│ Train/PolicyRatio/Std         │ 0.0008076997473835945  │\n",
       "│ Train/LR                      │ 0.0                    │\n",
       "│ Train/PolicyStd               │ 0.5894798636436462     │\n",
       "│ TotalEnvSteps                 │ 580000.0               │\n",
       "│ Loss/Loss_pi                  │ -0.07405376434326172   │\n",
       "│ Loss/Loss_pi/Delta            │ -0.09358919225633144   │\n",
       "│ Value/Adv                     │ 1.9073485846288207e-10 │\n",
       "│ Loss/Loss_reward_critic       │ 456.7114562988281      │\n",
       "│ Loss/Loss_reward_critic/Delta │ 70.27743530273438      │\n",
       "│ Value/reward                  │ 7.54762601852417       │\n",
       "│ Loss/Loss_cost_critic         │ 402.287841796875       │\n",
       "│ Loss/Loss_cost_critic/Delta   │ -4.767852783203125     │\n",
       "│ Value/cost                    │ 13.721275329589844     │\n",
       "│ Time/Total                    │ 1690.14892578125       │\n",
       "│ Time/Rollout                  │ 30.48706817626953      │\n",
       "│ Time/Update                   │ 27.515239715576172     │\n",
       "│ Time/Epoch                    │ 58.0023078918457       │\n",
       "│ Time/FPS                      │ 344.8138732910156      │\n",
       "│ Env/Success_counts            │ nan                    │\n",
       "│ Misc/Alpha                    │ 0.14292526245117188    │\n",
       "│ Misc/FinalStepNorm            │ 0.08939454704523087    │\n",
       "│ Misc/gradient_norm            │ 3.3664517402648926     │\n",
       "│ Misc/xHx                      │ 0.9790661334991455     │\n",
       "│ Misc/H_inv_g                  │ 1.1194871664047241     │\n",
       "│ Misc/AcceptanceStep           │ 2.0                    │\n",
       "│ Misc/cost_gradient_norm       │ 188.5274658203125      │\n",
       "│ Misc/A                        │ 0.7330860495567322     │\n",
       "│ Misc/B                        │ 0.008050351403653622   │\n",
       "│ Misc/q                        │ 0.9790661334991455     │\n",
       "│ Misc/r                        │ 11.246140480041504     │\n",
       "│ Misc/s                        │ 514.17041015625        │\n",
       "│ Misc/Lambda_star              │ 9.542673110961914      │\n",
       "│ Misc/Nu_star                  │ 0.02413143962621689    │\n",
       "│ Misc/OptimCase                │ 1.0                    │\n",
       "└───────────────────────────────┴────────────────────────┘\n"
      ]
     },
     "metadata": {},
     "output_type": "display_data"
    },
    {
     "data": {
      "text/html": [
       "<pre style=\"white-space:pre;overflow-x:auto;line-height:normal;font-family:Menlo,'DejaVu Sans Mono',consolas,'Courier New',monospace\"><span style=\"color: #008000; text-decoration-color: #008000\">Warning: trajectory cut off when rollout by epoch at </span><span style=\"color: #008080; text-decoration-color: #008080; font-weight: bold\">2.0</span><span style=\"color: #008000; text-decoration-color: #008000\"> steps.</span>\n",
       "</pre>\n"
      ],
      "text/plain": [
       "\u001b[32mWarning: trajectory cut off when rollout by epoch at \u001b[0m\u001b[1;36m2.0\u001b[0m\u001b[32m steps.\u001b[0m\n"
      ]
     },
     "metadata": {},
     "output_type": "display_data"
    },
    {
     "data": {
      "text/html": [
       "<pre style=\"white-space:pre;overflow-x:auto;line-height:normal;font-family:Menlo,'DejaVu Sans Mono',consolas,'Courier New',monospace\"></pre>\n"
      ],
      "text/plain": []
     },
     "metadata": {},
     "output_type": "display_data"
    },
    {
     "data": {
      "text/html": [
       "<pre style=\"white-space:pre;overflow-x:auto;line-height:normal;font-family:Menlo,'DejaVu Sans Mono',consolas,'Courier New',monospace\"><span style=\"color: #808000; text-decoration-color: #808000\">Alert! Attempting feasible recovery!</span>\n",
       "</pre>\n"
      ],
      "text/plain": [
       "\u001b[33mAlert! Attempting feasible recovery!\u001b[0m\n"
      ]
     },
     "metadata": {},
     "output_type": "display_data"
    },
    {
     "data": {
      "text/html": [
       "<pre style=\"white-space:pre;overflow-x:auto;line-height:normal;font-family:Menlo,'DejaVu Sans Mono',consolas,'Courier New',monospace\"><span style=\"color: #008000; text-decoration-color: #008000\">Expected Improvement: </span><span style=\"color: #008080; text-decoration-color: #008080; font-weight: bold\">0.16125944256782532</span><span style=\"color: #008000; text-decoration-color: #008000\"> Actual: </span><span style=\"color: #008080; text-decoration-color: #008080; font-weight: bold\">0.23337027430534363</span>\n",
       "</pre>\n"
      ],
      "text/plain": [
       "\u001b[32mExpected Improvement: \u001b[0m\u001b[1;36m0.16125944256782532\u001b[0m\u001b[32m Actual: \u001b[0m\u001b[1;36m0.23337027430534363\u001b[0m\n"
      ]
     },
     "metadata": {},
     "output_type": "display_data"
    },
    {
     "data": {
      "text/html": [
       "<pre style=\"white-space:pre;overflow-x:auto;line-height:normal;font-family:Menlo,'DejaVu Sans Mono',consolas,'Courier New',monospace\"><span style=\"color: #008000; text-decoration-color: #008000\">INFO: no improve </span><span style=\"color: #008080; text-decoration-color: #008080; font-weight: bold\">3.026197671890259</span><span style=\"color: #008000; text-decoration-color: #008000\"> &gt; </span><span style=\"color: #008080; text-decoration-color: #008080; font-weight: bold\">0</span>\n",
       "</pre>\n"
      ],
      "text/plain": [
       "\u001b[32mINFO: no improve \u001b[0m\u001b[1;36m3.026197671890259\u001b[0m\u001b[32m > \u001b[0m\u001b[1;36m0\u001b[0m\n"
      ]
     },
     "metadata": {},
     "output_type": "display_data"
    },
    {
     "data": {
      "text/html": [
       "<pre style=\"white-space:pre;overflow-x:auto;line-height:normal;font-family:Menlo,'DejaVu Sans Mono',consolas,'Courier New',monospace\"><span style=\"color: #008000; text-decoration-color: #008000\">Expected Improvement: </span><span style=\"color: #008080; text-decoration-color: #008080; font-weight: bold\">0.16125944256782532</span><span style=\"color: #008000; text-decoration-color: #008000\"> Actual: </span><span style=\"color: #008080; text-decoration-color: #008080; font-weight: bold\">0.17598621547222137</span>\n",
       "</pre>\n"
      ],
      "text/plain": [
       "\u001b[32mExpected Improvement: \u001b[0m\u001b[1;36m0.16125944256782532\u001b[0m\u001b[32m Actual: \u001b[0m\u001b[1;36m0.17598621547222137\u001b[0m\n"
      ]
     },
     "metadata": {},
     "output_type": "display_data"
    },
    {
     "data": {
      "text/html": [
       "<pre style=\"white-space:pre;overflow-x:auto;line-height:normal;font-family:Menlo,'DejaVu Sans Mono',consolas,'Courier New',monospace\"><span style=\"color: #008000; text-decoration-color: #008000\">INFO: no improve </span><span style=\"color: #008080; text-decoration-color: #008080; font-weight: bold\">2.2871785163879395</span><span style=\"color: #008000; text-decoration-color: #008000\"> &gt; </span><span style=\"color: #008080; text-decoration-color: #008080; font-weight: bold\">0</span>\n",
       "</pre>\n"
      ],
      "text/plain": [
       "\u001b[32mINFO: no improve \u001b[0m\u001b[1;36m2.2871785163879395\u001b[0m\u001b[32m > \u001b[0m\u001b[1;36m0\u001b[0m\n"
      ]
     },
     "metadata": {},
     "output_type": "display_data"
    },
    {
     "data": {
      "text/html": [
       "<pre style=\"white-space:pre;overflow-x:auto;line-height:normal;font-family:Menlo,'DejaVu Sans Mono',consolas,'Courier New',monospace\"><span style=\"color: #008000; text-decoration-color: #008000\">Expected Improvement: </span><span style=\"color: #008080; text-decoration-color: #008080; font-weight: bold\">0.16125944256782532</span><span style=\"color: #008000; text-decoration-color: #008000\"> Actual: </span><span style=\"color: #008080; text-decoration-color: #008080; font-weight: bold\">0.13334017992019653</span>\n",
       "</pre>\n"
      ],
      "text/plain": [
       "\u001b[32mExpected Improvement: \u001b[0m\u001b[1;36m0.16125944256782532\u001b[0m\u001b[32m Actual: \u001b[0m\u001b[1;36m0.13334017992019653\u001b[0m\n"
      ]
     },
     "metadata": {},
     "output_type": "display_data"
    },
    {
     "data": {
      "text/html": [
       "<pre style=\"white-space:pre;overflow-x:auto;line-height:normal;font-family:Menlo,'DejaVu Sans Mono',consolas,'Courier New',monospace\"><span style=\"color: #008000; text-decoration-color: #008000\">INFO: no improve </span><span style=\"color: #008080; text-decoration-color: #008080; font-weight: bold\">1.7459675073623657</span><span style=\"color: #008000; text-decoration-color: #008000\"> &gt; </span><span style=\"color: #008080; text-decoration-color: #008080; font-weight: bold\">0</span>\n",
       "</pre>\n"
      ],
      "text/plain": [
       "\u001b[32mINFO: no improve \u001b[0m\u001b[1;36m1.7459675073623657\u001b[0m\u001b[32m > \u001b[0m\u001b[1;36m0\u001b[0m\n"
      ]
     },
     "metadata": {},
     "output_type": "display_data"
    },
    {
     "data": {
      "text/html": [
       "<pre style=\"white-space:pre;overflow-x:auto;line-height:normal;font-family:Menlo,'DejaVu Sans Mono',consolas,'Courier New',monospace\"><span style=\"color: #008000; text-decoration-color: #008000\">Expected Improvement: </span><span style=\"color: #008080; text-decoration-color: #008080; font-weight: bold\">0.16125944256782532</span><span style=\"color: #008000; text-decoration-color: #008000\"> Actual: </span><span style=\"color: #008080; text-decoration-color: #008080; font-weight: bold\">0.101716049015522</span>\n",
       "</pre>\n"
      ],
      "text/plain": [
       "\u001b[32mExpected Improvement: \u001b[0m\u001b[1;36m0.16125944256782532\u001b[0m\u001b[32m Actual: \u001b[0m\u001b[1;36m0.101716049015522\u001b[0m\n"
      ]
     },
     "metadata": {},
     "output_type": "display_data"
    },
    {
     "data": {
      "text/html": [
       "<pre style=\"white-space:pre;overflow-x:auto;line-height:normal;font-family:Menlo,'DejaVu Sans Mono',consolas,'Courier New',monospace\"><span style=\"color: #008000; text-decoration-color: #008000\">INFO: no improve </span><span style=\"color: #008080; text-decoration-color: #008080; font-weight: bold\">1.346229076385498</span><span style=\"color: #008000; text-decoration-color: #008000\"> &gt; </span><span style=\"color: #008080; text-decoration-color: #008080; font-weight: bold\">0</span>\n",
       "</pre>\n"
      ],
      "text/plain": [
       "\u001b[32mINFO: no improve \u001b[0m\u001b[1;36m1.346229076385498\u001b[0m\u001b[32m > \u001b[0m\u001b[1;36m0\u001b[0m\n"
      ]
     },
     "metadata": {},
     "output_type": "display_data"
    },
    {
     "data": {
      "text/html": [
       "<pre style=\"white-space:pre;overflow-x:auto;line-height:normal;font-family:Menlo,'DejaVu Sans Mono',consolas,'Courier New',monospace\"><span style=\"color: #008000; text-decoration-color: #008000\">Expected Improvement: </span><span style=\"color: #008080; text-decoration-color: #008080; font-weight: bold\">0.16125944256782532</span><span style=\"color: #008000; text-decoration-color: #008000\"> Actual: </span><span style=\"color: #008080; text-decoration-color: #008080; font-weight: bold\">0.07817594707012177</span>\n",
       "</pre>\n"
      ],
      "text/plain": [
       "\u001b[32mExpected Improvement: \u001b[0m\u001b[1;36m0.16125944256782532\u001b[0m\u001b[32m Actual: \u001b[0m\u001b[1;36m0.07817594707012177\u001b[0m\n"
      ]
     },
     "metadata": {},
     "output_type": "display_data"
    },
    {
     "data": {
      "text/html": [
       "<pre style=\"white-space:pre;overflow-x:auto;line-height:normal;font-family:Menlo,'DejaVu Sans Mono',consolas,'Courier New',monospace\"><span style=\"color: #008000; text-decoration-color: #008000\">INFO: no improve </span><span style=\"color: #008080; text-decoration-color: #008080; font-weight: bold\">1.0424866676330566</span><span style=\"color: #008000; text-decoration-color: #008000\"> &gt; </span><span style=\"color: #008080; text-decoration-color: #008080; font-weight: bold\">0</span>\n",
       "</pre>\n"
      ],
      "text/plain": [
       "\u001b[32mINFO: no improve \u001b[0m\u001b[1;36m1.0424866676330566\u001b[0m\u001b[32m > \u001b[0m\u001b[1;36m0\u001b[0m\n"
      ]
     },
     "metadata": {},
     "output_type": "display_data"
    },
    {
     "data": {
      "text/html": [
       "<pre style=\"white-space:pre;overflow-x:auto;line-height:normal;font-family:Menlo,'DejaVu Sans Mono',consolas,'Courier New',monospace\"><span style=\"color: #008000; text-decoration-color: #008000\">Expected Improvement: </span><span style=\"color: #008080; text-decoration-color: #008080; font-weight: bold\">0.16125944256782532</span><span style=\"color: #008000; text-decoration-color: #008000\"> Actual: </span><span style=\"color: #008080; text-decoration-color: #008080; font-weight: bold\">0.0605521984398365</span>\n",
       "</pre>\n"
      ],
      "text/plain": [
       "\u001b[32mExpected Improvement: \u001b[0m\u001b[1;36m0.16125944256782532\u001b[0m\u001b[32m Actual: \u001b[0m\u001b[1;36m0.0605521984398365\u001b[0m\n"
      ]
     },
     "metadata": {},
     "output_type": "display_data"
    },
    {
     "data": {
      "text/html": [
       "<pre style=\"white-space:pre;overflow-x:auto;line-height:normal;font-family:Menlo,'DejaVu Sans Mono',consolas,'Courier New',monospace\"><span style=\"color: #008000; text-decoration-color: #008000\">INFO: no improve </span><span style=\"color: #008080; text-decoration-color: #008080; font-weight: bold\">0.8124663829803467</span><span style=\"color: #008000; text-decoration-color: #008000\"> &gt; </span><span style=\"color: #008080; text-decoration-color: #008080; font-weight: bold\">0</span>\n",
       "</pre>\n"
      ],
      "text/plain": [
       "\u001b[32mINFO: no improve \u001b[0m\u001b[1;36m0.8124663829803467\u001b[0m\u001b[32m > \u001b[0m\u001b[1;36m0\u001b[0m\n"
      ]
     },
     "metadata": {},
     "output_type": "display_data"
    },
    {
     "data": {
      "text/html": [
       "<pre style=\"white-space:pre;overflow-x:auto;line-height:normal;font-family:Menlo,'DejaVu Sans Mono',consolas,'Courier New',monospace\"><span style=\"color: #008000; text-decoration-color: #008000\">Expected Improvement: </span><span style=\"color: #008080; text-decoration-color: #008080; font-weight: bold\">0.16125944256782532</span><span style=\"color: #008000; text-decoration-color: #008000\"> Actual: </span><span style=\"color: #008080; text-decoration-color: #008080; font-weight: bold\">0.04715147241950035</span>\n",
       "</pre>\n"
      ],
      "text/plain": [
       "\u001b[32mExpected Improvement: \u001b[0m\u001b[1;36m0.16125944256782532\u001b[0m\u001b[32m Actual: \u001b[0m\u001b[1;36m0.04715147241950035\u001b[0m\n"
      ]
     },
     "metadata": {},
     "output_type": "display_data"
    },
    {
     "data": {
      "text/html": [
       "<pre style=\"white-space:pre;overflow-x:auto;line-height:normal;font-family:Menlo,'DejaVu Sans Mono',consolas,'Courier New',monospace\"><span style=\"color: #008000; text-decoration-color: #008000\">INFO: no improve </span><span style=\"color: #008080; text-decoration-color: #008080; font-weight: bold\">0.6362568140029907</span><span style=\"color: #008000; text-decoration-color: #008000\"> &gt; </span><span style=\"color: #008080; text-decoration-color: #008080; font-weight: bold\">0</span>\n",
       "</pre>\n"
      ],
      "text/plain": [
       "\u001b[32mINFO: no improve \u001b[0m\u001b[1;36m0.6362568140029907\u001b[0m\u001b[32m > \u001b[0m\u001b[1;36m0\u001b[0m\n"
      ]
     },
     "metadata": {},
     "output_type": "display_data"
    },
    {
     "data": {
      "text/html": [
       "<pre style=\"white-space:pre;overflow-x:auto;line-height:normal;font-family:Menlo,'DejaVu Sans Mono',consolas,'Courier New',monospace\"><span style=\"color: #008000; text-decoration-color: #008000\">Expected Improvement: </span><span style=\"color: #008080; text-decoration-color: #008080; font-weight: bold\">0.16125944256782532</span><span style=\"color: #008000; text-decoration-color: #008000\"> Actual: </span><span style=\"color: #008080; text-decoration-color: #008080; font-weight: bold\">0.03690124675631523</span>\n",
       "</pre>\n"
      ],
      "text/plain": [
       "\u001b[32mExpected Improvement: \u001b[0m\u001b[1;36m0.16125944256782532\u001b[0m\u001b[32m Actual: \u001b[0m\u001b[1;36m0.03690124675631523\u001b[0m\n"
      ]
     },
     "metadata": {},
     "output_type": "display_data"
    },
    {
     "data": {
      "text/html": [
       "<pre style=\"white-space:pre;overflow-x:auto;line-height:normal;font-family:Menlo,'DejaVu Sans Mono',consolas,'Courier New',monospace\"><span style=\"color: #008000; text-decoration-color: #008000\">INFO: no improve </span><span style=\"color: #008080; text-decoration-color: #008080; font-weight: bold\">0.49997273087501526</span><span style=\"color: #008000; text-decoration-color: #008000\"> &gt; </span><span style=\"color: #008080; text-decoration-color: #008080; font-weight: bold\">0</span>\n",
       "</pre>\n"
      ],
      "text/plain": [
       "\u001b[32mINFO: no improve \u001b[0m\u001b[1;36m0.49997273087501526\u001b[0m\u001b[32m > \u001b[0m\u001b[1;36m0\u001b[0m\n"
      ]
     },
     "metadata": {},
     "output_type": "display_data"
    },
    {
     "data": {
      "text/html": [
       "<pre style=\"white-space:pre;overflow-x:auto;line-height:normal;font-family:Menlo,'DejaVu Sans Mono',consolas,'Courier New',monospace\"><span style=\"color: #008000; text-decoration-color: #008000\">Expected Improvement: </span><span style=\"color: #008080; text-decoration-color: #008080; font-weight: bold\">0.16125944256782532</span><span style=\"color: #008000; text-decoration-color: #008000\"> Actual: </span><span style=\"color: #008080; text-decoration-color: #008080; font-weight: bold\">0.02900395728647709</span>\n",
       "</pre>\n"
      ],
      "text/plain": [
       "\u001b[32mExpected Improvement: \u001b[0m\u001b[1;36m0.16125944256782532\u001b[0m\u001b[32m Actual: \u001b[0m\u001b[1;36m0.02900395728647709\u001b[0m\n"
      ]
     },
     "metadata": {},
     "output_type": "display_data"
    },
    {
     "data": {
      "text/html": [
       "<pre style=\"white-space:pre;overflow-x:auto;line-height:normal;font-family:Menlo,'DejaVu Sans Mono',consolas,'Courier New',monospace\"><span style=\"color: #008000; text-decoration-color: #008000\">INFO: no improve </span><span style=\"color: #008080; text-decoration-color: #008080; font-weight: bold\">0.3942435681819916</span><span style=\"color: #008000; text-decoration-color: #008000\"> &gt; </span><span style=\"color: #008080; text-decoration-color: #008080; font-weight: bold\">0</span>\n",
       "</pre>\n"
      ],
      "text/plain": [
       "\u001b[32mINFO: no improve \u001b[0m\u001b[1;36m0.3942435681819916\u001b[0m\u001b[32m > \u001b[0m\u001b[1;36m0\u001b[0m\n"
      ]
     },
     "metadata": {},
     "output_type": "display_data"
    },
    {
     "data": {
      "text/html": [
       "<pre style=\"white-space:pre;overflow-x:auto;line-height:normal;font-family:Menlo,'DejaVu Sans Mono',consolas,'Courier New',monospace\"><span style=\"color: #008000; text-decoration-color: #008000\">Expected Improvement: </span><span style=\"color: #008080; text-decoration-color: #008080; font-weight: bold\">0.16125944256782532</span><span style=\"color: #008000; text-decoration-color: #008000\"> Actual: </span><span style=\"color: #008080; text-decoration-color: #008080; font-weight: bold\">0.02287871763110161</span>\n",
       "</pre>\n"
      ],
      "text/plain": [
       "\u001b[32mExpected Improvement: \u001b[0m\u001b[1;36m0.16125944256782532\u001b[0m\u001b[32m Actual: \u001b[0m\u001b[1;36m0.02287871763110161\u001b[0m\n"
      ]
     },
     "metadata": {},
     "output_type": "display_data"
    },
    {
     "data": {
      "text/html": [
       "<pre style=\"white-space:pre;overflow-x:auto;line-height:normal;font-family:Menlo,'DejaVu Sans Mono',consolas,'Courier New',monospace\"><span style=\"color: #008000; text-decoration-color: #008000\">INFO: no improve </span><span style=\"color: #008080; text-decoration-color: #008080; font-weight: bold\">0.31186190247535706</span><span style=\"color: #008000; text-decoration-color: #008000\"> &gt; </span><span style=\"color: #008080; text-decoration-color: #008080; font-weight: bold\">0</span>\n",
       "</pre>\n"
      ],
      "text/plain": [
       "\u001b[32mINFO: no improve \u001b[0m\u001b[1;36m0.31186190247535706\u001b[0m\u001b[32m > \u001b[0m\u001b[1;36m0\u001b[0m\n"
      ]
     },
     "metadata": {},
     "output_type": "display_data"
    },
    {
     "data": {
      "text/html": [
       "<pre style=\"white-space:pre;overflow-x:auto;line-height:normal;font-family:Menlo,'DejaVu Sans Mono',consolas,'Courier New',monospace\"><span style=\"color: #008000; text-decoration-color: #008000\">Expected Improvement: </span><span style=\"color: #008080; text-decoration-color: #008080; font-weight: bold\">0.16125944256782532</span><span style=\"color: #008000; text-decoration-color: #008000\"> Actual: </span><span style=\"color: #008080; text-decoration-color: #008080; font-weight: bold\">0.018098223954439163</span>\n",
       "</pre>\n"
      ],
      "text/plain": [
       "\u001b[32mExpected Improvement: \u001b[0m\u001b[1;36m0.16125944256782532\u001b[0m\u001b[32m Actual: \u001b[0m\u001b[1;36m0.018098223954439163\u001b[0m\n"
      ]
     },
     "metadata": {},
     "output_type": "display_data"
    },
    {
     "data": {
      "text/html": [
       "<pre style=\"white-space:pre;overflow-x:auto;line-height:normal;font-family:Menlo,'DejaVu Sans Mono',consolas,'Courier New',monospace\"><span style=\"color: #008000; text-decoration-color: #008000\">INFO: no improve </span><span style=\"color: #008080; text-decoration-color: #008080; font-weight: bold\">0.24729904532432556</span><span style=\"color: #008000; text-decoration-color: #008000\"> &gt; </span><span style=\"color: #008080; text-decoration-color: #008080; font-weight: bold\">0</span>\n",
       "</pre>\n"
      ],
      "text/plain": [
       "\u001b[32mINFO: no improve \u001b[0m\u001b[1;36m0.24729904532432556\u001b[0m\u001b[32m > \u001b[0m\u001b[1;36m0\u001b[0m\n"
      ]
     },
     "metadata": {},
     "output_type": "display_data"
    },
    {
     "data": {
      "text/html": [
       "<pre style=\"white-space:pre;overflow-x:auto;line-height:normal;font-family:Menlo,'DejaVu Sans Mono',consolas,'Courier New',monospace\"><span style=\"color: #008000; text-decoration-color: #008000\">Expected Improvement: </span><span style=\"color: #008080; text-decoration-color: #008080; font-weight: bold\">0.16125944256782532</span><span style=\"color: #008000; text-decoration-color: #008000\"> Actual: </span><span style=\"color: #008080; text-decoration-color: #008080; font-weight: bold\">0.014346474781632423</span>\n",
       "</pre>\n"
      ],
      "text/plain": [
       "\u001b[32mExpected Improvement: \u001b[0m\u001b[1;36m0.16125944256782532\u001b[0m\u001b[32m Actual: \u001b[0m\u001b[1;36m0.014346474781632423\u001b[0m\n"
      ]
     },
     "metadata": {},
     "output_type": "display_data"
    },
    {
     "data": {
      "text/html": [
       "<pre style=\"white-space:pre;overflow-x:auto;line-height:normal;font-family:Menlo,'DejaVu Sans Mono',consolas,'Courier New',monospace\"><span style=\"color: #008000; text-decoration-color: #008000\">INFO: no improve </span><span style=\"color: #008080; text-decoration-color: #008080; font-weight: bold\">0.19639067351818085</span><span style=\"color: #008000; text-decoration-color: #008000\"> &gt; </span><span style=\"color: #008080; text-decoration-color: #008080; font-weight: bold\">0</span>\n",
       "</pre>\n"
      ],
      "text/plain": [
       "\u001b[32mINFO: no improve \u001b[0m\u001b[1;36m0.19639067351818085\u001b[0m\u001b[32m > \u001b[0m\u001b[1;36m0\u001b[0m\n"
      ]
     },
     "metadata": {},
     "output_type": "display_data"
    },
    {
     "data": {
      "text/html": [
       "<pre style=\"white-space:pre;overflow-x:auto;line-height:normal;font-family:Menlo,'DejaVu Sans Mono',consolas,'Courier New',monospace\"><span style=\"color: #008000; text-decoration-color: #008000\">Expected Improvement: </span><span style=\"color: #008080; text-decoration-color: #008080; font-weight: bold\">0.16125944256782532</span><span style=\"color: #008000; text-decoration-color: #008000\"> Actual: </span><span style=\"color: #008080; text-decoration-color: #008080; font-weight: bold\">0.011393692344427109</span>\n",
       "</pre>\n"
      ],
      "text/plain": [
       "\u001b[32mExpected Improvement: \u001b[0m\u001b[1;36m0.16125944256782532\u001b[0m\u001b[32m Actual: \u001b[0m\u001b[1;36m0.011393692344427109\u001b[0m\n"
      ]
     },
     "metadata": {},
     "output_type": "display_data"
    },
    {
     "data": {
      "text/html": [
       "<pre style=\"white-space:pre;overflow-x:auto;line-height:normal;font-family:Menlo,'DejaVu Sans Mono',consolas,'Courier New',monospace\"><span style=\"color: #008000; text-decoration-color: #008000\">INFO: no improve </span><span style=\"color: #008080; text-decoration-color: #008080; font-weight: bold\">0.1561736762523651</span><span style=\"color: #008000; text-decoration-color: #008000\"> &gt; </span><span style=\"color: #008080; text-decoration-color: #008080; font-weight: bold\">0</span>\n",
       "</pre>\n"
      ],
      "text/plain": [
       "\u001b[32mINFO: no improve \u001b[0m\u001b[1;36m0.1561736762523651\u001b[0m\u001b[32m > \u001b[0m\u001b[1;36m0\u001b[0m\n"
      ]
     },
     "metadata": {},
     "output_type": "display_data"
    },
    {
     "data": {
      "text/html": [
       "<pre style=\"white-space:pre;overflow-x:auto;line-height:normal;font-family:Menlo,'DejaVu Sans Mono',consolas,'Courier New',monospace\"><span style=\"color: #008000; text-decoration-color: #008000\">Expected Improvement: </span><span style=\"color: #008080; text-decoration-color: #008080; font-weight: bold\">0.16125944256782532</span><span style=\"color: #008000; text-decoration-color: #008000\"> Actual: </span><span style=\"color: #008080; text-decoration-color: #008080; font-weight: bold\">0.009063106030225754</span>\n",
       "</pre>\n"
      ],
      "text/plain": [
       "\u001b[32mExpected Improvement: \u001b[0m\u001b[1;36m0.16125944256782532\u001b[0m\u001b[32m Actual: \u001b[0m\u001b[1;36m0.009063106030225754\u001b[0m\n"
      ]
     },
     "metadata": {},
     "output_type": "display_data"
    },
    {
     "data": {
      "text/html": [
       "<pre style=\"white-space:pre;overflow-x:auto;line-height:normal;font-family:Menlo,'DejaVu Sans Mono',consolas,'Courier New',monospace\"><span style=\"color: #008000; text-decoration-color: #008000\">INFO: no improve </span><span style=\"color: #008080; text-decoration-color: #008080; font-weight: bold\">0.12435239553451538</span><span style=\"color: #008000; text-decoration-color: #008000\"> &gt; </span><span style=\"color: #008080; text-decoration-color: #008080; font-weight: bold\">0</span>\n",
       "</pre>\n"
      ],
      "text/plain": [
       "\u001b[32mINFO: no improve \u001b[0m\u001b[1;36m0.12435239553451538\u001b[0m\u001b[32m > \u001b[0m\u001b[1;36m0\u001b[0m\n"
      ]
     },
     "metadata": {},
     "output_type": "display_data"
    },
    {
     "data": {
      "text/html": [
       "<pre style=\"white-space:pre;overflow-x:auto;line-height:normal;font-family:Menlo,'DejaVu Sans Mono',consolas,'Courier New',monospace\"><span style=\"color: #008000; text-decoration-color: #008000\">Expected Improvement: </span><span style=\"color: #008080; text-decoration-color: #008080; font-weight: bold\">0.16125944256782532</span><span style=\"color: #008000; text-decoration-color: #008000\"> Actual: </span><span style=\"color: #008080; text-decoration-color: #008080; font-weight: bold\">0.007217459846287966</span>\n",
       "</pre>\n"
      ],
      "text/plain": [
       "\u001b[32mExpected Improvement: \u001b[0m\u001b[1;36m0.16125944256782532\u001b[0m\u001b[32m Actual: \u001b[0m\u001b[1;36m0.007217459846287966\u001b[0m\n"
      ]
     },
     "metadata": {},
     "output_type": "display_data"
    },
    {
     "data": {
      "text/html": [
       "<pre style=\"white-space:pre;overflow-x:auto;line-height:normal;font-family:Menlo,'DejaVu Sans Mono',consolas,'Courier New',monospace\"><span style=\"color: #008000; text-decoration-color: #008000\">INFO: no improve </span><span style=\"color: #008080; text-decoration-color: #008080; font-weight: bold\">0.09912923723459244</span><span style=\"color: #008000; text-decoration-color: #008000\"> &gt; </span><span style=\"color: #008080; text-decoration-color: #008080; font-weight: bold\">0</span>\n",
       "</pre>\n"
      ],
      "text/plain": [
       "\u001b[32mINFO: no improve \u001b[0m\u001b[1;36m0.09912923723459244\u001b[0m\u001b[32m > \u001b[0m\u001b[1;36m0\u001b[0m\n"
      ]
     },
     "metadata": {},
     "output_type": "display_data"
    },
    {
     "data": {
      "text/html": [
       "<pre style=\"white-space:pre;overflow-x:auto;line-height:normal;font-family:Menlo,'DejaVu Sans Mono',consolas,'Courier New',monospace\"><span style=\"color: #008000; text-decoration-color: #008000\">Expected Improvement: </span><span style=\"color: #008080; text-decoration-color: #008080; font-weight: bold\">0.16125944256782532</span><span style=\"color: #008000; text-decoration-color: #008000\"> Actual: </span><span style=\"color: #008080; text-decoration-color: #008080; font-weight: bold\">0.005752977915108204</span>\n",
       "</pre>\n"
      ],
      "text/plain": [
       "\u001b[32mExpected Improvement: \u001b[0m\u001b[1;36m0.16125944256782532\u001b[0m\u001b[32m Actual: \u001b[0m\u001b[1;36m0.005752977915108204\u001b[0m\n"
      ]
     },
     "metadata": {},
     "output_type": "display_data"
    },
    {
     "data": {
      "text/html": [
       "<pre style=\"white-space:pre;overflow-x:auto;line-height:normal;font-family:Menlo,'DejaVu Sans Mono',consolas,'Courier New',monospace\"><span style=\"color: #008000; text-decoration-color: #008000\">INFO: no improve </span><span style=\"color: #008080; text-decoration-color: #008080; font-weight: bold\">0.07906509935855865</span><span style=\"color: #008000; text-decoration-color: #008000\"> &gt; </span><span style=\"color: #008080; text-decoration-color: #008080; font-weight: bold\">0</span>\n",
       "</pre>\n"
      ],
      "text/plain": [
       "\u001b[32mINFO: no improve \u001b[0m\u001b[1;36m0.07906509935855865\u001b[0m\u001b[32m > \u001b[0m\u001b[1;36m0\u001b[0m\n"
      ]
     },
     "metadata": {},
     "output_type": "display_data"
    },
    {
     "data": {
      "text/html": [
       "<pre style=\"white-space:pre;overflow-x:auto;line-height:normal;font-family:Menlo,'DejaVu Sans Mono',consolas,'Courier New',monospace\"><span style=\"color: #008000; text-decoration-color: #008000\">Expected Improvement: </span><span style=\"color: #008080; text-decoration-color: #008080; font-weight: bold\">0.16125944256782532</span><span style=\"color: #008000; text-decoration-color: #008000\"> Actual: </span><span style=\"color: #008080; text-decoration-color: #008080; font-weight: bold\">0.004589249845594168</span>\n",
       "</pre>\n"
      ],
      "text/plain": [
       "\u001b[32mExpected Improvement: \u001b[0m\u001b[1;36m0.16125944256782532\u001b[0m\u001b[32m Actual: \u001b[0m\u001b[1;36m0.004589249845594168\u001b[0m\n"
      ]
     },
     "metadata": {},
     "output_type": "display_data"
    },
    {
     "data": {
      "text/html": [
       "<pre style=\"white-space:pre;overflow-x:auto;line-height:normal;font-family:Menlo,'DejaVu Sans Mono',consolas,'Courier New',monospace\"><span style=\"color: #008000; text-decoration-color: #008000\">INFO: no improve </span><span style=\"color: #008080; text-decoration-color: #008080; font-weight: bold\">0.06310529261827469</span><span style=\"color: #008000; text-decoration-color: #008000\"> &gt; </span><span style=\"color: #008080; text-decoration-color: #008080; font-weight: bold\">0</span>\n",
       "</pre>\n"
      ],
      "text/plain": [
       "\u001b[32mINFO: no improve \u001b[0m\u001b[1;36m0.06310529261827469\u001b[0m\u001b[32m > \u001b[0m\u001b[1;36m0\u001b[0m\n"
      ]
     },
     "metadata": {},
     "output_type": "display_data"
    },
    {
     "data": {
      "text/html": [
       "<pre style=\"white-space:pre;overflow-x:auto;line-height:normal;font-family:Menlo,'DejaVu Sans Mono',consolas,'Courier New',monospace\"><span style=\"color: #008000; text-decoration-color: #008000\">Expected Improvement: </span><span style=\"color: #008080; text-decoration-color: #008080; font-weight: bold\">0.16125944256782532</span><span style=\"color: #008000; text-decoration-color: #008000\"> Actual: </span><span style=\"color: #008080; text-decoration-color: #008080; font-weight: bold\">0.003663561074063182</span>\n",
       "</pre>\n"
      ],
      "text/plain": [
       "\u001b[32mExpected Improvement: \u001b[0m\u001b[1;36m0.16125944256782532\u001b[0m\u001b[32m Actual: \u001b[0m\u001b[1;36m0.003663561074063182\u001b[0m\n"
      ]
     },
     "metadata": {},
     "output_type": "display_data"
    },
    {
     "data": {
      "text/html": [
       "<pre style=\"white-space:pre;overflow-x:auto;line-height:normal;font-family:Menlo,'DejaVu Sans Mono',consolas,'Courier New',monospace\"><span style=\"color: #008000; text-decoration-color: #008000\">INFO: no improve </span><span style=\"color: #008080; text-decoration-color: #008080; font-weight: bold\">0.05039523169398308</span><span style=\"color: #008000; text-decoration-color: #008000\"> &gt; </span><span style=\"color: #008080; text-decoration-color: #008080; font-weight: bold\">0</span>\n",
       "</pre>\n"
      ],
      "text/plain": [
       "\u001b[32mINFO: no improve \u001b[0m\u001b[1;36m0.05039523169398308\u001b[0m\u001b[32m > \u001b[0m\u001b[1;36m0\u001b[0m\n"
      ]
     },
     "metadata": {},
     "output_type": "display_data"
    },
    {
     "data": {
      "text/html": [
       "<pre style=\"white-space:pre;overflow-x:auto;line-height:normal;font-family:Menlo,'DejaVu Sans Mono',consolas,'Courier New',monospace\"><span style=\"color: #008000; text-decoration-color: #008000\">Expected Improvement: </span><span style=\"color: #008080; text-decoration-color: #008080; font-weight: bold\">0.16125944256782532</span><span style=\"color: #008000; text-decoration-color: #008000\"> Actual: </span><span style=\"color: #008080; text-decoration-color: #008080; font-weight: bold\">0.002925835084170103</span>\n",
       "</pre>\n"
      ],
      "text/plain": [
       "\u001b[32mExpected Improvement: \u001b[0m\u001b[1;36m0.16125944256782532\u001b[0m\u001b[32m Actual: \u001b[0m\u001b[1;36m0.002925835084170103\u001b[0m\n"
      ]
     },
     "metadata": {},
     "output_type": "display_data"
    },
    {
     "data": {
      "text/html": [
       "<pre style=\"white-space:pre;overflow-x:auto;line-height:normal;font-family:Menlo,'DejaVu Sans Mono',consolas,'Courier New',monospace\"><span style=\"color: #008000; text-decoration-color: #008000\">INFO: no improve </span><span style=\"color: #008080; text-decoration-color: #008080; font-weight: bold\">0.04025949537754059</span><span style=\"color: #008000; text-decoration-color: #008000\"> &gt; </span><span style=\"color: #008080; text-decoration-color: #008080; font-weight: bold\">0</span>\n",
       "</pre>\n"
      ],
      "text/plain": [
       "\u001b[32mINFO: no improve \u001b[0m\u001b[1;36m0.04025949537754059\u001b[0m\u001b[32m > \u001b[0m\u001b[1;36m0\u001b[0m\n"
      ]
     },
     "metadata": {},
     "output_type": "display_data"
    },
    {
     "data": {
      "text/html": [
       "<pre style=\"white-space:pre;overflow-x:auto;line-height:normal;font-family:Menlo,'DejaVu Sans Mono',consolas,'Courier New',monospace\"><span style=\"color: #008000; text-decoration-color: #008000\">Expected Improvement: </span><span style=\"color: #008080; text-decoration-color: #008080; font-weight: bold\">0.16125944256782532</span><span style=\"color: #008000; text-decoration-color: #008000\"> Actual: </span><span style=\"color: #008080; text-decoration-color: #008080; font-weight: bold\">0.002337324433028698</span>\n",
       "</pre>\n"
      ],
      "text/plain": [
       "\u001b[32mExpected Improvement: \u001b[0m\u001b[1;36m0.16125944256782532\u001b[0m\u001b[32m Actual: \u001b[0m\u001b[1;36m0.002337324433028698\u001b[0m\n"
      ]
     },
     "metadata": {},
     "output_type": "display_data"
    },
    {
     "data": {
      "text/html": [
       "<pre style=\"white-space:pre;overflow-x:auto;line-height:normal;font-family:Menlo,'DejaVu Sans Mono',consolas,'Courier New',monospace\"><span style=\"color: #008000; text-decoration-color: #008000\">INFO: no improve </span><span style=\"color: #008080; text-decoration-color: #008080; font-weight: bold\">0.032167382538318634</span><span style=\"color: #008000; text-decoration-color: #008000\"> &gt; </span><span style=\"color: #008080; text-decoration-color: #008080; font-weight: bold\">0</span>\n",
       "</pre>\n"
      ],
      "text/plain": [
       "\u001b[32mINFO: no improve \u001b[0m\u001b[1;36m0.032167382538318634\u001b[0m\u001b[32m > \u001b[0m\u001b[1;36m0\u001b[0m\n"
      ]
     },
     "metadata": {},
     "output_type": "display_data"
    },
    {
     "data": {
      "text/html": [
       "<pre style=\"white-space:pre;overflow-x:auto;line-height:normal;font-family:Menlo,'DejaVu Sans Mono',consolas,'Courier New',monospace\"><span style=\"color: #008000; text-decoration-color: #008000\">INFO: no suitable step found</span><span style=\"color: #808000; text-decoration-color: #808000\">...</span>\n",
       "</pre>\n"
      ],
      "text/plain": [
       "\u001b[32mINFO: no suitable step found\u001b[0m\u001b[33m...\u001b[0m\n"
      ]
     },
     "metadata": {},
     "output_type": "display_data"
    },
    {
     "data": {
      "text/html": [
       "<pre style=\"white-space:pre;overflow-x:auto;line-height:normal;font-family:Menlo,'DejaVu Sans Mono',consolas,'Courier New',monospace\">┏━━━━━━━━━━━━━━━━━━━━━━━━━━━━━━━┳━━━━━━━━━━━━━━━━━━━━━━━━┓\n",
       "┃<span style=\"font-weight: bold\"> Metrics                       </span>┃<span style=\"font-weight: bold\"> Value                  </span>┃\n",
       "┡━━━━━━━━━━━━━━━━━━━━━━━━━━━━━━━╇━━━━━━━━━━━━━━━━━━━━━━━━┩\n",
       "│ Metrics/EpRet                 │ 26.444684982299805     │\n",
       "│ Metrics/EpCost                │ 25.895950317382812     │\n",
       "│ Metrics/EpLen                 │ 6.0                    │\n",
       "│ Train/Epoch                   │ 29.0                   │\n",
       "│ Train/Entropy                 │ 0.8857365250587463     │\n",
       "│ Train/KL                      │ 5.380722356562728e-08  │\n",
       "│ Train/StopIter                │ 10.0                   │\n",
       "│ Train/PolicyRatio/Mean        │ 0.997799813747406      │\n",
       "│ Train/PolicyRatio/Min         │ 0.997799813747406      │\n",
       "│ Train/PolicyRatio/Max         │ 0.997799813747406      │\n",
       "│ Train/PolicyRatio/Std         │ 0.0020782514475286007  │\n",
       "│ Train/LR                      │ 0.0                    │\n",
       "│ Train/PolicyStd               │ 0.5895541310310364     │\n",
       "│ TotalEnvSteps                 │ 600000.0               │\n",
       "│ Loss/Loss_pi                  │ -0.043411530554294586  │\n",
       "│ Loss/Loss_pi/Delta            │ 0.030642233788967133   │\n",
       "│ Value/Adv                     │ -5.722046170220096e-10 │\n",
       "│ Loss/Loss_reward_critic       │ 1434.1988525390625     │\n",
       "│ Loss/Loss_reward_critic/Delta │ 977.4873962402344      │\n",
       "│ Value/reward                  │ 8.268552780151367      │\n",
       "│ Loss/Loss_cost_critic         │ 485.7580261230469      │\n",
       "│ Loss/Loss_cost_critic/Delta   │ 83.47018432617188      │\n",
       "│ Value/cost                    │ 12.681432723999023     │\n",
       "│ Time/Total                    │ 1747.53759765625       │\n",
       "│ Time/Rollout                  │ 27.024303436279297     │\n",
       "│ Time/Update                   │ 30.318775177001953     │\n",
       "│ Time/Epoch                    │ 57.34307861328125      │\n",
       "│ Time/FPS                      │ 348.7779235839844      │\n",
       "│ Env/Success_counts            │ nan                    │\n",
       "│ Misc/Alpha                    │ 0.12280403822660446    │\n",
       "│ Misc/FinalStepNorm            │ 0.0                    │\n",
       "│ Misc/gradient_norm            │ 4.404578685760498      │\n",
       "│ Misc/xHx                      │ 1.3261867761611938     │\n",
       "│ Misc/H_inv_g                  │ 1.2501795291900635     │\n",
       "│ Misc/AcceptanceStep           │ 0.0                    │\n",
       "│ Misc/cost_gradient_norm       │ 171.88430786132812     │\n",
       "│ Misc/A                        │ 0.7803322672843933     │\n",
       "│ Misc/B                        │ 0.018754001706838608   │\n",
       "│ Misc/q                        │ 1.3261867761611938     │\n",
       "│ Misc/r                        │ 18.752696990966797     │\n",
       "│ Misc/s                        │ 644.2442626953125      │\n",
       "│ Misc/Lambda_star              │ 8.143054962158203      │\n",
       "│ Misc/Nu_star                  │ 0.0                    │\n",
       "│ Misc/OptimCase                │ 1.0                    │\n",
       "└───────────────────────────────┴────────────────────────┘\n",
       "</pre>\n"
      ],
      "text/plain": [
       "┏━━━━━━━━━━━━━━━━━━━━━━━━━━━━━━━┳━━━━━━━━━━━━━━━━━━━━━━━━┓\n",
       "┃\u001b[1m \u001b[0m\u001b[1mMetrics                      \u001b[0m\u001b[1m \u001b[0m┃\u001b[1m \u001b[0m\u001b[1mValue                 \u001b[0m\u001b[1m \u001b[0m┃\n",
       "┡━━━━━━━━━━━━━━━━━━━━━━━━━━━━━━━╇━━━━━━━━━━━━━━━━━━━━━━━━┩\n",
       "│ Metrics/EpRet                 │ 26.444684982299805     │\n",
       "│ Metrics/EpCost                │ 25.895950317382812     │\n",
       "│ Metrics/EpLen                 │ 6.0                    │\n",
       "│ Train/Epoch                   │ 29.0                   │\n",
       "│ Train/Entropy                 │ 0.8857365250587463     │\n",
       "│ Train/KL                      │ 5.380722356562728e-08  │\n",
       "│ Train/StopIter                │ 10.0                   │\n",
       "│ Train/PolicyRatio/Mean        │ 0.997799813747406      │\n",
       "│ Train/PolicyRatio/Min         │ 0.997799813747406      │\n",
       "│ Train/PolicyRatio/Max         │ 0.997799813747406      │\n",
       "│ Train/PolicyRatio/Std         │ 0.0020782514475286007  │\n",
       "│ Train/LR                      │ 0.0                    │\n",
       "│ Train/PolicyStd               │ 0.5895541310310364     │\n",
       "│ TotalEnvSteps                 │ 600000.0               │\n",
       "│ Loss/Loss_pi                  │ -0.043411530554294586  │\n",
       "│ Loss/Loss_pi/Delta            │ 0.030642233788967133   │\n",
       "│ Value/Adv                     │ -5.722046170220096e-10 │\n",
       "│ Loss/Loss_reward_critic       │ 1434.1988525390625     │\n",
       "│ Loss/Loss_reward_critic/Delta │ 977.4873962402344      │\n",
       "│ Value/reward                  │ 8.268552780151367      │\n",
       "│ Loss/Loss_cost_critic         │ 485.7580261230469      │\n",
       "│ Loss/Loss_cost_critic/Delta   │ 83.47018432617188      │\n",
       "│ Value/cost                    │ 12.681432723999023     │\n",
       "│ Time/Total                    │ 1747.53759765625       │\n",
       "│ Time/Rollout                  │ 27.024303436279297     │\n",
       "│ Time/Update                   │ 30.318775177001953     │\n",
       "│ Time/Epoch                    │ 57.34307861328125      │\n",
       "│ Time/FPS                      │ 348.7779235839844      │\n",
       "│ Env/Success_counts            │ nan                    │\n",
       "│ Misc/Alpha                    │ 0.12280403822660446    │\n",
       "│ Misc/FinalStepNorm            │ 0.0                    │\n",
       "│ Misc/gradient_norm            │ 4.404578685760498      │\n",
       "│ Misc/xHx                      │ 1.3261867761611938     │\n",
       "│ Misc/H_inv_g                  │ 1.2501795291900635     │\n",
       "│ Misc/AcceptanceStep           │ 0.0                    │\n",
       "│ Misc/cost_gradient_norm       │ 171.88430786132812     │\n",
       "│ Misc/A                        │ 0.7803322672843933     │\n",
       "│ Misc/B                        │ 0.018754001706838608   │\n",
       "│ Misc/q                        │ 1.3261867761611938     │\n",
       "│ Misc/r                        │ 18.752696990966797     │\n",
       "│ Misc/s                        │ 644.2442626953125      │\n",
       "│ Misc/Lambda_star              │ 8.143054962158203      │\n",
       "│ Misc/Nu_star                  │ 0.0                    │\n",
       "│ Misc/OptimCase                │ 1.0                    │\n",
       "└───────────────────────────────┴────────────────────────┘\n"
      ]
     },
     "metadata": {},
     "output_type": "display_data"
    },
    {
     "data": {
      "text/html": [
       "<pre style=\"white-space:pre;overflow-x:auto;line-height:normal;font-family:Menlo,'DejaVu Sans Mono',consolas,'Courier New',monospace\"><span style=\"color: #008000; text-decoration-color: #008000\">Warning: trajectory cut off when rollout by epoch at </span><span style=\"color: #008080; text-decoration-color: #008080; font-weight: bold\">2.0</span><span style=\"color: #008000; text-decoration-color: #008000\"> steps.</span>\n",
       "</pre>\n"
      ],
      "text/plain": [
       "\u001b[32mWarning: trajectory cut off when rollout by epoch at \u001b[0m\u001b[1;36m2.0\u001b[0m\u001b[32m steps.\u001b[0m\n"
      ]
     },
     "metadata": {},
     "output_type": "display_data"
    },
    {
     "data": {
      "text/html": [
       "<pre style=\"white-space:pre;overflow-x:auto;line-height:normal;font-family:Menlo,'DejaVu Sans Mono',consolas,'Courier New',monospace\"></pre>\n"
      ],
      "text/plain": []
     },
     "metadata": {},
     "output_type": "display_data"
    },
    {
     "data": {
      "text/html": [
       "<pre style=\"white-space:pre;overflow-x:auto;line-height:normal;font-family:Menlo,'DejaVu Sans Mono',consolas,'Courier New',monospace\"><span style=\"color: #808000; text-decoration-color: #808000\">Alert! Attempting feasible recovery!</span>\n",
       "</pre>\n"
      ],
      "text/plain": [
       "\u001b[33mAlert! Attempting feasible recovery!\u001b[0m\n"
      ]
     },
     "metadata": {},
     "output_type": "display_data"
    },
    {
     "data": {
      "text/html": [
       "<pre style=\"white-space:pre;overflow-x:auto;line-height:normal;font-family:Menlo,'DejaVu Sans Mono',consolas,'Courier New',monospace\"><span style=\"color: #008000; text-decoration-color: #008000\">Expected Improvement: </span><span style=\"color: #008080; text-decoration-color: #008080; font-weight: bold\">1.729905605316162</span><span style=\"color: #008000; text-decoration-color: #008000\"> Actual: </span><span style=\"color: #008080; text-decoration-color: #008080; font-weight: bold\">0.01224959921091795</span>\n",
       "</pre>\n"
      ],
      "text/plain": [
       "\u001b[32mExpected Improvement: \u001b[0m\u001b[1;36m1.729905605316162\u001b[0m\u001b[32m Actual: \u001b[0m\u001b[1;36m0.01224959921091795\u001b[0m\n"
      ]
     },
     "metadata": {},
     "output_type": "display_data"
    },
    {
     "data": {
      "text/html": [
       "<pre style=\"white-space:pre;overflow-x:auto;line-height:normal;font-family:Menlo,'DejaVu Sans Mono',consolas,'Courier New',monospace\"><span style=\"color: #008000; text-decoration-color: #008000\">INFO: no improve </span><span style=\"color: #008080; text-decoration-color: #008080; font-weight: bold\">0.44816842675209045</span><span style=\"color: #008000; text-decoration-color: #008000\"> &gt; </span><span style=\"color: #008080; text-decoration-color: #008080; font-weight: bold\">0</span>\n",
       "</pre>\n"
      ],
      "text/plain": [
       "\u001b[32mINFO: no improve \u001b[0m\u001b[1;36m0.44816842675209045\u001b[0m\u001b[32m > \u001b[0m\u001b[1;36m0\u001b[0m\n"
      ]
     },
     "metadata": {},
     "output_type": "display_data"
    },
    {
     "data": {
      "text/html": [
       "<pre style=\"white-space:pre;overflow-x:auto;line-height:normal;font-family:Menlo,'DejaVu Sans Mono',consolas,'Courier New',monospace\"><span style=\"color: #008000; text-decoration-color: #008000\">Expected Improvement: </span><span style=\"color: #008080; text-decoration-color: #008080; font-weight: bold\">1.729905605316162</span><span style=\"color: #008000; text-decoration-color: #008000\"> Actual: </span><span style=\"color: #008080; text-decoration-color: #008080; font-weight: bold\">0.011079086922109127</span>\n",
       "</pre>\n"
      ],
      "text/plain": [
       "\u001b[32mExpected Improvement: \u001b[0m\u001b[1;36m1.729905605316162\u001b[0m\u001b[32m Actual: \u001b[0m\u001b[1;36m0.011079086922109127\u001b[0m\n"
      ]
     },
     "metadata": {},
     "output_type": "display_data"
    },
    {
     "data": {
      "text/html": [
       "<pre style=\"white-space:pre;overflow-x:auto;line-height:normal;font-family:Menlo,'DejaVu Sans Mono',consolas,'Courier New',monospace\"><span style=\"color: #008000; text-decoration-color: #008000\">INFO: no improve </span><span style=\"color: #008080; text-decoration-color: #008080; font-weight: bold\">0.4131487309932709</span><span style=\"color: #008000; text-decoration-color: #008000\"> &gt; </span><span style=\"color: #008080; text-decoration-color: #008080; font-weight: bold\">0</span>\n",
       "</pre>\n"
      ],
      "text/plain": [
       "\u001b[32mINFO: no improve \u001b[0m\u001b[1;36m0.4131487309932709\u001b[0m\u001b[32m > \u001b[0m\u001b[1;36m0\u001b[0m\n"
      ]
     },
     "metadata": {},
     "output_type": "display_data"
    },
    {
     "data": {
      "text/html": [
       "<pre style=\"white-space:pre;overflow-x:auto;line-height:normal;font-family:Menlo,'DejaVu Sans Mono',consolas,'Courier New',monospace\"><span style=\"color: #008000; text-decoration-color: #008000\">Expected Improvement: </span><span style=\"color: #008080; text-decoration-color: #008080; font-weight: bold\">1.729905605316162</span><span style=\"color: #008000; text-decoration-color: #008000\"> Actual: </span><span style=\"color: #008080; text-decoration-color: #008080; font-weight: bold\">0.010068862698972225</span>\n",
       "</pre>\n"
      ],
      "text/plain": [
       "\u001b[32mExpected Improvement: \u001b[0m\u001b[1;36m1.729905605316162\u001b[0m\u001b[32m Actual: \u001b[0m\u001b[1;36m0.010068862698972225\u001b[0m\n"
      ]
     },
     "metadata": {},
     "output_type": "display_data"
    },
    {
     "data": {
      "text/html": [
       "<pre style=\"white-space:pre;overflow-x:auto;line-height:normal;font-family:Menlo,'DejaVu Sans Mono',consolas,'Courier New',monospace\"><span style=\"color: #008000; text-decoration-color: #008000\">INFO: no improve </span><span style=\"color: #008080; text-decoration-color: #008080; font-weight: bold\">0.38773220777511597</span><span style=\"color: #008000; text-decoration-color: #008000\"> &gt; </span><span style=\"color: #008080; text-decoration-color: #008080; font-weight: bold\">0</span>\n",
       "</pre>\n"
      ],
      "text/plain": [
       "\u001b[32mINFO: no improve \u001b[0m\u001b[1;36m0.38773220777511597\u001b[0m\u001b[32m > \u001b[0m\u001b[1;36m0\u001b[0m\n"
      ]
     },
     "metadata": {},
     "output_type": "display_data"
    },
    {
     "data": {
      "text/html": [
       "<pre style=\"white-space:pre;overflow-x:auto;line-height:normal;font-family:Menlo,'DejaVu Sans Mono',consolas,'Courier New',monospace\"><span style=\"color: #008000; text-decoration-color: #008000\">Expected Improvement: </span><span style=\"color: #008080; text-decoration-color: #008080; font-weight: bold\">1.729905605316162</span><span style=\"color: #008000; text-decoration-color: #008000\"> Actual: </span><span style=\"color: #008080; text-decoration-color: #008080; font-weight: bold\">0.009169087745249271</span>\n",
       "</pre>\n"
      ],
      "text/plain": [
       "\u001b[32mExpected Improvement: \u001b[0m\u001b[1;36m1.729905605316162\u001b[0m\u001b[32m Actual: \u001b[0m\u001b[1;36m0.009169087745249271\u001b[0m\n"
      ]
     },
     "metadata": {},
     "output_type": "display_data"
    },
    {
     "data": {
      "text/html": [
       "<pre style=\"white-space:pre;overflow-x:auto;line-height:normal;font-family:Menlo,'DejaVu Sans Mono',consolas,'Courier New',monospace\"><span style=\"color: #008000; text-decoration-color: #008000\">INFO: no improve </span><span style=\"color: #008080; text-decoration-color: #008080; font-weight: bold\">0.36633193492889404</span><span style=\"color: #008000; text-decoration-color: #008000\"> &gt; </span><span style=\"color: #008080; text-decoration-color: #008080; font-weight: bold\">0</span>\n",
       "</pre>\n"
      ],
      "text/plain": [
       "\u001b[32mINFO: no improve \u001b[0m\u001b[1;36m0.36633193492889404\u001b[0m\u001b[32m > \u001b[0m\u001b[1;36m0\u001b[0m\n"
      ]
     },
     "metadata": {},
     "output_type": "display_data"
    },
    {
     "data": {
      "text/html": [
       "<pre style=\"white-space:pre;overflow-x:auto;line-height:normal;font-family:Menlo,'DejaVu Sans Mono',consolas,'Courier New',monospace\"><span style=\"color: #008000; text-decoration-color: #008000\">Expected Improvement: </span><span style=\"color: #008080; text-decoration-color: #008080; font-weight: bold\">1.729905605316162</span><span style=\"color: #008000; text-decoration-color: #008000\"> Actual: </span><span style=\"color: #008080; text-decoration-color: #008080; font-weight: bold\">0.008387116715312004</span>\n",
       "</pre>\n"
      ],
      "text/plain": [
       "\u001b[32mExpected Improvement: \u001b[0m\u001b[1;36m1.729905605316162\u001b[0m\u001b[32m Actual: \u001b[0m\u001b[1;36m0.008387116715312004\u001b[0m\n"
      ]
     },
     "metadata": {},
     "output_type": "display_data"
    },
    {
     "data": {
      "text/html": [
       "<pre style=\"white-space:pre;overflow-x:auto;line-height:normal;font-family:Menlo,'DejaVu Sans Mono',consolas,'Courier New',monospace\"><span style=\"color: #008000; text-decoration-color: #008000\">INFO: no improve </span><span style=\"color: #008080; text-decoration-color: #008080; font-weight: bold\">0.3507605195045471</span><span style=\"color: #008000; text-decoration-color: #008000\"> &gt; </span><span style=\"color: #008080; text-decoration-color: #008080; font-weight: bold\">0</span>\n",
       "</pre>\n"
      ],
      "text/plain": [
       "\u001b[32mINFO: no improve \u001b[0m\u001b[1;36m0.3507605195045471\u001b[0m\u001b[32m > \u001b[0m\u001b[1;36m0\u001b[0m\n"
      ]
     },
     "metadata": {},
     "output_type": "display_data"
    },
    {
     "data": {
      "text/html": [
       "<pre style=\"white-space:pre;overflow-x:auto;line-height:normal;font-family:Menlo,'DejaVu Sans Mono',consolas,'Courier New',monospace\"><span style=\"color: #008000; text-decoration-color: #008000\">Expected Improvement: </span><span style=\"color: #008080; text-decoration-color: #008080; font-weight: bold\">1.729905605316162</span><span style=\"color: #008000; text-decoration-color: #008000\"> Actual: </span><span style=\"color: #008080; text-decoration-color: #008080; font-weight: bold\">0.007743744179606438</span>\n",
       "</pre>\n"
      ],
      "text/plain": [
       "\u001b[32mExpected Improvement: \u001b[0m\u001b[1;36m1.729905605316162\u001b[0m\u001b[32m Actual: \u001b[0m\u001b[1;36m0.007743744179606438\u001b[0m\n"
      ]
     },
     "metadata": {},
     "output_type": "display_data"
    },
    {
     "data": {
      "text/html": [
       "<pre style=\"white-space:pre;overflow-x:auto;line-height:normal;font-family:Menlo,'DejaVu Sans Mono',consolas,'Courier New',monospace\"><span style=\"color: #008000; text-decoration-color: #008000\">INFO: no improve </span><span style=\"color: #008080; text-decoration-color: #008080; font-weight: bold\">0.33960381150245667</span><span style=\"color: #008000; text-decoration-color: #008000\"> &gt; </span><span style=\"color: #008080; text-decoration-color: #008080; font-weight: bold\">0</span>\n",
       "</pre>\n"
      ],
      "text/plain": [
       "\u001b[32mINFO: no improve \u001b[0m\u001b[1;36m0.33960381150245667\u001b[0m\u001b[32m > \u001b[0m\u001b[1;36m0\u001b[0m\n"
      ]
     },
     "metadata": {},
     "output_type": "display_data"
    },
    {
     "data": {
      "text/html": [
       "<pre style=\"white-space:pre;overflow-x:auto;line-height:normal;font-family:Menlo,'DejaVu Sans Mono',consolas,'Courier New',monospace\"><span style=\"color: #008000; text-decoration-color: #008000\">Expected Improvement: </span><span style=\"color: #008080; text-decoration-color: #008080; font-weight: bold\">1.729905605316162</span><span style=\"color: #008000; text-decoration-color: #008000\"> Actual: </span><span style=\"color: #008080; text-decoration-color: #008080; font-weight: bold\">0.007192451041191816</span>\n",
       "</pre>\n"
      ],
      "text/plain": [
       "\u001b[32mExpected Improvement: \u001b[0m\u001b[1;36m1.729905605316162\u001b[0m\u001b[32m Actual: \u001b[0m\u001b[1;36m0.007192451041191816\u001b[0m\n"
      ]
     },
     "metadata": {},
     "output_type": "display_data"
    },
    {
     "data": {
      "text/html": [
       "<pre style=\"white-space:pre;overflow-x:auto;line-height:normal;font-family:Menlo,'DejaVu Sans Mono',consolas,'Courier New',monospace\"><span style=\"color: #008000; text-decoration-color: #008000\">INFO: no improve </span><span style=\"color: #008080; text-decoration-color: #008080; font-weight: bold\">0.3302132487297058</span><span style=\"color: #008000; text-decoration-color: #008000\"> &gt; </span><span style=\"color: #008080; text-decoration-color: #008080; font-weight: bold\">0</span>\n",
       "</pre>\n"
      ],
      "text/plain": [
       "\u001b[32mINFO: no improve \u001b[0m\u001b[1;36m0.3302132487297058\u001b[0m\u001b[32m > \u001b[0m\u001b[1;36m0\u001b[0m\n"
      ]
     },
     "metadata": {},
     "output_type": "display_data"
    },
    {
     "data": {
      "text/html": [
       "<pre style=\"white-space:pre;overflow-x:auto;line-height:normal;font-family:Menlo,'DejaVu Sans Mono',consolas,'Courier New',monospace\"><span style=\"color: #008000; text-decoration-color: #008000\">Expected Improvement: </span><span style=\"color: #008080; text-decoration-color: #008080; font-weight: bold\">1.729905605316162</span><span style=\"color: #008000; text-decoration-color: #008000\"> Actual: </span><span style=\"color: #008080; text-decoration-color: #008080; font-weight: bold\">0.0067187463864684105</span>\n",
       "</pre>\n"
      ],
      "text/plain": [
       "\u001b[32mExpected Improvement: \u001b[0m\u001b[1;36m1.729905605316162\u001b[0m\u001b[32m Actual: \u001b[0m\u001b[1;36m0.0067187463864684105\u001b[0m\n"
      ]
     },
     "metadata": {},
     "output_type": "display_data"
    },
    {
     "data": {
      "text/html": [
       "<pre style=\"white-space:pre;overflow-x:auto;line-height:normal;font-family:Menlo,'DejaVu Sans Mono',consolas,'Courier New',monospace\"><span style=\"color: #008000; text-decoration-color: #008000\">INFO: no improve </span><span style=\"color: #008080; text-decoration-color: #008080; font-weight: bold\">0.32064107060432434</span><span style=\"color: #008000; text-decoration-color: #008000\"> &gt; </span><span style=\"color: #008080; text-decoration-color: #008080; font-weight: bold\">0</span>\n",
       "</pre>\n"
      ],
      "text/plain": [
       "\u001b[32mINFO: no improve \u001b[0m\u001b[1;36m0.32064107060432434\u001b[0m\u001b[32m > \u001b[0m\u001b[1;36m0\u001b[0m\n"
      ]
     },
     "metadata": {},
     "output_type": "display_data"
    },
    {
     "data": {
      "text/html": [
       "<pre style=\"white-space:pre;overflow-x:auto;line-height:normal;font-family:Menlo,'DejaVu Sans Mono',consolas,'Courier New',monospace\"><span style=\"color: #008000; text-decoration-color: #008000\">Expected Improvement: </span><span style=\"color: #008080; text-decoration-color: #008080; font-weight: bold\">1.729905605316162</span><span style=\"color: #008000; text-decoration-color: #008000\"> Actual: </span><span style=\"color: #008080; text-decoration-color: #008080; font-weight: bold\">0.006301695480942726</span>\n",
       "</pre>\n"
      ],
      "text/plain": [
       "\u001b[32mExpected Improvement: \u001b[0m\u001b[1;36m1.729905605316162\u001b[0m\u001b[32m Actual: \u001b[0m\u001b[1;36m0.006301695480942726\u001b[0m\n"
      ]
     },
     "metadata": {},
     "output_type": "display_data"
    },
    {
     "data": {
      "text/html": [
       "<pre style=\"white-space:pre;overflow-x:auto;line-height:normal;font-family:Menlo,'DejaVu Sans Mono',consolas,'Courier New',monospace\"><span style=\"color: #008000; text-decoration-color: #008000\">INFO: no improve </span><span style=\"color: #008080; text-decoration-color: #008080; font-weight: bold\">0.31091415882110596</span><span style=\"color: #008000; text-decoration-color: #008000\"> &gt; </span><span style=\"color: #008080; text-decoration-color: #008080; font-weight: bold\">0</span>\n",
       "</pre>\n"
      ],
      "text/plain": [
       "\u001b[32mINFO: no improve \u001b[0m\u001b[1;36m0.31091415882110596\u001b[0m\u001b[32m > \u001b[0m\u001b[1;36m0\u001b[0m\n"
      ]
     },
     "metadata": {},
     "output_type": "display_data"
    },
    {
     "data": {
      "text/html": [
       "<pre style=\"white-space:pre;overflow-x:auto;line-height:normal;font-family:Menlo,'DejaVu Sans Mono',consolas,'Courier New',monospace\"><span style=\"color: #008000; text-decoration-color: #008000\">Expected Improvement: </span><span style=\"color: #008080; text-decoration-color: #008080; font-weight: bold\">1.729905605316162</span><span style=\"color: #008000; text-decoration-color: #008000\"> Actual: </span><span style=\"color: #008080; text-decoration-color: #008080; font-weight: bold\">0.005940327420830727</span>\n",
       "</pre>\n"
      ],
      "text/plain": [
       "\u001b[32mExpected Improvement: \u001b[0m\u001b[1;36m1.729905605316162\u001b[0m\u001b[32m Actual: \u001b[0m\u001b[1;36m0.005940327420830727\u001b[0m\n"
      ]
     },
     "metadata": {},
     "output_type": "display_data"
    },
    {
     "data": {
      "text/html": [
       "<pre style=\"white-space:pre;overflow-x:auto;line-height:normal;font-family:Menlo,'DejaVu Sans Mono',consolas,'Courier New',monospace\"><span style=\"color: #008000; text-decoration-color: #008000\">INFO: no improve </span><span style=\"color: #008080; text-decoration-color: #008080; font-weight: bold\">0.3013518750667572</span><span style=\"color: #008000; text-decoration-color: #008000\"> &gt; </span><span style=\"color: #008080; text-decoration-color: #008080; font-weight: bold\">0</span>\n",
       "</pre>\n"
      ],
      "text/plain": [
       "\u001b[32mINFO: no improve \u001b[0m\u001b[1;36m0.3013518750667572\u001b[0m\u001b[32m > \u001b[0m\u001b[1;36m0\u001b[0m\n"
      ]
     },
     "metadata": {},
     "output_type": "display_data"
    },
    {
     "data": {
      "text/html": [
       "<pre style=\"white-space:pre;overflow-x:auto;line-height:normal;font-family:Menlo,'DejaVu Sans Mono',consolas,'Courier New',monospace\"><span style=\"color: #008000; text-decoration-color: #008000\">Expected Improvement: </span><span style=\"color: #008080; text-decoration-color: #008080; font-weight: bold\">1.729905605316162</span><span style=\"color: #008000; text-decoration-color: #008000\"> Actual: </span><span style=\"color: #008080; text-decoration-color: #008080; font-weight: bold\">0.00563387293368578</span>\n",
       "</pre>\n"
      ],
      "text/plain": [
       "\u001b[32mExpected Improvement: \u001b[0m\u001b[1;36m1.729905605316162\u001b[0m\u001b[32m Actual: \u001b[0m\u001b[1;36m0.00563387293368578\u001b[0m\n"
      ]
     },
     "metadata": {},
     "output_type": "display_data"
    },
    {
     "data": {
      "text/html": [
       "<pre style=\"white-space:pre;overflow-x:auto;line-height:normal;font-family:Menlo,'DejaVu Sans Mono',consolas,'Courier New',monospace\"><span style=\"color: #008000; text-decoration-color: #008000\">INFO: no improve </span><span style=\"color: #008080; text-decoration-color: #008080; font-weight: bold\">0.2925630509853363</span><span style=\"color: #008000; text-decoration-color: #008000\"> &gt; </span><span style=\"color: #008080; text-decoration-color: #008080; font-weight: bold\">0</span>\n",
       "</pre>\n"
      ],
      "text/plain": [
       "\u001b[32mINFO: no improve \u001b[0m\u001b[1;36m0.2925630509853363\u001b[0m\u001b[32m > \u001b[0m\u001b[1;36m0\u001b[0m\n"
      ]
     },
     "metadata": {},
     "output_type": "display_data"
    },
    {
     "data": {
      "text/html": [
       "<pre style=\"white-space:pre;overflow-x:auto;line-height:normal;font-family:Menlo,'DejaVu Sans Mono',consolas,'Courier New',monospace\"><span style=\"color: #008000; text-decoration-color: #008000\">Expected Improvement: </span><span style=\"color: #008080; text-decoration-color: #008080; font-weight: bold\">1.729905605316162</span><span style=\"color: #008000; text-decoration-color: #008000\"> Actual: </span><span style=\"color: #008080; text-decoration-color: #008080; font-weight: bold\">0.005383657291531563</span>\n",
       "</pre>\n"
      ],
      "text/plain": [
       "\u001b[32mExpected Improvement: \u001b[0m\u001b[1;36m1.729905605316162\u001b[0m\u001b[32m Actual: \u001b[0m\u001b[1;36m0.005383657291531563\u001b[0m\n"
      ]
     },
     "metadata": {},
     "output_type": "display_data"
    },
    {
     "data": {
      "text/html": [
       "<pre style=\"white-space:pre;overflow-x:auto;line-height:normal;font-family:Menlo,'DejaVu Sans Mono',consolas,'Courier New',monospace\"><span style=\"color: #008000; text-decoration-color: #008000\">INFO: no improve </span><span style=\"color: #008080; text-decoration-color: #008080; font-weight: bold\">0.2850819230079651</span><span style=\"color: #008000; text-decoration-color: #008000\"> &gt; </span><span style=\"color: #008080; text-decoration-color: #008080; font-weight: bold\">0</span>\n",
       "</pre>\n"
      ],
      "text/plain": [
       "\u001b[32mINFO: no improve \u001b[0m\u001b[1;36m0.2850819230079651\u001b[0m\u001b[32m > \u001b[0m\u001b[1;36m0\u001b[0m\n"
      ]
     },
     "metadata": {},
     "output_type": "display_data"
    },
    {
     "data": {
      "text/html": [
       "<pre style=\"white-space:pre;overflow-x:auto;line-height:normal;font-family:Menlo,'DejaVu Sans Mono',consolas,'Courier New',monospace\"><span style=\"color: #008000; text-decoration-color: #008000\">Expected Improvement: </span><span style=\"color: #008080; text-decoration-color: #008080; font-weight: bold\">1.729905605316162</span><span style=\"color: #008000; text-decoration-color: #008000\"> Actual: </span><span style=\"color: #008080; text-decoration-color: #008080; font-weight: bold\">0.005181613378226757</span>\n",
       "</pre>\n"
      ],
      "text/plain": [
       "\u001b[32mExpected Improvement: \u001b[0m\u001b[1;36m1.729905605316162\u001b[0m\u001b[32m Actual: \u001b[0m\u001b[1;36m0.005181613378226757\u001b[0m\n"
      ]
     },
     "metadata": {},
     "output_type": "display_data"
    },
    {
     "data": {
      "text/html": [
       "<pre style=\"white-space:pre;overflow-x:auto;line-height:normal;font-family:Menlo,'DejaVu Sans Mono',consolas,'Courier New',monospace\"><span style=\"color: #008000; text-decoration-color: #008000\">INFO: no improve </span><span style=\"color: #008080; text-decoration-color: #008080; font-weight: bold\">0.2790186107158661</span><span style=\"color: #008000; text-decoration-color: #008000\"> &gt; </span><span style=\"color: #008080; text-decoration-color: #008080; font-weight: bold\">0</span>\n",
       "</pre>\n"
      ],
      "text/plain": [
       "\u001b[32mINFO: no improve \u001b[0m\u001b[1;36m0.2790186107158661\u001b[0m\u001b[32m > \u001b[0m\u001b[1;36m0\u001b[0m\n"
      ]
     },
     "metadata": {},
     "output_type": "display_data"
    },
    {
     "data": {
      "text/html": [
       "<pre style=\"white-space:pre;overflow-x:auto;line-height:normal;font-family:Menlo,'DejaVu Sans Mono',consolas,'Courier New',monospace\"><span style=\"color: #008000; text-decoration-color: #008000\">Expected Improvement: </span><span style=\"color: #008080; text-decoration-color: #008080; font-weight: bold\">1.729905605316162</span><span style=\"color: #008000; text-decoration-color: #008000\"> Actual: </span><span style=\"color: #008080; text-decoration-color: #008080; font-weight: bold\">0.0050220852717757225</span>\n",
       "</pre>\n"
      ],
      "text/plain": [
       "\u001b[32mExpected Improvement: \u001b[0m\u001b[1;36m1.729905605316162\u001b[0m\u001b[32m Actual: \u001b[0m\u001b[1;36m0.0050220852717757225\u001b[0m\n"
      ]
     },
     "metadata": {},
     "output_type": "display_data"
    },
    {
     "data": {
      "text/html": [
       "<pre style=\"white-space:pre;overflow-x:auto;line-height:normal;font-family:Menlo,'DejaVu Sans Mono',consolas,'Courier New',monospace\"><span style=\"color: #008000; text-decoration-color: #008000\">INFO: no improve </span><span style=\"color: #008080; text-decoration-color: #008080; font-weight: bold\">0.2743593752384186</span><span style=\"color: #008000; text-decoration-color: #008000\"> &gt; </span><span style=\"color: #008080; text-decoration-color: #008080; font-weight: bold\">0</span>\n",
       "</pre>\n"
      ],
      "text/plain": [
       "\u001b[32mINFO: no improve \u001b[0m\u001b[1;36m0.2743593752384186\u001b[0m\u001b[32m > \u001b[0m\u001b[1;36m0\u001b[0m\n"
      ]
     },
     "metadata": {},
     "output_type": "display_data"
    },
    {
     "data": {
      "text/html": [
       "<pre style=\"white-space:pre;overflow-x:auto;line-height:normal;font-family:Menlo,'DejaVu Sans Mono',consolas,'Courier New',monospace\"><span style=\"color: #008000; text-decoration-color: #008000\">Expected Improvement: </span><span style=\"color: #008080; text-decoration-color: #008080; font-weight: bold\">1.729905605316162</span><span style=\"color: #008000; text-decoration-color: #008000\"> Actual: </span><span style=\"color: #008080; text-decoration-color: #008080; font-weight: bold\">0.004898551385849714</span>\n",
       "</pre>\n"
      ],
      "text/plain": [
       "\u001b[32mExpected Improvement: \u001b[0m\u001b[1;36m1.729905605316162\u001b[0m\u001b[32m Actual: \u001b[0m\u001b[1;36m0.004898551385849714\u001b[0m\n"
      ]
     },
     "metadata": {},
     "output_type": "display_data"
    },
    {
     "data": {
      "text/html": [
       "<pre style=\"white-space:pre;overflow-x:auto;line-height:normal;font-family:Menlo,'DejaVu Sans Mono',consolas,'Courier New',monospace\"><span style=\"color: #008000; text-decoration-color: #008000\">INFO: no improve </span><span style=\"color: #008080; text-decoration-color: #008080; font-weight: bold\">0.270845890045166</span><span style=\"color: #008000; text-decoration-color: #008000\"> &gt; </span><span style=\"color: #008080; text-decoration-color: #008080; font-weight: bold\">0</span>\n",
       "</pre>\n"
      ],
      "text/plain": [
       "\u001b[32mINFO: no improve \u001b[0m\u001b[1;36m0.270845890045166\u001b[0m\u001b[32m > \u001b[0m\u001b[1;36m0\u001b[0m\n"
      ]
     },
     "metadata": {},
     "output_type": "display_data"
    },
    {
     "data": {
      "text/html": [
       "<pre style=\"white-space:pre;overflow-x:auto;line-height:normal;font-family:Menlo,'DejaVu Sans Mono',consolas,'Courier New',monospace\"><span style=\"color: #008000; text-decoration-color: #008000\">Expected Improvement: </span><span style=\"color: #008080; text-decoration-color: #008080; font-weight: bold\">1.729905605316162</span><span style=\"color: #008000; text-decoration-color: #008000\"> Actual: </span><span style=\"color: #008080; text-decoration-color: #008080; font-weight: bold\">0.00480323750525713</span>\n",
       "</pre>\n"
      ],
      "text/plain": [
       "\u001b[32mExpected Improvement: \u001b[0m\u001b[1;36m1.729905605316162\u001b[0m\u001b[32m Actual: \u001b[0m\u001b[1;36m0.00480323750525713\u001b[0m\n"
      ]
     },
     "metadata": {},
     "output_type": "display_data"
    },
    {
     "data": {
      "text/html": [
       "<pre style=\"white-space:pre;overflow-x:auto;line-height:normal;font-family:Menlo,'DejaVu Sans Mono',consolas,'Courier New',monospace\"><span style=\"color: #008000; text-decoration-color: #008000\">INFO: no improve </span><span style=\"color: #008080; text-decoration-color: #008080; font-weight: bold\">0.2682722806930542</span><span style=\"color: #008000; text-decoration-color: #008000\"> &gt; </span><span style=\"color: #008080; text-decoration-color: #008080; font-weight: bold\">0</span>\n",
       "</pre>\n"
      ],
      "text/plain": [
       "\u001b[32mINFO: no improve \u001b[0m\u001b[1;36m0.2682722806930542\u001b[0m\u001b[32m > \u001b[0m\u001b[1;36m0\u001b[0m\n"
      ]
     },
     "metadata": {},
     "output_type": "display_data"
    },
    {
     "data": {
      "text/html": [
       "<pre style=\"white-space:pre;overflow-x:auto;line-height:normal;font-family:Menlo,'DejaVu Sans Mono',consolas,'Courier New',monospace\"><span style=\"color: #008000; text-decoration-color: #008000\">Expected Improvement: </span><span style=\"color: #008080; text-decoration-color: #008080; font-weight: bold\">1.729905605316162</span><span style=\"color: #008000; text-decoration-color: #008000\"> Actual: </span><span style=\"color: #008080; text-decoration-color: #008080; font-weight: bold\">0.0047283535823225975</span>\n",
       "</pre>\n"
      ],
      "text/plain": [
       "\u001b[32mExpected Improvement: \u001b[0m\u001b[1;36m1.729905605316162\u001b[0m\u001b[32m Actual: \u001b[0m\u001b[1;36m0.0047283535823225975\u001b[0m\n"
      ]
     },
     "metadata": {},
     "output_type": "display_data"
    },
    {
     "data": {
      "text/html": [
       "<pre style=\"white-space:pre;overflow-x:auto;line-height:normal;font-family:Menlo,'DejaVu Sans Mono',consolas,'Courier New',monospace\"><span style=\"color: #008000; text-decoration-color: #008000\">INFO: no improve </span><span style=\"color: #008080; text-decoration-color: #008080; font-weight: bold\">0.2663145363330841</span><span style=\"color: #008000; text-decoration-color: #008000\"> &gt; </span><span style=\"color: #008080; text-decoration-color: #008080; font-weight: bold\">0</span>\n",
       "</pre>\n"
      ],
      "text/plain": [
       "\u001b[32mINFO: no improve \u001b[0m\u001b[1;36m0.2663145363330841\u001b[0m\u001b[32m > \u001b[0m\u001b[1;36m0\u001b[0m\n"
      ]
     },
     "metadata": {},
     "output_type": "display_data"
    },
    {
     "data": {
      "text/html": [
       "<pre style=\"white-space:pre;overflow-x:auto;line-height:normal;font-family:Menlo,'DejaVu Sans Mono',consolas,'Courier New',monospace\"><span style=\"color: #008000; text-decoration-color: #008000\">Expected Improvement: </span><span style=\"color: #008080; text-decoration-color: #008080; font-weight: bold\">1.729905605316162</span><span style=\"color: #008000; text-decoration-color: #008000\"> Actual: </span><span style=\"color: #008080; text-decoration-color: #008080; font-weight: bold\">0.004672190174460411</span>\n",
       "</pre>\n"
      ],
      "text/plain": [
       "\u001b[32mExpected Improvement: \u001b[0m\u001b[1;36m1.729905605316162\u001b[0m\u001b[32m Actual: \u001b[0m\u001b[1;36m0.004672190174460411\u001b[0m\n"
      ]
     },
     "metadata": {},
     "output_type": "display_data"
    },
    {
     "data": {
      "text/html": [
       "<pre style=\"white-space:pre;overflow-x:auto;line-height:normal;font-family:Menlo,'DejaVu Sans Mono',consolas,'Courier New',monospace\"><span style=\"color: #008000; text-decoration-color: #008000\">INFO: no improve </span><span style=\"color: #008080; text-decoration-color: #008080; font-weight: bold\">0.2650005519390106</span><span style=\"color: #008000; text-decoration-color: #008000\"> &gt; </span><span style=\"color: #008080; text-decoration-color: #008080; font-weight: bold\">0</span>\n",
       "</pre>\n"
      ],
      "text/plain": [
       "\u001b[32mINFO: no improve \u001b[0m\u001b[1;36m0.2650005519390106\u001b[0m\u001b[32m > \u001b[0m\u001b[1;36m0\u001b[0m\n"
      ]
     },
     "metadata": {},
     "output_type": "display_data"
    },
    {
     "data": {
      "text/html": [
       "<pre style=\"white-space:pre;overflow-x:auto;line-height:normal;font-family:Menlo,'DejaVu Sans Mono',consolas,'Courier New',monospace\"><span style=\"color: #008000; text-decoration-color: #008000\">Expected Improvement: </span><span style=\"color: #008080; text-decoration-color: #008080; font-weight: bold\">1.729905605316162</span><span style=\"color: #008000; text-decoration-color: #008000\"> Actual: </span><span style=\"color: #008080; text-decoration-color: #008080; font-weight: bold\">0.004630607087165117</span>\n",
       "</pre>\n"
      ],
      "text/plain": [
       "\u001b[32mExpected Improvement: \u001b[0m\u001b[1;36m1.729905605316162\u001b[0m\u001b[32m Actual: \u001b[0m\u001b[1;36m0.004630607087165117\u001b[0m\n"
      ]
     },
     "metadata": {},
     "output_type": "display_data"
    },
    {
     "data": {
      "text/html": [
       "<pre style=\"white-space:pre;overflow-x:auto;line-height:normal;font-family:Menlo,'DejaVu Sans Mono',consolas,'Courier New',monospace\"><span style=\"color: #008000; text-decoration-color: #008000\">INFO: no improve </span><span style=\"color: #008080; text-decoration-color: #008080; font-weight: bold\">0.26417863368988037</span><span style=\"color: #008000; text-decoration-color: #008000\"> &gt; </span><span style=\"color: #008080; text-decoration-color: #008080; font-weight: bold\">0</span>\n",
       "</pre>\n"
      ],
      "text/plain": [
       "\u001b[32mINFO: no improve \u001b[0m\u001b[1;36m0.26417863368988037\u001b[0m\u001b[32m > \u001b[0m\u001b[1;36m0\u001b[0m\n"
      ]
     },
     "metadata": {},
     "output_type": "display_data"
    },
    {
     "data": {
      "text/html": [
       "<pre style=\"white-space:pre;overflow-x:auto;line-height:normal;font-family:Menlo,'DejaVu Sans Mono',consolas,'Courier New',monospace\"><span style=\"color: #008000; text-decoration-color: #008000\">Expected Improvement: </span><span style=\"color: #008080; text-decoration-color: #008080; font-weight: bold\">1.729905605316162</span><span style=\"color: #008000; text-decoration-color: #008000\"> Actual: </span><span style=\"color: #008080; text-decoration-color: #008080; font-weight: bold\">0.004590168129652739</span>\n",
       "</pre>\n"
      ],
      "text/plain": [
       "\u001b[32mExpected Improvement: \u001b[0m\u001b[1;36m1.729905605316162\u001b[0m\u001b[32m Actual: \u001b[0m\u001b[1;36m0.004590168129652739\u001b[0m\n"
      ]
     },
     "metadata": {},
     "output_type": "display_data"
    },
    {
     "data": {
      "text/html": [
       "<pre style=\"white-space:pre;overflow-x:auto;line-height:normal;font-family:Menlo,'DejaVu Sans Mono',consolas,'Courier New',monospace\"><span style=\"color: #008000; text-decoration-color: #008000\">INFO: no improve </span><span style=\"color: #008080; text-decoration-color: #008080; font-weight: bold\">0.2631116807460785</span><span style=\"color: #008000; text-decoration-color: #008000\"> &gt; </span><span style=\"color: #008080; text-decoration-color: #008080; font-weight: bold\">0</span>\n",
       "</pre>\n"
      ],
      "text/plain": [
       "\u001b[32mINFO: no improve \u001b[0m\u001b[1;36m0.2631116807460785\u001b[0m\u001b[32m > \u001b[0m\u001b[1;36m0\u001b[0m\n"
      ]
     },
     "metadata": {},
     "output_type": "display_data"
    },
    {
     "data": {
      "text/html": [
       "<pre style=\"white-space:pre;overflow-x:auto;line-height:normal;font-family:Menlo,'DejaVu Sans Mono',consolas,'Courier New',monospace\"><span style=\"color: #008000; text-decoration-color: #008000\">INFO: no suitable step found</span><span style=\"color: #808000; text-decoration-color: #808000\">...</span>\n",
       "</pre>\n"
      ],
      "text/plain": [
       "\u001b[32mINFO: no suitable step found\u001b[0m\u001b[33m...\u001b[0m\n"
      ]
     },
     "metadata": {},
     "output_type": "display_data"
    },
    {
     "data": {
      "text/html": [
       "<pre style=\"white-space:pre;overflow-x:auto;line-height:normal;font-family:Menlo,'DejaVu Sans Mono',consolas,'Courier New',monospace\">┏━━━━━━━━━━━━━━━━━━━━━━━━━━━━━━━┳━━━━━━━━━━━━━━━━━━━━━━━┓\n",
       "┃<span style=\"font-weight: bold\"> Metrics                       </span>┃<span style=\"font-weight: bold\"> Value                 </span>┃\n",
       "┡━━━━━━━━━━━━━━━━━━━━━━━━━━━━━━━╇━━━━━━━━━━━━━━━━━━━━━━━┩\n",
       "│ Metrics/EpRet                 │ 17.213001251220703    │\n",
       "│ Metrics/EpCost                │ 29.422321319580078    │\n",
       "│ Metrics/EpLen                 │ 6.0                   │\n",
       "│ Train/Epoch                   │ 30.0                  │\n",
       "│ Train/Entropy                 │ 0.8849043250083923    │\n",
       "│ Train/KL                      │ 3.948296267708429e-08 │\n",
       "│ Train/StopIter                │ 10.0                  │\n",
       "│ Train/PolicyRatio/Mean        │ 1.0000927448272705    │\n",
       "│ Train/PolicyRatio/Min         │ 1.0000927448272705    │\n",
       "│ Train/PolicyRatio/Max         │ 1.0000927448272705    │\n",
       "│ Train/PolicyRatio/Std         │ 0.0001639226684346795 │\n",
       "│ Train/LR                      │ 0.0                   │\n",
       "│ Train/PolicyStd               │ 0.5890427231788635    │\n",
       "│ TotalEnvSteps                 │ 620000.0              │\n",
       "│ Loss/Loss_pi                  │ -0.005843333434313536 │\n",
       "│ Loss/Loss_pi/Delta            │ 0.03756819711998105   │\n",
       "│ Value/Adv                     │ 2.336502102906479e-09 │\n",
       "│ Loss/Loss_reward_critic       │ 1656.110595703125     │\n",
       "│ Loss/Loss_reward_critic/Delta │ 221.9117431640625     │\n",
       "│ Value/reward                  │ 15.345487594604492    │\n",
       "│ Loss/Loss_cost_critic         │ 1228.8890380859375    │\n",
       "│ Loss/Loss_cost_critic/Delta   │ 743.1310119628906     │\n",
       "│ Value/cost                    │ 14.600592613220215    │\n",
       "│ Time/Total                    │ 1807.3935546875       │\n",
       "│ Time/Rollout                  │ 29.497526168823242    │\n",
       "│ Time/Update                   │ 30.307870864868164    │\n",
       "│ Time/Epoch                    │ 59.805397033691406    │\n",
       "│ Time/FPS                      │ 334.41796875          │\n",
       "│ Env/Success_counts            │ nan                   │\n",
       "│ Misc/Alpha                    │ 0.011561434715986252  │\n",
       "│ Misc/FinalStepNorm            │ 0.0                   │\n",
       "│ Misc/gradient_norm            │ 8.83156967163086      │\n",
       "│ Misc/xHx                      │ 149.6258087158203     │\n",
       "│ Misc/H_inv_g                  │ 22.456523895263672    │\n",
       "│ Misc/AcceptanceStep           │ 0.0                   │\n",
       "│ Misc/cost_gradient_norm       │ 513.4593505859375     │\n",
       "│ Misc/A                        │ 0.868011474609375     │\n",
       "│ Misc/B                        │ 0.01996154710650444   │\n",
       "│ Misc/q                        │ 149.6258087158203     │\n",
       "│ Misc/r                        │ 8698.1005859375       │\n",
       "│ Misc/s                        │ 508591.5              │\n",
       "│ Misc/Lambda_star              │ 86.49445343017578     │\n",
       "│ Misc/Nu_star                  │ 0.0                   │\n",
       "│ Misc/OptimCase                │ 1.0                   │\n",
       "└───────────────────────────────┴───────────────────────┘\n",
       "</pre>\n"
      ],
      "text/plain": [
       "┏━━━━━━━━━━━━━━━━━━━━━━━━━━━━━━━┳━━━━━━━━━━━━━━━━━━━━━━━┓\n",
       "┃\u001b[1m \u001b[0m\u001b[1mMetrics                      \u001b[0m\u001b[1m \u001b[0m┃\u001b[1m \u001b[0m\u001b[1mValue                \u001b[0m\u001b[1m \u001b[0m┃\n",
       "┡━━━━━━━━━━━━━━━━━━━━━━━━━━━━━━━╇━━━━━━━━━━━━━━━━━━━━━━━┩\n",
       "│ Metrics/EpRet                 │ 17.213001251220703    │\n",
       "│ Metrics/EpCost                │ 29.422321319580078    │\n",
       "│ Metrics/EpLen                 │ 6.0                   │\n",
       "│ Train/Epoch                   │ 30.0                  │\n",
       "│ Train/Entropy                 │ 0.8849043250083923    │\n",
       "│ Train/KL                      │ 3.948296267708429e-08 │\n",
       "│ Train/StopIter                │ 10.0                  │\n",
       "│ Train/PolicyRatio/Mean        │ 1.0000927448272705    │\n",
       "│ Train/PolicyRatio/Min         │ 1.0000927448272705    │\n",
       "│ Train/PolicyRatio/Max         │ 1.0000927448272705    │\n",
       "│ Train/PolicyRatio/Std         │ 0.0001639226684346795 │\n",
       "│ Train/LR                      │ 0.0                   │\n",
       "│ Train/PolicyStd               │ 0.5890427231788635    │\n",
       "│ TotalEnvSteps                 │ 620000.0              │\n",
       "│ Loss/Loss_pi                  │ -0.005843333434313536 │\n",
       "│ Loss/Loss_pi/Delta            │ 0.03756819711998105   │\n",
       "│ Value/Adv                     │ 2.336502102906479e-09 │\n",
       "│ Loss/Loss_reward_critic       │ 1656.110595703125     │\n",
       "│ Loss/Loss_reward_critic/Delta │ 221.9117431640625     │\n",
       "│ Value/reward                  │ 15.345487594604492    │\n",
       "│ Loss/Loss_cost_critic         │ 1228.8890380859375    │\n",
       "│ Loss/Loss_cost_critic/Delta   │ 743.1310119628906     │\n",
       "│ Value/cost                    │ 14.600592613220215    │\n",
       "│ Time/Total                    │ 1807.3935546875       │\n",
       "│ Time/Rollout                  │ 29.497526168823242    │\n",
       "│ Time/Update                   │ 30.307870864868164    │\n",
       "│ Time/Epoch                    │ 59.805397033691406    │\n",
       "│ Time/FPS                      │ 334.41796875          │\n",
       "│ Env/Success_counts            │ nan                   │\n",
       "│ Misc/Alpha                    │ 0.011561434715986252  │\n",
       "│ Misc/FinalStepNorm            │ 0.0                   │\n",
       "│ Misc/gradient_norm            │ 8.83156967163086      │\n",
       "│ Misc/xHx                      │ 149.6258087158203     │\n",
       "│ Misc/H_inv_g                  │ 22.456523895263672    │\n",
       "│ Misc/AcceptanceStep           │ 0.0                   │\n",
       "│ Misc/cost_gradient_norm       │ 513.4593505859375     │\n",
       "│ Misc/A                        │ 0.868011474609375     │\n",
       "│ Misc/B                        │ 0.01996154710650444   │\n",
       "│ Misc/q                        │ 149.6258087158203     │\n",
       "│ Misc/r                        │ 8698.1005859375       │\n",
       "│ Misc/s                        │ 508591.5              │\n",
       "│ Misc/Lambda_star              │ 86.49445343017578     │\n",
       "│ Misc/Nu_star                  │ 0.0                   │\n",
       "│ Misc/OptimCase                │ 1.0                   │\n",
       "└───────────────────────────────┴───────────────────────┘\n"
      ]
     },
     "metadata": {},
     "output_type": "display_data"
    },
    {
     "data": {
      "text/html": [
       "<pre style=\"white-space:pre;overflow-x:auto;line-height:normal;font-family:Menlo,'DejaVu Sans Mono',consolas,'Courier New',monospace\"><span style=\"color: #008000; text-decoration-color: #008000\">Warning: trajectory cut off when rollout by epoch at </span><span style=\"color: #008080; text-decoration-color: #008080; font-weight: bold\">2.0</span><span style=\"color: #008000; text-decoration-color: #008000\"> steps.</span>\n",
       "</pre>\n"
      ],
      "text/plain": [
       "\u001b[32mWarning: trajectory cut off when rollout by epoch at \u001b[0m\u001b[1;36m2.0\u001b[0m\u001b[32m steps.\u001b[0m\n"
      ]
     },
     "metadata": {},
     "output_type": "display_data"
    },
    {
     "data": {
      "text/html": [
       "<pre style=\"white-space:pre;overflow-x:auto;line-height:normal;font-family:Menlo,'DejaVu Sans Mono',consolas,'Courier New',monospace\"></pre>\n"
      ],
      "text/plain": []
     },
     "metadata": {},
     "output_type": "display_data"
    },
    {
     "data": {
      "text/html": [
       "<pre style=\"white-space:pre;overflow-x:auto;line-height:normal;font-family:Menlo,'DejaVu Sans Mono',consolas,'Courier New',monospace\"><span style=\"color: #008000; text-decoration-color: #008000\">Expected Improvement: </span><span style=\"color: #008080; text-decoration-color: #008080; font-weight: bold\">-0.034775517880916595</span><span style=\"color: #008000; text-decoration-color: #008000\"> Actual: </span><span style=\"color: #008080; text-decoration-color: #008080; font-weight: bold\">-0.03143841028213501</span>\n",
       "</pre>\n"
      ],
      "text/plain": [
       "\u001b[32mExpected Improvement: \u001b[0m\u001b[1;36m-0.034775517880916595\u001b[0m\u001b[32m Actual: \u001b[0m\u001b[1;36m-0.03143841028213501\u001b[0m\n"
      ]
     },
     "metadata": {},
     "output_type": "display_data"
    },
    {
     "data": {
      "text/html": [
       "<pre style=\"white-space:pre;overflow-x:auto;line-height:normal;font-family:Menlo,'DejaVu Sans Mono',consolas,'Courier New',monospace\"><span style=\"color: #008000; text-decoration-color: #008000\">INFO: did not improve improve &lt;</span><span style=\"color: #008080; text-decoration-color: #008080; font-weight: bold\">0</span>\n",
       "</pre>\n"
      ],
      "text/plain": [
       "\u001b[32mINFO: did not improve improve <\u001b[0m\u001b[1;36m0\u001b[0m\n"
      ]
     },
     "metadata": {},
     "output_type": "display_data"
    },
    {
     "data": {
      "text/html": [
       "<pre style=\"white-space:pre;overflow-x:auto;line-height:normal;font-family:Menlo,'DejaVu Sans Mono',consolas,'Courier New',monospace\"><span style=\"color: #008000; text-decoration-color: #008000\">Expected Improvement: </span><span style=\"color: #008080; text-decoration-color: #008080; font-weight: bold\">-0.034775517880916595</span><span style=\"color: #008000; text-decoration-color: #008000\"> Actual: </span><span style=\"color: #008080; text-decoration-color: #008080; font-weight: bold\">-0.025655820965766907</span>\n",
       "</pre>\n"
      ],
      "text/plain": [
       "\u001b[32mExpected Improvement: \u001b[0m\u001b[1;36m-0.034775517880916595\u001b[0m\u001b[32m Actual: \u001b[0m\u001b[1;36m-0.025655820965766907\u001b[0m\n"
      ]
     },
     "metadata": {},
     "output_type": "display_data"
    },
    {
     "data": {
      "text/html": [
       "<pre style=\"white-space:pre;overflow-x:auto;line-height:normal;font-family:Menlo,'DejaVu Sans Mono',consolas,'Courier New',monospace\"><span style=\"color: #008000; text-decoration-color: #008000\">INFO: did not improve improve &lt;</span><span style=\"color: #008080; text-decoration-color: #008080; font-weight: bold\">0</span>\n",
       "</pre>\n"
      ],
      "text/plain": [
       "\u001b[32mINFO: did not improve improve <\u001b[0m\u001b[1;36m0\u001b[0m\n"
      ]
     },
     "metadata": {},
     "output_type": "display_data"
    },
    {
     "data": {
      "text/html": [
       "<pre style=\"white-space:pre;overflow-x:auto;line-height:normal;font-family:Menlo,'DejaVu Sans Mono',consolas,'Courier New',monospace\"><span style=\"color: #008000; text-decoration-color: #008000\">Expected Improvement: </span><span style=\"color: #008080; text-decoration-color: #008080; font-weight: bold\">-0.034775517880916595</span><span style=\"color: #008000; text-decoration-color: #008000\"> Actual: </span><span style=\"color: #008080; text-decoration-color: #008080; font-weight: bold\">-0.020855160430073738</span>\n",
       "</pre>\n"
      ],
      "text/plain": [
       "\u001b[32mExpected Improvement: \u001b[0m\u001b[1;36m-0.034775517880916595\u001b[0m\u001b[32m Actual: \u001b[0m\u001b[1;36m-0.020855160430073738\u001b[0m\n"
      ]
     },
     "metadata": {},
     "output_type": "display_data"
    },
    {
     "data": {
      "text/html": [
       "<pre style=\"white-space:pre;overflow-x:auto;line-height:normal;font-family:Menlo,'DejaVu Sans Mono',consolas,'Courier New',monospace\"><span style=\"color: #008000; text-decoration-color: #008000\">INFO: did not improve improve &lt;</span><span style=\"color: #008080; text-decoration-color: #008080; font-weight: bold\">0</span>\n",
       "</pre>\n"
      ],
      "text/plain": [
       "\u001b[32mINFO: did not improve improve <\u001b[0m\u001b[1;36m0\u001b[0m\n"
      ]
     },
     "metadata": {},
     "output_type": "display_data"
    },
    {
     "data": {
      "text/html": [
       "<pre style=\"white-space:pre;overflow-x:auto;line-height:normal;font-family:Menlo,'DejaVu Sans Mono',consolas,'Courier New',monospace\"><span style=\"color: #008000; text-decoration-color: #008000\">Expected Improvement: </span><span style=\"color: #008080; text-decoration-color: #008080; font-weight: bold\">-0.034775517880916595</span><span style=\"color: #008000; text-decoration-color: #008000\"> Actual: </span><span style=\"color: #008080; text-decoration-color: #008080; font-weight: bold\">-0.016902951523661613</span>\n",
       "</pre>\n"
      ],
      "text/plain": [
       "\u001b[32mExpected Improvement: \u001b[0m\u001b[1;36m-0.034775517880916595\u001b[0m\u001b[32m Actual: \u001b[0m\u001b[1;36m-0.016902951523661613\u001b[0m\n"
      ]
     },
     "metadata": {},
     "output_type": "display_data"
    },
    {
     "data": {
      "text/html": [
       "<pre style=\"white-space:pre;overflow-x:auto;line-height:normal;font-family:Menlo,'DejaVu Sans Mono',consolas,'Courier New',monospace\"><span style=\"color: #008000; text-decoration-color: #008000\">INFO: did not improve improve &lt;</span><span style=\"color: #008080; text-decoration-color: #008080; font-weight: bold\">0</span>\n",
       "</pre>\n"
      ],
      "text/plain": [
       "\u001b[32mINFO: did not improve improve <\u001b[0m\u001b[1;36m0\u001b[0m\n"
      ]
     },
     "metadata": {},
     "output_type": "display_data"
    },
    {
     "data": {
      "text/html": [
       "<pre style=\"white-space:pre;overflow-x:auto;line-height:normal;font-family:Menlo,'DejaVu Sans Mono',consolas,'Courier New',monospace\"><span style=\"color: #008000; text-decoration-color: #008000\">Expected Improvement: </span><span style=\"color: #008080; text-decoration-color: #008080; font-weight: bold\">-0.034775517880916595</span><span style=\"color: #008000; text-decoration-color: #008000\"> Actual: </span><span style=\"color: #008080; text-decoration-color: #008080; font-weight: bold\">-0.013664957135915756</span>\n",
       "</pre>\n"
      ],
      "text/plain": [
       "\u001b[32mExpected Improvement: \u001b[0m\u001b[1;36m-0.034775517880916595\u001b[0m\u001b[32m Actual: \u001b[0m\u001b[1;36m-0.013664957135915756\u001b[0m\n"
      ]
     },
     "metadata": {},
     "output_type": "display_data"
    },
    {
     "data": {
      "text/html": [
       "<pre style=\"white-space:pre;overflow-x:auto;line-height:normal;font-family:Menlo,'DejaVu Sans Mono',consolas,'Courier New',monospace\"><span style=\"color: #008000; text-decoration-color: #008000\">INFO: did not improve improve &lt;</span><span style=\"color: #008080; text-decoration-color: #008080; font-weight: bold\">0</span>\n",
       "</pre>\n"
      ],
      "text/plain": [
       "\u001b[32mINFO: did not improve improve <\u001b[0m\u001b[1;36m0\u001b[0m\n"
      ]
     },
     "metadata": {},
     "output_type": "display_data"
    },
    {
     "data": {
      "text/html": [
       "<pre style=\"white-space:pre;overflow-x:auto;line-height:normal;font-family:Menlo,'DejaVu Sans Mono',consolas,'Courier New',monospace\"><span style=\"color: #008000; text-decoration-color: #008000\">Expected Improvement: </span><span style=\"color: #008080; text-decoration-color: #008080; font-weight: bold\">-0.034775517880916595</span><span style=\"color: #008000; text-decoration-color: #008000\"> Actual: </span><span style=\"color: #008080; text-decoration-color: #008080; font-weight: bold\">-0.011022270657122135</span>\n",
       "</pre>\n"
      ],
      "text/plain": [
       "\u001b[32mExpected Improvement: \u001b[0m\u001b[1;36m-0.034775517880916595\u001b[0m\u001b[32m Actual: \u001b[0m\u001b[1;36m-0.011022270657122135\u001b[0m\n"
      ]
     },
     "metadata": {},
     "output_type": "display_data"
    },
    {
     "data": {
      "text/html": [
       "<pre style=\"white-space:pre;overflow-x:auto;line-height:normal;font-family:Menlo,'DejaVu Sans Mono',consolas,'Courier New',monospace\"><span style=\"color: #008000; text-decoration-color: #008000\">INFO: did not improve improve &lt;</span><span style=\"color: #008080; text-decoration-color: #008080; font-weight: bold\">0</span>\n",
       "</pre>\n"
      ],
      "text/plain": [
       "\u001b[32mINFO: did not improve improve <\u001b[0m\u001b[1;36m0\u001b[0m\n"
      ]
     },
     "metadata": {},
     "output_type": "display_data"
    },
    {
     "data": {
      "text/html": [
       "<pre style=\"white-space:pre;overflow-x:auto;line-height:normal;font-family:Menlo,'DejaVu Sans Mono',consolas,'Courier New',monospace\"><span style=\"color: #008000; text-decoration-color: #008000\">Expected Improvement: </span><span style=\"color: #008080; text-decoration-color: #008080; font-weight: bold\">-0.034775517880916595</span><span style=\"color: #008000; text-decoration-color: #008000\"> Actual: </span><span style=\"color: #008080; text-decoration-color: #008080; font-weight: bold\">-0.008876592852175236</span>\n",
       "</pre>\n"
      ],
      "text/plain": [
       "\u001b[32mExpected Improvement: \u001b[0m\u001b[1;36m-0.034775517880916595\u001b[0m\u001b[32m Actual: \u001b[0m\u001b[1;36m-0.008876592852175236\u001b[0m\n"
      ]
     },
     "metadata": {},
     "output_type": "display_data"
    },
    {
     "data": {
      "text/html": [
       "<pre style=\"white-space:pre;overflow-x:auto;line-height:normal;font-family:Menlo,'DejaVu Sans Mono',consolas,'Courier New',monospace\"><span style=\"color: #008000; text-decoration-color: #008000\">INFO: did not improve improve &lt;</span><span style=\"color: #008080; text-decoration-color: #008080; font-weight: bold\">0</span>\n",
       "</pre>\n"
      ],
      "text/plain": [
       "\u001b[32mINFO: did not improve improve <\u001b[0m\u001b[1;36m0\u001b[0m\n"
      ]
     },
     "metadata": {},
     "output_type": "display_data"
    },
    {
     "data": {
      "text/html": [
       "<pre style=\"white-space:pre;overflow-x:auto;line-height:normal;font-family:Menlo,'DejaVu Sans Mono',consolas,'Courier New',monospace\"><span style=\"color: #008000; text-decoration-color: #008000\">Expected Improvement: </span><span style=\"color: #008080; text-decoration-color: #008080; font-weight: bold\">-0.034775517880916595</span><span style=\"color: #008000; text-decoration-color: #008000\"> Actual: </span><span style=\"color: #008080; text-decoration-color: #008080; font-weight: bold\">-0.00713803106918931</span>\n",
       "</pre>\n"
      ],
      "text/plain": [
       "\u001b[32mExpected Improvement: \u001b[0m\u001b[1;36m-0.034775517880916595\u001b[0m\u001b[32m Actual: \u001b[0m\u001b[1;36m-0.00713803106918931\u001b[0m\n"
      ]
     },
     "metadata": {},
     "output_type": "display_data"
    },
    {
     "data": {
      "text/html": [
       "<pre style=\"white-space:pre;overflow-x:auto;line-height:normal;font-family:Menlo,'DejaVu Sans Mono',consolas,'Courier New',monospace\"><span style=\"color: #008000; text-decoration-color: #008000\">INFO: did not improve improve &lt;</span><span style=\"color: #008080; text-decoration-color: #008080; font-weight: bold\">0</span>\n",
       "</pre>\n"
      ],
      "text/plain": [
       "\u001b[32mINFO: did not improve improve <\u001b[0m\u001b[1;36m0\u001b[0m\n"
      ]
     },
     "metadata": {},
     "output_type": "display_data"
    },
    {
     "data": {
      "text/html": [
       "<pre style=\"white-space:pre;overflow-x:auto;line-height:normal;font-family:Menlo,'DejaVu Sans Mono',consolas,'Courier New',monospace\"><span style=\"color: #008000; text-decoration-color: #008000\">Expected Improvement: </span><span style=\"color: #008080; text-decoration-color: #008080; font-weight: bold\">-0.034775517880916595</span><span style=\"color: #008000; text-decoration-color: #008000\"> Actual: </span><span style=\"color: #008080; text-decoration-color: #008080; font-weight: bold\">-0.0057342019863426685</span>\n",
       "</pre>\n"
      ],
      "text/plain": [
       "\u001b[32mExpected Improvement: \u001b[0m\u001b[1;36m-0.034775517880916595\u001b[0m\u001b[32m Actual: \u001b[0m\u001b[1;36m-0.0057342019863426685\u001b[0m\n"
      ]
     },
     "metadata": {},
     "output_type": "display_data"
    },
    {
     "data": {
      "text/html": [
       "<pre style=\"white-space:pre;overflow-x:auto;line-height:normal;font-family:Menlo,'DejaVu Sans Mono',consolas,'Courier New',monospace\"><span style=\"color: #008000; text-decoration-color: #008000\">INFO: did not improve improve &lt;</span><span style=\"color: #008080; text-decoration-color: #008080; font-weight: bold\">0</span>\n",
       "</pre>\n"
      ],
      "text/plain": [
       "\u001b[32mINFO: did not improve improve <\u001b[0m\u001b[1;36m0\u001b[0m\n"
      ]
     },
     "metadata": {},
     "output_type": "display_data"
    },
    {
     "data": {
      "text/html": [
       "<pre style=\"white-space:pre;overflow-x:auto;line-height:normal;font-family:Menlo,'DejaVu Sans Mono',consolas,'Courier New',monospace\"><span style=\"color: #008000; text-decoration-color: #008000\">Expected Improvement: </span><span style=\"color: #008080; text-decoration-color: #008080; font-weight: bold\">-0.034775517880916595</span><span style=\"color: #008000; text-decoration-color: #008000\"> Actual: </span><span style=\"color: #008080; text-decoration-color: #008080; font-weight: bold\">-0.004602510016411543</span>\n",
       "</pre>\n"
      ],
      "text/plain": [
       "\u001b[32mExpected Improvement: \u001b[0m\u001b[1;36m-0.034775517880916595\u001b[0m\u001b[32m Actual: \u001b[0m\u001b[1;36m-0.004602510016411543\u001b[0m\n"
      ]
     },
     "metadata": {},
     "output_type": "display_data"
    },
    {
     "data": {
      "text/html": [
       "<pre style=\"white-space:pre;overflow-x:auto;line-height:normal;font-family:Menlo,'DejaVu Sans Mono',consolas,'Courier New',monospace\"><span style=\"color: #008000; text-decoration-color: #008000\">INFO: did not improve improve &lt;</span><span style=\"color: #008080; text-decoration-color: #008080; font-weight: bold\">0</span>\n",
       "</pre>\n"
      ],
      "text/plain": [
       "\u001b[32mINFO: did not improve improve <\u001b[0m\u001b[1;36m0\u001b[0m\n"
      ]
     },
     "metadata": {},
     "output_type": "display_data"
    },
    {
     "data": {
      "text/html": [
       "<pre style=\"white-space:pre;overflow-x:auto;line-height:normal;font-family:Menlo,'DejaVu Sans Mono',consolas,'Courier New',monospace\"><span style=\"color: #008000; text-decoration-color: #008000\">Expected Improvement: </span><span style=\"color: #008080; text-decoration-color: #008080; font-weight: bold\">-0.034775517880916595</span><span style=\"color: #008000; text-decoration-color: #008000\"> Actual: </span><span style=\"color: #008080; text-decoration-color: #008080; font-weight: bold\">-0.003691508900374174</span>\n",
       "</pre>\n"
      ],
      "text/plain": [
       "\u001b[32mExpected Improvement: \u001b[0m\u001b[1;36m-0.034775517880916595\u001b[0m\u001b[32m Actual: \u001b[0m\u001b[1;36m-0.003691508900374174\u001b[0m\n"
      ]
     },
     "metadata": {},
     "output_type": "display_data"
    },
    {
     "data": {
      "text/html": [
       "<pre style=\"white-space:pre;overflow-x:auto;line-height:normal;font-family:Menlo,'DejaVu Sans Mono',consolas,'Courier New',monospace\"><span style=\"color: #008000; text-decoration-color: #008000\">INFO: did not improve improve &lt;</span><span style=\"color: #008080; text-decoration-color: #008080; font-weight: bold\">0</span>\n",
       "</pre>\n"
      ],
      "text/plain": [
       "\u001b[32mINFO: did not improve improve <\u001b[0m\u001b[1;36m0\u001b[0m\n"
      ]
     },
     "metadata": {},
     "output_type": "display_data"
    },
    {
     "data": {
      "text/html": [
       "<pre style=\"white-space:pre;overflow-x:auto;line-height:normal;font-family:Menlo,'DejaVu Sans Mono',consolas,'Courier New',monospace\"><span style=\"color: #008000; text-decoration-color: #008000\">Expected Improvement: </span><span style=\"color: #008080; text-decoration-color: #008080; font-weight: bold\">-0.034775517880916595</span><span style=\"color: #008000; text-decoration-color: #008000\"> Actual: </span><span style=\"color: #008080; text-decoration-color: #008080; font-weight: bold\">-0.0029595261439681053</span>\n",
       "</pre>\n"
      ],
      "text/plain": [
       "\u001b[32mExpected Improvement: \u001b[0m\u001b[1;36m-0.034775517880916595\u001b[0m\u001b[32m Actual: \u001b[0m\u001b[1;36m-0.0029595261439681053\u001b[0m\n"
      ]
     },
     "metadata": {},
     "output_type": "display_data"
    },
    {
     "data": {
      "text/html": [
       "<pre style=\"white-space:pre;overflow-x:auto;line-height:normal;font-family:Menlo,'DejaVu Sans Mono',consolas,'Courier New',monospace\"><span style=\"color: #008000; text-decoration-color: #008000\">INFO: did not improve improve &lt;</span><span style=\"color: #008080; text-decoration-color: #008080; font-weight: bold\">0</span>\n",
       "</pre>\n"
      ],
      "text/plain": [
       "\u001b[32mINFO: did not improve improve <\u001b[0m\u001b[1;36m0\u001b[0m\n"
      ]
     },
     "metadata": {},
     "output_type": "display_data"
    },
    {
     "data": {
      "text/html": [
       "<pre style=\"white-space:pre;overflow-x:auto;line-height:normal;font-family:Menlo,'DejaVu Sans Mono',consolas,'Courier New',monospace\"><span style=\"color: #008000; text-decoration-color: #008000\">Expected Improvement: </span><span style=\"color: #008080; text-decoration-color: #008080; font-weight: bold\">-0.034775517880916595</span><span style=\"color: #008000; text-decoration-color: #008000\"> Actual: </span><span style=\"color: #008080; text-decoration-color: #008080; font-weight: bold\">-0.002371697686612606</span>\n",
       "</pre>\n"
      ],
      "text/plain": [
       "\u001b[32mExpected Improvement: \u001b[0m\u001b[1;36m-0.034775517880916595\u001b[0m\u001b[32m Actual: \u001b[0m\u001b[1;36m-0.002371697686612606\u001b[0m\n"
      ]
     },
     "metadata": {},
     "output_type": "display_data"
    },
    {
     "data": {
      "text/html": [
       "<pre style=\"white-space:pre;overflow-x:auto;line-height:normal;font-family:Menlo,'DejaVu Sans Mono',consolas,'Courier New',monospace\"><span style=\"color: #008000; text-decoration-color: #008000\">INFO: did not improve improve &lt;</span><span style=\"color: #008080; text-decoration-color: #008080; font-weight: bold\">0</span>\n",
       "</pre>\n"
      ],
      "text/plain": [
       "\u001b[32mINFO: did not improve improve <\u001b[0m\u001b[1;36m0\u001b[0m\n"
      ]
     },
     "metadata": {},
     "output_type": "display_data"
    },
    {
     "data": {
      "text/html": [
       "<pre style=\"white-space:pre;overflow-x:auto;line-height:normal;font-family:Menlo,'DejaVu Sans Mono',consolas,'Courier New',monospace\"><span style=\"color: #008000; text-decoration-color: #008000\">Expected Improvement: </span><span style=\"color: #008080; text-decoration-color: #008080; font-weight: bold\">-0.034775517880916595</span><span style=\"color: #008000; text-decoration-color: #008000\"> Actual: </span><span style=\"color: #008080; text-decoration-color: #008080; font-weight: bold\">-0.0019000060856342316</span>\n",
       "</pre>\n"
      ],
      "text/plain": [
       "\u001b[32mExpected Improvement: \u001b[0m\u001b[1;36m-0.034775517880916595\u001b[0m\u001b[32m Actual: \u001b[0m\u001b[1;36m-0.0019000060856342316\u001b[0m\n"
      ]
     },
     "metadata": {},
     "output_type": "display_data"
    },
    {
     "data": {
      "text/html": [
       "<pre style=\"white-space:pre;overflow-x:auto;line-height:normal;font-family:Menlo,'DejaVu Sans Mono',consolas,'Courier New',monospace\"><span style=\"color: #008000; text-decoration-color: #008000\">INFO: did not improve improve &lt;</span><span style=\"color: #008080; text-decoration-color: #008080; font-weight: bold\">0</span>\n",
       "</pre>\n"
      ],
      "text/plain": [
       "\u001b[32mINFO: did not improve improve <\u001b[0m\u001b[1;36m0\u001b[0m\n"
      ]
     },
     "metadata": {},
     "output_type": "display_data"
    },
    {
     "data": {
      "text/html": [
       "<pre style=\"white-space:pre;overflow-x:auto;line-height:normal;font-family:Menlo,'DejaVu Sans Mono',consolas,'Courier New',monospace\"><span style=\"color: #008000; text-decoration-color: #008000\">Expected Improvement: </span><span style=\"color: #008080; text-decoration-color: #008080; font-weight: bold\">-0.034775517880916595</span><span style=\"color: #008000; text-decoration-color: #008000\"> Actual: </span><span style=\"color: #008080; text-decoration-color: #008080; font-weight: bold\">-0.001521787024103105</span>\n",
       "</pre>\n"
      ],
      "text/plain": [
       "\u001b[32mExpected Improvement: \u001b[0m\u001b[1;36m-0.034775517880916595\u001b[0m\u001b[32m Actual: \u001b[0m\u001b[1;36m-0.001521787024103105\u001b[0m\n"
      ]
     },
     "metadata": {},
     "output_type": "display_data"
    },
    {
     "data": {
      "text/html": [
       "<pre style=\"white-space:pre;overflow-x:auto;line-height:normal;font-family:Menlo,'DejaVu Sans Mono',consolas,'Courier New',monospace\"><span style=\"color: #008000; text-decoration-color: #008000\">INFO: did not improve improve &lt;</span><span style=\"color: #008080; text-decoration-color: #008080; font-weight: bold\">0</span>\n",
       "</pre>\n"
      ],
      "text/plain": [
       "\u001b[32mINFO: did not improve improve <\u001b[0m\u001b[1;36m0\u001b[0m\n"
      ]
     },
     "metadata": {},
     "output_type": "display_data"
    },
    {
     "data": {
      "text/html": [
       "<pre style=\"white-space:pre;overflow-x:auto;line-height:normal;font-family:Menlo,'DejaVu Sans Mono',consolas,'Courier New',monospace\"><span style=\"color: #008000; text-decoration-color: #008000\">Expected Improvement: </span><span style=\"color: #008080; text-decoration-color: #008080; font-weight: bold\">-0.034775517880916595</span><span style=\"color: #008000; text-decoration-color: #008000\"> Actual: </span><span style=\"color: #008080; text-decoration-color: #008080; font-weight: bold\">-0.0012186795938760042</span>\n",
       "</pre>\n"
      ],
      "text/plain": [
       "\u001b[32mExpected Improvement: \u001b[0m\u001b[1;36m-0.034775517880916595\u001b[0m\u001b[32m Actual: \u001b[0m\u001b[1;36m-0.0012186795938760042\u001b[0m\n"
      ]
     },
     "metadata": {},
     "output_type": "display_data"
    },
    {
     "data": {
      "text/html": [
       "<pre style=\"white-space:pre;overflow-x:auto;line-height:normal;font-family:Menlo,'DejaVu Sans Mono',consolas,'Courier New',monospace\"><span style=\"color: #008000; text-decoration-color: #008000\">INFO: did not improve improve &lt;</span><span style=\"color: #008080; text-decoration-color: #008080; font-weight: bold\">0</span>\n",
       "</pre>\n"
      ],
      "text/plain": [
       "\u001b[32mINFO: did not improve improve <\u001b[0m\u001b[1;36m0\u001b[0m\n"
      ]
     },
     "metadata": {},
     "output_type": "display_data"
    },
    {
     "data": {
      "text/html": [
       "<pre style=\"white-space:pre;overflow-x:auto;line-height:normal;font-family:Menlo,'DejaVu Sans Mono',consolas,'Courier New',monospace\"><span style=\"color: #008000; text-decoration-color: #008000\">Expected Improvement: </span><span style=\"color: #008080; text-decoration-color: #008080; font-weight: bold\">-0.034775517880916595</span><span style=\"color: #008000; text-decoration-color: #008000\"> Actual: </span><span style=\"color: #008080; text-decoration-color: #008080; font-weight: bold\">-0.0009757261141203344</span>\n",
       "</pre>\n"
      ],
      "text/plain": [
       "\u001b[32mExpected Improvement: \u001b[0m\u001b[1;36m-0.034775517880916595\u001b[0m\u001b[32m Actual: \u001b[0m\u001b[1;36m-0.0009757261141203344\u001b[0m\n"
      ]
     },
     "metadata": {},
     "output_type": "display_data"
    },
    {
     "data": {
      "text/html": [
       "<pre style=\"white-space:pre;overflow-x:auto;line-height:normal;font-family:Menlo,'DejaVu Sans Mono',consolas,'Courier New',monospace\"><span style=\"color: #008000; text-decoration-color: #008000\">INFO: did not improve improve &lt;</span><span style=\"color: #008080; text-decoration-color: #008080; font-weight: bold\">0</span>\n",
       "</pre>\n"
      ],
      "text/plain": [
       "\u001b[32mINFO: did not improve improve <\u001b[0m\u001b[1;36m0\u001b[0m\n"
      ]
     },
     "metadata": {},
     "output_type": "display_data"
    },
    {
     "data": {
      "text/html": [
       "<pre style=\"white-space:pre;overflow-x:auto;line-height:normal;font-family:Menlo,'DejaVu Sans Mono',consolas,'Courier New',monospace\"><span style=\"color: #008000; text-decoration-color: #008000\">Expected Improvement: </span><span style=\"color: #008080; text-decoration-color: #008080; font-weight: bold\">-0.034775517880916595</span><span style=\"color: #008000; text-decoration-color: #008000\"> Actual: </span><span style=\"color: #008080; text-decoration-color: #008080; font-weight: bold\">-0.0007810659590177238</span>\n",
       "</pre>\n"
      ],
      "text/plain": [
       "\u001b[32mExpected Improvement: \u001b[0m\u001b[1;36m-0.034775517880916595\u001b[0m\u001b[32m Actual: \u001b[0m\u001b[1;36m-0.0007810659590177238\u001b[0m\n"
      ]
     },
     "metadata": {},
     "output_type": "display_data"
    },
    {
     "data": {
      "text/html": [
       "<pre style=\"white-space:pre;overflow-x:auto;line-height:normal;font-family:Menlo,'DejaVu Sans Mono',consolas,'Courier New',monospace\"><span style=\"color: #008000; text-decoration-color: #008000\">INFO: did not improve improve &lt;</span><span style=\"color: #008080; text-decoration-color: #008080; font-weight: bold\">0</span>\n",
       "</pre>\n"
      ],
      "text/plain": [
       "\u001b[32mINFO: did not improve improve <\u001b[0m\u001b[1;36m0\u001b[0m\n"
      ]
     },
     "metadata": {},
     "output_type": "display_data"
    },
    {
     "data": {
      "text/html": [
       "<pre style=\"white-space:pre;overflow-x:auto;line-height:normal;font-family:Menlo,'DejaVu Sans Mono',consolas,'Courier New',monospace\"><span style=\"color: #008000; text-decoration-color: #008000\">Expected Improvement: </span><span style=\"color: #008080; text-decoration-color: #008080; font-weight: bold\">-0.034775517880916595</span><span style=\"color: #008000; text-decoration-color: #008000\"> Actual: </span><span style=\"color: #008080; text-decoration-color: #008080; font-weight: bold\">-0.0006252473685890436</span>\n",
       "</pre>\n"
      ],
      "text/plain": [
       "\u001b[32mExpected Improvement: \u001b[0m\u001b[1;36m-0.034775517880916595\u001b[0m\u001b[32m Actual: \u001b[0m\u001b[1;36m-0.0006252473685890436\u001b[0m\n"
      ]
     },
     "metadata": {},
     "output_type": "display_data"
    },
    {
     "data": {
      "text/html": [
       "<pre style=\"white-space:pre;overflow-x:auto;line-height:normal;font-family:Menlo,'DejaVu Sans Mono',consolas,'Courier New',monospace\"><span style=\"color: #008000; text-decoration-color: #008000\">INFO: did not improve improve &lt;</span><span style=\"color: #008080; text-decoration-color: #008080; font-weight: bold\">0</span>\n",
       "</pre>\n"
      ],
      "text/plain": [
       "\u001b[32mINFO: did not improve improve <\u001b[0m\u001b[1;36m0\u001b[0m\n"
      ]
     },
     "metadata": {},
     "output_type": "display_data"
    },
    {
     "data": {
      "text/html": [
       "<pre style=\"white-space:pre;overflow-x:auto;line-height:normal;font-family:Menlo,'DejaVu Sans Mono',consolas,'Courier New',monospace\"><span style=\"color: #008000; text-decoration-color: #008000\">Expected Improvement: </span><span style=\"color: #008080; text-decoration-color: #008080; font-weight: bold\">-0.034775517880916595</span><span style=\"color: #008000; text-decoration-color: #008000\"> Actual: </span><span style=\"color: #008080; text-decoration-color: #008080; font-weight: bold\">-0.0005003723199479282</span>\n",
       "</pre>\n"
      ],
      "text/plain": [
       "\u001b[32mExpected Improvement: \u001b[0m\u001b[1;36m-0.034775517880916595\u001b[0m\u001b[32m Actual: \u001b[0m\u001b[1;36m-0.0005003723199479282\u001b[0m\n"
      ]
     },
     "metadata": {},
     "output_type": "display_data"
    },
    {
     "data": {
      "text/html": [
       "<pre style=\"white-space:pre;overflow-x:auto;line-height:normal;font-family:Menlo,'DejaVu Sans Mono',consolas,'Courier New',monospace\"><span style=\"color: #008000; text-decoration-color: #008000\">INFO: did not improve improve &lt;</span><span style=\"color: #008080; text-decoration-color: #008080; font-weight: bold\">0</span>\n",
       "</pre>\n"
      ],
      "text/plain": [
       "\u001b[32mINFO: did not improve improve <\u001b[0m\u001b[1;36m0\u001b[0m\n"
      ]
     },
     "metadata": {},
     "output_type": "display_data"
    },
    {
     "data": {
      "text/html": [
       "<pre style=\"white-space:pre;overflow-x:auto;line-height:normal;font-family:Menlo,'DejaVu Sans Mono',consolas,'Courier New',monospace\"><span style=\"color: #008000; text-decoration-color: #008000\">INFO: no suitable step found</span><span style=\"color: #808000; text-decoration-color: #808000\">...</span>\n",
       "</pre>\n"
      ],
      "text/plain": [
       "\u001b[32mINFO: no suitable step found\u001b[0m\u001b[33m...\u001b[0m\n"
      ]
     },
     "metadata": {},
     "output_type": "display_data"
    },
    {
     "data": {
      "text/html": [
       "<pre style=\"white-space:pre;overflow-x:auto;line-height:normal;font-family:Menlo,'DejaVu Sans Mono',consolas,'Courier New',monospace\">┏━━━━━━━━━━━━━━━━━━━━━━━━━━━━━━━┳━━━━━━━━━━━━━━━━━━━━━━━━━┓\n",
       "┃<span style=\"font-weight: bold\"> Metrics                       </span>┃<span style=\"font-weight: bold\"> Value                   </span>┃\n",
       "┡━━━━━━━━━━━━━━━━━━━━━━━━━━━━━━━╇━━━━━━━━━━━━━━━━━━━━━━━━━┩\n",
       "│ Metrics/EpRet                 │ 11.991843223571777      │\n",
       "│ Metrics/EpCost                │ 24.519365310668945      │\n",
       "│ Metrics/EpLen                 │ 6.0                     │\n",
       "│ Train/Epoch                   │ 31.0                    │\n",
       "│ Train/Entropy                 │ 0.8845177292823792      │\n",
       "│ Train/KL                      │ 2.560385015115685e-09   │\n",
       "│ Train/StopIter                │ 10.0                    │\n",
       "│ Train/PolicyRatio/Mean        │ 1.0005813837051392      │\n",
       "│ Train/PolicyRatio/Min         │ 1.0005813837051392      │\n",
       "│ Train/PolicyRatio/Max         │ 1.0005813837051392      │\n",
       "│ Train/PolicyRatio/Std         │ 0.000719203962944448    │\n",
       "│ Train/LR                      │ 0.0                     │\n",
       "│ Train/PolicyStd               │ 0.5888060927391052      │\n",
       "│ TotalEnvSteps                 │ 640000.0                │\n",
       "│ Loss/Loss_pi                  │ 0.0070624579675495625   │\n",
       "│ Loss/Loss_pi/Delta            │ 0.012905791401863098    │\n",
       "│ Value/Adv                     │ -3.2424927187690855e-09 │\n",
       "│ Loss/Loss_reward_critic       │ 1521.8604736328125      │\n",
       "│ Loss/Loss_reward_critic/Delta │ -134.2501220703125      │\n",
       "│ Value/reward                  │ 14.575851440429688      │\n",
       "│ Loss/Loss_cost_critic         │ 476.8671569824219       │\n",
       "│ Loss/Loss_cost_critic/Delta   │ -752.0218811035156      │\n",
       "│ Value/cost                    │ 15.085443496704102      │\n",
       "│ Time/Total                    │ 1881.0772705078125      │\n",
       "│ Time/Rollout                  │ 33.94709014892578       │\n",
       "│ Time/Update                   │ 39.6904296875           │\n",
       "│ Time/Epoch                    │ 73.63751983642578       │\n",
       "│ Time/FPS                      │ 271.6006774902344       │\n",
       "│ Env/Success_counts            │ nan                     │\n",
       "│ Misc/Alpha                    │ 0.12582869827747345     │\n",
       "│ Misc/FinalStepNorm            │ 0.0                     │\n",
       "│ Misc/gradient_norm            │ 4.291292190551758       │\n",
       "│ Misc/xHx                      │ 1.263195514678955       │\n",
       "│ Misc/H_inv_g                  │ 1.1889023780822754      │\n",
       "│ Misc/AcceptanceStep           │ 0.0                     │\n",
       "│ Misc/cost_gradient_norm       │ 182.97021484375         │\n",
       "│ Misc/A                        │ 0.8031222820281982      │\n",
       "│ Misc/B                        │ 0.019644958898425102    │\n",
       "│ Misc/q                        │ 1.263195514678955       │\n",
       "│ Misc/r                        │ 17.301738739013672      │\n",
       "│ Misc/s                        │ 650.6576538085938       │\n",
       "│ Misc/Lambda_star              │ -35.9976921081543       │\n",
       "│ Misc/Nu_star                  │ 0.0                     │\n",
       "│ Misc/OptimCase                │ 2.0                     │\n",
       "└───────────────────────────────┴─────────────────────────┘\n",
       "</pre>\n"
      ],
      "text/plain": [
       "┏━━━━━━━━━━━━━━━━━━━━━━━━━━━━━━━┳━━━━━━━━━━━━━━━━━━━━━━━━━┓\n",
       "┃\u001b[1m \u001b[0m\u001b[1mMetrics                      \u001b[0m\u001b[1m \u001b[0m┃\u001b[1m \u001b[0m\u001b[1mValue                  \u001b[0m\u001b[1m \u001b[0m┃\n",
       "┡━━━━━━━━━━━━━━━━━━━━━━━━━━━━━━━╇━━━━━━━━━━━━━━━━━━━━━━━━━┩\n",
       "│ Metrics/EpRet                 │ 11.991843223571777      │\n",
       "│ Metrics/EpCost                │ 24.519365310668945      │\n",
       "│ Metrics/EpLen                 │ 6.0                     │\n",
       "│ Train/Epoch                   │ 31.0                    │\n",
       "│ Train/Entropy                 │ 0.8845177292823792      │\n",
       "│ Train/KL                      │ 2.560385015115685e-09   │\n",
       "│ Train/StopIter                │ 10.0                    │\n",
       "│ Train/PolicyRatio/Mean        │ 1.0005813837051392      │\n",
       "│ Train/PolicyRatio/Min         │ 1.0005813837051392      │\n",
       "│ Train/PolicyRatio/Max         │ 1.0005813837051392      │\n",
       "│ Train/PolicyRatio/Std         │ 0.000719203962944448    │\n",
       "│ Train/LR                      │ 0.0                     │\n",
       "│ Train/PolicyStd               │ 0.5888060927391052      │\n",
       "│ TotalEnvSteps                 │ 640000.0                │\n",
       "│ Loss/Loss_pi                  │ 0.0070624579675495625   │\n",
       "│ Loss/Loss_pi/Delta            │ 0.012905791401863098    │\n",
       "│ Value/Adv                     │ -3.2424927187690855e-09 │\n",
       "│ Loss/Loss_reward_critic       │ 1521.8604736328125      │\n",
       "│ Loss/Loss_reward_critic/Delta │ -134.2501220703125      │\n",
       "│ Value/reward                  │ 14.575851440429688      │\n",
       "│ Loss/Loss_cost_critic         │ 476.8671569824219       │\n",
       "│ Loss/Loss_cost_critic/Delta   │ -752.0218811035156      │\n",
       "│ Value/cost                    │ 15.085443496704102      │\n",
       "│ Time/Total                    │ 1881.0772705078125      │\n",
       "│ Time/Rollout                  │ 33.94709014892578       │\n",
       "│ Time/Update                   │ 39.6904296875           │\n",
       "│ Time/Epoch                    │ 73.63751983642578       │\n",
       "│ Time/FPS                      │ 271.6006774902344       │\n",
       "│ Env/Success_counts            │ nan                     │\n",
       "│ Misc/Alpha                    │ 0.12582869827747345     │\n",
       "│ Misc/FinalStepNorm            │ 0.0                     │\n",
       "│ Misc/gradient_norm            │ 4.291292190551758       │\n",
       "│ Misc/xHx                      │ 1.263195514678955       │\n",
       "│ Misc/H_inv_g                  │ 1.1889023780822754      │\n",
       "│ Misc/AcceptanceStep           │ 0.0                     │\n",
       "│ Misc/cost_gradient_norm       │ 182.97021484375         │\n",
       "│ Misc/A                        │ 0.8031222820281982      │\n",
       "│ Misc/B                        │ 0.019644958898425102    │\n",
       "│ Misc/q                        │ 1.263195514678955       │\n",
       "│ Misc/r                        │ 17.301738739013672      │\n",
       "│ Misc/s                        │ 650.6576538085938       │\n",
       "│ Misc/Lambda_star              │ -35.9976921081543       │\n",
       "│ Misc/Nu_star                  │ 0.0                     │\n",
       "│ Misc/OptimCase                │ 2.0                     │\n",
       "└───────────────────────────────┴─────────────────────────┘\n"
      ]
     },
     "metadata": {},
     "output_type": "display_data"
    },
    {
     "data": {
      "text/html": [
       "<pre style=\"white-space:pre;overflow-x:auto;line-height:normal;font-family:Menlo,'DejaVu Sans Mono',consolas,'Courier New',monospace\"><span style=\"color: #008000; text-decoration-color: #008000\">Warning: trajectory cut off when rollout by epoch at </span><span style=\"color: #008080; text-decoration-color: #008080; font-weight: bold\">2.0</span><span style=\"color: #008000; text-decoration-color: #008000\"> steps.</span>\n",
       "</pre>\n"
      ],
      "text/plain": [
       "\u001b[32mWarning: trajectory cut off when rollout by epoch at \u001b[0m\u001b[1;36m2.0\u001b[0m\u001b[32m steps.\u001b[0m\n"
      ]
     },
     "metadata": {},
     "output_type": "display_data"
    },
    {
     "data": {
      "text/html": [
       "<pre style=\"white-space:pre;overflow-x:auto;line-height:normal;font-family:Menlo,'DejaVu Sans Mono',consolas,'Courier New',monospace\"></pre>\n"
      ],
      "text/plain": []
     },
     "metadata": {},
     "output_type": "display_data"
    },
    {
     "data": {
      "text/html": [
       "<pre style=\"white-space:pre;overflow-x:auto;line-height:normal;font-family:Menlo,'DejaVu Sans Mono',consolas,'Courier New',monospace\"><span style=\"color: #808000; text-decoration-color: #808000\">Alert! Attempting feasible recovery!</span>\n",
       "</pre>\n"
      ],
      "text/plain": [
       "\u001b[33mAlert! Attempting feasible recovery!\u001b[0m\n"
      ]
     },
     "metadata": {},
     "output_type": "display_data"
    },
    {
     "data": {
      "text/html": [
       "<pre style=\"white-space:pre;overflow-x:auto;line-height:normal;font-family:Menlo,'DejaVu Sans Mono',consolas,'Courier New',monospace\"><span style=\"color: #008000; text-decoration-color: #008000\">Expected Improvement: </span><span style=\"color: #008080; text-decoration-color: #008080; font-weight: bold\">0.184867262840271</span><span style=\"color: #008000; text-decoration-color: #008000\"> Actual: </span><span style=\"color: #008080; text-decoration-color: #008080; font-weight: bold\">0.21468715369701385</span>\n",
       "</pre>\n"
      ],
      "text/plain": [
       "\u001b[32mExpected Improvement: \u001b[0m\u001b[1;36m0.184867262840271\u001b[0m\u001b[32m Actual: \u001b[0m\u001b[1;36m0.21468715369701385\u001b[0m\n"
      ]
     },
     "metadata": {},
     "output_type": "display_data"
    },
    {
     "data": {
      "text/html": [
       "<pre style=\"white-space:pre;overflow-x:auto;line-height:normal;font-family:Menlo,'DejaVu Sans Mono',consolas,'Courier New',monospace\"><span style=\"color: #008000; text-decoration-color: #008000\">INFO: no improve </span><span style=\"color: #008080; text-decoration-color: #008080; font-weight: bold\">2.952741861343384</span><span style=\"color: #008000; text-decoration-color: #008000\"> &gt; </span><span style=\"color: #008080; text-decoration-color: #008080; font-weight: bold\">0</span>\n",
       "</pre>\n"
      ],
      "text/plain": [
       "\u001b[32mINFO: no improve \u001b[0m\u001b[1;36m2.952741861343384\u001b[0m\u001b[32m > \u001b[0m\u001b[1;36m0\u001b[0m\n"
      ]
     },
     "metadata": {},
     "output_type": "display_data"
    },
    {
     "data": {
      "text/html": [
       "<pre style=\"white-space:pre;overflow-x:auto;line-height:normal;font-family:Menlo,'DejaVu Sans Mono',consolas,'Courier New',monospace\"><span style=\"color: #008000; text-decoration-color: #008000\">Expected Improvement: </span><span style=\"color: #008080; text-decoration-color: #008080; font-weight: bold\">0.184867262840271</span><span style=\"color: #008000; text-decoration-color: #008000\"> Actual: </span><span style=\"color: #008080; text-decoration-color: #008080; font-weight: bold\">0.16040465235710144</span>\n",
       "</pre>\n"
      ],
      "text/plain": [
       "\u001b[32mExpected Improvement: \u001b[0m\u001b[1;36m0.184867262840271\u001b[0m\u001b[32m Actual: \u001b[0m\u001b[1;36m0.16040465235710144\u001b[0m\n"
      ]
     },
     "metadata": {},
     "output_type": "display_data"
    },
    {
     "data": {
      "text/html": [
       "<pre style=\"white-space:pre;overflow-x:auto;line-height:normal;font-family:Menlo,'DejaVu Sans Mono',consolas,'Courier New',monospace\"><span style=\"color: #008000; text-decoration-color: #008000\">INFO: no improve </span><span style=\"color: #008080; text-decoration-color: #008080; font-weight: bold\">2.223557710647583</span><span style=\"color: #008000; text-decoration-color: #008000\"> &gt; </span><span style=\"color: #008080; text-decoration-color: #008080; font-weight: bold\">0</span>\n",
       "</pre>\n"
      ],
      "text/plain": [
       "\u001b[32mINFO: no improve \u001b[0m\u001b[1;36m2.223557710647583\u001b[0m\u001b[32m > \u001b[0m\u001b[1;36m0\u001b[0m\n"
      ]
     },
     "metadata": {},
     "output_type": "display_data"
    },
    {
     "data": {
      "text/html": [
       "<pre style=\"white-space:pre;overflow-x:auto;line-height:normal;font-family:Menlo,'DejaVu Sans Mono',consolas,'Courier New',monospace\"><span style=\"color: #008000; text-decoration-color: #008000\">Expected Improvement: </span><span style=\"color: #008080; text-decoration-color: #008080; font-weight: bold\">0.184867262840271</span><span style=\"color: #008000; text-decoration-color: #008000\"> Actual: </span><span style=\"color: #008080; text-decoration-color: #008080; font-weight: bold\">0.12092748284339905</span>\n",
       "</pre>\n"
      ],
      "text/plain": [
       "\u001b[32mExpected Improvement: \u001b[0m\u001b[1;36m0.184867262840271\u001b[0m\u001b[32m Actual: \u001b[0m\u001b[1;36m0.12092748284339905\u001b[0m\n"
      ]
     },
     "metadata": {},
     "output_type": "display_data"
    },
    {
     "data": {
      "text/html": [
       "<pre style=\"white-space:pre;overflow-x:auto;line-height:normal;font-family:Menlo,'DejaVu Sans Mono',consolas,'Courier New',monospace\"><span style=\"color: #008000; text-decoration-color: #008000\">INFO: no improve </span><span style=\"color: #008080; text-decoration-color: #008080; font-weight: bold\">1.7012138366699219</span><span style=\"color: #008000; text-decoration-color: #008000\"> &gt; </span><span style=\"color: #008080; text-decoration-color: #008080; font-weight: bold\">0</span>\n",
       "</pre>\n"
      ],
      "text/plain": [
       "\u001b[32mINFO: no improve \u001b[0m\u001b[1;36m1.7012138366699219\u001b[0m\u001b[32m > \u001b[0m\u001b[1;36m0\u001b[0m\n"
      ]
     },
     "metadata": {},
     "output_type": "display_data"
    },
    {
     "data": {
      "text/html": [
       "<pre style=\"white-space:pre;overflow-x:auto;line-height:normal;font-family:Menlo,'DejaVu Sans Mono',consolas,'Courier New',monospace\"><span style=\"color: #008000; text-decoration-color: #008000\">Expected Improvement: </span><span style=\"color: #008080; text-decoration-color: #008080; font-weight: bold\">0.184867262840271</span><span style=\"color: #008000; text-decoration-color: #008000\"> Actual: </span><span style=\"color: #008080; text-decoration-color: #008080; font-weight: bold\">0.09206247329711914</span>\n",
       "</pre>\n"
      ],
      "text/plain": [
       "\u001b[32mExpected Improvement: \u001b[0m\u001b[1;36m0.184867262840271\u001b[0m\u001b[32m Actual: \u001b[0m\u001b[1;36m0.09206247329711914\u001b[0m\n"
      ]
     },
     "metadata": {},
     "output_type": "display_data"
    },
    {
     "data": {
      "text/html": [
       "<pre style=\"white-space:pre;overflow-x:auto;line-height:normal;font-family:Menlo,'DejaVu Sans Mono',consolas,'Courier New',monospace\"><span style=\"color: #008000; text-decoration-color: #008000\">INFO: no improve </span><span style=\"color: #008080; text-decoration-color: #008080; font-weight: bold\">1.3270456790924072</span><span style=\"color: #008000; text-decoration-color: #008000\"> &gt; </span><span style=\"color: #008080; text-decoration-color: #008080; font-weight: bold\">0</span>\n",
       "</pre>\n"
      ],
      "text/plain": [
       "\u001b[32mINFO: no improve \u001b[0m\u001b[1;36m1.3270456790924072\u001b[0m\u001b[32m > \u001b[0m\u001b[1;36m0\u001b[0m\n"
      ]
     },
     "metadata": {},
     "output_type": "display_data"
    },
    {
     "data": {
      "text/html": [
       "<pre style=\"white-space:pre;overflow-x:auto;line-height:normal;font-family:Menlo,'DejaVu Sans Mono',consolas,'Courier New',monospace\"><span style=\"color: #008000; text-decoration-color: #008000\">Expected Improvement: </span><span style=\"color: #008080; text-decoration-color: #008080; font-weight: bold\">0.184867262840271</span><span style=\"color: #008000; text-decoration-color: #008000\"> Actual: </span><span style=\"color: #008080; text-decoration-color: #008080; font-weight: bold\">0.07067977637052536</span>\n",
       "</pre>\n"
      ],
      "text/plain": [
       "\u001b[32mExpected Improvement: \u001b[0m\u001b[1;36m0.184867262840271\u001b[0m\u001b[32m Actual: \u001b[0m\u001b[1;36m0.07067977637052536\u001b[0m\n"
      ]
     },
     "metadata": {},
     "output_type": "display_data"
    },
    {
     "data": {
      "text/html": [
       "<pre style=\"white-space:pre;overflow-x:auto;line-height:normal;font-family:Menlo,'DejaVu Sans Mono',consolas,'Courier New',monospace\"><span style=\"color: #008000; text-decoration-color: #008000\">INFO: no improve </span><span style=\"color: #008080; text-decoration-color: #008080; font-weight: bold\">1.053816795349121</span><span style=\"color: #008000; text-decoration-color: #008000\"> &gt; </span><span style=\"color: #008080; text-decoration-color: #008080; font-weight: bold\">0</span>\n",
       "</pre>\n"
      ],
      "text/plain": [
       "\u001b[32mINFO: no improve \u001b[0m\u001b[1;36m1.053816795349121\u001b[0m\u001b[32m > \u001b[0m\u001b[1;36m0\u001b[0m\n"
      ]
     },
     "metadata": {},
     "output_type": "display_data"
    },
    {
     "data": {
      "text/html": [
       "<pre style=\"white-space:pre;overflow-x:auto;line-height:normal;font-family:Menlo,'DejaVu Sans Mono',consolas,'Courier New',monospace\"><span style=\"color: #008000; text-decoration-color: #008000\">Expected Improvement: </span><span style=\"color: #008080; text-decoration-color: #008080; font-weight: bold\">0.184867262840271</span><span style=\"color: #008000; text-decoration-color: #008000\"> Actual: </span><span style=\"color: #008080; text-decoration-color: #008080; font-weight: bold\">0.05474693328142166</span>\n",
       "</pre>\n"
      ],
      "text/plain": [
       "\u001b[32mExpected Improvement: \u001b[0m\u001b[1;36m0.184867262840271\u001b[0m\u001b[32m Actual: \u001b[0m\u001b[1;36m0.05474693328142166\u001b[0m\n"
      ]
     },
     "metadata": {},
     "output_type": "display_data"
    },
    {
     "data": {
      "text/html": [
       "<pre style=\"white-space:pre;overflow-x:auto;line-height:normal;font-family:Menlo,'DejaVu Sans Mono',consolas,'Courier New',monospace\"><span style=\"color: #008000; text-decoration-color: #008000\">INFO: no improve </span><span style=\"color: #008080; text-decoration-color: #008080; font-weight: bold\">0.8487993478775024</span><span style=\"color: #008000; text-decoration-color: #008000\"> &gt; </span><span style=\"color: #008080; text-decoration-color: #008080; font-weight: bold\">0</span>\n",
       "</pre>\n"
      ],
      "text/plain": [
       "\u001b[32mINFO: no improve \u001b[0m\u001b[1;36m0.8487993478775024\u001b[0m\u001b[32m > \u001b[0m\u001b[1;36m0\u001b[0m\n"
      ]
     },
     "metadata": {},
     "output_type": "display_data"
    },
    {
     "data": {
      "text/html": [
       "<pre style=\"white-space:pre;overflow-x:auto;line-height:normal;font-family:Menlo,'DejaVu Sans Mono',consolas,'Courier New',monospace\"><span style=\"color: #008000; text-decoration-color: #008000\">Expected Improvement: </span><span style=\"color: #008080; text-decoration-color: #008080; font-weight: bold\">0.184867262840271</span><span style=\"color: #008000; text-decoration-color: #008000\"> Actual: </span><span style=\"color: #008080; text-decoration-color: #008080; font-weight: bold\">0.042729951441287994</span>\n",
       "</pre>\n"
      ],
      "text/plain": [
       "\u001b[32mExpected Improvement: \u001b[0m\u001b[1;36m0.184867262840271\u001b[0m\u001b[32m Actual: \u001b[0m\u001b[1;36m0.042729951441287994\u001b[0m\n"
      ]
     },
     "metadata": {},
     "output_type": "display_data"
    },
    {
     "data": {
      "text/html": [
       "<pre style=\"white-space:pre;overflow-x:auto;line-height:normal;font-family:Menlo,'DejaVu Sans Mono',consolas,'Courier New',monospace\"><span style=\"color: #008000; text-decoration-color: #008000\">INFO: no improve </span><span style=\"color: #008080; text-decoration-color: #008080; font-weight: bold\">0.6902547478675842</span><span style=\"color: #008000; text-decoration-color: #008000\"> &gt; </span><span style=\"color: #008080; text-decoration-color: #008080; font-weight: bold\">0</span>\n",
       "</pre>\n"
      ],
      "text/plain": [
       "\u001b[32mINFO: no improve \u001b[0m\u001b[1;36m0.6902547478675842\u001b[0m\u001b[32m > \u001b[0m\u001b[1;36m0\u001b[0m\n"
      ]
     },
     "metadata": {},
     "output_type": "display_data"
    },
    {
     "data": {
      "text/html": [
       "<pre style=\"white-space:pre;overflow-x:auto;line-height:normal;font-family:Menlo,'DejaVu Sans Mono',consolas,'Courier New',monospace\"><span style=\"color: #008000; text-decoration-color: #008000\">Expected Improvement: </span><span style=\"color: #008080; text-decoration-color: #008080; font-weight: bold\">0.184867262840271</span><span style=\"color: #008000; text-decoration-color: #008000\"> Actual: </span><span style=\"color: #008080; text-decoration-color: #008080; font-weight: bold\">0.033576078712940216</span>\n",
       "</pre>\n"
      ],
      "text/plain": [
       "\u001b[32mExpected Improvement: \u001b[0m\u001b[1;36m0.184867262840271\u001b[0m\u001b[32m Actual: \u001b[0m\u001b[1;36m0.033576078712940216\u001b[0m\n"
      ]
     },
     "metadata": {},
     "output_type": "display_data"
    },
    {
     "data": {
      "text/html": [
       "<pre style=\"white-space:pre;overflow-x:auto;line-height:normal;font-family:Menlo,'DejaVu Sans Mono',consolas,'Courier New',monospace\"><span style=\"color: #008000; text-decoration-color: #008000\">INFO: no improve </span><span style=\"color: #008080; text-decoration-color: #008080; font-weight: bold\">0.5641050934791565</span><span style=\"color: #008000; text-decoration-color: #008000\"> &gt; </span><span style=\"color: #008080; text-decoration-color: #008080; font-weight: bold\">0</span>\n",
       "</pre>\n"
      ],
      "text/plain": [
       "\u001b[32mINFO: no improve \u001b[0m\u001b[1;36m0.5641050934791565\u001b[0m\u001b[32m > \u001b[0m\u001b[1;36m0\u001b[0m\n"
      ]
     },
     "metadata": {},
     "output_type": "display_data"
    },
    {
     "data": {
      "text/html": [
       "<pre style=\"white-space:pre;overflow-x:auto;line-height:normal;font-family:Menlo,'DejaVu Sans Mono',consolas,'Courier New',monospace\"><span style=\"color: #008000; text-decoration-color: #008000\">Expected Improvement: </span><span style=\"color: #008080; text-decoration-color: #008080; font-weight: bold\">0.184867262840271</span><span style=\"color: #008000; text-decoration-color: #008000\"> Actual: </span><span style=\"color: #008080; text-decoration-color: #008080; font-weight: bold\">0.02655758149921894</span>\n",
       "</pre>\n"
      ],
      "text/plain": [
       "\u001b[32mExpected Improvement: \u001b[0m\u001b[1;36m0.184867262840271\u001b[0m\u001b[32m Actual: \u001b[0m\u001b[1;36m0.02655758149921894\u001b[0m\n"
      ]
     },
     "metadata": {},
     "output_type": "display_data"
    },
    {
     "data": {
      "text/html": [
       "<pre style=\"white-space:pre;overflow-x:auto;line-height:normal;font-family:Menlo,'DejaVu Sans Mono',consolas,'Courier New',monospace\"><span style=\"color: #008000; text-decoration-color: #008000\">INFO: no improve </span><span style=\"color: #008080; text-decoration-color: #008080; font-weight: bold\">0.4631560146808624</span><span style=\"color: #008000; text-decoration-color: #008000\"> &gt; </span><span style=\"color: #008080; text-decoration-color: #008080; font-weight: bold\">0</span>\n",
       "</pre>\n"
      ],
      "text/plain": [
       "\u001b[32mINFO: no improve \u001b[0m\u001b[1;36m0.4631560146808624\u001b[0m\u001b[32m > \u001b[0m\u001b[1;36m0\u001b[0m\n"
      ]
     },
     "metadata": {},
     "output_type": "display_data"
    },
    {
     "data": {
      "text/html": [
       "<pre style=\"white-space:pre;overflow-x:auto;line-height:normal;font-family:Menlo,'DejaVu Sans Mono',consolas,'Courier New',monospace\"><span style=\"color: #008000; text-decoration-color: #008000\">Expected Improvement: </span><span style=\"color: #008080; text-decoration-color: #008080; font-weight: bold\">0.184867262840271</span><span style=\"color: #008000; text-decoration-color: #008000\"> Actual: </span><span style=\"color: #008080; text-decoration-color: #008080; font-weight: bold\">0.02111719734966755</span>\n",
       "</pre>\n"
      ],
      "text/plain": [
       "\u001b[32mExpected Improvement: \u001b[0m\u001b[1;36m0.184867262840271\u001b[0m\u001b[32m Actual: \u001b[0m\u001b[1;36m0.02111719734966755\u001b[0m\n"
      ]
     },
     "metadata": {},
     "output_type": "display_data"
    },
    {
     "data": {
      "text/html": [
       "<pre style=\"white-space:pre;overflow-x:auto;line-height:normal;font-family:Menlo,'DejaVu Sans Mono',consolas,'Courier New',monospace\"><span style=\"color: #008000; text-decoration-color: #008000\">INFO: no improve </span><span style=\"color: #008080; text-decoration-color: #008080; font-weight: bold\">0.3818666338920593</span><span style=\"color: #008000; text-decoration-color: #008000\"> &gt; </span><span style=\"color: #008080; text-decoration-color: #008080; font-weight: bold\">0</span>\n",
       "</pre>\n"
      ],
      "text/plain": [
       "\u001b[32mINFO: no improve \u001b[0m\u001b[1;36m0.3818666338920593\u001b[0m\u001b[32m > \u001b[0m\u001b[1;36m0\u001b[0m\n"
      ]
     },
     "metadata": {},
     "output_type": "display_data"
    },
    {
     "data": {
      "text/html": [
       "<pre style=\"white-space:pre;overflow-x:auto;line-height:normal;font-family:Menlo,'DejaVu Sans Mono',consolas,'Courier New',monospace\"><span style=\"color: #008000; text-decoration-color: #008000\">Expected Improvement: </span><span style=\"color: #008080; text-decoration-color: #008080; font-weight: bold\">0.184867262840271</span><span style=\"color: #008000; text-decoration-color: #008000\"> Actual: </span><span style=\"color: #008080; text-decoration-color: #008080; font-weight: bold\">0.0168636292219162</span>\n",
       "</pre>\n"
      ],
      "text/plain": [
       "\u001b[32mExpected Improvement: \u001b[0m\u001b[1;36m0.184867262840271\u001b[0m\u001b[32m Actual: \u001b[0m\u001b[1;36m0.0168636292219162\u001b[0m\n"
      ]
     },
     "metadata": {},
     "output_type": "display_data"
    },
    {
     "data": {
      "text/html": [
       "<pre style=\"white-space:pre;overflow-x:auto;line-height:normal;font-family:Menlo,'DejaVu Sans Mono',consolas,'Courier New',monospace\"><span style=\"color: #008000; text-decoration-color: #008000\">INFO: no improve </span><span style=\"color: #008080; text-decoration-color: #008080; font-weight: bold\">0.3166625499725342</span><span style=\"color: #008000; text-decoration-color: #008000\"> &gt; </span><span style=\"color: #008080; text-decoration-color: #008080; font-weight: bold\">0</span>\n",
       "</pre>\n"
      ],
      "text/plain": [
       "\u001b[32mINFO: no improve \u001b[0m\u001b[1;36m0.3166625499725342\u001b[0m\u001b[32m > \u001b[0m\u001b[1;36m0\u001b[0m\n"
      ]
     },
     "metadata": {},
     "output_type": "display_data"
    },
    {
     "data": {
      "text/html": [
       "<pre style=\"white-space:pre;overflow-x:auto;line-height:normal;font-family:Menlo,'DejaVu Sans Mono',consolas,'Courier New',monospace\"><span style=\"color: #008000; text-decoration-color: #008000\">Expected Improvement: </span><span style=\"color: #008080; text-decoration-color: #008080; font-weight: bold\">0.184867262840271</span><span style=\"color: #008000; text-decoration-color: #008000\"> Actual: </span><span style=\"color: #008080; text-decoration-color: #008080; font-weight: bold\">0.013517056591808796</span>\n",
       "</pre>\n"
      ],
      "text/plain": [
       "\u001b[32mExpected Improvement: \u001b[0m\u001b[1;36m0.184867262840271\u001b[0m\u001b[32m Actual: \u001b[0m\u001b[1;36m0.013517056591808796\u001b[0m\n"
      ]
     },
     "metadata": {},
     "output_type": "display_data"
    },
    {
     "data": {
      "text/html": [
       "<pre style=\"white-space:pre;overflow-x:auto;line-height:normal;font-family:Menlo,'DejaVu Sans Mono',consolas,'Courier New',monospace\"><span style=\"color: #008000; text-decoration-color: #008000\">INFO: no improve </span><span style=\"color: #008080; text-decoration-color: #008080; font-weight: bold\">0.2645034193992615</span><span style=\"color: #008000; text-decoration-color: #008000\"> &gt; </span><span style=\"color: #008080; text-decoration-color: #008080; font-weight: bold\">0</span>\n",
       "</pre>\n"
      ],
      "text/plain": [
       "\u001b[32mINFO: no improve \u001b[0m\u001b[1;36m0.2645034193992615\u001b[0m\u001b[32m > \u001b[0m\u001b[1;36m0\u001b[0m\n"
      ]
     },
     "metadata": {},
     "output_type": "display_data"
    },
    {
     "data": {
      "text/html": [
       "<pre style=\"white-space:pre;overflow-x:auto;line-height:normal;font-family:Menlo,'DejaVu Sans Mono',consolas,'Courier New',monospace\"><span style=\"color: #008000; text-decoration-color: #008000\">Expected Improvement: </span><span style=\"color: #008080; text-decoration-color: #008080; font-weight: bold\">0.184867262840271</span><span style=\"color: #008000; text-decoration-color: #008000\"> Actual: </span><span style=\"color: #008080; text-decoration-color: #008080; font-weight: bold\">0.010863615199923515</span>\n",
       "</pre>\n"
      ],
      "text/plain": [
       "\u001b[32mExpected Improvement: \u001b[0m\u001b[1;36m0.184867262840271\u001b[0m\u001b[32m Actual: \u001b[0m\u001b[1;36m0.010863615199923515\u001b[0m\n"
      ]
     },
     "metadata": {},
     "output_type": "display_data"
    },
    {
     "data": {
      "text/html": [
       "<pre style=\"white-space:pre;overflow-x:auto;line-height:normal;font-family:Menlo,'DejaVu Sans Mono',consolas,'Courier New',monospace\"><span style=\"color: #008000; text-decoration-color: #008000\">INFO: no improve </span><span style=\"color: #008080; text-decoration-color: #008080; font-weight: bold\">0.22289949655532837</span><span style=\"color: #008000; text-decoration-color: #008000\"> &gt; </span><span style=\"color: #008080; text-decoration-color: #008080; font-weight: bold\">0</span>\n",
       "</pre>\n"
      ],
      "text/plain": [
       "\u001b[32mINFO: no improve \u001b[0m\u001b[1;36m0.22289949655532837\u001b[0m\u001b[32m > \u001b[0m\u001b[1;36m0\u001b[0m\n"
      ]
     },
     "metadata": {},
     "output_type": "display_data"
    },
    {
     "data": {
      "text/html": [
       "<pre style=\"white-space:pre;overflow-x:auto;line-height:normal;font-family:Menlo,'DejaVu Sans Mono',consolas,'Courier New',monospace\"><span style=\"color: #008000; text-decoration-color: #008000\">Expected Improvement: </span><span style=\"color: #008080; text-decoration-color: #008080; font-weight: bold\">0.184867262840271</span><span style=\"color: #008000; text-decoration-color: #008000\"> Actual: </span><span style=\"color: #008080; text-decoration-color: #008080; font-weight: bold\">0.008755326271057129</span>\n",
       "</pre>\n"
      ],
      "text/plain": [
       "\u001b[32mExpected Improvement: \u001b[0m\u001b[1;36m0.184867262840271\u001b[0m\u001b[32m Actual: \u001b[0m\u001b[1;36m0.008755326271057129\u001b[0m\n"
      ]
     },
     "metadata": {},
     "output_type": "display_data"
    },
    {
     "data": {
      "text/html": [
       "<pre style=\"white-space:pre;overflow-x:auto;line-height:normal;font-family:Menlo,'DejaVu Sans Mono',consolas,'Courier New',monospace\"><span style=\"color: #008000; text-decoration-color: #008000\">INFO: no improve </span><span style=\"color: #008080; text-decoration-color: #008080; font-weight: bold\">0.18965403735637665</span><span style=\"color: #008000; text-decoration-color: #008000\"> &gt; </span><span style=\"color: #008080; text-decoration-color: #008080; font-weight: bold\">0</span>\n",
       "</pre>\n"
      ],
      "text/plain": [
       "\u001b[32mINFO: no improve \u001b[0m\u001b[1;36m0.18965403735637665\u001b[0m\u001b[32m > \u001b[0m\u001b[1;36m0\u001b[0m\n"
      ]
     },
     "metadata": {},
     "output_type": "display_data"
    },
    {
     "data": {
      "text/html": [
       "<pre style=\"white-space:pre;overflow-x:auto;line-height:normal;font-family:Menlo,'DejaVu Sans Mono',consolas,'Courier New',monospace\"><span style=\"color: #008000; text-decoration-color: #008000\">Expected Improvement: </span><span style=\"color: #008080; text-decoration-color: #008080; font-weight: bold\">0.184867262840271</span><span style=\"color: #008000; text-decoration-color: #008000\"> Actual: </span><span style=\"color: #008080; text-decoration-color: #008080; font-weight: bold\">0.007071768864989281</span>\n",
       "</pre>\n"
      ],
      "text/plain": [
       "\u001b[32mExpected Improvement: \u001b[0m\u001b[1;36m0.184867262840271\u001b[0m\u001b[32m Actual: \u001b[0m\u001b[1;36m0.007071768864989281\u001b[0m\n"
      ]
     },
     "metadata": {},
     "output_type": "display_data"
    },
    {
     "data": {
      "text/html": [
       "<pre style=\"white-space:pre;overflow-x:auto;line-height:normal;font-family:Menlo,'DejaVu Sans Mono',consolas,'Courier New',monospace\"><span style=\"color: #008000; text-decoration-color: #008000\">INFO: no improve </span><span style=\"color: #008080; text-decoration-color: #008080; font-weight: bold\">0.16249528527259827</span><span style=\"color: #008000; text-decoration-color: #008000\"> &gt; </span><span style=\"color: #008080; text-decoration-color: #008080; font-weight: bold\">0</span>\n",
       "</pre>\n"
      ],
      "text/plain": [
       "\u001b[32mINFO: no improve \u001b[0m\u001b[1;36m0.16249528527259827\u001b[0m\u001b[32m > \u001b[0m\u001b[1;36m0\u001b[0m\n"
      ]
     },
     "metadata": {},
     "output_type": "display_data"
    },
    {
     "data": {
      "text/html": [
       "<pre style=\"white-space:pre;overflow-x:auto;line-height:normal;font-family:Menlo,'DejaVu Sans Mono',consolas,'Courier New',monospace\"><span style=\"color: #008000; text-decoration-color: #008000\">Expected Improvement: </span><span style=\"color: #008080; text-decoration-color: #008080; font-weight: bold\">0.184867262840271</span><span style=\"color: #008000; text-decoration-color: #008000\"> Actual: </span><span style=\"color: #008080; text-decoration-color: #008080; font-weight: bold\">0.0057218484580516815</span>\n",
       "</pre>\n"
      ],
      "text/plain": [
       "\u001b[32mExpected Improvement: \u001b[0m\u001b[1;36m0.184867262840271\u001b[0m\u001b[32m Actual: \u001b[0m\u001b[1;36m0.0057218484580516815\u001b[0m\n"
      ]
     },
     "metadata": {},
     "output_type": "display_data"
    },
    {
     "data": {
      "text/html": [
       "<pre style=\"white-space:pre;overflow-x:auto;line-height:normal;font-family:Menlo,'DejaVu Sans Mono',consolas,'Courier New',monospace\"><span style=\"color: #008000; text-decoration-color: #008000\">INFO: no improve </span><span style=\"color: #008080; text-decoration-color: #008080; font-weight: bold\">0.13991308212280273</span><span style=\"color: #008000; text-decoration-color: #008000\"> &gt; </span><span style=\"color: #008080; text-decoration-color: #008080; font-weight: bold\">0</span>\n",
       "</pre>\n"
      ],
      "text/plain": [
       "\u001b[32mINFO: no improve \u001b[0m\u001b[1;36m0.13991308212280273\u001b[0m\u001b[32m > \u001b[0m\u001b[1;36m0\u001b[0m\n"
      ]
     },
     "metadata": {},
     "output_type": "display_data"
    },
    {
     "data": {
      "text/html": [
       "<pre style=\"white-space:pre;overflow-x:auto;line-height:normal;font-family:Menlo,'DejaVu Sans Mono',consolas,'Courier New',monospace\"><span style=\"color: #008000; text-decoration-color: #008000\">Expected Improvement: </span><span style=\"color: #008080; text-decoration-color: #008080; font-weight: bold\">0.184867262840271</span><span style=\"color: #008000; text-decoration-color: #008000\"> Actual: </span><span style=\"color: #008080; text-decoration-color: #008080; font-weight: bold\">0.004635664168745279</span>\n",
       "</pre>\n"
      ],
      "text/plain": [
       "\u001b[32mExpected Improvement: \u001b[0m\u001b[1;36m0.184867262840271\u001b[0m\u001b[32m Actual: \u001b[0m\u001b[1;36m0.004635664168745279\u001b[0m\n"
      ]
     },
     "metadata": {},
     "output_type": "display_data"
    },
    {
     "data": {
      "text/html": [
       "<pre style=\"white-space:pre;overflow-x:auto;line-height:normal;font-family:Menlo,'DejaVu Sans Mono',consolas,'Courier New',monospace\"><span style=\"color: #008000; text-decoration-color: #008000\">INFO: no improve </span><span style=\"color: #008080; text-decoration-color: #008080; font-weight: bold\">0.12058207392692566</span><span style=\"color: #008000; text-decoration-color: #008000\"> &gt; </span><span style=\"color: #008080; text-decoration-color: #008080; font-weight: bold\">0</span>\n",
       "</pre>\n"
      ],
      "text/plain": [
       "\u001b[32mINFO: no improve \u001b[0m\u001b[1;36m0.12058207392692566\u001b[0m\u001b[32m > \u001b[0m\u001b[1;36m0\u001b[0m\n"
      ]
     },
     "metadata": {},
     "output_type": "display_data"
    },
    {
     "data": {
      "text/html": [
       "<pre style=\"white-space:pre;overflow-x:auto;line-height:normal;font-family:Menlo,'DejaVu Sans Mono',consolas,'Courier New',monospace\"><span style=\"color: #008000; text-decoration-color: #008000\">Expected Improvement: </span><span style=\"color: #008080; text-decoration-color: #008080; font-weight: bold\">0.184867262840271</span><span style=\"color: #008000; text-decoration-color: #008000\"> Actual: </span><span style=\"color: #008080; text-decoration-color: #008080; font-weight: bold\">0.003757182275876403</span>\n",
       "</pre>\n"
      ],
      "text/plain": [
       "\u001b[32mExpected Improvement: \u001b[0m\u001b[1;36m0.184867262840271\u001b[0m\u001b[32m Actual: \u001b[0m\u001b[1;36m0.003757182275876403\u001b[0m\n"
      ]
     },
     "metadata": {},
     "output_type": "display_data"
    },
    {
     "data": {
      "text/html": [
       "<pre style=\"white-space:pre;overflow-x:auto;line-height:normal;font-family:Menlo,'DejaVu Sans Mono',consolas,'Courier New',monospace\"><span style=\"color: #008000; text-decoration-color: #008000\">INFO: no improve </span><span style=\"color: #008080; text-decoration-color: #008080; font-weight: bold\">0.10363499075174332</span><span style=\"color: #008000; text-decoration-color: #008000\"> &gt; </span><span style=\"color: #008080; text-decoration-color: #008080; font-weight: bold\">0</span>\n",
       "</pre>\n"
      ],
      "text/plain": [
       "\u001b[32mINFO: no improve \u001b[0m\u001b[1;36m0.10363499075174332\u001b[0m\u001b[32m > \u001b[0m\u001b[1;36m0\u001b[0m\n"
      ]
     },
     "metadata": {},
     "output_type": "display_data"
    },
    {
     "data": {
      "text/html": [
       "<pre style=\"white-space:pre;overflow-x:auto;line-height:normal;font-family:Menlo,'DejaVu Sans Mono',consolas,'Courier New',monospace\"><span style=\"color: #008000; text-decoration-color: #008000\">Expected Improvement: </span><span style=\"color: #008080; text-decoration-color: #008080; font-weight: bold\">0.184867262840271</span><span style=\"color: #008000; text-decoration-color: #008000\"> Actual: </span><span style=\"color: #008080; text-decoration-color: #008080; font-weight: bold\">0.0030454203952103853</span>\n",
       "</pre>\n"
      ],
      "text/plain": [
       "\u001b[32mExpected Improvement: \u001b[0m\u001b[1;36m0.184867262840271\u001b[0m\u001b[32m Actual: \u001b[0m\u001b[1;36m0.0030454203952103853\u001b[0m\n"
      ]
     },
     "metadata": {},
     "output_type": "display_data"
    },
    {
     "data": {
      "text/html": [
       "<pre style=\"white-space:pre;overflow-x:auto;line-height:normal;font-family:Menlo,'DejaVu Sans Mono',consolas,'Courier New',monospace\"><span style=\"color: #008000; text-decoration-color: #008000\">INFO: no improve </span><span style=\"color: #008080; text-decoration-color: #008080; font-weight: bold\">0.08856276422739029</span><span style=\"color: #008000; text-decoration-color: #008000\"> &gt; </span><span style=\"color: #008080; text-decoration-color: #008080; font-weight: bold\">0</span>\n",
       "</pre>\n"
      ],
      "text/plain": [
       "\u001b[32mINFO: no improve \u001b[0m\u001b[1;36m0.08856276422739029\u001b[0m\u001b[32m > \u001b[0m\u001b[1;36m0\u001b[0m\n"
      ]
     },
     "metadata": {},
     "output_type": "display_data"
    },
    {
     "data": {
      "text/html": [
       "<pre style=\"white-space:pre;overflow-x:auto;line-height:normal;font-family:Menlo,'DejaVu Sans Mono',consolas,'Courier New',monospace\"><span style=\"color: #008000; text-decoration-color: #008000\">Expected Improvement: </span><span style=\"color: #008080; text-decoration-color: #008080; font-weight: bold\">0.184867262840271</span><span style=\"color: #008000; text-decoration-color: #008000\"> Actual: </span><span style=\"color: #008080; text-decoration-color: #008080; font-weight: bold\">0.0024669920094311237</span>\n",
       "</pre>\n"
      ],
      "text/plain": [
       "\u001b[32mExpected Improvement: \u001b[0m\u001b[1;36m0.184867262840271\u001b[0m\u001b[32m Actual: \u001b[0m\u001b[1;36m0.0024669920094311237\u001b[0m\n"
      ]
     },
     "metadata": {},
     "output_type": "display_data"
    },
    {
     "data": {
      "text/html": [
       "<pre style=\"white-space:pre;overflow-x:auto;line-height:normal;font-family:Menlo,'DejaVu Sans Mono',consolas,'Courier New',monospace\"><span style=\"color: #008000; text-decoration-color: #008000\">INFO: no improve </span><span style=\"color: #008080; text-decoration-color: #008080; font-weight: bold\">0.07516161352396011</span><span style=\"color: #008000; text-decoration-color: #008000\"> &gt; </span><span style=\"color: #008080; text-decoration-color: #008080; font-weight: bold\">0</span>\n",
       "</pre>\n"
      ],
      "text/plain": [
       "\u001b[32mINFO: no improve \u001b[0m\u001b[1;36m0.07516161352396011\u001b[0m\u001b[32m > \u001b[0m\u001b[1;36m0\u001b[0m\n"
      ]
     },
     "metadata": {},
     "output_type": "display_data"
    },
    {
     "data": {
      "text/html": [
       "<pre style=\"white-space:pre;overflow-x:auto;line-height:normal;font-family:Menlo,'DejaVu Sans Mono',consolas,'Courier New',monospace\"><span style=\"color: #008000; text-decoration-color: #008000\">INFO: no suitable step found</span><span style=\"color: #808000; text-decoration-color: #808000\">...</span>\n",
       "</pre>\n"
      ],
      "text/plain": [
       "\u001b[32mINFO: no suitable step found\u001b[0m\u001b[33m...\u001b[0m\n"
      ]
     },
     "metadata": {},
     "output_type": "display_data"
    },
    {
     "data": {
      "text/html": [
       "<pre style=\"white-space:pre;overflow-x:auto;line-height:normal;font-family:Menlo,'DejaVu Sans Mono',consolas,'Courier New',monospace\">┏━━━━━━━━━━━━━━━━━━━━━━━━━━━━━━━┳━━━━━━━━━━━━━━━━━━━━━━━┓\n",
       "┃<span style=\"font-weight: bold\"> Metrics                       </span>┃<span style=\"font-weight: bold\"> Value                 </span>┃\n",
       "┡━━━━━━━━━━━━━━━━━━━━━━━━━━━━━━━╇━━━━━━━━━━━━━━━━━━━━━━━┩\n",
       "│ Metrics/EpRet                 │ 15.610917091369629    │\n",
       "│ Metrics/EpCost                │ 30.037675857543945    │\n",
       "│ Metrics/EpLen                 │ 6.0                   │\n",
       "│ Train/Epoch                   │ 32.0                  │\n",
       "│ Train/Entropy                 │ 0.8857574462890625    │\n",
       "│ Train/KL                      │ 5.058869234630947e-08 │\n",
       "│ Train/StopIter                │ 10.0                  │\n",
       "│ Train/PolicyRatio/Mean        │ 1.0001147985458374    │\n",
       "│ Train/PolicyRatio/Min         │ 1.0001147985458374    │\n",
       "│ Train/PolicyRatio/Max         │ 1.0001147985458374    │\n",
       "│ Train/PolicyRatio/Std         │ 0.0009964872151613235 │\n",
       "│ Train/LR                      │ 0.0                   │\n",
       "│ Train/PolicyStd               │ 0.5895974040031433    │\n",
       "│ TotalEnvSteps                 │ 660000.0              │\n",
       "│ Loss/Loss_pi                  │ -0.03974727541208267  │\n",
       "│ Loss/Loss_pi/Delta            │ -0.046809733379632235 │\n",
       "│ Value/Adv                     │ 4.768371461572052e-11 │\n",
       "│ Loss/Loss_reward_critic       │ 1546.0394287109375    │\n",
       "│ Loss/Loss_reward_critic/Delta │ 24.178955078125       │\n",
       "│ Value/reward                  │ 14.738093376159668    │\n",
       "│ Loss/Loss_cost_critic         │ 464.6929626464844     │\n",
       "│ Loss/Loss_cost_critic/Delta   │ -12.1741943359375     │\n",
       "│ Value/cost                    │ 15.341923713684082    │\n",
       "│ Time/Total                    │ 1944.1397705078125    │\n",
       "│ Time/Rollout                  │ 31.424394607543945    │\n",
       "│ Time/Update                   │ 31.594017028808594    │\n",
       "│ Time/Epoch                    │ 63.01841354370117     │\n",
       "│ Time/FPS                      │ 317.3675537109375     │\n",
       "│ Env/Success_counts            │ nan                   │\n",
       "│ Misc/Alpha                    │ 0.10707767307758331   │\n",
       "│ Misc/FinalStepNorm            │ 0.0                   │\n",
       "│ Misc/gradient_norm            │ 4.077029228210449     │\n",
       "│ Misc/xHx                      │ 1.7443437576293945    │\n",
       "│ Misc/H_inv_g                  │ 1.71128511428833      │\n",
       "│ Misc/AcceptanceStep           │ 0.0                   │\n",
       "│ Misc/cost_gradient_norm       │ 167.24879455566406    │\n",
       "│ Misc/A                        │ 1.1625304222106934    │\n",
       "│ Misc/B                        │ 0.017333894968032837  │\n",
       "│ Misc/q                        │ 1.7443437576293945    │\n",
       "│ Misc/r                        │ 74.4189453125         │\n",
       "│ Misc/s                        │ 9518.8251953125       │\n",
       "│ Misc/Lambda_star              │ 9.339015007019043     │\n",
       "│ Misc/Nu_star                  │ 0.0                   │\n",
       "│ Misc/OptimCase                │ 1.0                   │\n",
       "└───────────────────────────────┴───────────────────────┘\n",
       "</pre>\n"
      ],
      "text/plain": [
       "┏━━━━━━━━━━━━━━━━━━━━━━━━━━━━━━━┳━━━━━━━━━━━━━━━━━━━━━━━┓\n",
       "┃\u001b[1m \u001b[0m\u001b[1mMetrics                      \u001b[0m\u001b[1m \u001b[0m┃\u001b[1m \u001b[0m\u001b[1mValue                \u001b[0m\u001b[1m \u001b[0m┃\n",
       "┡━━━━━━━━━━━━━━━━━━━━━━━━━━━━━━━╇━━━━━━━━━━━━━━━━━━━━━━━┩\n",
       "│ Metrics/EpRet                 │ 15.610917091369629    │\n",
       "│ Metrics/EpCost                │ 30.037675857543945    │\n",
       "│ Metrics/EpLen                 │ 6.0                   │\n",
       "│ Train/Epoch                   │ 32.0                  │\n",
       "│ Train/Entropy                 │ 0.8857574462890625    │\n",
       "│ Train/KL                      │ 5.058869234630947e-08 │\n",
       "│ Train/StopIter                │ 10.0                  │\n",
       "│ Train/PolicyRatio/Mean        │ 1.0001147985458374    │\n",
       "│ Train/PolicyRatio/Min         │ 1.0001147985458374    │\n",
       "│ Train/PolicyRatio/Max         │ 1.0001147985458374    │\n",
       "│ Train/PolicyRatio/Std         │ 0.0009964872151613235 │\n",
       "│ Train/LR                      │ 0.0                   │\n",
       "│ Train/PolicyStd               │ 0.5895974040031433    │\n",
       "│ TotalEnvSteps                 │ 660000.0              │\n",
       "│ Loss/Loss_pi                  │ -0.03974727541208267  │\n",
       "│ Loss/Loss_pi/Delta            │ -0.046809733379632235 │\n",
       "│ Value/Adv                     │ 4.768371461572052e-11 │\n",
       "│ Loss/Loss_reward_critic       │ 1546.0394287109375    │\n",
       "│ Loss/Loss_reward_critic/Delta │ 24.178955078125       │\n",
       "│ Value/reward                  │ 14.738093376159668    │\n",
       "│ Loss/Loss_cost_critic         │ 464.6929626464844     │\n",
       "│ Loss/Loss_cost_critic/Delta   │ -12.1741943359375     │\n",
       "│ Value/cost                    │ 15.341923713684082    │\n",
       "│ Time/Total                    │ 1944.1397705078125    │\n",
       "│ Time/Rollout                  │ 31.424394607543945    │\n",
       "│ Time/Update                   │ 31.594017028808594    │\n",
       "│ Time/Epoch                    │ 63.01841354370117     │\n",
       "│ Time/FPS                      │ 317.3675537109375     │\n",
       "│ Env/Success_counts            │ nan                   │\n",
       "│ Misc/Alpha                    │ 0.10707767307758331   │\n",
       "│ Misc/FinalStepNorm            │ 0.0                   │\n",
       "│ Misc/gradient_norm            │ 4.077029228210449     │\n",
       "│ Misc/xHx                      │ 1.7443437576293945    │\n",
       "│ Misc/H_inv_g                  │ 1.71128511428833      │\n",
       "│ Misc/AcceptanceStep           │ 0.0                   │\n",
       "│ Misc/cost_gradient_norm       │ 167.24879455566406    │\n",
       "│ Misc/A                        │ 1.1625304222106934    │\n",
       "│ Misc/B                        │ 0.017333894968032837  │\n",
       "│ Misc/q                        │ 1.7443437576293945    │\n",
       "│ Misc/r                        │ 74.4189453125         │\n",
       "│ Misc/s                        │ 9518.8251953125       │\n",
       "│ Misc/Lambda_star              │ 9.339015007019043     │\n",
       "│ Misc/Nu_star                  │ 0.0                   │\n",
       "│ Misc/OptimCase                │ 1.0                   │\n",
       "└───────────────────────────────┴───────────────────────┘\n"
      ]
     },
     "metadata": {},
     "output_type": "display_data"
    },
    {
     "data": {
      "text/html": [
       "<pre style=\"white-space:pre;overflow-x:auto;line-height:normal;font-family:Menlo,'DejaVu Sans Mono',consolas,'Courier New',monospace\"><span style=\"color: #008000; text-decoration-color: #008000\">Warning: trajectory cut off when rollout by epoch at </span><span style=\"color: #008080; text-decoration-color: #008080; font-weight: bold\">2.0</span><span style=\"color: #008000; text-decoration-color: #008000\"> steps.</span>\n",
       "</pre>\n"
      ],
      "text/plain": [
       "\u001b[32mWarning: trajectory cut off when rollout by epoch at \u001b[0m\u001b[1;36m2.0\u001b[0m\u001b[32m steps.\u001b[0m\n"
      ]
     },
     "metadata": {},
     "output_type": "display_data"
    },
    {
     "data": {
      "text/html": [
       "<pre style=\"white-space:pre;overflow-x:auto;line-height:normal;font-family:Menlo,'DejaVu Sans Mono',consolas,'Courier New',monospace\"></pre>\n"
      ],
      "text/plain": []
     },
     "metadata": {},
     "output_type": "display_data"
    },
    {
     "data": {
      "text/html": [
       "<pre style=\"white-space:pre;overflow-x:auto;line-height:normal;font-family:Menlo,'DejaVu Sans Mono',consolas,'Courier New',monospace\"><span style=\"color: #008000; text-decoration-color: #008000\">Expected Improvement: </span><span style=\"color: #008080; text-decoration-color: #008080; font-weight: bold\">0.16737772524356842</span><span style=\"color: #008000; text-decoration-color: #008000\"> Actual: </span><span style=\"color: #008080; text-decoration-color: #008080; font-weight: bold\">0.23793771862983704</span>\n",
       "</pre>\n"
      ],
      "text/plain": [
       "\u001b[32mExpected Improvement: \u001b[0m\u001b[1;36m0.16737772524356842\u001b[0m\u001b[32m Actual: \u001b[0m\u001b[1;36m0.23793771862983704\u001b[0m\n"
      ]
     },
     "metadata": {},
     "output_type": "display_data"
    },
    {
     "data": {
      "text/html": [
       "<pre style=\"white-space:pre;overflow-x:auto;line-height:normal;font-family:Menlo,'DejaVu Sans Mono',consolas,'Courier New',monospace\"><span style=\"color: #008000; text-decoration-color: #008000\">Accept step at </span><span style=\"color: #808000; text-decoration-color: #808000\">i</span><span style=\"color: #008000; text-decoration-color: #008000\">=</span><span style=\"color: #008080; text-decoration-color: #008080; font-weight: bold\">1</span>\n",
       "</pre>\n"
      ],
      "text/plain": [
       "\u001b[32mAccept step at \u001b[0m\u001b[33mi\u001b[0m\u001b[32m=\u001b[0m\u001b[1;36m1\u001b[0m\n"
      ]
     },
     "metadata": {},
     "output_type": "display_data"
    },
    {
     "data": {
      "text/html": [
       "<pre style=\"white-space:pre;overflow-x:auto;line-height:normal;font-family:Menlo,'DejaVu Sans Mono',consolas,'Courier New',monospace\">┏━━━━━━━━━━━━━━━━━━━━━━━━━━━━━━━┳━━━━━━━━━━━━━━━━━━━━━━━━┓\n",
       "┃<span style=\"font-weight: bold\"> Metrics                       </span>┃<span style=\"font-weight: bold\"> Value                  </span>┃\n",
       "┡━━━━━━━━━━━━━━━━━━━━━━━━━━━━━━━╇━━━━━━━━━━━━━━━━━━━━━━━━┩\n",
       "│ Metrics/EpRet                 │ 18.379133224487305     │\n",
       "│ Metrics/EpCost                │ 18.25210952758789      │\n",
       "│ Metrics/EpLen                 │ 6.0                    │\n",
       "│ Train/Epoch                   │ 33.0                   │\n",
       "│ Train/Entropy                 │ 0.8883593082427979     │\n",
       "│ Train/KL                      │ 0.00023858767235651612 │\n",
       "│ Train/StopIter                │ 10.0                   │\n",
       "│ Train/PolicyRatio/Mean        │ 1.0051835775375366     │\n",
       "│ Train/PolicyRatio/Min         │ 1.0051835775375366     │\n",
       "│ Train/PolicyRatio/Max         │ 1.0051835775375366     │\n",
       "│ Train/PolicyRatio/Std         │ 0.0036653708666563034  │\n",
       "│ Train/LR                      │ 0.0                    │\n",
       "│ Train/PolicyStd               │ 0.5912654399871826     │\n",
       "│ TotalEnvSteps                 │ 680000.0               │\n",
       "│ Loss/Loss_pi                  │ 0.6424973011016846     │\n",
       "│ Loss/Loss_pi/Delta            │ 0.6822445765137672     │\n",
       "│ Value/Adv                     │ -4.959106458812812e-09 │\n",
       "│ Loss/Loss_reward_critic       │ 1338.7191162109375     │\n",
       "│ Loss/Loss_reward_critic/Delta │ -207.3203125           │\n",
       "│ Value/reward                  │ 14.632259368896484     │\n",
       "│ Loss/Loss_cost_critic         │ 499.8006286621094      │\n",
       "│ Loss/Loss_cost_critic/Delta   │ 35.107666015625        │\n",
       "│ Value/cost                    │ 15.20838737487793      │\n",
       "│ Time/Total                    │ 2000.5458984375        │\n",
       "│ Time/Rollout                  │ 27.459918975830078     │\n",
       "│ Time/Update                   │ 28.901107788085938     │\n",
       "│ Time/Epoch                    │ 56.361026763916016     │\n",
       "│ Time/FPS                      │ 354.8551330566406      │\n",
       "│ Env/Success_counts            │ nan                    │\n",
       "│ Misc/Alpha                    │ 0.11891970783472061    │\n",
       "│ Misc/FinalStepNorm            │ 0.16086862981319427    │\n",
       "│ Misc/gradient_norm            │ 4.746556758880615      │\n",
       "│ Misc/xHx                      │ 1.4142372608184814     │\n",
       "│ Misc/H_inv_g                  │ 1.3527497053146362     │\n",
       "│ Misc/AcceptanceStep           │ 1.0                    │\n",
       "│ Misc/cost_gradient_norm       │ 185.93296813964844     │\n",
       "│ Misc/A                        │ 0.7980830073356628     │\n",
       "│ Misc/B                        │ -0.04351547732949257   │\n",
       "│ Misc/q                        │ 1.4142372608184814     │\n",
       "│ Misc/r                        │ 21.017108917236328     │\n",
       "│ Misc/s                        │ 716.8965454101562      │\n",
       "│ Misc/Lambda_star              │ 8.409034729003906      │\n",
       "│ Misc/Nu_star                  │ 0.0                    │\n",
       "│ Misc/OptimCase                │ 3.0                    │\n",
       "└───────────────────────────────┴────────────────────────┘\n",
       "</pre>\n"
      ],
      "text/plain": [
       "┏━━━━━━━━━━━━━━━━━━━━━━━━━━━━━━━┳━━━━━━━━━━━━━━━━━━━━━━━━┓\n",
       "┃\u001b[1m \u001b[0m\u001b[1mMetrics                      \u001b[0m\u001b[1m \u001b[0m┃\u001b[1m \u001b[0m\u001b[1mValue                 \u001b[0m\u001b[1m \u001b[0m┃\n",
       "┡━━━━━━━━━━━━━━━━━━━━━━━━━━━━━━━╇━━━━━━━━━━━━━━━━━━━━━━━━┩\n",
       "│ Metrics/EpRet                 │ 18.379133224487305     │\n",
       "│ Metrics/EpCost                │ 18.25210952758789      │\n",
       "│ Metrics/EpLen                 │ 6.0                    │\n",
       "│ Train/Epoch                   │ 33.0                   │\n",
       "│ Train/Entropy                 │ 0.8883593082427979     │\n",
       "│ Train/KL                      │ 0.00023858767235651612 │\n",
       "│ Train/StopIter                │ 10.0                   │\n",
       "│ Train/PolicyRatio/Mean        │ 1.0051835775375366     │\n",
       "│ Train/PolicyRatio/Min         │ 1.0051835775375366     │\n",
       "│ Train/PolicyRatio/Max         │ 1.0051835775375366     │\n",
       "│ Train/PolicyRatio/Std         │ 0.0036653708666563034  │\n",
       "│ Train/LR                      │ 0.0                    │\n",
       "│ Train/PolicyStd               │ 0.5912654399871826     │\n",
       "│ TotalEnvSteps                 │ 680000.0               │\n",
       "│ Loss/Loss_pi                  │ 0.6424973011016846     │\n",
       "│ Loss/Loss_pi/Delta            │ 0.6822445765137672     │\n",
       "│ Value/Adv                     │ -4.959106458812812e-09 │\n",
       "│ Loss/Loss_reward_critic       │ 1338.7191162109375     │\n",
       "│ Loss/Loss_reward_critic/Delta │ -207.3203125           │\n",
       "│ Value/reward                  │ 14.632259368896484     │\n",
       "│ Loss/Loss_cost_critic         │ 499.8006286621094      │\n",
       "│ Loss/Loss_cost_critic/Delta   │ 35.107666015625        │\n",
       "│ Value/cost                    │ 15.20838737487793      │\n",
       "│ Time/Total                    │ 2000.5458984375        │\n",
       "│ Time/Rollout                  │ 27.459918975830078     │\n",
       "│ Time/Update                   │ 28.901107788085938     │\n",
       "│ Time/Epoch                    │ 56.361026763916016     │\n",
       "│ Time/FPS                      │ 354.8551330566406      │\n",
       "│ Env/Success_counts            │ nan                    │\n",
       "│ Misc/Alpha                    │ 0.11891970783472061    │\n",
       "│ Misc/FinalStepNorm            │ 0.16086862981319427    │\n",
       "│ Misc/gradient_norm            │ 4.746556758880615      │\n",
       "│ Misc/xHx                      │ 1.4142372608184814     │\n",
       "│ Misc/H_inv_g                  │ 1.3527497053146362     │\n",
       "│ Misc/AcceptanceStep           │ 1.0                    │\n",
       "│ Misc/cost_gradient_norm       │ 185.93296813964844     │\n",
       "│ Misc/A                        │ 0.7980830073356628     │\n",
       "│ Misc/B                        │ -0.04351547732949257   │\n",
       "│ Misc/q                        │ 1.4142372608184814     │\n",
       "│ Misc/r                        │ 21.017108917236328     │\n",
       "│ Misc/s                        │ 716.8965454101562      │\n",
       "│ Misc/Lambda_star              │ 8.409034729003906      │\n",
       "│ Misc/Nu_star                  │ 0.0                    │\n",
       "│ Misc/OptimCase                │ 3.0                    │\n",
       "└───────────────────────────────┴────────────────────────┘\n"
      ]
     },
     "metadata": {},
     "output_type": "display_data"
    },
    {
     "data": {
      "text/html": [
       "<pre style=\"white-space:pre;overflow-x:auto;line-height:normal;font-family:Menlo,'DejaVu Sans Mono',consolas,'Courier New',monospace\"><span style=\"color: #008000; text-decoration-color: #008000\">Warning: trajectory cut off when rollout by epoch at </span><span style=\"color: #008080; text-decoration-color: #008080; font-weight: bold\">2.0</span><span style=\"color: #008000; text-decoration-color: #008000\"> steps.</span>\n",
       "</pre>\n"
      ],
      "text/plain": [
       "\u001b[32mWarning: trajectory cut off when rollout by epoch at \u001b[0m\u001b[1;36m2.0\u001b[0m\u001b[32m steps.\u001b[0m\n"
      ]
     },
     "metadata": {},
     "output_type": "display_data"
    },
    {
     "data": {
      "text/html": [
       "<pre style=\"white-space:pre;overflow-x:auto;line-height:normal;font-family:Menlo,'DejaVu Sans Mono',consolas,'Courier New',monospace\"></pre>\n"
      ],
      "text/plain": []
     },
     "metadata": {},
     "output_type": "display_data"
    },
    {
     "data": {
      "text/html": [
       "<pre style=\"white-space:pre;overflow-x:auto;line-height:normal;font-family:Menlo,'DejaVu Sans Mono',consolas,'Courier New',monospace\"><span style=\"color: #800000; text-decoration-color: #800000\">Alert! Attempting infeasible recovery!</span>\n",
       "</pre>\n"
      ],
      "text/plain": [
       "\u001b[31mAlert! Attempting infeasible recovery!\u001b[0m\n"
      ]
     },
     "metadata": {},
     "output_type": "display_data"
    },
    {
     "data": {
      "text/html": [
       "<pre style=\"white-space:pre;overflow-x:auto;line-height:normal;font-family:Menlo,'DejaVu Sans Mono',consolas,'Courier New',monospace\"><span style=\"color: #008000; text-decoration-color: #008000\">Expected Improvement: </span><span style=\"color: #008080; text-decoration-color: #008080; font-weight: bold\">-0.18329304456710815</span><span style=\"color: #008000; text-decoration-color: #008000\"> Actual: </span><span style=\"color: #008080; text-decoration-color: #008080; font-weight: bold\">-0.14840134978294373</span>\n",
       "</pre>\n"
      ],
      "text/plain": [
       "\u001b[32mExpected Improvement: \u001b[0m\u001b[1;36m-0.18329304456710815\u001b[0m\u001b[32m Actual: \u001b[0m\u001b[1;36m-0.14840134978294373\u001b[0m\n"
      ]
     },
     "metadata": {},
     "output_type": "display_data"
    },
    {
     "data": {
      "text/html": [
       "<pre style=\"white-space:pre;overflow-x:auto;line-height:normal;font-family:Menlo,'DejaVu Sans Mono',consolas,'Courier New',monospace\"><span style=\"color: #008000; text-decoration-color: #008000\">Accept step at </span><span style=\"color: #808000; text-decoration-color: #808000\">i</span><span style=\"color: #008000; text-decoration-color: #008000\">=</span><span style=\"color: #008080; text-decoration-color: #008080; font-weight: bold\">1</span>\n",
       "</pre>\n"
      ],
      "text/plain": [
       "\u001b[32mAccept step at \u001b[0m\u001b[33mi\u001b[0m\u001b[32m=\u001b[0m\u001b[1;36m1\u001b[0m\n"
      ]
     },
     "metadata": {},
     "output_type": "display_data"
    },
    {
     "data": {
      "text/html": [
       "<pre style=\"white-space:pre;overflow-x:auto;line-height:normal;font-family:Menlo,'DejaVu Sans Mono',consolas,'Courier New',monospace\">┏━━━━━━━━━━━━━━━━━━━━━━━━━━━━━━━┳━━━━━━━━━━━━━━━━━━━━━━━┓\n",
       "┃<span style=\"font-weight: bold\"> Metrics                       </span>┃<span style=\"font-weight: bold\"> Value                 </span>┃\n",
       "┡━━━━━━━━━━━━━━━━━━━━━━━━━━━━━━━╇━━━━━━━━━━━━━━━━━━━━━━━┩\n",
       "│ Metrics/EpRet                 │ 114.8970718383789     │\n",
       "│ Metrics/EpCost                │ 48.923858642578125    │\n",
       "│ Metrics/EpLen                 │ 6.0                   │\n",
       "│ Train/Epoch                   │ 34.0                  │\n",
       "│ Train/Entropy                 │ 0.8814477920532227    │\n",
       "│ Train/KL                      │ 0.0002672199916560203 │\n",
       "│ Train/StopIter                │ 10.0                  │\n",
       "│ Train/PolicyRatio/Mean        │ 0.9967287182807922    │\n",
       "│ Train/PolicyRatio/Min         │ 0.9967287182807922    │\n",
       "│ Train/PolicyRatio/Max         │ 0.9967287182807922    │\n",
       "│ Train/PolicyRatio/Std         │ 0.0023131032940000296 │\n",
       "│ Train/LR                      │ 0.0                   │\n",
       "│ Train/PolicyStd               │ 0.587196409702301     │\n",
       "│ TotalEnvSteps                 │ 700000.0              │\n",
       "│ Loss/Loss_pi                  │ -1.495994210243225    │\n",
       "│ Loss/Loss_pi/Delta            │ -2.1384915113449097   │\n",
       "│ Value/Adv                     │ 3.128051773160223e-08 │\n",
       "│ Loss/Loss_reward_critic       │ 11295.3544921875      │\n",
       "│ Loss/Loss_reward_critic/Delta │ 9956.635375976562     │\n",
       "│ Value/reward                  │ 19.22569465637207     │\n",
       "│ Loss/Loss_cost_critic         │ 1719.8310546875       │\n",
       "│ Loss/Loss_cost_critic/Delta   │ 1220.0304260253906    │\n",
       "│ Value/cost                    │ 17.065214157104492    │\n",
       "│ Time/Total                    │ 2059.150146484375     │\n",
       "│ Time/Rollout                  │ 28.781885147094727    │\n",
       "│ Time/Update                   │ 29.778423309326172    │\n",
       "│ Time/Epoch                    │ 58.560306549072266    │\n",
       "│ Time/FPS                      │ 341.52825927734375    │\n",
       "│ Env/Success_counts            │ nan                   │\n",
       "│ Misc/Alpha                    │ 0.08661725372076035   │\n",
       "│ Misc/FinalStepNorm            │ 0.1382722109556198    │\n",
       "│ Misc/gradient_norm            │ 6.030682563781738     │\n",
       "│ Misc/xHx                      │ 2.6657607555389404    │\n",
       "│ Misc/H_inv_g                  │ 1.6220393180847168    │\n",
       "│ Misc/AcceptanceStep           │ 1.0                   │\n",
       "│ Misc/cost_gradient_norm       │ 330.3358459472656     │\n",
       "│ Misc/A                        │ 0.9859435558319092    │\n",
       "│ Misc/B                        │ -0.12649156153202057  │\n",
       "│ Misc/q                        │ 2.6657607555389404    │\n",
       "│ Misc/r                        │ 81.01322937011719     │\n",
       "│ Misc/s                        │ 3907.05810546875      │\n",
       "│ Misc/Lambda_star              │ 0.0                   │\n",
       "│ Misc/Nu_star                  │ 0.002262507565319538  │\n",
       "│ Misc/OptimCase                │ 0.0                   │\n",
       "└───────────────────────────────┴───────────────────────┘\n",
       "</pre>\n"
      ],
      "text/plain": [
       "┏━━━━━━━━━━━━━━━━━━━━━━━━━━━━━━━┳━━━━━━━━━━━━━━━━━━━━━━━┓\n",
       "┃\u001b[1m \u001b[0m\u001b[1mMetrics                      \u001b[0m\u001b[1m \u001b[0m┃\u001b[1m \u001b[0m\u001b[1mValue                \u001b[0m\u001b[1m \u001b[0m┃\n",
       "┡━━━━━━━━━━━━━━━━━━━━━━━━━━━━━━━╇━━━━━━━━━━━━━━━━━━━━━━━┩\n",
       "│ Metrics/EpRet                 │ 114.8970718383789     │\n",
       "│ Metrics/EpCost                │ 48.923858642578125    │\n",
       "│ Metrics/EpLen                 │ 6.0                   │\n",
       "│ Train/Epoch                   │ 34.0                  │\n",
       "│ Train/Entropy                 │ 0.8814477920532227    │\n",
       "│ Train/KL                      │ 0.0002672199916560203 │\n",
       "│ Train/StopIter                │ 10.0                  │\n",
       "│ Train/PolicyRatio/Mean        │ 0.9967287182807922    │\n",
       "│ Train/PolicyRatio/Min         │ 0.9967287182807922    │\n",
       "│ Train/PolicyRatio/Max         │ 0.9967287182807922    │\n",
       "│ Train/PolicyRatio/Std         │ 0.0023131032940000296 │\n",
       "│ Train/LR                      │ 0.0                   │\n",
       "│ Train/PolicyStd               │ 0.587196409702301     │\n",
       "│ TotalEnvSteps                 │ 700000.0              │\n",
       "│ Loss/Loss_pi                  │ -1.495994210243225    │\n",
       "│ Loss/Loss_pi/Delta            │ -2.1384915113449097   │\n",
       "│ Value/Adv                     │ 3.128051773160223e-08 │\n",
       "│ Loss/Loss_reward_critic       │ 11295.3544921875      │\n",
       "│ Loss/Loss_reward_critic/Delta │ 9956.635375976562     │\n",
       "│ Value/reward                  │ 19.22569465637207     │\n",
       "│ Loss/Loss_cost_critic         │ 1719.8310546875       │\n",
       "│ Loss/Loss_cost_critic/Delta   │ 1220.0304260253906    │\n",
       "│ Value/cost                    │ 17.065214157104492    │\n",
       "│ Time/Total                    │ 2059.150146484375     │\n",
       "│ Time/Rollout                  │ 28.781885147094727    │\n",
       "│ Time/Update                   │ 29.778423309326172    │\n",
       "│ Time/Epoch                    │ 58.560306549072266    │\n",
       "│ Time/FPS                      │ 341.52825927734375    │\n",
       "│ Env/Success_counts            │ nan                   │\n",
       "│ Misc/Alpha                    │ 0.08661725372076035   │\n",
       "│ Misc/FinalStepNorm            │ 0.1382722109556198    │\n",
       "│ Misc/gradient_norm            │ 6.030682563781738     │\n",
       "│ Misc/xHx                      │ 2.6657607555389404    │\n",
       "│ Misc/H_inv_g                  │ 1.6220393180847168    │\n",
       "│ Misc/AcceptanceStep           │ 1.0                   │\n",
       "│ Misc/cost_gradient_norm       │ 330.3358459472656     │\n",
       "│ Misc/A                        │ 0.9859435558319092    │\n",
       "│ Misc/B                        │ -0.12649156153202057  │\n",
       "│ Misc/q                        │ 2.6657607555389404    │\n",
       "│ Misc/r                        │ 81.01322937011719     │\n",
       "│ Misc/s                        │ 3907.05810546875      │\n",
       "│ Misc/Lambda_star              │ 0.0                   │\n",
       "│ Misc/Nu_star                  │ 0.002262507565319538  │\n",
       "│ Misc/OptimCase                │ 0.0                   │\n",
       "└───────────────────────────────┴───────────────────────┘\n"
      ]
     },
     "metadata": {},
     "output_type": "display_data"
    },
    {
     "data": {
      "text/html": [
       "<pre style=\"white-space:pre;overflow-x:auto;line-height:normal;font-family:Menlo,'DejaVu Sans Mono',consolas,'Courier New',monospace\"><span style=\"color: #008000; text-decoration-color: #008000\">Warning: trajectory cut off when rollout by epoch at </span><span style=\"color: #008080; text-decoration-color: #008080; font-weight: bold\">2.0</span><span style=\"color: #008000; text-decoration-color: #008000\"> steps.</span>\n",
       "</pre>\n"
      ],
      "text/plain": [
       "\u001b[32mWarning: trajectory cut off when rollout by epoch at \u001b[0m\u001b[1;36m2.0\u001b[0m\u001b[32m steps.\u001b[0m\n"
      ]
     },
     "metadata": {},
     "output_type": "display_data"
    },
    {
     "data": {
      "text/html": [
       "<pre style=\"white-space:pre;overflow-x:auto;line-height:normal;font-family:Menlo,'DejaVu Sans Mono',consolas,'Courier New',monospace\"></pre>\n"
      ],
      "text/plain": []
     },
     "metadata": {},
     "output_type": "display_data"
    },
    {
     "data": {
      "text/html": [
       "<pre style=\"white-space:pre;overflow-x:auto;line-height:normal;font-family:Menlo,'DejaVu Sans Mono',consolas,'Courier New',monospace\"><span style=\"color: #008000; text-decoration-color: #008000\">Expected Improvement: </span><span style=\"color: #008080; text-decoration-color: #008080; font-weight: bold\">0.16570071876049042</span><span style=\"color: #008000; text-decoration-color: #008000\"> Actual: </span><span style=\"color: #008080; text-decoration-color: #008080; font-weight: bold\">0.24284979701042175</span>\n",
       "</pre>\n"
      ],
      "text/plain": [
       "\u001b[32mExpected Improvement: \u001b[0m\u001b[1;36m0.16570071876049042\u001b[0m\u001b[32m Actual: \u001b[0m\u001b[1;36m0.24284979701042175\u001b[0m\n"
      ]
     },
     "metadata": {},
     "output_type": "display_data"
    },
    {
     "data": {
      "text/html": [
       "<pre style=\"white-space:pre;overflow-x:auto;line-height:normal;font-family:Menlo,'DejaVu Sans Mono',consolas,'Courier New',monospace\"><span style=\"color: #008000; text-decoration-color: #008000\">Accept step at </span><span style=\"color: #808000; text-decoration-color: #808000\">i</span><span style=\"color: #008000; text-decoration-color: #008000\">=</span><span style=\"color: #008080; text-decoration-color: #008080; font-weight: bold\">1</span>\n",
       "</pre>\n"
      ],
      "text/plain": [
       "\u001b[32mAccept step at \u001b[0m\u001b[33mi\u001b[0m\u001b[32m=\u001b[0m\u001b[1;36m1\u001b[0m\n"
      ]
     },
     "metadata": {},
     "output_type": "display_data"
    },
    {
     "data": {
      "text/html": [
       "<pre style=\"white-space:pre;overflow-x:auto;line-height:normal;font-family:Menlo,'DejaVu Sans Mono',consolas,'Courier New',monospace\">┏━━━━━━━━━━━━━━━━━━━━━━━━━━━━━━━┳━━━━━━━━━━━━━━━━━━━━━━━━┓\n",
       "┃<span style=\"font-weight: bold\"> Metrics                       </span>┃<span style=\"font-weight: bold\"> Value                  </span>┃\n",
       "┡━━━━━━━━━━━━━━━━━━━━━━━━━━━━━━━╇━━━━━━━━━━━━━━━━━━━━━━━━┩\n",
       "│ Metrics/EpRet                 │ 33.14253234863281      │\n",
       "│ Metrics/EpCost                │ 18.838661193847656     │\n",
       "│ Metrics/EpLen                 │ 6.0                    │\n",
       "│ Train/Epoch                   │ 35.0                   │\n",
       "│ Train/Entropy                 │ 0.8799870610237122     │\n",
       "│ Train/KL                      │ 0.00025051593547686934 │\n",
       "│ Train/StopIter                │ 10.0                   │\n",
       "│ Train/PolicyRatio/Mean        │ 1.0057955980300903     │\n",
       "│ Train/PolicyRatio/Min         │ 1.0057955980300903     │\n",
       "│ Train/PolicyRatio/Max         │ 1.0057955980300903     │\n",
       "│ Train/PolicyRatio/Std         │ 0.004098134580999613   │\n",
       "│ Train/LR                      │ 0.0                    │\n",
       "│ Train/PolicyStd               │ 0.5865287780761719     │\n",
       "│ TotalEnvSteps                 │ 720000.0               │\n",
       "│ Loss/Loss_pi                  │ 0.8258348107337952     │\n",
       "│ Loss/Loss_pi/Delta            │ 2.3218290209770203     │\n",
       "│ Value/Adv                     │ -6.942749308791463e-08 │\n",
       "│ Loss/Loss_reward_critic       │ 2458.738525390625      │\n",
       "│ Loss/Loss_reward_critic/Delta │ -8836.615966796875     │\n",
       "│ Value/reward                  │ 59.0681266784668       │\n",
       "│ Loss/Loss_cost_critic         │ 453.31298828125        │\n",
       "│ Loss/Loss_cost_critic/Delta   │ -1266.51806640625      │\n",
       "│ Value/cost                    │ 29.504362106323242     │\n",
       "│ Time/Total                    │ 2119.823486328125      │\n",
       "│ Time/Rollout                  │ 29.988079071044922     │\n",
       "│ Time/Update                   │ 30.638566970825195     │\n",
       "│ Time/Epoch                    │ 60.626644134521484     │\n",
       "│ Time/FPS                      │ 329.887939453125       │\n",
       "│ Env/Success_counts            │ nan                    │\n",
       "│ Misc/Alpha                    │ 0.12015785276889801    │\n",
       "│ Misc/FinalStepNorm            │ 0.1564456969499588     │\n",
       "│ Misc/gradient_norm            │ 4.699948787689209      │\n",
       "│ Misc/xHx                      │ 1.385241985321045      │\n",
       "│ Misc/H_inv_g                  │ 1.3020012378692627     │\n",
       "│ Misc/AcceptanceStep           │ 1.0                    │\n",
       "│ Misc/cost_gradient_norm       │ 175.35389709472656     │\n",
       "│ Misc/A                        │ 0.6433448791503906     │\n",
       "│ Misc/B                        │ -0.0400167740881443    │\n",
       "│ Misc/q                        │ 1.385241985321045      │\n",
       "│ Misc/r                        │ 21.662601470947266     │\n",
       "│ Misc/s                        │ 632.5247802734375      │\n",
       "│ Misc/Lambda_star              │ 8.32238483428955       │\n",
       "│ Misc/Nu_star                  │ 0.0                    │\n",
       "│ Misc/OptimCase                │ 3.0                    │\n",
       "└───────────────────────────────┴────────────────────────┘\n",
       "</pre>\n"
      ],
      "text/plain": [
       "┏━━━━━━━━━━━━━━━━━━━━━━━━━━━━━━━┳━━━━━━━━━━━━━━━━━━━━━━━━┓\n",
       "┃\u001b[1m \u001b[0m\u001b[1mMetrics                      \u001b[0m\u001b[1m \u001b[0m┃\u001b[1m \u001b[0m\u001b[1mValue                 \u001b[0m\u001b[1m \u001b[0m┃\n",
       "┡━━━━━━━━━━━━━━━━━━━━━━━━━━━━━━━╇━━━━━━━━━━━━━━━━━━━━━━━━┩\n",
       "│ Metrics/EpRet                 │ 33.14253234863281      │\n",
       "│ Metrics/EpCost                │ 18.838661193847656     │\n",
       "│ Metrics/EpLen                 │ 6.0                    │\n",
       "│ Train/Epoch                   │ 35.0                   │\n",
       "│ Train/Entropy                 │ 0.8799870610237122     │\n",
       "│ Train/KL                      │ 0.00025051593547686934 │\n",
       "│ Train/StopIter                │ 10.0                   │\n",
       "│ Train/PolicyRatio/Mean        │ 1.0057955980300903     │\n",
       "│ Train/PolicyRatio/Min         │ 1.0057955980300903     │\n",
       "│ Train/PolicyRatio/Max         │ 1.0057955980300903     │\n",
       "│ Train/PolicyRatio/Std         │ 0.004098134580999613   │\n",
       "│ Train/LR                      │ 0.0                    │\n",
       "│ Train/PolicyStd               │ 0.5865287780761719     │\n",
       "│ TotalEnvSteps                 │ 720000.0               │\n",
       "│ Loss/Loss_pi                  │ 0.8258348107337952     │\n",
       "│ Loss/Loss_pi/Delta            │ 2.3218290209770203     │\n",
       "│ Value/Adv                     │ -6.942749308791463e-08 │\n",
       "│ Loss/Loss_reward_critic       │ 2458.738525390625      │\n",
       "│ Loss/Loss_reward_critic/Delta │ -8836.615966796875     │\n",
       "│ Value/reward                  │ 59.0681266784668       │\n",
       "│ Loss/Loss_cost_critic         │ 453.31298828125        │\n",
       "│ Loss/Loss_cost_critic/Delta   │ -1266.51806640625      │\n",
       "│ Value/cost                    │ 29.504362106323242     │\n",
       "│ Time/Total                    │ 2119.823486328125      │\n",
       "│ Time/Rollout                  │ 29.988079071044922     │\n",
       "│ Time/Update                   │ 30.638566970825195     │\n",
       "│ Time/Epoch                    │ 60.626644134521484     │\n",
       "│ Time/FPS                      │ 329.887939453125       │\n",
       "│ Env/Success_counts            │ nan                    │\n",
       "│ Misc/Alpha                    │ 0.12015785276889801    │\n",
       "│ Misc/FinalStepNorm            │ 0.1564456969499588     │\n",
       "│ Misc/gradient_norm            │ 4.699948787689209      │\n",
       "│ Misc/xHx                      │ 1.385241985321045      │\n",
       "│ Misc/H_inv_g                  │ 1.3020012378692627     │\n",
       "│ Misc/AcceptanceStep           │ 1.0                    │\n",
       "│ Misc/cost_gradient_norm       │ 175.35389709472656     │\n",
       "│ Misc/A                        │ 0.6433448791503906     │\n",
       "│ Misc/B                        │ -0.0400167740881443    │\n",
       "│ Misc/q                        │ 1.385241985321045      │\n",
       "│ Misc/r                        │ 21.662601470947266     │\n",
       "│ Misc/s                        │ 632.5247802734375      │\n",
       "│ Misc/Lambda_star              │ 8.32238483428955       │\n",
       "│ Misc/Nu_star                  │ 0.0                    │\n",
       "│ Misc/OptimCase                │ 3.0                    │\n",
       "└───────────────────────────────┴────────────────────────┘\n"
      ]
     },
     "metadata": {},
     "output_type": "display_data"
    },
    {
     "data": {
      "text/html": [
       "<pre style=\"white-space:pre;overflow-x:auto;line-height:normal;font-family:Menlo,'DejaVu Sans Mono',consolas,'Courier New',monospace\"><span style=\"color: #008000; text-decoration-color: #008000\">Warning: trajectory cut off when rollout by epoch at </span><span style=\"color: #008080; text-decoration-color: #008080; font-weight: bold\">2.0</span><span style=\"color: #008000; text-decoration-color: #008000\"> steps.</span>\n",
       "</pre>\n"
      ],
      "text/plain": [
       "\u001b[32mWarning: trajectory cut off when rollout by epoch at \u001b[0m\u001b[1;36m2.0\u001b[0m\u001b[32m steps.\u001b[0m\n"
      ]
     },
     "metadata": {},
     "output_type": "display_data"
    },
    {
     "data": {
      "text/html": [
       "<pre style=\"white-space:pre;overflow-x:auto;line-height:normal;font-family:Menlo,'DejaVu Sans Mono',consolas,'Courier New',monospace\"></pre>\n"
      ],
      "text/plain": []
     },
     "metadata": {},
     "output_type": "display_data"
    },
    {
     "data": {
      "text/html": [
       "<pre style=\"white-space:pre;overflow-x:auto;line-height:normal;font-family:Menlo,'DejaVu Sans Mono',consolas,'Courier New',monospace\"><span style=\"color: #800000; text-decoration-color: #800000\">Alert! Attempting infeasible recovery!</span>\n",
       "</pre>\n"
      ],
      "text/plain": [
       "\u001b[31mAlert! Attempting infeasible recovery!\u001b[0m\n"
      ]
     },
     "metadata": {},
     "output_type": "display_data"
    },
    {
     "data": {
      "text/html": [
       "<pre style=\"white-space:pre;overflow-x:auto;line-height:normal;font-family:Menlo,'DejaVu Sans Mono',consolas,'Courier New',monospace\"><span style=\"color: #008000; text-decoration-color: #008000\">Expected Improvement: </span><span style=\"color: #008080; text-decoration-color: #008080; font-weight: bold\">-0.21006253361701965</span><span style=\"color: #008000; text-decoration-color: #008000\"> Actual: </span><span style=\"color: #008080; text-decoration-color: #008080; font-weight: bold\">-0.17303521931171417</span>\n",
       "</pre>\n"
      ],
      "text/plain": [
       "\u001b[32mExpected Improvement: \u001b[0m\u001b[1;36m-0.21006253361701965\u001b[0m\u001b[32m Actual: \u001b[0m\u001b[1;36m-0.17303521931171417\u001b[0m\n"
      ]
     },
     "metadata": {},
     "output_type": "display_data"
    },
    {
     "data": {
      "text/html": [
       "<pre style=\"white-space:pre;overflow-x:auto;line-height:normal;font-family:Menlo,'DejaVu Sans Mono',consolas,'Courier New',monospace\"><span style=\"color: #008000; text-decoration-color: #008000\">Accept step at </span><span style=\"color: #808000; text-decoration-color: #808000\">i</span><span style=\"color: #008000; text-decoration-color: #008000\">=</span><span style=\"color: #008080; text-decoration-color: #008080; font-weight: bold\">1</span>\n",
       "</pre>\n"
      ],
      "text/plain": [
       "\u001b[32mAccept step at \u001b[0m\u001b[33mi\u001b[0m\u001b[32m=\u001b[0m\u001b[1;36m1\u001b[0m\n"
      ]
     },
     "metadata": {},
     "output_type": "display_data"
    },
    {
     "data": {
      "text/html": [
       "<pre style=\"white-space:pre;overflow-x:auto;line-height:normal;font-family:Menlo,'DejaVu Sans Mono',consolas,'Courier New',monospace\">┏━━━━━━━━━━━━━━━━━━━━━━━━━━━━━━━┳━━━━━━━━━━━━━━━━━━━━━━━━┓\n",
       "┃<span style=\"font-weight: bold\"> Metrics                       </span>┃<span style=\"font-weight: bold\"> Value                  </span>┃\n",
       "┡━━━━━━━━━━━━━━━━━━━━━━━━━━━━━━━╇━━━━━━━━━━━━━━━━━━━━━━━━┩\n",
       "│ Metrics/EpRet                 │ 103.4020767211914      │\n",
       "│ Metrics/EpCost                │ 44.86015319824219      │\n",
       "│ Metrics/EpLen                 │ 6.0                    │\n",
       "│ Train/Epoch                   │ 36.0                   │\n",
       "│ Train/Entropy                 │ 0.872790515422821      │\n",
       "│ Train/KL                      │ 0.0002702914644032717  │\n",
       "│ Train/StopIter                │ 10.0                   │\n",
       "│ Train/PolicyRatio/Mean        │ 1.0025964975357056     │\n",
       "│ Train/PolicyRatio/Min         │ 1.0025964975357056     │\n",
       "│ Train/PolicyRatio/Max         │ 1.0025964975357056     │\n",
       "│ Train/PolicyRatio/Std         │ 0.0018359728856012225  │\n",
       "│ Train/LR                      │ 0.0                    │\n",
       "│ Train/PolicyStd               │ 0.5823462009429932     │\n",
       "│ TotalEnvSteps                 │ 740000.0               │\n",
       "│ Loss/Loss_pi                  │ -1.6140369176864624    │\n",
       "│ Loss/Loss_pi/Delta            │ -2.4398717284202576    │\n",
       "│ Value/Adv                     │ -1.907348723406699e-09 │\n",
       "│ Loss/Loss_reward_critic       │ 13574.6455078125       │\n",
       "│ Loss/Loss_reward_critic/Delta │ 11115.906982421875     │\n",
       "│ Value/reward                  │ 42.299434661865234     │\n",
       "│ Loss/Loss_cost_critic         │ 1778.317138671875      │\n",
       "│ Loss/Loss_cost_critic/Delta   │ 1325.004150390625      │\n",
       "│ Value/cost                    │ 19.332311630249023     │\n",
       "│ Time/Total                    │ 2209.927001953125      │\n",
       "│ Time/Rollout                  │ 34.53801727294922      │\n",
       "│ Time/Update                   │ 55.487789154052734     │\n",
       "│ Time/Epoch                    │ 90.02580261230469      │\n",
       "│ Time/FPS                      │ 222.1585235595703      │\n",
       "│ Env/Success_counts            │ nan                    │\n",
       "│ Misc/Alpha                    │ 0.08181872218847275    │\n",
       "│ Misc/FinalStepNorm            │ 0.13914182782173157    │\n",
       "│ Misc/gradient_norm            │ 7.395334243774414      │\n",
       "│ Misc/xHx                      │ 2.987614870071411      │\n",
       "│ Misc/H_inv_g                  │ 1.5416738986968994     │\n",
       "│ Misc/AcceptanceStep           │ 1.0                    │\n",
       "│ Misc/cost_gradient_norm       │ 331.29351806640625     │\n",
       "│ Misc/A                        │ 0.7813012599945068     │\n",
       "│ Misc/B                        │ -0.0672755241394043    │\n",
       "│ Misc/q                        │ 2.987614870071411      │\n",
       "│ Misc/r                        │ 99.85504150390625      │\n",
       "│ Misc/s                        │ 4519.31640625          │\n",
       "│ Misc/Lambda_star              │ 0.0                    │\n",
       "│ Misc/Nu_star                  │ 0.0021036749240010977  │\n",
       "│ Misc/OptimCase                │ 0.0                    │\n",
       "└───────────────────────────────┴────────────────────────┘\n",
       "</pre>\n"
      ],
      "text/plain": [
       "┏━━━━━━━━━━━━━━━━━━━━━━━━━━━━━━━┳━━━━━━━━━━━━━━━━━━━━━━━━┓\n",
       "┃\u001b[1m \u001b[0m\u001b[1mMetrics                      \u001b[0m\u001b[1m \u001b[0m┃\u001b[1m \u001b[0m\u001b[1mValue                 \u001b[0m\u001b[1m \u001b[0m┃\n",
       "┡━━━━━━━━━━━━━━━━━━━━━━━━━━━━━━━╇━━━━━━━━━━━━━━━━━━━━━━━━┩\n",
       "│ Metrics/EpRet                 │ 103.4020767211914      │\n",
       "│ Metrics/EpCost                │ 44.86015319824219      │\n",
       "│ Metrics/EpLen                 │ 6.0                    │\n",
       "│ Train/Epoch                   │ 36.0                   │\n",
       "│ Train/Entropy                 │ 0.872790515422821      │\n",
       "│ Train/KL                      │ 0.0002702914644032717  │\n",
       "│ Train/StopIter                │ 10.0                   │\n",
       "│ Train/PolicyRatio/Mean        │ 1.0025964975357056     │\n",
       "│ Train/PolicyRatio/Min         │ 1.0025964975357056     │\n",
       "│ Train/PolicyRatio/Max         │ 1.0025964975357056     │\n",
       "│ Train/PolicyRatio/Std         │ 0.0018359728856012225  │\n",
       "│ Train/LR                      │ 0.0                    │\n",
       "│ Train/PolicyStd               │ 0.5823462009429932     │\n",
       "│ TotalEnvSteps                 │ 740000.0               │\n",
       "│ Loss/Loss_pi                  │ -1.6140369176864624    │\n",
       "│ Loss/Loss_pi/Delta            │ -2.4398717284202576    │\n",
       "│ Value/Adv                     │ -1.907348723406699e-09 │\n",
       "│ Loss/Loss_reward_critic       │ 13574.6455078125       │\n",
       "│ Loss/Loss_reward_critic/Delta │ 11115.906982421875     │\n",
       "│ Value/reward                  │ 42.299434661865234     │\n",
       "│ Loss/Loss_cost_critic         │ 1778.317138671875      │\n",
       "│ Loss/Loss_cost_critic/Delta   │ 1325.004150390625      │\n",
       "│ Value/cost                    │ 19.332311630249023     │\n",
       "│ Time/Total                    │ 2209.927001953125      │\n",
       "│ Time/Rollout                  │ 34.53801727294922      │\n",
       "│ Time/Update                   │ 55.487789154052734     │\n",
       "│ Time/Epoch                    │ 90.02580261230469      │\n",
       "│ Time/FPS                      │ 222.1585235595703      │\n",
       "│ Env/Success_counts            │ nan                    │\n",
       "│ Misc/Alpha                    │ 0.08181872218847275    │\n",
       "│ Misc/FinalStepNorm            │ 0.13914182782173157    │\n",
       "│ Misc/gradient_norm            │ 7.395334243774414      │\n",
       "│ Misc/xHx                      │ 2.987614870071411      │\n",
       "│ Misc/H_inv_g                  │ 1.5416738986968994     │\n",
       "│ Misc/AcceptanceStep           │ 1.0                    │\n",
       "│ Misc/cost_gradient_norm       │ 331.29351806640625     │\n",
       "│ Misc/A                        │ 0.7813012599945068     │\n",
       "│ Misc/B                        │ -0.0672755241394043    │\n",
       "│ Misc/q                        │ 2.987614870071411      │\n",
       "│ Misc/r                        │ 99.85504150390625      │\n",
       "│ Misc/s                        │ 4519.31640625          │\n",
       "│ Misc/Lambda_star              │ 0.0                    │\n",
       "│ Misc/Nu_star                  │ 0.0021036749240010977  │\n",
       "│ Misc/OptimCase                │ 0.0                    │\n",
       "└───────────────────────────────┴────────────────────────┘\n"
      ]
     },
     "metadata": {},
     "output_type": "display_data"
    },
    {
     "data": {
      "text/html": [
       "<pre style=\"white-space:pre;overflow-x:auto;line-height:normal;font-family:Menlo,'DejaVu Sans Mono',consolas,'Courier New',monospace\"><span style=\"color: #008000; text-decoration-color: #008000\">Warning: trajectory cut off when rollout by epoch at </span><span style=\"color: #008080; text-decoration-color: #008080; font-weight: bold\">2.0</span><span style=\"color: #008000; text-decoration-color: #008000\"> steps.</span>\n",
       "</pre>\n"
      ],
      "text/plain": [
       "\u001b[32mWarning: trajectory cut off when rollout by epoch at \u001b[0m\u001b[1;36m2.0\u001b[0m\u001b[32m steps.\u001b[0m\n"
      ]
     },
     "metadata": {},
     "output_type": "display_data"
    },
    {
     "data": {
      "text/html": [
       "<pre style=\"white-space:pre;overflow-x:auto;line-height:normal;font-family:Menlo,'DejaVu Sans Mono',consolas,'Courier New',monospace\"></pre>\n"
      ],
      "text/plain": []
     },
     "metadata": {},
     "output_type": "display_data"
    },
    {
     "data": {
      "text/html": [
       "<pre style=\"white-space:pre;overflow-x:auto;line-height:normal;font-family:Menlo,'DejaVu Sans Mono',consolas,'Courier New',monospace\"><span style=\"color: #008000; text-decoration-color: #008000\">Expected Improvement: </span><span style=\"color: #008080; text-decoration-color: #008080; font-weight: bold\">-0.07031646370887756</span><span style=\"color: #008000; text-decoration-color: #008000\"> Actual: </span><span style=\"color: #008080; text-decoration-color: #008080; font-weight: bold\">-3.6692304611206055</span>\n",
       "</pre>\n"
      ],
      "text/plain": [
       "\u001b[32mExpected Improvement: \u001b[0m\u001b[1;36m-0.07031646370887756\u001b[0m\u001b[32m Actual: \u001b[0m\u001b[1;36m-3.6692304611206055\u001b[0m\n"
      ]
     },
     "metadata": {},
     "output_type": "display_data"
    },
    {
     "data": {
      "text/html": [
       "<pre style=\"white-space:pre;overflow-x:auto;line-height:normal;font-family:Menlo,'DejaVu Sans Mono',consolas,'Courier New',monospace\"><span style=\"color: #008000; text-decoration-color: #008000\">INFO: did not improve improve &lt;</span><span style=\"color: #008080; text-decoration-color: #008080; font-weight: bold\">0</span>\n",
       "</pre>\n"
      ],
      "text/plain": [
       "\u001b[32mINFO: did not improve improve <\u001b[0m\u001b[1;36m0\u001b[0m\n"
      ]
     },
     "metadata": {},
     "output_type": "display_data"
    },
    {
     "data": {
      "text/html": [
       "<pre style=\"white-space:pre;overflow-x:auto;line-height:normal;font-family:Menlo,'DejaVu Sans Mono',consolas,'Courier New',monospace\"><span style=\"color: #008000; text-decoration-color: #008000\">Expected Improvement: </span><span style=\"color: #008080; text-decoration-color: #008080; font-weight: bold\">-0.07031646370887756</span><span style=\"color: #008000; text-decoration-color: #008000\"> Actual: </span><span style=\"color: #008080; text-decoration-color: #008080; font-weight: bold\">-2.024043321609497</span>\n",
       "</pre>\n"
      ],
      "text/plain": [
       "\u001b[32mExpected Improvement: \u001b[0m\u001b[1;36m-0.07031646370887756\u001b[0m\u001b[32m Actual: \u001b[0m\u001b[1;36m-2.024043321609497\u001b[0m\n"
      ]
     },
     "metadata": {},
     "output_type": "display_data"
    },
    {
     "data": {
      "text/html": [
       "<pre style=\"white-space:pre;overflow-x:auto;line-height:normal;font-family:Menlo,'DejaVu Sans Mono',consolas,'Courier New',monospace\"><span style=\"color: #008000; text-decoration-color: #008000\">INFO: did not improve improve &lt;</span><span style=\"color: #008080; text-decoration-color: #008080; font-weight: bold\">0</span>\n",
       "</pre>\n"
      ],
      "text/plain": [
       "\u001b[32mINFO: did not improve improve <\u001b[0m\u001b[1;36m0\u001b[0m\n"
      ]
     },
     "metadata": {},
     "output_type": "display_data"
    },
    {
     "data": {
      "text/html": [
       "<pre style=\"white-space:pre;overflow-x:auto;line-height:normal;font-family:Menlo,'DejaVu Sans Mono',consolas,'Courier New',monospace\"><span style=\"color: #008000; text-decoration-color: #008000\">Expected Improvement: </span><span style=\"color: #008080; text-decoration-color: #008080; font-weight: bold\">-0.07031646370887756</span><span style=\"color: #008000; text-decoration-color: #008000\"> Actual: </span><span style=\"color: #008080; text-decoration-color: #008080; font-weight: bold\">-0.80684494972229</span>\n",
       "</pre>\n"
      ],
      "text/plain": [
       "\u001b[32mExpected Improvement: \u001b[0m\u001b[1;36m-0.07031646370887756\u001b[0m\u001b[32m Actual: \u001b[0m\u001b[1;36m-0.80684494972229\u001b[0m\n"
      ]
     },
     "metadata": {},
     "output_type": "display_data"
    },
    {
     "data": {
      "text/html": [
       "<pre style=\"white-space:pre;overflow-x:auto;line-height:normal;font-family:Menlo,'DejaVu Sans Mono',consolas,'Courier New',monospace\"><span style=\"color: #008000; text-decoration-color: #008000\">INFO: did not improve improve &lt;</span><span style=\"color: #008080; text-decoration-color: #008080; font-weight: bold\">0</span>\n",
       "</pre>\n"
      ],
      "text/plain": [
       "\u001b[32mINFO: did not improve improve <\u001b[0m\u001b[1;36m0\u001b[0m\n"
      ]
     },
     "metadata": {},
     "output_type": "display_data"
    },
    {
     "data": {
      "text/html": [
       "<pre style=\"white-space:pre;overflow-x:auto;line-height:normal;font-family:Menlo,'DejaVu Sans Mono',consolas,'Courier New',monospace\"><span style=\"color: #008000; text-decoration-color: #008000\">Expected Improvement: </span><span style=\"color: #008080; text-decoration-color: #008080; font-weight: bold\">-0.07031646370887756</span><span style=\"color: #008000; text-decoration-color: #008000\"> Actual: </span><span style=\"color: #008080; text-decoration-color: #008080; font-weight: bold\">-0.28454679250717163</span>\n",
       "</pre>\n"
      ],
      "text/plain": [
       "\u001b[32mExpected Improvement: \u001b[0m\u001b[1;36m-0.07031646370887756\u001b[0m\u001b[32m Actual: \u001b[0m\u001b[1;36m-0.28454679250717163\u001b[0m\n"
      ]
     },
     "metadata": {},
     "output_type": "display_data"
    },
    {
     "data": {
      "text/html": [
       "<pre style=\"white-space:pre;overflow-x:auto;line-height:normal;font-family:Menlo,'DejaVu Sans Mono',consolas,'Courier New',monospace\"><span style=\"color: #008000; text-decoration-color: #008000\">INFO: did not improve improve &lt;</span><span style=\"color: #008080; text-decoration-color: #008080; font-weight: bold\">0</span>\n",
       "</pre>\n"
      ],
      "text/plain": [
       "\u001b[32mINFO: did not improve improve <\u001b[0m\u001b[1;36m0\u001b[0m\n"
      ]
     },
     "metadata": {},
     "output_type": "display_data"
    },
    {
     "data": {
      "text/html": [
       "<pre style=\"white-space:pre;overflow-x:auto;line-height:normal;font-family:Menlo,'DejaVu Sans Mono',consolas,'Courier New',monospace\"><span style=\"color: #008000; text-decoration-color: #008000\">Expected Improvement: </span><span style=\"color: #008080; text-decoration-color: #008080; font-weight: bold\">-0.07031646370887756</span><span style=\"color: #008000; text-decoration-color: #008000\"> Actual: </span><span style=\"color: #008080; text-decoration-color: #008080; font-weight: bold\">-0.11145610362291336</span>\n",
       "</pre>\n"
      ],
      "text/plain": [
       "\u001b[32mExpected Improvement: \u001b[0m\u001b[1;36m-0.07031646370887756\u001b[0m\u001b[32m Actual: \u001b[0m\u001b[1;36m-0.11145610362291336\u001b[0m\n"
      ]
     },
     "metadata": {},
     "output_type": "display_data"
    },
    {
     "data": {
      "text/html": [
       "<pre style=\"white-space:pre;overflow-x:auto;line-height:normal;font-family:Menlo,'DejaVu Sans Mono',consolas,'Courier New',monospace\"><span style=\"color: #008000; text-decoration-color: #008000\">INFO: did not improve improve &lt;</span><span style=\"color: #008080; text-decoration-color: #008080; font-weight: bold\">0</span>\n",
       "</pre>\n"
      ],
      "text/plain": [
       "\u001b[32mINFO: did not improve improve <\u001b[0m\u001b[1;36m0\u001b[0m\n"
      ]
     },
     "metadata": {},
     "output_type": "display_data"
    },
    {
     "data": {
      "text/html": [
       "<pre style=\"white-space:pre;overflow-x:auto;line-height:normal;font-family:Menlo,'DejaVu Sans Mono',consolas,'Courier New',monospace\"><span style=\"color: #008000; text-decoration-color: #008000\">Expected Improvement: </span><span style=\"color: #008080; text-decoration-color: #008080; font-weight: bold\">-0.07031646370887756</span><span style=\"color: #008000; text-decoration-color: #008000\"> Actual: </span><span style=\"color: #008080; text-decoration-color: #008080; font-weight: bold\">-0.05262790992856026</span>\n",
       "</pre>\n"
      ],
      "text/plain": [
       "\u001b[32mExpected Improvement: \u001b[0m\u001b[1;36m-0.07031646370887756\u001b[0m\u001b[32m Actual: \u001b[0m\u001b[1;36m-0.05262790992856026\u001b[0m\n"
      ]
     },
     "metadata": {},
     "output_type": "display_data"
    },
    {
     "data": {
      "text/html": [
       "<pre style=\"white-space:pre;overflow-x:auto;line-height:normal;font-family:Menlo,'DejaVu Sans Mono',consolas,'Courier New',monospace\"><span style=\"color: #008000; text-decoration-color: #008000\">INFO: did not improve improve &lt;</span><span style=\"color: #008080; text-decoration-color: #008080; font-weight: bold\">0</span>\n",
       "</pre>\n"
      ],
      "text/plain": [
       "\u001b[32mINFO: did not improve improve <\u001b[0m\u001b[1;36m0\u001b[0m\n"
      ]
     },
     "metadata": {},
     "output_type": "display_data"
    },
    {
     "data": {
      "text/html": [
       "<pre style=\"white-space:pre;overflow-x:auto;line-height:normal;font-family:Menlo,'DejaVu Sans Mono',consolas,'Courier New',monospace\"><span style=\"color: #008000; text-decoration-color: #008000\">Expected Improvement: </span><span style=\"color: #008080; text-decoration-color: #008080; font-weight: bold\">-0.07031646370887756</span><span style=\"color: #008000; text-decoration-color: #008000\"> Actual: </span><span style=\"color: #008080; text-decoration-color: #008080; font-weight: bold\">-0.030018992722034454</span>\n",
       "</pre>\n"
      ],
      "text/plain": [
       "\u001b[32mExpected Improvement: \u001b[0m\u001b[1;36m-0.07031646370887756\u001b[0m\u001b[32m Actual: \u001b[0m\u001b[1;36m-0.030018992722034454\u001b[0m\n"
      ]
     },
     "metadata": {},
     "output_type": "display_data"
    },
    {
     "data": {
      "text/html": [
       "<pre style=\"white-space:pre;overflow-x:auto;line-height:normal;font-family:Menlo,'DejaVu Sans Mono',consolas,'Courier New',monospace\"><span style=\"color: #008000; text-decoration-color: #008000\">INFO: did not improve improve &lt;</span><span style=\"color: #008080; text-decoration-color: #008080; font-weight: bold\">0</span>\n",
       "</pre>\n"
      ],
      "text/plain": [
       "\u001b[32mINFO: did not improve improve <\u001b[0m\u001b[1;36m0\u001b[0m\n"
      ]
     },
     "metadata": {},
     "output_type": "display_data"
    },
    {
     "data": {
      "text/html": [
       "<pre style=\"white-space:pre;overflow-x:auto;line-height:normal;font-family:Menlo,'DejaVu Sans Mono',consolas,'Courier New',monospace\"><span style=\"color: #008000; text-decoration-color: #008000\">Expected Improvement: </span><span style=\"color: #008080; text-decoration-color: #008080; font-weight: bold\">-0.07031646370887756</span><span style=\"color: #008000; text-decoration-color: #008000\"> Actual: </span><span style=\"color: #008080; text-decoration-color: #008080; font-weight: bold\">-0.019695032387971878</span>\n",
       "</pre>\n"
      ],
      "text/plain": [
       "\u001b[32mExpected Improvement: \u001b[0m\u001b[1;36m-0.07031646370887756\u001b[0m\u001b[32m Actual: \u001b[0m\u001b[1;36m-0.019695032387971878\u001b[0m\n"
      ]
     },
     "metadata": {},
     "output_type": "display_data"
    },
    {
     "data": {
      "text/html": [
       "<pre style=\"white-space:pre;overflow-x:auto;line-height:normal;font-family:Menlo,'DejaVu Sans Mono',consolas,'Courier New',monospace\"><span style=\"color: #008000; text-decoration-color: #008000\">INFO: did not improve improve &lt;</span><span style=\"color: #008080; text-decoration-color: #008080; font-weight: bold\">0</span>\n",
       "</pre>\n"
      ],
      "text/plain": [
       "\u001b[32mINFO: did not improve improve <\u001b[0m\u001b[1;36m0\u001b[0m\n"
      ]
     },
     "metadata": {},
     "output_type": "display_data"
    },
    {
     "data": {
      "text/html": [
       "<pre style=\"white-space:pre;overflow-x:auto;line-height:normal;font-family:Menlo,'DejaVu Sans Mono',consolas,'Courier New',monospace\"><span style=\"color: #008000; text-decoration-color: #008000\">Expected Improvement: </span><span style=\"color: #008080; text-decoration-color: #008080; font-weight: bold\">-0.07031646370887756</span><span style=\"color: #008000; text-decoration-color: #008000\"> Actual: </span><span style=\"color: #008080; text-decoration-color: #008080; font-weight: bold\">-0.014076386578381062</span>\n",
       "</pre>\n"
      ],
      "text/plain": [
       "\u001b[32mExpected Improvement: \u001b[0m\u001b[1;36m-0.07031646370887756\u001b[0m\u001b[32m Actual: \u001b[0m\u001b[1;36m-0.014076386578381062\u001b[0m\n"
      ]
     },
     "metadata": {},
     "output_type": "display_data"
    },
    {
     "data": {
      "text/html": [
       "<pre style=\"white-space:pre;overflow-x:auto;line-height:normal;font-family:Menlo,'DejaVu Sans Mono',consolas,'Courier New',monospace\"><span style=\"color: #008000; text-decoration-color: #008000\">INFO: did not improve improve &lt;</span><span style=\"color: #008080; text-decoration-color: #008080; font-weight: bold\">0</span>\n",
       "</pre>\n"
      ],
      "text/plain": [
       "\u001b[32mINFO: did not improve improve <\u001b[0m\u001b[1;36m0\u001b[0m\n"
      ]
     },
     "metadata": {},
     "output_type": "display_data"
    },
    {
     "data": {
      "text/html": [
       "<pre style=\"white-space:pre;overflow-x:auto;line-height:normal;font-family:Menlo,'DejaVu Sans Mono',consolas,'Courier New',monospace\"><span style=\"color: #008000; text-decoration-color: #008000\">Expected Improvement: </span><span style=\"color: #008080; text-decoration-color: #008080; font-weight: bold\">-0.07031646370887756</span><span style=\"color: #008000; text-decoration-color: #008000\"> Actual: </span><span style=\"color: #008080; text-decoration-color: #008080; font-weight: bold\">-0.010556825436651707</span>\n",
       "</pre>\n"
      ],
      "text/plain": [
       "\u001b[32mExpected Improvement: \u001b[0m\u001b[1;36m-0.07031646370887756\u001b[0m\u001b[32m Actual: \u001b[0m\u001b[1;36m-0.010556825436651707\u001b[0m\n"
      ]
     },
     "metadata": {},
     "output_type": "display_data"
    },
    {
     "data": {
      "text/html": [
       "<pre style=\"white-space:pre;overflow-x:auto;line-height:normal;font-family:Menlo,'DejaVu Sans Mono',consolas,'Courier New',monospace\"><span style=\"color: #008000; text-decoration-color: #008000\">INFO: did not improve improve &lt;</span><span style=\"color: #008080; text-decoration-color: #008080; font-weight: bold\">0</span>\n",
       "</pre>\n"
      ],
      "text/plain": [
       "\u001b[32mINFO: did not improve improve <\u001b[0m\u001b[1;36m0\u001b[0m\n"
      ]
     },
     "metadata": {},
     "output_type": "display_data"
    },
    {
     "data": {
      "text/html": [
       "<pre style=\"white-space:pre;overflow-x:auto;line-height:normal;font-family:Menlo,'DejaVu Sans Mono',consolas,'Courier New',monospace\"><span style=\"color: #008000; text-decoration-color: #008000\">Expected Improvement: </span><span style=\"color: #008080; text-decoration-color: #008080; font-weight: bold\">-0.07031646370887756</span><span style=\"color: #008000; text-decoration-color: #008000\"> Actual: </span><span style=\"color: #008080; text-decoration-color: #008080; font-weight: bold\">-0.008129237219691277</span>\n",
       "</pre>\n"
      ],
      "text/plain": [
       "\u001b[32mExpected Improvement: \u001b[0m\u001b[1;36m-0.07031646370887756\u001b[0m\u001b[32m Actual: \u001b[0m\u001b[1;36m-0.008129237219691277\u001b[0m\n"
      ]
     },
     "metadata": {},
     "output_type": "display_data"
    },
    {
     "data": {
      "text/html": [
       "<pre style=\"white-space:pre;overflow-x:auto;line-height:normal;font-family:Menlo,'DejaVu Sans Mono',consolas,'Courier New',monospace\"><span style=\"color: #008000; text-decoration-color: #008000\">INFO: did not improve improve &lt;</span><span style=\"color: #008080; text-decoration-color: #008080; font-weight: bold\">0</span>\n",
       "</pre>\n"
      ],
      "text/plain": [
       "\u001b[32mINFO: did not improve improve <\u001b[0m\u001b[1;36m0\u001b[0m\n"
      ]
     },
     "metadata": {},
     "output_type": "display_data"
    },
    {
     "data": {
      "text/html": [
       "<pre style=\"white-space:pre;overflow-x:auto;line-height:normal;font-family:Menlo,'DejaVu Sans Mono',consolas,'Courier New',monospace\"><span style=\"color: #008000; text-decoration-color: #008000\">Expected Improvement: </span><span style=\"color: #008080; text-decoration-color: #008080; font-weight: bold\">-0.07031646370887756</span><span style=\"color: #008000; text-decoration-color: #008000\"> Actual: </span><span style=\"color: #008080; text-decoration-color: #008080; font-weight: bold\">-0.0063532148487865925</span>\n",
       "</pre>\n"
      ],
      "text/plain": [
       "\u001b[32mExpected Improvement: \u001b[0m\u001b[1;36m-0.07031646370887756\u001b[0m\u001b[32m Actual: \u001b[0m\u001b[1;36m-0.0063532148487865925\u001b[0m\n"
      ]
     },
     "metadata": {},
     "output_type": "display_data"
    },
    {
     "data": {
      "text/html": [
       "<pre style=\"white-space:pre;overflow-x:auto;line-height:normal;font-family:Menlo,'DejaVu Sans Mono',consolas,'Courier New',monospace\"><span style=\"color: #008000; text-decoration-color: #008000\">INFO: did not improve improve &lt;</span><span style=\"color: #008080; text-decoration-color: #008080; font-weight: bold\">0</span>\n",
       "</pre>\n"
      ],
      "text/plain": [
       "\u001b[32mINFO: did not improve improve <\u001b[0m\u001b[1;36m0\u001b[0m\n"
      ]
     },
     "metadata": {},
     "output_type": "display_data"
    },
    {
     "data": {
      "text/html": [
       "<pre style=\"white-space:pre;overflow-x:auto;line-height:normal;font-family:Menlo,'DejaVu Sans Mono',consolas,'Courier New',monospace\"><span style=\"color: #008000; text-decoration-color: #008000\">Expected Improvement: </span><span style=\"color: #008080; text-decoration-color: #008080; font-weight: bold\">-0.07031646370887756</span><span style=\"color: #008000; text-decoration-color: #008000\"> Actual: </span><span style=\"color: #008080; text-decoration-color: #008080; font-weight: bold\">-0.0050075300969183445</span>\n",
       "</pre>\n"
      ],
      "text/plain": [
       "\u001b[32mExpected Improvement: \u001b[0m\u001b[1;36m-0.07031646370887756\u001b[0m\u001b[32m Actual: \u001b[0m\u001b[1;36m-0.0050075300969183445\u001b[0m\n"
      ]
     },
     "metadata": {},
     "output_type": "display_data"
    },
    {
     "data": {
      "text/html": [
       "<pre style=\"white-space:pre;overflow-x:auto;line-height:normal;font-family:Menlo,'DejaVu Sans Mono',consolas,'Courier New',monospace\"><span style=\"color: #008000; text-decoration-color: #008000\">INFO: did not improve improve &lt;</span><span style=\"color: #008080; text-decoration-color: #008080; font-weight: bold\">0</span>\n",
       "</pre>\n"
      ],
      "text/plain": [
       "\u001b[32mINFO: did not improve improve <\u001b[0m\u001b[1;36m0\u001b[0m\n"
      ]
     },
     "metadata": {},
     "output_type": "display_data"
    },
    {
     "data": {
      "text/html": [
       "<pre style=\"white-space:pre;overflow-x:auto;line-height:normal;font-family:Menlo,'DejaVu Sans Mono',consolas,'Courier New',monospace\"><span style=\"color: #008000; text-decoration-color: #008000\">Expected Improvement: </span><span style=\"color: #008080; text-decoration-color: #008080; font-weight: bold\">-0.07031646370887756</span><span style=\"color: #008000; text-decoration-color: #008000\"> Actual: </span><span style=\"color: #008080; text-decoration-color: #008080; font-weight: bold\">-0.003966238349676132</span>\n",
       "</pre>\n"
      ],
      "text/plain": [
       "\u001b[32mExpected Improvement: \u001b[0m\u001b[1;36m-0.07031646370887756\u001b[0m\u001b[32m Actual: \u001b[0m\u001b[1;36m-0.003966238349676132\u001b[0m\n"
      ]
     },
     "metadata": {},
     "output_type": "display_data"
    },
    {
     "data": {
      "text/html": [
       "<pre style=\"white-space:pre;overflow-x:auto;line-height:normal;font-family:Menlo,'DejaVu Sans Mono',consolas,'Courier New',monospace\"><span style=\"color: #008000; text-decoration-color: #008000\">INFO: did not improve improve &lt;</span><span style=\"color: #008080; text-decoration-color: #008080; font-weight: bold\">0</span>\n",
       "</pre>\n"
      ],
      "text/plain": [
       "\u001b[32mINFO: did not improve improve <\u001b[0m\u001b[1;36m0\u001b[0m\n"
      ]
     },
     "metadata": {},
     "output_type": "display_data"
    },
    {
     "data": {
      "text/html": [
       "<pre style=\"white-space:pre;overflow-x:auto;line-height:normal;font-family:Menlo,'DejaVu Sans Mono',consolas,'Courier New',monospace\"><span style=\"color: #008000; text-decoration-color: #008000\">Expected Improvement: </span><span style=\"color: #008080; text-decoration-color: #008080; font-weight: bold\">-0.07031646370887756</span><span style=\"color: #008000; text-decoration-color: #008000\"> Actual: </span><span style=\"color: #008080; text-decoration-color: #008080; font-weight: bold\">-0.0031514144502580166</span>\n",
       "</pre>\n"
      ],
      "text/plain": [
       "\u001b[32mExpected Improvement: \u001b[0m\u001b[1;36m-0.07031646370887756\u001b[0m\u001b[32m Actual: \u001b[0m\u001b[1;36m-0.0031514144502580166\u001b[0m\n"
      ]
     },
     "metadata": {},
     "output_type": "display_data"
    },
    {
     "data": {
      "text/html": [
       "<pre style=\"white-space:pre;overflow-x:auto;line-height:normal;font-family:Menlo,'DejaVu Sans Mono',consolas,'Courier New',monospace\"><span style=\"color: #008000; text-decoration-color: #008000\">INFO: did not improve improve &lt;</span><span style=\"color: #008080; text-decoration-color: #008080; font-weight: bold\">0</span>\n",
       "</pre>\n"
      ],
      "text/plain": [
       "\u001b[32mINFO: did not improve improve <\u001b[0m\u001b[1;36m0\u001b[0m\n"
      ]
     },
     "metadata": {},
     "output_type": "display_data"
    },
    {
     "data": {
      "text/html": [
       "<pre style=\"white-space:pre;overflow-x:auto;line-height:normal;font-family:Menlo,'DejaVu Sans Mono',consolas,'Courier New',monospace\"><span style=\"color: #008000; text-decoration-color: #008000\">Expected Improvement: </span><span style=\"color: #008080; text-decoration-color: #008080; font-weight: bold\">-0.07031646370887756</span><span style=\"color: #008000; text-decoration-color: #008000\"> Actual: </span><span style=\"color: #008080; text-decoration-color: #008080; font-weight: bold\">-0.0025094039738178253</span>\n",
       "</pre>\n"
      ],
      "text/plain": [
       "\u001b[32mExpected Improvement: \u001b[0m\u001b[1;36m-0.07031646370887756\u001b[0m\u001b[32m Actual: \u001b[0m\u001b[1;36m-0.0025094039738178253\u001b[0m\n"
      ]
     },
     "metadata": {},
     "output_type": "display_data"
    },
    {
     "data": {
      "text/html": [
       "<pre style=\"white-space:pre;overflow-x:auto;line-height:normal;font-family:Menlo,'DejaVu Sans Mono',consolas,'Courier New',monospace\"><span style=\"color: #008000; text-decoration-color: #008000\">INFO: did not improve improve &lt;</span><span style=\"color: #008080; text-decoration-color: #008080; font-weight: bold\">0</span>\n",
       "</pre>\n"
      ],
      "text/plain": [
       "\u001b[32mINFO: did not improve improve <\u001b[0m\u001b[1;36m0\u001b[0m\n"
      ]
     },
     "metadata": {},
     "output_type": "display_data"
    },
    {
     "data": {
      "text/html": [
       "<pre style=\"white-space:pre;overflow-x:auto;line-height:normal;font-family:Menlo,'DejaVu Sans Mono',consolas,'Courier New',monospace\"><span style=\"color: #008000; text-decoration-color: #008000\">Expected Improvement: </span><span style=\"color: #008080; text-decoration-color: #008080; font-weight: bold\">-0.07031646370887756</span><span style=\"color: #008000; text-decoration-color: #008000\"> Actual: </span><span style=\"color: #008080; text-decoration-color: #008080; font-weight: bold\">-0.00200076587498188</span>\n",
       "</pre>\n"
      ],
      "text/plain": [
       "\u001b[32mExpected Improvement: \u001b[0m\u001b[1;36m-0.07031646370887756\u001b[0m\u001b[32m Actual: \u001b[0m\u001b[1;36m-0.00200076587498188\u001b[0m\n"
      ]
     },
     "metadata": {},
     "output_type": "display_data"
    },
    {
     "data": {
      "text/html": [
       "<pre style=\"white-space:pre;overflow-x:auto;line-height:normal;font-family:Menlo,'DejaVu Sans Mono',consolas,'Courier New',monospace\"><span style=\"color: #008000; text-decoration-color: #008000\">INFO: did not improve improve &lt;</span><span style=\"color: #008080; text-decoration-color: #008080; font-weight: bold\">0</span>\n",
       "</pre>\n"
      ],
      "text/plain": [
       "\u001b[32mINFO: did not improve improve <\u001b[0m\u001b[1;36m0\u001b[0m\n"
      ]
     },
     "metadata": {},
     "output_type": "display_data"
    },
    {
     "data": {
      "text/html": [
       "<pre style=\"white-space:pre;overflow-x:auto;line-height:normal;font-family:Menlo,'DejaVu Sans Mono',consolas,'Courier New',monospace\"><span style=\"color: #008000; text-decoration-color: #008000\">Expected Improvement: </span><span style=\"color: #008080; text-decoration-color: #008080; font-weight: bold\">-0.07031646370887756</span><span style=\"color: #008000; text-decoration-color: #008000\"> Actual: </span><span style=\"color: #008080; text-decoration-color: #008080; font-weight: bold\">-0.001596687245182693</span>\n",
       "</pre>\n"
      ],
      "text/plain": [
       "\u001b[32mExpected Improvement: \u001b[0m\u001b[1;36m-0.07031646370887756\u001b[0m\u001b[32m Actual: \u001b[0m\u001b[1;36m-0.001596687245182693\u001b[0m\n"
      ]
     },
     "metadata": {},
     "output_type": "display_data"
    },
    {
     "data": {
      "text/html": [
       "<pre style=\"white-space:pre;overflow-x:auto;line-height:normal;font-family:Menlo,'DejaVu Sans Mono',consolas,'Courier New',monospace\"><span style=\"color: #008000; text-decoration-color: #008000\">INFO: did not improve improve &lt;</span><span style=\"color: #008080; text-decoration-color: #008080; font-weight: bold\">0</span>\n",
       "</pre>\n"
      ],
      "text/plain": [
       "\u001b[32mINFO: did not improve improve <\u001b[0m\u001b[1;36m0\u001b[0m\n"
      ]
     },
     "metadata": {},
     "output_type": "display_data"
    },
    {
     "data": {
      "text/html": [
       "<pre style=\"white-space:pre;overflow-x:auto;line-height:normal;font-family:Menlo,'DejaVu Sans Mono',consolas,'Courier New',monospace\"><span style=\"color: #008000; text-decoration-color: #008000\">Expected Improvement: </span><span style=\"color: #008080; text-decoration-color: #008080; font-weight: bold\">-0.07031646370887756</span><span style=\"color: #008000; text-decoration-color: #008000\"> Actual: </span><span style=\"color: #008080; text-decoration-color: #008080; font-weight: bold\">-0.0012750548776239157</span>\n",
       "</pre>\n"
      ],
      "text/plain": [
       "\u001b[32mExpected Improvement: \u001b[0m\u001b[1;36m-0.07031646370887756\u001b[0m\u001b[32m Actual: \u001b[0m\u001b[1;36m-0.0012750548776239157\u001b[0m\n"
      ]
     },
     "metadata": {},
     "output_type": "display_data"
    },
    {
     "data": {
      "text/html": [
       "<pre style=\"white-space:pre;overflow-x:auto;line-height:normal;font-family:Menlo,'DejaVu Sans Mono',consolas,'Courier New',monospace\"><span style=\"color: #008000; text-decoration-color: #008000\">INFO: did not improve improve &lt;</span><span style=\"color: #008080; text-decoration-color: #008080; font-weight: bold\">0</span>\n",
       "</pre>\n"
      ],
      "text/plain": [
       "\u001b[32mINFO: did not improve improve <\u001b[0m\u001b[1;36m0\u001b[0m\n"
      ]
     },
     "metadata": {},
     "output_type": "display_data"
    },
    {
     "data": {
      "text/html": [
       "<pre style=\"white-space:pre;overflow-x:auto;line-height:normal;font-family:Menlo,'DejaVu Sans Mono',consolas,'Courier New',monospace\"><span style=\"color: #008000; text-decoration-color: #008000\">Expected Improvement: </span><span style=\"color: #008080; text-decoration-color: #008080; font-weight: bold\">-0.07031646370887756</span><span style=\"color: #008000; text-decoration-color: #008000\"> Actual: </span><span style=\"color: #008080; text-decoration-color: #008080; font-weight: bold\">-0.0010185791179537773</span>\n",
       "</pre>\n"
      ],
      "text/plain": [
       "\u001b[32mExpected Improvement: \u001b[0m\u001b[1;36m-0.07031646370887756\u001b[0m\u001b[32m Actual: \u001b[0m\u001b[1;36m-0.0010185791179537773\u001b[0m\n"
      ]
     },
     "metadata": {},
     "output_type": "display_data"
    },
    {
     "data": {
      "text/html": [
       "<pre style=\"white-space:pre;overflow-x:auto;line-height:normal;font-family:Menlo,'DejaVu Sans Mono',consolas,'Courier New',monospace\"><span style=\"color: #008000; text-decoration-color: #008000\">INFO: did not improve improve &lt;</span><span style=\"color: #008080; text-decoration-color: #008080; font-weight: bold\">0</span>\n",
       "</pre>\n"
      ],
      "text/plain": [
       "\u001b[32mINFO: did not improve improve <\u001b[0m\u001b[1;36m0\u001b[0m\n"
      ]
     },
     "metadata": {},
     "output_type": "display_data"
    },
    {
     "data": {
      "text/html": [
       "<pre style=\"white-space:pre;overflow-x:auto;line-height:normal;font-family:Menlo,'DejaVu Sans Mono',consolas,'Courier New',monospace\"><span style=\"color: #008000; text-decoration-color: #008000\">INFO: no suitable step found</span><span style=\"color: #808000; text-decoration-color: #808000\">...</span>\n",
       "</pre>\n"
      ],
      "text/plain": [
       "\u001b[32mINFO: no suitable step found\u001b[0m\u001b[33m...\u001b[0m\n"
      ]
     },
     "metadata": {},
     "output_type": "display_data"
    },
    {
     "data": {
      "text/html": [
       "<pre style=\"white-space:pre;overflow-x:auto;line-height:normal;font-family:Menlo,'DejaVu Sans Mono',consolas,'Courier New',monospace\">┏━━━━━━━━━━━━━━━━━━━━━━━━━━━━━━━┳━━━━━━━━━━━━━━━━━━━━━━━┓\n",
       "┃<span style=\"font-weight: bold\"> Metrics                       </span>┃<span style=\"font-weight: bold\"> Value                 </span>┃\n",
       "┡━━━━━━━━━━━━━━━━━━━━━━━━━━━━━━━╇━━━━━━━━━━━━━━━━━━━━━━━┩\n",
       "│ Metrics/EpRet                 │ 37.424129486083984    │\n",
       "│ Metrics/EpCost                │ 23.3502197265625      │\n",
       "│ Metrics/EpLen                 │ 6.0                   │\n",
       "│ Train/Epoch                   │ 37.0                  │\n",
       "│ Train/Entropy                 │ 0.8679885268211365    │\n",
       "│ Train/KL                      │ 8.095578429845318e-09 │\n",
       "│ Train/StopIter                │ 10.0                  │\n",
       "│ Train/PolicyRatio/Mean        │ 1.072434425354004     │\n",
       "│ Train/PolicyRatio/Min         │ 1.072434425354004     │\n",
       "│ Train/PolicyRatio/Max         │ 1.072434425354004     │\n",
       "│ Train/PolicyRatio/Std         │ 0.19814984500408173   │\n",
       "│ Train/LR                      │ 0.0                   │\n",
       "│ Train/PolicyStd               │ 0.5794654488563538    │\n",
       "│ TotalEnvSteps                 │ 760000.0              │\n",
       "│ Loss/Loss_pi                  │ 0.3068740963935852    │\n",
       "│ Loss/Loss_pi/Delta            │ 1.9209110140800476    │\n",
       "│ Value/Adv                     │ 3.051757735406113e-09 │\n",
       "│ Loss/Loss_reward_critic       │ 3388.953857421875     │\n",
       "│ Loss/Loss_reward_critic/Delta │ -10185.691650390625   │\n",
       "│ Value/reward                  │ 75.3499526977539      │\n",
       "│ Loss/Loss_cost_critic         │ 487.4188537597656     │\n",
       "│ Loss/Loss_cost_critic/Delta   │ -1290.8982849121094   │\n",
       "│ Value/cost                    │ 32.82380676269531     │\n",
       "│ Time/Total                    │ 2279.5322265625       │\n",
       "│ Time/Rollout                  │ 38.2099723815918      │\n",
       "│ Time/Update                   │ 31.3231258392334      │\n",
       "│ Time/Epoch                    │ 69.53309631347656     │\n",
       "│ Time/FPS                      │ 287.6328125           │\n",
       "│ Env/Success_counts            │ nan                   │\n",
       "│ Misc/Alpha                    │ 0.10947053879499435   │\n",
       "│ Misc/FinalStepNorm            │ 0.0                   │\n",
       "│ Misc/gradient_norm            │ 5.162542819976807     │\n",
       "│ Misc/xHx                      │ 1.6689198017120361    │\n",
       "│ Misc/H_inv_g                  │ 1.4090481996536255    │\n",
       "│ Misc/AcceptanceStep           │ 0.0                   │\n",
       "│ Misc/cost_gradient_norm       │ 161.2754669189453     │\n",
       "│ Misc/A                        │ 0.8057957291603088    │\n",
       "│ Misc/B                        │ 0.018428711220622063  │\n",
       "│ Misc/q                        │ 1.6689198017120361    │\n",
       "│ Misc/r                        │ 38.66650390625        │\n",
       "│ Misc/s                        │ 1732.1942138671875    │\n",
       "│ Misc/Lambda_star              │ -23.437366485595703   │\n",
       "│ Misc/Nu_star                  │ 0.0                   │\n",
       "│ Misc/OptimCase                │ 2.0                   │\n",
       "└───────────────────────────────┴───────────────────────┘\n",
       "</pre>\n"
      ],
      "text/plain": [
       "┏━━━━━━━━━━━━━━━━━━━━━━━━━━━━━━━┳━━━━━━━━━━━━━━━━━━━━━━━┓\n",
       "┃\u001b[1m \u001b[0m\u001b[1mMetrics                      \u001b[0m\u001b[1m \u001b[0m┃\u001b[1m \u001b[0m\u001b[1mValue                \u001b[0m\u001b[1m \u001b[0m┃\n",
       "┡━━━━━━━━━━━━━━━━━━━━━━━━━━━━━━━╇━━━━━━━━━━━━━━━━━━━━━━━┩\n",
       "│ Metrics/EpRet                 │ 37.424129486083984    │\n",
       "│ Metrics/EpCost                │ 23.3502197265625      │\n",
       "│ Metrics/EpLen                 │ 6.0                   │\n",
       "│ Train/Epoch                   │ 37.0                  │\n",
       "│ Train/Entropy                 │ 0.8679885268211365    │\n",
       "│ Train/KL                      │ 8.095578429845318e-09 │\n",
       "│ Train/StopIter                │ 10.0                  │\n",
       "│ Train/PolicyRatio/Mean        │ 1.072434425354004     │\n",
       "│ Train/PolicyRatio/Min         │ 1.072434425354004     │\n",
       "│ Train/PolicyRatio/Max         │ 1.072434425354004     │\n",
       "│ Train/PolicyRatio/Std         │ 0.19814984500408173   │\n",
       "│ Train/LR                      │ 0.0                   │\n",
       "│ Train/PolicyStd               │ 0.5794654488563538    │\n",
       "│ TotalEnvSteps                 │ 760000.0              │\n",
       "│ Loss/Loss_pi                  │ 0.3068740963935852    │\n",
       "│ Loss/Loss_pi/Delta            │ 1.9209110140800476    │\n",
       "│ Value/Adv                     │ 3.051757735406113e-09 │\n",
       "│ Loss/Loss_reward_critic       │ 3388.953857421875     │\n",
       "│ Loss/Loss_reward_critic/Delta │ -10185.691650390625   │\n",
       "│ Value/reward                  │ 75.3499526977539      │\n",
       "│ Loss/Loss_cost_critic         │ 487.4188537597656     │\n",
       "│ Loss/Loss_cost_critic/Delta   │ -1290.8982849121094   │\n",
       "│ Value/cost                    │ 32.82380676269531     │\n",
       "│ Time/Total                    │ 2279.5322265625       │\n",
       "│ Time/Rollout                  │ 38.2099723815918      │\n",
       "│ Time/Update                   │ 31.3231258392334      │\n",
       "│ Time/Epoch                    │ 69.53309631347656     │\n",
       "│ Time/FPS                      │ 287.6328125           │\n",
       "│ Env/Success_counts            │ nan                   │\n",
       "│ Misc/Alpha                    │ 0.10947053879499435   │\n",
       "│ Misc/FinalStepNorm            │ 0.0                   │\n",
       "│ Misc/gradient_norm            │ 5.162542819976807     │\n",
       "│ Misc/xHx                      │ 1.6689198017120361    │\n",
       "│ Misc/H_inv_g                  │ 1.4090481996536255    │\n",
       "│ Misc/AcceptanceStep           │ 0.0                   │\n",
       "│ Misc/cost_gradient_norm       │ 161.2754669189453     │\n",
       "│ Misc/A                        │ 0.8057957291603088    │\n",
       "│ Misc/B                        │ 0.018428711220622063  │\n",
       "│ Misc/q                        │ 1.6689198017120361    │\n",
       "│ Misc/r                        │ 38.66650390625        │\n",
       "│ Misc/s                        │ 1732.1942138671875    │\n",
       "│ Misc/Lambda_star              │ -23.437366485595703   │\n",
       "│ Misc/Nu_star                  │ 0.0                   │\n",
       "│ Misc/OptimCase                │ 2.0                   │\n",
       "└───────────────────────────────┴───────────────────────┘\n"
      ]
     },
     "metadata": {},
     "output_type": "display_data"
    },
    {
     "data": {
      "text/html": [
       "<pre style=\"white-space:pre;overflow-x:auto;line-height:normal;font-family:Menlo,'DejaVu Sans Mono',consolas,'Courier New',monospace\"><span style=\"color: #008000; text-decoration-color: #008000\">Warning: trajectory cut off when rollout by epoch at </span><span style=\"color: #008080; text-decoration-color: #008080; font-weight: bold\">2.0</span><span style=\"color: #008000; text-decoration-color: #008000\"> steps.</span>\n",
       "</pre>\n"
      ],
      "text/plain": [
       "\u001b[32mWarning: trajectory cut off when rollout by epoch at \u001b[0m\u001b[1;36m2.0\u001b[0m\u001b[32m steps.\u001b[0m\n"
      ]
     },
     "metadata": {},
     "output_type": "display_data"
    },
    {
     "data": {
      "text/html": [
       "<pre style=\"white-space:pre;overflow-x:auto;line-height:normal;font-family:Menlo,'DejaVu Sans Mono',consolas,'Courier New',monospace\"></pre>\n"
      ],
      "text/plain": []
     },
     "metadata": {},
     "output_type": "display_data"
    },
    {
     "data": {
      "text/html": [
       "<pre style=\"white-space:pre;overflow-x:auto;line-height:normal;font-family:Menlo,'DejaVu Sans Mono',consolas,'Courier New',monospace\"><span style=\"color: #008000; text-decoration-color: #008000\">Expected Improvement: </span><span style=\"color: #008080; text-decoration-color: #008080; font-weight: bold\">0.19652150571346283</span><span style=\"color: #008000; text-decoration-color: #008000\"> Actual: </span><span style=\"color: #008080; text-decoration-color: #008080; font-weight: bold\">0.2621653079986572</span>\n",
       "</pre>\n"
      ],
      "text/plain": [
       "\u001b[32mExpected Improvement: \u001b[0m\u001b[1;36m0.19652150571346283\u001b[0m\u001b[32m Actual: \u001b[0m\u001b[1;36m0.2621653079986572\u001b[0m\n"
      ]
     },
     "metadata": {},
     "output_type": "display_data"
    },
    {
     "data": {
      "text/html": [
       "<pre style=\"white-space:pre;overflow-x:auto;line-height:normal;font-family:Menlo,'DejaVu Sans Mono',consolas,'Courier New',monospace\"><span style=\"color: #008000; text-decoration-color: #008000\">Accept step at </span><span style=\"color: #808000; text-decoration-color: #808000\">i</span><span style=\"color: #008000; text-decoration-color: #008000\">=</span><span style=\"color: #008080; text-decoration-color: #008080; font-weight: bold\">1</span>\n",
       "</pre>\n"
      ],
      "text/plain": [
       "\u001b[32mAccept step at \u001b[0m\u001b[33mi\u001b[0m\u001b[32m=\u001b[0m\u001b[1;36m1\u001b[0m\n"
      ]
     },
     "metadata": {},
     "output_type": "display_data"
    },
    {
     "data": {
      "text/html": [
       "<pre style=\"white-space:pre;overflow-x:auto;line-height:normal;font-family:Menlo,'DejaVu Sans Mono',consolas,'Courier New',monospace\">┏━━━━━━━━━━━━━━━━━━━━━━━━━━━━━━━┳━━━━━━━━━━━━━━━━━━━━━━━━━┓\n",
       "┃<span style=\"font-weight: bold\"> Metrics                       </span>┃<span style=\"font-weight: bold\"> Value                   </span>┃\n",
       "┡━━━━━━━━━━━━━━━━━━━━━━━━━━━━━━━╇━━━━━━━━━━━━━━━━━━━━━━━━━┩\n",
       "│ Metrics/EpRet                 │ 18.36980438232422       │\n",
       "│ Metrics/EpCost                │ 21.079465866088867      │\n",
       "│ Metrics/EpLen                 │ 6.0                     │\n",
       "│ Train/Epoch                   │ 38.0                    │\n",
       "│ Train/Entropy                 │ 0.8704370856285095      │\n",
       "│ Train/KL                      │ 0.00024575061979703605  │\n",
       "│ Train/StopIter                │ 10.0                    │\n",
       "│ Train/PolicyRatio/Mean        │ 0.9995667338371277      │\n",
       "│ Train/PolicyRatio/Min         │ 0.9995667338371277      │\n",
       "│ Train/PolicyRatio/Max         │ 0.9995667338371277      │\n",
       "│ Train/PolicyRatio/Std         │ 0.00030640760087408125  │\n",
       "│ Train/LR                      │ 0.0                     │\n",
       "│ Train/PolicyStd               │ 0.5810938477516174      │\n",
       "│ TotalEnvSteps                 │ 780000.0                │\n",
       "│ Loss/Loss_pi                  │ 0.6736557483673096      │\n",
       "│ Loss/Loss_pi/Delta            │ 0.36678165197372437     │\n",
       "│ Value/Adv                     │ -2.0980834847250662e-09 │\n",
       "│ Loss/Loss_reward_critic       │ 3391.97021484375        │\n",
       "│ Loss/Loss_reward_critic/Delta │ 3.016357421875          │\n",
       "│ Value/reward                  │ 32.00459671020508       │\n",
       "│ Loss/Loss_cost_critic         │ 487.0966796875          │\n",
       "│ Loss/Loss_cost_critic/Delta   │ -0.322174072265625      │\n",
       "│ Value/cost                    │ 18.067195892333984      │\n",
       "│ Time/Total                    │ 2336.388427734375       │\n",
       "│ Time/Rollout                  │ 29.059961318969727      │\n",
       "│ Time/Update                   │ 27.745573043823242      │\n",
       "│ Time/Epoch                    │ 56.80653381347656       │\n",
       "│ Time/FPS                      │ 352.0721740722656       │\n",
       "│ Env/Success_counts            │ nan                     │\n",
       "│ Misc/Alpha                    │ 0.10073678195476532     │\n",
       "│ Misc/FinalStepNorm            │ 0.1505163460969925      │\n",
       "│ Misc/gradient_norm            │ 5.40721321105957        │\n",
       "│ Misc/xHx                      │ 1.970851182937622       │\n",
       "│ Misc/H_inv_g                  │ 1.494154691696167       │\n",
       "│ Misc/AcceptanceStep           │ 1.0                     │\n",
       "│ Misc/cost_gradient_norm       │ 144.69915771484375      │\n",
       "│ Misc/A                        │ 1.0844976902008057      │\n",
       "│ Misc/B                        │ -0.0036588385701179504  │\n",
       "│ Misc/q                        │ 1.970851182937622       │\n",
       "│ Misc/r                        │ 23.996726989746094      │\n",
       "│ Misc/s                        │ 649.6763916015625       │\n",
       "│ Misc/Lambda_star              │ 9.926859855651855       │\n",
       "│ Misc/Nu_star                  │ 0.0                     │\n",
       "│ Misc/OptimCase                │ 3.0                     │\n",
       "└───────────────────────────────┴─────────────────────────┘\n",
       "</pre>\n"
      ],
      "text/plain": [
       "┏━━━━━━━━━━━━━━━━━━━━━━━━━━━━━━━┳━━━━━━━━━━━━━━━━━━━━━━━━━┓\n",
       "┃\u001b[1m \u001b[0m\u001b[1mMetrics                      \u001b[0m\u001b[1m \u001b[0m┃\u001b[1m \u001b[0m\u001b[1mValue                  \u001b[0m\u001b[1m \u001b[0m┃\n",
       "┡━━━━━━━━━━━━━━━━━━━━━━━━━━━━━━━╇━━━━━━━━━━━━━━━━━━━━━━━━━┩\n",
       "│ Metrics/EpRet                 │ 18.36980438232422       │\n",
       "│ Metrics/EpCost                │ 21.079465866088867      │\n",
       "│ Metrics/EpLen                 │ 6.0                     │\n",
       "│ Train/Epoch                   │ 38.0                    │\n",
       "│ Train/Entropy                 │ 0.8704370856285095      │\n",
       "│ Train/KL                      │ 0.00024575061979703605  │\n",
       "│ Train/StopIter                │ 10.0                    │\n",
       "│ Train/PolicyRatio/Mean        │ 0.9995667338371277      │\n",
       "│ Train/PolicyRatio/Min         │ 0.9995667338371277      │\n",
       "│ Train/PolicyRatio/Max         │ 0.9995667338371277      │\n",
       "│ Train/PolicyRatio/Std         │ 0.00030640760087408125  │\n",
       "│ Train/LR                      │ 0.0                     │\n",
       "│ Train/PolicyStd               │ 0.5810938477516174      │\n",
       "│ TotalEnvSteps                 │ 780000.0                │\n",
       "│ Loss/Loss_pi                  │ 0.6736557483673096      │\n",
       "│ Loss/Loss_pi/Delta            │ 0.36678165197372437     │\n",
       "│ Value/Adv                     │ -2.0980834847250662e-09 │\n",
       "│ Loss/Loss_reward_critic       │ 3391.97021484375        │\n",
       "│ Loss/Loss_reward_critic/Delta │ 3.016357421875          │\n",
       "│ Value/reward                  │ 32.00459671020508       │\n",
       "│ Loss/Loss_cost_critic         │ 487.0966796875          │\n",
       "│ Loss/Loss_cost_critic/Delta   │ -0.322174072265625      │\n",
       "│ Value/cost                    │ 18.067195892333984      │\n",
       "│ Time/Total                    │ 2336.388427734375       │\n",
       "│ Time/Rollout                  │ 29.059961318969727      │\n",
       "│ Time/Update                   │ 27.745573043823242      │\n",
       "│ Time/Epoch                    │ 56.80653381347656       │\n",
       "│ Time/FPS                      │ 352.0721740722656       │\n",
       "│ Env/Success_counts            │ nan                     │\n",
       "│ Misc/Alpha                    │ 0.10073678195476532     │\n",
       "│ Misc/FinalStepNorm            │ 0.1505163460969925      │\n",
       "│ Misc/gradient_norm            │ 5.40721321105957        │\n",
       "│ Misc/xHx                      │ 1.970851182937622       │\n",
       "│ Misc/H_inv_g                  │ 1.494154691696167       │\n",
       "│ Misc/AcceptanceStep           │ 1.0                     │\n",
       "│ Misc/cost_gradient_norm       │ 144.69915771484375      │\n",
       "│ Misc/A                        │ 1.0844976902008057      │\n",
       "│ Misc/B                        │ -0.0036588385701179504  │\n",
       "│ Misc/q                        │ 1.970851182937622       │\n",
       "│ Misc/r                        │ 23.996726989746094      │\n",
       "│ Misc/s                        │ 649.6763916015625       │\n",
       "│ Misc/Lambda_star              │ 9.926859855651855       │\n",
       "│ Misc/Nu_star                  │ 0.0                     │\n",
       "│ Misc/OptimCase                │ 3.0                     │\n",
       "└───────────────────────────────┴─────────────────────────┘\n"
      ]
     },
     "metadata": {},
     "output_type": "display_data"
    },
    {
     "data": {
      "text/html": [
       "<pre style=\"white-space:pre;overflow-x:auto;line-height:normal;font-family:Menlo,'DejaVu Sans Mono',consolas,'Courier New',monospace\"><span style=\"color: #008000; text-decoration-color: #008000\">Warning: trajectory cut off when rollout by epoch at </span><span style=\"color: #008080; text-decoration-color: #008080; font-weight: bold\">2.0</span><span style=\"color: #008000; text-decoration-color: #008000\"> steps.</span>\n",
       "</pre>\n"
      ],
      "text/plain": [
       "\u001b[32mWarning: trajectory cut off when rollout by epoch at \u001b[0m\u001b[1;36m2.0\u001b[0m\u001b[32m steps.\u001b[0m\n"
      ]
     },
     "metadata": {},
     "output_type": "display_data"
    },
    {
     "data": {
      "text/html": [
       "<pre style=\"white-space:pre;overflow-x:auto;line-height:normal;font-family:Menlo,'DejaVu Sans Mono',consolas,'Courier New',monospace\"></pre>\n"
      ],
      "text/plain": []
     },
     "metadata": {},
     "output_type": "display_data"
    },
    {
     "data": {
      "text/html": [
       "<pre style=\"white-space:pre;overflow-x:auto;line-height:normal;font-family:Menlo,'DejaVu Sans Mono',consolas,'Courier New',monospace\"><span style=\"color: #800000; text-decoration-color: #800000\">Alert! Attempting infeasible recovery!</span>\n",
       "</pre>\n"
      ],
      "text/plain": [
       "\u001b[31mAlert! Attempting infeasible recovery!\u001b[0m\n"
      ]
     },
     "metadata": {},
     "output_type": "display_data"
    },
    {
     "data": {
      "text/html": [
       "<pre style=\"white-space:pre;overflow-x:auto;line-height:normal;font-family:Menlo,'DejaVu Sans Mono',consolas,'Courier New',monospace\"><span style=\"color: #008000; text-decoration-color: #008000\">Expected Improvement: </span><span style=\"color: #008080; text-decoration-color: #008080; font-weight: bold\">-0.34297075867652893</span><span style=\"color: #008000; text-decoration-color: #008000\"> Actual: </span><span style=\"color: #008080; text-decoration-color: #008080; font-weight: bold\">-0.13238000869750977</span>\n",
       "</pre>\n"
      ],
      "text/plain": [
       "\u001b[32mExpected Improvement: \u001b[0m\u001b[1;36m-0.34297075867652893\u001b[0m\u001b[32m Actual: \u001b[0m\u001b[1;36m-0.13238000869750977\u001b[0m\n"
      ]
     },
     "metadata": {},
     "output_type": "display_data"
    },
    {
     "data": {
      "text/html": [
       "<pre style=\"white-space:pre;overflow-x:auto;line-height:normal;font-family:Menlo,'DejaVu Sans Mono',consolas,'Courier New',monospace\"><span style=\"color: #008000; text-decoration-color: #008000\">Accept step at </span><span style=\"color: #808000; text-decoration-color: #808000\">i</span><span style=\"color: #008000; text-decoration-color: #008000\">=</span><span style=\"color: #008080; text-decoration-color: #008080; font-weight: bold\">1</span>\n",
       "</pre>\n"
      ],
      "text/plain": [
       "\u001b[32mAccept step at \u001b[0m\u001b[33mi\u001b[0m\u001b[32m=\u001b[0m\u001b[1;36m1\u001b[0m\n"
      ]
     },
     "metadata": {},
     "output_type": "display_data"
    },
    {
     "data": {
      "text/html": [
       "<pre style=\"white-space:pre;overflow-x:auto;line-height:normal;font-family:Menlo,'DejaVu Sans Mono',consolas,'Courier New',monospace\">┏━━━━━━━━━━━━━━━━━━━━━━━━━━━━━━━┳━━━━━━━━━━━━━━━━━━━━━━━┓\n",
       "┃<span style=\"font-weight: bold\"> Metrics                       </span>┃<span style=\"font-weight: bold\"> Value                 </span>┃\n",
       "┡━━━━━━━━━━━━━━━━━━━━━━━━━━━━━━━╇━━━━━━━━━━━━━━━━━━━━━━━┩\n",
       "│ Metrics/EpRet                 │ 174.46629333496094    │\n",
       "│ Metrics/EpCost                │ 66.10081481933594     │\n",
       "│ Metrics/EpLen                 │ 6.0                   │\n",
       "│ Train/Epoch                   │ 39.0                  │\n",
       "│ Train/Entropy                 │ 0.8670085072517395    │\n",
       "│ Train/KL                      │ 0.0002843310940079391 │\n",
       "│ Train/StopIter                │ 10.0                  │\n",
       "│ Train/PolicyRatio/Mean        │ 0.9968898892402649    │\n",
       "│ Train/PolicyRatio/Min         │ 0.9968898892402649    │\n",
       "│ Train/PolicyRatio/Max         │ 0.9968898892402649    │\n",
       "│ Train/PolicyRatio/Std         │ 0.00219916645437479   │\n",
       "│ Train/LR                      │ 0.0                   │\n",
       "│ Train/PolicyStd               │ 0.579142153263092     │\n",
       "│ TotalEnvSteps                 │ 800000.0              │\n",
       "│ Loss/Loss_pi                  │ -1.3993048667907715   │\n",
       "│ Loss/Loss_pi/Delta            │ -2.072960615158081    │\n",
       "│ Value/Adv                     │ 1.907348590179936e-08 │\n",
       "│ Loss/Loss_reward_critic       │ 16666.943359375       │\n",
       "│ Loss/Loss_reward_critic/Delta │ 13274.97314453125     │\n",
       "│ Value/reward                  │ 56.60922622680664     │\n",
       "│ Loss/Loss_cost_critic         │ 1696.125732421875     │\n",
       "│ Loss/Loss_cost_critic/Delta   │ 1209.029052734375     │\n",
       "│ Value/cost                    │ 19.588199615478516    │\n",
       "│ Time/Total                    │ 2393.211669921875     │\n",
       "│ Time/Rollout                  │ 29.73237419128418     │\n",
       "│ Time/Update                   │ 27.042192459106445    │\n",
       "│ Time/Epoch                    │ 56.774566650390625    │\n",
       "│ Time/FPS                      │ 352.2704162597656     │\n",
       "│ Env/Success_counts            │ nan                   │\n",
       "│ Misc/Alpha                    │ 0.05438070371747017   │\n",
       "│ Misc/FinalStepNorm            │ 0.10559668391942978   │\n",
       "│ Misc/gradient_norm            │ 8.679384231567383     │\n",
       "│ Misc/xHx                      │ 6.763014793395996     │\n",
       "│ Misc/H_inv_g                  │ 1.8896019458770752    │\n",
       "│ Misc/AcceptanceStep           │ 1.0                   │\n",
       "│ Misc/cost_gradient_norm       │ 385.2364501953125     │\n",
       "│ Misc/A                        │ 0.8815674781799316    │\n",
       "│ Misc/B                        │ -0.17750637233257294  │\n",
       "│ Misc/q                        │ 6.763014793395996     │\n",
       "│ Misc/r                        │ 224.28590393066406    │\n",
       "│ Misc/s                        │ 8553.025390625        │\n",
       "│ Misc/Lambda_star              │ 0.0                   │\n",
       "│ Misc/Nu_star                  │ 0.0015291677555069327 │\n",
       "│ Misc/OptimCase                │ 0.0                   │\n",
       "└───────────────────────────────┴───────────────────────┘\n",
       "</pre>\n"
      ],
      "text/plain": [
       "┏━━━━━━━━━━━━━━━━━━━━━━━━━━━━━━━┳━━━━━━━━━━━━━━━━━━━━━━━┓\n",
       "┃\u001b[1m \u001b[0m\u001b[1mMetrics                      \u001b[0m\u001b[1m \u001b[0m┃\u001b[1m \u001b[0m\u001b[1mValue                \u001b[0m\u001b[1m \u001b[0m┃\n",
       "┡━━━━━━━━━━━━━━━━━━━━━━━━━━━━━━━╇━━━━━━━━━━━━━━━━━━━━━━━┩\n",
       "│ Metrics/EpRet                 │ 174.46629333496094    │\n",
       "│ Metrics/EpCost                │ 66.10081481933594     │\n",
       "│ Metrics/EpLen                 │ 6.0                   │\n",
       "│ Train/Epoch                   │ 39.0                  │\n",
       "│ Train/Entropy                 │ 0.8670085072517395    │\n",
       "│ Train/KL                      │ 0.0002843310940079391 │\n",
       "│ Train/StopIter                │ 10.0                  │\n",
       "│ Train/PolicyRatio/Mean        │ 0.9968898892402649    │\n",
       "│ Train/PolicyRatio/Min         │ 0.9968898892402649    │\n",
       "│ Train/PolicyRatio/Max         │ 0.9968898892402649    │\n",
       "│ Train/PolicyRatio/Std         │ 0.00219916645437479   │\n",
       "│ Train/LR                      │ 0.0                   │\n",
       "│ Train/PolicyStd               │ 0.579142153263092     │\n",
       "│ TotalEnvSteps                 │ 800000.0              │\n",
       "│ Loss/Loss_pi                  │ -1.3993048667907715   │\n",
       "│ Loss/Loss_pi/Delta            │ -2.072960615158081    │\n",
       "│ Value/Adv                     │ 1.907348590179936e-08 │\n",
       "│ Loss/Loss_reward_critic       │ 16666.943359375       │\n",
       "│ Loss/Loss_reward_critic/Delta │ 13274.97314453125     │\n",
       "│ Value/reward                  │ 56.60922622680664     │\n",
       "│ Loss/Loss_cost_critic         │ 1696.125732421875     │\n",
       "│ Loss/Loss_cost_critic/Delta   │ 1209.029052734375     │\n",
       "│ Value/cost                    │ 19.588199615478516    │\n",
       "│ Time/Total                    │ 2393.211669921875     │\n",
       "│ Time/Rollout                  │ 29.73237419128418     │\n",
       "│ Time/Update                   │ 27.042192459106445    │\n",
       "│ Time/Epoch                    │ 56.774566650390625    │\n",
       "│ Time/FPS                      │ 352.2704162597656     │\n",
       "│ Env/Success_counts            │ nan                   │\n",
       "│ Misc/Alpha                    │ 0.05438070371747017   │\n",
       "│ Misc/FinalStepNorm            │ 0.10559668391942978   │\n",
       "│ Misc/gradient_norm            │ 8.679384231567383     │\n",
       "│ Misc/xHx                      │ 6.763014793395996     │\n",
       "│ Misc/H_inv_g                  │ 1.8896019458770752    │\n",
       "│ Misc/AcceptanceStep           │ 1.0                   │\n",
       "│ Misc/cost_gradient_norm       │ 385.2364501953125     │\n",
       "│ Misc/A                        │ 0.8815674781799316    │\n",
       "│ Misc/B                        │ -0.17750637233257294  │\n",
       "│ Misc/q                        │ 6.763014793395996     │\n",
       "│ Misc/r                        │ 224.28590393066406    │\n",
       "│ Misc/s                        │ 8553.025390625        │\n",
       "│ Misc/Lambda_star              │ 0.0                   │\n",
       "│ Misc/Nu_star                  │ 0.0015291677555069327 │\n",
       "│ Misc/OptimCase                │ 0.0                   │\n",
       "└───────────────────────────────┴───────────────────────┘\n"
      ]
     },
     "metadata": {},
     "output_type": "display_data"
    },
    {
     "data": {
      "text/html": [
       "<pre style=\"white-space:pre;overflow-x:auto;line-height:normal;font-family:Menlo,'DejaVu Sans Mono',consolas,'Courier New',monospace\"><span style=\"color: #008000; text-decoration-color: #008000\">Warning: trajectory cut off when rollout by epoch at </span><span style=\"color: #008080; text-decoration-color: #008080; font-weight: bold\">2.0</span><span style=\"color: #008000; text-decoration-color: #008000\"> steps.</span>\n",
       "</pre>\n"
      ],
      "text/plain": [
       "\u001b[32mWarning: trajectory cut off when rollout by epoch at \u001b[0m\u001b[1;36m2.0\u001b[0m\u001b[32m steps.\u001b[0m\n"
      ]
     },
     "metadata": {},
     "output_type": "display_data"
    },
    {
     "data": {
      "text/html": [
       "<pre style=\"white-space:pre;overflow-x:auto;line-height:normal;font-family:Menlo,'DejaVu Sans Mono',consolas,'Courier New',monospace\"></pre>\n"
      ],
      "text/plain": []
     },
     "metadata": {},
     "output_type": "display_data"
    },
    {
     "data": {
      "text/html": [
       "<pre style=\"white-space:pre;overflow-x:auto;line-height:normal;font-family:Menlo,'DejaVu Sans Mono',consolas,'Courier New',monospace\"><span style=\"color: #800000; text-decoration-color: #800000\">Alert! Attempting infeasible recovery!</span>\n",
       "</pre>\n"
      ],
      "text/plain": [
       "\u001b[31mAlert! Attempting infeasible recovery!\u001b[0m\n"
      ]
     },
     "metadata": {},
     "output_type": "display_data"
    },
    {
     "data": {
      "text/html": [
       "<pre style=\"white-space:pre;overflow-x:auto;line-height:normal;font-family:Menlo,'DejaVu Sans Mono',consolas,'Courier New',monospace\"><span style=\"color: #008000; text-decoration-color: #008000\">Expected Improvement: </span><span style=\"color: #008080; text-decoration-color: #008080; font-weight: bold\">-0.17191028594970703</span><span style=\"color: #008000; text-decoration-color: #008000\"> Actual: </span><span style=\"color: #008080; text-decoration-color: #008080; font-weight: bold\">-0.13329863548278809</span>\n",
       "</pre>\n"
      ],
      "text/plain": [
       "\u001b[32mExpected Improvement: \u001b[0m\u001b[1;36m-0.17191028594970703\u001b[0m\u001b[32m Actual: \u001b[0m\u001b[1;36m-0.13329863548278809\u001b[0m\n"
      ]
     },
     "metadata": {},
     "output_type": "display_data"
    },
    {
     "data": {
      "text/html": [
       "<pre style=\"white-space:pre;overflow-x:auto;line-height:normal;font-family:Menlo,'DejaVu Sans Mono',consolas,'Courier New',monospace\"><span style=\"color: #008000; text-decoration-color: #008000\">Accept step at </span><span style=\"color: #808000; text-decoration-color: #808000\">i</span><span style=\"color: #008000; text-decoration-color: #008000\">=</span><span style=\"color: #008080; text-decoration-color: #008080; font-weight: bold\">1</span>\n",
       "</pre>\n"
      ],
      "text/plain": [
       "\u001b[32mAccept step at \u001b[0m\u001b[33mi\u001b[0m\u001b[32m=\u001b[0m\u001b[1;36m1\u001b[0m\n"
      ]
     },
     "metadata": {},
     "output_type": "display_data"
    },
    {
     "data": {
      "text/html": [
       "<pre style=\"white-space:pre;overflow-x:auto;line-height:normal;font-family:Menlo,'DejaVu Sans Mono',consolas,'Courier New',monospace\">┏━━━━━━━━━━━━━━━━━━━━━━━━━━━━━━━┳━━━━━━━━━━━━━━━━━━━━━━━━━┓\n",
       "┃<span style=\"font-weight: bold\"> Metrics                       </span>┃<span style=\"font-weight: bold\"> Value                   </span>┃\n",
       "┡━━━━━━━━━━━━━━━━━━━━━━━━━━━━━━━╇━━━━━━━━━━━━━━━━━━━━━━━━━┩\n",
       "│ Metrics/EpRet                 │ 45.09403991699219       │\n",
       "│ Metrics/EpCost                │ 33.86830139160156       │\n",
       "│ Metrics/EpLen                 │ 6.0                     │\n",
       "│ Train/Epoch                   │ 40.0                    │\n",
       "│ Train/Entropy                 │ 0.8524439930915833      │\n",
       "│ Train/KL                      │ 0.00027437400422059     │\n",
       "│ Train/StopIter                │ 10.0                    │\n",
       "│ Train/PolicyRatio/Mean        │ 0.9972019791603088      │\n",
       "│ Train/PolicyRatio/Min         │ 0.9972019791603088      │\n",
       "│ Train/PolicyRatio/Max         │ 0.9972019791603088      │\n",
       "│ Train/PolicyRatio/Std         │ 0.001978485379368067    │\n",
       "│ Train/LR                      │ 0.0                     │\n",
       "│ Train/PolicyStd               │ 0.5707793831825256      │\n",
       "│ TotalEnvSteps                 │ 820000.0                │\n",
       "│ Loss/Loss_pi                  │ -0.7509725093841553     │\n",
       "│ Loss/Loss_pi/Delta            │ 0.6483323574066162      │\n",
       "│ Value/Adv                     │ -1.2207030941624453e-08 │\n",
       "│ Loss/Loss_reward_critic       │ 7062.7265625            │\n",
       "│ Loss/Loss_reward_critic/Delta │ -9604.216796875         │\n",
       "│ Value/reward                  │ 98.33696746826172       │\n",
       "│ Loss/Loss_cost_critic         │ 652.252197265625        │\n",
       "│ Loss/Loss_cost_critic/Delta   │ -1043.87353515625       │\n",
       "│ Value/cost                    │ 29.822643280029297      │\n",
       "│ Time/Total                    │ 2448.02197265625        │\n",
       "│ Time/Rollout                  │ 26.66352081298828       │\n",
       "│ Time/Update                   │ 28.101083755493164      │\n",
       "│ Time/Epoch                    │ 54.76460647583008       │\n",
       "│ Time/FPS                      │ 365.1993713378906       │\n",
       "│ Env/Success_counts            │ nan                     │\n",
       "│ Misc/Alpha                    │ 0.09462253749370575     │\n",
       "│ Misc/FinalStepNorm            │ 0.15798577666282654     │\n",
       "│ Misc/gradient_norm            │ 6.8451080322265625      │\n",
       "│ Misc/xHx                      │ 2.2337820529937744      │\n",
       "│ Misc/H_inv_g                  │ 1.4782979488372803      │\n",
       "│ Misc/AcceptanceStep           │ 1.0                     │\n",
       "│ Misc/cost_gradient_norm       │ 208.75762939453125      │\n",
       "│ Misc/A                        │ 0.7561246156692505      │\n",
       "│ Misc/B                        │ -0.052524905651807785   │\n",
       "│ Misc/q                        │ 2.2337820529937744      │\n",
       "│ Misc/r                        │ 40.02983093261719       │\n",
       "│ Misc/s                        │ 1084.4105224609375      │\n",
       "│ Misc/Lambda_star              │ 0.0                     │\n",
       "│ Misc/Nu_star                  │ 0.004294554702937603    │\n",
       "│ Misc/OptimCase                │ 0.0                     │\n",
       "└───────────────────────────────┴─────────────────────────┘\n",
       "</pre>\n"
      ],
      "text/plain": [
       "┏━━━━━━━━━━━━━━━━━━━━━━━━━━━━━━━┳━━━━━━━━━━━━━━━━━━━━━━━━━┓\n",
       "┃\u001b[1m \u001b[0m\u001b[1mMetrics                      \u001b[0m\u001b[1m \u001b[0m┃\u001b[1m \u001b[0m\u001b[1mValue                  \u001b[0m\u001b[1m \u001b[0m┃\n",
       "┡━━━━━━━━━━━━━━━━━━━━━━━━━━━━━━━╇━━━━━━━━━━━━━━━━━━━━━━━━━┩\n",
       "│ Metrics/EpRet                 │ 45.09403991699219       │\n",
       "│ Metrics/EpCost                │ 33.86830139160156       │\n",
       "│ Metrics/EpLen                 │ 6.0                     │\n",
       "│ Train/Epoch                   │ 40.0                    │\n",
       "│ Train/Entropy                 │ 0.8524439930915833      │\n",
       "│ Train/KL                      │ 0.00027437400422059     │\n",
       "│ Train/StopIter                │ 10.0                    │\n",
       "│ Train/PolicyRatio/Mean        │ 0.9972019791603088      │\n",
       "│ Train/PolicyRatio/Min         │ 0.9972019791603088      │\n",
       "│ Train/PolicyRatio/Max         │ 0.9972019791603088      │\n",
       "│ Train/PolicyRatio/Std         │ 0.001978485379368067    │\n",
       "│ Train/LR                      │ 0.0                     │\n",
       "│ Train/PolicyStd               │ 0.5707793831825256      │\n",
       "│ TotalEnvSteps                 │ 820000.0                │\n",
       "│ Loss/Loss_pi                  │ -0.7509725093841553     │\n",
       "│ Loss/Loss_pi/Delta            │ 0.6483323574066162      │\n",
       "│ Value/Adv                     │ -1.2207030941624453e-08 │\n",
       "│ Loss/Loss_reward_critic       │ 7062.7265625            │\n",
       "│ Loss/Loss_reward_critic/Delta │ -9604.216796875         │\n",
       "│ Value/reward                  │ 98.33696746826172       │\n",
       "│ Loss/Loss_cost_critic         │ 652.252197265625        │\n",
       "│ Loss/Loss_cost_critic/Delta   │ -1043.87353515625       │\n",
       "│ Value/cost                    │ 29.822643280029297      │\n",
       "│ Time/Total                    │ 2448.02197265625        │\n",
       "│ Time/Rollout                  │ 26.66352081298828       │\n",
       "│ Time/Update                   │ 28.101083755493164      │\n",
       "│ Time/Epoch                    │ 54.76460647583008       │\n",
       "│ Time/FPS                      │ 365.1993713378906       │\n",
       "│ Env/Success_counts            │ nan                     │\n",
       "│ Misc/Alpha                    │ 0.09462253749370575     │\n",
       "│ Misc/FinalStepNorm            │ 0.15798577666282654     │\n",
       "│ Misc/gradient_norm            │ 6.8451080322265625      │\n",
       "│ Misc/xHx                      │ 2.2337820529937744      │\n",
       "│ Misc/H_inv_g                  │ 1.4782979488372803      │\n",
       "│ Misc/AcceptanceStep           │ 1.0                     │\n",
       "│ Misc/cost_gradient_norm       │ 208.75762939453125      │\n",
       "│ Misc/A                        │ 0.7561246156692505      │\n",
       "│ Misc/B                        │ -0.052524905651807785   │\n",
       "│ Misc/q                        │ 2.2337820529937744      │\n",
       "│ Misc/r                        │ 40.02983093261719       │\n",
       "│ Misc/s                        │ 1084.4105224609375      │\n",
       "│ Misc/Lambda_star              │ 0.0                     │\n",
       "│ Misc/Nu_star                  │ 0.004294554702937603    │\n",
       "│ Misc/OptimCase                │ 0.0                     │\n",
       "└───────────────────────────────┴─────────────────────────┘\n"
      ]
     },
     "metadata": {},
     "output_type": "display_data"
    },
    {
     "data": {
      "text/html": [
       "<pre style=\"white-space:pre;overflow-x:auto;line-height:normal;font-family:Menlo,'DejaVu Sans Mono',consolas,'Courier New',monospace\"><span style=\"color: #008000; text-decoration-color: #008000\">Warning: trajectory cut off when rollout by epoch at </span><span style=\"color: #008080; text-decoration-color: #008080; font-weight: bold\">2.0</span><span style=\"color: #008000; text-decoration-color: #008000\"> steps.</span>\n",
       "</pre>\n"
      ],
      "text/plain": [
       "\u001b[32mWarning: trajectory cut off when rollout by epoch at \u001b[0m\u001b[1;36m2.0\u001b[0m\u001b[32m steps.\u001b[0m\n"
      ]
     },
     "metadata": {},
     "output_type": "display_data"
    },
    {
     "data": {
      "text/html": [
       "<pre style=\"white-space:pre;overflow-x:auto;line-height:normal;font-family:Menlo,'DejaVu Sans Mono',consolas,'Courier New',monospace\"></pre>\n"
      ],
      "text/plain": []
     },
     "metadata": {},
     "output_type": "display_data"
    },
    {
     "data": {
      "text/html": [
       "<pre style=\"white-space:pre;overflow-x:auto;line-height:normal;font-family:Menlo,'DejaVu Sans Mono',consolas,'Courier New',monospace\"><span style=\"color: #008000; text-decoration-color: #008000\">Expected Improvement: </span><span style=\"color: #008080; text-decoration-color: #008080; font-weight: bold\">0.12845830619335175</span><span style=\"color: #008000; text-decoration-color: #008000\"> Actual: </span><span style=\"color: #008080; text-decoration-color: #008080; font-weight: bold\">0.2557743489742279</span>\n",
       "</pre>\n"
      ],
      "text/plain": [
       "\u001b[32mExpected Improvement: \u001b[0m\u001b[1;36m0.12845830619335175\u001b[0m\u001b[32m Actual: \u001b[0m\u001b[1;36m0.2557743489742279\u001b[0m\n"
      ]
     },
     "metadata": {},
     "output_type": "display_data"
    },
    {
     "data": {
      "text/html": [
       "<pre style=\"white-space:pre;overflow-x:auto;line-height:normal;font-family:Menlo,'DejaVu Sans Mono',consolas,'Courier New',monospace\"><span style=\"color: #008000; text-decoration-color: #008000\">Accept step at </span><span style=\"color: #808000; text-decoration-color: #808000\">i</span><span style=\"color: #008000; text-decoration-color: #008000\">=</span><span style=\"color: #008080; text-decoration-color: #008080; font-weight: bold\">1</span>\n",
       "</pre>\n"
      ],
      "text/plain": [
       "\u001b[32mAccept step at \u001b[0m\u001b[33mi\u001b[0m\u001b[32m=\u001b[0m\u001b[1;36m1\u001b[0m\n"
      ]
     },
     "metadata": {},
     "output_type": "display_data"
    },
    {
     "data": {
      "text/html": [
       "<pre style=\"white-space:pre;overflow-x:auto;line-height:normal;font-family:Menlo,'DejaVu Sans Mono',consolas,'Courier New',monospace\">┏━━━━━━━━━━━━━━━━━━━━━━━━━━━━━━━┳━━━━━━━━━━━━━━━━━━━━━━━┓\n",
       "┃<span style=\"font-weight: bold\"> Metrics                       </span>┃<span style=\"font-weight: bold\"> Value                 </span>┃\n",
       "┡━━━━━━━━━━━━━━━━━━━━━━━━━━━━━━━╇━━━━━━━━━━━━━━━━━━━━━━━┩\n",
       "│ Metrics/EpRet                 │ 13.133187294006348    │\n",
       "│ Metrics/EpCost                │ 17.209028244018555    │\n",
       "│ Metrics/EpLen                 │ 6.0                   │\n",
       "│ Train/Epoch                   │ 41.0                  │\n",
       "│ Train/Entropy                 │ 0.8508574962615967    │\n",
       "│ Train/KL                      │ 0.0002558353007771075 │\n",
       "│ Train/StopIter                │ 10.0                  │\n",
       "│ Train/PolicyRatio/Mean        │ 1.0205644369125366    │\n",
       "│ Train/PolicyRatio/Min         │ 1.0205644369125366    │\n",
       "│ Train/PolicyRatio/Max         │ 1.0205644369125366    │\n",
       "│ Train/PolicyRatio/Std         │ 0.014541225507855415  │\n",
       "│ Train/LR                      │ 0.0                   │\n",
       "│ Train/PolicyStd               │ 0.5700255036354065    │\n",
       "│ TotalEnvSteps                 │ 840000.0              │\n",
       "│ Loss/Loss_pi                  │ 0.32979026436805725   │\n",
       "│ Loss/Loss_pi/Delta            │ 1.0807627737522125    │\n",
       "│ Value/Adv                     │ 3.814697180359872e-08 │\n",
       "│ Loss/Loss_reward_critic       │ 907.7158203125        │\n",
       "│ Loss/Loss_reward_critic/Delta │ -6155.0107421875      │\n",
       "│ Value/reward                  │ 36.83084487915039     │\n",
       "│ Loss/Loss_cost_critic         │ 239.59063720703125    │\n",
       "│ Loss/Loss_cost_critic/Delta   │ -412.66156005859375   │\n",
       "│ Value/cost                    │ 17.650341033935547    │\n",
       "│ Time/Total                    │ 2504.95361328125      │\n",
       "│ Time/Rollout                  │ 28.7966251373291      │\n",
       "│ Time/Update                   │ 28.088403701782227    │\n",
       "│ Time/Epoch                    │ 56.88502883911133     │\n",
       "│ Time/FPS                      │ 351.58636474609375    │\n",
       "│ Env/Success_counts            │ nan                   │\n",
       "│ Misc/Alpha                    │ 0.15449298918247223   │\n",
       "│ Misc/FinalStepNorm            │ 0.16559235751628876   │\n",
       "│ Misc/gradient_norm            │ 3.4115121364593506    │\n",
       "│ Misc/xHx                      │ 0.8379389643669128    │\n",
       "│ Misc/H_inv_g                  │ 1.0718437433242798    │\n",
       "│ Misc/AcceptanceStep           │ 1.0                   │\n",
       "│ Misc/cost_gradient_norm       │ 115.92720794677734    │\n",
       "│ Misc/A                        │ 0.6597253084182739    │\n",
       "│ Misc/B                        │ -0.2477322369813919   │\n",
       "│ Misc/q                        │ 0.8379389643669128    │\n",
       "│ Misc/r                        │ 6.356409072875977     │\n",
       "│ Misc/s                        │ 226.71624755859375    │\n",
       "│ Misc/Lambda_star              │ 6.472784996032715     │\n",
       "│ Misc/Nu_star                  │ 0.0                   │\n",
       "│ Misc/OptimCase                │ 3.0                   │\n",
       "└───────────────────────────────┴───────────────────────┘\n",
       "</pre>\n"
      ],
      "text/plain": [
       "┏━━━━━━━━━━━━━━━━━━━━━━━━━━━━━━━┳━━━━━━━━━━━━━━━━━━━━━━━┓\n",
       "┃\u001b[1m \u001b[0m\u001b[1mMetrics                      \u001b[0m\u001b[1m \u001b[0m┃\u001b[1m \u001b[0m\u001b[1mValue                \u001b[0m\u001b[1m \u001b[0m┃\n",
       "┡━━━━━━━━━━━━━━━━━━━━━━━━━━━━━━━╇━━━━━━━━━━━━━━━━━━━━━━━┩\n",
       "│ Metrics/EpRet                 │ 13.133187294006348    │\n",
       "│ Metrics/EpCost                │ 17.209028244018555    │\n",
       "│ Metrics/EpLen                 │ 6.0                   │\n",
       "│ Train/Epoch                   │ 41.0                  │\n",
       "│ Train/Entropy                 │ 0.8508574962615967    │\n",
       "│ Train/KL                      │ 0.0002558353007771075 │\n",
       "│ Train/StopIter                │ 10.0                  │\n",
       "│ Train/PolicyRatio/Mean        │ 1.0205644369125366    │\n",
       "│ Train/PolicyRatio/Min         │ 1.0205644369125366    │\n",
       "│ Train/PolicyRatio/Max         │ 1.0205644369125366    │\n",
       "│ Train/PolicyRatio/Std         │ 0.014541225507855415  │\n",
       "│ Train/LR                      │ 0.0                   │\n",
       "│ Train/PolicyStd               │ 0.5700255036354065    │\n",
       "│ TotalEnvSteps                 │ 840000.0              │\n",
       "│ Loss/Loss_pi                  │ 0.32979026436805725   │\n",
       "│ Loss/Loss_pi/Delta            │ 1.0807627737522125    │\n",
       "│ Value/Adv                     │ 3.814697180359872e-08 │\n",
       "│ Loss/Loss_reward_critic       │ 907.7158203125        │\n",
       "│ Loss/Loss_reward_critic/Delta │ -6155.0107421875      │\n",
       "│ Value/reward                  │ 36.83084487915039     │\n",
       "│ Loss/Loss_cost_critic         │ 239.59063720703125    │\n",
       "│ Loss/Loss_cost_critic/Delta   │ -412.66156005859375   │\n",
       "│ Value/cost                    │ 17.650341033935547    │\n",
       "│ Time/Total                    │ 2504.95361328125      │\n",
       "│ Time/Rollout                  │ 28.7966251373291      │\n",
       "│ Time/Update                   │ 28.088403701782227    │\n",
       "│ Time/Epoch                    │ 56.88502883911133     │\n",
       "│ Time/FPS                      │ 351.58636474609375    │\n",
       "│ Env/Success_counts            │ nan                   │\n",
       "│ Misc/Alpha                    │ 0.15449298918247223   │\n",
       "│ Misc/FinalStepNorm            │ 0.16559235751628876   │\n",
       "│ Misc/gradient_norm            │ 3.4115121364593506    │\n",
       "│ Misc/xHx                      │ 0.8379389643669128    │\n",
       "│ Misc/H_inv_g                  │ 1.0718437433242798    │\n",
       "│ Misc/AcceptanceStep           │ 1.0                   │\n",
       "│ Misc/cost_gradient_norm       │ 115.92720794677734    │\n",
       "│ Misc/A                        │ 0.6597253084182739    │\n",
       "│ Misc/B                        │ -0.2477322369813919   │\n",
       "│ Misc/q                        │ 0.8379389643669128    │\n",
       "│ Misc/r                        │ 6.356409072875977     │\n",
       "│ Misc/s                        │ 226.71624755859375    │\n",
       "│ Misc/Lambda_star              │ 6.472784996032715     │\n",
       "│ Misc/Nu_star                  │ 0.0                   │\n",
       "│ Misc/OptimCase                │ 3.0                   │\n",
       "└───────────────────────────────┴───────────────────────┘\n"
      ]
     },
     "metadata": {},
     "output_type": "display_data"
    },
    {
     "data": {
      "text/html": [
       "<pre style=\"white-space:pre;overflow-x:auto;line-height:normal;font-family:Menlo,'DejaVu Sans Mono',consolas,'Courier New',monospace\"><span style=\"color: #008000; text-decoration-color: #008000\">Warning: trajectory cut off when rollout by epoch at </span><span style=\"color: #008080; text-decoration-color: #008080; font-weight: bold\">2.0</span><span style=\"color: #008000; text-decoration-color: #008000\"> steps.</span>\n",
       "</pre>\n"
      ],
      "text/plain": [
       "\u001b[32mWarning: trajectory cut off when rollout by epoch at \u001b[0m\u001b[1;36m2.0\u001b[0m\u001b[32m steps.\u001b[0m\n"
      ]
     },
     "metadata": {},
     "output_type": "display_data"
    },
    {
     "data": {
      "text/html": [
       "<pre style=\"white-space:pre;overflow-x:auto;line-height:normal;font-family:Menlo,'DejaVu Sans Mono',consolas,'Courier New',monospace\"></pre>\n"
      ],
      "text/plain": []
     },
     "metadata": {},
     "output_type": "display_data"
    },
    {
     "data": {
      "text/html": [
       "<pre style=\"white-space:pre;overflow-x:auto;line-height:normal;font-family:Menlo,'DejaVu Sans Mono',consolas,'Courier New',monospace\"><span style=\"color: #800000; text-decoration-color: #800000\">Alert! Attempting infeasible recovery!</span>\n",
       "</pre>\n"
      ],
      "text/plain": [
       "\u001b[31mAlert! Attempting infeasible recovery!\u001b[0m\n"
      ]
     },
     "metadata": {},
     "output_type": "display_data"
    },
    {
     "data": {
      "text/html": [
       "<pre style=\"white-space:pre;overflow-x:auto;line-height:normal;font-family:Menlo,'DejaVu Sans Mono',consolas,'Courier New',monospace\"><span style=\"color: #008000; text-decoration-color: #008000\">Expected Improvement: </span><span style=\"color: #008080; text-decoration-color: #008080; font-weight: bold\">-0.1871812641620636</span><span style=\"color: #008000; text-decoration-color: #008000\"> Actual: </span><span style=\"color: #008080; text-decoration-color: #008080; font-weight: bold\">-0.1423584371805191</span>\n",
       "</pre>\n"
      ],
      "text/plain": [
       "\u001b[32mExpected Improvement: \u001b[0m\u001b[1;36m-0.1871812641620636\u001b[0m\u001b[32m Actual: \u001b[0m\u001b[1;36m-0.1423584371805191\u001b[0m\n"
      ]
     },
     "metadata": {},
     "output_type": "display_data"
    },
    {
     "data": {
      "text/html": [
       "<pre style=\"white-space:pre;overflow-x:auto;line-height:normal;font-family:Menlo,'DejaVu Sans Mono',consolas,'Courier New',monospace\"><span style=\"color: #008000; text-decoration-color: #008000\">Accept step at </span><span style=\"color: #808000; text-decoration-color: #808000\">i</span><span style=\"color: #008000; text-decoration-color: #008000\">=</span><span style=\"color: #008080; text-decoration-color: #008080; font-weight: bold\">1</span>\n",
       "</pre>\n"
      ],
      "text/plain": [
       "\u001b[32mAccept step at \u001b[0m\u001b[33mi\u001b[0m\u001b[32m=\u001b[0m\u001b[1;36m1\u001b[0m\n"
      ]
     },
     "metadata": {},
     "output_type": "display_data"
    },
    {
     "data": {
      "text/html": [
       "<pre style=\"white-space:pre;overflow-x:auto;line-height:normal;font-family:Menlo,'DejaVu Sans Mono',consolas,'Courier New',monospace\">┏━━━━━━━━━━━━━━━━━━━━━━━━━━━━━━━┳━━━━━━━━━━━━━━━━━━━━━━━━┓\n",
       "┃<span style=\"font-weight: bold\"> Metrics                       </span>┃<span style=\"font-weight: bold\"> Value                  </span>┃\n",
       "┡━━━━━━━━━━━━━━━━━━━━━━━━━━━━━━━╇━━━━━━━━━━━━━━━━━━━━━━━━┩\n",
       "│ Metrics/EpRet                 │ 97.60704803466797      │\n",
       "│ Metrics/EpCost                │ 36.19468688964844      │\n",
       "│ Metrics/EpLen                 │ 6.0                    │\n",
       "│ Train/Epoch                   │ 42.0                   │\n",
       "│ Train/Entropy                 │ 0.8439568877220154     │\n",
       "│ Train/KL                      │ 0.00028752037906087935 │\n",
       "│ Train/StopIter                │ 10.0                   │\n",
       "│ Train/PolicyRatio/Mean        │ 0.9989859461784363     │\n",
       "│ Train/PolicyRatio/Min         │ 0.9989859461784363     │\n",
       "│ Train/PolicyRatio/Max         │ 0.9989859461784363     │\n",
       "│ Train/PolicyRatio/Std         │ 0.0007170864846557379  │\n",
       "│ Train/LR                      │ 0.0                    │\n",
       "│ Train/PolicyStd               │ 0.5662497878074646     │\n",
       "│ TotalEnvSteps                 │ 860000.0               │\n",
       "│ Loss/Loss_pi                  │ -0.7266334891319275    │\n",
       "│ Loss/Loss_pi/Delta            │ -1.0564237534999847    │\n",
       "│ Value/Adv                     │ 4.005432074905002e-08  │\n",
       "│ Loss/Loss_reward_critic       │ 8334.857421875         │\n",
       "│ Loss/Loss_reward_critic/Delta │ 7427.1416015625        │\n",
       "│ Value/reward                  │ 23.91844367980957      │\n",
       "│ Loss/Loss_cost_critic         │ 590.8208618164062      │\n",
       "│ Loss/Loss_cost_critic/Delta   │ 351.230224609375       │\n",
       "│ Value/cost                    │ 11.996553421020508     │\n",
       "│ Time/Total                    │ 2559.591796875         │\n",
       "│ Time/Rollout                  │ 27.814128875732422     │\n",
       "│ Time/Update                   │ 26.775043487548828     │\n",
       "│ Time/Epoch                    │ 54.58917236328125      │\n",
       "│ Time/FPS                      │ 366.3730163574219      │\n",
       "│ Env/Success_counts            │ nan                    │\n",
       "│ Misc/Alpha                    │ 0.08886338770389557    │\n",
       "│ Misc/FinalStepNorm            │ 0.13557669520378113    │\n",
       "│ Misc/gradient_norm            │ 7.3442230224609375     │\n",
       "│ Misc/xHx                      │ 2.532702922821045      │\n",
       "│ Misc/H_inv_g                  │ 1.4274002313613892     │\n",
       "│ Misc/AcceptanceStep           │ 1.0                    │\n",
       "│ Misc/cost_gradient_norm       │ 179.15452575683594     │\n",
       "│ Misc/A                        │ 0.7808613777160645     │\n",
       "│ Misc/B                        │ -0.09332394599914551   │\n",
       "│ Misc/q                        │ 2.532702922821045      │\n",
       "│ Misc/r                        │ 44.01477813720703      │\n",
       "│ Misc/s                        │ 1105.865234375         │\n",
       "│ Misc/Lambda_star              │ 0.0                    │\n",
       "│ Misc/Nu_star                  │ 0.004252691753208637   │\n",
       "│ Misc/OptimCase                │ 0.0                    │\n",
       "└───────────────────────────────┴────────────────────────┘\n",
       "</pre>\n"
      ],
      "text/plain": [
       "┏━━━━━━━━━━━━━━━━━━━━━━━━━━━━━━━┳━━━━━━━━━━━━━━━━━━━━━━━━┓\n",
       "┃\u001b[1m \u001b[0m\u001b[1mMetrics                      \u001b[0m\u001b[1m \u001b[0m┃\u001b[1m \u001b[0m\u001b[1mValue                 \u001b[0m\u001b[1m \u001b[0m┃\n",
       "┡━━━━━━━━━━━━━━━━━━━━━━━━━━━━━━━╇━━━━━━━━━━━━━━━━━━━━━━━━┩\n",
       "│ Metrics/EpRet                 │ 97.60704803466797      │\n",
       "│ Metrics/EpCost                │ 36.19468688964844      │\n",
       "│ Metrics/EpLen                 │ 6.0                    │\n",
       "│ Train/Epoch                   │ 42.0                   │\n",
       "│ Train/Entropy                 │ 0.8439568877220154     │\n",
       "│ Train/KL                      │ 0.00028752037906087935 │\n",
       "│ Train/StopIter                │ 10.0                   │\n",
       "│ Train/PolicyRatio/Mean        │ 0.9989859461784363     │\n",
       "│ Train/PolicyRatio/Min         │ 0.9989859461784363     │\n",
       "│ Train/PolicyRatio/Max         │ 0.9989859461784363     │\n",
       "│ Train/PolicyRatio/Std         │ 0.0007170864846557379  │\n",
       "│ Train/LR                      │ 0.0                    │\n",
       "│ Train/PolicyStd               │ 0.5662497878074646     │\n",
       "│ TotalEnvSteps                 │ 860000.0               │\n",
       "│ Loss/Loss_pi                  │ -0.7266334891319275    │\n",
       "│ Loss/Loss_pi/Delta            │ -1.0564237534999847    │\n",
       "│ Value/Adv                     │ 4.005432074905002e-08  │\n",
       "│ Loss/Loss_reward_critic       │ 8334.857421875         │\n",
       "│ Loss/Loss_reward_critic/Delta │ 7427.1416015625        │\n",
       "│ Value/reward                  │ 23.91844367980957      │\n",
       "│ Loss/Loss_cost_critic         │ 590.8208618164062      │\n",
       "│ Loss/Loss_cost_critic/Delta   │ 351.230224609375       │\n",
       "│ Value/cost                    │ 11.996553421020508     │\n",
       "│ Time/Total                    │ 2559.591796875         │\n",
       "│ Time/Rollout                  │ 27.814128875732422     │\n",
       "│ Time/Update                   │ 26.775043487548828     │\n",
       "│ Time/Epoch                    │ 54.58917236328125      │\n",
       "│ Time/FPS                      │ 366.3730163574219      │\n",
       "│ Env/Success_counts            │ nan                    │\n",
       "│ Misc/Alpha                    │ 0.08886338770389557    │\n",
       "│ Misc/FinalStepNorm            │ 0.13557669520378113    │\n",
       "│ Misc/gradient_norm            │ 7.3442230224609375     │\n",
       "│ Misc/xHx                      │ 2.532702922821045      │\n",
       "│ Misc/H_inv_g                  │ 1.4274002313613892     │\n",
       "│ Misc/AcceptanceStep           │ 1.0                    │\n",
       "│ Misc/cost_gradient_norm       │ 179.15452575683594     │\n",
       "│ Misc/A                        │ 0.7808613777160645     │\n",
       "│ Misc/B                        │ -0.09332394599914551   │\n",
       "│ Misc/q                        │ 2.532702922821045      │\n",
       "│ Misc/r                        │ 44.01477813720703      │\n",
       "│ Misc/s                        │ 1105.865234375         │\n",
       "│ Misc/Lambda_star              │ 0.0                    │\n",
       "│ Misc/Nu_star                  │ 0.004252691753208637   │\n",
       "│ Misc/OptimCase                │ 0.0                    │\n",
       "└───────────────────────────────┴────────────────────────┘\n"
      ]
     },
     "metadata": {},
     "output_type": "display_data"
    },
    {
     "data": {
      "text/html": [
       "<pre style=\"white-space:pre;overflow-x:auto;line-height:normal;font-family:Menlo,'DejaVu Sans Mono',consolas,'Courier New',monospace\"><span style=\"color: #008000; text-decoration-color: #008000\">Warning: trajectory cut off when rollout by epoch at </span><span style=\"color: #008080; text-decoration-color: #008080; font-weight: bold\">2.0</span><span style=\"color: #008000; text-decoration-color: #008000\"> steps.</span>\n",
       "</pre>\n"
      ],
      "text/plain": [
       "\u001b[32mWarning: trajectory cut off when rollout by epoch at \u001b[0m\u001b[1;36m2.0\u001b[0m\u001b[32m steps.\u001b[0m\n"
      ]
     },
     "metadata": {},
     "output_type": "display_data"
    },
    {
     "data": {
      "text/html": [
       "<pre style=\"white-space:pre;overflow-x:auto;line-height:normal;font-family:Menlo,'DejaVu Sans Mono',consolas,'Courier New',monospace\"></pre>\n"
      ],
      "text/plain": []
     },
     "metadata": {},
     "output_type": "display_data"
    },
    {
     "data": {
      "text/html": [
       "<pre style=\"white-space:pre;overflow-x:auto;line-height:normal;font-family:Menlo,'DejaVu Sans Mono',consolas,'Courier New',monospace\"><span style=\"color: #008000; text-decoration-color: #008000\">Expected Improvement: </span><span style=\"color: #008080; text-decoration-color: #008080; font-weight: bold\">0.12567630410194397</span><span style=\"color: #008000; text-decoration-color: #008000\"> Actual: </span><span style=\"color: #008080; text-decoration-color: #008080; font-weight: bold\">0.1862010955810547</span>\n",
       "</pre>\n"
      ],
      "text/plain": [
       "\u001b[32mExpected Improvement: \u001b[0m\u001b[1;36m0.12567630410194397\u001b[0m\u001b[32m Actual: \u001b[0m\u001b[1;36m0.1862010955810547\u001b[0m\n"
      ]
     },
     "metadata": {},
     "output_type": "display_data"
    },
    {
     "data": {
      "text/html": [
       "<pre style=\"white-space:pre;overflow-x:auto;line-height:normal;font-family:Menlo,'DejaVu Sans Mono',consolas,'Courier New',monospace\"><span style=\"color: #008000; text-decoration-color: #008000\">Accept step at </span><span style=\"color: #808000; text-decoration-color: #808000\">i</span><span style=\"color: #008000; text-decoration-color: #008000\">=</span><span style=\"color: #008080; text-decoration-color: #008080; font-weight: bold\">1</span>\n",
       "</pre>\n"
      ],
      "text/plain": [
       "\u001b[32mAccept step at \u001b[0m\u001b[33mi\u001b[0m\u001b[32m=\u001b[0m\u001b[1;36m1\u001b[0m\n"
      ]
     },
     "metadata": {},
     "output_type": "display_data"
    },
    {
     "data": {
      "text/html": [
       "<pre style=\"white-space:pre;overflow-x:auto;line-height:normal;font-family:Menlo,'DejaVu Sans Mono',consolas,'Courier New',monospace\">┏━━━━━━━━━━━━━━━━━━━━━━━━━━━━━━━┳━━━━━━━━━━━━━━━━━━━━━━━━┓\n",
       "┃<span style=\"font-weight: bold\"> Metrics                       </span>┃<span style=\"font-weight: bold\"> Value                  </span>┃\n",
       "┡━━━━━━━━━━━━━━━━━━━━━━━━━━━━━━━╇━━━━━━━━━━━━━━━━━━━━━━━━┩\n",
       "│ Metrics/EpRet                 │ 12.061359405517578     │\n",
       "│ Metrics/EpCost                │ 10.914916038513184     │\n",
       "│ Metrics/EpLen                 │ 6.0                    │\n",
       "│ Train/Epoch                   │ 43.0                   │\n",
       "│ Train/Entropy                 │ 0.8425143361091614     │\n",
       "│ Train/KL                      │ 0.0002562387671787292  │\n",
       "│ Train/StopIter                │ 10.0                   │\n",
       "│ Train/PolicyRatio/Mean        │ 1.0006904602050781     │\n",
       "│ Train/PolicyRatio/Min         │ 1.0006904602050781     │\n",
       "│ Train/PolicyRatio/Max         │ 1.0006904602050781     │\n",
       "│ Train/PolicyRatio/Std         │ 0.000488285266328603   │\n",
       "│ Train/LR                      │ 0.0                    │\n",
       "│ Train/PolicyStd               │ 0.5655167698860168     │\n",
       "│ TotalEnvSteps                 │ 880000.0               │\n",
       "│ Loss/Loss_pi                  │ 0.2205493003129959     │\n",
       "│ Loss/Loss_pi/Delta            │ 0.9471827894449234     │\n",
       "│ Value/Adv                     │ -4.882812376649781e-08 │\n",
       "│ Loss/Loss_reward_critic       │ 1111.6868896484375     │\n",
       "│ Loss/Loss_reward_critic/Delta │ -7223.1705322265625    │\n",
       "│ Value/reward                  │ 39.01268005371094      │\n",
       "│ Loss/Loss_cost_critic         │ 210.1221923828125      │\n",
       "│ Loss/Loss_cost_critic/Delta   │ -380.69866943359375    │\n",
       "│ Value/cost                    │ 13.5008544921875       │\n",
       "│ Time/Total                    │ 2614.533203125         │\n",
       "│ Time/Rollout                  │ 27.341934204101562     │\n",
       "│ Time/Update                   │ 27.54977798461914      │\n",
       "│ Time/Epoch                    │ 54.8917121887207       │\n",
       "│ Time/FPS                      │ 364.3537292480469      │\n",
       "│ Env/Success_counts            │ nan                    │\n",
       "│ Misc/Alpha                    │ 0.15809395909309387    │\n",
       "│ Misc/FinalStepNorm            │ 0.15124259889125824    │\n",
       "│ Misc/gradient_norm            │ 3.3679990768432617     │\n",
       "│ Misc/xHx                      │ 0.8002016544342041     │\n",
       "│ Misc/H_inv_g                  │ 0.9566625952720642     │\n",
       "│ Misc/AcceptanceStep           │ 1.0                    │\n",
       "│ Misc/cost_gradient_norm       │ 111.12242889404297     │\n",
       "│ Misc/A                        │ 0.5863505601882935     │\n",
       "│ Misc/B                        │ -1.0140377283096313    │\n",
       "│ Misc/q                        │ 0.8002016544342041     │\n",
       "│ Misc/r                        │ 6.4054107666015625     │\n",
       "│ Misc/s                        │ 191.85914611816406     │\n",
       "│ Misc/Lambda_star              │ 6.325351715087891      │\n",
       "│ Misc/Nu_star                  │ 0.0                    │\n",
       "│ Misc/OptimCase                │ 3.0                    │\n",
       "└───────────────────────────────┴────────────────────────┘\n",
       "</pre>\n"
      ],
      "text/plain": [
       "┏━━━━━━━━━━━━━━━━━━━━━━━━━━━━━━━┳━━━━━━━━━━━━━━━━━━━━━━━━┓\n",
       "┃\u001b[1m \u001b[0m\u001b[1mMetrics                      \u001b[0m\u001b[1m \u001b[0m┃\u001b[1m \u001b[0m\u001b[1mValue                 \u001b[0m\u001b[1m \u001b[0m┃\n",
       "┡━━━━━━━━━━━━━━━━━━━━━━━━━━━━━━━╇━━━━━━━━━━━━━━━━━━━━━━━━┩\n",
       "│ Metrics/EpRet                 │ 12.061359405517578     │\n",
       "│ Metrics/EpCost                │ 10.914916038513184     │\n",
       "│ Metrics/EpLen                 │ 6.0                    │\n",
       "│ Train/Epoch                   │ 43.0                   │\n",
       "│ Train/Entropy                 │ 0.8425143361091614     │\n",
       "│ Train/KL                      │ 0.0002562387671787292  │\n",
       "│ Train/StopIter                │ 10.0                   │\n",
       "│ Train/PolicyRatio/Mean        │ 1.0006904602050781     │\n",
       "│ Train/PolicyRatio/Min         │ 1.0006904602050781     │\n",
       "│ Train/PolicyRatio/Max         │ 1.0006904602050781     │\n",
       "│ Train/PolicyRatio/Std         │ 0.000488285266328603   │\n",
       "│ Train/LR                      │ 0.0                    │\n",
       "│ Train/PolicyStd               │ 0.5655167698860168     │\n",
       "│ TotalEnvSteps                 │ 880000.0               │\n",
       "│ Loss/Loss_pi                  │ 0.2205493003129959     │\n",
       "│ Loss/Loss_pi/Delta            │ 0.9471827894449234     │\n",
       "│ Value/Adv                     │ -4.882812376649781e-08 │\n",
       "│ Loss/Loss_reward_critic       │ 1111.6868896484375     │\n",
       "│ Loss/Loss_reward_critic/Delta │ -7223.1705322265625    │\n",
       "│ Value/reward                  │ 39.01268005371094      │\n",
       "│ Loss/Loss_cost_critic         │ 210.1221923828125      │\n",
       "│ Loss/Loss_cost_critic/Delta   │ -380.69866943359375    │\n",
       "│ Value/cost                    │ 13.5008544921875       │\n",
       "│ Time/Total                    │ 2614.533203125         │\n",
       "│ Time/Rollout                  │ 27.341934204101562     │\n",
       "│ Time/Update                   │ 27.54977798461914      │\n",
       "│ Time/Epoch                    │ 54.8917121887207       │\n",
       "│ Time/FPS                      │ 364.3537292480469      │\n",
       "│ Env/Success_counts            │ nan                    │\n",
       "│ Misc/Alpha                    │ 0.15809395909309387    │\n",
       "│ Misc/FinalStepNorm            │ 0.15124259889125824    │\n",
       "│ Misc/gradient_norm            │ 3.3679990768432617     │\n",
       "│ Misc/xHx                      │ 0.8002016544342041     │\n",
       "│ Misc/H_inv_g                  │ 0.9566625952720642     │\n",
       "│ Misc/AcceptanceStep           │ 1.0                    │\n",
       "│ Misc/cost_gradient_norm       │ 111.12242889404297     │\n",
       "│ Misc/A                        │ 0.5863505601882935     │\n",
       "│ Misc/B                        │ -1.0140377283096313    │\n",
       "│ Misc/q                        │ 0.8002016544342041     │\n",
       "│ Misc/r                        │ 6.4054107666015625     │\n",
       "│ Misc/s                        │ 191.85914611816406     │\n",
       "│ Misc/Lambda_star              │ 6.325351715087891      │\n",
       "│ Misc/Nu_star                  │ 0.0                    │\n",
       "│ Misc/OptimCase                │ 3.0                    │\n",
       "└───────────────────────────────┴────────────────────────┘\n"
      ]
     },
     "metadata": {},
     "output_type": "display_data"
    },
    {
     "data": {
      "text/html": [
       "<pre style=\"white-space:pre;overflow-x:auto;line-height:normal;font-family:Menlo,'DejaVu Sans Mono',consolas,'Courier New',monospace\"><span style=\"color: #008000; text-decoration-color: #008000\">Warning: trajectory cut off when rollout by epoch at </span><span style=\"color: #008080; text-decoration-color: #008080; font-weight: bold\">2.0</span><span style=\"color: #008000; text-decoration-color: #008000\"> steps.</span>\n",
       "</pre>\n"
      ],
      "text/plain": [
       "\u001b[32mWarning: trajectory cut off when rollout by epoch at \u001b[0m\u001b[1;36m2.0\u001b[0m\u001b[32m steps.\u001b[0m\n"
      ]
     },
     "metadata": {},
     "output_type": "display_data"
    },
    {
     "data": {
      "text/html": [
       "<pre style=\"white-space:pre;overflow-x:auto;line-height:normal;font-family:Menlo,'DejaVu Sans Mono',consolas,'Courier New',monospace\"></pre>\n"
      ],
      "text/plain": []
     },
     "metadata": {},
     "output_type": "display_data"
    },
    {
     "data": {
      "text/html": [
       "<pre style=\"white-space:pre;overflow-x:auto;line-height:normal;font-family:Menlo,'DejaVu Sans Mono',consolas,'Courier New',monospace\"><span style=\"color: #808000; text-decoration-color: #808000\">Alert! Attempting feasible recovery!</span>\n",
       "</pre>\n"
      ],
      "text/plain": [
       "\u001b[33mAlert! Attempting feasible recovery!\u001b[0m\n"
      ]
     },
     "metadata": {},
     "output_type": "display_data"
    },
    {
     "data": {
      "text/html": [
       "<pre style=\"white-space:pre;overflow-x:auto;line-height:normal;font-family:Menlo,'DejaVu Sans Mono',consolas,'Courier New',monospace\"><span style=\"color: #008000; text-decoration-color: #008000\">Expected Improvement: </span><span style=\"color: #008080; text-decoration-color: #008080; font-weight: bold\">0.23516063392162323</span><span style=\"color: #008000; text-decoration-color: #008000\"> Actual: </span><span style=\"color: #008080; text-decoration-color: #008080; font-weight: bold\">0.3340279757976532</span>\n",
       "</pre>\n"
      ],
      "text/plain": [
       "\u001b[32mExpected Improvement: \u001b[0m\u001b[1;36m0.23516063392162323\u001b[0m\u001b[32m Actual: \u001b[0m\u001b[1;36m0.3340279757976532\u001b[0m\n"
      ]
     },
     "metadata": {},
     "output_type": "display_data"
    },
    {
     "data": {
      "text/html": [
       "<pre style=\"white-space:pre;overflow-x:auto;line-height:normal;font-family:Menlo,'DejaVu Sans Mono',consolas,'Courier New',monospace\"><span style=\"color: #008000; text-decoration-color: #008000\">INFO: no improve </span><span style=\"color: #008080; text-decoration-color: #008080; font-weight: bold\">6.303016185760498</span><span style=\"color: #008000; text-decoration-color: #008000\"> &gt; </span><span style=\"color: #008080; text-decoration-color: #008080; font-weight: bold\">0</span>\n",
       "</pre>\n"
      ],
      "text/plain": [
       "\u001b[32mINFO: no improve \u001b[0m\u001b[1;36m6.303016185760498\u001b[0m\u001b[32m > \u001b[0m\u001b[1;36m0\u001b[0m\n"
      ]
     },
     "metadata": {},
     "output_type": "display_data"
    },
    {
     "data": {
      "text/html": [
       "<pre style=\"white-space:pre;overflow-x:auto;line-height:normal;font-family:Menlo,'DejaVu Sans Mono',consolas,'Courier New',monospace\"><span style=\"color: #008000; text-decoration-color: #008000\">Expected Improvement: </span><span style=\"color: #008080; text-decoration-color: #008080; font-weight: bold\">0.23516063392162323</span><span style=\"color: #008000; text-decoration-color: #008000\"> Actual: </span><span style=\"color: #008080; text-decoration-color: #008080; font-weight: bold\">0.2507927119731903</span>\n",
       "</pre>\n"
      ],
      "text/plain": [
       "\u001b[32mExpected Improvement: \u001b[0m\u001b[1;36m0.23516063392162323\u001b[0m\u001b[32m Actual: \u001b[0m\u001b[1;36m0.2507927119731903\u001b[0m\n"
      ]
     },
     "metadata": {},
     "output_type": "display_data"
    },
    {
     "data": {
      "text/html": [
       "<pre style=\"white-space:pre;overflow-x:auto;line-height:normal;font-family:Menlo,'DejaVu Sans Mono',consolas,'Courier New',monospace\"><span style=\"color: #008000; text-decoration-color: #008000\">INFO: no improve </span><span style=\"color: #008080; text-decoration-color: #008080; font-weight: bold\">4.6810126304626465</span><span style=\"color: #008000; text-decoration-color: #008000\"> &gt; </span><span style=\"color: #008080; text-decoration-color: #008080; font-weight: bold\">0</span>\n",
       "</pre>\n"
      ],
      "text/plain": [
       "\u001b[32mINFO: no improve \u001b[0m\u001b[1;36m4.6810126304626465\u001b[0m\u001b[32m > \u001b[0m\u001b[1;36m0\u001b[0m\n"
      ]
     },
     "metadata": {},
     "output_type": "display_data"
    },
    {
     "data": {
      "text/html": [
       "<pre style=\"white-space:pre;overflow-x:auto;line-height:normal;font-family:Menlo,'DejaVu Sans Mono',consolas,'Courier New',monospace\"><span style=\"color: #008000; text-decoration-color: #008000\">Expected Improvement: </span><span style=\"color: #008080; text-decoration-color: #008080; font-weight: bold\">0.23516063392162323</span><span style=\"color: #008000; text-decoration-color: #008000\"> Actual: </span><span style=\"color: #008080; text-decoration-color: #008080; font-weight: bold\">0.18956322968006134</span>\n",
       "</pre>\n"
      ],
      "text/plain": [
       "\u001b[32mExpected Improvement: \u001b[0m\u001b[1;36m0.23516063392162323\u001b[0m\u001b[32m Actual: \u001b[0m\u001b[1;36m0.18956322968006134\u001b[0m\n"
      ]
     },
     "metadata": {},
     "output_type": "display_data"
    },
    {
     "data": {
      "text/html": [
       "<pre style=\"white-space:pre;overflow-x:auto;line-height:normal;font-family:Menlo,'DejaVu Sans Mono',consolas,'Courier New',monospace\"><span style=\"color: #008000; text-decoration-color: #008000\">INFO: no improve </span><span style=\"color: #008080; text-decoration-color: #008080; font-weight: bold\">3.5107362270355225</span><span style=\"color: #008000; text-decoration-color: #008000\"> &gt; </span><span style=\"color: #008080; text-decoration-color: #008080; font-weight: bold\">0</span>\n",
       "</pre>\n"
      ],
      "text/plain": [
       "\u001b[32mINFO: no improve \u001b[0m\u001b[1;36m3.5107362270355225\u001b[0m\u001b[32m > \u001b[0m\u001b[1;36m0\u001b[0m\n"
      ]
     },
     "metadata": {},
     "output_type": "display_data"
    },
    {
     "data": {
      "text/html": [
       "<pre style=\"white-space:pre;overflow-x:auto;line-height:normal;font-family:Menlo,'DejaVu Sans Mono',consolas,'Courier New',monospace\"><span style=\"color: #008000; text-decoration-color: #008000\">Expected Improvement: </span><span style=\"color: #008080; text-decoration-color: #008080; font-weight: bold\">0.23516063392162323</span><span style=\"color: #008000; text-decoration-color: #008000\"> Actual: </span><span style=\"color: #008080; text-decoration-color: #008080; font-weight: bold\">0.14428550004959106</span>\n",
       "</pre>\n"
      ],
      "text/plain": [
       "\u001b[32mExpected Improvement: \u001b[0m\u001b[1;36m0.23516063392162323\u001b[0m\u001b[32m Actual: \u001b[0m\u001b[1;36m0.14428550004959106\u001b[0m\n"
      ]
     },
     "metadata": {},
     "output_type": "display_data"
    },
    {
     "data": {
      "text/html": [
       "<pre style=\"white-space:pre;overflow-x:auto;line-height:normal;font-family:Menlo,'DejaVu Sans Mono',consolas,'Courier New',monospace\"><span style=\"color: #008000; text-decoration-color: #008000\">INFO: no improve </span><span style=\"color: #008080; text-decoration-color: #008080; font-weight: bold\">2.657471179962158</span><span style=\"color: #008000; text-decoration-color: #008000\"> &gt; </span><span style=\"color: #008080; text-decoration-color: #008080; font-weight: bold\">0</span>\n",
       "</pre>\n"
      ],
      "text/plain": [
       "\u001b[32mINFO: no improve \u001b[0m\u001b[1;36m2.657471179962158\u001b[0m\u001b[32m > \u001b[0m\u001b[1;36m0\u001b[0m\n"
      ]
     },
     "metadata": {},
     "output_type": "display_data"
    },
    {
     "data": {
      "text/html": [
       "<pre style=\"white-space:pre;overflow-x:auto;line-height:normal;font-family:Menlo,'DejaVu Sans Mono',consolas,'Courier New',monospace\"><span style=\"color: #008000; text-decoration-color: #008000\">Expected Improvement: </span><span style=\"color: #008080; text-decoration-color: #008080; font-weight: bold\">0.23516063392162323</span><span style=\"color: #008000; text-decoration-color: #008000\"> Actual: </span><span style=\"color: #008080; text-decoration-color: #008080; font-weight: bold\">0.11072567850351334</span>\n",
       "</pre>\n"
      ],
      "text/plain": [
       "\u001b[32mExpected Improvement: \u001b[0m\u001b[1;36m0.23516063392162323\u001b[0m\u001b[32m Actual: \u001b[0m\u001b[1;36m0.11072567850351334\u001b[0m\n"
      ]
     },
     "metadata": {},
     "output_type": "display_data"
    },
    {
     "data": {
      "text/html": [
       "<pre style=\"white-space:pre;overflow-x:auto;line-height:normal;font-family:Menlo,'DejaVu Sans Mono',consolas,'Courier New',monospace\"><span style=\"color: #008000; text-decoration-color: #008000\">INFO: no improve </span><span style=\"color: #008080; text-decoration-color: #008080; font-weight: bold\">2.029243230819702</span><span style=\"color: #008000; text-decoration-color: #008000\"> &gt; </span><span style=\"color: #008080; text-decoration-color: #008080; font-weight: bold\">0</span>\n",
       "</pre>\n"
      ],
      "text/plain": [
       "\u001b[32mINFO: no improve \u001b[0m\u001b[1;36m2.029243230819702\u001b[0m\u001b[32m > \u001b[0m\u001b[1;36m0\u001b[0m\n"
      ]
     },
     "metadata": {},
     "output_type": "display_data"
    },
    {
     "data": {
      "text/html": [
       "<pre style=\"white-space:pre;overflow-x:auto;line-height:normal;font-family:Menlo,'DejaVu Sans Mono',consolas,'Courier New',monospace\"><span style=\"color: #008000; text-decoration-color: #008000\">Expected Improvement: </span><span style=\"color: #008080; text-decoration-color: #008080; font-weight: bold\">0.23516063392162323</span><span style=\"color: #008000; text-decoration-color: #008000\"> Actual: </span><span style=\"color: #008080; text-decoration-color: #008080; font-weight: bold\">0.08565575629472733</span>\n",
       "</pre>\n"
      ],
      "text/plain": [
       "\u001b[32mExpected Improvement: \u001b[0m\u001b[1;36m0.23516063392162323\u001b[0m\u001b[32m Actual: \u001b[0m\u001b[1;36m0.08565575629472733\u001b[0m\n"
      ]
     },
     "metadata": {},
     "output_type": "display_data"
    },
    {
     "data": {
      "text/html": [
       "<pre style=\"white-space:pre;overflow-x:auto;line-height:normal;font-family:Menlo,'DejaVu Sans Mono',consolas,'Courier New',monospace\"><span style=\"color: #008000; text-decoration-color: #008000\">INFO: no improve </span><span style=\"color: #008080; text-decoration-color: #008080; font-weight: bold\">1.5630637407302856</span><span style=\"color: #008000; text-decoration-color: #008000\"> &gt; </span><span style=\"color: #008080; text-decoration-color: #008080; font-weight: bold\">0</span>\n",
       "</pre>\n"
      ],
      "text/plain": [
       "\u001b[32mINFO: no improve \u001b[0m\u001b[1;36m1.5630637407302856\u001b[0m\u001b[32m > \u001b[0m\u001b[1;36m0\u001b[0m\n"
      ]
     },
     "metadata": {},
     "output_type": "display_data"
    },
    {
     "data": {
      "text/html": [
       "<pre style=\"white-space:pre;overflow-x:auto;line-height:normal;font-family:Menlo,'DejaVu Sans Mono',consolas,'Courier New',monospace\"><span style=\"color: #008000; text-decoration-color: #008000\">Expected Improvement: </span><span style=\"color: #008080; text-decoration-color: #008080; font-weight: bold\">0.23516063392162323</span><span style=\"color: #008000; text-decoration-color: #008000\"> Actual: </span><span style=\"color: #008080; text-decoration-color: #008080; font-weight: bold\">0.06668436527252197</span>\n",
       "</pre>\n"
      ],
      "text/plain": [
       "\u001b[32mExpected Improvement: \u001b[0m\u001b[1;36m0.23516063392162323\u001b[0m\u001b[32m Actual: \u001b[0m\u001b[1;36m0.06668436527252197\u001b[0m\n"
      ]
     },
     "metadata": {},
     "output_type": "display_data"
    },
    {
     "data": {
      "text/html": [
       "<pre style=\"white-space:pre;overflow-x:auto;line-height:normal;font-family:Menlo,'DejaVu Sans Mono',consolas,'Courier New',monospace\"><span style=\"color: #008000; text-decoration-color: #008000\">INFO: no improve </span><span style=\"color: #008080; text-decoration-color: #008080; font-weight: bold\">1.2128230333328247</span><span style=\"color: #008000; text-decoration-color: #008000\"> &gt; </span><span style=\"color: #008080; text-decoration-color: #008080; font-weight: bold\">0</span>\n",
       "</pre>\n"
      ],
      "text/plain": [
       "\u001b[32mINFO: no improve \u001b[0m\u001b[1;36m1.2128230333328247\u001b[0m\u001b[32m > \u001b[0m\u001b[1;36m0\u001b[0m\n"
      ]
     },
     "metadata": {},
     "output_type": "display_data"
    },
    {
     "data": {
      "text/html": [
       "<pre style=\"white-space:pre;overflow-x:auto;line-height:normal;font-family:Menlo,'DejaVu Sans Mono',consolas,'Courier New',monospace\"><span style=\"color: #008000; text-decoration-color: #008000\">Expected Improvement: </span><span style=\"color: #008080; text-decoration-color: #008080; font-weight: bold\">0.23516063392162323</span><span style=\"color: #008000; text-decoration-color: #008000\"> Actual: </span><span style=\"color: #008080; text-decoration-color: #008080; font-weight: bold\">0.05216604843735695</span>\n",
       "</pre>\n"
      ],
      "text/plain": [
       "\u001b[32mExpected Improvement: \u001b[0m\u001b[1;36m0.23516063392162323\u001b[0m\u001b[32m Actual: \u001b[0m\u001b[1;36m0.05216604843735695\u001b[0m\n"
      ]
     },
     "metadata": {},
     "output_type": "display_data"
    },
    {
     "data": {
      "text/html": [
       "<pre style=\"white-space:pre;overflow-x:auto;line-height:normal;font-family:Menlo,'DejaVu Sans Mono',consolas,'Courier New',monospace\"><span style=\"color: #008000; text-decoration-color: #008000\">INFO: no improve </span><span style=\"color: #008080; text-decoration-color: #008080; font-weight: bold\">0.9461511969566345</span><span style=\"color: #008000; text-decoration-color: #008000\"> &gt; </span><span style=\"color: #008080; text-decoration-color: #008080; font-weight: bold\">0</span>\n",
       "</pre>\n"
      ],
      "text/plain": [
       "\u001b[32mINFO: no improve \u001b[0m\u001b[1;36m0.9461511969566345\u001b[0m\u001b[32m > \u001b[0m\u001b[1;36m0\u001b[0m\n"
      ]
     },
     "metadata": {},
     "output_type": "display_data"
    },
    {
     "data": {
      "text/html": [
       "<pre style=\"white-space:pre;overflow-x:auto;line-height:normal;font-family:Menlo,'DejaVu Sans Mono',consolas,'Courier New',monospace\"><span style=\"color: #008000; text-decoration-color: #008000\">Expected Improvement: </span><span style=\"color: #008080; text-decoration-color: #008080; font-weight: bold\">0.23516063392162323</span><span style=\"color: #008000; text-decoration-color: #008000\"> Actual: </span><span style=\"color: #008080; text-decoration-color: #008080; font-weight: bold\">0.04100774973630905</span>\n",
       "</pre>\n"
      ],
      "text/plain": [
       "\u001b[32mExpected Improvement: \u001b[0m\u001b[1;36m0.23516063392162323\u001b[0m\u001b[32m Actual: \u001b[0m\u001b[1;36m0.04100774973630905\u001b[0m\n"
      ]
     },
     "metadata": {},
     "output_type": "display_data"
    },
    {
     "data": {
      "text/html": [
       "<pre style=\"white-space:pre;overflow-x:auto;line-height:normal;font-family:Menlo,'DejaVu Sans Mono',consolas,'Courier New',monospace\"><span style=\"color: #008000; text-decoration-color: #008000\">INFO: no improve </span><span style=\"color: #008080; text-decoration-color: #008080; font-weight: bold\">0.7419161796569824</span><span style=\"color: #008000; text-decoration-color: #008000\"> &gt; </span><span style=\"color: #008080; text-decoration-color: #008080; font-weight: bold\">0</span>\n",
       "</pre>\n"
      ],
      "text/plain": [
       "\u001b[32mINFO: no improve \u001b[0m\u001b[1;36m0.7419161796569824\u001b[0m\u001b[32m > \u001b[0m\u001b[1;36m0\u001b[0m\n"
      ]
     },
     "metadata": {},
     "output_type": "display_data"
    },
    {
     "data": {
      "text/html": [
       "<pre style=\"white-space:pre;overflow-x:auto;line-height:normal;font-family:Menlo,'DejaVu Sans Mono',consolas,'Courier New',monospace\"><span style=\"color: #008000; text-decoration-color: #008000\">Expected Improvement: </span><span style=\"color: #008080; text-decoration-color: #008080; font-weight: bold\">0.23516063392162323</span><span style=\"color: #008000; text-decoration-color: #008000\"> Actual: </span><span style=\"color: #008080; text-decoration-color: #008080; font-weight: bold\">0.03237125277519226</span>\n",
       "</pre>\n"
      ],
      "text/plain": [
       "\u001b[32mExpected Improvement: \u001b[0m\u001b[1;36m0.23516063392162323\u001b[0m\u001b[32m Actual: \u001b[0m\u001b[1;36m0.03237125277519226\u001b[0m\n"
      ]
     },
     "metadata": {},
     "output_type": "display_data"
    },
    {
     "data": {
      "text/html": [
       "<pre style=\"white-space:pre;overflow-x:auto;line-height:normal;font-family:Menlo,'DejaVu Sans Mono',consolas,'Courier New',monospace\"><span style=\"color: #008000; text-decoration-color: #008000\">INFO: no improve </span><span style=\"color: #008080; text-decoration-color: #008080; font-weight: bold\">0.5840938687324524</span><span style=\"color: #008000; text-decoration-color: #008000\"> &gt; </span><span style=\"color: #008080; text-decoration-color: #008080; font-weight: bold\">0</span>\n",
       "</pre>\n"
      ],
      "text/plain": [
       "\u001b[32mINFO: no improve \u001b[0m\u001b[1;36m0.5840938687324524\u001b[0m\u001b[32m > \u001b[0m\u001b[1;36m0\u001b[0m\n"
      ]
     },
     "metadata": {},
     "output_type": "display_data"
    },
    {
     "data": {
      "text/html": [
       "<pre style=\"white-space:pre;overflow-x:auto;line-height:normal;font-family:Menlo,'DejaVu Sans Mono',consolas,'Courier New',monospace\"><span style=\"color: #008000; text-decoration-color: #008000\">Expected Improvement: </span><span style=\"color: #008080; text-decoration-color: #008080; font-weight: bold\">0.23516063392162323</span><span style=\"color: #008000; text-decoration-color: #008000\"> Actual: </span><span style=\"color: #008080; text-decoration-color: #008080; font-weight: bold\">0.025638556107878685</span>\n",
       "</pre>\n"
      ],
      "text/plain": [
       "\u001b[32mExpected Improvement: \u001b[0m\u001b[1;36m0.23516063392162323\u001b[0m\u001b[32m Actual: \u001b[0m\u001b[1;36m0.025638556107878685\u001b[0m\n"
      ]
     },
     "metadata": {},
     "output_type": "display_data"
    },
    {
     "data": {
      "text/html": [
       "<pre style=\"white-space:pre;overflow-x:auto;line-height:normal;font-family:Menlo,'DejaVu Sans Mono',consolas,'Courier New',monospace\"><span style=\"color: #008000; text-decoration-color: #008000\">INFO: no improve </span><span style=\"color: #008080; text-decoration-color: #008080; font-weight: bold\">0.461323082447052</span><span style=\"color: #008000; text-decoration-color: #008000\"> &gt; </span><span style=\"color: #008080; text-decoration-color: #008080; font-weight: bold\">0</span>\n",
       "</pre>\n"
      ],
      "text/plain": [
       "\u001b[32mINFO: no improve \u001b[0m\u001b[1;36m0.461323082447052\u001b[0m\u001b[32m > \u001b[0m\u001b[1;36m0\u001b[0m\n"
      ]
     },
     "metadata": {},
     "output_type": "display_data"
    },
    {
     "data": {
      "text/html": [
       "<pre style=\"white-space:pre;overflow-x:auto;line-height:normal;font-family:Menlo,'DejaVu Sans Mono',consolas,'Courier New',monospace\"><span style=\"color: #008000; text-decoration-color: #008000\">Expected Improvement: </span><span style=\"color: #008080; text-decoration-color: #008080; font-weight: bold\">0.23516063392162323</span><span style=\"color: #008000; text-decoration-color: #008000\"> Actual: </span><span style=\"color: #008080; text-decoration-color: #008080; font-weight: bold\">0.020364850759506226</span>\n",
       "</pre>\n"
      ],
      "text/plain": [
       "\u001b[32mExpected Improvement: \u001b[0m\u001b[1;36m0.23516063392162323\u001b[0m\u001b[32m Actual: \u001b[0m\u001b[1;36m0.020364850759506226\u001b[0m\n"
      ]
     },
     "metadata": {},
     "output_type": "display_data"
    },
    {
     "data": {
      "text/html": [
       "<pre style=\"white-space:pre;overflow-x:auto;line-height:normal;font-family:Menlo,'DejaVu Sans Mono',consolas,'Courier New',monospace\"><span style=\"color: #008000; text-decoration-color: #008000\">INFO: no improve </span><span style=\"color: #008080; text-decoration-color: #008080; font-weight: bold\">0.36536088585853577</span><span style=\"color: #008000; text-decoration-color: #008000\"> &gt; </span><span style=\"color: #008080; text-decoration-color: #008080; font-weight: bold\">0</span>\n",
       "</pre>\n"
      ],
      "text/plain": [
       "\u001b[32mINFO: no improve \u001b[0m\u001b[1;36m0.36536088585853577\u001b[0m\u001b[32m > \u001b[0m\u001b[1;36m0\u001b[0m\n"
      ]
     },
     "metadata": {},
     "output_type": "display_data"
    },
    {
     "data": {
      "text/html": [
       "<pre style=\"white-space:pre;overflow-x:auto;line-height:normal;font-family:Menlo,'DejaVu Sans Mono',consolas,'Courier New',monospace\"><span style=\"color: #008000; text-decoration-color: #008000\">Expected Improvement: </span><span style=\"color: #008080; text-decoration-color: #008080; font-weight: bold\">0.23516063392162323</span><span style=\"color: #008000; text-decoration-color: #008000\"> Actual: </span><span style=\"color: #008080; text-decoration-color: #008080; font-weight: bold\">0.01621088758111</span>\n",
       "</pre>\n"
      ],
      "text/plain": [
       "\u001b[32mExpected Improvement: \u001b[0m\u001b[1;36m0.23516063392162323\u001b[0m\u001b[32m Actual: \u001b[0m\u001b[1;36m0.01621088758111\u001b[0m\n"
      ]
     },
     "metadata": {},
     "output_type": "display_data"
    },
    {
     "data": {
      "text/html": [
       "<pre style=\"white-space:pre;overflow-x:auto;line-height:normal;font-family:Menlo,'DejaVu Sans Mono',consolas,'Courier New',monospace\"><span style=\"color: #008000; text-decoration-color: #008000\">INFO: no improve </span><span style=\"color: #008080; text-decoration-color: #008080; font-weight: bold\">0.2899118959903717</span><span style=\"color: #008000; text-decoration-color: #008000\"> &gt; </span><span style=\"color: #008080; text-decoration-color: #008080; font-weight: bold\">0</span>\n",
       "</pre>\n"
      ],
      "text/plain": [
       "\u001b[32mINFO: no improve \u001b[0m\u001b[1;36m0.2899118959903717\u001b[0m\u001b[32m > \u001b[0m\u001b[1;36m0\u001b[0m\n"
      ]
     },
     "metadata": {},
     "output_type": "display_data"
    },
    {
     "data": {
      "text/html": [
       "<pre style=\"white-space:pre;overflow-x:auto;line-height:normal;font-family:Menlo,'DejaVu Sans Mono',consolas,'Courier New',monospace\"><span style=\"color: #008000; text-decoration-color: #008000\">Expected Improvement: </span><span style=\"color: #008080; text-decoration-color: #008080; font-weight: bold\">0.23516063392162323</span><span style=\"color: #008000; text-decoration-color: #008000\"> Actual: </span><span style=\"color: #008080; text-decoration-color: #008080; font-weight: bold\">0.012929275631904602</span>\n",
       "</pre>\n"
      ],
      "text/plain": [
       "\u001b[32mExpected Improvement: \u001b[0m\u001b[1;36m0.23516063392162323\u001b[0m\u001b[32m Actual: \u001b[0m\u001b[1;36m0.012929275631904602\u001b[0m\n"
      ]
     },
     "metadata": {},
     "output_type": "display_data"
    },
    {
     "data": {
      "text/html": [
       "<pre style=\"white-space:pre;overflow-x:auto;line-height:normal;font-family:Menlo,'DejaVu Sans Mono',consolas,'Courier New',monospace\"><span style=\"color: #008000; text-decoration-color: #008000\">INFO: no improve </span><span style=\"color: #008080; text-decoration-color: #008080; font-weight: bold\">0.23049330711364746</span><span style=\"color: #008000; text-decoration-color: #008000\"> &gt; </span><span style=\"color: #008080; text-decoration-color: #008080; font-weight: bold\">0</span>\n",
       "</pre>\n"
      ],
      "text/plain": [
       "\u001b[32mINFO: no improve \u001b[0m\u001b[1;36m0.23049330711364746\u001b[0m\u001b[32m > \u001b[0m\u001b[1;36m0\u001b[0m\n"
      ]
     },
     "metadata": {},
     "output_type": "display_data"
    },
    {
     "data": {
      "text/html": [
       "<pre style=\"white-space:pre;overflow-x:auto;line-height:normal;font-family:Menlo,'DejaVu Sans Mono',consolas,'Courier New',monospace\"><span style=\"color: #008000; text-decoration-color: #008000\">Expected Improvement: </span><span style=\"color: #008080; text-decoration-color: #008080; font-weight: bold\">0.23516063392162323</span><span style=\"color: #008000; text-decoration-color: #008000\"> Actual: </span><span style=\"color: #008080; text-decoration-color: #008080; font-weight: bold\">0.010325619950890541</span>\n",
       "</pre>\n"
      ],
      "text/plain": [
       "\u001b[32mExpected Improvement: \u001b[0m\u001b[1;36m0.23516063392162323\u001b[0m\u001b[32m Actual: \u001b[0m\u001b[1;36m0.010325619950890541\u001b[0m\n"
      ]
     },
     "metadata": {},
     "output_type": "display_data"
    },
    {
     "data": {
      "text/html": [
       "<pre style=\"white-space:pre;overflow-x:auto;line-height:normal;font-family:Menlo,'DejaVu Sans Mono',consolas,'Courier New',monospace\"><span style=\"color: #008000; text-decoration-color: #008000\">INFO: no improve </span><span style=\"color: #008080; text-decoration-color: #008080; font-weight: bold\">0.18350721895694733</span><span style=\"color: #008000; text-decoration-color: #008000\"> &gt; </span><span style=\"color: #008080; text-decoration-color: #008080; font-weight: bold\">0</span>\n",
       "</pre>\n"
      ],
      "text/plain": [
       "\u001b[32mINFO: no improve \u001b[0m\u001b[1;36m0.18350721895694733\u001b[0m\u001b[32m > \u001b[0m\u001b[1;36m0\u001b[0m\n"
      ]
     },
     "metadata": {},
     "output_type": "display_data"
    },
    {
     "data": {
      "text/html": [
       "<pre style=\"white-space:pre;overflow-x:auto;line-height:normal;font-family:Menlo,'DejaVu Sans Mono',consolas,'Courier New',monospace\"><span style=\"color: #008000; text-decoration-color: #008000\">Expected Improvement: </span><span style=\"color: #008080; text-decoration-color: #008080; font-weight: bold\">0.23516063392162323</span><span style=\"color: #008000; text-decoration-color: #008000\"> Actual: </span><span style=\"color: #008080; text-decoration-color: #008080; font-weight: bold\">0.008253276348114014</span>\n",
       "</pre>\n"
      ],
      "text/plain": [
       "\u001b[32mExpected Improvement: \u001b[0m\u001b[1;36m0.23516063392162323\u001b[0m\u001b[32m Actual: \u001b[0m\u001b[1;36m0.008253276348114014\u001b[0m\n"
      ]
     },
     "metadata": {},
     "output_type": "display_data"
    },
    {
     "data": {
      "text/html": [
       "<pre style=\"white-space:pre;overflow-x:auto;line-height:normal;font-family:Menlo,'DejaVu Sans Mono',consolas,'Courier New',monospace\"><span style=\"color: #008000; text-decoration-color: #008000\">INFO: no improve </span><span style=\"color: #008080; text-decoration-color: #008080; font-weight: bold\">0.14627020061016083</span><span style=\"color: #008000; text-decoration-color: #008000\"> &gt; </span><span style=\"color: #008080; text-decoration-color: #008080; font-weight: bold\">0</span>\n",
       "</pre>\n"
      ],
      "text/plain": [
       "\u001b[32mINFO: no improve \u001b[0m\u001b[1;36m0.14627020061016083\u001b[0m\u001b[32m > \u001b[0m\u001b[1;36m0\u001b[0m\n"
      ]
     },
     "metadata": {},
     "output_type": "display_data"
    },
    {
     "data": {
      "text/html": [
       "<pre style=\"white-space:pre;overflow-x:auto;line-height:normal;font-family:Menlo,'DejaVu Sans Mono',consolas,'Courier New',monospace\"><span style=\"color: #008000; text-decoration-color: #008000\">Expected Improvement: </span><span style=\"color: #008080; text-decoration-color: #008080; font-weight: bold\">0.23516063392162323</span><span style=\"color: #008000; text-decoration-color: #008000\"> Actual: </span><span style=\"color: #008080; text-decoration-color: #008080; font-weight: bold\">0.00660024443641305</span>\n",
       "</pre>\n"
      ],
      "text/plain": [
       "\u001b[32mExpected Improvement: \u001b[0m\u001b[1;36m0.23516063392162323\u001b[0m\u001b[32m Actual: \u001b[0m\u001b[1;36m0.00660024443641305\u001b[0m\n"
      ]
     },
     "metadata": {},
     "output_type": "display_data"
    },
    {
     "data": {
      "text/html": [
       "<pre style=\"white-space:pre;overflow-x:auto;line-height:normal;font-family:Menlo,'DejaVu Sans Mono',consolas,'Courier New',monospace\"><span style=\"color: #008000; text-decoration-color: #008000\">INFO: no improve </span><span style=\"color: #008080; text-decoration-color: #008080; font-weight: bold\">0.11669313907623291</span><span style=\"color: #008000; text-decoration-color: #008000\"> &gt; </span><span style=\"color: #008080; text-decoration-color: #008080; font-weight: bold\">0</span>\n",
       "</pre>\n"
      ],
      "text/plain": [
       "\u001b[32mINFO: no improve \u001b[0m\u001b[1;36m0.11669313907623291\u001b[0m\u001b[32m > \u001b[0m\u001b[1;36m0\u001b[0m\n"
      ]
     },
     "metadata": {},
     "output_type": "display_data"
    },
    {
     "data": {
      "text/html": [
       "<pre style=\"white-space:pre;overflow-x:auto;line-height:normal;font-family:Menlo,'DejaVu Sans Mono',consolas,'Courier New',monospace\"><span style=\"color: #008000; text-decoration-color: #008000\">Expected Improvement: </span><span style=\"color: #008080; text-decoration-color: #008080; font-weight: bold\">0.23516063392162323</span><span style=\"color: #008000; text-decoration-color: #008000\"> Actual: </span><span style=\"color: #008080; text-decoration-color: #008080; font-weight: bold\">0.005280021578073502</span>\n",
       "</pre>\n"
      ],
      "text/plain": [
       "\u001b[32mExpected Improvement: \u001b[0m\u001b[1;36m0.23516063392162323\u001b[0m\u001b[32m Actual: \u001b[0m\u001b[1;36m0.005280021578073502\u001b[0m\n"
      ]
     },
     "metadata": {},
     "output_type": "display_data"
    },
    {
     "data": {
      "text/html": [
       "<pre style=\"white-space:pre;overflow-x:auto;line-height:normal;font-family:Menlo,'DejaVu Sans Mono',consolas,'Courier New',monospace\"><span style=\"color: #008000; text-decoration-color: #008000\">INFO: no improve </span><span style=\"color: #008080; text-decoration-color: #008080; font-weight: bold\">0.0931558683514595</span><span style=\"color: #008000; text-decoration-color: #008000\"> &gt; </span><span style=\"color: #008080; text-decoration-color: #008080; font-weight: bold\">0</span>\n",
       "</pre>\n"
      ],
      "text/plain": [
       "\u001b[32mINFO: no improve \u001b[0m\u001b[1;36m0.0931558683514595\u001b[0m\u001b[32m > \u001b[0m\u001b[1;36m0\u001b[0m\n"
      ]
     },
     "metadata": {},
     "output_type": "display_data"
    },
    {
     "data": {
      "text/html": [
       "<pre style=\"white-space:pre;overflow-x:auto;line-height:normal;font-family:Menlo,'DejaVu Sans Mono',consolas,'Courier New',monospace\"><span style=\"color: #008000; text-decoration-color: #008000\">Expected Improvement: </span><span style=\"color: #008080; text-decoration-color: #008080; font-weight: bold\">0.23516063392162323</span><span style=\"color: #008000; text-decoration-color: #008000\"> Actual: </span><span style=\"color: #008080; text-decoration-color: #008080; font-weight: bold\">0.004224895033985376</span>\n",
       "</pre>\n"
      ],
      "text/plain": [
       "\u001b[32mExpected Improvement: \u001b[0m\u001b[1;36m0.23516063392162323\u001b[0m\u001b[32m Actual: \u001b[0m\u001b[1;36m0.004224895033985376\u001b[0m\n"
      ]
     },
     "metadata": {},
     "output_type": "display_data"
    },
    {
     "data": {
      "text/html": [
       "<pre style=\"white-space:pre;overflow-x:auto;line-height:normal;font-family:Menlo,'DejaVu Sans Mono',consolas,'Courier New',monospace\"><span style=\"color: #008000; text-decoration-color: #008000\">INFO: no improve </span><span style=\"color: #008080; text-decoration-color: #008080; font-weight: bold\">0.07440248876810074</span><span style=\"color: #008000; text-decoration-color: #008000\"> &gt; </span><span style=\"color: #008080; text-decoration-color: #008080; font-weight: bold\">0</span>\n",
       "</pre>\n"
      ],
      "text/plain": [
       "\u001b[32mINFO: no improve \u001b[0m\u001b[1;36m0.07440248876810074\u001b[0m\u001b[32m > \u001b[0m\u001b[1;36m0\u001b[0m\n"
      ]
     },
     "metadata": {},
     "output_type": "display_data"
    },
    {
     "data": {
      "text/html": [
       "<pre style=\"white-space:pre;overflow-x:auto;line-height:normal;font-family:Menlo,'DejaVu Sans Mono',consolas,'Courier New',monospace\"><span style=\"color: #008000; text-decoration-color: #008000\">Expected Improvement: </span><span style=\"color: #008080; text-decoration-color: #008080; font-weight: bold\">0.23516063392162323</span><span style=\"color: #008000; text-decoration-color: #008000\"> Actual: </span><span style=\"color: #008080; text-decoration-color: #008080; font-weight: bold\">0.003380757523700595</span>\n",
       "</pre>\n"
      ],
      "text/plain": [
       "\u001b[32mExpected Improvement: \u001b[0m\u001b[1;36m0.23516063392162323\u001b[0m\u001b[32m Actual: \u001b[0m\u001b[1;36m0.003380757523700595\u001b[0m\n"
      ]
     },
     "metadata": {},
     "output_type": "display_data"
    },
    {
     "data": {
      "text/html": [
       "<pre style=\"white-space:pre;overflow-x:auto;line-height:normal;font-family:Menlo,'DejaVu Sans Mono',consolas,'Courier New',monospace\"><span style=\"color: #008000; text-decoration-color: #008000\">INFO: no improve </span><span style=\"color: #008080; text-decoration-color: #008080; font-weight: bold\">0.059440989047288895</span><span style=\"color: #008000; text-decoration-color: #008000\"> &gt; </span><span style=\"color: #008080; text-decoration-color: #008080; font-weight: bold\">0</span>\n",
       "</pre>\n"
      ],
      "text/plain": [
       "\u001b[32mINFO: no improve \u001b[0m\u001b[1;36m0.059440989047288895\u001b[0m\u001b[32m > \u001b[0m\u001b[1;36m0\u001b[0m\n"
      ]
     },
     "metadata": {},
     "output_type": "display_data"
    },
    {
     "data": {
      "text/html": [
       "<pre style=\"white-space:pre;overflow-x:auto;line-height:normal;font-family:Menlo,'DejaVu Sans Mono',consolas,'Courier New',monospace\"><span style=\"color: #008000; text-decoration-color: #008000\">INFO: no suitable step found</span><span style=\"color: #808000; text-decoration-color: #808000\">...</span>\n",
       "</pre>\n"
      ],
      "text/plain": [
       "\u001b[32mINFO: no suitable step found\u001b[0m\u001b[33m...\u001b[0m\n"
      ]
     },
     "metadata": {},
     "output_type": "display_data"
    },
    {
     "data": {
      "text/html": [
       "<pre style=\"white-space:pre;overflow-x:auto;line-height:normal;font-family:Menlo,'DejaVu Sans Mono',consolas,'Courier New',monospace\">┏━━━━━━━━━━━━━━━━━━━━━━━━━━━━━━━┳━━━━━━━━━━━━━━━━━━━━━━━┓\n",
       "┃<span style=\"font-weight: bold\"> Metrics                       </span>┃<span style=\"font-weight: bold\"> Value                 </span>┃\n",
       "┡━━━━━━━━━━━━━━━━━━━━━━━━━━━━━━━╇━━━━━━━━━━━━━━━━━━━━━━━┩\n",
       "│ Metrics/EpRet                 │ 73.65184020996094     │\n",
       "│ Metrics/EpCost                │ 25.697998046875       │\n",
       "│ Metrics/EpLen                 │ 6.0                   │\n",
       "│ Train/Epoch                   │ 44.0                  │\n",
       "│ Train/Entropy                 │ 0.8448125720024109    │\n",
       "│ Train/KL                      │ 5.54851133927059e-08  │\n",
       "│ Train/StopIter                │ 10.0                  │\n",
       "│ Train/PolicyRatio/Mean        │ 0.9983161687850952    │\n",
       "│ Train/PolicyRatio/Min         │ 0.9983161687850952    │\n",
       "│ Train/PolicyRatio/Max         │ 0.9983161687850952    │\n",
       "│ Train/PolicyRatio/Std         │ 0.0015738479560241103 │\n",
       "│ Train/LR                      │ 0.0                   │\n",
       "│ Train/PolicyStd               │ 0.5669183135032654    │\n",
       "│ TotalEnvSteps                 │ 900000.0              │\n",
       "│ Loss/Loss_pi                  │ -0.06176041066646576  │\n",
       "│ Loss/Loss_pi/Delta            │ -0.28230971097946167  │\n",
       "│ Value/Adv                     │ 3.852844088214624e-08 │\n",
       "│ Loss/Loss_reward_critic       │ 9937.197265625        │\n",
       "│ Loss/Loss_reward_critic/Delta │ 8825.510375976562     │\n",
       "│ Value/reward                  │ 26.216014862060547    │\n",
       "│ Loss/Loss_cost_critic         │ 604.0934448242188     │\n",
       "│ Loss/Loss_cost_critic/Delta   │ 393.97125244140625    │\n",
       "│ Value/cost                    │ 9.474525451660156     │\n",
       "│ Time/Total                    │ 2672.962158203125     │\n",
       "│ Time/Rollout                  │ 27.779582977294922    │\n",
       "│ Time/Update                   │ 30.59715461730957     │\n",
       "│ Time/Epoch                    │ 58.376739501953125    │\n",
       "│ Time/FPS                      │ 342.6022033691406     │\n",
       "│ Env/Success_counts            │ nan                   │\n",
       "│ Misc/Alpha                    │ 0.08469416946172714   │\n",
       "│ Misc/FinalStepNorm            │ 0.0                   │\n",
       "│ Misc/gradient_norm            │ 8.346671104431152     │\n",
       "│ Misc/xHx                      │ 2.788193702697754     │\n",
       "│ Misc/H_inv_g                  │ 1.5968708992004395    │\n",
       "│ Misc/AcceptanceStep           │ 0.0                   │\n",
       "│ Misc/cost_gradient_norm       │ 175.06271362304688    │\n",
       "│ Misc/A                        │ 0.874161958694458     │\n",
       "│ Misc/B                        │ 0.019578268751502037  │\n",
       "│ Misc/q                        │ 2.788193702697754     │\n",
       "│ Misc/r                        │ 47.023109436035156    │\n",
       "│ Misc/s                        │ 1155.2435302734375    │\n",
       "│ Misc/Lambda_star              │ 11.807188034057617    │\n",
       "│ Misc/Nu_star                  │ 0.0                   │\n",
       "│ Misc/OptimCase                │ 1.0                   │\n",
       "└───────────────────────────────┴───────────────────────┘\n",
       "</pre>\n"
      ],
      "text/plain": [
       "┏━━━━━━━━━━━━━━━━━━━━━━━━━━━━━━━┳━━━━━━━━━━━━━━━━━━━━━━━┓\n",
       "┃\u001b[1m \u001b[0m\u001b[1mMetrics                      \u001b[0m\u001b[1m \u001b[0m┃\u001b[1m \u001b[0m\u001b[1mValue                \u001b[0m\u001b[1m \u001b[0m┃\n",
       "┡━━━━━━━━━━━━━━━━━━━━━━━━━━━━━━━╇━━━━━━━━━━━━━━━━━━━━━━━┩\n",
       "│ Metrics/EpRet                 │ 73.65184020996094     │\n",
       "│ Metrics/EpCost                │ 25.697998046875       │\n",
       "│ Metrics/EpLen                 │ 6.0                   │\n",
       "│ Train/Epoch                   │ 44.0                  │\n",
       "│ Train/Entropy                 │ 0.8448125720024109    │\n",
       "│ Train/KL                      │ 5.54851133927059e-08  │\n",
       "│ Train/StopIter                │ 10.0                  │\n",
       "│ Train/PolicyRatio/Mean        │ 0.9983161687850952    │\n",
       "│ Train/PolicyRatio/Min         │ 0.9983161687850952    │\n",
       "│ Train/PolicyRatio/Max         │ 0.9983161687850952    │\n",
       "│ Train/PolicyRatio/Std         │ 0.0015738479560241103 │\n",
       "│ Train/LR                      │ 0.0                   │\n",
       "│ Train/PolicyStd               │ 0.5669183135032654    │\n",
       "│ TotalEnvSteps                 │ 900000.0              │\n",
       "│ Loss/Loss_pi                  │ -0.06176041066646576  │\n",
       "│ Loss/Loss_pi/Delta            │ -0.28230971097946167  │\n",
       "│ Value/Adv                     │ 3.852844088214624e-08 │\n",
       "│ Loss/Loss_reward_critic       │ 9937.197265625        │\n",
       "│ Loss/Loss_reward_critic/Delta │ 8825.510375976562     │\n",
       "│ Value/reward                  │ 26.216014862060547    │\n",
       "│ Loss/Loss_cost_critic         │ 604.0934448242188     │\n",
       "│ Loss/Loss_cost_critic/Delta   │ 393.97125244140625    │\n",
       "│ Value/cost                    │ 9.474525451660156     │\n",
       "│ Time/Total                    │ 2672.962158203125     │\n",
       "│ Time/Rollout                  │ 27.779582977294922    │\n",
       "│ Time/Update                   │ 30.59715461730957     │\n",
       "│ Time/Epoch                    │ 58.376739501953125    │\n",
       "│ Time/FPS                      │ 342.6022033691406     │\n",
       "│ Env/Success_counts            │ nan                   │\n",
       "│ Misc/Alpha                    │ 0.08469416946172714   │\n",
       "│ Misc/FinalStepNorm            │ 0.0                   │\n",
       "│ Misc/gradient_norm            │ 8.346671104431152     │\n",
       "│ Misc/xHx                      │ 2.788193702697754     │\n",
       "│ Misc/H_inv_g                  │ 1.5968708992004395    │\n",
       "│ Misc/AcceptanceStep           │ 0.0                   │\n",
       "│ Misc/cost_gradient_norm       │ 175.06271362304688    │\n",
       "│ Misc/A                        │ 0.874161958694458     │\n",
       "│ Misc/B                        │ 0.019578268751502037  │\n",
       "│ Misc/q                        │ 2.788193702697754     │\n",
       "│ Misc/r                        │ 47.023109436035156    │\n",
       "│ Misc/s                        │ 1155.2435302734375    │\n",
       "│ Misc/Lambda_star              │ 11.807188034057617    │\n",
       "│ Misc/Nu_star                  │ 0.0                   │\n",
       "│ Misc/OptimCase                │ 1.0                   │\n",
       "└───────────────────────────────┴───────────────────────┘\n"
      ]
     },
     "metadata": {},
     "output_type": "display_data"
    },
    {
     "data": {
      "text/html": [
       "<pre style=\"white-space:pre;overflow-x:auto;line-height:normal;font-family:Menlo,'DejaVu Sans Mono',consolas,'Courier New',monospace\"><span style=\"color: #008000; text-decoration-color: #008000\">Warning: trajectory cut off when rollout by epoch at </span><span style=\"color: #008080; text-decoration-color: #008080; font-weight: bold\">2.0</span><span style=\"color: #008000; text-decoration-color: #008000\"> steps.</span>\n",
       "</pre>\n"
      ],
      "text/plain": [
       "\u001b[32mWarning: trajectory cut off when rollout by epoch at \u001b[0m\u001b[1;36m2.0\u001b[0m\u001b[32m steps.\u001b[0m\n"
      ]
     },
     "metadata": {},
     "output_type": "display_data"
    },
    {
     "data": {
      "text/html": [
       "<pre style=\"white-space:pre;overflow-x:auto;line-height:normal;font-family:Menlo,'DejaVu Sans Mono',consolas,'Courier New',monospace\"></pre>\n"
      ],
      "text/plain": []
     },
     "metadata": {},
     "output_type": "display_data"
    },
    {
     "data": {
      "text/html": [
       "<pre style=\"white-space:pre;overflow-x:auto;line-height:normal;font-family:Menlo,'DejaVu Sans Mono',consolas,'Courier New',monospace\"><span style=\"color: #800000; text-decoration-color: #800000\">Alert! Attempting infeasible recovery!</span>\n",
       "</pre>\n"
      ],
      "text/plain": [
       "\u001b[31mAlert! Attempting infeasible recovery!\u001b[0m\n"
      ]
     },
     "metadata": {},
     "output_type": "display_data"
    },
    {
     "data": {
      "text/html": [
       "<pre style=\"white-space:pre;overflow-x:auto;line-height:normal;font-family:Menlo,'DejaVu Sans Mono',consolas,'Courier New',monospace\"><span style=\"color: #008000; text-decoration-color: #008000\">Expected Improvement: </span><span style=\"color: #008080; text-decoration-color: #008080; font-weight: bold\">-0.20492711663246155</span><span style=\"color: #008000; text-decoration-color: #008000\"> Actual: </span><span style=\"color: #008080; text-decoration-color: #008080; font-weight: bold\">-0.14772813022136688</span>\n",
       "</pre>\n"
      ],
      "text/plain": [
       "\u001b[32mExpected Improvement: \u001b[0m\u001b[1;36m-0.20492711663246155\u001b[0m\u001b[32m Actual: \u001b[0m\u001b[1;36m-0.14772813022136688\u001b[0m\n"
      ]
     },
     "metadata": {},
     "output_type": "display_data"
    },
    {
     "data": {
      "text/html": [
       "<pre style=\"white-space:pre;overflow-x:auto;line-height:normal;font-family:Menlo,'DejaVu Sans Mono',consolas,'Courier New',monospace\"><span style=\"color: #008000; text-decoration-color: #008000\">Accept step at </span><span style=\"color: #808000; text-decoration-color: #808000\">i</span><span style=\"color: #008000; text-decoration-color: #008000\">=</span><span style=\"color: #008080; text-decoration-color: #008080; font-weight: bold\">1</span>\n",
       "</pre>\n"
      ],
      "text/plain": [
       "\u001b[32mAccept step at \u001b[0m\u001b[33mi\u001b[0m\u001b[32m=\u001b[0m\u001b[1;36m1\u001b[0m\n"
      ]
     },
     "metadata": {},
     "output_type": "display_data"
    },
    {
     "data": {
      "text/html": [
       "<pre style=\"white-space:pre;overflow-x:auto;line-height:normal;font-family:Menlo,'DejaVu Sans Mono',consolas,'Courier New',monospace\">┏━━━━━━━━━━━━━━━━━━━━━━━━━━━━━━━┳━━━━━━━━━━━━━━━━━━━━━━━━┓\n",
       "┃<span style=\"font-weight: bold\"> Metrics                       </span>┃<span style=\"font-weight: bold\"> Value                  </span>┃\n",
       "┡━━━━━━━━━━━━━━━━━━━━━━━━━━━━━━━╇━━━━━━━━━━━━━━━━━━━━━━━━┩\n",
       "│ Metrics/EpRet                 │ 106.48733520507812     │\n",
       "│ Metrics/EpCost                │ 32.33884811401367      │\n",
       "│ Metrics/EpLen                 │ 6.0                    │\n",
       "│ Train/Epoch                   │ 45.0                   │\n",
       "│ Train/Entropy                 │ 0.8362865447998047     │\n",
       "│ Train/KL                      │ 0.0002879141829907894  │\n",
       "│ Train/StopIter                │ 10.0                   │\n",
       "│ Train/PolicyRatio/Mean        │ 0.9989126324653625     │\n",
       "│ Train/PolicyRatio/Min         │ 0.9989126324653625     │\n",
       "│ Train/PolicyRatio/Max         │ 0.9989126324653625     │\n",
       "│ Train/PolicyRatio/Std         │ 0.000768842815887183   │\n",
       "│ Train/LR                      │ 0.0                    │\n",
       "│ Train/PolicyStd               │ 0.5620362162590027     │\n",
       "│ TotalEnvSteps                 │ 920000.0               │\n",
       "│ Loss/Loss_pi                  │ -0.8203525543212891    │\n",
       "│ Loss/Loss_pi/Delta            │ -0.7585921436548233    │\n",
       "│ Value/Adv                     │ 2.7656554824062596e-09 │\n",
       "│ Loss/Loss_reward_critic       │ 9773.5693359375        │\n",
       "│ Loss/Loss_reward_critic/Delta │ -163.6279296875        │\n",
       "│ Value/reward                  │ 66.9694595336914       │\n",
       "│ Loss/Loss_cost_critic         │ 665.343017578125       │\n",
       "│ Loss/Loss_cost_critic/Delta   │ 61.24957275390625      │\n",
       "│ Value/cost                    │ 16.805988311767578     │\n",
       "│ Time/Total                    │ 2730.1474609375        │\n",
       "│ Time/Rollout                  │ 29.194320678710938     │\n",
       "│ Time/Update                   │ 27.94650650024414      │\n",
       "│ Time/Epoch                    │ 57.14082717895508      │\n",
       "│ Time/FPS                      │ 350.0124206542969      │\n",
       "│ Env/Success_counts            │ nan                    │\n",
       "│ Misc/Alpha                    │ 0.08190774917602539    │\n",
       "│ Misc/FinalStepNorm            │ 0.1273445039987564     │\n",
       "│ Misc/gradient_norm            │ 8.260798454284668      │\n",
       "│ Misc/xHx                      │ 2.981123447418213      │\n",
       "│ Misc/H_inv_g                  │ 1.4848172664642334     │\n",
       "│ Misc/AcceptanceStep           │ 1.0                    │\n",
       "│ Misc/cost_gradient_norm       │ 213.72994995117188     │\n",
       "│ Misc/A                        │ 0.8813669681549072     │\n",
       "│ Misc/B                        │ -0.018494870513677597  │\n",
       "│ Misc/q                        │ 2.981123447418213      │\n",
       "│ Misc/r                        │ 54.201454162597656     │\n",
       "│ Misc/s                        │ 1399.113525390625      │\n",
       "│ Misc/Lambda_star              │ 0.0                    │\n",
       "│ Misc/Nu_star                  │ 0.003780841827392578   │\n",
       "│ Misc/OptimCase                │ 0.0                    │\n",
       "└───────────────────────────────┴────────────────────────┘\n",
       "</pre>\n"
      ],
      "text/plain": [
       "┏━━━━━━━━━━━━━━━━━━━━━━━━━━━━━━━┳━━━━━━━━━━━━━━━━━━━━━━━━┓\n",
       "┃\u001b[1m \u001b[0m\u001b[1mMetrics                      \u001b[0m\u001b[1m \u001b[0m┃\u001b[1m \u001b[0m\u001b[1mValue                 \u001b[0m\u001b[1m \u001b[0m┃\n",
       "┡━━━━━━━━━━━━━━━━━━━━━━━━━━━━━━━╇━━━━━━━━━━━━━━━━━━━━━━━━┩\n",
       "│ Metrics/EpRet                 │ 106.48733520507812     │\n",
       "│ Metrics/EpCost                │ 32.33884811401367      │\n",
       "│ Metrics/EpLen                 │ 6.0                    │\n",
       "│ Train/Epoch                   │ 45.0                   │\n",
       "│ Train/Entropy                 │ 0.8362865447998047     │\n",
       "│ Train/KL                      │ 0.0002879141829907894  │\n",
       "│ Train/StopIter                │ 10.0                   │\n",
       "│ Train/PolicyRatio/Mean        │ 0.9989126324653625     │\n",
       "│ Train/PolicyRatio/Min         │ 0.9989126324653625     │\n",
       "│ Train/PolicyRatio/Max         │ 0.9989126324653625     │\n",
       "│ Train/PolicyRatio/Std         │ 0.000768842815887183   │\n",
       "│ Train/LR                      │ 0.0                    │\n",
       "│ Train/PolicyStd               │ 0.5620362162590027     │\n",
       "│ TotalEnvSteps                 │ 920000.0               │\n",
       "│ Loss/Loss_pi                  │ -0.8203525543212891    │\n",
       "│ Loss/Loss_pi/Delta            │ -0.7585921436548233    │\n",
       "│ Value/Adv                     │ 2.7656554824062596e-09 │\n",
       "│ Loss/Loss_reward_critic       │ 9773.5693359375        │\n",
       "│ Loss/Loss_reward_critic/Delta │ -163.6279296875        │\n",
       "│ Value/reward                  │ 66.9694595336914       │\n",
       "│ Loss/Loss_cost_critic         │ 665.343017578125       │\n",
       "│ Loss/Loss_cost_critic/Delta   │ 61.24957275390625      │\n",
       "│ Value/cost                    │ 16.805988311767578     │\n",
       "│ Time/Total                    │ 2730.1474609375        │\n",
       "│ Time/Rollout                  │ 29.194320678710938     │\n",
       "│ Time/Update                   │ 27.94650650024414      │\n",
       "│ Time/Epoch                    │ 57.14082717895508      │\n",
       "│ Time/FPS                      │ 350.0124206542969      │\n",
       "│ Env/Success_counts            │ nan                    │\n",
       "│ Misc/Alpha                    │ 0.08190774917602539    │\n",
       "│ Misc/FinalStepNorm            │ 0.1273445039987564     │\n",
       "│ Misc/gradient_norm            │ 8.260798454284668      │\n",
       "│ Misc/xHx                      │ 2.981123447418213      │\n",
       "│ Misc/H_inv_g                  │ 1.4848172664642334     │\n",
       "│ Misc/AcceptanceStep           │ 1.0                    │\n",
       "│ Misc/cost_gradient_norm       │ 213.72994995117188     │\n",
       "│ Misc/A                        │ 0.8813669681549072     │\n",
       "│ Misc/B                        │ -0.018494870513677597  │\n",
       "│ Misc/q                        │ 2.981123447418213      │\n",
       "│ Misc/r                        │ 54.201454162597656     │\n",
       "│ Misc/s                        │ 1399.113525390625      │\n",
       "│ Misc/Lambda_star              │ 0.0                    │\n",
       "│ Misc/Nu_star                  │ 0.003780841827392578   │\n",
       "│ Misc/OptimCase                │ 0.0                    │\n",
       "└───────────────────────────────┴────────────────────────┘\n"
      ]
     },
     "metadata": {},
     "output_type": "display_data"
    },
    {
     "data": {
      "text/html": [
       "<pre style=\"white-space:pre;overflow-x:auto;line-height:normal;font-family:Menlo,'DejaVu Sans Mono',consolas,'Courier New',monospace\"><span style=\"color: #008000; text-decoration-color: #008000\">Warning: trajectory cut off when rollout by epoch at </span><span style=\"color: #008080; text-decoration-color: #008080; font-weight: bold\">2.0</span><span style=\"color: #008000; text-decoration-color: #008000\"> steps.</span>\n",
       "</pre>\n"
      ],
      "text/plain": [
       "\u001b[32mWarning: trajectory cut off when rollout by epoch at \u001b[0m\u001b[1;36m2.0\u001b[0m\u001b[32m steps.\u001b[0m\n"
      ]
     },
     "metadata": {},
     "output_type": "display_data"
    },
    {
     "data": {
      "text/html": [
       "<pre style=\"white-space:pre;overflow-x:auto;line-height:normal;font-family:Menlo,'DejaVu Sans Mono',consolas,'Courier New',monospace\"></pre>\n"
      ],
      "text/plain": []
     },
     "metadata": {},
     "output_type": "display_data"
    },
    {
     "data": {
      "text/html": [
       "<pre style=\"white-space:pre;overflow-x:auto;line-height:normal;font-family:Menlo,'DejaVu Sans Mono',consolas,'Courier New',monospace\"><span style=\"color: #008000; text-decoration-color: #008000\">Expected Improvement: </span><span style=\"color: #008080; text-decoration-color: #008080; font-weight: bold\">0.17081166803836823</span><span style=\"color: #008000; text-decoration-color: #008000\"> Actual: </span><span style=\"color: #008080; text-decoration-color: #008080; font-weight: bold\">0.17929506301879883</span>\n",
       "</pre>\n"
      ],
      "text/plain": [
       "\u001b[32mExpected Improvement: \u001b[0m\u001b[1;36m0.17081166803836823\u001b[0m\u001b[32m Actual: \u001b[0m\u001b[1;36m0.17929506301879883\u001b[0m\n"
      ]
     },
     "metadata": {},
     "output_type": "display_data"
    },
    {
     "data": {
      "text/html": [
       "<pre style=\"white-space:pre;overflow-x:auto;line-height:normal;font-family:Menlo,'DejaVu Sans Mono',consolas,'Courier New',monospace\"><span style=\"color: #008000; text-decoration-color: #008000\">Accept step at </span><span style=\"color: #808000; text-decoration-color: #808000\">i</span><span style=\"color: #008000; text-decoration-color: #008000\">=</span><span style=\"color: #008080; text-decoration-color: #008080; font-weight: bold\">1</span>\n",
       "</pre>\n"
      ],
      "text/plain": [
       "\u001b[32mAccept step at \u001b[0m\u001b[33mi\u001b[0m\u001b[32m=\u001b[0m\u001b[1;36m1\u001b[0m\n"
      ]
     },
     "metadata": {},
     "output_type": "display_data"
    },
    {
     "data": {
      "text/html": [
       "<pre style=\"white-space:pre;overflow-x:auto;line-height:normal;font-family:Menlo,'DejaVu Sans Mono',consolas,'Courier New',monospace\">┏━━━━━━━━━━━━━━━━━━━━━━━━━━━━━━━┳━━━━━━━━━━━━━━━━━━━━━━━━┓\n",
       "┃<span style=\"font-weight: bold\"> Metrics                       </span>┃<span style=\"font-weight: bold\"> Value                  </span>┃\n",
       "┡━━━━━━━━━━━━━━━━━━━━━━━━━━━━━━━╇━━━━━━━━━━━━━━━━━━━━━━━━┩\n",
       "│ Metrics/EpRet                 │ 20.914384841918945     │\n",
       "│ Metrics/EpCost                │ 13.477670669555664     │\n",
       "│ Metrics/EpLen                 │ 6.0                    │\n",
       "│ Train/Epoch                   │ 46.0                   │\n",
       "│ Train/Entropy                 │ 0.835098922252655      │\n",
       "│ Train/KL                      │ 0.00022424022608902305 │\n",
       "│ Train/StopIter                │ 10.0                   │\n",
       "│ Train/PolicyRatio/Mean        │ 1.0080318450927734     │\n",
       "│ Train/PolicyRatio/Min         │ 1.0080318450927734     │\n",
       "│ Train/PolicyRatio/Max         │ 1.0080318450927734     │\n",
       "│ Train/PolicyRatio/Std         │ 0.005679371766746044   │\n",
       "│ Train/LR                      │ 0.0                    │\n",
       "│ Train/PolicyStd               │ 0.5614606142044067     │\n",
       "│ TotalEnvSteps                 │ 940000.0               │\n",
       "│ Loss/Loss_pi                  │ 0.23173120617866516    │\n",
       "│ Loss/Loss_pi/Delta            │ 1.0520837604999542     │\n",
       "│ Value/Adv                     │ -1.602172794434864e-08 │\n",
       "│ Loss/Loss_reward_critic       │ 1791.6240234375        │\n",
       "│ Loss/Loss_reward_critic/Delta │ -7981.9453125          │\n",
       "│ Value/reward                  │ 45.94711685180664      │\n",
       "│ Loss/Loss_cost_critic         │ 186.52764892578125     │\n",
       "│ Loss/Loss_cost_critic/Delta   │ -478.81536865234375    │\n",
       "│ Value/cost                    │ 13.972312927246094     │\n",
       "│ Time/Total                    │ 2785.28515625          │\n",
       "│ Time/Rollout                  │ 27.898319244384766     │\n",
       "│ Time/Update                   │ 27.194171905517578     │\n",
       "│ Time/Epoch                    │ 55.092491149902344     │\n",
       "│ Time/FPS                      │ 363.02587890625        │\n",
       "│ Env/Success_counts            │ nan                    │\n",
       "│ Misc/Alpha                    │ 0.1162351593375206     │\n",
       "│ Misc/FinalStepNorm            │ 0.17363610863685608    │\n",
       "│ Misc/gradient_norm            │ 4.789960861206055      │\n",
       "│ Misc/xHx                      │ 1.4803177118301392     │\n",
       "│ Misc/H_inv_g                  │ 1.4938347339630127     │\n",
       "│ Misc/AcceptanceStep           │ 1.0                    │\n",
       "│ Misc/cost_gradient_norm       │ 104.75369262695312     │\n",
       "│ Misc/A                        │ 0.7517833113670349     │\n",
       "│ Misc/B                        │ -0.19308780133724213   │\n",
       "│ Misc/q                        │ 1.4803177118301392     │\n",
       "│ Misc/r                        │ 21.305219650268555     │\n",
       "│ Misc/s                        │ 623.0486450195312      │\n",
       "│ Misc/Lambda_star              │ 8.603248596191406      │\n",
       "│ Misc/Nu_star                  │ 0.0                    │\n",
       "│ Misc/OptimCase                │ 3.0                    │\n",
       "└───────────────────────────────┴────────────────────────┘\n",
       "</pre>\n"
      ],
      "text/plain": [
       "┏━━━━━━━━━━━━━━━━━━━━━━━━━━━━━━━┳━━━━━━━━━━━━━━━━━━━━━━━━┓\n",
       "┃\u001b[1m \u001b[0m\u001b[1mMetrics                      \u001b[0m\u001b[1m \u001b[0m┃\u001b[1m \u001b[0m\u001b[1mValue                 \u001b[0m\u001b[1m \u001b[0m┃\n",
       "┡━━━━━━━━━━━━━━━━━━━━━━━━━━━━━━━╇━━━━━━━━━━━━━━━━━━━━━━━━┩\n",
       "│ Metrics/EpRet                 │ 20.914384841918945     │\n",
       "│ Metrics/EpCost                │ 13.477670669555664     │\n",
       "│ Metrics/EpLen                 │ 6.0                    │\n",
       "│ Train/Epoch                   │ 46.0                   │\n",
       "│ Train/Entropy                 │ 0.835098922252655      │\n",
       "│ Train/KL                      │ 0.00022424022608902305 │\n",
       "│ Train/StopIter                │ 10.0                   │\n",
       "│ Train/PolicyRatio/Mean        │ 1.0080318450927734     │\n",
       "│ Train/PolicyRatio/Min         │ 1.0080318450927734     │\n",
       "│ Train/PolicyRatio/Max         │ 1.0080318450927734     │\n",
       "│ Train/PolicyRatio/Std         │ 0.005679371766746044   │\n",
       "│ Train/LR                      │ 0.0                    │\n",
       "│ Train/PolicyStd               │ 0.5614606142044067     │\n",
       "│ TotalEnvSteps                 │ 940000.0               │\n",
       "│ Loss/Loss_pi                  │ 0.23173120617866516    │\n",
       "│ Loss/Loss_pi/Delta            │ 1.0520837604999542     │\n",
       "│ Value/Adv                     │ -1.602172794434864e-08 │\n",
       "│ Loss/Loss_reward_critic       │ 1791.6240234375        │\n",
       "│ Loss/Loss_reward_critic/Delta │ -7981.9453125          │\n",
       "│ Value/reward                  │ 45.94711685180664      │\n",
       "│ Loss/Loss_cost_critic         │ 186.52764892578125     │\n",
       "│ Loss/Loss_cost_critic/Delta   │ -478.81536865234375    │\n",
       "│ Value/cost                    │ 13.972312927246094     │\n",
       "│ Time/Total                    │ 2785.28515625          │\n",
       "│ Time/Rollout                  │ 27.898319244384766     │\n",
       "│ Time/Update                   │ 27.194171905517578     │\n",
       "│ Time/Epoch                    │ 55.092491149902344     │\n",
       "│ Time/FPS                      │ 363.02587890625        │\n",
       "│ Env/Success_counts            │ nan                    │\n",
       "│ Misc/Alpha                    │ 0.1162351593375206     │\n",
       "│ Misc/FinalStepNorm            │ 0.17363610863685608    │\n",
       "│ Misc/gradient_norm            │ 4.789960861206055      │\n",
       "│ Misc/xHx                      │ 1.4803177118301392     │\n",
       "│ Misc/H_inv_g                  │ 1.4938347339630127     │\n",
       "│ Misc/AcceptanceStep           │ 1.0                    │\n",
       "│ Misc/cost_gradient_norm       │ 104.75369262695312     │\n",
       "│ Misc/A                        │ 0.7517833113670349     │\n",
       "│ Misc/B                        │ -0.19308780133724213   │\n",
       "│ Misc/q                        │ 1.4803177118301392     │\n",
       "│ Misc/r                        │ 21.305219650268555     │\n",
       "│ Misc/s                        │ 623.0486450195312      │\n",
       "│ Misc/Lambda_star              │ 8.603248596191406      │\n",
       "│ Misc/Nu_star                  │ 0.0                    │\n",
       "│ Misc/OptimCase                │ 3.0                    │\n",
       "└───────────────────────────────┴────────────────────────┘\n"
      ]
     },
     "metadata": {},
     "output_type": "display_data"
    },
    {
     "data": {
      "text/html": [
       "<pre style=\"white-space:pre;overflow-x:auto;line-height:normal;font-family:Menlo,'DejaVu Sans Mono',consolas,'Courier New',monospace\"><span style=\"color: #008000; text-decoration-color: #008000\">Warning: trajectory cut off when rollout by epoch at </span><span style=\"color: #008080; text-decoration-color: #008080; font-weight: bold\">2.0</span><span style=\"color: #008000; text-decoration-color: #008000\"> steps.</span>\n",
       "</pre>\n"
      ],
      "text/plain": [
       "\u001b[32mWarning: trajectory cut off when rollout by epoch at \u001b[0m\u001b[1;36m2.0\u001b[0m\u001b[32m steps.\u001b[0m\n"
      ]
     },
     "metadata": {},
     "output_type": "display_data"
    },
    {
     "data": {
      "text/html": [
       "<pre style=\"white-space:pre;overflow-x:auto;line-height:normal;font-family:Menlo,'DejaVu Sans Mono',consolas,'Courier New',monospace\"></pre>\n"
      ],
      "text/plain": []
     },
     "metadata": {},
     "output_type": "display_data"
    },
    {
     "data": {
      "text/html": [
       "<pre style=\"white-space:pre;overflow-x:auto;line-height:normal;font-family:Menlo,'DejaVu Sans Mono',consolas,'Courier New',monospace\"><span style=\"color: #008000; text-decoration-color: #008000\">Expected Improvement: </span><span style=\"color: #008080; text-decoration-color: #008080; font-weight: bold\">-0.1482771933078766</span><span style=\"color: #008000; text-decoration-color: #008000\"> Actual: </span><span style=\"color: #008080; text-decoration-color: #008080; font-weight: bold\">-0.10714491456747055</span>\n",
       "</pre>\n"
      ],
      "text/plain": [
       "\u001b[32mExpected Improvement: \u001b[0m\u001b[1;36m-0.1482771933078766\u001b[0m\u001b[32m Actual: \u001b[0m\u001b[1;36m-0.10714491456747055\u001b[0m\n"
      ]
     },
     "metadata": {},
     "output_type": "display_data"
    },
    {
     "data": {
      "text/html": [
       "<pre style=\"white-space:pre;overflow-x:auto;line-height:normal;font-family:Menlo,'DejaVu Sans Mono',consolas,'Courier New',monospace\"><span style=\"color: #008000; text-decoration-color: #008000\">INFO: did not improve improve &lt;</span><span style=\"color: #008080; text-decoration-color: #008080; font-weight: bold\">0</span>\n",
       "</pre>\n"
      ],
      "text/plain": [
       "\u001b[32mINFO: did not improve improve <\u001b[0m\u001b[1;36m0\u001b[0m\n"
      ]
     },
     "metadata": {},
     "output_type": "display_data"
    },
    {
     "data": {
      "text/html": [
       "<pre style=\"white-space:pre;overflow-x:auto;line-height:normal;font-family:Menlo,'DejaVu Sans Mono',consolas,'Courier New',monospace\"><span style=\"color: #008000; text-decoration-color: #008000\">Expected Improvement: </span><span style=\"color: #008080; text-decoration-color: #008080; font-weight: bold\">-0.1482771933078766</span><span style=\"color: #008000; text-decoration-color: #008000\"> Actual: </span><span style=\"color: #008080; text-decoration-color: #008080; font-weight: bold\">-0.0909164622426033</span>\n",
       "</pre>\n"
      ],
      "text/plain": [
       "\u001b[32mExpected Improvement: \u001b[0m\u001b[1;36m-0.1482771933078766\u001b[0m\u001b[32m Actual: \u001b[0m\u001b[1;36m-0.0909164622426033\u001b[0m\n"
      ]
     },
     "metadata": {},
     "output_type": "display_data"
    },
    {
     "data": {
      "text/html": [
       "<pre style=\"white-space:pre;overflow-x:auto;line-height:normal;font-family:Menlo,'DejaVu Sans Mono',consolas,'Courier New',monospace\"><span style=\"color: #008000; text-decoration-color: #008000\">INFO: did not improve improve &lt;</span><span style=\"color: #008080; text-decoration-color: #008080; font-weight: bold\">0</span>\n",
       "</pre>\n"
      ],
      "text/plain": [
       "\u001b[32mINFO: did not improve improve <\u001b[0m\u001b[1;36m0\u001b[0m\n"
      ]
     },
     "metadata": {},
     "output_type": "display_data"
    },
    {
     "data": {
      "text/html": [
       "<pre style=\"white-space:pre;overflow-x:auto;line-height:normal;font-family:Menlo,'DejaVu Sans Mono',consolas,'Courier New',monospace\"><span style=\"color: #008000; text-decoration-color: #008000\">Expected Improvement: </span><span style=\"color: #008080; text-decoration-color: #008080; font-weight: bold\">-0.1482771933078766</span><span style=\"color: #008000; text-decoration-color: #008000\"> Actual: </span><span style=\"color: #008080; text-decoration-color: #008080; font-weight: bold\">-0.0764029249548912</span>\n",
       "</pre>\n"
      ],
      "text/plain": [
       "\u001b[32mExpected Improvement: \u001b[0m\u001b[1;36m-0.1482771933078766\u001b[0m\u001b[32m Actual: \u001b[0m\u001b[1;36m-0.0764029249548912\u001b[0m\n"
      ]
     },
     "metadata": {},
     "output_type": "display_data"
    },
    {
     "data": {
      "text/html": [
       "<pre style=\"white-space:pre;overflow-x:auto;line-height:normal;font-family:Menlo,'DejaVu Sans Mono',consolas,'Courier New',monospace\"><span style=\"color: #008000; text-decoration-color: #008000\">INFO: did not improve improve &lt;</span><span style=\"color: #008080; text-decoration-color: #008080; font-weight: bold\">0</span>\n",
       "</pre>\n"
      ],
      "text/plain": [
       "\u001b[32mINFO: did not improve improve <\u001b[0m\u001b[1;36m0\u001b[0m\n"
      ]
     },
     "metadata": {},
     "output_type": "display_data"
    },
    {
     "data": {
      "text/html": [
       "<pre style=\"white-space:pre;overflow-x:auto;line-height:normal;font-family:Menlo,'DejaVu Sans Mono',consolas,'Courier New',monospace\"><span style=\"color: #008000; text-decoration-color: #008000\">Expected Improvement: </span><span style=\"color: #008080; text-decoration-color: #008080; font-weight: bold\">-0.1482771933078766</span><span style=\"color: #008000; text-decoration-color: #008000\"> Actual: </span><span style=\"color: #008080; text-decoration-color: #008080; font-weight: bold\">-0.06370757520198822</span>\n",
       "</pre>\n"
      ],
      "text/plain": [
       "\u001b[32mExpected Improvement: \u001b[0m\u001b[1;36m-0.1482771933078766\u001b[0m\u001b[32m Actual: \u001b[0m\u001b[1;36m-0.06370757520198822\u001b[0m\n"
      ]
     },
     "metadata": {},
     "output_type": "display_data"
    },
    {
     "data": {
      "text/html": [
       "<pre style=\"white-space:pre;overflow-x:auto;line-height:normal;font-family:Menlo,'DejaVu Sans Mono',consolas,'Courier New',monospace\"><span style=\"color: #008000; text-decoration-color: #008000\">INFO: did not improve improve &lt;</span><span style=\"color: #008080; text-decoration-color: #008080; font-weight: bold\">0</span>\n",
       "</pre>\n"
      ],
      "text/plain": [
       "\u001b[32mINFO: did not improve improve <\u001b[0m\u001b[1;36m0\u001b[0m\n"
      ]
     },
     "metadata": {},
     "output_type": "display_data"
    },
    {
     "data": {
      "text/html": [
       "<pre style=\"white-space:pre;overflow-x:auto;line-height:normal;font-family:Menlo,'DejaVu Sans Mono',consolas,'Courier New',monospace\"><span style=\"color: #008000; text-decoration-color: #008000\">Expected Improvement: </span><span style=\"color: #008080; text-decoration-color: #008080; font-weight: bold\">-0.1482771933078766</span><span style=\"color: #008000; text-decoration-color: #008000\"> Actual: </span><span style=\"color: #008080; text-decoration-color: #008080; font-weight: bold\">-0.05277886241674423</span>\n",
       "</pre>\n"
      ],
      "text/plain": [
       "\u001b[32mExpected Improvement: \u001b[0m\u001b[1;36m-0.1482771933078766\u001b[0m\u001b[32m Actual: \u001b[0m\u001b[1;36m-0.05277886241674423\u001b[0m\n"
      ]
     },
     "metadata": {},
     "output_type": "display_data"
    },
    {
     "data": {
      "text/html": [
       "<pre style=\"white-space:pre;overflow-x:auto;line-height:normal;font-family:Menlo,'DejaVu Sans Mono',consolas,'Courier New',monospace\"><span style=\"color: #008000; text-decoration-color: #008000\">INFO: did not improve improve &lt;</span><span style=\"color: #008080; text-decoration-color: #008080; font-weight: bold\">0</span>\n",
       "</pre>\n"
      ],
      "text/plain": [
       "\u001b[32mINFO: did not improve improve <\u001b[0m\u001b[1;36m0\u001b[0m\n"
      ]
     },
     "metadata": {},
     "output_type": "display_data"
    },
    {
     "data": {
      "text/html": [
       "<pre style=\"white-space:pre;overflow-x:auto;line-height:normal;font-family:Menlo,'DejaVu Sans Mono',consolas,'Courier New',monospace\"><span style=\"color: #008000; text-decoration-color: #008000\">Expected Improvement: </span><span style=\"color: #008080; text-decoration-color: #008080; font-weight: bold\">-0.1482771933078766</span><span style=\"color: #008000; text-decoration-color: #008000\"> Actual: </span><span style=\"color: #008080; text-decoration-color: #008080; font-weight: bold\">-0.043441563844680786</span>\n",
       "</pre>\n"
      ],
      "text/plain": [
       "\u001b[32mExpected Improvement: \u001b[0m\u001b[1;36m-0.1482771933078766\u001b[0m\u001b[32m Actual: \u001b[0m\u001b[1;36m-0.043441563844680786\u001b[0m\n"
      ]
     },
     "metadata": {},
     "output_type": "display_data"
    },
    {
     "data": {
      "text/html": [
       "<pre style=\"white-space:pre;overflow-x:auto;line-height:normal;font-family:Menlo,'DejaVu Sans Mono',consolas,'Courier New',monospace\"><span style=\"color: #008000; text-decoration-color: #008000\">INFO: did not improve improve &lt;</span><span style=\"color: #008080; text-decoration-color: #008080; font-weight: bold\">0</span>\n",
       "</pre>\n"
      ],
      "text/plain": [
       "\u001b[32mINFO: did not improve improve <\u001b[0m\u001b[1;36m0\u001b[0m\n"
      ]
     },
     "metadata": {},
     "output_type": "display_data"
    },
    {
     "data": {
      "text/html": [
       "<pre style=\"white-space:pre;overflow-x:auto;line-height:normal;font-family:Menlo,'DejaVu Sans Mono',consolas,'Courier New',monospace\"><span style=\"color: #008000; text-decoration-color: #008000\">Expected Improvement: </span><span style=\"color: #008080; text-decoration-color: #008080; font-weight: bold\">-0.1482771933078766</span><span style=\"color: #008000; text-decoration-color: #008000\"> Actual: </span><span style=\"color: #008080; text-decoration-color: #008080; font-weight: bold\">-0.03553144633769989</span>\n",
       "</pre>\n"
      ],
      "text/plain": [
       "\u001b[32mExpected Improvement: \u001b[0m\u001b[1;36m-0.1482771933078766\u001b[0m\u001b[32m Actual: \u001b[0m\u001b[1;36m-0.03553144633769989\u001b[0m\n"
      ]
     },
     "metadata": {},
     "output_type": "display_data"
    },
    {
     "data": {
      "text/html": [
       "<pre style=\"white-space:pre;overflow-x:auto;line-height:normal;font-family:Menlo,'DejaVu Sans Mono',consolas,'Courier New',monospace\"><span style=\"color: #008000; text-decoration-color: #008000\">INFO: did not improve improve &lt;</span><span style=\"color: #008080; text-decoration-color: #008080; font-weight: bold\">0</span>\n",
       "</pre>\n"
      ],
      "text/plain": [
       "\u001b[32mINFO: did not improve improve <\u001b[0m\u001b[1;36m0\u001b[0m\n"
      ]
     },
     "metadata": {},
     "output_type": "display_data"
    },
    {
     "data": {
      "text/html": [
       "<pre style=\"white-space:pre;overflow-x:auto;line-height:normal;font-family:Menlo,'DejaVu Sans Mono',consolas,'Courier New',monospace\"><span style=\"color: #008000; text-decoration-color: #008000\">Expected Improvement: </span><span style=\"color: #008080; text-decoration-color: #008080; font-weight: bold\">-0.1482771933078766</span><span style=\"color: #008000; text-decoration-color: #008000\"> Actual: </span><span style=\"color: #008080; text-decoration-color: #008080; font-weight: bold\">-0.02893347106873989</span>\n",
       "</pre>\n"
      ],
      "text/plain": [
       "\u001b[32mExpected Improvement: \u001b[0m\u001b[1;36m-0.1482771933078766\u001b[0m\u001b[32m Actual: \u001b[0m\u001b[1;36m-0.02893347106873989\u001b[0m\n"
      ]
     },
     "metadata": {},
     "output_type": "display_data"
    },
    {
     "data": {
      "text/html": [
       "<pre style=\"white-space:pre;overflow-x:auto;line-height:normal;font-family:Menlo,'DejaVu Sans Mono',consolas,'Courier New',monospace\"><span style=\"color: #008000; text-decoration-color: #008000\">INFO: did not improve improve &lt;</span><span style=\"color: #008080; text-decoration-color: #008080; font-weight: bold\">0</span>\n",
       "</pre>\n"
      ],
      "text/plain": [
       "\u001b[32mINFO: did not improve improve <\u001b[0m\u001b[1;36m0\u001b[0m\n"
      ]
     },
     "metadata": {},
     "output_type": "display_data"
    },
    {
     "data": {
      "text/html": [
       "<pre style=\"white-space:pre;overflow-x:auto;line-height:normal;font-family:Menlo,'DejaVu Sans Mono',consolas,'Courier New',monospace\"><span style=\"color: #008000; text-decoration-color: #008000\">Expected Improvement: </span><span style=\"color: #008080; text-decoration-color: #008080; font-weight: bold\">-0.1482771933078766</span><span style=\"color: #008000; text-decoration-color: #008000\"> Actual: </span><span style=\"color: #008080; text-decoration-color: #008080; font-weight: bold\">-0.02348158322274685</span>\n",
       "</pre>\n"
      ],
      "text/plain": [
       "\u001b[32mExpected Improvement: \u001b[0m\u001b[1;36m-0.1482771933078766\u001b[0m\u001b[32m Actual: \u001b[0m\u001b[1;36m-0.02348158322274685\u001b[0m\n"
      ]
     },
     "metadata": {},
     "output_type": "display_data"
    },
    {
     "data": {
      "text/html": [
       "<pre style=\"white-space:pre;overflow-x:auto;line-height:normal;font-family:Menlo,'DejaVu Sans Mono',consolas,'Courier New',monospace\"><span style=\"color: #008000; text-decoration-color: #008000\">INFO: did not improve improve &lt;</span><span style=\"color: #008080; text-decoration-color: #008080; font-weight: bold\">0</span>\n",
       "</pre>\n"
      ],
      "text/plain": [
       "\u001b[32mINFO: did not improve improve <\u001b[0m\u001b[1;36m0\u001b[0m\n"
      ]
     },
     "metadata": {},
     "output_type": "display_data"
    },
    {
     "data": {
      "text/html": [
       "<pre style=\"white-space:pre;overflow-x:auto;line-height:normal;font-family:Menlo,'DejaVu Sans Mono',consolas,'Courier New',monospace\"><span style=\"color: #008000; text-decoration-color: #008000\">Expected Improvement: </span><span style=\"color: #008080; text-decoration-color: #008080; font-weight: bold\">-0.1482771933078766</span><span style=\"color: #008000; text-decoration-color: #008000\"> Actual: </span><span style=\"color: #008080; text-decoration-color: #008080; font-weight: bold\">-0.019003937020897865</span>\n",
       "</pre>\n"
      ],
      "text/plain": [
       "\u001b[32mExpected Improvement: \u001b[0m\u001b[1;36m-0.1482771933078766\u001b[0m\u001b[32m Actual: \u001b[0m\u001b[1;36m-0.019003937020897865\u001b[0m\n"
      ]
     },
     "metadata": {},
     "output_type": "display_data"
    },
    {
     "data": {
      "text/html": [
       "<pre style=\"white-space:pre;overflow-x:auto;line-height:normal;font-family:Menlo,'DejaVu Sans Mono',consolas,'Courier New',monospace\"><span style=\"color: #008000; text-decoration-color: #008000\">INFO: did not improve improve &lt;</span><span style=\"color: #008080; text-decoration-color: #008080; font-weight: bold\">0</span>\n",
       "</pre>\n"
      ],
      "text/plain": [
       "\u001b[32mINFO: did not improve improve <\u001b[0m\u001b[1;36m0\u001b[0m\n"
      ]
     },
     "metadata": {},
     "output_type": "display_data"
    },
    {
     "data": {
      "text/html": [
       "<pre style=\"white-space:pre;overflow-x:auto;line-height:normal;font-family:Menlo,'DejaVu Sans Mono',consolas,'Courier New',monospace\"><span style=\"color: #008000; text-decoration-color: #008000\">Expected Improvement: </span><span style=\"color: #008080; text-decoration-color: #008080; font-weight: bold\">-0.1482771933078766</span><span style=\"color: #008000; text-decoration-color: #008000\"> Actual: </span><span style=\"color: #008080; text-decoration-color: #008080; font-weight: bold\">-0.015345483087003231</span>\n",
       "</pre>\n"
      ],
      "text/plain": [
       "\u001b[32mExpected Improvement: \u001b[0m\u001b[1;36m-0.1482771933078766\u001b[0m\u001b[32m Actual: \u001b[0m\u001b[1;36m-0.015345483087003231\u001b[0m\n"
      ]
     },
     "metadata": {},
     "output_type": "display_data"
    },
    {
     "data": {
      "text/html": [
       "<pre style=\"white-space:pre;overflow-x:auto;line-height:normal;font-family:Menlo,'DejaVu Sans Mono',consolas,'Courier New',monospace\"><span style=\"color: #008000; text-decoration-color: #008000\">INFO: did not improve improve &lt;</span><span style=\"color: #008080; text-decoration-color: #008080; font-weight: bold\">0</span>\n",
       "</pre>\n"
      ],
      "text/plain": [
       "\u001b[32mINFO: did not improve improve <\u001b[0m\u001b[1;36m0\u001b[0m\n"
      ]
     },
     "metadata": {},
     "output_type": "display_data"
    },
    {
     "data": {
      "text/html": [
       "<pre style=\"white-space:pre;overflow-x:auto;line-height:normal;font-family:Menlo,'DejaVu Sans Mono',consolas,'Courier New',monospace\"><span style=\"color: #008000; text-decoration-color: #008000\">Expected Improvement: </span><span style=\"color: #008080; text-decoration-color: #008080; font-weight: bold\">-0.1482771933078766</span><span style=\"color: #008000; text-decoration-color: #008000\"> Actual: </span><span style=\"color: #008080; text-decoration-color: #008080; font-weight: bold\">-0.012367337010800838</span>\n",
       "</pre>\n"
      ],
      "text/plain": [
       "\u001b[32mExpected Improvement: \u001b[0m\u001b[1;36m-0.1482771933078766\u001b[0m\u001b[32m Actual: \u001b[0m\u001b[1;36m-0.012367337010800838\u001b[0m\n"
      ]
     },
     "metadata": {},
     "output_type": "display_data"
    },
    {
     "data": {
      "text/html": [
       "<pre style=\"white-space:pre;overflow-x:auto;line-height:normal;font-family:Menlo,'DejaVu Sans Mono',consolas,'Courier New',monospace\"><span style=\"color: #008000; text-decoration-color: #008000\">INFO: did not improve improve &lt;</span><span style=\"color: #008080; text-decoration-color: #008080; font-weight: bold\">0</span>\n",
       "</pre>\n"
      ],
      "text/plain": [
       "\u001b[32mINFO: did not improve improve <\u001b[0m\u001b[1;36m0\u001b[0m\n"
      ]
     },
     "metadata": {},
     "output_type": "display_data"
    },
    {
     "data": {
      "text/html": [
       "<pre style=\"white-space:pre;overflow-x:auto;line-height:normal;font-family:Menlo,'DejaVu Sans Mono',consolas,'Courier New',monospace\"><span style=\"color: #008000; text-decoration-color: #008000\">Expected Improvement: </span><span style=\"color: #008080; text-decoration-color: #008080; font-weight: bold\">-0.1482771933078766</span><span style=\"color: #008000; text-decoration-color: #008000\"> Actual: </span><span style=\"color: #008080; text-decoration-color: #008080; font-weight: bold\">-0.009952681139111519</span>\n",
       "</pre>\n"
      ],
      "text/plain": [
       "\u001b[32mExpected Improvement: \u001b[0m\u001b[1;36m-0.1482771933078766\u001b[0m\u001b[32m Actual: \u001b[0m\u001b[1;36m-0.009952681139111519\u001b[0m\n"
      ]
     },
     "metadata": {},
     "output_type": "display_data"
    },
    {
     "data": {
      "text/html": [
       "<pre style=\"white-space:pre;overflow-x:auto;line-height:normal;font-family:Menlo,'DejaVu Sans Mono',consolas,'Courier New',monospace\"><span style=\"color: #008000; text-decoration-color: #008000\">INFO: did not improve improve &lt;</span><span style=\"color: #008080; text-decoration-color: #008080; font-weight: bold\">0</span>\n",
       "</pre>\n"
      ],
      "text/plain": [
       "\u001b[32mINFO: did not improve improve <\u001b[0m\u001b[1;36m0\u001b[0m\n"
      ]
     },
     "metadata": {},
     "output_type": "display_data"
    },
    {
     "data": {
      "text/html": [
       "<pre style=\"white-space:pre;overflow-x:auto;line-height:normal;font-family:Menlo,'DejaVu Sans Mono',consolas,'Courier New',monospace\"><span style=\"color: #008000; text-decoration-color: #008000\">Expected Improvement: </span><span style=\"color: #008080; text-decoration-color: #008080; font-weight: bold\">-0.1482771933078766</span><span style=\"color: #008000; text-decoration-color: #008000\"> Actual: </span><span style=\"color: #008080; text-decoration-color: #008080; font-weight: bold\">-0.007999956607818604</span>\n",
       "</pre>\n"
      ],
      "text/plain": [
       "\u001b[32mExpected Improvement: \u001b[0m\u001b[1;36m-0.1482771933078766\u001b[0m\u001b[32m Actual: \u001b[0m\u001b[1;36m-0.007999956607818604\u001b[0m\n"
      ]
     },
     "metadata": {},
     "output_type": "display_data"
    },
    {
     "data": {
      "text/html": [
       "<pre style=\"white-space:pre;overflow-x:auto;line-height:normal;font-family:Menlo,'DejaVu Sans Mono',consolas,'Courier New',monospace\"><span style=\"color: #008000; text-decoration-color: #008000\">INFO: did not improve improve &lt;</span><span style=\"color: #008080; text-decoration-color: #008080; font-weight: bold\">0</span>\n",
       "</pre>\n"
      ],
      "text/plain": [
       "\u001b[32mINFO: did not improve improve <\u001b[0m\u001b[1;36m0\u001b[0m\n"
      ]
     },
     "metadata": {},
     "output_type": "display_data"
    },
    {
     "data": {
      "text/html": [
       "<pre style=\"white-space:pre;overflow-x:auto;line-height:normal;font-family:Menlo,'DejaVu Sans Mono',consolas,'Courier New',monospace\"><span style=\"color: #008000; text-decoration-color: #008000\">Expected Improvement: </span><span style=\"color: #008080; text-decoration-color: #008080; font-weight: bold\">-0.1482771933078766</span><span style=\"color: #008000; text-decoration-color: #008000\"> Actual: </span><span style=\"color: #008080; text-decoration-color: #008080; font-weight: bold\">-0.006424910854548216</span>\n",
       "</pre>\n"
      ],
      "text/plain": [
       "\u001b[32mExpected Improvement: \u001b[0m\u001b[1;36m-0.1482771933078766\u001b[0m\u001b[32m Actual: \u001b[0m\u001b[1;36m-0.006424910854548216\u001b[0m\n"
      ]
     },
     "metadata": {},
     "output_type": "display_data"
    },
    {
     "data": {
      "text/html": [
       "<pre style=\"white-space:pre;overflow-x:auto;line-height:normal;font-family:Menlo,'DejaVu Sans Mono',consolas,'Courier New',monospace\"><span style=\"color: #008000; text-decoration-color: #008000\">INFO: did not improve improve &lt;</span><span style=\"color: #008080; text-decoration-color: #008080; font-weight: bold\">0</span>\n",
       "</pre>\n"
      ],
      "text/plain": [
       "\u001b[32mINFO: did not improve improve <\u001b[0m\u001b[1;36m0\u001b[0m\n"
      ]
     },
     "metadata": {},
     "output_type": "display_data"
    },
    {
     "data": {
      "text/html": [
       "<pre style=\"white-space:pre;overflow-x:auto;line-height:normal;font-family:Menlo,'DejaVu Sans Mono',consolas,'Courier New',monospace\"><span style=\"color: #008000; text-decoration-color: #008000\">Expected Improvement: </span><span style=\"color: #008080; text-decoration-color: #008080; font-weight: bold\">-0.1482771933078766</span><span style=\"color: #008000; text-decoration-color: #008000\"> Actual: </span><span style=\"color: #008080; text-decoration-color: #008080; font-weight: bold\">-0.005155867896974087</span>\n",
       "</pre>\n"
      ],
      "text/plain": [
       "\u001b[32mExpected Improvement: \u001b[0m\u001b[1;36m-0.1482771933078766\u001b[0m\u001b[32m Actual: \u001b[0m\u001b[1;36m-0.005155867896974087\u001b[0m\n"
      ]
     },
     "metadata": {},
     "output_type": "display_data"
    },
    {
     "data": {
      "text/html": [
       "<pre style=\"white-space:pre;overflow-x:auto;line-height:normal;font-family:Menlo,'DejaVu Sans Mono',consolas,'Courier New',monospace\"><span style=\"color: #008000; text-decoration-color: #008000\">INFO: did not improve improve &lt;</span><span style=\"color: #008080; text-decoration-color: #008080; font-weight: bold\">0</span>\n",
       "</pre>\n"
      ],
      "text/plain": [
       "\u001b[32mINFO: did not improve improve <\u001b[0m\u001b[1;36m0\u001b[0m\n"
      ]
     },
     "metadata": {},
     "output_type": "display_data"
    },
    {
     "data": {
      "text/html": [
       "<pre style=\"white-space:pre;overflow-x:auto;line-height:normal;font-family:Menlo,'DejaVu Sans Mono',consolas,'Courier New',monospace\"><span style=\"color: #008000; text-decoration-color: #008000\">Expected Improvement: </span><span style=\"color: #008080; text-decoration-color: #008080; font-weight: bold\">-0.1482771933078766</span><span style=\"color: #008000; text-decoration-color: #008000\"> Actual: </span><span style=\"color: #008080; text-decoration-color: #008080; font-weight: bold\">-0.004134735092520714</span>\n",
       "</pre>\n"
      ],
      "text/plain": [
       "\u001b[32mExpected Improvement: \u001b[0m\u001b[1;36m-0.1482771933078766\u001b[0m\u001b[32m Actual: \u001b[0m\u001b[1;36m-0.004134735092520714\u001b[0m\n"
      ]
     },
     "metadata": {},
     "output_type": "display_data"
    },
    {
     "data": {
      "text/html": [
       "<pre style=\"white-space:pre;overflow-x:auto;line-height:normal;font-family:Menlo,'DejaVu Sans Mono',consolas,'Courier New',monospace\"><span style=\"color: #008000; text-decoration-color: #008000\">INFO: did not improve improve &lt;</span><span style=\"color: #008080; text-decoration-color: #008080; font-weight: bold\">0</span>\n",
       "</pre>\n"
      ],
      "text/plain": [
       "\u001b[32mINFO: did not improve improve <\u001b[0m\u001b[1;36m0\u001b[0m\n"
      ]
     },
     "metadata": {},
     "output_type": "display_data"
    },
    {
     "data": {
      "text/html": [
       "<pre style=\"white-space:pre;overflow-x:auto;line-height:normal;font-family:Menlo,'DejaVu Sans Mono',consolas,'Courier New',monospace\"><span style=\"color: #008000; text-decoration-color: #008000\">Expected Improvement: </span><span style=\"color: #008080; text-decoration-color: #008080; font-weight: bold\">-0.1482771933078766</span><span style=\"color: #008000; text-decoration-color: #008000\"> Actual: </span><span style=\"color: #008080; text-decoration-color: #008080; font-weight: bold\">-0.003314053174108267</span>\n",
       "</pre>\n"
      ],
      "text/plain": [
       "\u001b[32mExpected Improvement: \u001b[0m\u001b[1;36m-0.1482771933078766\u001b[0m\u001b[32m Actual: \u001b[0m\u001b[1;36m-0.003314053174108267\u001b[0m\n"
      ]
     },
     "metadata": {},
     "output_type": "display_data"
    },
    {
     "data": {
      "text/html": [
       "<pre style=\"white-space:pre;overflow-x:auto;line-height:normal;font-family:Menlo,'DejaVu Sans Mono',consolas,'Courier New',monospace\"><span style=\"color: #008000; text-decoration-color: #008000\">INFO: did not improve improve &lt;</span><span style=\"color: #008080; text-decoration-color: #008080; font-weight: bold\">0</span>\n",
       "</pre>\n"
      ],
      "text/plain": [
       "\u001b[32mINFO: did not improve improve <\u001b[0m\u001b[1;36m0\u001b[0m\n"
      ]
     },
     "metadata": {},
     "output_type": "display_data"
    },
    {
     "data": {
      "text/html": [
       "<pre style=\"white-space:pre;overflow-x:auto;line-height:normal;font-family:Menlo,'DejaVu Sans Mono',consolas,'Courier New',monospace\"><span style=\"color: #008000; text-decoration-color: #008000\">Expected Improvement: </span><span style=\"color: #008080; text-decoration-color: #008080; font-weight: bold\">-0.1482771933078766</span><span style=\"color: #008000; text-decoration-color: #008000\"> Actual: </span><span style=\"color: #008080; text-decoration-color: #008080; font-weight: bold\">-0.0026551962364465</span>\n",
       "</pre>\n"
      ],
      "text/plain": [
       "\u001b[32mExpected Improvement: \u001b[0m\u001b[1;36m-0.1482771933078766\u001b[0m\u001b[32m Actual: \u001b[0m\u001b[1;36m-0.0026551962364465\u001b[0m\n"
      ]
     },
     "metadata": {},
     "output_type": "display_data"
    },
    {
     "data": {
      "text/html": [
       "<pre style=\"white-space:pre;overflow-x:auto;line-height:normal;font-family:Menlo,'DejaVu Sans Mono',consolas,'Courier New',monospace\"><span style=\"color: #008000; text-decoration-color: #008000\">INFO: did not improve improve &lt;</span><span style=\"color: #008080; text-decoration-color: #008080; font-weight: bold\">0</span>\n",
       "</pre>\n"
      ],
      "text/plain": [
       "\u001b[32mINFO: did not improve improve <\u001b[0m\u001b[1;36m0\u001b[0m\n"
      ]
     },
     "metadata": {},
     "output_type": "display_data"
    },
    {
     "data": {
      "text/html": [
       "<pre style=\"white-space:pre;overflow-x:auto;line-height:normal;font-family:Menlo,'DejaVu Sans Mono',consolas,'Courier New',monospace\"><span style=\"color: #008000; text-decoration-color: #008000\">Expected Improvement: </span><span style=\"color: #008080; text-decoration-color: #008080; font-weight: bold\">-0.1482771933078766</span><span style=\"color: #008000; text-decoration-color: #008000\"> Actual: </span><span style=\"color: #008080; text-decoration-color: #008080; font-weight: bold\">-0.002126693958416581</span>\n",
       "</pre>\n"
      ],
      "text/plain": [
       "\u001b[32mExpected Improvement: \u001b[0m\u001b[1;36m-0.1482771933078766\u001b[0m\u001b[32m Actual: \u001b[0m\u001b[1;36m-0.002126693958416581\u001b[0m\n"
      ]
     },
     "metadata": {},
     "output_type": "display_data"
    },
    {
     "data": {
      "text/html": [
       "<pre style=\"white-space:pre;overflow-x:auto;line-height:normal;font-family:Menlo,'DejaVu Sans Mono',consolas,'Courier New',monospace\"><span style=\"color: #008000; text-decoration-color: #008000\">INFO: did not improve improve &lt;</span><span style=\"color: #008080; text-decoration-color: #008080; font-weight: bold\">0</span>\n",
       "</pre>\n"
      ],
      "text/plain": [
       "\u001b[32mINFO: did not improve improve <\u001b[0m\u001b[1;36m0\u001b[0m\n"
      ]
     },
     "metadata": {},
     "output_type": "display_data"
    },
    {
     "data": {
      "text/html": [
       "<pre style=\"white-space:pre;overflow-x:auto;line-height:normal;font-family:Menlo,'DejaVu Sans Mono',consolas,'Courier New',monospace\"><span style=\"color: #008000; text-decoration-color: #008000\">INFO: no suitable step found</span><span style=\"color: #808000; text-decoration-color: #808000\">...</span>\n",
       "</pre>\n"
      ],
      "text/plain": [
       "\u001b[32mINFO: no suitable step found\u001b[0m\u001b[33m...\u001b[0m\n"
      ]
     },
     "metadata": {},
     "output_type": "display_data"
    },
    {
     "data": {
      "text/html": [
       "<pre style=\"white-space:pre;overflow-x:auto;line-height:normal;font-family:Menlo,'DejaVu Sans Mono',consolas,'Courier New',monospace\">┏━━━━━━━━━━━━━━━━━━━━━━━━━━━━━━━┳━━━━━━━━━━━━━━━━━━━━━━━━┓\n",
       "┃<span style=\"font-weight: bold\"> Metrics                       </span>┃<span style=\"font-weight: bold\"> Value                  </span>┃\n",
       "┡━━━━━━━━━━━━━━━━━━━━━━━━━━━━━━━╇━━━━━━━━━━━━━━━━━━━━━━━━┩\n",
       "│ Metrics/EpRet                 │ 86.31329345703125      │\n",
       "│ Metrics/EpCost                │ 22.394617080688477     │\n",
       "│ Metrics/EpLen                 │ 6.0                    │\n",
       "│ Train/Epoch                   │ 47.0                   │\n",
       "│ Train/Entropy                 │ 0.8358863592147827     │\n",
       "│ Train/KL                      │ 2.5486656340945046e-08 │\n",
       "│ Train/StopIter                │ 10.0                   │\n",
       "│ Train/PolicyRatio/Mean        │ 0.999357283115387      │\n",
       "│ Train/PolicyRatio/Min         │ 0.999357283115387      │\n",
       "│ Train/PolicyRatio/Max         │ 0.999357283115387      │\n",
       "│ Train/PolicyRatio/Std         │ 0.0006800025585107505  │\n",
       "│ Train/LR                      │ 0.0                    │\n",
       "│ Train/PolicyStd               │ 0.5619179010391235     │\n",
       "│ TotalEnvSteps                 │ 960000.0               │\n",
       "│ Loss/Loss_pi                  │ 0.026557350531220436   │\n",
       "│ Loss/Loss_pi/Delta            │ -0.20517385564744473   │\n",
       "│ Value/Adv                     │ 4.653930574249898e-08  │\n",
       "│ Loss/Loss_reward_critic       │ 8782.8505859375        │\n",
       "│ Loss/Loss_reward_critic/Delta │ 6991.2265625           │\n",
       "│ Value/reward                  │ 28.335187911987305     │\n",
       "│ Loss/Loss_cost_critic         │ 567.4202270507812      │\n",
       "│ Loss/Loss_cost_critic/Delta   │ 380.892578125          │\n",
       "│ Value/cost                    │ 8.797944068908691      │\n",
       "│ Time/Total                    │ 2846.710693359375      │\n",
       "│ Time/Rollout                  │ 30.43448257446289      │\n",
       "│ Time/Update                   │ 30.943374633789062     │\n",
       "│ Time/Epoch                    │ 61.37785720825195      │\n",
       "│ Time/FPS                      │ 325.85040283203125     │\n",
       "│ Env/Success_counts            │ nan                    │\n",
       "│ Misc/Alpha                    │ 0.09112587571144104    │\n",
       "│ Misc/FinalStepNorm            │ 0.0                    │\n",
       "│ Misc/gradient_norm            │ 7.6839280128479        │\n",
       "│ Misc/xHx                      │ 2.408499240875244      │\n",
       "│ Misc/H_inv_g                  │ 1.4440639019012451     │\n",
       "│ Misc/AcceptanceStep           │ 0.0                    │\n",
       "│ Misc/cost_gradient_norm       │ 183.50613403320312     │\n",
       "│ Misc/A                        │ 0.6428817510604858     │\n",
       "│ Misc/B                        │ 0.01329049002379179    │\n",
       "│ Misc/q                        │ 2.408499240875244      │\n",
       "│ Misc/r                        │ 42.26437759399414      │\n",
       "│ Misc/s                        │ 1011.7013549804688     │\n",
       "│ Misc/Lambda_star              │ -16.22194480895996     │\n",
       "│ Misc/Nu_star                  │ 0.0                    │\n",
       "│ Misc/OptimCase                │ 2.0                    │\n",
       "└───────────────────────────────┴────────────────────────┘\n",
       "</pre>\n"
      ],
      "text/plain": [
       "┏━━━━━━━━━━━━━━━━━━━━━━━━━━━━━━━┳━━━━━━━━━━━━━━━━━━━━━━━━┓\n",
       "┃\u001b[1m \u001b[0m\u001b[1mMetrics                      \u001b[0m\u001b[1m \u001b[0m┃\u001b[1m \u001b[0m\u001b[1mValue                 \u001b[0m\u001b[1m \u001b[0m┃\n",
       "┡━━━━━━━━━━━━━━━━━━━━━━━━━━━━━━━╇━━━━━━━━━━━━━━━━━━━━━━━━┩\n",
       "│ Metrics/EpRet                 │ 86.31329345703125      │\n",
       "│ Metrics/EpCost                │ 22.394617080688477     │\n",
       "│ Metrics/EpLen                 │ 6.0                    │\n",
       "│ Train/Epoch                   │ 47.0                   │\n",
       "│ Train/Entropy                 │ 0.8358863592147827     │\n",
       "│ Train/KL                      │ 2.5486656340945046e-08 │\n",
       "│ Train/StopIter                │ 10.0                   │\n",
       "│ Train/PolicyRatio/Mean        │ 0.999357283115387      │\n",
       "│ Train/PolicyRatio/Min         │ 0.999357283115387      │\n",
       "│ Train/PolicyRatio/Max         │ 0.999357283115387      │\n",
       "│ Train/PolicyRatio/Std         │ 0.0006800025585107505  │\n",
       "│ Train/LR                      │ 0.0                    │\n",
       "│ Train/PolicyStd               │ 0.5619179010391235     │\n",
       "│ TotalEnvSteps                 │ 960000.0               │\n",
       "│ Loss/Loss_pi                  │ 0.026557350531220436   │\n",
       "│ Loss/Loss_pi/Delta            │ -0.20517385564744473   │\n",
       "│ Value/Adv                     │ 4.653930574249898e-08  │\n",
       "│ Loss/Loss_reward_critic       │ 8782.8505859375        │\n",
       "│ Loss/Loss_reward_critic/Delta │ 6991.2265625           │\n",
       "│ Value/reward                  │ 28.335187911987305     │\n",
       "│ Loss/Loss_cost_critic         │ 567.4202270507812      │\n",
       "│ Loss/Loss_cost_critic/Delta   │ 380.892578125          │\n",
       "│ Value/cost                    │ 8.797944068908691      │\n",
       "│ Time/Total                    │ 2846.710693359375      │\n",
       "│ Time/Rollout                  │ 30.43448257446289      │\n",
       "│ Time/Update                   │ 30.943374633789062     │\n",
       "│ Time/Epoch                    │ 61.37785720825195      │\n",
       "│ Time/FPS                      │ 325.85040283203125     │\n",
       "│ Env/Success_counts            │ nan                    │\n",
       "│ Misc/Alpha                    │ 0.09112587571144104    │\n",
       "│ Misc/FinalStepNorm            │ 0.0                    │\n",
       "│ Misc/gradient_norm            │ 7.6839280128479        │\n",
       "│ Misc/xHx                      │ 2.408499240875244      │\n",
       "│ Misc/H_inv_g                  │ 1.4440639019012451     │\n",
       "│ Misc/AcceptanceStep           │ 0.0                    │\n",
       "│ Misc/cost_gradient_norm       │ 183.50613403320312     │\n",
       "│ Misc/A                        │ 0.6428817510604858     │\n",
       "│ Misc/B                        │ 0.01329049002379179    │\n",
       "│ Misc/q                        │ 2.408499240875244      │\n",
       "│ Misc/r                        │ 42.26437759399414      │\n",
       "│ Misc/s                        │ 1011.7013549804688     │\n",
       "│ Misc/Lambda_star              │ -16.22194480895996     │\n",
       "│ Misc/Nu_star                  │ 0.0                    │\n",
       "│ Misc/OptimCase                │ 2.0                    │\n",
       "└───────────────────────────────┴────────────────────────┘\n"
      ]
     },
     "metadata": {},
     "output_type": "display_data"
    },
    {
     "data": {
      "text/html": [
       "<pre style=\"white-space:pre;overflow-x:auto;line-height:normal;font-family:Menlo,'DejaVu Sans Mono',consolas,'Courier New',monospace\"><span style=\"color: #008000; text-decoration-color: #008000\">Warning: trajectory cut off when rollout by epoch at </span><span style=\"color: #008080; text-decoration-color: #008080; font-weight: bold\">2.0</span><span style=\"color: #008000; text-decoration-color: #008000\"> steps.</span>\n",
       "</pre>\n"
      ],
      "text/plain": [
       "\u001b[32mWarning: trajectory cut off when rollout by epoch at \u001b[0m\u001b[1;36m2.0\u001b[0m\u001b[32m steps.\u001b[0m\n"
      ]
     },
     "metadata": {},
     "output_type": "display_data"
    },
    {
     "data": {
      "text/html": [
       "<pre style=\"white-space:pre;overflow-x:auto;line-height:normal;font-family:Menlo,'DejaVu Sans Mono',consolas,'Courier New',monospace\"></pre>\n"
      ],
      "text/plain": []
     },
     "metadata": {},
     "output_type": "display_data"
    },
    {
     "data": {
      "text/html": [
       "<pre style=\"white-space:pre;overflow-x:auto;line-height:normal;font-family:Menlo,'DejaVu Sans Mono',consolas,'Courier New',monospace\"><span style=\"color: #808000; text-decoration-color: #808000\">Alert! Attempting feasible recovery!</span>\n",
       "</pre>\n"
      ],
      "text/plain": [
       "\u001b[33mAlert! Attempting feasible recovery!\u001b[0m\n"
      ]
     },
     "metadata": {},
     "output_type": "display_data"
    },
    {
     "data": {
      "text/html": [
       "<pre style=\"white-space:pre;overflow-x:auto;line-height:normal;font-family:Menlo,'DejaVu Sans Mono',consolas,'Courier New',monospace\"><span style=\"color: #008000; text-decoration-color: #008000\">Expected Improvement: </span><span style=\"color: #008080; text-decoration-color: #008080; font-weight: bold\">0.2314957231283188</span><span style=\"color: #008000; text-decoration-color: #008000\"> Actual: </span><span style=\"color: #008080; text-decoration-color: #008080; font-weight: bold\">0.3669915497303009</span>\n",
       "</pre>\n"
      ],
      "text/plain": [
       "\u001b[32mExpected Improvement: \u001b[0m\u001b[1;36m0.2314957231283188\u001b[0m\u001b[32m Actual: \u001b[0m\u001b[1;36m0.3669915497303009\u001b[0m\n"
      ]
     },
     "metadata": {},
     "output_type": "display_data"
    },
    {
     "data": {
      "text/html": [
       "<pre style=\"white-space:pre;overflow-x:auto;line-height:normal;font-family:Menlo,'DejaVu Sans Mono',consolas,'Courier New',monospace\"><span style=\"color: #008000; text-decoration-color: #008000\">INFO: no improve </span><span style=\"color: #008080; text-decoration-color: #008080; font-weight: bold\">5.99807071685791</span><span style=\"color: #008000; text-decoration-color: #008000\"> &gt; </span><span style=\"color: #008080; text-decoration-color: #008080; font-weight: bold\">0</span>\n",
       "</pre>\n"
      ],
      "text/plain": [
       "\u001b[32mINFO: no improve \u001b[0m\u001b[1;36m5.99807071685791\u001b[0m\u001b[32m > \u001b[0m\u001b[1;36m0\u001b[0m\n"
      ]
     },
     "metadata": {},
     "output_type": "display_data"
    },
    {
     "data": {
      "text/html": [
       "<pre style=\"white-space:pre;overflow-x:auto;line-height:normal;font-family:Menlo,'DejaVu Sans Mono',consolas,'Courier New',monospace\"><span style=\"color: #008000; text-decoration-color: #008000\">Expected Improvement: </span><span style=\"color: #008080; text-decoration-color: #008080; font-weight: bold\">0.2314957231283188</span><span style=\"color: #008000; text-decoration-color: #008000\"> Actual: </span><span style=\"color: #008080; text-decoration-color: #008080; font-weight: bold\">0.2712572515010834</span>\n",
       "</pre>\n"
      ],
      "text/plain": [
       "\u001b[32mExpected Improvement: \u001b[0m\u001b[1;36m0.2314957231283188\u001b[0m\u001b[32m Actual: \u001b[0m\u001b[1;36m0.2712572515010834\u001b[0m\n"
      ]
     },
     "metadata": {},
     "output_type": "display_data"
    },
    {
     "data": {
      "text/html": [
       "<pre style=\"white-space:pre;overflow-x:auto;line-height:normal;font-family:Menlo,'DejaVu Sans Mono',consolas,'Courier New',monospace\"><span style=\"color: #008000; text-decoration-color: #008000\">INFO: no improve </span><span style=\"color: #008080; text-decoration-color: #008080; font-weight: bold\">4.3267412185668945</span><span style=\"color: #008000; text-decoration-color: #008000\"> &gt; </span><span style=\"color: #008080; text-decoration-color: #008080; font-weight: bold\">0</span>\n",
       "</pre>\n"
      ],
      "text/plain": [
       "\u001b[32mINFO: no improve \u001b[0m\u001b[1;36m4.3267412185668945\u001b[0m\u001b[32m > \u001b[0m\u001b[1;36m0\u001b[0m\n"
      ]
     },
     "metadata": {},
     "output_type": "display_data"
    },
    {
     "data": {
      "text/html": [
       "<pre style=\"white-space:pre;overflow-x:auto;line-height:normal;font-family:Menlo,'DejaVu Sans Mono',consolas,'Courier New',monospace\"><span style=\"color: #008000; text-decoration-color: #008000\">Expected Improvement: </span><span style=\"color: #008080; text-decoration-color: #008080; font-weight: bold\">0.2314957231283188</span><span style=\"color: #008000; text-decoration-color: #008000\"> Actual: </span><span style=\"color: #008080; text-decoration-color: #008080; font-weight: bold\">0.20251280069351196</span>\n",
       "</pre>\n"
      ],
      "text/plain": [
       "\u001b[32mExpected Improvement: \u001b[0m\u001b[1;36m0.2314957231283188\u001b[0m\u001b[32m Actual: \u001b[0m\u001b[1;36m0.20251280069351196\u001b[0m\n"
      ]
     },
     "metadata": {},
     "output_type": "display_data"
    },
    {
     "data": {
      "text/html": [
       "<pre style=\"white-space:pre;overflow-x:auto;line-height:normal;font-family:Menlo,'DejaVu Sans Mono',consolas,'Courier New',monospace\"><span style=\"color: #008000; text-decoration-color: #008000\">INFO: no improve </span><span style=\"color: #008080; text-decoration-color: #008080; font-weight: bold\">3.162649393081665</span><span style=\"color: #008000; text-decoration-color: #008000\"> &gt; </span><span style=\"color: #008080; text-decoration-color: #008080; font-weight: bold\">0</span>\n",
       "</pre>\n"
      ],
      "text/plain": [
       "\u001b[32mINFO: no improve \u001b[0m\u001b[1;36m3.162649393081665\u001b[0m\u001b[32m > \u001b[0m\u001b[1;36m0\u001b[0m\n"
      ]
     },
     "metadata": {},
     "output_type": "display_data"
    },
    {
     "data": {
      "text/html": [
       "<pre style=\"white-space:pre;overflow-x:auto;line-height:normal;font-family:Menlo,'DejaVu Sans Mono',consolas,'Courier New',monospace\"><span style=\"color: #008000; text-decoration-color: #008000\">Expected Improvement: </span><span style=\"color: #008080; text-decoration-color: #008080; font-weight: bold\">0.2314957231283188</span><span style=\"color: #008000; text-decoration-color: #008000\"> Actual: </span><span style=\"color: #008080; text-decoration-color: #008080; font-weight: bold\">0.15295007824897766</span>\n",
       "</pre>\n"
      ],
      "text/plain": [
       "\u001b[32mExpected Improvement: \u001b[0m\u001b[1;36m0.2314957231283188\u001b[0m\u001b[32m Actual: \u001b[0m\u001b[1;36m0.15295007824897766\u001b[0m\n"
      ]
     },
     "metadata": {},
     "output_type": "display_data"
    },
    {
     "data": {
      "text/html": [
       "<pre style=\"white-space:pre;overflow-x:auto;line-height:normal;font-family:Menlo,'DejaVu Sans Mono',consolas,'Courier New',monospace\"><span style=\"color: #008000; text-decoration-color: #008000\">INFO: no improve </span><span style=\"color: #008080; text-decoration-color: #008080; font-weight: bold\">2.3527090549468994</span><span style=\"color: #008000; text-decoration-color: #008000\"> &gt; </span><span style=\"color: #008080; text-decoration-color: #008080; font-weight: bold\">0</span>\n",
       "</pre>\n"
      ],
      "text/plain": [
       "\u001b[32mINFO: no improve \u001b[0m\u001b[1;36m2.3527090549468994\u001b[0m\u001b[32m > \u001b[0m\u001b[1;36m0\u001b[0m\n"
      ]
     },
     "metadata": {},
     "output_type": "display_data"
    },
    {
     "data": {
      "text/html": [
       "<pre style=\"white-space:pre;overflow-x:auto;line-height:normal;font-family:Menlo,'DejaVu Sans Mono',consolas,'Courier New',monospace\"><span style=\"color: #008000; text-decoration-color: #008000\">Expected Improvement: </span><span style=\"color: #008080; text-decoration-color: #008080; font-weight: bold\">0.2314957231283188</span><span style=\"color: #008000; text-decoration-color: #008000\"> Actual: </span><span style=\"color: #008080; text-decoration-color: #008080; font-weight: bold\">0.11669481545686722</span>\n",
       "</pre>\n"
      ],
      "text/plain": [
       "\u001b[32mExpected Improvement: \u001b[0m\u001b[1;36m0.2314957231283188\u001b[0m\u001b[32m Actual: \u001b[0m\u001b[1;36m0.11669481545686722\u001b[0m\n"
      ]
     },
     "metadata": {},
     "output_type": "display_data"
    },
    {
     "data": {
      "text/html": [
       "<pre style=\"white-space:pre;overflow-x:auto;line-height:normal;font-family:Menlo,'DejaVu Sans Mono',consolas,'Courier New',monospace\"><span style=\"color: #008000; text-decoration-color: #008000\">INFO: no improve </span><span style=\"color: #008080; text-decoration-color: #008080; font-weight: bold\">1.7803467512130737</span><span style=\"color: #008000; text-decoration-color: #008000\"> &gt; </span><span style=\"color: #008080; text-decoration-color: #008080; font-weight: bold\">0</span>\n",
       "</pre>\n"
      ],
      "text/plain": [
       "\u001b[32mINFO: no improve \u001b[0m\u001b[1;36m1.7803467512130737\u001b[0m\u001b[32m > \u001b[0m\u001b[1;36m0\u001b[0m\n"
      ]
     },
     "metadata": {},
     "output_type": "display_data"
    },
    {
     "data": {
      "text/html": [
       "<pre style=\"white-space:pre;overflow-x:auto;line-height:normal;font-family:Menlo,'DejaVu Sans Mono',consolas,'Courier New',monospace\"><span style=\"color: #008000; text-decoration-color: #008000\">Expected Improvement: </span><span style=\"color: #008080; text-decoration-color: #008080; font-weight: bold\">0.2314957231283188</span><span style=\"color: #008000; text-decoration-color: #008000\"> Actual: </span><span style=\"color: #008080; text-decoration-color: #008080; font-weight: bold\">0.0897730141878128</span>\n",
       "</pre>\n"
      ],
      "text/plain": [
       "\u001b[32mExpected Improvement: \u001b[0m\u001b[1;36m0.2314957231283188\u001b[0m\u001b[32m Actual: \u001b[0m\u001b[1;36m0.0897730141878128\u001b[0m\n"
      ]
     },
     "metadata": {},
     "output_type": "display_data"
    },
    {
     "data": {
      "text/html": [
       "<pre style=\"white-space:pre;overflow-x:auto;line-height:normal;font-family:Menlo,'DejaVu Sans Mono',consolas,'Courier New',monospace\"><span style=\"color: #008000; text-decoration-color: #008000\">INFO: no improve </span><span style=\"color: #008080; text-decoration-color: #008080; font-weight: bold\">1.3648624420166016</span><span style=\"color: #008000; text-decoration-color: #008000\"> &gt; </span><span style=\"color: #008080; text-decoration-color: #008080; font-weight: bold\">0</span>\n",
       "</pre>\n"
      ],
      "text/plain": [
       "\u001b[32mINFO: no improve \u001b[0m\u001b[1;36m1.3648624420166016\u001b[0m\u001b[32m > \u001b[0m\u001b[1;36m0\u001b[0m\n"
      ]
     },
     "metadata": {},
     "output_type": "display_data"
    },
    {
     "data": {
      "text/html": [
       "<pre style=\"white-space:pre;overflow-x:auto;line-height:normal;font-family:Menlo,'DejaVu Sans Mono',consolas,'Courier New',monospace\"><span style=\"color: #008000; text-decoration-color: #008000\">Expected Improvement: </span><span style=\"color: #008080; text-decoration-color: #008080; font-weight: bold\">0.2314957231283188</span><span style=\"color: #008000; text-decoration-color: #008000\"> Actual: </span><span style=\"color: #008080; text-decoration-color: #008080; font-weight: bold\">0.06953806430101395</span>\n",
       "</pre>\n"
      ],
      "text/plain": [
       "\u001b[32mExpected Improvement: \u001b[0m\u001b[1;36m0.2314957231283188\u001b[0m\u001b[32m Actual: \u001b[0m\u001b[1;36m0.06953806430101395\u001b[0m\n"
      ]
     },
     "metadata": {},
     "output_type": "display_data"
    },
    {
     "data": {
      "text/html": [
       "<pre style=\"white-space:pre;overflow-x:auto;line-height:normal;font-family:Menlo,'DejaVu Sans Mono',consolas,'Courier New',monospace\"><span style=\"color: #008000; text-decoration-color: #008000\">INFO: no improve </span><span style=\"color: #008080; text-decoration-color: #008080; font-weight: bold\">1.0564744472503662</span><span style=\"color: #008000; text-decoration-color: #008000\"> &gt; </span><span style=\"color: #008080; text-decoration-color: #008080; font-weight: bold\">0</span>\n",
       "</pre>\n"
      ],
      "text/plain": [
       "\u001b[32mINFO: no improve \u001b[0m\u001b[1;36m1.0564744472503662\u001b[0m\u001b[32m > \u001b[0m\u001b[1;36m0\u001b[0m\n"
      ]
     },
     "metadata": {},
     "output_type": "display_data"
    },
    {
     "data": {
      "text/html": [
       "<pre style=\"white-space:pre;overflow-x:auto;line-height:normal;font-family:Menlo,'DejaVu Sans Mono',consolas,'Courier New',monospace\"><span style=\"color: #008000; text-decoration-color: #008000\">Expected Improvement: </span><span style=\"color: #008080; text-decoration-color: #008080; font-weight: bold\">0.2314957231283188</span><span style=\"color: #008000; text-decoration-color: #008000\"> Actual: </span><span style=\"color: #008080; text-decoration-color: #008080; font-weight: bold\">0.054162025451660156</span>\n",
       "</pre>\n"
      ],
      "text/plain": [
       "\u001b[32mExpected Improvement: \u001b[0m\u001b[1;36m0.2314957231283188\u001b[0m\u001b[32m Actual: \u001b[0m\u001b[1;36m0.054162025451660156\u001b[0m\n"
      ]
     },
     "metadata": {},
     "output_type": "display_data"
    },
    {
     "data": {
      "text/html": [
       "<pre style=\"white-space:pre;overflow-x:auto;line-height:normal;font-family:Menlo,'DejaVu Sans Mono',consolas,'Courier New',monospace\"><span style=\"color: #008000; text-decoration-color: #008000\">INFO: no improve </span><span style=\"color: #008080; text-decoration-color: #008080; font-weight: bold\">0.8235037326812744</span><span style=\"color: #008000; text-decoration-color: #008000\"> &gt; </span><span style=\"color: #008080; text-decoration-color: #008080; font-weight: bold\">0</span>\n",
       "</pre>\n"
      ],
      "text/plain": [
       "\u001b[32mINFO: no improve \u001b[0m\u001b[1;36m0.8235037326812744\u001b[0m\u001b[32m > \u001b[0m\u001b[1;36m0\u001b[0m\n"
      ]
     },
     "metadata": {},
     "output_type": "display_data"
    },
    {
     "data": {
      "text/html": [
       "<pre style=\"white-space:pre;overflow-x:auto;line-height:normal;font-family:Menlo,'DejaVu Sans Mono',consolas,'Courier New',monospace\"><span style=\"color: #008000; text-decoration-color: #008000\">Expected Improvement: </span><span style=\"color: #008080; text-decoration-color: #008080; font-weight: bold\">0.2314957231283188</span><span style=\"color: #008000; text-decoration-color: #008000\"> Actual: </span><span style=\"color: #008080; text-decoration-color: #008080; font-weight: bold\">0.04240383580327034</span>\n",
       "</pre>\n"
      ],
      "text/plain": [
       "\u001b[32mExpected Improvement: \u001b[0m\u001b[1;36m0.2314957231283188\u001b[0m\u001b[32m Actual: \u001b[0m\u001b[1;36m0.04240383580327034\u001b[0m\n"
      ]
     },
     "metadata": {},
     "output_type": "display_data"
    },
    {
     "data": {
      "text/html": [
       "<pre style=\"white-space:pre;overflow-x:auto;line-height:normal;font-family:Menlo,'DejaVu Sans Mono',consolas,'Courier New',monospace\"><span style=\"color: #008000; text-decoration-color: #008000\">INFO: no improve </span><span style=\"color: #008080; text-decoration-color: #008080; font-weight: bold\">0.6455536484718323</span><span style=\"color: #008000; text-decoration-color: #008000\"> &gt; </span><span style=\"color: #008080; text-decoration-color: #008080; font-weight: bold\">0</span>\n",
       "</pre>\n"
      ],
      "text/plain": [
       "\u001b[32mINFO: no improve \u001b[0m\u001b[1;36m0.6455536484718323\u001b[0m\u001b[32m > \u001b[0m\u001b[1;36m0\u001b[0m\n"
      ]
     },
     "metadata": {},
     "output_type": "display_data"
    },
    {
     "data": {
      "text/html": [
       "<pre style=\"white-space:pre;overflow-x:auto;line-height:normal;font-family:Menlo,'DejaVu Sans Mono',consolas,'Courier New',monospace\"><span style=\"color: #008000; text-decoration-color: #008000\">Expected Improvement: </span><span style=\"color: #008080; text-decoration-color: #008080; font-weight: bold\">0.2314957231283188</span><span style=\"color: #008000; text-decoration-color: #008000\"> Actual: </span><span style=\"color: #008080; text-decoration-color: #008080; font-weight: bold\">0.03333567827939987</span>\n",
       "</pre>\n"
      ],
      "text/plain": [
       "\u001b[32mExpected Improvement: \u001b[0m\u001b[1;36m0.2314957231283188\u001b[0m\u001b[32m Actual: \u001b[0m\u001b[1;36m0.03333567827939987\u001b[0m\n"
      ]
     },
     "metadata": {},
     "output_type": "display_data"
    },
    {
     "data": {
      "text/html": [
       "<pre style=\"white-space:pre;overflow-x:auto;line-height:normal;font-family:Menlo,'DejaVu Sans Mono',consolas,'Courier New',monospace\"><span style=\"color: #008000; text-decoration-color: #008000\">INFO: no improve </span><span style=\"color: #008080; text-decoration-color: #008080; font-weight: bold\">0.5082389116287231</span><span style=\"color: #008000; text-decoration-color: #008000\"> &gt; </span><span style=\"color: #008080; text-decoration-color: #008080; font-weight: bold\">0</span>\n",
       "</pre>\n"
      ],
      "text/plain": [
       "\u001b[32mINFO: no improve \u001b[0m\u001b[1;36m0.5082389116287231\u001b[0m\u001b[32m > \u001b[0m\u001b[1;36m0\u001b[0m\n"
      ]
     },
     "metadata": {},
     "output_type": "display_data"
    },
    {
     "data": {
      "text/html": [
       "<pre style=\"white-space:pre;overflow-x:auto;line-height:normal;font-family:Menlo,'DejaVu Sans Mono',consolas,'Courier New',monospace\"><span style=\"color: #008000; text-decoration-color: #008000\">Expected Improvement: </span><span style=\"color: #008080; text-decoration-color: #008080; font-weight: bold\">0.2314957231283188</span><span style=\"color: #008000; text-decoration-color: #008000\"> Actual: </span><span style=\"color: #008080; text-decoration-color: #008080; font-weight: bold\">0.026295369490981102</span>\n",
       "</pre>\n"
      ],
      "text/plain": [
       "\u001b[32mExpected Improvement: \u001b[0m\u001b[1;36m0.2314957231283188\u001b[0m\u001b[32m Actual: \u001b[0m\u001b[1;36m0.026295369490981102\u001b[0m\n"
      ]
     },
     "metadata": {},
     "output_type": "display_data"
    },
    {
     "data": {
      "text/html": [
       "<pre style=\"white-space:pre;overflow-x:auto;line-height:normal;font-family:Menlo,'DejaVu Sans Mono',consolas,'Courier New',monospace\"><span style=\"color: #008000; text-decoration-color: #008000\">INFO: no improve </span><span style=\"color: #008080; text-decoration-color: #008080; font-weight: bold\">0.40146970748901367</span><span style=\"color: #008000; text-decoration-color: #008000\"> &gt; </span><span style=\"color: #008080; text-decoration-color: #008080; font-weight: bold\">0</span>\n",
       "</pre>\n"
      ],
      "text/plain": [
       "\u001b[32mINFO: no improve \u001b[0m\u001b[1;36m0.40146970748901367\u001b[0m\u001b[32m > \u001b[0m\u001b[1;36m0\u001b[0m\n"
      ]
     },
     "metadata": {},
     "output_type": "display_data"
    },
    {
     "data": {
      "text/html": [
       "<pre style=\"white-space:pre;overflow-x:auto;line-height:normal;font-family:Menlo,'DejaVu Sans Mono',consolas,'Courier New',monospace\"><span style=\"color: #008000; text-decoration-color: #008000\">Expected Improvement: </span><span style=\"color: #008080; text-decoration-color: #008080; font-weight: bold\">0.2314957231283188</span><span style=\"color: #008000; text-decoration-color: #008000\"> Actual: </span><span style=\"color: #008080; text-decoration-color: #008080; font-weight: bold\">0.020800888538360596</span>\n",
       "</pre>\n"
      ],
      "text/plain": [
       "\u001b[32mExpected Improvement: \u001b[0m\u001b[1;36m0.2314957231283188\u001b[0m\u001b[32m Actual: \u001b[0m\u001b[1;36m0.020800888538360596\u001b[0m\n"
      ]
     },
     "metadata": {},
     "output_type": "display_data"
    },
    {
     "data": {
      "text/html": [
       "<pre style=\"white-space:pre;overflow-x:auto;line-height:normal;font-family:Menlo,'DejaVu Sans Mono',consolas,'Courier New',monospace\"><span style=\"color: #008000; text-decoration-color: #008000\">INFO: no improve </span><span style=\"color: #008080; text-decoration-color: #008080; font-weight: bold\">0.3179710805416107</span><span style=\"color: #008000; text-decoration-color: #008000\"> &gt; </span><span style=\"color: #008080; text-decoration-color: #008080; font-weight: bold\">0</span>\n",
       "</pre>\n"
      ],
      "text/plain": [
       "\u001b[32mINFO: no improve \u001b[0m\u001b[1;36m0.3179710805416107\u001b[0m\u001b[32m > \u001b[0m\u001b[1;36m0\u001b[0m\n"
      ]
     },
     "metadata": {},
     "output_type": "display_data"
    },
    {
     "data": {
      "text/html": [
       "<pre style=\"white-space:pre;overflow-x:auto;line-height:normal;font-family:Menlo,'DejaVu Sans Mono',consolas,'Courier New',monospace\"><span style=\"color: #008000; text-decoration-color: #008000\">Expected Improvement: </span><span style=\"color: #008080; text-decoration-color: #008080; font-weight: bold\">0.2314957231283188</span><span style=\"color: #008000; text-decoration-color: #008000\"> Actual: </span><span style=\"color: #008080; text-decoration-color: #008080; font-weight: bold\">0.01649182289838791</span>\n",
       "</pre>\n"
      ],
      "text/plain": [
       "\u001b[32mExpected Improvement: \u001b[0m\u001b[1;36m0.2314957231283188\u001b[0m\u001b[32m Actual: \u001b[0m\u001b[1;36m0.01649182289838791\u001b[0m\n"
      ]
     },
     "metadata": {},
     "output_type": "display_data"
    },
    {
     "data": {
      "text/html": [
       "<pre style=\"white-space:pre;overflow-x:auto;line-height:normal;font-family:Menlo,'DejaVu Sans Mono',consolas,'Courier New',monospace\"><span style=\"color: #008000; text-decoration-color: #008000\">INFO: no improve </span><span style=\"color: #008080; text-decoration-color: #008080; font-weight: bold\">0.2523820400238037</span><span style=\"color: #008000; text-decoration-color: #008000\"> &gt; </span><span style=\"color: #008080; text-decoration-color: #008080; font-weight: bold\">0</span>\n",
       "</pre>\n"
      ],
      "text/plain": [
       "\u001b[32mINFO: no improve \u001b[0m\u001b[1;36m0.2523820400238037\u001b[0m\u001b[32m > \u001b[0m\u001b[1;36m0\u001b[0m\n"
      ]
     },
     "metadata": {},
     "output_type": "display_data"
    },
    {
     "data": {
      "text/html": [
       "<pre style=\"white-space:pre;overflow-x:auto;line-height:normal;font-family:Menlo,'DejaVu Sans Mono',consolas,'Courier New',monospace\"><span style=\"color: #008000; text-decoration-color: #008000\">Expected Improvement: </span><span style=\"color: #008080; text-decoration-color: #008080; font-weight: bold\">0.2314957231283188</span><span style=\"color: #008000; text-decoration-color: #008000\"> Actual: </span><span style=\"color: #008080; text-decoration-color: #008080; font-weight: bold\">0.013097727671265602</span>\n",
       "</pre>\n"
      ],
      "text/plain": [
       "\u001b[32mExpected Improvement: \u001b[0m\u001b[1;36m0.2314957231283188\u001b[0m\u001b[32m Actual: \u001b[0m\u001b[1;36m0.013097727671265602\u001b[0m\n"
      ]
     },
     "metadata": {},
     "output_type": "display_data"
    },
    {
     "data": {
      "text/html": [
       "<pre style=\"white-space:pre;overflow-x:auto;line-height:normal;font-family:Menlo,'DejaVu Sans Mono',consolas,'Courier New',monospace\"><span style=\"color: #008000; text-decoration-color: #008000\">INFO: no improve </span><span style=\"color: #008080; text-decoration-color: #008080; font-weight: bold\">0.2006324678659439</span><span style=\"color: #008000; text-decoration-color: #008000\"> &gt; </span><span style=\"color: #008080; text-decoration-color: #008080; font-weight: bold\">0</span>\n",
       "</pre>\n"
      ],
      "text/plain": [
       "\u001b[32mINFO: no improve \u001b[0m\u001b[1;36m0.2006324678659439\u001b[0m\u001b[32m > \u001b[0m\u001b[1;36m0\u001b[0m\n"
      ]
     },
     "metadata": {},
     "output_type": "display_data"
    },
    {
     "data": {
      "text/html": [
       "<pre style=\"white-space:pre;overflow-x:auto;line-height:normal;font-family:Menlo,'DejaVu Sans Mono',consolas,'Courier New',monospace\"><span style=\"color: #008000; text-decoration-color: #008000\">Expected Improvement: </span><span style=\"color: #008080; text-decoration-color: #008080; font-weight: bold\">0.2314957231283188</span><span style=\"color: #008000; text-decoration-color: #008000\"> Actual: </span><span style=\"color: #008080; text-decoration-color: #008080; font-weight: bold\">0.010417195968329906</span>\n",
       "</pre>\n"
      ],
      "text/plain": [
       "\u001b[32mExpected Improvement: \u001b[0m\u001b[1;36m0.2314957231283188\u001b[0m\u001b[32m Actual: \u001b[0m\u001b[1;36m0.010417195968329906\u001b[0m\n"
      ]
     },
     "metadata": {},
     "output_type": "display_data"
    },
    {
     "data": {
      "text/html": [
       "<pre style=\"white-space:pre;overflow-x:auto;line-height:normal;font-family:Menlo,'DejaVu Sans Mono',consolas,'Courier New',monospace\"><span style=\"color: #008000; text-decoration-color: #008000\">INFO: no improve </span><span style=\"color: #008080; text-decoration-color: #008080; font-weight: bold\">0.15969374775886536</span><span style=\"color: #008000; text-decoration-color: #008000\"> &gt; </span><span style=\"color: #008080; text-decoration-color: #008080; font-weight: bold\">0</span>\n",
       "</pre>\n"
      ],
      "text/plain": [
       "\u001b[32mINFO: no improve \u001b[0m\u001b[1;36m0.15969374775886536\u001b[0m\u001b[32m > \u001b[0m\u001b[1;36m0\u001b[0m\n"
      ]
     },
     "metadata": {},
     "output_type": "display_data"
    },
    {
     "data": {
      "text/html": [
       "<pre style=\"white-space:pre;overflow-x:auto;line-height:normal;font-family:Menlo,'DejaVu Sans Mono',consolas,'Courier New',monospace\"><span style=\"color: #008000; text-decoration-color: #008000\">Expected Improvement: </span><span style=\"color: #008080; text-decoration-color: #008080; font-weight: bold\">0.2314957231283188</span><span style=\"color: #008000; text-decoration-color: #008000\"> Actual: </span><span style=\"color: #008080; text-decoration-color: #008080; font-weight: bold\">0.00829505268484354</span>\n",
       "</pre>\n"
      ],
      "text/plain": [
       "\u001b[32mExpected Improvement: \u001b[0m\u001b[1;36m0.2314957231283188\u001b[0m\u001b[32m Actual: \u001b[0m\u001b[1;36m0.00829505268484354\u001b[0m\n"
      ]
     },
     "metadata": {},
     "output_type": "display_data"
    },
    {
     "data": {
      "text/html": [
       "<pre style=\"white-space:pre;overflow-x:auto;line-height:normal;font-family:Menlo,'DejaVu Sans Mono',consolas,'Courier New',monospace\"><span style=\"color: #008000; text-decoration-color: #008000\">INFO: no improve </span><span style=\"color: #008080; text-decoration-color: #008080; font-weight: bold\">0.12723217904567719</span><span style=\"color: #008000; text-decoration-color: #008000\"> &gt; </span><span style=\"color: #008080; text-decoration-color: #008080; font-weight: bold\">0</span>\n",
       "</pre>\n"
      ],
      "text/plain": [
       "\u001b[32mINFO: no improve \u001b[0m\u001b[1;36m0.12723217904567719\u001b[0m\u001b[32m > \u001b[0m\u001b[1;36m0\u001b[0m\n"
      ]
     },
     "metadata": {},
     "output_type": "display_data"
    },
    {
     "data": {
      "text/html": [
       "<pre style=\"white-space:pre;overflow-x:auto;line-height:normal;font-family:Menlo,'DejaVu Sans Mono',consolas,'Courier New',monospace\"><span style=\"color: #008000; text-decoration-color: #008000\">Expected Improvement: </span><span style=\"color: #008080; text-decoration-color: #008080; font-weight: bold\">0.2314957231283188</span><span style=\"color: #008000; text-decoration-color: #008000\"> Actual: </span><span style=\"color: #008080; text-decoration-color: #008080; font-weight: bold\">0.006611948367208242</span>\n",
       "</pre>\n"
      ],
      "text/plain": [
       "\u001b[32mExpected Improvement: \u001b[0m\u001b[1;36m0.2314957231283188\u001b[0m\u001b[32m Actual: \u001b[0m\u001b[1;36m0.006611948367208242\u001b[0m\n"
      ]
     },
     "metadata": {},
     "output_type": "display_data"
    },
    {
     "data": {
      "text/html": [
       "<pre style=\"white-space:pre;overflow-x:auto;line-height:normal;font-family:Menlo,'DejaVu Sans Mono',consolas,'Courier New',monospace\"><span style=\"color: #008000; text-decoration-color: #008000\">INFO: no improve </span><span style=\"color: #008080; text-decoration-color: #008080; font-weight: bold\">0.10145489871501923</span><span style=\"color: #008000; text-decoration-color: #008000\"> &gt; </span><span style=\"color: #008080; text-decoration-color: #008080; font-weight: bold\">0</span>\n",
       "</pre>\n"
      ],
      "text/plain": [
       "\u001b[32mINFO: no improve \u001b[0m\u001b[1;36m0.10145489871501923\u001b[0m\u001b[32m > \u001b[0m\u001b[1;36m0\u001b[0m\n"
      ]
     },
     "metadata": {},
     "output_type": "display_data"
    },
    {
     "data": {
      "text/html": [
       "<pre style=\"white-space:pre;overflow-x:auto;line-height:normal;font-family:Menlo,'DejaVu Sans Mono',consolas,'Courier New',monospace\"><span style=\"color: #008000; text-decoration-color: #008000\">Expected Improvement: </span><span style=\"color: #008080; text-decoration-color: #008080; font-weight: bold\">0.2314957231283188</span><span style=\"color: #008000; text-decoration-color: #008000\"> Actual: </span><span style=\"color: #008080; text-decoration-color: #008080; font-weight: bold\">0.005274301394820213</span>\n",
       "</pre>\n"
      ],
      "text/plain": [
       "\u001b[32mExpected Improvement: \u001b[0m\u001b[1;36m0.2314957231283188\u001b[0m\u001b[32m Actual: \u001b[0m\u001b[1;36m0.005274301394820213\u001b[0m\n"
      ]
     },
     "metadata": {},
     "output_type": "display_data"
    },
    {
     "data": {
      "text/html": [
       "<pre style=\"white-space:pre;overflow-x:auto;line-height:normal;font-family:Menlo,'DejaVu Sans Mono',consolas,'Courier New',monospace\"><span style=\"color: #008000; text-decoration-color: #008000\">INFO: no improve </span><span style=\"color: #008080; text-decoration-color: #008080; font-weight: bold\">0.08095663040876389</span><span style=\"color: #008000; text-decoration-color: #008000\"> &gt; </span><span style=\"color: #008080; text-decoration-color: #008080; font-weight: bold\">0</span>\n",
       "</pre>\n"
      ],
      "text/plain": [
       "\u001b[32mINFO: no improve \u001b[0m\u001b[1;36m0.08095663040876389\u001b[0m\u001b[32m > \u001b[0m\u001b[1;36m0\u001b[0m\n"
      ]
     },
     "metadata": {},
     "output_type": "display_data"
    },
    {
     "data": {
      "text/html": [
       "<pre style=\"white-space:pre;overflow-x:auto;line-height:normal;font-family:Menlo,'DejaVu Sans Mono',consolas,'Courier New',monospace\"><span style=\"color: #008000; text-decoration-color: #008000\">Expected Improvement: </span><span style=\"color: #008080; text-decoration-color: #008080; font-weight: bold\">0.2314957231283188</span><span style=\"color: #008000; text-decoration-color: #008000\"> Actual: </span><span style=\"color: #008080; text-decoration-color: #008080; font-weight: bold\">0.0042097317054867744</span>\n",
       "</pre>\n"
      ],
      "text/plain": [
       "\u001b[32mExpected Improvement: \u001b[0m\u001b[1;36m0.2314957231283188\u001b[0m\u001b[32m Actual: \u001b[0m\u001b[1;36m0.0042097317054867744\u001b[0m\n"
      ]
     },
     "metadata": {},
     "output_type": "display_data"
    },
    {
     "data": {
      "text/html": [
       "<pre style=\"white-space:pre;overflow-x:auto;line-height:normal;font-family:Menlo,'DejaVu Sans Mono',consolas,'Courier New',monospace\"><span style=\"color: #008000; text-decoration-color: #008000\">INFO: no improve </span><span style=\"color: #008080; text-decoration-color: #008080; font-weight: bold\">0.06463679671287537</span><span style=\"color: #008000; text-decoration-color: #008000\"> &gt; </span><span style=\"color: #008080; text-decoration-color: #008080; font-weight: bold\">0</span>\n",
       "</pre>\n"
      ],
      "text/plain": [
       "\u001b[32mINFO: no improve \u001b[0m\u001b[1;36m0.06463679671287537\u001b[0m\u001b[32m > \u001b[0m\u001b[1;36m0\u001b[0m\n"
      ]
     },
     "metadata": {},
     "output_type": "display_data"
    },
    {
     "data": {
      "text/html": [
       "<pre style=\"white-space:pre;overflow-x:auto;line-height:normal;font-family:Menlo,'DejaVu Sans Mono',consolas,'Courier New',monospace\"><span style=\"color: #008000; text-decoration-color: #008000\">Expected Improvement: </span><span style=\"color: #008080; text-decoration-color: #008080; font-weight: bold\">0.2314957231283188</span><span style=\"color: #008000; text-decoration-color: #008000\"> Actual: </span><span style=\"color: #008080; text-decoration-color: #008080; font-weight: bold\">0.0033614947460591793</span>\n",
       "</pre>\n"
      ],
      "text/plain": [
       "\u001b[32mExpected Improvement: \u001b[0m\u001b[1;36m0.2314957231283188\u001b[0m\u001b[32m Actual: \u001b[0m\u001b[1;36m0.0033614947460591793\u001b[0m\n"
      ]
     },
     "metadata": {},
     "output_type": "display_data"
    },
    {
     "data": {
      "text/html": [
       "<pre style=\"white-space:pre;overflow-x:auto;line-height:normal;font-family:Menlo,'DejaVu Sans Mono',consolas,'Courier New',monospace\"><span style=\"color: #008000; text-decoration-color: #008000\">INFO: no improve </span><span style=\"color: #008080; text-decoration-color: #008080; font-weight: bold\">0.05162730813026428</span><span style=\"color: #008000; text-decoration-color: #008000\"> &gt; </span><span style=\"color: #008080; text-decoration-color: #008080; font-weight: bold\">0</span>\n",
       "</pre>\n"
      ],
      "text/plain": [
       "\u001b[32mINFO: no improve \u001b[0m\u001b[1;36m0.05162730813026428\u001b[0m\u001b[32m > \u001b[0m\u001b[1;36m0\u001b[0m\n"
      ]
     },
     "metadata": {},
     "output_type": "display_data"
    },
    {
     "data": {
      "text/html": [
       "<pre style=\"white-space:pre;overflow-x:auto;line-height:normal;font-family:Menlo,'DejaVu Sans Mono',consolas,'Courier New',monospace\"><span style=\"color: #008000; text-decoration-color: #008000\">INFO: no suitable step found</span><span style=\"color: #808000; text-decoration-color: #808000\">...</span>\n",
       "</pre>\n"
      ],
      "text/plain": [
       "\u001b[32mINFO: no suitable step found\u001b[0m\u001b[33m...\u001b[0m\n"
      ]
     },
     "metadata": {},
     "output_type": "display_data"
    },
    {
     "data": {
      "text/html": [
       "<pre style=\"white-space:pre;overflow-x:auto;line-height:normal;font-family:Menlo,'DejaVu Sans Mono',consolas,'Courier New',monospace\">┏━━━━━━━━━━━━━━━━━━━━━━━━━━━━━━━┳━━━━━━━━━━━━━━━━━━━━━━━━┓\n",
       "┃<span style=\"font-weight: bold\"> Metrics                       </span>┃<span style=\"font-weight: bold\"> Value                  </span>┃\n",
       "┡━━━━━━━━━━━━━━━━━━━━━━━━━━━━━━━╇━━━━━━━━━━━━━━━━━━━━━━━━┩\n",
       "│ Metrics/EpRet                 │ 77.15739440917969      │\n",
       "│ Metrics/EpCost                │ 25.30521011352539      │\n",
       "│ Metrics/EpLen                 │ 6.0                    │\n",
       "│ Train/Epoch                   │ 48.0                   │\n",
       "│ Train/Entropy                 │ 0.8372722864151001     │\n",
       "│ Train/KL                      │ 5.611844500208463e-08  │\n",
       "│ Train/StopIter                │ 10.0                   │\n",
       "│ Train/PolicyRatio/Mean        │ 0.9997321963310242     │\n",
       "│ Train/PolicyRatio/Min         │ 0.9997321963310242     │\n",
       "│ Train/PolicyRatio/Max         │ 0.9997321963310242     │\n",
       "│ Train/PolicyRatio/Std         │ 0.00024823276908136904 │\n",
       "│ Train/LR                      │ 0.0                    │\n",
       "│ Train/PolicyStd               │ 0.5628030896186829     │\n",
       "│ TotalEnvSteps                 │ 980000.0               │\n",
       "│ Loss/Loss_pi                  │ -0.06584671139717102   │\n",
       "│ Loss/Loss_pi/Delta            │ -0.09240406192839146   │\n",
       "│ Value/Adv                     │ 2.00271599304358e-09   │\n",
       "│ Loss/Loss_reward_critic       │ 8702.8642578125        │\n",
       "│ Loss/Loss_reward_critic/Delta │ -79.986328125          │\n",
       "│ Value/reward                  │ 55.806114196777344     │\n",
       "│ Loss/Loss_cost_critic         │ 560.937744140625       │\n",
       "│ Loss/Loss_cost_critic/Delta   │ -6.48248291015625      │\n",
       "│ Value/cost                    │ 14.895837783813477     │\n",
       "│ Time/Total                    │ 2905.023681640625      │\n",
       "│ Time/Rollout                  │ 27.88477325439453      │\n",
       "│ Time/Update                   │ 30.383344650268555     │\n",
       "│ Time/Epoch                    │ 58.26811599731445      │\n",
       "│ Time/FPS                      │ 343.2408752441406      │\n",
       "│ Env/Success_counts            │ nan                    │\n",
       "│ Misc/Alpha                    │ 0.08628395199775696    │\n",
       "│ Misc/FinalStepNorm            │ 0.0                    │\n",
       "│ Misc/gradient_norm            │ 8.202095985412598      │\n",
       "│ Misc/xHx                      │ 2.6863951683044434     │\n",
       "│ Misc/H_inv_g                  │ 1.4782381057739258     │\n",
       "│ Misc/AcceptanceStep           │ 0.0                    │\n",
       "│ Misc/cost_gradient_norm       │ 171.70347595214844     │\n",
       "│ Misc/A                        │ 1.5999908447265625     │\n",
       "│ Misc/B                        │ 0.019941899925470352   │\n",
       "│ Misc/q                        │ 2.6863951683044434     │\n",
       "│ Misc/r                        │ 41.736053466796875     │\n",
       "│ Misc/s                        │ 1603.3609619140625     │\n",
       "│ Misc/Lambda_star              │ 11.589640617370605     │\n",
       "│ Misc/Nu_star                  │ 0.0                    │\n",
       "│ Misc/OptimCase                │ 1.0                    │\n",
       "└───────────────────────────────┴────────────────────────┘\n",
       "</pre>\n"
      ],
      "text/plain": [
       "┏━━━━━━━━━━━━━━━━━━━━━━━━━━━━━━━┳━━━━━━━━━━━━━━━━━━━━━━━━┓\n",
       "┃\u001b[1m \u001b[0m\u001b[1mMetrics                      \u001b[0m\u001b[1m \u001b[0m┃\u001b[1m \u001b[0m\u001b[1mValue                 \u001b[0m\u001b[1m \u001b[0m┃\n",
       "┡━━━━━━━━━━━━━━━━━━━━━━━━━━━━━━━╇━━━━━━━━━━━━━━━━━━━━━━━━┩\n",
       "│ Metrics/EpRet                 │ 77.15739440917969      │\n",
       "│ Metrics/EpCost                │ 25.30521011352539      │\n",
       "│ Metrics/EpLen                 │ 6.0                    │\n",
       "│ Train/Epoch                   │ 48.0                   │\n",
       "│ Train/Entropy                 │ 0.8372722864151001     │\n",
       "│ Train/KL                      │ 5.611844500208463e-08  │\n",
       "│ Train/StopIter                │ 10.0                   │\n",
       "│ Train/PolicyRatio/Mean        │ 0.9997321963310242     │\n",
       "│ Train/PolicyRatio/Min         │ 0.9997321963310242     │\n",
       "│ Train/PolicyRatio/Max         │ 0.9997321963310242     │\n",
       "│ Train/PolicyRatio/Std         │ 0.00024823276908136904 │\n",
       "│ Train/LR                      │ 0.0                    │\n",
       "│ Train/PolicyStd               │ 0.5628030896186829     │\n",
       "│ TotalEnvSteps                 │ 980000.0               │\n",
       "│ Loss/Loss_pi                  │ -0.06584671139717102   │\n",
       "│ Loss/Loss_pi/Delta            │ -0.09240406192839146   │\n",
       "│ Value/Adv                     │ 2.00271599304358e-09   │\n",
       "│ Loss/Loss_reward_critic       │ 8702.8642578125        │\n",
       "│ Loss/Loss_reward_critic/Delta │ -79.986328125          │\n",
       "│ Value/reward                  │ 55.806114196777344     │\n",
       "│ Loss/Loss_cost_critic         │ 560.937744140625       │\n",
       "│ Loss/Loss_cost_critic/Delta   │ -6.48248291015625      │\n",
       "│ Value/cost                    │ 14.895837783813477     │\n",
       "│ Time/Total                    │ 2905.023681640625      │\n",
       "│ Time/Rollout                  │ 27.88477325439453      │\n",
       "│ Time/Update                   │ 30.383344650268555     │\n",
       "│ Time/Epoch                    │ 58.26811599731445      │\n",
       "│ Time/FPS                      │ 343.2408752441406      │\n",
       "│ Env/Success_counts            │ nan                    │\n",
       "│ Misc/Alpha                    │ 0.08628395199775696    │\n",
       "│ Misc/FinalStepNorm            │ 0.0                    │\n",
       "│ Misc/gradient_norm            │ 8.202095985412598      │\n",
       "│ Misc/xHx                      │ 2.6863951683044434     │\n",
       "│ Misc/H_inv_g                  │ 1.4782381057739258     │\n",
       "│ Misc/AcceptanceStep           │ 0.0                    │\n",
       "│ Misc/cost_gradient_norm       │ 171.70347595214844     │\n",
       "│ Misc/A                        │ 1.5999908447265625     │\n",
       "│ Misc/B                        │ 0.019941899925470352   │\n",
       "│ Misc/q                        │ 2.6863951683044434     │\n",
       "│ Misc/r                        │ 41.736053466796875     │\n",
       "│ Misc/s                        │ 1603.3609619140625     │\n",
       "│ Misc/Lambda_star              │ 11.589640617370605     │\n",
       "│ Misc/Nu_star                  │ 0.0                    │\n",
       "│ Misc/OptimCase                │ 1.0                    │\n",
       "└───────────────────────────────┴────────────────────────┘\n"
      ]
     },
     "metadata": {},
     "output_type": "display_data"
    },
    {
     "data": {
      "text/html": [
       "<pre style=\"white-space:pre;overflow-x:auto;line-height:normal;font-family:Menlo,'DejaVu Sans Mono',consolas,'Courier New',monospace\"><span style=\"color: #008000; text-decoration-color: #008000\">Warning: trajectory cut off when rollout by epoch at </span><span style=\"color: #008080; text-decoration-color: #008080; font-weight: bold\">2.0</span><span style=\"color: #008000; text-decoration-color: #008000\"> steps.</span>\n",
       "</pre>\n"
      ],
      "text/plain": [
       "\u001b[32mWarning: trajectory cut off when rollout by epoch at \u001b[0m\u001b[1;36m2.0\u001b[0m\u001b[32m steps.\u001b[0m\n"
      ]
     },
     "metadata": {},
     "output_type": "display_data"
    },
    {
     "data": {
      "text/html": [
       "<pre style=\"white-space:pre;overflow-x:auto;line-height:normal;font-family:Menlo,'DejaVu Sans Mono',consolas,'Courier New',monospace\"></pre>\n"
      ],
      "text/plain": []
     },
     "metadata": {},
     "output_type": "display_data"
    },
    {
     "data": {
      "text/html": [
       "<pre style=\"white-space:pre;overflow-x:auto;line-height:normal;font-family:Menlo,'DejaVu Sans Mono',consolas,'Courier New',monospace\"><span style=\"color: #008000; text-decoration-color: #008000\">Expected Improvement: </span><span style=\"color: #008080; text-decoration-color: #008080; font-weight: bold\">-0.16753529012203217</span><span style=\"color: #008000; text-decoration-color: #008000\"> Actual: </span><span style=\"color: #008080; text-decoration-color: #008080; font-weight: bold\">-0.1354943811893463</span>\n",
       "</pre>\n"
      ],
      "text/plain": [
       "\u001b[32mExpected Improvement: \u001b[0m\u001b[1;36m-0.16753529012203217\u001b[0m\u001b[32m Actual: \u001b[0m\u001b[1;36m-0.1354943811893463\u001b[0m\n"
      ]
     },
     "metadata": {},
     "output_type": "display_data"
    },
    {
     "data": {
      "text/html": [
       "<pre style=\"white-space:pre;overflow-x:auto;line-height:normal;font-family:Menlo,'DejaVu Sans Mono',consolas,'Courier New',monospace\"><span style=\"color: #008000; text-decoration-color: #008000\">INFO: did not improve improve &lt;</span><span style=\"color: #008080; text-decoration-color: #008080; font-weight: bold\">0</span>\n",
       "</pre>\n"
      ],
      "text/plain": [
       "\u001b[32mINFO: did not improve improve <\u001b[0m\u001b[1;36m0\u001b[0m\n"
      ]
     },
     "metadata": {},
     "output_type": "display_data"
    },
    {
     "data": {
      "text/html": [
       "<pre style=\"white-space:pre;overflow-x:auto;line-height:normal;font-family:Menlo,'DejaVu Sans Mono',consolas,'Courier New',monospace\"><span style=\"color: #008000; text-decoration-color: #008000\">Expected Improvement: </span><span style=\"color: #008080; text-decoration-color: #008080; font-weight: bold\">-0.16753529012203217</span><span style=\"color: #008000; text-decoration-color: #008000\"> Actual: </span><span style=\"color: #008080; text-decoration-color: #008080; font-weight: bold\">-0.1275477558374405</span>\n",
       "</pre>\n"
      ],
      "text/plain": [
       "\u001b[32mExpected Improvement: \u001b[0m\u001b[1;36m-0.16753529012203217\u001b[0m\u001b[32m Actual: \u001b[0m\u001b[1;36m-0.1275477558374405\u001b[0m\n"
      ]
     },
     "metadata": {},
     "output_type": "display_data"
    },
    {
     "data": {
      "text/html": [
       "<pre style=\"white-space:pre;overflow-x:auto;line-height:normal;font-family:Menlo,'DejaVu Sans Mono',consolas,'Courier New',monospace\"><span style=\"color: #008000; text-decoration-color: #008000\">INFO: did not improve improve &lt;</span><span style=\"color: #008080; text-decoration-color: #008080; font-weight: bold\">0</span>\n",
       "</pre>\n"
      ],
      "text/plain": [
       "\u001b[32mINFO: did not improve improve <\u001b[0m\u001b[1;36m0\u001b[0m\n"
      ]
     },
     "metadata": {},
     "output_type": "display_data"
    },
    {
     "data": {
      "text/html": [
       "<pre style=\"white-space:pre;overflow-x:auto;line-height:normal;font-family:Menlo,'DejaVu Sans Mono',consolas,'Courier New',monospace\"><span style=\"color: #008000; text-decoration-color: #008000\">Expected Improvement: </span><span style=\"color: #008080; text-decoration-color: #008080; font-weight: bold\">-0.16753529012203217</span><span style=\"color: #008000; text-decoration-color: #008000\"> Actual: </span><span style=\"color: #008080; text-decoration-color: #008080; font-weight: bold\">-0.10938088595867157</span>\n",
       "</pre>\n"
      ],
      "text/plain": [
       "\u001b[32mExpected Improvement: \u001b[0m\u001b[1;36m-0.16753529012203217\u001b[0m\u001b[32m Actual: \u001b[0m\u001b[1;36m-0.10938088595867157\u001b[0m\n"
      ]
     },
     "metadata": {},
     "output_type": "display_data"
    },
    {
     "data": {
      "text/html": [
       "<pre style=\"white-space:pre;overflow-x:auto;line-height:normal;font-family:Menlo,'DejaVu Sans Mono',consolas,'Courier New',monospace\"><span style=\"color: #008000; text-decoration-color: #008000\">INFO: did not improve improve &lt;</span><span style=\"color: #008080; text-decoration-color: #008080; font-weight: bold\">0</span>\n",
       "</pre>\n"
      ],
      "text/plain": [
       "\u001b[32mINFO: did not improve improve <\u001b[0m\u001b[1;36m0\u001b[0m\n"
      ]
     },
     "metadata": {},
     "output_type": "display_data"
    },
    {
     "data": {
      "text/html": [
       "<pre style=\"white-space:pre;overflow-x:auto;line-height:normal;font-family:Menlo,'DejaVu Sans Mono',consolas,'Courier New',monospace\"><span style=\"color: #008000; text-decoration-color: #008000\">Expected Improvement: </span><span style=\"color: #008080; text-decoration-color: #008080; font-weight: bold\">-0.16753529012203217</span><span style=\"color: #008000; text-decoration-color: #008000\"> Actual: </span><span style=\"color: #008080; text-decoration-color: #008080; font-weight: bold\">-0.08703643083572388</span>\n",
       "</pre>\n"
      ],
      "text/plain": [
       "\u001b[32mExpected Improvement: \u001b[0m\u001b[1;36m-0.16753529012203217\u001b[0m\u001b[32m Actual: \u001b[0m\u001b[1;36m-0.08703643083572388\u001b[0m\n"
      ]
     },
     "metadata": {},
     "output_type": "display_data"
    },
    {
     "data": {
      "text/html": [
       "<pre style=\"white-space:pre;overflow-x:auto;line-height:normal;font-family:Menlo,'DejaVu Sans Mono',consolas,'Courier New',monospace\"><span style=\"color: #008000; text-decoration-color: #008000\">INFO: did not improve improve &lt;</span><span style=\"color: #008080; text-decoration-color: #008080; font-weight: bold\">0</span>\n",
       "</pre>\n"
      ],
      "text/plain": [
       "\u001b[32mINFO: did not improve improve <\u001b[0m\u001b[1;36m0\u001b[0m\n"
      ]
     },
     "metadata": {},
     "output_type": "display_data"
    },
    {
     "data": {
      "text/html": [
       "<pre style=\"white-space:pre;overflow-x:auto;line-height:normal;font-family:Menlo,'DejaVu Sans Mono',consolas,'Courier New',monospace\"><span style=\"color: #008000; text-decoration-color: #008000\">Expected Improvement: </span><span style=\"color: #008080; text-decoration-color: #008080; font-weight: bold\">-0.16753529012203217</span><span style=\"color: #008000; text-decoration-color: #008000\"> Actual: </span><span style=\"color: #008080; text-decoration-color: #008080; font-weight: bold\">-0.06784366816282272</span>\n",
       "</pre>\n"
      ],
      "text/plain": [
       "\u001b[32mExpected Improvement: \u001b[0m\u001b[1;36m-0.16753529012203217\u001b[0m\u001b[32m Actual: \u001b[0m\u001b[1;36m-0.06784366816282272\u001b[0m\n"
      ]
     },
     "metadata": {},
     "output_type": "display_data"
    },
    {
     "data": {
      "text/html": [
       "<pre style=\"white-space:pre;overflow-x:auto;line-height:normal;font-family:Menlo,'DejaVu Sans Mono',consolas,'Courier New',monospace\"><span style=\"color: #008000; text-decoration-color: #008000\">INFO: did not improve improve &lt;</span><span style=\"color: #008080; text-decoration-color: #008080; font-weight: bold\">0</span>\n",
       "</pre>\n"
      ],
      "text/plain": [
       "\u001b[32mINFO: did not improve improve <\u001b[0m\u001b[1;36m0\u001b[0m\n"
      ]
     },
     "metadata": {},
     "output_type": "display_data"
    },
    {
     "data": {
      "text/html": [
       "<pre style=\"white-space:pre;overflow-x:auto;line-height:normal;font-family:Menlo,'DejaVu Sans Mono',consolas,'Courier New',monospace\"><span style=\"color: #008000; text-decoration-color: #008000\">Expected Improvement: </span><span style=\"color: #008080; text-decoration-color: #008080; font-weight: bold\">-0.16753529012203217</span><span style=\"color: #008000; text-decoration-color: #008000\"> Actual: </span><span style=\"color: #008080; text-decoration-color: #008080; font-weight: bold\">-0.05318726599216461</span>\n",
       "</pre>\n"
      ],
      "text/plain": [
       "\u001b[32mExpected Improvement: \u001b[0m\u001b[1;36m-0.16753529012203217\u001b[0m\u001b[32m Actual: \u001b[0m\u001b[1;36m-0.05318726599216461\u001b[0m\n"
      ]
     },
     "metadata": {},
     "output_type": "display_data"
    },
    {
     "data": {
      "text/html": [
       "<pre style=\"white-space:pre;overflow-x:auto;line-height:normal;font-family:Menlo,'DejaVu Sans Mono',consolas,'Courier New',monospace\"><span style=\"color: #008000; text-decoration-color: #008000\">INFO: did not improve improve &lt;</span><span style=\"color: #008080; text-decoration-color: #008080; font-weight: bold\">0</span>\n",
       "</pre>\n"
      ],
      "text/plain": [
       "\u001b[32mINFO: did not improve improve <\u001b[0m\u001b[1;36m0\u001b[0m\n"
      ]
     },
     "metadata": {},
     "output_type": "display_data"
    },
    {
     "data": {
      "text/html": [
       "<pre style=\"white-space:pre;overflow-x:auto;line-height:normal;font-family:Menlo,'DejaVu Sans Mono',consolas,'Courier New',monospace\"><span style=\"color: #008000; text-decoration-color: #008000\">Expected Improvement: </span><span style=\"color: #008080; text-decoration-color: #008080; font-weight: bold\">-0.16753529012203217</span><span style=\"color: #008000; text-decoration-color: #008000\"> Actual: </span><span style=\"color: #008080; text-decoration-color: #008080; font-weight: bold\">-0.04220364987850189</span>\n",
       "</pre>\n"
      ],
      "text/plain": [
       "\u001b[32mExpected Improvement: \u001b[0m\u001b[1;36m-0.16753529012203217\u001b[0m\u001b[32m Actual: \u001b[0m\u001b[1;36m-0.04220364987850189\u001b[0m\n"
      ]
     },
     "metadata": {},
     "output_type": "display_data"
    },
    {
     "data": {
      "text/html": [
       "<pre style=\"white-space:pre;overflow-x:auto;line-height:normal;font-family:Menlo,'DejaVu Sans Mono',consolas,'Courier New',monospace\"><span style=\"color: #008000; text-decoration-color: #008000\">INFO: did not improve improve &lt;</span><span style=\"color: #008080; text-decoration-color: #008080; font-weight: bold\">0</span>\n",
       "</pre>\n"
      ],
      "text/plain": [
       "\u001b[32mINFO: did not improve improve <\u001b[0m\u001b[1;36m0\u001b[0m\n"
      ]
     },
     "metadata": {},
     "output_type": "display_data"
    },
    {
     "data": {
      "text/html": [
       "<pre style=\"white-space:pre;overflow-x:auto;line-height:normal;font-family:Menlo,'DejaVu Sans Mono',consolas,'Courier New',monospace\"><span style=\"color: #008000; text-decoration-color: #008000\">Expected Improvement: </span><span style=\"color: #008080; text-decoration-color: #008080; font-weight: bold\">-0.16753529012203217</span><span style=\"color: #008000; text-decoration-color: #008000\"> Actual: </span><span style=\"color: #008080; text-decoration-color: #008080; font-weight: bold\">-0.033750832080841064</span>\n",
       "</pre>\n"
      ],
      "text/plain": [
       "\u001b[32mExpected Improvement: \u001b[0m\u001b[1;36m-0.16753529012203217\u001b[0m\u001b[32m Actual: \u001b[0m\u001b[1;36m-0.033750832080841064\u001b[0m\n"
      ]
     },
     "metadata": {},
     "output_type": "display_data"
    },
    {
     "data": {
      "text/html": [
       "<pre style=\"white-space:pre;overflow-x:auto;line-height:normal;font-family:Menlo,'DejaVu Sans Mono',consolas,'Courier New',monospace\"><span style=\"color: #008000; text-decoration-color: #008000\">INFO: did not improve improve &lt;</span><span style=\"color: #008080; text-decoration-color: #008080; font-weight: bold\">0</span>\n",
       "</pre>\n"
      ],
      "text/plain": [
       "\u001b[32mINFO: did not improve improve <\u001b[0m\u001b[1;36m0\u001b[0m\n"
      ]
     },
     "metadata": {},
     "output_type": "display_data"
    },
    {
     "data": {
      "text/html": [
       "<pre style=\"white-space:pre;overflow-x:auto;line-height:normal;font-family:Menlo,'DejaVu Sans Mono',consolas,'Courier New',monospace\"><span style=\"color: #008000; text-decoration-color: #008000\">Expected Improvement: </span><span style=\"color: #008080; text-decoration-color: #008080; font-weight: bold\">-0.16753529012203217</span><span style=\"color: #008000; text-decoration-color: #008000\"> Actual: </span><span style=\"color: #008080; text-decoration-color: #008080; font-weight: bold\">-0.027088508009910583</span>\n",
       "</pre>\n"
      ],
      "text/plain": [
       "\u001b[32mExpected Improvement: \u001b[0m\u001b[1;36m-0.16753529012203217\u001b[0m\u001b[32m Actual: \u001b[0m\u001b[1;36m-0.027088508009910583\u001b[0m\n"
      ]
     },
     "metadata": {},
     "output_type": "display_data"
    },
    {
     "data": {
      "text/html": [
       "<pre style=\"white-space:pre;overflow-x:auto;line-height:normal;font-family:Menlo,'DejaVu Sans Mono',consolas,'Courier New',monospace\"><span style=\"color: #008000; text-decoration-color: #008000\">INFO: did not improve improve &lt;</span><span style=\"color: #008080; text-decoration-color: #008080; font-weight: bold\">0</span>\n",
       "</pre>\n"
      ],
      "text/plain": [
       "\u001b[32mINFO: did not improve improve <\u001b[0m\u001b[1;36m0\u001b[0m\n"
      ]
     },
     "metadata": {},
     "output_type": "display_data"
    },
    {
     "data": {
      "text/html": [
       "<pre style=\"white-space:pre;overflow-x:auto;line-height:normal;font-family:Menlo,'DejaVu Sans Mono',consolas,'Courier New',monospace\"><span style=\"color: #008000; text-decoration-color: #008000\">Expected Improvement: </span><span style=\"color: #008080; text-decoration-color: #008080; font-weight: bold\">-0.16753529012203217</span><span style=\"color: #008000; text-decoration-color: #008000\"> Actual: </span><span style=\"color: #008080; text-decoration-color: #008080; font-weight: bold\">-0.02177097275853157</span>\n",
       "</pre>\n"
      ],
      "text/plain": [
       "\u001b[32mExpected Improvement: \u001b[0m\u001b[1;36m-0.16753529012203217\u001b[0m\u001b[32m Actual: \u001b[0m\u001b[1;36m-0.02177097275853157\u001b[0m\n"
      ]
     },
     "metadata": {},
     "output_type": "display_data"
    },
    {
     "data": {
      "text/html": [
       "<pre style=\"white-space:pre;overflow-x:auto;line-height:normal;font-family:Menlo,'DejaVu Sans Mono',consolas,'Courier New',monospace\"><span style=\"color: #008000; text-decoration-color: #008000\">INFO: did not improve improve &lt;</span><span style=\"color: #008080; text-decoration-color: #008080; font-weight: bold\">0</span>\n",
       "</pre>\n"
      ],
      "text/plain": [
       "\u001b[32mINFO: did not improve improve <\u001b[0m\u001b[1;36m0\u001b[0m\n"
      ]
     },
     "metadata": {},
     "output_type": "display_data"
    },
    {
     "data": {
      "text/html": [
       "<pre style=\"white-space:pre;overflow-x:auto;line-height:normal;font-family:Menlo,'DejaVu Sans Mono',consolas,'Courier New',monospace\"><span style=\"color: #008000; text-decoration-color: #008000\">Expected Improvement: </span><span style=\"color: #008080; text-decoration-color: #008080; font-weight: bold\">-0.16753529012203217</span><span style=\"color: #008000; text-decoration-color: #008000\"> Actual: </span><span style=\"color: #008080; text-decoration-color: #008080; font-weight: bold\">-0.017499959096312523</span>\n",
       "</pre>\n"
      ],
      "text/plain": [
       "\u001b[32mExpected Improvement: \u001b[0m\u001b[1;36m-0.16753529012203217\u001b[0m\u001b[32m Actual: \u001b[0m\u001b[1;36m-0.017499959096312523\u001b[0m\n"
      ]
     },
     "metadata": {},
     "output_type": "display_data"
    },
    {
     "data": {
      "text/html": [
       "<pre style=\"white-space:pre;overflow-x:auto;line-height:normal;font-family:Menlo,'DejaVu Sans Mono',consolas,'Courier New',monospace\"><span style=\"color: #008000; text-decoration-color: #008000\">INFO: did not improve improve &lt;</span><span style=\"color: #008080; text-decoration-color: #008080; font-weight: bold\">0</span>\n",
       "</pre>\n"
      ],
      "text/plain": [
       "\u001b[32mINFO: did not improve improve <\u001b[0m\u001b[1;36m0\u001b[0m\n"
      ]
     },
     "metadata": {},
     "output_type": "display_data"
    },
    {
     "data": {
      "text/html": [
       "<pre style=\"white-space:pre;overflow-x:auto;line-height:normal;font-family:Menlo,'DejaVu Sans Mono',consolas,'Courier New',monospace\"><span style=\"color: #008000; text-decoration-color: #008000\">Expected Improvement: </span><span style=\"color: #008080; text-decoration-color: #008080; font-weight: bold\">-0.16753529012203217</span><span style=\"color: #008000; text-decoration-color: #008000\"> Actual: </span><span style=\"color: #008080; text-decoration-color: #008080; font-weight: bold\">-0.01406362559646368</span>\n",
       "</pre>\n"
      ],
      "text/plain": [
       "\u001b[32mExpected Improvement: \u001b[0m\u001b[1;36m-0.16753529012203217\u001b[0m\u001b[32m Actual: \u001b[0m\u001b[1;36m-0.01406362559646368\u001b[0m\n"
      ]
     },
     "metadata": {},
     "output_type": "display_data"
    },
    {
     "data": {
      "text/html": [
       "<pre style=\"white-space:pre;overflow-x:auto;line-height:normal;font-family:Menlo,'DejaVu Sans Mono',consolas,'Courier New',monospace\"><span style=\"color: #008000; text-decoration-color: #008000\">INFO: did not improve improve &lt;</span><span style=\"color: #008080; text-decoration-color: #008080; font-weight: bold\">0</span>\n",
       "</pre>\n"
      ],
      "text/plain": [
       "\u001b[32mINFO: did not improve improve <\u001b[0m\u001b[1;36m0\u001b[0m\n"
      ]
     },
     "metadata": {},
     "output_type": "display_data"
    },
    {
     "data": {
      "text/html": [
       "<pre style=\"white-space:pre;overflow-x:auto;line-height:normal;font-family:Menlo,'DejaVu Sans Mono',consolas,'Courier New',monospace\"><span style=\"color: #008000; text-decoration-color: #008000\">Expected Improvement: </span><span style=\"color: #008080; text-decoration-color: #008080; font-weight: bold\">-0.16753529012203217</span><span style=\"color: #008000; text-decoration-color: #008000\"> Actual: </span><span style=\"color: #008080; text-decoration-color: #008080; font-weight: bold\">-0.011296408250927925</span>\n",
       "</pre>\n"
      ],
      "text/plain": [
       "\u001b[32mExpected Improvement: \u001b[0m\u001b[1;36m-0.16753529012203217\u001b[0m\u001b[32m Actual: \u001b[0m\u001b[1;36m-0.011296408250927925\u001b[0m\n"
      ]
     },
     "metadata": {},
     "output_type": "display_data"
    },
    {
     "data": {
      "text/html": [
       "<pre style=\"white-space:pre;overflow-x:auto;line-height:normal;font-family:Menlo,'DejaVu Sans Mono',consolas,'Courier New',monospace\"><span style=\"color: #008000; text-decoration-color: #008000\">INFO: did not improve improve &lt;</span><span style=\"color: #008080; text-decoration-color: #008080; font-weight: bold\">0</span>\n",
       "</pre>\n"
      ],
      "text/plain": [
       "\u001b[32mINFO: did not improve improve <\u001b[0m\u001b[1;36m0\u001b[0m\n"
      ]
     },
     "metadata": {},
     "output_type": "display_data"
    },
    {
     "data": {
      "text/html": [
       "<pre style=\"white-space:pre;overflow-x:auto;line-height:normal;font-family:Menlo,'DejaVu Sans Mono',consolas,'Courier New',monospace\"><span style=\"color: #008000; text-decoration-color: #008000\">Expected Improvement: </span><span style=\"color: #008080; text-decoration-color: #008080; font-weight: bold\">-0.16753529012203217</span><span style=\"color: #008000; text-decoration-color: #008000\"> Actual: </span><span style=\"color: #008080; text-decoration-color: #008080; font-weight: bold\">-0.009068147279322147</span>\n",
       "</pre>\n"
      ],
      "text/plain": [
       "\u001b[32mExpected Improvement: \u001b[0m\u001b[1;36m-0.16753529012203217\u001b[0m\u001b[32m Actual: \u001b[0m\u001b[1;36m-0.009068147279322147\u001b[0m\n"
      ]
     },
     "metadata": {},
     "output_type": "display_data"
    },
    {
     "data": {
      "text/html": [
       "<pre style=\"white-space:pre;overflow-x:auto;line-height:normal;font-family:Menlo,'DejaVu Sans Mono',consolas,'Courier New',monospace\"><span style=\"color: #008000; text-decoration-color: #008000\">INFO: did not improve improve &lt;</span><span style=\"color: #008080; text-decoration-color: #008080; font-weight: bold\">0</span>\n",
       "</pre>\n"
      ],
      "text/plain": [
       "\u001b[32mINFO: did not improve improve <\u001b[0m\u001b[1;36m0\u001b[0m\n"
      ]
     },
     "metadata": {},
     "output_type": "display_data"
    },
    {
     "data": {
      "text/html": [
       "<pre style=\"white-space:pre;overflow-x:auto;line-height:normal;font-family:Menlo,'DejaVu Sans Mono',consolas,'Courier New',monospace\"><span style=\"color: #008000; text-decoration-color: #008000\">Expected Improvement: </span><span style=\"color: #008080; text-decoration-color: #008080; font-weight: bold\">-0.16753529012203217</span><span style=\"color: #008000; text-decoration-color: #008000\"> Actual: </span><span style=\"color: #008080; text-decoration-color: #008080; font-weight: bold\">-0.007275519426912069</span>\n",
       "</pre>\n"
      ],
      "text/plain": [
       "\u001b[32mExpected Improvement: \u001b[0m\u001b[1;36m-0.16753529012203217\u001b[0m\u001b[32m Actual: \u001b[0m\u001b[1;36m-0.007275519426912069\u001b[0m\n"
      ]
     },
     "metadata": {},
     "output_type": "display_data"
    },
    {
     "data": {
      "text/html": [
       "<pre style=\"white-space:pre;overflow-x:auto;line-height:normal;font-family:Menlo,'DejaVu Sans Mono',consolas,'Courier New',monospace\"><span style=\"color: #008000; text-decoration-color: #008000\">INFO: did not improve improve &lt;</span><span style=\"color: #008080; text-decoration-color: #008080; font-weight: bold\">0</span>\n",
       "</pre>\n"
      ],
      "text/plain": [
       "\u001b[32mINFO: did not improve improve <\u001b[0m\u001b[1;36m0\u001b[0m\n"
      ]
     },
     "metadata": {},
     "output_type": "display_data"
    },
    {
     "data": {
      "text/html": [
       "<pre style=\"white-space:pre;overflow-x:auto;line-height:normal;font-family:Menlo,'DejaVu Sans Mono',consolas,'Courier New',monospace\"><span style=\"color: #008000; text-decoration-color: #008000\">Expected Improvement: </span><span style=\"color: #008080; text-decoration-color: #008080; font-weight: bold\">-0.16753529012203217</span><span style=\"color: #008000; text-decoration-color: #008000\"> Actual: </span><span style=\"color: #008080; text-decoration-color: #008080; font-weight: bold\">-0.0058343359269201756</span>\n",
       "</pre>\n"
      ],
      "text/plain": [
       "\u001b[32mExpected Improvement: \u001b[0m\u001b[1;36m-0.16753529012203217\u001b[0m\u001b[32m Actual: \u001b[0m\u001b[1;36m-0.0058343359269201756\u001b[0m\n"
      ]
     },
     "metadata": {},
     "output_type": "display_data"
    },
    {
     "data": {
      "text/html": [
       "<pre style=\"white-space:pre;overflow-x:auto;line-height:normal;font-family:Menlo,'DejaVu Sans Mono',consolas,'Courier New',monospace\"><span style=\"color: #008000; text-decoration-color: #008000\">INFO: did not improve improve &lt;</span><span style=\"color: #008080; text-decoration-color: #008080; font-weight: bold\">0</span>\n",
       "</pre>\n"
      ],
      "text/plain": [
       "\u001b[32mINFO: did not improve improve <\u001b[0m\u001b[1;36m0\u001b[0m\n"
      ]
     },
     "metadata": {},
     "output_type": "display_data"
    },
    {
     "data": {
      "text/html": [
       "<pre style=\"white-space:pre;overflow-x:auto;line-height:normal;font-family:Menlo,'DejaVu Sans Mono',consolas,'Courier New',monospace\"><span style=\"color: #008000; text-decoration-color: #008000\">Expected Improvement: </span><span style=\"color: #008080; text-decoration-color: #008080; font-weight: bold\">-0.16753529012203217</span><span style=\"color: #008000; text-decoration-color: #008000\"> Actual: </span><span style=\"color: #008080; text-decoration-color: #008080; font-weight: bold\">-0.004676710814237595</span>\n",
       "</pre>\n"
      ],
      "text/plain": [
       "\u001b[32mExpected Improvement: \u001b[0m\u001b[1;36m-0.16753529012203217\u001b[0m\u001b[32m Actual: \u001b[0m\u001b[1;36m-0.004676710814237595\u001b[0m\n"
      ]
     },
     "metadata": {},
     "output_type": "display_data"
    },
    {
     "data": {
      "text/html": [
       "<pre style=\"white-space:pre;overflow-x:auto;line-height:normal;font-family:Menlo,'DejaVu Sans Mono',consolas,'Courier New',monospace\"><span style=\"color: #008000; text-decoration-color: #008000\">INFO: did not improve improve &lt;</span><span style=\"color: #008080; text-decoration-color: #008080; font-weight: bold\">0</span>\n",
       "</pre>\n"
      ],
      "text/plain": [
       "\u001b[32mINFO: did not improve improve <\u001b[0m\u001b[1;36m0\u001b[0m\n"
      ]
     },
     "metadata": {},
     "output_type": "display_data"
    },
    {
     "data": {
      "text/html": [
       "<pre style=\"white-space:pre;overflow-x:auto;line-height:normal;font-family:Menlo,'DejaVu Sans Mono',consolas,'Courier New',monospace\"><span style=\"color: #008000; text-decoration-color: #008000\">Expected Improvement: </span><span style=\"color: #008080; text-decoration-color: #008080; font-weight: bold\">-0.16753529012203217</span><span style=\"color: #008000; text-decoration-color: #008000\"> Actual: </span><span style=\"color: #008080; text-decoration-color: #008080; font-weight: bold\">-0.0037475558929145336</span>\n",
       "</pre>\n"
      ],
      "text/plain": [
       "\u001b[32mExpected Improvement: \u001b[0m\u001b[1;36m-0.16753529012203217\u001b[0m\u001b[32m Actual: \u001b[0m\u001b[1;36m-0.0037475558929145336\u001b[0m\n"
      ]
     },
     "metadata": {},
     "output_type": "display_data"
    },
    {
     "data": {
      "text/html": [
       "<pre style=\"white-space:pre;overflow-x:auto;line-height:normal;font-family:Menlo,'DejaVu Sans Mono',consolas,'Courier New',monospace\"><span style=\"color: #008000; text-decoration-color: #008000\">INFO: did not improve improve &lt;</span><span style=\"color: #008080; text-decoration-color: #008080; font-weight: bold\">0</span>\n",
       "</pre>\n"
      ],
      "text/plain": [
       "\u001b[32mINFO: did not improve improve <\u001b[0m\u001b[1;36m0\u001b[0m\n"
      ]
     },
     "metadata": {},
     "output_type": "display_data"
    },
    {
     "data": {
      "text/html": [
       "<pre style=\"white-space:pre;overflow-x:auto;line-height:normal;font-family:Menlo,'DejaVu Sans Mono',consolas,'Courier New',monospace\"><span style=\"color: #008000; text-decoration-color: #008000\">Expected Improvement: </span><span style=\"color: #008080; text-decoration-color: #008080; font-weight: bold\">-0.16753529012203217</span><span style=\"color: #008000; text-decoration-color: #008000\"> Actual: </span><span style=\"color: #008080; text-decoration-color: #008080; font-weight: bold\">-0.0030020764097571373</span>\n",
       "</pre>\n"
      ],
      "text/plain": [
       "\u001b[32mExpected Improvement: \u001b[0m\u001b[1;36m-0.16753529012203217\u001b[0m\u001b[32m Actual: \u001b[0m\u001b[1;36m-0.0030020764097571373\u001b[0m\n"
      ]
     },
     "metadata": {},
     "output_type": "display_data"
    },
    {
     "data": {
      "text/html": [
       "<pre style=\"white-space:pre;overflow-x:auto;line-height:normal;font-family:Menlo,'DejaVu Sans Mono',consolas,'Courier New',monospace\"><span style=\"color: #008000; text-decoration-color: #008000\">INFO: did not improve improve &lt;</span><span style=\"color: #008080; text-decoration-color: #008080; font-weight: bold\">0</span>\n",
       "</pre>\n"
      ],
      "text/plain": [
       "\u001b[32mINFO: did not improve improve <\u001b[0m\u001b[1;36m0\u001b[0m\n"
      ]
     },
     "metadata": {},
     "output_type": "display_data"
    },
    {
     "data": {
      "text/html": [
       "<pre style=\"white-space:pre;overflow-x:auto;line-height:normal;font-family:Menlo,'DejaVu Sans Mono',consolas,'Courier New',monospace\"><span style=\"color: #008000; text-decoration-color: #008000\">Expected Improvement: </span><span style=\"color: #008080; text-decoration-color: #008080; font-weight: bold\">-0.16753529012203217</span><span style=\"color: #008000; text-decoration-color: #008000\"> Actual: </span><span style=\"color: #008080; text-decoration-color: #008080; font-weight: bold\">-0.0024042429868131876</span>\n",
       "</pre>\n"
      ],
      "text/plain": [
       "\u001b[32mExpected Improvement: \u001b[0m\u001b[1;36m-0.16753529012203217\u001b[0m\u001b[32m Actual: \u001b[0m\u001b[1;36m-0.0024042429868131876\u001b[0m\n"
      ]
     },
     "metadata": {},
     "output_type": "display_data"
    },
    {
     "data": {
      "text/html": [
       "<pre style=\"white-space:pre;overflow-x:auto;line-height:normal;font-family:Menlo,'DejaVu Sans Mono',consolas,'Courier New',monospace\"><span style=\"color: #008000; text-decoration-color: #008000\">INFO: did not improve improve &lt;</span><span style=\"color: #008080; text-decoration-color: #008080; font-weight: bold\">0</span>\n",
       "</pre>\n"
      ],
      "text/plain": [
       "\u001b[32mINFO: did not improve improve <\u001b[0m\u001b[1;36m0\u001b[0m\n"
      ]
     },
     "metadata": {},
     "output_type": "display_data"
    },
    {
     "data": {
      "text/html": [
       "<pre style=\"white-space:pre;overflow-x:auto;line-height:normal;font-family:Menlo,'DejaVu Sans Mono',consolas,'Courier New',monospace\"><span style=\"color: #008000; text-decoration-color: #008000\">INFO: no suitable step found</span><span style=\"color: #808000; text-decoration-color: #808000\">...</span>\n",
       "</pre>\n"
      ],
      "text/plain": [
       "\u001b[32mINFO: no suitable step found\u001b[0m\u001b[33m...\u001b[0m\n"
      ]
     },
     "metadata": {},
     "output_type": "display_data"
    },
    {
     "data": {
      "text/html": [
       "<pre style=\"white-space:pre;overflow-x:auto;line-height:normal;font-family:Menlo,'DejaVu Sans Mono',consolas,'Courier New',monospace\">┏━━━━━━━━━━━━━━━━━━━━━━━━━━━━━━━┳━━━━━━━━━━━━━━━━━━━━━━━━┓\n",
       "┃<span style=\"font-weight: bold\"> Metrics                       </span>┃<span style=\"font-weight: bold\"> Value                  </span>┃\n",
       "┡━━━━━━━━━━━━━━━━━━━━━━━━━━━━━━━╇━━━━━━━━━━━━━━━━━━━━━━━━┩\n",
       "│ Metrics/EpRet                 │ 78.23896789550781      │\n",
       "│ Metrics/EpCost                │ 22.205121994018555     │\n",
       "│ Metrics/EpLen                 │ 6.0                    │\n",
       "│ Train/Epoch                   │ 49.0                   │\n",
       "│ Train/Entropy                 │ 0.8359470963478088     │\n",
       "│ Train/KL                      │ 2.903865414793927e-08  │\n",
       "│ Train/StopIter                │ 10.0                   │\n",
       "│ Train/PolicyRatio/Mean        │ 1.0011897087097168     │\n",
       "│ Train/PolicyRatio/Min         │ 1.0011897087097168     │\n",
       "│ Train/PolicyRatio/Max         │ 1.0011897087097168     │\n",
       "│ Train/PolicyRatio/Std         │ 0.002392220078036189   │\n",
       "│ Train/LR                      │ 0.0                    │\n",
       "│ Train/PolicyStd               │ 0.5619451999664307     │\n",
       "│ TotalEnvSteps                 │ 1000000.0              │\n",
       "│ Loss/Loss_pi                  │ 0.03409451246261597    │\n",
       "│ Loss/Loss_pi/Delta            │ 0.09994122385978699    │\n",
       "│ Value/Adv                     │ -4.720687840631399e-09 │\n",
       "│ Loss/Loss_reward_critic       │ 8978.3671875           │\n",
       "│ Loss/Loss_reward_critic/Delta │ 275.5029296875         │\n",
       "│ Value/reward                  │ 61.56230163574219      │\n",
       "│ Loss/Loss_cost_critic         │ 634.7098999023438      │\n",
       "│ Loss/Loss_cost_critic/Delta   │ 73.77215576171875      │\n",
       "│ Value/cost                    │ 15.419243812561035     │\n",
       "│ Time/Total                    │ 2965.65771484375       │\n",
       "│ Time/Rollout                  │ 28.99850845336914      │\n",
       "│ Time/Update                   │ 31.588716506958008     │\n",
       "│ Time/Epoch                    │ 60.587223052978516     │\n",
       "│ Time/FPS                      │ 330.10260009765625     │\n",
       "│ Env/Success_counts            │ nan                    │\n",
       "│ Misc/Alpha                    │ 0.08634120970964432    │\n",
       "│ Misc/FinalStepNorm            │ 0.0                    │\n",
       "│ Misc/gradient_norm            │ 7.650221824645996      │\n",
       "│ Misc/xHx                      │ 2.682833671569824      │\n",
       "│ Misc/H_inv_g                  │ 1.5808453559875488     │\n",
       "│ Misc/AcceptanceStep           │ 0.0                    │\n",
       "│ Misc/cost_gradient_norm       │ 162.68873596191406     │\n",
       "│ Misc/A                        │ 0.9660171270370483     │\n",
       "│ Misc/B                        │ 0.01328330673277378    │\n",
       "│ Misc/q                        │ 2.682833671569824      │\n",
       "│ Misc/r                        │ 44.68348693847656      │\n",
       "│ Misc/s                        │ 1162.974609375         │\n",
       "│ Misc/Lambda_star              │ -15.98763370513916     │\n",
       "│ Misc/Nu_star                  │ 0.0                    │\n",
       "│ Misc/OptimCase                │ 2.0                    │\n",
       "└───────────────────────────────┴────────────────────────┘\n",
       "</pre>\n"
      ],
      "text/plain": [
       "┏━━━━━━━━━━━━━━━━━━━━━━━━━━━━━━━┳━━━━━━━━━━━━━━━━━━━━━━━━┓\n",
       "┃\u001b[1m \u001b[0m\u001b[1mMetrics                      \u001b[0m\u001b[1m \u001b[0m┃\u001b[1m \u001b[0m\u001b[1mValue                 \u001b[0m\u001b[1m \u001b[0m┃\n",
       "┡━━━━━━━━━━━━━━━━━━━━━━━━━━━━━━━╇━━━━━━━━━━━━━━━━━━━━━━━━┩\n",
       "│ Metrics/EpRet                 │ 78.23896789550781      │\n",
       "│ Metrics/EpCost                │ 22.205121994018555     │\n",
       "│ Metrics/EpLen                 │ 6.0                    │\n",
       "│ Train/Epoch                   │ 49.0                   │\n",
       "│ Train/Entropy                 │ 0.8359470963478088     │\n",
       "│ Train/KL                      │ 2.903865414793927e-08  │\n",
       "│ Train/StopIter                │ 10.0                   │\n",
       "│ Train/PolicyRatio/Mean        │ 1.0011897087097168     │\n",
       "│ Train/PolicyRatio/Min         │ 1.0011897087097168     │\n",
       "│ Train/PolicyRatio/Max         │ 1.0011897087097168     │\n",
       "│ Train/PolicyRatio/Std         │ 0.002392220078036189   │\n",
       "│ Train/LR                      │ 0.0                    │\n",
       "│ Train/PolicyStd               │ 0.5619451999664307     │\n",
       "│ TotalEnvSteps                 │ 1000000.0              │\n",
       "│ Loss/Loss_pi                  │ 0.03409451246261597    │\n",
       "│ Loss/Loss_pi/Delta            │ 0.09994122385978699    │\n",
       "│ Value/Adv                     │ -4.720687840631399e-09 │\n",
       "│ Loss/Loss_reward_critic       │ 8978.3671875           │\n",
       "│ Loss/Loss_reward_critic/Delta │ 275.5029296875         │\n",
       "│ Value/reward                  │ 61.56230163574219      │\n",
       "│ Loss/Loss_cost_critic         │ 634.7098999023438      │\n",
       "│ Loss/Loss_cost_critic/Delta   │ 73.77215576171875      │\n",
       "│ Value/cost                    │ 15.419243812561035     │\n",
       "│ Time/Total                    │ 2965.65771484375       │\n",
       "│ Time/Rollout                  │ 28.99850845336914      │\n",
       "│ Time/Update                   │ 31.588716506958008     │\n",
       "│ Time/Epoch                    │ 60.587223052978516     │\n",
       "│ Time/FPS                      │ 330.10260009765625     │\n",
       "│ Env/Success_counts            │ nan                    │\n",
       "│ Misc/Alpha                    │ 0.08634120970964432    │\n",
       "│ Misc/FinalStepNorm            │ 0.0                    │\n",
       "│ Misc/gradient_norm            │ 7.650221824645996      │\n",
       "│ Misc/xHx                      │ 2.682833671569824      │\n",
       "│ Misc/H_inv_g                  │ 1.5808453559875488     │\n",
       "│ Misc/AcceptanceStep           │ 0.0                    │\n",
       "│ Misc/cost_gradient_norm       │ 162.68873596191406     │\n",
       "│ Misc/A                        │ 0.9660171270370483     │\n",
       "│ Misc/B                        │ 0.01328330673277378    │\n",
       "│ Misc/q                        │ 2.682833671569824      │\n",
       "│ Misc/r                        │ 44.68348693847656      │\n",
       "│ Misc/s                        │ 1162.974609375         │\n",
       "│ Misc/Lambda_star              │ -15.98763370513916     │\n",
       "│ Misc/Nu_star                  │ 0.0                    │\n",
       "│ Misc/OptimCase                │ 2.0                    │\n",
       "└───────────────────────────────┴────────────────────────┘\n"
      ]
     },
     "metadata": {},
     "output_type": "display_data"
    },
    {
     "data": {
      "text/plain": [
       "(78.23896789550781, 22.205121994018555, 6.0)"
      ]
     },
     "execution_count": 4,
     "metadata": {},
     "output_type": "execute_result"
    }
   ],
   "source": [
    "env_id = f'Blend-{layout}'\n",
    "agent = omnisafe.Agent(ALGO, env_id, custom_cfgs=cfg)\n",
    "agent.learn()"
   ]
  },
  {
   "cell_type": "code",
   "execution_count": null,
   "metadata": {},
   "outputs": [],
   "source": []
  }
 ],
 "metadata": {
  "kernelspec": {
   "display_name": "blendv2",
   "language": "python",
   "name": "python3"
  },
  "language_info": {
   "codemirror_mode": {
    "name": "ipython",
    "version": 3
   },
   "file_extension": ".py",
   "mimetype": "text/x-python",
   "name": "python",
   "nbconvert_exporter": "python",
   "pygments_lexer": "ipython3",
   "version": "3.8.0"
  }
 },
 "nbformat": 4,
 "nbformat_minor": 2
}
