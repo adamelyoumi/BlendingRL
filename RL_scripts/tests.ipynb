{
 "cells": [
  {
   "cell_type": "code",
   "execution_count": 40,
   "metadata": {},
   "outputs": [
    {
     "name": "stdout",
     "output_type": "stream",
     "text": [
      "c:\\Users\\adame\\OneDrive\\Bureau\\CODE\\BlendingRL\n"
     ]
    }
   ],
   "source": [
    "import sys, os\n",
    "sys.path.append(os.path.dirname(os.path.abspath(os.getcwd())))\n",
    "try:\n",
    "    print(curr_dir)\n",
    "except:\n",
    "    curr_dir = os.path.dirname(os.path.abspath(os.getcwd()))\n",
    "    os.chdir(curr_dir)\n",
    "    print(curr_dir)\n",
    "\n",
    "import json\n",
    "import numpy as np\n",
    "import torch as th\n",
    "from stable_baselines3 import PPO, DDPG\n",
    "from stable_baselines3.common.monitor import Monitor\n",
    "from stable_baselines3.common.callbacks import BaseCallback\n",
    "from stable_baselines3.common.vec_env import DummyVecEnv, VecNormalize\n",
    "from stable_baselines3.common.utils import safe_mean\n",
    "from envs import BlendEnv, flatten_and_track_mappings, reconstruct_dict\n",
    "from utils import *"
   ]
  },
  {
   "cell_type": "code",
   "execution_count": 41,
   "metadata": {},
   "outputs": [],
   "source": [
    "layout = \"simple\"\n",
    "connections, action_sample = get_jsons(layout)\n",
    "sources, blend, demands = get_sbp(connections)\n",
    "tau0   = {s: [10, 10, 10, 0, 0, 0] for s in sources}\n",
    "delta0 = {d: [0, 0, 0, 10, 10, 10] for d in demands}"
   ]
  },
  {
   "cell_type": "code",
   "execution_count": 42,
   "metadata": {},
   "outputs": [],
   "source": [
    "env = BlendEnv(v = True, T = 6,\n",
    "                    D = 0.1, Q = 0,\n",
    "                    P = 2, B = 2,\n",
    "                    Z = 1, M = 2,\n",
    "                    MAXFLOW = 500,\n",
    "                    connections = connections,\n",
    "                    action_sample = action_sample,\n",
    "                    tau0 = tau0,delta0 = delta0)"
   ]
  },
  {
   "cell_type": "code",
   "execution_count": 43,
   "metadata": {},
   "outputs": [],
   "source": [
    "action = {\n",
    "    \"source_blend\": {\n",
    "        \"s1\": {\n",
    "            \"j1\": 1,\n",
    "            \"j2\": 1,\n",
    "            \"j3\": 0,\n",
    "            \"j4\": 0\n",
    "        },\n",
    "        \"s2\": {\n",
    "            \"j1\": 1,\n",
    "            \"j2\": 1,\n",
    "            \"j3\": 0,\n",
    "            \"j4\": 0\n",
    "        }\n",
    "    },\n",
    "    \"blend_blend\": {},\n",
    "    \"blend_demand\": {\n",
    "        \"j1\": {\n",
    "            \"p1\": 0,\n",
    "            \"p2\": 0\n",
    "        },\n",
    "        \"j2\": {\n",
    "            \"p1\": 0,\n",
    "            \"p2\": 0\n",
    "        },\n",
    "        \"j3\": {\n",
    "            \"p1\": 0,\n",
    "            \"p2\": 0\n",
    "        },\n",
    "        \"j4\": {\n",
    "            \"p1\": 0,\n",
    "            \"p2\": 0\n",
    "        }\n",
    "    },\n",
    "    \"tau\": {\n",
    "        \"s1\": 10,\n",
    "        \"s2\": 10\n",
    "    },\n",
    "    \"delta\": {\n",
    "        \"p1\": 0,\n",
    "        \"p2\": 0\n",
    "    }\n",
    "}"
   ]
  },
  {
   "cell_type": "code",
   "execution_count": 44,
   "metadata": {},
   "outputs": [],
   "source": [
    "state, info_d = env.reset()"
   ]
  },
  {
   "cell_type": "code",
   "execution_count": 45,
   "metadata": {},
   "outputs": [
    {
     "data": {
      "text/plain": [
       "{'sources': {'s1': 0, 's2': 0},\n",
       " 'blenders': {'j1': 0, 'j2': 0, 'j3': 0, 'j4': 0},\n",
       " 'demands': {'p2': 0, 'p1': 0},\n",
       " 'properties': {'j1': {'q1': 0},\n",
       "  'j2': {'q1': 0},\n",
       "  'j3': {'q1': 0},\n",
       "  'j4': {'q1': 0}},\n",
       " 'sources_avail_next_0': {'s1': 10, 's2': 10},\n",
       " 'demands_avail_next_0': {'p2': 0, 'p1': 0},\n",
       " 'sources_avail_next_1': {'s1': 10, 's2': 10},\n",
       " 'demands_avail_next_1': {'p2': 0, 'p1': 0},\n",
       " 'sources_avail_next_2': {'s1': 10, 's2': 10},\n",
       " 'demands_avail_next_2': {'p2': 0, 'p1': 0},\n",
       " 'sources_avail_next_3': {'s1': 0, 's2': 0},\n",
       " 'demands_avail_next_3': {'p2': 10, 'p1': 10},\n",
       " 'sources_avail_next_4': {'s1': 0, 's2': 0},\n",
       " 'demands_avail_next_4': {'p2': 10, 'p1': 10},\n",
       " 'sources_avail_next_5': {'s1': 0, 's2': 0},\n",
       " 'demands_avail_next_5': {'p2': 10, 'p1': 10},\n",
       " 't': 0}"
      ]
     },
     "execution_count": 45,
     "metadata": {},
     "output_type": "execute_result"
    }
   ],
   "source": [
    "info_d[\"dict_state\"]"
   ]
  },
  {
   "cell_type": "code",
   "execution_count": 46,
   "metadata": {},
   "outputs": [],
   "source": [
    "act_tensor = flatten_and_track_mappings(action)[0]"
   ]
  },
  {
   "cell_type": "code",
   "execution_count": 47,
   "metadata": {},
   "outputs": [
    {
     "name": "stdout",
     "output_type": "stream",
     "text": [
      "[INFO] Increased reward by 0.8 through tank population in s1\n",
      "[INFO] Increased reward by 0.8 through tank population in s2\n",
      "j1: inv: 0, in_flow_sources: 2.0, in_flow_blend: 0, out_flow_blend: 0, out_flow_demands: 0.0\n",
      "[INFO] Increased reward by 0.4 through tank population in j1\n",
      "j2: inv: 0, in_flow_sources: 2.0, in_flow_blend: 0, out_flow_blend: 0, out_flow_demands: 0.0\n",
      "[INFO] Increased reward by 0.4 through tank population in j2\n",
      "j3: inv: 0, in_flow_sources: 0.0, in_flow_blend: 0, out_flow_blend: 0, out_flow_demands: 0.0\n",
      "j4: inv: 0, in_flow_sources: 0.0, in_flow_blend: 0, out_flow_blend: 0, out_flow_demands: 0.0\n"
     ]
    }
   ],
   "source": [
    "n_state, rew, term, trunc, d_info = env.step(act_tensor)"
   ]
  },
  {
   "cell_type": "code",
   "execution_count": 48,
   "metadata": {},
   "outputs": [],
   "source": [
    "action = {\n",
    "    \"source_blend\": {\n",
    "        \"s1\": {\n",
    "            \"j1\": 1,\n",
    "            \"j2\": 1,\n",
    "            \"j3\": 0,\n",
    "            \"j4\": 0\n",
    "        },\n",
    "        \"s2\": {\n",
    "            \"j1\": 1,\n",
    "            \"j2\": 1,\n",
    "            \"j3\": 0,\n",
    "            \"j4\": 0\n",
    "        }\n",
    "    },\n",
    "    \"blend_blend\": {},\n",
    "    \"blend_demand\": {\n",
    "        \"j1\": {\n",
    "            \"p1\": 0,\n",
    "            \"p2\": 0\n",
    "        },\n",
    "        \"j2\": {\n",
    "            \"p1\": 0,\n",
    "            \"p2\": 0\n",
    "        },\n",
    "        \"j3\": {\n",
    "            \"p1\": 0,\n",
    "            \"p2\": 0\n",
    "        },\n",
    "        \"j4\": {\n",
    "            \"p1\": 0,\n",
    "            \"p2\": 0\n",
    "        }\n",
    "    },\n",
    "    \"tau\": {\n",
    "        \"s1\": 12,\n",
    "        \"s2\": 10\n",
    "    },\n",
    "    \"delta\": {\n",
    "        \"p1\": 0,\n",
    "        \"p2\": 0\n",
    "    }\n",
    "}"
   ]
  },
  {
   "cell_type": "code",
   "execution_count": 49,
   "metadata": {},
   "outputs": [
    {
     "data": {
      "text/plain": [
       "{'sources': {'s1': 8.0, 's2': 8.0},\n",
       " 'blenders': {'j1': 2.0, 'j2': 2.0, 'j3': 0.0, 'j4': 0.0},\n",
       " 'demands': {'p2': 0.0, 'p1': 0.0},\n",
       " 'properties': {'j1': {'q1': 0.16},\n",
       "  'j2': {'q1': 0.16},\n",
       "  'j3': {'q1': 0},\n",
       "  'j4': {'q1': 0}},\n",
       " 'sources_avail_next_0': {'s1': 10, 's2': 10},\n",
       " 'demands_avail_next_0': {'p2': 0, 'p1': 0},\n",
       " 'sources_avail_next_1': {'s1': 10, 's2': 10},\n",
       " 'demands_avail_next_1': {'p2': 0, 'p1': 0},\n",
       " 'sources_avail_next_2': {'s1': 0, 's2': 0},\n",
       " 'demands_avail_next_2': {'p2': 10, 'p1': 10},\n",
       " 'sources_avail_next_3': {'s1': 0, 's2': 0},\n",
       " 'demands_avail_next_3': {'p2': 10, 'p1': 10},\n",
       " 'sources_avail_next_4': {'s1': 0, 's2': 0},\n",
       " 'demands_avail_next_4': {'p2': 10, 'p1': 10},\n",
       " 'sources_avail_next_5': {'s1': 0, 's2': 0},\n",
       " 'demands_avail_next_5': {'p2': 0, 'p1': 0},\n",
       " 't': 1}"
      ]
     },
     "execution_count": 49,
     "metadata": {},
     "output_type": "execute_result"
    }
   ],
   "source": [
    "info_d[\"dict_state\"]"
   ]
  },
  {
   "cell_type": "code",
   "execution_count": 50,
   "metadata": {},
   "outputs": [
    {
     "name": "stdout",
     "output_type": "stream",
     "text": [
      "[PEN] t2; s1:\t\t\tbought too much (more than supply): 12.0 vs 10\n",
      "[INFO] Increased reward by 0.8 through tank population in s1\n",
      "[INFO] Increased reward by 0.8 through tank population in s2\n",
      "j1: inv: 2.0, in_flow_sources: 2.0, in_flow_blend: 0, out_flow_blend: 0, out_flow_demands: 0.0\n",
      "[INFO] Increased reward by 0.4 through tank population in j1\n",
      "j2: inv: 2.0, in_flow_sources: 2.0, in_flow_blend: 0, out_flow_blend: 0, out_flow_demands: 0.0\n",
      "[INFO] Increased reward by 0.4 through tank population in j2\n",
      "j3: inv: 0.0, in_flow_sources: 0.0, in_flow_blend: 0, out_flow_blend: 0, out_flow_demands: 0.0\n",
      "j4: inv: 0.0, in_flow_sources: 0.0, in_flow_blend: 0, out_flow_blend: 0, out_flow_demands: 0.0\n"
     ]
    }
   ],
   "source": [
    "act_tensor = flatten_and_track_mappings(action)[0]\n",
    "n_state, rew, term, trunc, d_info = env.step(act_tensor)"
   ]
  },
  {
   "cell_type": "code",
   "execution_count": 51,
   "metadata": {},
   "outputs": [
    {
     "data": {
      "text/plain": [
       "{'M': 0,\n",
       " 'B': -4.0,\n",
       " 'P': 0,\n",
       " 'Q': 0,\n",
       " 'n_M': 0,\n",
       " 'n_B': 1,\n",
       " 'n_P': 0,\n",
       " 'n_Q': 0,\n",
       " 'reg': 0,\n",
       " 'units_sold': 0,\n",
       " 'units_bought': 40.0,\n",
       " 'rew_sold': 0,\n",
       " 'rew_depth': 4.800000000000001}"
      ]
     },
     "execution_count": 51,
     "metadata": {},
     "output_type": "execute_result"
    }
   ],
   "source": [
    "d_info[\"pen_tracker\"]"
   ]
  },
  {
   "cell_type": "code",
   "execution_count": 52,
   "metadata": {},
   "outputs": [],
   "source": [
    "action = {\n",
    "    \"source_blend\": {\n",
    "        \"s1\": {\n",
    "            \"j1\": 1,\n",
    "            \"j2\": 1,\n",
    "            \"j3\": 0,\n",
    "            \"j4\": 0\n",
    "        },\n",
    "        \"s2\": {\n",
    "            \"j1\": 1,\n",
    "            \"j2\": 1,\n",
    "            \"j3\": 0,\n",
    "            \"j4\": 0\n",
    "        }\n",
    "    },\n",
    "    \"blend_blend\": {},\n",
    "    \"blend_demand\": {\n",
    "        \"j1\": {\n",
    "            \"p1\": 1,\n",
    "            \"p2\": 1\n",
    "        },\n",
    "        \"j2\": {\n",
    "            \"p1\": 0,\n",
    "            \"p2\": 0\n",
    "        },\n",
    "        \"j3\": {\n",
    "            \"p1\": 0,\n",
    "            \"p2\": 0\n",
    "        },\n",
    "        \"j4\": {\n",
    "            \"p1\": 0,\n",
    "            \"p2\": 0\n",
    "        }\n",
    "    },\n",
    "    \"tau\": {\n",
    "        \"s1\": 0,\n",
    "        \"s2\": 0\n",
    "    },\n",
    "    \"delta\": {\n",
    "        \"p1\": 0,\n",
    "        \"p2\": 0\n",
    "    }\n",
    "}"
   ]
  },
  {
   "cell_type": "code",
   "execution_count": 53,
   "metadata": {},
   "outputs": [
    {
     "data": {
      "text/plain": [
       "{'sources': {'s1': 16.0, 's2': 16.0},\n",
       " 'blenders': {'j1': 4.0, 'j2': 4.0, 'j3': 0.0, 'j4': 0.0},\n",
       " 'demands': {'p2': 0.0, 'p1': 0.0},\n",
       " 'properties': {'j1': {'q1': 0.24},\n",
       "  'j2': {'q1': 0.24},\n",
       "  'j3': {'q1': 0},\n",
       "  'j4': {'q1': 0}},\n",
       " 'sources_avail_next_0': {'s1': 10, 's2': 10},\n",
       " 'demands_avail_next_0': {'p2': 0, 'p1': 0},\n",
       " 'sources_avail_next_1': {'s1': 0, 's2': 0},\n",
       " 'demands_avail_next_1': {'p2': 10, 'p1': 10},\n",
       " 'sources_avail_next_2': {'s1': 0, 's2': 0},\n",
       " 'demands_avail_next_2': {'p2': 10, 'p1': 10},\n",
       " 'sources_avail_next_3': {'s1': 0, 's2': 0},\n",
       " 'demands_avail_next_3': {'p2': 10, 'p1': 10},\n",
       " 'sources_avail_next_4': {'s1': 0, 's2': 0},\n",
       " 'demands_avail_next_4': {'p2': 0, 'p1': 0},\n",
       " 'sources_avail_next_5': {'s1': 0, 's2': 0},\n",
       " 'demands_avail_next_5': {'p2': 0, 'p1': 0},\n",
       " 't': 2}"
      ]
     },
     "execution_count": 53,
     "metadata": {},
     "output_type": "execute_result"
    }
   ],
   "source": [
    "info_d[\"dict_state\"]\n"
   ]
  },
  {
   "cell_type": "code",
   "execution_count": 54,
   "metadata": {},
   "outputs": [
    {
     "name": "stdout",
     "output_type": "stream",
     "text": [
      "j1: inv: 4.0, in_flow_sources: 2.0, in_flow_blend: 0, out_flow_blend: 0, out_flow_demands: 2.0\n",
      "[PEN] t3; j1:\t\t\tIn and out flow both non-zero (in: 2.0, out: 2.0)\n",
      "j2: inv: 4.0, in_flow_sources: 2.0, in_flow_blend: 0, out_flow_blend: 0, out_flow_demands: 0.0\n",
      "[INFO] Increased reward by 0.4 through tank population in j2\n",
      "j3: inv: 0.0, in_flow_sources: 0.0, in_flow_blend: 0, out_flow_blend: 0, out_flow_demands: 0.0\n",
      "j4: inv: 0.0, in_flow_sources: 0.0, in_flow_blend: 0, out_flow_blend: 0, out_flow_demands: 0.0\n"
     ]
    }
   ],
   "source": [
    "act_tensor = flatten_and_track_mappings(action)[0]\n",
    "n_state, rew, term, trunc, d_info = env.step(act_tensor)\n"
   ]
  },
  {
   "cell_type": "code",
   "execution_count": 55,
   "metadata": {},
   "outputs": [
    {
     "data": {
      "text/plain": [
       "{'M': -2,\n",
       " 'B': -4.0,\n",
       " 'P': 0,\n",
       " 'Q': 0,\n",
       " 'n_M': 1,\n",
       " 'n_B': 1,\n",
       " 'n_P': 0,\n",
       " 'n_Q': 0,\n",
       " 'reg': 0,\n",
       " 'units_sold': 0,\n",
       " 'units_bought': 40.0,\n",
       " 'rew_sold': 0,\n",
       " 'rew_depth': 5.200000000000001}"
      ]
     },
     "execution_count": 55,
     "metadata": {},
     "output_type": "execute_result"
    }
   ],
   "source": [
    "d_info[\"pen_tracker\"]"
   ]
  },
  {
   "cell_type": "code",
   "execution_count": 56,
   "metadata": {},
   "outputs": [],
   "source": [
    "action = {\n",
    "    \"source_blend\": {\n",
    "        \"s1\": {\n",
    "            \"j1\": 0,\n",
    "            \"j2\": 0,\n",
    "            \"j3\": 0,\n",
    "            \"j4\": 0\n",
    "        },\n",
    "        \"s2\": {\n",
    "            \"j1\": 0,\n",
    "            \"j2\": 0,\n",
    "            \"j3\": 0,\n",
    "            \"j4\": 0\n",
    "        }\n",
    "    },\n",
    "    \"blend_blend\": {},\n",
    "    \"blend_demand\": {\n",
    "        \"j1\": {\n",
    "            \"p1\": 100,\n",
    "            \"p2\": 1\n",
    "        },\n",
    "        \"j2\": {\n",
    "            \"p1\": 0,\n",
    "            \"p2\": 0\n",
    "        },\n",
    "        \"j3\": {\n",
    "            \"p1\": 0,\n",
    "            \"p2\": 0\n",
    "        },\n",
    "        \"j4\": {\n",
    "            \"p1\": 0,\n",
    "            \"p2\": 0\n",
    "        }\n",
    "    },\n",
    "    \"tau\": {\n",
    "        \"s1\": 0,\n",
    "        \"s2\": 0\n",
    "    },\n",
    "    \"delta\": {\n",
    "        \"p1\": 0,\n",
    "        \"p2\": 0\n",
    "    }\n",
    "}"
   ]
  },
  {
   "cell_type": "code",
   "execution_count": 57,
   "metadata": {},
   "outputs": [
    {
     "data": {
      "text/plain": [
       "{'sources': {'s1': 14.0, 's2': 14.0},\n",
       " 'blenders': {'j1': 4.0, 'j2': 6.0, 'j3': 0.0, 'j4': 0.0},\n",
       " 'demands': {'p2': 0.0, 'p1': 0.0},\n",
       " 'properties': {'j1': {'q1': 0.24},\n",
       "  'j2': {'q1': 0.29333333333333333},\n",
       "  'j3': {'q1': 0},\n",
       "  'j4': {'q1': 0}},\n",
       " 'sources_avail_next_0': {'s1': 0, 's2': 0},\n",
       " 'demands_avail_next_0': {'p2': 10, 'p1': 10},\n",
       " 'sources_avail_next_1': {'s1': 0, 's2': 0},\n",
       " 'demands_avail_next_1': {'p2': 10, 'p1': 10},\n",
       " 'sources_avail_next_2': {'s1': 0, 's2': 0},\n",
       " 'demands_avail_next_2': {'p2': 10, 'p1': 10},\n",
       " 'sources_avail_next_3': {'s1': 0, 's2': 0},\n",
       " 'demands_avail_next_3': {'p2': 0, 'p1': 0},\n",
       " 'sources_avail_next_4': {'s1': 0, 's2': 0},\n",
       " 'demands_avail_next_4': {'p2': 0, 'p1': 0},\n",
       " 'sources_avail_next_5': {'s1': 0, 's2': 0},\n",
       " 'demands_avail_next_5': {'p2': 0, 'p1': 0},\n",
       " 't': 3}"
      ]
     },
     "execution_count": 57,
     "metadata": {},
     "output_type": "execute_result"
    }
   ],
   "source": [
    "d_info[\"dict_state\"]"
   ]
  },
  {
   "cell_type": "code",
   "execution_count": 58,
   "metadata": {},
   "outputs": [
    {
     "name": "stdout",
     "output_type": "stream",
     "text": [
      "j1: inv: 4.0, in_flow_sources: 0.0, in_flow_blend: 0, out_flow_blend: 0, out_flow_demands: 101.0\n",
      "[PEN] t4; j1:\t\t\tinventory OOB (resulting amount less than blending tank LB)\n",
      "j1: b: 0.039603960396039604\n",
      "j2: inv: 6.0, in_flow_sources: 0.0, in_flow_blend: 0, out_flow_blend: 0, out_flow_demands: 0.0\n",
      "j3: inv: 0.0, in_flow_sources: 0.0, in_flow_blend: 0, out_flow_blend: 0, out_flow_demands: 0.0\n",
      "j4: inv: 0.0, in_flow_sources: 0.0, in_flow_blend: 0, out_flow_blend: 0, out_flow_demands: 0.0\n",
      "[INFO] Increased reward by 0.015841584158415842 through tank population in p2\n",
      "[INFO] Increased reward by 1.5841584158415842 through tank population in p1\n"
     ]
    }
   ],
   "source": [
    "act_tensor = flatten_and_track_mappings(action)[0]\n",
    "n_state, rew, term, trunc, d_info = env.step(act_tensor)"
   ]
  },
  {
   "cell_type": "code",
   "execution_count": 60,
   "metadata": {},
   "outputs": [
    {
     "data": {
      "text/plain": [
       "{'sources': {'s1': 14.0, 's2': 14.0},\n",
       " 'blenders': {'j1': 0.0, 'j2': 6.0, 'j3': 0.0, 'j4': 0.0},\n",
       " 'demands': {'p2': 0.039603960396039604, 'p1': 3.9603960396039604},\n",
       " 'properties': {'j1': {'q1': 0},\n",
       "  'j2': {'q1': 0.29333333333333333},\n",
       "  'j3': {'q1': 0},\n",
       "  'j4': {'q1': 0}},\n",
       " 'sources_avail_next_0': {'s1': 0, 's2': 0},\n",
       " 'demands_avail_next_0': {'p2': 10, 'p1': 10},\n",
       " 'sources_avail_next_1': {'s1': 0, 's2': 0},\n",
       " 'demands_avail_next_1': {'p2': 10, 'p1': 10},\n",
       " 'sources_avail_next_2': {'s1': 0, 's2': 0},\n",
       " 'demands_avail_next_2': {'p2': 0, 'p1': 0},\n",
       " 'sources_avail_next_3': {'s1': 0, 's2': 0},\n",
       " 'demands_avail_next_3': {'p2': 0, 'p1': 0},\n",
       " 'sources_avail_next_4': {'s1': 0, 's2': 0},\n",
       " 'demands_avail_next_4': {'p2': 0, 'p1': 0},\n",
       " 'sources_avail_next_5': {'s1': 0, 's2': 0},\n",
       " 'demands_avail_next_5': {'p2': 0, 'p1': 0},\n",
       " 't': 4}"
      ]
     },
     "execution_count": 60,
     "metadata": {},
     "output_type": "execute_result"
    }
   ],
   "source": [
    "d_info[\"dict_state\"]"
   ]
  }
 ],
 "metadata": {
  "kernelspec": {
   "display_name": "blendv2",
   "language": "python",
   "name": "python3"
  },
  "language_info": {
   "codemirror_mode": {
    "name": "ipython",
    "version": 3
   },
   "file_extension": ".py",
   "mimetype": "text/x-python",
   "name": "python",
   "nbconvert_exporter": "python",
   "pygments_lexer": "ipython3",
   "version": "3.8.0"
  }
 },
 "nbformat": 4,
 "nbformat_minor": 2
}
