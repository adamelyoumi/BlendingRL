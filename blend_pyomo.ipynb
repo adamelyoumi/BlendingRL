{
 "cells": [
  {
   "cell_type": "code",
   "execution_count": 13,
   "metadata": {},
   "outputs": [],
   "source": [
    "import numpy as np\n",
    "import pandas as pd\n",
    "from itertools import product\n",
    "\n",
    "from pyomo.environ import *\n",
    "\n",
    "# Define data\n",
    "T = 7\n",
    "alpha = 0.1\n",
    "\n",
    "sources_data = {\n",
    "    \"s1\": [0.06, 0, 0, [10, 10, 10, 0, 0, 0, 0]],\n",
    "    \"s2\": [0.26, 0, 0, [30, 30, 30, 0, 0, 0, 0]]\n",
    "}\n",
    "\n",
    "demands_data = {\n",
    "    \"d1\": [0, 0.16, 0, 0, [0, 0, 15, 15, 15, 15], 2],\n",
    "    \"d2\": [0, 0.10, 0, 0, [0, 0, 15, 15, 15, 15], 1]\n",
    "}\n",
    "\n",
    "blenders_data = {\n",
    "    \"b1\": 30,\n",
    "    \"b2\": 30,\n",
    "    \"b3\": 30,\n",
    "    \"b4\": 30,\n",
    "    \"b5\": 20,\n",
    "    \"b6\": 20,\n",
    "    \"b7\": 20,\n",
    "    \"b8\": 20\n",
    "}\n",
    "\n",
    "sources = list(sources_data.keys())\n",
    "demands = list(demands_data.keys())\n",
    "blenders = list(blenders_data.keys())\n",
    "\n",
    "s_inv_lb = {s: sources_data[s][1] for s in sources}\n",
    "s_inv_ub = {s: sources_data[s][2] for s in sources}\n",
    "s_amounts = {s: sources_data[s][3] for s in sources}\n",
    "\n",
    "d_quals_lb = {d: demands_data[d][0] for d in demands}\n",
    "d_quals_ub = {d: demands_data[d][1] for d in demands}\n",
    "d_inv_lb = {d: demands_data[d][2] for d in demands}\n",
    "d_inv_ub = {d: demands_data[d][3] for d in demands}\n",
    "d_amounts = {d: demands_data[d][4] for d in demands}\n",
    "betaT_d = {d: demands_data[d][5] for d in demands}\n",
    "\n",
    "b_inv_ub = {b: blenders_data[b] for b in blenders}"
   ]
  },
  {
   "cell_type": "code",
   "execution_count": 14,
   "metadata": {},
   "outputs": [],
   "source": [
    "# Model\n",
    "model = ConcreteModel()\n",
    "\n",
    "# Sets\n",
    "model.sources = Set(initialize=sources)\n",
    "model.demands = Set(initialize=demands)\n",
    "model.blenders = Set(initialize=blenders)"
   ]
  },
  {
   "cell_type": "code",
   "execution_count": 15,
   "metadata": {},
   "outputs": [
    {
     "data": {
      "text/plain": [
       "['b1', 'b2', 'b3', 'b4', 'b5', 'b6', 'b7', 'b8']"
      ]
     },
     "execution_count": 15,
     "metadata": {},
     "output_type": "execute_result"
    }
   ],
   "source": [
    "blenders"
   ]
  },
  {
   "cell_type": "code",
   "execution_count": 4,
   "metadata": {},
   "outputs": [
    {
     "name": "stdout",
     "output_type": "stream",
     "text": [
      "WARNING: Implicitly replacing the Component attribute s_inv_lb (type=<class\n",
      "'pyomo.core.base.param.IndexedParam'>) on block unknown with a new Component\n",
      "(type=<class 'pyomo.core.base.param.IndexedParam'>). This is usually\n",
      "indicative of a modelling error. To avoid this warning, use\n",
      "block.del_component() and block.add_component().\n",
      "WARNING: Implicitly replacing the Component attribute s_inv_ub (type=<class\n",
      "'pyomo.core.base.param.IndexedParam'>) on block unknown with a new Component\n",
      "(type=<class 'pyomo.core.base.param.IndexedParam'>). This is usually\n",
      "indicative of a modelling error. To avoid this warning, use\n",
      "block.del_component() and block.add_component().\n",
      "WARNING: Implicitly replacing the Component attribute s_amounts (type=<class\n",
      "'pyomo.core.base.param.IndexedParam'>) on block unknown with a new Component\n",
      "(type=<class 'pyomo.core.base.param.IndexedParam'>). This is usually\n",
      "indicative of a modelling error. To avoid this warning, use\n",
      "block.del_component() and block.add_component().\n",
      "WARNING: DEPRECATED: Param 's_amounts' declared with an implicit domain of\n",
      "'Any'. The default domain for Param objects is 'Any'.  However, we will be\n",
      "changing that default to 'Reals' in the future.  If you really intend the\n",
      "domain of this Paramto be 'Any', you can suppress this warning by explicitly\n",
      "specifying 'within=Any' to the Param constructor.  (deprecated in 5.6.9, will\n",
      "be removed in (or after) 6.0) (called from\n",
      "c:\\Users\\adame\\OneDrive\\Bureau\\CODE\\blending_project\\blendv\\lib\\site-\n",
      "packages\\pyomo\\core\\base\\indexed_component.py:714)\n",
      "WARNING: DEPRECATED: Param 'd_amounts' declared with an implicit domain of\n",
      "'Any'. The default domain for Param objects is 'Any'.  However, we will be\n",
      "changing that default to 'Reals' in the future.  If you really intend the\n",
      "domain of this Paramto be 'Any', you can suppress this warning by explicitly\n",
      "specifying 'within=Any' to the Param constructor.  (deprecated in 5.6.9, will\n",
      "be removed in (or after) 6.0) (called from\n",
      "c:\\Users\\adame\\OneDrive\\Bureau\\CODE\\blending_project\\blendv\\lib\\site-\n",
      "packages\\pyomo\\core\\base\\indexed_component.py:714)\n"
     ]
    }
   ],
   "source": [
    "# Parameters\n",
    "model.s_inv_lb = Param(model.sources, initialize=s_inv_lb)\n",
    "model.s_inv_ub = Param(model.sources, initialize=s_inv_ub)\n",
    "model.s_amounts = Param(model.sources, initialize=s_amounts)\n",
    "model.d_quals_lb = Param(model.demands, initialize=d_quals_lb)\n",
    "model.d_quals_ub = Param(model.demands, initialize=d_quals_ub)\n",
    "model.d_inv_lb = Param(model.demands, initialize=d_inv_lb)\n",
    "model.d_inv_ub = Param(model.demands, initialize=d_inv_ub)\n",
    "model.d_amounts = Param(model.demands, initialize=d_amounts)\n",
    "model.betaT_d = Param(model.demands, initialize=betaT_d)\n",
    "model.b_inv_ub = Param(model.blenders, initialize=b_inv_ub)\n",
    "\n",
    "# Decision variables\n",
    "model.x = Var(model.sources, model.blenders, domain=NonNegativeReals)"
   ]
  },
  {
   "cell_type": "code",
   "execution_count": 5,
   "metadata": {},
   "outputs": [
    {
     "name": "stdout",
     "output_type": "stream",
     "text": [
      "ERROR: Rule failed when generating expression for Objective obj with index\n",
      "None: KeyError: \"Index '('s1', 's1')' is not valid for indexed component\n",
      "'s_amounts'\"\n",
      "ERROR: Constructing component 'obj' from data=None failed:\n",
      "        KeyError: \"Index '('s1', 's1')' is not valid for indexed component\n",
      "        's_amounts'\"\n"
     ]
    },
    {
     "ename": "KeyError",
     "evalue": "\"Index '('s1', 's1')' is not valid for indexed component 's_amounts'\"",
     "output_type": "error",
     "traceback": [
      "\u001b[1;31m---------------------------------------------------------------------------\u001b[0m",
      "\u001b[1;31mKeyError\u001b[0m                                  Traceback (most recent call last)",
      "Cell \u001b[1;32mIn[5], line 5\u001b[0m\n\u001b[0;32m      2\u001b[0m \u001b[38;5;28;01mdef\u001b[39;00m \u001b[38;5;21mobj_rule\u001b[39m(model):\n\u001b[0;32m      3\u001b[0m     \u001b[38;5;28;01mreturn\u001b[39;00m \u001b[38;5;28msum\u001b[39m(model\u001b[38;5;241m.\u001b[39mx[s, b] \u001b[38;5;241m*\u001b[39m model\u001b[38;5;241m.\u001b[39ms_amounts[s, b] \u001b[38;5;28;01mfor\u001b[39;00m s \u001b[38;5;129;01min\u001b[39;00m model\u001b[38;5;241m.\u001b[39msources \u001b[38;5;28;01mfor\u001b[39;00m b \u001b[38;5;129;01min\u001b[39;00m model\u001b[38;5;241m.\u001b[39mblenders)\n\u001b[1;32m----> 5\u001b[0m \u001b[43mmodel\u001b[49m\u001b[38;5;241;43m.\u001b[39;49m\u001b[43mobj\u001b[49m \u001b[38;5;241m=\u001b[39m Objective(rule\u001b[38;5;241m=\u001b[39mobj_rule, sense\u001b[38;5;241m=\u001b[39mmaximize)\n\u001b[0;32m      7\u001b[0m \u001b[38;5;66;03m# Constraints\u001b[39;00m\n\u001b[0;32m      8\u001b[0m \u001b[38;5;28;01mdef\u001b[39;00m \u001b[38;5;21minv_balance_rule\u001b[39m(model, s):\n",
      "File \u001b[1;32mc:\\Users\\adame\\OneDrive\\Bureau\\CODE\\blending_project\\blendv\\lib\\site-packages\\pyomo\\core\\base\\block.py:568\u001b[0m, in \u001b[0;36m_BlockData.__setattr__\u001b[1;34m(self, name, val)\u001b[0m\n\u001b[0;32m    563\u001b[0m \u001b[38;5;28;01mif\u001b[39;00m name \u001b[38;5;129;01mnot\u001b[39;00m \u001b[38;5;129;01min\u001b[39;00m \u001b[38;5;28mself\u001b[39m\u001b[38;5;241m.\u001b[39m\u001b[38;5;18m__dict__\u001b[39m:\n\u001b[0;32m    564\u001b[0m     \u001b[38;5;28;01mif\u001b[39;00m \u001b[38;5;28misinstance\u001b[39m(val, Component):\n\u001b[0;32m    565\u001b[0m         \u001b[38;5;66;03m#\u001b[39;00m\n\u001b[0;32m    566\u001b[0m         \u001b[38;5;66;03m# Pyomo components are added with the add_component method.\u001b[39;00m\n\u001b[0;32m    567\u001b[0m         \u001b[38;5;66;03m#\u001b[39;00m\n\u001b[1;32m--> 568\u001b[0m         \u001b[38;5;28;43mself\u001b[39;49m\u001b[38;5;241;43m.\u001b[39;49m\u001b[43madd_component\u001b[49m\u001b[43m(\u001b[49m\u001b[43mname\u001b[49m\u001b[43m,\u001b[49m\u001b[43m \u001b[49m\u001b[43mval\u001b[49m\u001b[43m)\u001b[49m\n\u001b[0;32m    569\u001b[0m     \u001b[38;5;28;01melse\u001b[39;00m:\n\u001b[0;32m    570\u001b[0m         \u001b[38;5;66;03m#\u001b[39;00m\n\u001b[0;32m    571\u001b[0m         \u001b[38;5;66;03m# Other Python objects are added with the standard __setattr__\u001b[39;00m\n\u001b[0;32m    572\u001b[0m         \u001b[38;5;66;03m# method.\u001b[39;00m\n\u001b[0;32m    573\u001b[0m         \u001b[38;5;66;03m#\u001b[39;00m\n\u001b[0;32m    574\u001b[0m         \u001b[38;5;28msuper\u001b[39m(_BlockData, \u001b[38;5;28mself\u001b[39m)\u001b[38;5;241m.\u001b[39m\u001b[38;5;21m__setattr__\u001b[39m(name, val)\n",
      "File \u001b[1;32mc:\\Users\\adame\\OneDrive\\Bureau\\CODE\\blending_project\\blendv\\lib\\site-packages\\pyomo\\core\\base\\block.py:1126\u001b[0m, in \u001b[0;36m_BlockData.add_component\u001b[1;34m(self, name, val)\u001b[0m\n\u001b[0;32m   1118\u001b[0m     logger\u001b[38;5;241m.\u001b[39mdebug(\n\u001b[0;32m   1119\u001b[0m         \u001b[38;5;124m\"\u001b[39m\u001b[38;5;124mConstructing \u001b[39m\u001b[38;5;132;01m%s\u001b[39;00m\u001b[38;5;124m \u001b[39m\u001b[38;5;124m'\u001b[39m\u001b[38;5;132;01m%s\u001b[39;00m\u001b[38;5;124m'\u001b[39m\u001b[38;5;124m on \u001b[39m\u001b[38;5;132;01m%s\u001b[39;00m\u001b[38;5;124m from data=\u001b[39m\u001b[38;5;132;01m%s\u001b[39;00m\u001b[38;5;124m\"\u001b[39m,\n\u001b[0;32m   1120\u001b[0m         val\u001b[38;5;241m.\u001b[39m\u001b[38;5;18m__class__\u001b[39m\u001b[38;5;241m.\u001b[39m\u001b[38;5;18m__name__\u001b[39m,\n\u001b[1;32m   (...)\u001b[0m\n\u001b[0;32m   1123\u001b[0m         \u001b[38;5;28mstr\u001b[39m(data),\n\u001b[0;32m   1124\u001b[0m     )\n\u001b[0;32m   1125\u001b[0m \u001b[38;5;28;01mtry\u001b[39;00m:\n\u001b[1;32m-> 1126\u001b[0m     \u001b[43mval\u001b[49m\u001b[38;5;241;43m.\u001b[39;49m\u001b[43mconstruct\u001b[49m\u001b[43m(\u001b[49m\u001b[43mdata\u001b[49m\u001b[43m)\u001b[49m\n\u001b[0;32m   1127\u001b[0m \u001b[38;5;28;01mexcept\u001b[39;00m:\n\u001b[0;32m   1128\u001b[0m     err \u001b[38;5;241m=\u001b[39m sys\u001b[38;5;241m.\u001b[39mexc_info()[\u001b[38;5;241m1\u001b[39m]\n",
      "File \u001b[1;32mc:\\Users\\adame\\OneDrive\\Bureau\\CODE\\blending_project\\blendv\\lib\\site-packages\\pyomo\\core\\base\\objective.py:318\u001b[0m, in \u001b[0;36mObjective.construct\u001b[1;34m(self, data)\u001b[0m\n\u001b[0;32m    315\u001b[0m \u001b[38;5;28;01melse\u001b[39;00m:\n\u001b[0;32m    316\u001b[0m     \u001b[38;5;66;03m# Bypass the index validation and create the member directly\u001b[39;00m\n\u001b[0;32m    317\u001b[0m     \u001b[38;5;28;01mfor\u001b[39;00m index \u001b[38;5;129;01min\u001b[39;00m \u001b[38;5;28mself\u001b[39m\u001b[38;5;241m.\u001b[39mindex_set():\n\u001b[1;32m--> 318\u001b[0m         ans \u001b[38;5;241m=\u001b[39m \u001b[38;5;28mself\u001b[39m\u001b[38;5;241m.\u001b[39m_setitem_when_not_present(index, \u001b[43mrule\u001b[49m\u001b[43m(\u001b[49m\u001b[43mblock\u001b[49m\u001b[43m,\u001b[49m\u001b[43m \u001b[49m\u001b[43mindex\u001b[49m\u001b[43m)\u001b[49m)\n\u001b[0;32m    319\u001b[0m         \u001b[38;5;28;01mif\u001b[39;00m ans \u001b[38;5;129;01mis\u001b[39;00m \u001b[38;5;129;01mnot\u001b[39;00m \u001b[38;5;28;01mNone\u001b[39;00m:\n\u001b[0;32m    320\u001b[0m             ans\u001b[38;5;241m.\u001b[39mset_sense(\u001b[38;5;28mself\u001b[39m\u001b[38;5;241m.\u001b[39m_init_sense(block, index))\n",
      "File \u001b[1;32mc:\\Users\\adame\\OneDrive\\Bureau\\CODE\\blending_project\\blendv\\lib\\site-packages\\pyomo\\core\\base\\initializer.py:438\u001b[0m, in \u001b[0;36mScalarCallInitializer.__call__\u001b[1;34m(self, parent, idx)\u001b[0m\n\u001b[0;32m    437\u001b[0m \u001b[38;5;28;01mdef\u001b[39;00m \u001b[38;5;21m__call__\u001b[39m(\u001b[38;5;28mself\u001b[39m, parent, idx):\n\u001b[1;32m--> 438\u001b[0m     \u001b[38;5;28;01mreturn\u001b[39;00m \u001b[38;5;28;43mself\u001b[39;49m\u001b[38;5;241;43m.\u001b[39;49m\u001b[43m_fcn\u001b[49m\u001b[43m(\u001b[49m\u001b[43mparent\u001b[49m\u001b[43m)\u001b[49m\n",
      "Cell \u001b[1;32mIn[5], line 3\u001b[0m, in \u001b[0;36mobj_rule\u001b[1;34m(model)\u001b[0m\n\u001b[0;32m      2\u001b[0m \u001b[38;5;28;01mdef\u001b[39;00m \u001b[38;5;21mobj_rule\u001b[39m(model):\n\u001b[1;32m----> 3\u001b[0m     \u001b[38;5;28;01mreturn\u001b[39;00m \u001b[38;5;28;43msum\u001b[39;49m\u001b[43m(\u001b[49m\u001b[43mmodel\u001b[49m\u001b[38;5;241;43m.\u001b[39;49m\u001b[43mx\u001b[49m\u001b[43m[\u001b[49m\u001b[43ms\u001b[49m\u001b[43m,\u001b[49m\u001b[43m \u001b[49m\u001b[43mb\u001b[49m\u001b[43m]\u001b[49m\u001b[43m \u001b[49m\u001b[38;5;241;43m*\u001b[39;49m\u001b[43m \u001b[49m\u001b[43mmodel\u001b[49m\u001b[38;5;241;43m.\u001b[39;49m\u001b[43ms_amounts\u001b[49m\u001b[43m[\u001b[49m\u001b[43ms\u001b[49m\u001b[43m,\u001b[49m\u001b[43m \u001b[49m\u001b[43mb\u001b[49m\u001b[43m]\u001b[49m\u001b[43m \u001b[49m\u001b[38;5;28;43;01mfor\u001b[39;49;00m\u001b[43m \u001b[49m\u001b[43ms\u001b[49m\u001b[43m \u001b[49m\u001b[38;5;129;43;01min\u001b[39;49;00m\u001b[43m \u001b[49m\u001b[43mmodel\u001b[49m\u001b[38;5;241;43m.\u001b[39;49m\u001b[43msources\u001b[49m\u001b[43m \u001b[49m\u001b[38;5;28;43;01mfor\u001b[39;49;00m\u001b[43m \u001b[49m\u001b[43mb\u001b[49m\u001b[43m \u001b[49m\u001b[38;5;129;43;01min\u001b[39;49;00m\u001b[43m \u001b[49m\u001b[43mmodel\u001b[49m\u001b[38;5;241;43m.\u001b[39;49m\u001b[43mblenders\u001b[49m\u001b[43m)\u001b[49m\n",
      "Cell \u001b[1;32mIn[5], line 3\u001b[0m, in \u001b[0;36m<genexpr>\u001b[1;34m(.0)\u001b[0m\n\u001b[0;32m      2\u001b[0m \u001b[38;5;28;01mdef\u001b[39;00m \u001b[38;5;21mobj_rule\u001b[39m(model):\n\u001b[1;32m----> 3\u001b[0m     \u001b[38;5;28;01mreturn\u001b[39;00m \u001b[38;5;28msum\u001b[39m(model\u001b[38;5;241m.\u001b[39mx[s, b] \u001b[38;5;241m*\u001b[39m \u001b[43mmodel\u001b[49m\u001b[38;5;241;43m.\u001b[39;49m\u001b[43ms_amounts\u001b[49m\u001b[43m[\u001b[49m\u001b[43ms\u001b[49m\u001b[43m,\u001b[49m\u001b[43m \u001b[49m\u001b[43mb\u001b[49m\u001b[43m]\u001b[49m \u001b[38;5;28;01mfor\u001b[39;00m s \u001b[38;5;129;01min\u001b[39;00m model\u001b[38;5;241m.\u001b[39msources \u001b[38;5;28;01mfor\u001b[39;00m b \u001b[38;5;129;01min\u001b[39;00m model\u001b[38;5;241m.\u001b[39mblenders)\n",
      "File \u001b[1;32mc:\\Users\\adame\\OneDrive\\Bureau\\CODE\\blending_project\\blendv\\lib\\site-packages\\pyomo\\core\\base\\param.py:988\u001b[0m, in \u001b[0;36mIndexedParam.__getitem__\u001b[1;34m(self, args)\u001b[0m\n\u001b[0;32m    986\u001b[0m \u001b[38;5;28;01mdef\u001b[39;00m \u001b[38;5;21m__getitem__\u001b[39m(\u001b[38;5;28mself\u001b[39m, args):\n\u001b[0;32m    987\u001b[0m     \u001b[38;5;28;01mtry\u001b[39;00m:\n\u001b[1;32m--> 988\u001b[0m         \u001b[38;5;28;01mreturn\u001b[39;00m \u001b[38;5;28;43msuper\u001b[39;49m\u001b[43m(\u001b[49m\u001b[43m)\u001b[49m\u001b[38;5;241;43m.\u001b[39;49m\u001b[38;5;21;43m__getitem__\u001b[39;49m\u001b[43m(\u001b[49m\u001b[43margs\u001b[49m\u001b[43m)\u001b[49m\n\u001b[0;32m    989\u001b[0m     \u001b[38;5;28;01mexcept\u001b[39;00m:\n\u001b[0;32m    990\u001b[0m         tmp \u001b[38;5;241m=\u001b[39m args \u001b[38;5;28;01mif\u001b[39;00m args\u001b[38;5;241m.\u001b[39m\u001b[38;5;18m__class__\u001b[39m \u001b[38;5;129;01mis\u001b[39;00m \u001b[38;5;28mtuple\u001b[39m \u001b[38;5;28;01melse\u001b[39;00m (args,)\n",
      "File \u001b[1;32mc:\\Users\\adame\\OneDrive\\Bureau\\CODE\\blending_project\\blendv\\lib\\site-packages\\pyomo\\core\\base\\indexed_component.py:644\u001b[0m, in \u001b[0;36mIndexedComponent.__getitem__\u001b[1;34m(self, index)\u001b[0m\n\u001b[0;32m    642\u001b[0m \u001b[38;5;28;01mif\u001b[39;00m \u001b[38;5;28misinstance\u001b[39m(index, EXPR\u001b[38;5;241m.\u001b[39mGetItemExpression):\n\u001b[0;32m    643\u001b[0m     \u001b[38;5;28;01mreturn\u001b[39;00m index\n\u001b[1;32m--> 644\u001b[0m validated_index \u001b[38;5;241m=\u001b[39m \u001b[38;5;28;43mself\u001b[39;49m\u001b[38;5;241;43m.\u001b[39;49m\u001b[43m_validate_index\u001b[49m\u001b[43m(\u001b[49m\u001b[43mindex\u001b[49m\u001b[43m)\u001b[49m\n\u001b[0;32m    645\u001b[0m \u001b[38;5;28;01mif\u001b[39;00m validated_index \u001b[38;5;129;01mis\u001b[39;00m \u001b[38;5;129;01mnot\u001b[39;00m index:\n\u001b[0;32m    646\u001b[0m     index \u001b[38;5;241m=\u001b[39m validated_index\n",
      "File \u001b[1;32mc:\\Users\\adame\\OneDrive\\Bureau\\CODE\\blending_project\\blendv\\lib\\site-packages\\pyomo\\core\\base\\indexed_component.py:866\u001b[0m, in \u001b[0;36mIndexedComponent._validate_index\u001b[1;34m(self, idx)\u001b[0m\n\u001b[0;32m    859\u001b[0m     \u001b[38;5;28;01mraise\u001b[39;00m \u001b[38;5;167;01mKeyError\u001b[39;00m(\n\u001b[0;32m    860\u001b[0m         \u001b[38;5;124m\"\u001b[39m\u001b[38;5;124mCannot treat the scalar component \u001b[39m\u001b[38;5;124m'\u001b[39m\u001b[38;5;132;01m%s\u001b[39;00m\u001b[38;5;124m'\u001b[39m\u001b[38;5;124m \u001b[39m\u001b[38;5;124m\"\u001b[39m\n\u001b[0;32m    861\u001b[0m         \u001b[38;5;124m\"\u001b[39m\u001b[38;5;124mas an indexed component\u001b[39m\u001b[38;5;124m\"\u001b[39m \u001b[38;5;241m%\u001b[39m (\u001b[38;5;28mself\u001b[39m\u001b[38;5;241m.\u001b[39mname,)\n\u001b[0;32m    862\u001b[0m     )\n\u001b[0;32m    863\u001b[0m \u001b[38;5;66;03m#\u001b[39;00m\n\u001b[0;32m    864\u001b[0m \u001b[38;5;66;03m# Raise an exception\u001b[39;00m\n\u001b[0;32m    865\u001b[0m \u001b[38;5;66;03m#\u001b[39;00m\n\u001b[1;32m--> 866\u001b[0m \u001b[38;5;28;01mraise\u001b[39;00m \u001b[38;5;167;01mKeyError\u001b[39;00m(\n\u001b[0;32m    867\u001b[0m     \u001b[38;5;124m\"\u001b[39m\u001b[38;5;124mIndex \u001b[39m\u001b[38;5;124m'\u001b[39m\u001b[38;5;132;01m%s\u001b[39;00m\u001b[38;5;124m'\u001b[39m\u001b[38;5;124m is not valid for indexed component \u001b[39m\u001b[38;5;124m'\u001b[39m\u001b[38;5;132;01m%s\u001b[39;00m\u001b[38;5;124m'\u001b[39m\u001b[38;5;124m\"\u001b[39m\n\u001b[0;32m    868\u001b[0m     \u001b[38;5;241m%\u001b[39m (normalized_idx, \u001b[38;5;28mself\u001b[39m\u001b[38;5;241m.\u001b[39mname)\n\u001b[0;32m    869\u001b[0m )\n",
      "\u001b[1;31mKeyError\u001b[0m: \"Index '('s1', 's1')' is not valid for indexed component 's_amounts'\""
     ]
    }
   ],
   "source": [
    "# Objective function\n",
    "def obj_rule(model):\n",
    "    return sum(model.x[s, b] * model.s_amounts[s, b] for s in model.sources for b in model.blenders)\n",
    "\n",
    "model.obj = Objective(rule=obj_rule, sense=maximize)\n",
    "\n",
    "# Constraints\n",
    "def inv_balance_rule(model, s):\n",
    "    return (model.s_inv_lb[s], sum(model.x[s, b] for b in model.blenders), model.s_inv_ub[s])\n",
    "\n",
    "model.inv_balance_con = Constraint(model.sources, rule=inv_balance_rule)\n",
    "\n",
    "def demand_rule(model, d):\n",
    "    return (model.d_quals_lb[d], sum(model.x[b, d] * model.d_quals_ub[d] for b in model.blenders) / model.d_amounts[d], model.d_quals_ub[d])\n",
    "\n",
    "model.demand_con = Constraint(model.demands, rule=demand_rule)\n",
    "\n",
    "def blender_inv_rule(model, b):\n",
    "    return (0, sum(model.x[b, d] for d in model.demands), model.b_inv_ub[b])\n",
    "\n",
    "model.blender_inv_con = Constraint(model.blenders, rule=blender_inv_rule)"
   ]
  },
  {
   "cell_type": "code",
   "execution_count": null,
   "metadata": {},
   "outputs": [],
   "source": [
    "# Solve the model\n",
    "solver = SolverFactory('gurobi')\n",
    "solver.solve(model)"
   ]
  },
  {
   "cell_type": "code",
   "execution_count": null,
   "metadata": {},
   "outputs": [],
   "source": [
    "\n",
    "# Print results\n",
    "for s in model.sources:\n",
    "    for b in model.blenders:\n",
    "        print(f\"Amount from {s} to {b}: {model.x[s, b].value}\")\n",
    "\n",
    "print(\"Objective Value:\", model.obj())\n"
   ]
  }
 ],
 "metadata": {
  "kernelspec": {
   "display_name": "blendv",
   "language": "python",
   "name": "python3"
  },
  "language_info": {
   "codemirror_mode": {
    "name": "ipython",
    "version": 3
   },
   "file_extension": ".py",
   "mimetype": "text/x-python",
   "name": "python",
   "nbconvert_exporter": "python",
   "pygments_lexer": "ipython3",
   "version": "3.8.0"
  }
 },
 "nbformat": 4,
 "nbformat_minor": 2
}
