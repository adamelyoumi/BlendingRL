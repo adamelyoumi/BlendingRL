{
 "cells": [
  {
   "cell_type": "code",
   "execution_count": 72,
   "metadata": {},
   "outputs": [],
   "source": [
    "import sys, os\n",
    "sys.path.append(os.path.abspath(os.path.join(os.getcwd(), \"../\")))\n",
    "\n",
    "from semantic_loss.src.symbolic.symbolic import *\n",
    "\n",
    "module_path = os.path.abspath(os.path.join(os.getcwd(), '../dl2/'))\n",
    "if module_path not in sys.path:\n",
    "    sys.path.append(module_path)\n",
    "    \n",
    "from semantic_loss.src.experiment.synthetic_experiments import *\n",
    "from semantic_loss.src.experiment.generative import *\n",
    "\n",
    "import pandas as pd\n",
    "import numpy as np\n",
    "import matplotlib.pyplot as plt\n",
    "from tqdm import tqdm\n",
    "import torch as th\n",
    "import torch.nn as nn\n",
    "from torch.nn import functional as F\n",
    "from models import *\n",
    "\n",
    "import dl2lib as dl2"
   ]
  },
  {
   "cell_type": "code",
   "execution_count": null,
   "metadata": {},
   "outputs": [],
   "source": [
    "INOUT_IDX = [\n",
    "    [[0, 4], [8, 9]],   # s1->j1 + s2->j1 = 0 OR j1->p1 + j1->p2      act[0] = flow_s1_j1, act[4] = flow_s2_j1, etc...\n",
    "    [[1, 5], [10, 11]],\n",
    "    [[2, 6], [12, 13]],\n",
    "    [[3, 7], [14, 15]],\n",
    "]\n",
    "\n",
    "EPS = 1e-2"
   ]
  },
  {
   "cell_type": "code",
   "execution_count": null,
   "metadata": {},
   "outputs": [],
   "source": [
    "class ConstrainedIL_MLP_simple(nn.Module):\n",
    "    def __init__(self, terms, dims = [128,128], act_cls = nn.ReLU, *args, **kwargs) -> None:\n",
    "        super().__init__()\n",
    "        \n",
    "\n",
    "        self.N_BLEND = 4\n",
    "        self.IN_DIM, self.OUT_DIM = 37, 20\n",
    "        \n",
    "        self.nterms = 2\n",
    "        self.logic = OrList(\n",
    "            terms=[Zero() for i in range(len(INOUT_IDX))]\n",
    "        )\n",
    "\n",
    "        layers = []\n",
    "        dims = [self.IN_DIM] + dims + [self.OUT_DIM + (self.nterms * self.N_BLEND)]\n",
    "        \n",
    "        for k in range(len(dims)-1):\n",
    "            layers.append(nn.Linear(in_features = dims[k], out_features = dims[k+1]))\n",
    "            layers.append(act_cls())\n",
    "        \n",
    "        self.model_pi = nn.Sequential(*layers)\n",
    "    \n",
    "    def forward(self, x):\n",
    "        uc_act: th.Tensor = self.model_pi(x)\n",
    "        \n",
    "        act, L_dec = uc_act.split(self.OUT_DIM, self.nterms * self.N_BLEND, dim=1)\n",
    "        v1, v2, v3, v4 = L_dec.split(self.N_BLEND, dim=1)\n",
    "        \n",
    "        return act, v1, v2, v3, v4\n",
    "        \n",
    "        "
   ]
  },
  {
   "cell_type": "code",
   "execution_count": null,
   "metadata": {},
   "outputs": [],
   "source": [
    "class ConstrainedSimpleExperiment(BaseSyntheticExperiment):\n",
    "    def __init__(self, name: str = \"Simple\", inout_idx = INOUT_IDX, **kwargs):\n",
    "        super().__init__(name=name, **kwargs)\n",
    "        self.inout_idx = inout_idx\n",
    "    \n",
    "    @property\n",
    "    def logic_terms(self):\n",
    "        terms = []\n",
    "        for in_, out_ in self.inout_idx:\n",
    "            \n",
    "        \n",
    "        return terms\n",
    "    \n",
    "    def create_model(self):\n",
    "        ...\n",
    "        \n",
    "    def criterion(self, output, target):\n",
    "        ..."
   ]
  },
  {
   "cell_type": "code",
   "execution_count": 43,
   "metadata": {},
   "outputs": [
    {
     "data": {
      "text/plain": [
       "array([2, 1, 0, 2, 0])"
      ]
     },
     "execution_count": 43,
     "metadata": {},
     "output_type": "execute_result"
    }
   ],
   "source": [
    "np.random.choice(np.arange(3),replace=True, size=5)"
   ]
  },
  {
   "cell_type": "code",
   "execution_count": 17,
   "metadata": {},
   "outputs": [
    {
     "data": {
      "text/plain": [
       "array([0, 1])"
      ]
     },
     "execution_count": 17,
     "metadata": {},
     "output_type": "execute_result"
    }
   ],
   "source": [
    "np.arange(2)"
   ]
  },
  {
   "cell_type": "code",
   "execution_count": 97,
   "metadata": {},
   "outputs": [
    {
     "data": {
      "text/plain": [
       "tensor([10.0482, 10.8346,  9.2499,  9.8754, 10.8276])"
      ]
     },
     "execution_count": 97,
     "metadata": {},
     "output_type": "execute_result"
    }
   ],
   "source": [
    "mu, log_var = th.tensor([10]*5), th.tensor([-1]*5)\n",
    "std = torch.exp(0.5 * log_var)\n",
    "eps = torch.randn_like(std)\n",
    "sample = mu + (eps * std)\n",
    "sample"
   ]
  },
  {
   "cell_type": "code",
   "execution_count": 113,
   "metadata": {},
   "outputs": [
    {
     "data": {
      "text/plain": [
       "(tensor([  7.2000,   7.8931,  27.2000,  57.2000, 107.2000]),\n",
       " tensor([5.5000, 5.5000, 5.5000, 5.5000, 5.5000]))"
      ]
     },
     "execution_count": 113,
     "metadata": {},
     "output_type": "execute_result"
    }
   ],
   "source": [
    "# GEQ\n",
    "threshold_lower = 5.5\n",
    "threshold_upper = 7.2\n",
    "split1, split2 = th.tensor([-50, 0, 20, 50, 100], dtype=th.float32), th.tensor([-50, 0, 20, 50, 100])\n",
    "\n",
    "restricted1 = F.softplus(split1) + threshold_upper\n",
    "restricted2 = torch.ones_like(split2) * threshold_lower\n",
    "\n",
    "restricted1, restricted2"
   ]
  },
  {
   "cell_type": "code",
   "execution_count": 114,
   "metadata": {},
   "outputs": [
    {
     "data": {
      "text/plain": [
       "(tensor([-1.1269, -0.0943,  1.0000,  1.0000,  1.0000]),\n",
       " tensor([-5.0000e+01, -4.0784e-03,  5.5000e+00,  5.5000e+00,  5.5000e+00]))"
      ]
     },
     "execution_count": 114,
     "metadata": {},
     "output_type": "execute_result"
    }
   ],
   "source": [
    "# Between\n",
    "threshold_upper=[-1.0, 1.0]\n",
    "threshold_lower = 5.5\n",
    "greater_than = (F.softplus(\n",
    "        split1 - threshold_upper[0]) + threshold_upper[0]\n",
    ")\n",
    "less_than = (-F.softplus(-greater_than + threshold_upper[1]) + threshold_upper[1]\n",
    ")\n",
    "\n",
    "restricted2 = - F.softplus(-split2 + threshold_lower) + threshold_lower\n",
    "\n",
    "less_than, restricted2"
   ]
  },
  {
   "cell_type": "code",
   "execution_count": 195,
   "metadata": {},
   "outputs": [
    {
     "data": {
      "image/png": "[encoded data removed]",
      "text/plain": [
       "<PIL.PngImagePlugin.PngImageFile image mode=RGBA size=640x480>"
      ]
     },
     "execution_count": 195,
     "metadata": {},
     "output_type": "execute_result"
    }
   ],
   "source": [
    "# Visualizing the transformation in \"Between\"\n",
    "a = 3\n",
    "b = 5\n",
    "import PIL\n",
    "\n",
    "# def f(x):\n",
    "#     return(-F.softplus(-F.softplus(x) + np.log(np.exp(b-a) - 1)) + b)\n",
    "\n",
    "def g(x):\n",
    "    return(-F.softplus(-x))\n",
    "\n",
    "x = np.arange(-10, 10, 0.1)\n",
    "y = np.array([g(th.Tensor([t])).item() for t in x])\n",
    "plt.plot(x,y)\n",
    "plt.savefig(\"a.png\")\n",
    "PIL.Image.open(\"a.png\")"
   ]
  },
  {
   "cell_type": "code",
   "execution_count": 126,
   "metadata": {},
   "outputs": [],
   "source": [
    "def all_predictions(layers, x):\n",
    "    return torch.stack([f(x) for f in layers], dim=1)"
   ]
  },
  {
   "cell_type": "code",
   "execution_count": 128,
   "metadata": {},
   "outputs": [],
   "source": [
    "c = nn.Linear(8, 3)\n",
    "d = [nn.Linear(3,2) for _ in range(4)]\n",
    "x = th.ones((10,8))\n",
    "y = c(x)\n",
    "z = all_predictions(d, y)"
   ]
  },
  {
   "cell_type": "code",
   "execution_count": 129,
   "metadata": {},
   "outputs": [
    {
     "data": {
      "text/plain": [
       "torch.Size([10, 3])"
      ]
     },
     "execution_count": 129,
     "metadata": {},
     "output_type": "execute_result"
    }
   ],
   "source": [
    "y.shape"
   ]
  },
  {
   "cell_type": "code",
   "execution_count": 131,
   "metadata": {},
   "outputs": [
    {
     "data": {
      "text/plain": [
       "(torch.Size([10, 4, 2]),\n",
       " tensor([[-0.4793, -0.0209],\n",
       "         [ 0.0918, -0.1816],\n",
       "         [ 0.2909, -0.0802],\n",
       "         [ 0.3467, -0.2130]], grad_fn=<SelectBackward0>))"
      ]
     },
     "execution_count": 131,
     "metadata": {},
     "output_type": "execute_result"
    }
   ],
   "source": [
    "z.shape, z[0]"
   ]
  },
  {
   "cell_type": "code",
   "execution_count": 136,
   "metadata": {},
   "outputs": [
    {
     "data": {
      "text/plain": [
       "(4, torch.Size([10, 2]))"
      ]
     },
     "execution_count": 136,
     "metadata": {},
     "output_type": "execute_result"
    }
   ],
   "source": [
    "zz = z.split(1, dim=1)\n",
    "len(zz), zz[0].squeeze(1).shape"
   ]
  },
  {
   "cell_type": "code",
   "execution_count": 186,
   "metadata": {},
   "outputs": [
    {
     "data": {
      "text/plain": [
       "[tensor([ 9.4654,  6.6831,  7.1011, 18.6726, 15.5193, 19.6099, 16.0980, 19.1827,\n",
       "         20.4412, 15.7762], grad_fn=<MulBackward0>),\n",
       " tensor([ 9.1312,  1.1779,  1.9181, 14.2230,  7.5084, 13.2658,  6.5504, 12.7848,\n",
       "         13.3003, 11.6434], grad_fn=<MulBackward0>),\n",
       " tensor([ 7.7319,  0.2195,  0.6995, 10.8583,  4.4029,  9.5684,  3.4726,  9.1408,\n",
       "          9.4272,  8.7064], grad_fn=<MulBackward0>),\n",
       " tensor([10.4402,  0.7548,  1.5433, 13.5593,  5.6404, 11.8407,  4.1412, 11.3543,\n",
       "         11.5459, 11.2024], grad_fn=<MulBackward0>)]"
      ]
     },
     "execution_count": 186,
     "metadata": {},
     "output_type": "execute_result"
    }
   ],
   "source": [
    "ll = []\n",
    "target = th.rand((10,2))\n",
    "for _, p in enumerate(zz):\n",
    "    ll += [\n",
    "        10.0 * F.mse_loss(p.squeeze(1), target, reduction=\"none\").sum(dim=1)\n",
    "    ]\n",
    "ll"
   ]
  },
  {
   "cell_type": "code",
   "execution_count": 191,
   "metadata": {},
   "outputs": [
    {
     "data": {
      "text/plain": [
       "tensor([[ 9.4654,  9.1312,  7.7319, 10.4402],\n",
       "        [ 6.6831,  1.1779,  0.2195,  0.7548],\n",
       "        [ 7.1011,  1.9181,  0.6995,  1.5433],\n",
       "        [18.6726, 14.2230, 10.8583, 13.5593],\n",
       "        [15.5193,  7.5084,  4.4029,  5.6404],\n",
       "        [19.6099, 13.2658,  9.5684, 11.8407],\n",
       "        [16.0980,  6.5504,  3.4726,  4.1412],\n",
       "        [19.1827, 12.7848,  9.1408, 11.3543],\n",
       "        [20.4412, 13.3003,  9.4272, 11.5459],\n",
       "        [15.7762, 11.6434,  8.7064, 11.2024]], grad_fn=<StackBackward0>)"
      ]
     },
     "execution_count": 191,
     "metadata": {},
     "output_type": "execute_result"
    }
   ],
   "source": [
    "pred_loss = torch.stack(ll, dim=1)\n",
    "pred_loss"
   ]
  },
  {
   "cell_type": "code",
   "execution_count": 148,
   "metadata": {},
   "outputs": [
    {
     "data": {
      "text/plain": [
       "torch.Size([10, 1, 2])"
      ]
     },
     "execution_count": 148,
     "metadata": {},
     "output_type": "execute_result"
    }
   ],
   "source": [
    "zz[0].shape"
   ]
  },
  {
   "cell_type": "code",
   "execution_count": 181,
   "metadata": {},
   "outputs": [
    {
     "data": {
      "text/plain": [
       "tensor([[0.0422, 0.1314],\n",
       "        [0.1020, 0.0007],\n",
       "        [0.1237, 0.0424],\n",
       "        [0.0266, 0.3527],\n",
       "        [0.0343, 0.0129]])"
      ]
     },
     "execution_count": 181,
     "metadata": {},
     "output_type": "execute_result"
    }
   ],
   "source": [
    "uu, vv = th.rand((5,2)), th.rand((5,2))\n",
    "F.mse_loss(uu, vv, reduction=\"none\")"
   ]
  },
  {
   "cell_type": "code",
   "execution_count": 182,
   "metadata": {},
   "outputs": [
    {
     "data": {
      "text/plain": [
       "(tensor([[0.7204, 0.0559],\n",
       "         [0.4397, 0.4821],\n",
       "         [0.6481, 0.7065],\n",
       "         [0.5369, 0.0402],\n",
       "         [0.1801, 0.4945]]),\n",
       " tensor([[0.5149, 0.4184],\n",
       "         [0.1203, 0.5089],\n",
       "         [0.2963, 0.9124],\n",
       "         [0.3739, 0.6341],\n",
       "         [0.3653, 0.6078]]))"
      ]
     },
     "execution_count": 182,
     "metadata": {},
     "output_type": "execute_result"
    }
   ],
   "source": [
    "uu,vv"
   ]
  },
  {
   "cell_type": "code",
   "execution_count": 183,
   "metadata": {},
   "outputs": [
    {
     "data": {
      "text/plain": [
       "tensor([[0.0422, 0.1314],\n",
       "        [0.1020, 0.0007],\n",
       "        [0.1237, 0.0424],\n",
       "        [0.0266, 0.3527],\n",
       "        [0.0343, 0.0129]])"
      ]
     },
     "execution_count": 183,
     "metadata": {},
     "output_type": "execute_result"
    }
   ],
   "source": [
    "(uu - vv).square()"
   ]
  },
  {
   "cell_type": "code",
   "execution_count": 190,
   "metadata": {},
   "outputs": [
    {
     "data": {
      "text/plain": [
       "(tensor([0.1736, 0.1027, 0.1661, 0.3793, 0.0472]), tensor(0.8690))"
      ]
     },
     "execution_count": 190,
     "metadata": {},
     "output_type": "execute_result"
    }
   ],
   "source": [
    "F.mse_loss(uu, vv, reduction=\"none\").sum(dim=1), F.mse_loss(uu, vv, reduction=\"sum\")"
   ]
  },
  {
   "cell_type": "code",
   "execution_count": 149,
   "metadata": {},
   "outputs": [
    {
     "data": {
      "text/plain": [
       "(tensor([-0.4793, -0.0209], grad_fn=<SelectBackward0>),\n",
       " tensor([0.5618, 0.5072]),\n",
       " tensor([0.0463, 0.5187], grad_fn=<SelectBackward0>))"
      ]
     },
     "execution_count": 149,
     "metadata": {},
     "output_type": "execute_result"
    }
   ],
   "source": [
    "zz[0].squeeze(1)[0], target[0], F.mse_loss(p.squeeze(1), target, reduction=\"none\")[0]"
   ]
  },
  {
   "cell_type": "code",
   "execution_count": 152,
   "metadata": {},
   "outputs": [
    {
     "data": {
      "text/plain": [
       "tensor([1.0837, 0.2789], grad_fn=<MseLossBackward0>)"
      ]
     },
     "execution_count": 152,
     "metadata": {},
     "output_type": "execute_result"
    }
   ],
   "source": [
    "F.mse_loss(zz[0].squeeze(1)[0], target[0], reduction=\"none\")"
   ]
  },
  {
   "cell_type": "code",
   "execution_count": 142,
   "metadata": {},
   "outputs": [
    {
     "data": {
      "text/plain": [
       "torch.Size([10])"
      ]
     },
     "execution_count": 142,
     "metadata": {},
     "output_type": "execute_result"
    }
   ],
   "source": [
    "ll[0].shape"
   ]
  }
 ],
 "metadata": {
  "kernelspec": {
   "display_name": "blendv",
   "language": "python",
   "name": "python3"
  },
  "language_info": {
   "codemirror_mode": {
    "name": "ipython",
    "version": 3
   },
   "file_extension": ".py",
   "mimetype": "text/x-python",
   "name": "python",
   "nbconvert_exporter": "python",
   "pygments_lexer": "ipython3",
   "version": "3.8.0"
  }
 },
 "nbformat": 4,
 "nbformat_minor": 2
}
