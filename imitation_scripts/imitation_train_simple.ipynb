{
 "cells": [
  {
   "cell_type": "markdown",
   "metadata": {},
   "source": [
    "Next steps: Custom softmax & other improvements, MultiplexNet\n",
    "\n",
    "Check out Decision Transformer: Reinforcement Learning via Sequence Modeling"
   ]
  },
  {
   "cell_type": "code",
   "execution_count": 12,
   "metadata": {},
   "outputs": [
    {
     "name": "stdout",
     "output_type": "stream",
     "text": [
      "c:\\Users\\adame\\OneDrive\\Bureau\\CODE\\BlendingRL\n"
     ]
    }
   ],
   "source": [
    "import sys, os\n",
    "sys.path.append(os.path.dirname(os.path.abspath(os.getcwd())))\n",
    "try:\n",
    "    print(curr_dir)\n",
    "except:\n",
    "    curr_dir = os.path.dirname(os.path.abspath(os.getcwd()))\n",
    "    os.chdir(curr_dir)\n",
    "    print(curr_dir)"
   ]
  },
  {
   "cell_type": "code",
   "execution_count": 6,
   "metadata": {},
   "outputs": [],
   "source": [
    "import numpy as np\n",
    "import pandas as pd\n",
    "\n",
    "import torch as th\n",
    "from torch.optim import Adam\n",
    "from torcheval.metrics import MeanSquaredError\n",
    "from training_loop import TrainingLoop, SimpleTrainingStep\n",
    "from training_loop.callbacks import EarlyStopping, TensorBoardLogger\n",
    "from torch.utils.data import Dataset, DataLoader\n",
    "from sklearn.model_selection import train_test_split\n",
    "from envs import BlendEnv, reconstruct_dict\n",
    "\n",
    "import datetime\n",
    "from models import IL_MLP_simple, IL_RNN_simple"
   ]
  },
  {
   "cell_type": "code",
   "execution_count": 2,
   "metadata": {},
   "outputs": [],
   "source": [
    "import pickle\n",
    "dataset_path = f'./decision-transformer/gym/data/blend-medium-v4.pkl'\n",
    "with open(dataset_path, 'rb') as f:\n",
    "    trajectories = pickle.load(f)"
   ]
  },
  {
   "cell_type": "code",
   "execution_count": 3,
   "metadata": {},
   "outputs": [
    {
     "name": "stdout",
     "output_type": "stream",
     "text": [
      "[(0, 'sources_s1'), (1, 'sources_s2'), (2, 'blenders_j1'), (3, 'blenders_j2'), (4, 'blenders_j3'), (5, 'blenders_j4'), (6, 'demands_p1'), (7, 'demands_p2'), (8, 'sources_avail_next_0_s1'), (9, 'sources_avail_next_0_s2'), (10, 'demands_avail_next_0_p1'), (11, 'demands_avail_next_0_p2')]\n",
      "[(0, 'source_blend_s1_j1'), (1, 'source_blend_s1_j2'), (2, 'source_blend_s1_j3'), (3, 'source_blend_s1_j4'), (4, 'source_blend_s2_j1'), (5, 'source_blend_s2_j2'), (6, 'source_blend_s2_j3'), (7, 'source_blend_s2_j4'), (8, 'blend_demand_j1_p1'), (9, 'blend_demand_j1_p2'), (10, 'blend_demand_j2_p1'), (11, 'blend_demand_j2_p2'), (12, 'blend_demand_j3_p1'), (13, 'blend_demand_j3_p2'), (14, 'blend_demand_j4_p1'), (15, 'blend_demand_j4_p2'), (16, 'tau_s1'), (17, 'tau_s2'), (18, 'delta_p1'), (19, 'delta_p2')] \n",
      "\n",
      "t = 0\n",
      "[(0, 0.0), (1, 0.0), (2, 0.0), (3, 0.0), (4, 0.0), (5, 0.0), (6, 0.0), (7, 0.0)] [(8, 0.0), (9, 25.9), (10, 0.0), (11, 0.0)]\n",
      "[(0, 0.0), (1, 0.0), (2, 0.0), (3, 0.0), (4, 0.0), (5, 0.0), (6, 0.0), (7, 25.9), (8, 0.0), (9, 0.0), (10, 0.0), (11, 0.0), (12, 0.0), (13, 0.0), (14, 0.0), (15, 0.0), (16, 0.0), (17, 25.9), (18, 0.0), (19, 0.0)]\n",
      "161.04834632873533 \n",
      "\n",
      "t = 1\n",
      "[(0, 0.0), (1, 0.0), (2, 0.0), (3, 0.0), (4, 0.0), (5, 25.9), (6, 0.0), (7, 0.0)] [(8, 12.9), (9, 25.1), (10, 0.0), (11, 19.5)]\n",
      "[(0, 0.0), (1, 0.0), (2, 12.3), (3, 0.0), (4, 12.924173535066563), (5, 0.0), (6, 0.0), (7, 0.0), (8, 0.0), (9, 0.0), (10, 0.0), (11, 0.0), (12, 0.0), (13, 0.0), (14, 0.0), (15, 25.9), (16, 12.9), (17, 25.1), (18, 0.0), (19, 0.0)]\n",
      "161.14834632873533 \n",
      "\n",
      "t = 2\n",
      "[(0, 0.6), (1, 12.175826464933438), (2, 12.924173535066563), (3, 0.0), (4, 12.3), (5, 0.0), (6, 0.0), (7, 25.9)] [(8, 14.5), (9, 11.6), (10, 12.3), (11, 18.7)]\n",
      "[(0, 0.0), (1, 15.1), (2, 0.0), (3, 0.0), (4, 0.0), (5, 15.075826464933437), (6, 0.0), (7, 0.0), (8, 0.0), (9, 12.924173535066563), (10, 0.0), (11, 0.0), (12, 12.3), (13, 0.0), (14, 0.0), (15, 0.0), (16, 14.5), (17, 11.6), (18, 12.3), (19, 18.7)]\n",
      "161.44834632873534 \n",
      "\n",
      "t = 3\n",
      "[(0, 0.0), (1, 8.7), (2, 0.0), (3, 30.175826464933444), (4, 0.0), (5, 0.0), (6, 0.0), (7, 20.124173535066564)] [(8, 13.5), (9, 0.0), (10, 21.7), (11, 16.0)]\n",
      "[(0, 0.0), (1, 0.0), (2, 13.5), (3, 0.0), (4, 0.0), (5, 0.0), (6, 0.0), (7, 0.0), (8, 0.0), (9, 0.0), (10, 30.175826464933444), (11, 0.0), (12, 0.0), (13, 0.0), (14, 0.0), (15, 0.0), (16, 13.5), (17, 0.0), (18, 21.7), (19, 5.2)]\n",
      "118.54834632873533 \n",
      "\n",
      "t = 4\n",
      "[(0, 0.0), (1, 8.7), (2, 0.0), (3, 0.0), (4, 13.5), (5, 0.0), (6, 8.475826464933446), (7, 14.924173535066554)] [(8, 0.0), (9, 11.9), (10, 0.0), (11, 23.5)]\n",
      "[(0, 0.0), (1, 0.0), (2, 0.0), (3, 0.0), (4, 20.6), (5, 0.0), (6, 0.0), (7, 0.0), (8, 0.0), (9, 0.0), (10, 0.0), (11, 0.0), (12, 0.0), (13, 8.575826464933446), (14, 0.0), (15, 0.0), (16, 0.0), (17, 11.9), (18, 0.0), (19, 23.5)]\n",
      "70.14834651947021 \n",
      "\n",
      "t = 5\n",
      "[(0, 0.0), (1, 0.0), (2, 20.6), (3, 0.0), (4, 4.924173535066554), (5, 0.0), (6, 8.475826464933446), (7, 0.0)] [(8, 0.0), (9, 0.0), (10, 13.4), (11, 20.6)]\n",
      "[(0, 0.0), (1, 0.0), (2, 0.0), (3, 0.0), (4, 0.0), (5, 0.0), (6, 0.0), (7, 0.0), (8, 0.0), (9, 20.6), (10, 0.0), (11, 0.0), (12, 4.924173535066554), (13, 0.0), (14, 0.0), (15, 0.0), (16, 0.0), (17, 0.0), (18, 13.4), (19, 20.6)]\n",
      "46.84834671020508 \n",
      "\n"
     ]
    }
   ],
   "source": [
    "print([(i,k) for i,k in enumerate(['sources_s1', 'sources_s2', 'blenders_j1', 'blenders_j2', 'blenders_j3', 'blenders_j4', 'demands_p1', 'demands_p2', \n",
    "       'sources_avail_next_0_s1', 'sources_avail_next_0_s2', 'demands_avail_next_0_p1', 'demands_avail_next_0_p2',])])\n",
    "print([(i,k) for i,k in enumerate([\n",
    "    'source_blend_s1_j1', 'source_blend_s1_j2', 'source_blend_s1_j3', 'source_blend_s1_j4',\n",
    "    'source_blend_s2_j1', 'source_blend_s2_j2', 'source_blend_s2_j3', 'source_blend_s2_j4',\n",
    "    'blend_demand_j1_p1', 'blend_demand_j1_p2',\n",
    "    'blend_demand_j2_p1', 'blend_demand_j2_p2',\n",
    "    'blend_demand_j3_p1', 'blend_demand_j3_p2',\n",
    "    'blend_demand_j4_p1', 'blend_demand_j4_p2',\n",
    "    'tau_s1', 'tau_s2',\n",
    "    'delta_p1', 'delta_p2'\n",
    "])], \"\\n\")\n",
    "traj = trajectories[0]\n",
    "for t in range(traj[\"observations\"].shape[0]):\n",
    "    print(\"t =\",t)\n",
    "    print([(i,k) for i,k in enumerate(traj[\"observations\"][t][:8])], [(i+8,k) for i,k in enumerate(traj[\"observations\"][t][12:16])])\n",
    "    print([(i,k) for i,k in enumerate(traj[\"actions\"][t])])\n",
    "    print(traj[\"rewards\"][t],\"\\n\")"
   ]
  },
  {
   "cell_type": "code",
   "execution_count": 55,
   "metadata": {},
   "outputs": [],
   "source": [
    "idx = [12, 16, 20, 24, 28, 32]\n",
    "s1 = list(float(traj[\"observations\"][k][[12]]) for k in range(6))\n",
    "s2 = list(float(traj[\"observations\"][k][[13]]) for k in range(6))\n",
    "p1 = list(float(traj[\"observations\"][k][[14]]) for k in range(6))\n",
    "p2 = list(float(traj[\"observations\"][k][[15]]) for k in range(6))\n",
    "\n",
    "tau0   = {\"s1\": s1, \"s2\": s2}\n",
    "delta0 = {\"p1\": p1, \"p2\": p2}"
   ]
  },
  {
   "cell_type": "code",
   "execution_count": 56,
   "metadata": {},
   "outputs": [
    {
     "data": {
      "text/plain": [
       "({'s1': [0.0, 12.9, 14.5, 13.5, 0.0, 0.0],\n",
       "  's2': [25.9, 25.1, 11.6, 0.0, 11.9, 0.0]},\n",
       " {'p1': [0.0, 0.0, 12.3, 21.7, 0.0, 13.4],\n",
       "  'p2': [0.0, 19.5, 18.7, 16.0, 23.5, 20.6]})"
      ]
     },
     "execution_count": 56,
     "metadata": {},
     "output_type": "execute_result"
    }
   ],
   "source": [
    "tau0, delta0"
   ]
  },
  {
   "cell_type": "code",
   "execution_count": 58,
   "metadata": {},
   "outputs": [],
   "source": [
    "M=P=Q=B=D=0\n",
    "Z=1\n",
    "import json\n",
    "with open(\"./configs/json/action_sample_simple.json\" ,\"r\") as f:\n",
    "    action = f.readline()\n",
    "action_sample = json.loads(action)\n",
    "with open(\"./configs/json/connections_simple.json\" ,\"r\") as f:\n",
    "    connections_s = f.readline()\n",
    "connections = json.loads(connections_s)\n",
    "env = BlendEnv(v=True, connections = connections, action_sample=action_sample, \n",
    "               M=M, P=P, Q=Q, B=B, Z=Z, D=D, tau0 = tau0, delta0 = delta0)"
   ]
  },
  {
   "cell_type": "code",
   "execution_count": 60,
   "metadata": {},
   "outputs": [
    {
     "name": "stdout",
     "output_type": "stream",
     "text": [
      "\n",
      "t: 0\n",
      "t_obs: 0.0\n",
      "\n",
      "  DATASET OBS  s,b,d: {'s1': 0.0, 's2': 0.0} {'j1': 0.0, 'j2': 0.0, 'j3': 0.0, 'j4': 0.0} {'p1': 0.0, 'p2': 0.0} \n",
      "               tau, delta: {'s1': 0.0, 's2': 25.9} {'p1': 0.0, 'p2': 0.0}\n",
      "\n",
      "  OBS          s,b,d: {'s1': 0.0, 's2': 0.0} {'j1': 0.0, 'j2': 0.0, 'j3': 0.0, 'j4': 0.0} {'p1': 0.0, 'p2': 0.0} \n",
      "               tau, delta: {'s1': 0.0, 's2': 25.9} {'p1': 0.0, 'p2': 0.0}\n",
      "\n",
      "   ACTION : \n",
      "tau, delta: {'s1': 0.0, 's2': 25.9} {'p1': 0.0, 'p2': 0.0}\n",
      "source_blend {'s1': {'j1': 0.0, 'j2': 0.0, 'j3': 0.0, 'j4': 0.0}, 's2': {'j1': 0.0, 'j2': 0.0, 'j3': 0.0, 'j4': 25.9}}\n",
      "blend_demand {'j1': {'p1': 0.0, 'p2': 0.0}, 'j2': {'p1': 0.0, 'p2': 0.0}, 'j3': {'p1': 0.0, 'p2': 0.0}, 'j4': {'p1': 0.0, 'p2': 0.0}}\n",
      "j1: inv: 0, in_flow_sources: 0.0, in_flow_blend: 0, out_flow_blend: 0, out_flow_demands: 0.0\n",
      "j2: inv: 0, in_flow_sources: 0.0, in_flow_blend: 0, out_flow_blend: 0, out_flow_demands: 0.0\n",
      "j3: inv: 0, in_flow_sources: 0.0, in_flow_blend: 0, out_flow_blend: 0, out_flow_demands: 0.0\n",
      "j4: inv: 0, in_flow_sources: 25.9, in_flow_blend: 0, out_flow_blend: 0, out_flow_demands: 0.0\n",
      "\n",
      " NEW OBS   >>      {'s1': 0.0, 's2': 0.0} {'j1': 0.0, 'j2': 0.0, 'j3': 0.0, 'j4': 25.9} {'p1': 0.0, 'p2': 0.0}\n",
      "    -0.1  /  -0.1\n",
      "\n",
      "t: 1\n",
      "t_obs: 1.0\n",
      "\n",
      "  DATASET OBS  s,b,d: {'s1': 0.0, 's2': 0.0} {'j1': 0.0, 'j2': 0.0, 'j3': 0.0, 'j4': 25.9} {'p1': 0.0, 'p2': 0.0} \n",
      "               tau, delta: {'s1': 12.9, 's2': 25.1} {'p1': 0.0, 'p2': 19.5}\n",
      "\n",
      "  OBS          s,b,d: {'s1': 0.0, 's2': 0.0} {'j1': 0.0, 'j2': 0.0, 'j3': 0.0, 'j4': 25.9} {'p1': 0.0, 'p2': 0.0} \n",
      "               tau, delta: {'s1': 12.9, 's2': 25.1} {'p1': 0.0, 'p2': 19.5}\n",
      "\n",
      "   ACTION : \n",
      "tau, delta: {'s1': 12.9, 's2': 25.1} {'p1': 0.0, 'p2': 0.0}\n",
      "source_blend {'s1': {'j1': 0.0, 'j2': 0.0, 'j3': 12.3, 'j4': 0.0}, 's2': {'j1': 12.924173535066563, 'j2': 0.0, 'j3': 0.0, 'j4': 0.0}}\n",
      "blend_demand {'j1': {'p1': 0.0, 'p2': 0.0}, 'j2': {'p1': 0.0, 'p2': 0.0}, 'j3': {'p1': 0.0, 'p2': 0.0}, 'j4': {'p1': 0.0, 'p2': 25.9}}\n",
      "j1: inv: 0.0, in_flow_sources: 12.924173535066563, in_flow_blend: 0, out_flow_blend: 0, out_flow_demands: 0.0\n",
      "j2: inv: 0.0, in_flow_sources: 0.0, in_flow_blend: 0, out_flow_blend: 0, out_flow_demands: 0.0\n",
      "j3: inv: 0.0, in_flow_sources: 12.3, in_flow_blend: 0, out_flow_blend: 0, out_flow_demands: 0.0\n",
      "j4: inv: 25.9, in_flow_sources: 0.0, in_flow_blend: 0, out_flow_blend: 0, out_flow_demands: 25.9\n",
      "\n",
      " NEW OBS   >>      {'s1': 0.5999999999999996, 's2': 12.175826464933438} {'j1': 12.924173535066563, 'j2': 0.0, 'j3': 12.3, 'j4': 0.0} {'p1': 0.0, 'p2': 25.9}\n",
      "    -0.30000000000000004  /  -0.30000000000000004\n",
      "\n",
      "t: 2\n",
      "t_obs: 2.0\n",
      "\n",
      "  DATASET OBS  s,b,d: {'s1': 0.6, 's2': 12.175826464933438} {'j1': 12.924173535066563, 'j2': 0.0, 'j3': 12.3, 'j4': 0.0} {'p1': 0.0, 'p2': 25.9} \n",
      "               tau, delta: {'s1': 14.5, 's2': 11.6} {'p1': 12.3, 'p2': 18.7}\n",
      "\n",
      "  OBS          s,b,d: {'s1': 0.6, 's2': 12.175826} {'j1': 12.924173, 'j2': 0.0, 'j3': 12.3, 'j4': 0.0} {'p1': 0.0, 'p2': 25.9} \n",
      "               tau, delta: {'s1': 14.5, 's2': 11.6} {'p1': 12.3, 'p2': 18.7}\n",
      "\n",
      "   ACTION : \n",
      "tau, delta: {'s1': 14.5, 's2': 11.6} {'p1': 12.3, 'p2': 18.7}\n",
      "source_blend {'s1': {'j1': 0.0, 'j2': 15.1, 'j3': 0.0, 'j4': 0.0}, 's2': {'j1': 0.0, 'j2': 15.075826464933437, 'j3': 0.0, 'j4': 0.0}}\n",
      "blend_demand {'j1': {'p1': 0.0, 'p2': 12.924173535066563}, 'j2': {'p1': 0.0, 'p2': 0.0}, 'j3': {'p1': 12.3, 'p2': 0.0}, 'j4': {'p1': 0.0, 'p2': 0.0}}\n",
      "j1: inv: 12.924173535066563, in_flow_sources: 0.0, in_flow_blend: 0, out_flow_blend: 0, out_flow_demands: 12.924173535066563\n",
      "j2: inv: 0.0, in_flow_sources: 30.175826464933436, in_flow_blend: 0, out_flow_blend: 0, out_flow_demands: 0.0\n",
      "{'source_blend': {'s1': {'j1': 0.0, 'j2': 15.1, 'j3': 0.0, 'j4': 0.0}, 's2': {'j1': 0.0, 'j2': 15.075826464933437, 'j3': 0.0, 'j4': 0.0}}, 'blend_demand': {'j1': {'p1': 0.0, 'p2': 12.924173535066563}, 'j2': {'p1': 0.0, 'p2': 0.0}, 'j3': {'p1': 12.3, 'p2': 0.0}, 'j4': {'p1': 0.0, 'p2': 0.0}}, 'tau': {'s1': 14.5, 's2': 11.6}, 'delta': {'p1': 12.3, 'p2': 18.7}}\n",
      "j2: a: 0.9941732676273918\n",
      "[PEN] t3; j2:\t\t\tinventory OOB (resulting amount more than blending tank UB)\n",
      "j3: inv: 12.3, in_flow_sources: 0.0, in_flow_blend: 0, out_flow_blend: 0, out_flow_demands: 12.3\n",
      "j4: inv: 0.0, in_flow_sources: 0.0, in_flow_blend: 0, out_flow_blend: 0, out_flow_demands: 0.0\n",
      "\n",
      " NEW OBS   >>      {'s1': 0.0, 's2': 8.700000000000001} {'j1': 0.0, 'j2': 30.0, 'j3': 0.0, 'j4': 0.0} {'p1': 0.0, 'p2': 20.124173535066564}\n",
      "    42.9  /  42.9\n",
      "\n",
      "t: 3\n",
      "t_obs: 3.0\n",
      "\n",
      "  DATASET OBS  s,b,d: {'s1': 0.0, 's2': 8.7} {'j1': 0.0, 'j2': 30.175826464933444, 'j3': 0.0, 'j4': 0.0} {'p1': 0.0, 'p2': 20.124173535066564} \n",
      "               tau, delta: {'s1': 13.5, 's2': 0.0} {'p1': 21.7, 'p2': 16.0}\n",
      "\n",
      "  OBS          s,b,d: {'s1': 0.0, 's2': 8.7} {'j1': 0.0, 'j2': 30.0, 'j3': 0.0, 'j4': 0.0} {'p1': 0.0, 'p2': 20.124174} \n",
      "               tau, delta: {'s1': 13.5, 's2': 0.0} {'p1': 21.7, 'p2': 16.0}\n",
      "\n",
      "   ACTION : \n",
      "tau, delta: {'s1': 13.5, 's2': 0.0} {'p1': 21.7, 'p2': 5.2}\n",
      "source_blend {'s1': {'j1': 0.0, 'j2': 0.0, 'j3': 13.5, 'j4': 0.0}, 's2': {'j1': 0.0, 'j2': 0.0, 'j3': 0.0, 'j4': 0.0}}\n",
      "blend_demand {'j1': {'p1': 0.0, 'p2': 0.0}, 'j2': {'p1': 30.175826464933444, 'p2': 0.0}, 'j3': {'p1': 0.0, 'p2': 0.0}, 'j4': {'p1': 0.0, 'p2': 0.0}}\n",
      "j1: inv: 0.0, in_flow_sources: 0.0, in_flow_blend: 0, out_flow_blend: 0, out_flow_demands: 0.0\n",
      "j2: inv: 30.0, in_flow_sources: 0.0, in_flow_blend: 0, out_flow_blend: 0, out_flow_demands: 30.175826464933444\n",
      "j2: b: 0.9941732676273916\n",
      "[PEN] t4; j2:\t\t\tinventory OOB (resulting amount less than blending tank LB)\n",
      "j3: inv: 0.0, in_flow_sources: 13.5, in_flow_blend: 0, out_flow_blend: 0, out_flow_demands: 0.0\n",
      "j4: inv: 0.0, in_flow_sources: 0.0, in_flow_blend: 0, out_flow_blend: 0, out_flow_demands: 0.0\n",
      "\n",
      " NEW OBS   >>      {'s1': 0.0, 's2': 8.700000000000001} {'j1': 0.0, 'j2': 0.0, 'j3': 13.5, 'j4': 0.0} {'p1': 8.3, 'p2': 14.924173535066565}\n",
      "    48.400000000000006  /  48.399999809265125\n",
      "\n",
      "t: 4\n",
      "t_obs: 4.0\n",
      "\n",
      "  DATASET OBS  s,b,d: {'s1': 0.0, 's2': 8.7} {'j1': 0.0, 'j2': 0.0, 'j3': 13.5, 'j4': 0.0} {'p1': 8.475826464933446, 'p2': 14.924173535066554} \n",
      "               tau, delta: {'s1': 0.0, 's2': 11.9} {'p1': 0.0, 'p2': 23.5}\n",
      "\n",
      "  OBS          s,b,d: {'s1': 0.0, 's2': 8.7} {'j1': 0.0, 'j2': 0.0, 'j3': 13.5, 'j4': 0.0} {'p1': 8.3, 'p2': 14.924173} \n",
      "               tau, delta: {'s1': 0.0, 's2': 11.9} {'p1': 0.0, 'p2': 23.5}\n",
      "\n",
      "   ACTION : \n",
      "tau, delta: {'s1': 0.0, 's2': 11.9} {'p1': 0.0, 'p2': 23.5}\n",
      "source_blend {'s1': {'j1': 0.0, 'j2': 0.0, 'j3': 0.0, 'j4': 0.0}, 's2': {'j1': 20.6, 'j2': 0.0, 'j3': 0.0, 'j4': 0.0}}\n",
      "blend_demand {'j1': {'p1': 0.0, 'p2': 0.0}, 'j2': {'p1': 0.0, 'p2': 0.0}, 'j3': {'p1': 0.0, 'p2': 8.575826464933446}, 'j4': {'p1': 0.0, 'p2': 0.0}}\n",
      "j1: inv: 0.0, in_flow_sources: 20.6, in_flow_blend: 0, out_flow_blend: 0, out_flow_demands: 0.0\n",
      "j2: inv: 0.0, in_flow_sources: 0.0, in_flow_blend: 0, out_flow_blend: 0, out_flow_demands: 0.0\n",
      "j3: inv: 13.5, in_flow_sources: 0.0, in_flow_blend: 0, out_flow_blend: 0, out_flow_demands: 8.575826464933446\n",
      "j4: inv: 0.0, in_flow_sources: 0.0, in_flow_blend: 0, out_flow_blend: 0, out_flow_demands: 0.0\n",
      "[PEN] t5; p2; q1; j3:\t\t\tSold qualities out of bounds (-0.04)\n",
      "\n",
      " NEW OBS   >>      {'s1': 0.0, 's2': 0.0} {'j1': 20.6, 'j2': 0.0, 'j3': 4.924173535066554, 'j4': 0.0} {'p1': 8.3, 'p2': 1.0658141036401503e-14}\n",
      "    23.299999999999997  /  23.29999980926513\n",
      "\n",
      "t: 5\n",
      "t_obs: 5.0\n",
      "\n",
      "  DATASET OBS  s,b,d: {'s1': 0.0, 's2': 0.0} {'j1': 20.6, 'j2': 0.0, 'j3': 4.924173535066554, 'j4': 0.0} {'p1': 8.475826464933446, 'p2': 0.0} \n",
      "               tau, delta: {'s1': 0.0, 's2': 0.0} {'p1': 13.4, 'p2': 20.6}\n",
      "\n",
      "  OBS          s,b,d: {'s1': 0.0, 's2': 0.0} {'j1': 20.6, 'j2': 0.0, 'j3': 4.9241734, 'j4': 0.0} {'p1': 8.3, 'p2': 1.0658141e-14} \n",
      "               tau, delta: {'s1': 0.0, 's2': 0.0} {'p1': 13.4, 'p2': 20.6}\n",
      "\n",
      "   ACTION : \n",
      "tau, delta: {'s1': 0.0, 's2': 0.0} {'p1': 13.4, 'p2': 20.6}\n",
      "source_blend {'s1': {'j1': 0.0, 'j2': 0.0, 'j3': 0.0, 'j4': 0.0}, 's2': {'j1': 0.0, 'j2': 0.0, 'j3': 0.0, 'j4': 0.0}}\n",
      "blend_demand {'j1': {'p1': 0.0, 'p2': 20.6}, 'j2': {'p1': 0.0, 'p2': 0.0}, 'j3': {'p1': 4.924173535066554, 'p2': 0.0}, 'j4': {'p1': 0.0, 'p2': 0.0}}\n",
      "j1: inv: 20.6, in_flow_sources: 0.0, in_flow_blend: 0, out_flow_blend: 0, out_flow_demands: 20.6\n",
      "j2: inv: 0.0, in_flow_sources: 0.0, in_flow_blend: 0, out_flow_blend: 0, out_flow_demands: 0.0\n",
      "j3: inv: 4.924173535066554, in_flow_sources: 0.0, in_flow_blend: 0, out_flow_blend: 0, out_flow_demands: 4.924173535066554\n",
      "j4: inv: 0.0, in_flow_sources: 0.0, in_flow_blend: 0, out_flow_blend: 0, out_flow_demands: 0.0\n",
      "p1: newdelta: 13.224173535066555\n",
      "[PEN] t6; p1:\t\t\tsold too much (resulting amount less than demand tank LB)\n",
      "\n",
      " NEW OBS   >>      {'s1': 0.0, 's2': 0.0} {'j1': 0.0, 'j2': 0.0, 'j3': 0.0, 'j4': 0.0} {'p1': 0.0, 'p2': 1.0658141036401503e-14}\n",
      "    46.8483470701331  /  46.84834671020508\n"
     ]
    }
   ],
   "source": [
    "obs = env.reset()\n",
    "obs, obs_dict = obs\n",
    "prev_rew = 0\n",
    "for t in range(env.T):\n",
    "    print(\"\\nt:\",t)\n",
    "    print(\"t_obs:\", obs[-1])\n",
    "    dobs = reconstruct_dict(obs, env.mapping_obs)\n",
    "    datasetobs = reconstruct_dict(traj[\"observations\"][t], env.mapping_obs)\n",
    "    \n",
    "    print(\"\\n  DATASET OBS  s,b,d:\",datasetobs[\"sources\"], datasetobs[\"blenders\"], datasetobs[\"demands\"], \"\\n               tau, delta:\",datasetobs[\"sources_avail_next_0\"], datasetobs[\"demands_avail_next_0\"])\n",
    "    print(\"\\n  OBS          s,b,d:\",dobs[\"sources\"], dobs[\"blenders\"], dobs[\"demands\"], \"\\n               tau, delta:\",dobs[\"sources_avail_next_0\"], dobs[\"demands_avail_next_0\"])\n",
    "    \n",
    "    action = traj[\"actions\"][t]\n",
    "    dact = reconstruct_dict(action, env.mapping_act)\n",
    "    \n",
    "    print(\"\\n   ACTION : \")\n",
    "    print(\"tau, delta:\", dact[\"tau\"], dact[\"delta\"])\n",
    "    print(\"source_blend\", dact[\"source_blend\"])\n",
    "    print(\"blend_demand\", dact[\"blend_demand\"])\n",
    "    \n",
    "    obs, reward, done, term, dict_obs = env.step(action)\n",
    "    print(\"\\n NEW OBS   >>     \",dict_obs[\"dict_state\"][\"sources\"], dict_obs[\"dict_state\"][\"blenders\"], dict_obs[\"dict_state\"][\"demands\"])\n",
    "    print(\"   \" ,reward - prev_rew,\" / \", traj[\"rewards\"][t])\n",
    "    prev_rew = reward"
   ]
  },
  {
   "cell_type": "code",
   "execution_count": 3,
   "metadata": {},
   "outputs": [],
   "source": [
    "now = datetime.datetime.now().strftime('%m%d-%H%M')\n",
    "modelname = f\"MLP_{now}\""
   ]
  },
  {
   "cell_type": "code",
   "execution_count": 11,
   "metadata": {},
   "outputs": [],
   "source": [
    "cols_obs = [\n",
    "    'sources_s1', 'sources_s2',\n",
    "    'blenders_j1', 'blenders_j2', 'blenders_j3', 'blenders_j4',\n",
    "    'demands_p1', 'demands_p2',\n",
    "    'properties_j1_q1', 'properties_j2_q1', 'properties_j3_q1', 'properties_j4_q1',\n",
    "    'sources_avail_next_0_s1', 'sources_avail_next_0_s2', 'demands_avail_next_0_p1', 'demands_avail_next_0_p2',\n",
    "    'sources_avail_next_1_s1', 'sources_avail_next_1_s2', 'demands_avail_next_1_p1', 'demands_avail_next_1_p2',\n",
    "    'sources_avail_next_2_s1', 'sources_avail_next_2_s2', 'demands_avail_next_2_p1', 'demands_avail_next_2_p2',\n",
    "    'sources_avail_next_3_s1', 'sources_avail_next_3_s2', 'demands_avail_next_3_p1', 'demands_avail_next_3_p2',\n",
    "    'sources_avail_next_4_s1', 'sources_avail_next_4_s2', 'demands_avail_next_4_p1', 'demands_avail_next_4_p2',\n",
    "    'sources_avail_next_5_s1', 'sources_avail_next_5_s2', 'demands_avail_next_5_p1', 'demands_avail_next_5_p2',\n",
    "    't'\n",
    "]\n",
    "cols_act = [\n",
    "    'source_blend_s1_j1', 'source_blend_s1_j2', 'source_blend_s1_j3', 'source_blend_s1_j4',\n",
    "    'source_blend_s2_j1', 'source_blend_s2_j2', 'source_blend_s2_j3', 'source_blend_s2_j4',\n",
    "    'blend_demand_j1_p1', 'blend_demand_j1_p2',\n",
    "    'blend_demand_j2_p1', 'blend_demand_j2_p2',\n",
    "    'blend_demand_j3_p1', 'blend_demand_j3_p2',\n",
    "    'blend_demand_j4_p1', 'blend_demand_j4_p2',\n",
    "    'tau_s1', 'tau_s2',\n",
    "    'delta_p1', 'delta_p2'\n",
    "]"
   ]
  },
  {
   "cell_type": "code",
   "execution_count": 12,
   "metadata": {},
   "outputs": [],
   "source": [
    "X, y = pd.DataFrame([], columns=cols_obs), pd.DataFrame([], columns=cols_act)\n",
    "\n",
    "for file in os.listdir(\"./data/simple\"):\n",
    "    df = pd.read_csv(os.path.join(\"./data/simple\", file))\n",
    "    if \"OBS\" in file:\n",
    "        X = pd.concat([X, df])\n",
    "    elif \"ACT\" in file:\n",
    "        y = pd.concat([y, df])\n",
    "\n",
    "X = X.drop(\"Unnamed: 0\", axis=1)\n",
    "y = y.drop(\"Unnamed: 0\", axis=1)\n",
    "\n",
    "X_train, X_temp, y_train, y_temp = train_test_split(X, y, test_size=0.2, random_state=42)\n",
    "X_val, X_test, y_val, y_test = train_test_split(X_temp, y_temp, test_size=0.5, random_state=42)"
   ]
  },
  {
   "cell_type": "code",
   "execution_count": 13,
   "metadata": {},
   "outputs": [],
   "source": [
    "# Normalization to [0, 1]\n",
    "X_min = X.min()\n",
    "y_min = y.min()\n",
    "X_max = X.max()\n",
    "y_max = y.max()\n",
    "\n",
    "def norm_X(X):\n",
    "    return (X - X_min) / (X_max - X_min)\n",
    "def denorm_X(X):\n",
    "    return X * (X_max - X_min) + X_min\n",
    "def norm_y(y):\n",
    "    return (y - y_min) / (y_max - y_min)\n",
    "def denorm_y(y):\n",
    "    return y * (y_max - y_min) + y_min\n",
    "\n",
    "X_train = norm_X(X_train)\n",
    "X_val = norm_X(X_val)\n",
    "X_test = norm_X(X_test)\n",
    "y_train = norm_y(y_train)\n",
    "y_val = norm_y(y_val)\n",
    "y_test = norm_y(y_test)"
   ]
  },
  {
   "cell_type": "code",
   "execution_count": 18,
   "metadata": {},
   "outputs": [],
   "source": [
    "class MyData(Dataset):\n",
    "    def __init__(self, df_X: pd.DataFrame, df_y: pd.DataFrame) -> None:\n",
    "        super().__init__()\n",
    "        self.df_X = df_X\n",
    "        self.df_y = df_y\n",
    "        \n",
    "    def __getitem__(self, index):\n",
    "        return(th.Tensor(self.df_X.iloc[index]), th.Tensor(self.df_y.iloc[index]))\n",
    "    \n",
    "    def __len__(self):\n",
    "        return(self.df_X.shape[0])"
   ]
  },
  {
   "cell_type": "code",
   "execution_count": 19,
   "metadata": {},
   "outputs": [
    {
     "data": {
      "text/plain": [
       "48027"
      ]
     },
     "execution_count": 19,
     "metadata": {},
     "output_type": "execute_result"
    }
   ],
   "source": [
    "train_ds = MyData(X_train, y_train)\n",
    "train_dl = DataLoader(train_ds, batch_size=128)\n",
    "val_ds = MyData(X_val, y_val)\n",
    "val_dl = DataLoader(val_ds, batch_size=128)\n",
    "test_ds = MyData(X_test, y_test)\n",
    "test_dl = DataLoader(test_ds, batch_size=128)\n",
    "len(train_ds)"
   ]
  },
  {
   "cell_type": "code",
   "execution_count": 20,
   "metadata": {},
   "outputs": [],
   "source": [
    "model = IL_RNN_simple()"
   ]
  },
  {
   "cell_type": "code",
   "execution_count": 21,
   "metadata": {},
   "outputs": [
    {
     "data": {
      "application/vnd.jupyter.widget-view+json": {
       "model_id": "abd7d394ebdb4273b3cf136e82f93803",
       "version_major": 2,
       "version_minor": 0
      },
      "text/plain": [
       "Epoch 1/100:   0%|          | 0/423 [00:00<?, ?it/s]"
      ]
     },
     "metadata": {},
     "output_type": "display_data"
    },
    {
     "data": {
      "application/vnd.jupyter.widget-view+json": {
       "model_id": "6a269b70eed344ea8b4f47aff4bc38c2",
       "version_major": 2,
       "version_minor": 0
      },
      "text/plain": [
       "Epoch 2/100:   0%|          | 0/423 [00:00<?, ?it/s]"
      ]
     },
     "metadata": {},
     "output_type": "display_data"
    },
    {
     "data": {
      "application/vnd.jupyter.widget-view+json": {
       "model_id": "ecbe42c49d4e4a1d94006077835fa6d1",
       "version_major": 2,
       "version_minor": 0
      },
      "text/plain": [
       "Epoch 3/100:   0%|          | 0/423 [00:00<?, ?it/s]"
      ]
     },
     "metadata": {},
     "output_type": "display_data"
    },
    {
     "data": {
      "application/vnd.jupyter.widget-view+json": {
       "model_id": "e9692295436c422488a46747eb34f16c",
       "version_major": 2,
       "version_minor": 0
      },
      "text/plain": [
       "Epoch 4/100:   0%|          | 0/423 [00:00<?, ?it/s]"
      ]
     },
     "metadata": {},
     "output_type": "display_data"
    },
    {
     "data": {
      "application/vnd.jupyter.widget-view+json": {
       "model_id": "c494e5efb74348bc8dbcf39148939fcb",
       "version_major": 2,
       "version_minor": 0
      },
      "text/plain": [
       "Epoch 5/100:   0%|          | 0/423 [00:00<?, ?it/s]"
      ]
     },
     "metadata": {},
     "output_type": "display_data"
    },
    {
     "data": {
      "application/vnd.jupyter.widget-view+json": {
       "model_id": "42dbc6eea09645d78b2d488e460deaa0",
       "version_major": 2,
       "version_minor": 0
      },
      "text/plain": [
       "Epoch 6/100:   0%|          | 0/423 [00:00<?, ?it/s]"
      ]
     },
     "metadata": {},
     "output_type": "display_data"
    },
    {
     "data": {
      "application/vnd.jupyter.widget-view+json": {
       "model_id": "f0eb4fed3a7a417d9b82a54c3039d68f",
       "version_major": 2,
       "version_minor": 0
      },
      "text/plain": [
       "Epoch 7/100:   0%|          | 0/423 [00:00<?, ?it/s]"
      ]
     },
     "metadata": {},
     "output_type": "display_data"
    },
    {
     "data": {
      "application/vnd.jupyter.widget-view+json": {
       "model_id": "0d2f5193d8d444828f69a34abd4c953c",
       "version_major": 2,
       "version_minor": 0
      },
      "text/plain": [
       "Epoch 8/100:   0%|          | 0/423 [00:00<?, ?it/s]"
      ]
     },
     "metadata": {},
     "output_type": "display_data"
    },
    {
     "data": {
      "application/vnd.jupyter.widget-view+json": {
       "model_id": "c4ed6f1124ff4c7eb9093dca4bd9bc41",
       "version_major": 2,
       "version_minor": 0
      },
      "text/plain": [
       "Epoch 9/100:   0%|          | 0/423 [00:00<?, ?it/s]"
      ]
     },
     "metadata": {},
     "output_type": "display_data"
    },
    {
     "data": {
      "application/vnd.jupyter.widget-view+json": {
       "model_id": "3e2d4c7c13fa4b968757543dde523c33",
       "version_major": 2,
       "version_minor": 0
      },
      "text/plain": [
       "Epoch 10/100:   0%|          | 0/423 [00:00<?, ?it/s]"
      ]
     },
     "metadata": {},
     "output_type": "display_data"
    },
    {
     "data": {
      "application/vnd.jupyter.widget-view+json": {
       "model_id": "fcf9d0f1c953455fbaf66b98be801551",
       "version_major": 2,
       "version_minor": 0
      },
      "text/plain": [
       "Epoch 11/100:   0%|          | 0/423 [00:00<?, ?it/s]"
      ]
     },
     "metadata": {},
     "output_type": "display_data"
    },
    {
     "data": {
      "application/vnd.jupyter.widget-view+json": {
       "model_id": "b098a7a8a79b44c580994aa3835865ba",
       "version_major": 2,
       "version_minor": 0
      },
      "text/plain": [
       "Epoch 12/100:   0%|          | 0/423 [00:00<?, ?it/s]"
      ]
     },
     "metadata": {},
     "output_type": "display_data"
    },
    {
     "data": {
      "application/vnd.jupyter.widget-view+json": {
       "model_id": "dec8291642bb4180ade2e04f79f6f7c5",
       "version_major": 2,
       "version_minor": 0
      },
      "text/plain": [
       "Epoch 13/100:   0%|          | 0/423 [00:00<?, ?it/s]"
      ]
     },
     "metadata": {},
     "output_type": "display_data"
    },
    {
     "data": {
      "application/vnd.jupyter.widget-view+json": {
       "model_id": "b26a3c692f3848bfb8175b2488ea4298",
       "version_major": 2,
       "version_minor": 0
      },
      "text/plain": [
       "Epoch 14/100:   0%|          | 0/423 [00:00<?, ?it/s]"
      ]
     },
     "metadata": {},
     "output_type": "display_data"
    },
    {
     "data": {
      "application/vnd.jupyter.widget-view+json": {
       "model_id": "46193282e0df4f7e9bd5970ebd3235b0",
       "version_major": 2,
       "version_minor": 0
      },
      "text/plain": [
       "Epoch 15/100:   0%|          | 0/423 [00:00<?, ?it/s]"
      ]
     },
     "metadata": {},
     "output_type": "display_data"
    },
    {
     "data": {
      "application/vnd.jupyter.widget-view+json": {
       "model_id": "00d51ae1c0844b98ac6e58707e42b08a",
       "version_major": 2,
       "version_minor": 0
      },
      "text/plain": [
       "Epoch 16/100:   0%|          | 0/423 [00:00<?, ?it/s]"
      ]
     },
     "metadata": {},
     "output_type": "display_data"
    },
    {
     "data": {
      "application/vnd.jupyter.widget-view+json": {
       "model_id": "e23f3c2fa5124989927d49a9d0731e47",
       "version_major": 2,
       "version_minor": 0
      },
      "text/plain": [
       "Epoch 17/100:   0%|          | 0/423 [00:00<?, ?it/s]"
      ]
     },
     "metadata": {},
     "output_type": "display_data"
    },
    {
     "data": {
      "application/vnd.jupyter.widget-view+json": {
       "model_id": "2f8724e57ede4347bbeaabfd6c388e18",
       "version_major": 2,
       "version_minor": 0
      },
      "text/plain": [
       "Epoch 18/100:   0%|          | 0/423 [00:00<?, ?it/s]"
      ]
     },
     "metadata": {},
     "output_type": "display_data"
    },
    {
     "data": {
      "application/vnd.jupyter.widget-view+json": {
       "model_id": "2b5b7499b18e42d6926bb26913d146a2",
       "version_major": 2,
       "version_minor": 0
      },
      "text/plain": [
       "Epoch 19/100:   0%|          | 0/423 [00:00<?, ?it/s]"
      ]
     },
     "metadata": {},
     "output_type": "display_data"
    },
    {
     "data": {
      "application/vnd.jupyter.widget-view+json": {
       "model_id": "859258c39bb2401ebfe7c1948d7bbdf6",
       "version_major": 2,
       "version_minor": 0
      },
      "text/plain": [
       "Epoch 20/100:   0%|          | 0/423 [00:00<?, ?it/s]"
      ]
     },
     "metadata": {},
     "output_type": "display_data"
    },
    {
     "data": {
      "application/vnd.jupyter.widget-view+json": {
       "model_id": "7b174df0a2c94a9788d275c59f7f550c",
       "version_major": 2,
       "version_minor": 0
      },
      "text/plain": [
       "Epoch 21/100:   0%|          | 0/423 [00:00<?, ?it/s]"
      ]
     },
     "metadata": {},
     "output_type": "display_data"
    },
    {
     "data": {
      "application/vnd.jupyter.widget-view+json": {
       "model_id": "cfe42a54c4514959a2510eb09d2c72f8",
       "version_major": 2,
       "version_minor": 0
      },
      "text/plain": [
       "Epoch 22/100:   0%|          | 0/423 [00:00<?, ?it/s]"
      ]
     },
     "metadata": {},
     "output_type": "display_data"
    },
    {
     "data": {
      "application/vnd.jupyter.widget-view+json": {
       "model_id": "6002487ba54f4ffcad10e58f78b300b7",
       "version_major": 2,
       "version_minor": 0
      },
      "text/plain": [
       "Epoch 23/100:   0%|          | 0/423 [00:00<?, ?it/s]"
      ]
     },
     "metadata": {},
     "output_type": "display_data"
    },
    {
     "data": {
      "application/vnd.jupyter.widget-view+json": {
       "model_id": "0535c49803cc4980a2693c6a05a3d1f3",
       "version_major": 2,
       "version_minor": 0
      },
      "text/plain": [
       "Epoch 24/100:   0%|          | 0/423 [00:00<?, ?it/s]"
      ]
     },
     "metadata": {},
     "output_type": "display_data"
    },
    {
     "data": {
      "application/vnd.jupyter.widget-view+json": {
       "model_id": "7c5d429a9b2e421daa6f66e797e8a47b",
       "version_major": 2,
       "version_minor": 0
      },
      "text/plain": [
       "Epoch 25/100:   0%|          | 0/423 [00:00<?, ?it/s]"
      ]
     },
     "metadata": {},
     "output_type": "display_data"
    },
    {
     "data": {
      "application/vnd.jupyter.widget-view+json": {
       "model_id": "14bc4b17d94f4da78a2feb105c9c1523",
       "version_major": 2,
       "version_minor": 0
      },
      "text/plain": [
       "Epoch 26/100:   0%|          | 0/423 [00:00<?, ?it/s]"
      ]
     },
     "metadata": {},
     "output_type": "display_data"
    },
    {
     "data": {
      "application/vnd.jupyter.widget-view+json": {
       "model_id": "588c6df979234032a23926b6462e8805",
       "version_major": 2,
       "version_minor": 0
      },
      "text/plain": [
       "Epoch 27/100:   0%|          | 0/423 [00:00<?, ?it/s]"
      ]
     },
     "metadata": {},
     "output_type": "display_data"
    },
    {
     "data": {
      "application/vnd.jupyter.widget-view+json": {
       "model_id": "22124fa9e13e4ef2b2b1e330df653323",
       "version_major": 2,
       "version_minor": 0
      },
      "text/plain": [
       "Epoch 28/100:   0%|          | 0/423 [00:00<?, ?it/s]"
      ]
     },
     "metadata": {},
     "output_type": "display_data"
    },
    {
     "data": {
      "application/vnd.jupyter.widget-view+json": {
       "model_id": "27e74e968ecc4bc0bcee2925a7f9a74f",
       "version_major": 2,
       "version_minor": 0
      },
      "text/plain": [
       "Epoch 29/100:   0%|          | 0/423 [00:00<?, ?it/s]"
      ]
     },
     "metadata": {},
     "output_type": "display_data"
    },
    {
     "data": {
      "application/vnd.jupyter.widget-view+json": {
       "model_id": "c49469e7f23a42b8855b68ac43d87257",
       "version_major": 2,
       "version_minor": 0
      },
      "text/plain": [
       "Epoch 30/100:   0%|          | 0/423 [00:00<?, ?it/s]"
      ]
     },
     "metadata": {},
     "output_type": "display_data"
    },
    {
     "data": {
      "application/vnd.jupyter.widget-view+json": {
       "model_id": "ba48bcd6f1a94f32a5665a1267ba84a0",
       "version_major": 2,
       "version_minor": 0
      },
      "text/plain": [
       "Epoch 31/100:   0%|          | 0/423 [00:00<?, ?it/s]"
      ]
     },
     "metadata": {},
     "output_type": "display_data"
    },
    {
     "data": {
      "application/vnd.jupyter.widget-view+json": {
       "model_id": "30e2581ecd084dfe8f601c8c22ed1c68",
       "version_major": 2,
       "version_minor": 0
      },
      "text/plain": [
       "Epoch 32/100:   0%|          | 0/423 [00:00<?, ?it/s]"
      ]
     },
     "metadata": {},
     "output_type": "display_data"
    },
    {
     "data": {
      "application/vnd.jupyter.widget-view+json": {
       "model_id": "f78d790460074b93877c0b1b3d690228",
       "version_major": 2,
       "version_minor": 0
      },
      "text/plain": [
       "Epoch 33/100:   0%|          | 0/423 [00:00<?, ?it/s]"
      ]
     },
     "metadata": {},
     "output_type": "display_data"
    },
    {
     "data": {
      "application/vnd.jupyter.widget-view+json": {
       "model_id": "bcbcb65d0681450ba5849f02da2ae388",
       "version_major": 2,
       "version_minor": 0
      },
      "text/plain": [
       "Epoch 34/100:   0%|          | 0/423 [00:00<?, ?it/s]"
      ]
     },
     "metadata": {},
     "output_type": "display_data"
    },
    {
     "data": {
      "application/vnd.jupyter.widget-view+json": {
       "model_id": "c01450459daa4e8ab013a22ef78f3f57",
       "version_major": 2,
       "version_minor": 0
      },
      "text/plain": [
       "Epoch 35/100:   0%|          | 0/423 [00:00<?, ?it/s]"
      ]
     },
     "metadata": {},
     "output_type": "display_data"
    },
    {
     "data": {
      "application/vnd.jupyter.widget-view+json": {
       "model_id": "3e2492daf74d4c8f81ee9cc6de30c92b",
       "version_major": 2,
       "version_minor": 0
      },
      "text/plain": [
       "Epoch 36/100:   0%|          | 0/423 [00:00<?, ?it/s]"
      ]
     },
     "metadata": {},
     "output_type": "display_data"
    },
    {
     "data": {
      "application/vnd.jupyter.widget-view+json": {
       "model_id": "e54dccb212744d2db5627870363bf242",
       "version_major": 2,
       "version_minor": 0
      },
      "text/plain": [
       "Epoch 37/100:   0%|          | 0/423 [00:00<?, ?it/s]"
      ]
     },
     "metadata": {},
     "output_type": "display_data"
    },
    {
     "data": {
      "application/vnd.jupyter.widget-view+json": {
       "model_id": "5dc70a336936402da230a71898d1d3a7",
       "version_major": 2,
       "version_minor": 0
      },
      "text/plain": [
       "Epoch 38/100:   0%|          | 0/423 [00:00<?, ?it/s]"
      ]
     },
     "metadata": {},
     "output_type": "display_data"
    },
    {
     "data": {
      "application/vnd.jupyter.widget-view+json": {
       "model_id": "ebb527d7bee0490baac23b91d5eb3c42",
       "version_major": 2,
       "version_minor": 0
      },
      "text/plain": [
       "Epoch 39/100:   0%|          | 0/423 [00:00<?, ?it/s]"
      ]
     },
     "metadata": {},
     "output_type": "display_data"
    },
    {
     "data": {
      "application/vnd.jupyter.widget-view+json": {
       "model_id": "53cff677886e4342a9348e4d14932db7",
       "version_major": 2,
       "version_minor": 0
      },
      "text/plain": [
       "Epoch 40/100:   0%|          | 0/423 [00:00<?, ?it/s]"
      ]
     },
     "metadata": {},
     "output_type": "display_data"
    },
    {
     "data": {
      "application/vnd.jupyter.widget-view+json": {
       "model_id": "2980748ee81c42779c28f528703f25eb",
       "version_major": 2,
       "version_minor": 0
      },
      "text/plain": [
       "Epoch 41/100:   0%|          | 0/423 [00:00<?, ?it/s]"
      ]
     },
     "metadata": {},
     "output_type": "display_data"
    },
    {
     "data": {
      "application/vnd.jupyter.widget-view+json": {
       "model_id": "d3dc705fd9124daaa4ebc46d8d559013",
       "version_major": 2,
       "version_minor": 0
      },
      "text/plain": [
       "Epoch 42/100:   0%|          | 0/423 [00:00<?, ?it/s]"
      ]
     },
     "metadata": {},
     "output_type": "display_data"
    },
    {
     "data": {
      "application/vnd.jupyter.widget-view+json": {
       "model_id": "7e4c1167ce5e4ada954f18fdc1aa1fab",
       "version_major": 2,
       "version_minor": 0
      },
      "text/plain": [
       "Epoch 43/100:   0%|          | 0/423 [00:00<?, ?it/s]"
      ]
     },
     "metadata": {},
     "output_type": "display_data"
    },
    {
     "data": {
      "application/vnd.jupyter.widget-view+json": {
       "model_id": "4e6afe809b31481a9c00402e146355c8",
       "version_major": 2,
       "version_minor": 0
      },
      "text/plain": [
       "Epoch 44/100:   0%|          | 0/423 [00:00<?, ?it/s]"
      ]
     },
     "metadata": {},
     "output_type": "display_data"
    },
    {
     "data": {
      "application/vnd.jupyter.widget-view+json": {
       "model_id": "5394ccb558e244d496d324a4234ebda7",
       "version_major": 2,
       "version_minor": 0
      },
      "text/plain": [
       "Epoch 45/100:   0%|          | 0/423 [00:00<?, ?it/s]"
      ]
     },
     "metadata": {},
     "output_type": "display_data"
    },
    {
     "data": {
      "application/vnd.jupyter.widget-view+json": {
       "model_id": "37e54f38475a40c09b4111f9f9cd8d84",
       "version_major": 2,
       "version_minor": 0
      },
      "text/plain": [
       "Epoch 46/100:   0%|          | 0/423 [00:00<?, ?it/s]"
      ]
     },
     "metadata": {},
     "output_type": "display_data"
    },
    {
     "data": {
      "application/vnd.jupyter.widget-view+json": {
       "model_id": "38e5532f5980412e9a50429e49781a5c",
       "version_major": 2,
       "version_minor": 0
      },
      "text/plain": [
       "Epoch 47/100:   0%|          | 0/423 [00:00<?, ?it/s]"
      ]
     },
     "metadata": {},
     "output_type": "display_data"
    },
    {
     "data": {
      "application/vnd.jupyter.widget-view+json": {
       "model_id": "abbb00551b7d4ffabbac31ad81ca544f",
       "version_major": 2,
       "version_minor": 0
      },
      "text/plain": [
       "Epoch 48/100:   0%|          | 0/423 [00:00<?, ?it/s]"
      ]
     },
     "metadata": {},
     "output_type": "display_data"
    },
    {
     "data": {
      "application/vnd.jupyter.widget-view+json": {
       "model_id": "3bae6b5451a54e60b8f34990d8006bf1",
       "version_major": 2,
       "version_minor": 0
      },
      "text/plain": [
       "Epoch 49/100:   0%|          | 0/423 [00:00<?, ?it/s]"
      ]
     },
     "metadata": {},
     "output_type": "display_data"
    },
    {
     "data": {
      "application/vnd.jupyter.widget-view+json": {
       "model_id": "45a449fb18e641b3846eb8e1b041c2ba",
       "version_major": 2,
       "version_minor": 0
      },
      "text/plain": [
       "Epoch 50/100:   0%|          | 0/423 [00:00<?, ?it/s]"
      ]
     },
     "metadata": {},
     "output_type": "display_data"
    },
    {
     "data": {
      "application/vnd.jupyter.widget-view+json": {
       "model_id": "15ce26aa7e7d4f94b42d6e0b6dc2b780",
       "version_major": 2,
       "version_minor": 0
      },
      "text/plain": [
       "Epoch 51/100:   0%|          | 0/423 [00:00<?, ?it/s]"
      ]
     },
     "metadata": {},
     "output_type": "display_data"
    },
    {
     "data": {
      "application/vnd.jupyter.widget-view+json": {
       "model_id": "685d4b56d63b4a4ab811be3f4bfa00fd",
       "version_major": 2,
       "version_minor": 0
      },
      "text/plain": [
       "Epoch 52/100:   0%|          | 0/423 [00:00<?, ?it/s]"
      ]
     },
     "metadata": {},
     "output_type": "display_data"
    },
    {
     "data": {
      "application/vnd.jupyter.widget-view+json": {
       "model_id": "b77f016f83d842acae15636784e549ae",
       "version_major": 2,
       "version_minor": 0
      },
      "text/plain": [
       "Epoch 53/100:   0%|          | 0/423 [00:00<?, ?it/s]"
      ]
     },
     "metadata": {},
     "output_type": "display_data"
    },
    {
     "data": {
      "application/vnd.jupyter.widget-view+json": {
       "model_id": "401ee45259fa4d1ca328f3c479727cb1",
       "version_major": 2,
       "version_minor": 0
      },
      "text/plain": [
       "Epoch 54/100:   0%|          | 0/423 [00:00<?, ?it/s]"
      ]
     },
     "metadata": {},
     "output_type": "display_data"
    },
    {
     "data": {
      "application/vnd.jupyter.widget-view+json": {
       "model_id": "595b1f159d644418ade8938f1079faa0",
       "version_major": 2,
       "version_minor": 0
      },
      "text/plain": [
       "Epoch 55/100:   0%|          | 0/423 [00:00<?, ?it/s]"
      ]
     },
     "metadata": {},
     "output_type": "display_data"
    },
    {
     "data": {
      "application/vnd.jupyter.widget-view+json": {
       "model_id": "6b3d4f7c8aef42779cbc1a12ae2df0dd",
       "version_major": 2,
       "version_minor": 0
      },
      "text/plain": [
       "Epoch 56/100:   0%|          | 0/423 [00:00<?, ?it/s]"
      ]
     },
     "metadata": {},
     "output_type": "display_data"
    },
    {
     "data": {
      "application/vnd.jupyter.widget-view+json": {
       "model_id": "cc94c802f16e469f9619c8a2ff6499a1",
       "version_major": 2,
       "version_minor": 0
      },
      "text/plain": [
       "Epoch 57/100:   0%|          | 0/423 [00:00<?, ?it/s]"
      ]
     },
     "metadata": {},
     "output_type": "display_data"
    },
    {
     "data": {
      "application/vnd.jupyter.widget-view+json": {
       "model_id": "9996af85ade44c3395e68e6f41c81c7f",
       "version_major": 2,
       "version_minor": 0
      },
      "text/plain": [
       "Epoch 58/100:   0%|          | 0/423 [00:00<?, ?it/s]"
      ]
     },
     "metadata": {},
     "output_type": "display_data"
    },
    {
     "data": {
      "application/vnd.jupyter.widget-view+json": {
       "model_id": "4af0fb04bdf74dd894db07773a574dbc",
       "version_major": 2,
       "version_minor": 0
      },
      "text/plain": [
       "Epoch 59/100:   0%|          | 0/423 [00:00<?, ?it/s]"
      ]
     },
     "metadata": {},
     "output_type": "display_data"
    },
    {
     "data": {
      "application/vnd.jupyter.widget-view+json": {
       "model_id": "83b04f05b8a745788cdf1ce149dfff0a",
       "version_major": 2,
       "version_minor": 0
      },
      "text/plain": [
       "Epoch 60/100:   0%|          | 0/423 [00:00<?, ?it/s]"
      ]
     },
     "metadata": {},
     "output_type": "display_data"
    },
    {
     "data": {
      "application/vnd.jupyter.widget-view+json": {
       "model_id": "ccf2d9428f9f416cbe7aba51343d764d",
       "version_major": 2,
       "version_minor": 0
      },
      "text/plain": [
       "Epoch 61/100:   0%|          | 0/423 [00:00<?, ?it/s]"
      ]
     },
     "metadata": {},
     "output_type": "display_data"
    },
    {
     "data": {
      "application/vnd.jupyter.widget-view+json": {
       "model_id": "8aaca52c193748e6b90dd83d13717712",
       "version_major": 2,
       "version_minor": 0
      },
      "text/plain": [
       "Epoch 62/100:   0%|          | 0/423 [00:00<?, ?it/s]"
      ]
     },
     "metadata": {},
     "output_type": "display_data"
    },
    {
     "data": {
      "application/vnd.jupyter.widget-view+json": {
       "model_id": "5c09cb255f1b454199fafd4f677c6794",
       "version_major": 2,
       "version_minor": 0
      },
      "text/plain": [
       "Epoch 63/100:   0%|          | 0/423 [00:00<?, ?it/s]"
      ]
     },
     "metadata": {},
     "output_type": "display_data"
    },
    {
     "data": {
      "application/vnd.jupyter.widget-view+json": {
       "model_id": "a2aa1b9e4778471aa5402c46d9672404",
       "version_major": 2,
       "version_minor": 0
      },
      "text/plain": [
       "Epoch 64/100:   0%|          | 0/423 [00:00<?, ?it/s]"
      ]
     },
     "metadata": {},
     "output_type": "display_data"
    },
    {
     "data": {
      "application/vnd.jupyter.widget-view+json": {
       "model_id": "ee5ee4cf8b594cf3827c3d8b3f909560",
       "version_major": 2,
       "version_minor": 0
      },
      "text/plain": [
       "Epoch 65/100:   0%|          | 0/423 [00:00<?, ?it/s]"
      ]
     },
     "metadata": {},
     "output_type": "display_data"
    },
    {
     "data": {
      "application/vnd.jupyter.widget-view+json": {
       "model_id": "6c1805e2468a4b51904814feb47013c5",
       "version_major": 2,
       "version_minor": 0
      },
      "text/plain": [
       "Epoch 66/100:   0%|          | 0/423 [00:00<?, ?it/s]"
      ]
     },
     "metadata": {},
     "output_type": "display_data"
    },
    {
     "data": {
      "application/vnd.jupyter.widget-view+json": {
       "model_id": "0312f66055a640428ca9c29c8a55d9c6",
       "version_major": 2,
       "version_minor": 0
      },
      "text/plain": [
       "Epoch 67/100:   0%|          | 0/423 [00:00<?, ?it/s]"
      ]
     },
     "metadata": {},
     "output_type": "display_data"
    },
    {
     "data": {
      "application/vnd.jupyter.widget-view+json": {
       "model_id": "c78327ea8de64af58ba58c9f38a1377f",
       "version_major": 2,
       "version_minor": 0
      },
      "text/plain": [
       "Epoch 68/100:   0%|          | 0/423 [00:00<?, ?it/s]"
      ]
     },
     "metadata": {},
     "output_type": "display_data"
    },
    {
     "data": {
      "application/vnd.jupyter.widget-view+json": {
       "model_id": "fac5d09e1e544600a7bede1e62045eb0",
       "version_major": 2,
       "version_minor": 0
      },
      "text/plain": [
       "Epoch 69/100:   0%|          | 0/423 [00:00<?, ?it/s]"
      ]
     },
     "metadata": {},
     "output_type": "display_data"
    },
    {
     "data": {
      "application/vnd.jupyter.widget-view+json": {
       "model_id": "61296c1d0d5b4384b00f3a0d7f5a1504",
       "version_major": 2,
       "version_minor": 0
      },
      "text/plain": [
       "Epoch 70/100:   0%|          | 0/423 [00:00<?, ?it/s]"
      ]
     },
     "metadata": {},
     "output_type": "display_data"
    },
    {
     "data": {
      "application/vnd.jupyter.widget-view+json": {
       "model_id": "be056db76f2344b59f91be280c46a746",
       "version_major": 2,
       "version_minor": 0
      },
      "text/plain": [
       "Epoch 71/100:   0%|          | 0/423 [00:00<?, ?it/s]"
      ]
     },
     "metadata": {},
     "output_type": "display_data"
    },
    {
     "data": {
      "application/vnd.jupyter.widget-view+json": {
       "model_id": "c917af2c4b8345f6a6ced8a69fc12869",
       "version_major": 2,
       "version_minor": 0
      },
      "text/plain": [
       "Epoch 72/100:   0%|          | 0/423 [00:00<?, ?it/s]"
      ]
     },
     "metadata": {},
     "output_type": "display_data"
    },
    {
     "data": {
      "application/vnd.jupyter.widget-view+json": {
       "model_id": "550519f0188f48bebf50c60dc335199b",
       "version_major": 2,
       "version_minor": 0
      },
      "text/plain": [
       "Epoch 73/100:   0%|          | 0/423 [00:00<?, ?it/s]"
      ]
     },
     "metadata": {},
     "output_type": "display_data"
    },
    {
     "data": {
      "application/vnd.jupyter.widget-view+json": {
       "model_id": "6d298c7583a44d7b9ee978129551c361",
       "version_major": 2,
       "version_minor": 0
      },
      "text/plain": [
       "Epoch 74/100:   0%|          | 0/423 [00:00<?, ?it/s]"
      ]
     },
     "metadata": {},
     "output_type": "display_data"
    },
    {
     "data": {
      "application/vnd.jupyter.widget-view+json": {
       "model_id": "9d654e2bc6c343b2b65228eca135d94d",
       "version_major": 2,
       "version_minor": 0
      },
      "text/plain": [
       "Epoch 75/100:   0%|          | 0/423 [00:00<?, ?it/s]"
      ]
     },
     "metadata": {},
     "output_type": "display_data"
    },
    {
     "data": {
      "application/vnd.jupyter.widget-view+json": {
       "model_id": "56025a6eec7d4cdaa2d5db25a3edabef",
       "version_major": 2,
       "version_minor": 0
      },
      "text/plain": [
       "Epoch 76/100:   0%|          | 0/423 [00:00<?, ?it/s]"
      ]
     },
     "metadata": {},
     "output_type": "display_data"
    },
    {
     "data": {
      "application/vnd.jupyter.widget-view+json": {
       "model_id": "e30358cc5b1e4c89bd67eed293a02518",
       "version_major": 2,
       "version_minor": 0
      },
      "text/plain": [
       "Epoch 77/100:   0%|          | 0/423 [00:00<?, ?it/s]"
      ]
     },
     "metadata": {},
     "output_type": "display_data"
    },
    {
     "data": {
      "application/vnd.jupyter.widget-view+json": {
       "model_id": "3dabd9d234434932bdbac310988adc65",
       "version_major": 2,
       "version_minor": 0
      },
      "text/plain": [
       "Epoch 78/100:   0%|          | 0/423 [00:00<?, ?it/s]"
      ]
     },
     "metadata": {},
     "output_type": "display_data"
    },
    {
     "data": {
      "application/vnd.jupyter.widget-view+json": {
       "model_id": "7cfcc2c6ee9642d7b7dcd16741bc0a1e",
       "version_major": 2,
       "version_minor": 0
      },
      "text/plain": [
       "Epoch 79/100:   0%|          | 0/423 [00:00<?, ?it/s]"
      ]
     },
     "metadata": {},
     "output_type": "display_data"
    },
    {
     "data": {
      "application/vnd.jupyter.widget-view+json": {
       "model_id": "3aba341984ba4edfb33a8723a33274e2",
       "version_major": 2,
       "version_minor": 0
      },
      "text/plain": [
       "Epoch 80/100:   0%|          | 0/423 [00:00<?, ?it/s]"
      ]
     },
     "metadata": {},
     "output_type": "display_data"
    },
    {
     "data": {
      "application/vnd.jupyter.widget-view+json": {
       "model_id": "c5327598e8744305b493c691f3c6a9d4",
       "version_major": 2,
       "version_minor": 0
      },
      "text/plain": [
       "Epoch 81/100:   0%|          | 0/423 [00:00<?, ?it/s]"
      ]
     },
     "metadata": {},
     "output_type": "display_data"
    },
    {
     "data": {
      "application/vnd.jupyter.widget-view+json": {
       "model_id": "85b49a77b2494da6a40b13cec17a7013",
       "version_major": 2,
       "version_minor": 0
      },
      "text/plain": [
       "Epoch 82/100:   0%|          | 0/423 [00:00<?, ?it/s]"
      ]
     },
     "metadata": {},
     "output_type": "display_data"
    },
    {
     "data": {
      "application/vnd.jupyter.widget-view+json": {
       "model_id": "76e2130df57844e9991d8bc071122cc2",
       "version_major": 2,
       "version_minor": 0
      },
      "text/plain": [
       "Epoch 83/100:   0%|          | 0/423 [00:00<?, ?it/s]"
      ]
     },
     "metadata": {},
     "output_type": "display_data"
    },
    {
     "data": {
      "application/vnd.jupyter.widget-view+json": {
       "model_id": "1a3f7782d138404ba06a93dba8cee3a4",
       "version_major": 2,
       "version_minor": 0
      },
      "text/plain": [
       "Epoch 84/100:   0%|          | 0/423 [00:00<?, ?it/s]"
      ]
     },
     "metadata": {},
     "output_type": "display_data"
    },
    {
     "data": {
      "application/vnd.jupyter.widget-view+json": {
       "model_id": "87a1ddfda6734bb69e0103c62e09c00c",
       "version_major": 2,
       "version_minor": 0
      },
      "text/plain": [
       "Epoch 85/100:   0%|          | 0/423 [00:00<?, ?it/s]"
      ]
     },
     "metadata": {},
     "output_type": "display_data"
    },
    {
     "data": {
      "application/vnd.jupyter.widget-view+json": {
       "model_id": "dd520751288c43e59117be3edd87be03",
       "version_major": 2,
       "version_minor": 0
      },
      "text/plain": [
       "Epoch 86/100:   0%|          | 0/423 [00:00<?, ?it/s]"
      ]
     },
     "metadata": {},
     "output_type": "display_data"
    },
    {
     "data": {
      "application/vnd.jupyter.widget-view+json": {
       "model_id": "1981d90d53594928bc21736eabfe1062",
       "version_major": 2,
       "version_minor": 0
      },
      "text/plain": [
       "Epoch 87/100:   0%|          | 0/423 [00:00<?, ?it/s]"
      ]
     },
     "metadata": {},
     "output_type": "display_data"
    },
    {
     "data": {
      "application/vnd.jupyter.widget-view+json": {
       "model_id": "e4aa3115174549e49a23599b831c6cec",
       "version_major": 2,
       "version_minor": 0
      },
      "text/plain": [
       "Epoch 88/100:   0%|          | 0/423 [00:00<?, ?it/s]"
      ]
     },
     "metadata": {},
     "output_type": "display_data"
    },
    {
     "data": {
      "application/vnd.jupyter.widget-view+json": {
       "model_id": "79a2233b2e8b4d699d58c03660ca63f9",
       "version_major": 2,
       "version_minor": 0
      },
      "text/plain": [
       "Epoch 89/100:   0%|          | 0/423 [00:00<?, ?it/s]"
      ]
     },
     "metadata": {},
     "output_type": "display_data"
    },
    {
     "data": {
      "application/vnd.jupyter.widget-view+json": {
       "model_id": "7175240fdb6442cf8a82ae0675910cbe",
       "version_major": 2,
       "version_minor": 0
      },
      "text/plain": [
       "Epoch 90/100:   0%|          | 0/423 [00:00<?, ?it/s]"
      ]
     },
     "metadata": {},
     "output_type": "display_data"
    },
    {
     "data": {
      "application/vnd.jupyter.widget-view+json": {
       "model_id": "1d42b9f2b8e44fde8a3dd7942df84836",
       "version_major": 2,
       "version_minor": 0
      },
      "text/plain": [
       "Epoch 91/100:   0%|          | 0/423 [00:00<?, ?it/s]"
      ]
     },
     "metadata": {},
     "output_type": "display_data"
    },
    {
     "data": {
      "application/vnd.jupyter.widget-view+json": {
       "model_id": "d730eece751445e9bb49b708dedb2819",
       "version_major": 2,
       "version_minor": 0
      },
      "text/plain": [
       "Epoch 92/100:   0%|          | 0/423 [00:00<?, ?it/s]"
      ]
     },
     "metadata": {},
     "output_type": "display_data"
    },
    {
     "data": {
      "application/vnd.jupyter.widget-view+json": {
       "model_id": "9ce4b72c72984f9aa4a406f3575897fa",
       "version_major": 2,
       "version_minor": 0
      },
      "text/plain": [
       "Epoch 93/100:   0%|          | 0/423 [00:00<?, ?it/s]"
      ]
     },
     "metadata": {},
     "output_type": "display_data"
    },
    {
     "data": {
      "application/vnd.jupyter.widget-view+json": {
       "model_id": "199e7ad03c6e4a228cac5db5b7ceb22f",
       "version_major": 2,
       "version_minor": 0
      },
      "text/plain": [
       "Epoch 94/100:   0%|          | 0/423 [00:00<?, ?it/s]"
      ]
     },
     "metadata": {},
     "output_type": "display_data"
    },
    {
     "data": {
      "application/vnd.jupyter.widget-view+json": {
       "model_id": "699db903c2d64739af3d6c4294562c53",
       "version_major": 2,
       "version_minor": 0
      },
      "text/plain": [
       "Epoch 95/100:   0%|          | 0/423 [00:00<?, ?it/s]"
      ]
     },
     "metadata": {},
     "output_type": "display_data"
    },
    {
     "data": {
      "application/vnd.jupyter.widget-view+json": {
       "model_id": "278760e50d9f40e6ade14a46385b8a9c",
       "version_major": 2,
       "version_minor": 0
      },
      "text/plain": [
       "Epoch 96/100:   0%|          | 0/423 [00:00<?, ?it/s]"
      ]
     },
     "metadata": {},
     "output_type": "display_data"
    },
    {
     "data": {
      "application/vnd.jupyter.widget-view+json": {
       "model_id": "6111e474ca864706971ed78774ee8b5d",
       "version_major": 2,
       "version_minor": 0
      },
      "text/plain": [
       "Epoch 97/100:   0%|          | 0/423 [00:00<?, ?it/s]"
      ]
     },
     "metadata": {},
     "output_type": "display_data"
    },
    {
     "data": {
      "application/vnd.jupyter.widget-view+json": {
       "model_id": "1d9995a409f344ceaa2bf9ea57797d83",
       "version_major": 2,
       "version_minor": 0
      },
      "text/plain": [
       "Epoch 98/100:   0%|          | 0/423 [00:00<?, ?it/s]"
      ]
     },
     "metadata": {},
     "output_type": "display_data"
    },
    {
     "data": {
      "application/vnd.jupyter.widget-view+json": {
       "model_id": "205dcebec1984e75af39f0317952052f",
       "version_major": 2,
       "version_minor": 0
      },
      "text/plain": [
       "Epoch 99/100:   0%|          | 0/423 [00:00<?, ?it/s]"
      ]
     },
     "metadata": {},
     "output_type": "display_data"
    },
    {
     "data": {
      "application/vnd.jupyter.widget-view+json": {
       "model_id": "1a736f9d54fe48abbce1f7313d1ec3ce",
       "version_major": 2,
       "version_minor": 0
      },
      "text/plain": [
       "Epoch 100/100:   0%|          | 0/423 [00:00<?, ?it/s]"
      ]
     },
     "metadata": {},
     "output_type": "display_data"
    },
    {
     "data": {
      "text/plain": [
       "(                 loss  batch  epoch\n",
       " epoch batch                        \n",
       " 1      1     0.029406      1      1\n",
       "        2     0.029751      2      1\n",
       "        3     0.028815      3      1\n",
       "        4     0.031082      4      1\n",
       "        5     0.031483      5      1\n",
       " ...               ...    ...    ...\n",
       " 100    373   0.009779    373    100\n",
       "        374   0.009782    374    100\n",
       "        375   0.009776    375    100\n",
       "        376   0.009770    376    100\n",
       "       -1     0.009770     -1    100\n",
       " \n",
       " [37700 rows x 3 columns],\n",
       "                      val_loss  val_batch  val_epoch\n",
       " val_epoch val_batch                                \n",
       " 1          1         0.033698          1          1\n",
       "            2         0.031478          2          1\n",
       "            3         0.031774          3          1\n",
       "            4         0.032318          4          1\n",
       "            5         0.032689          5          1\n",
       " ...                       ...        ...        ...\n",
       " 100        44        0.010145         44        100\n",
       "            45        0.010144         45        100\n",
       "            46        0.010110         46        100\n",
       "            47        0.010102         47        100\n",
       "           -1         0.010102         -1        100\n",
       " \n",
       " [4800 rows x 3 columns])"
      ]
     },
     "execution_count": 21,
     "metadata": {},
     "output_type": "execute_result"
    }
   ],
   "source": [
    "loop = TrainingLoop(\n",
    "    model,\n",
    "    step=SimpleTrainingStep(\n",
    "        optimizer_fn = lambda params: Adam(params, lr=1e-4),\n",
    "        loss = th.nn.MSELoss(),\n",
    "        # metrics = ('MSE', MeanSquaredError()),\n",
    "    ),\n",
    "    device='cpu'\n",
    ")\n",
    "train_loss, val_loss = loop.fit(\n",
    "    train_dl,\n",
    "    val_dl,\n",
    "    epochs=100,\n",
    "    callbacks=[EarlyStopping(monitor='val_loss', mode='min', patience=20), TensorBoardLogger(f\"./logs/simple/imit/{modelname}\")],\n",
    ")"
   ]
  },
  {
   "cell_type": "code",
   "execution_count": 32,
   "metadata": {},
   "outputs": [
    {
     "data": {
      "text/plain": [
       "'MLP_0916-1442'"
      ]
     },
     "execution_count": 32,
     "metadata": {},
     "output_type": "execute_result"
    }
   ],
   "source": [
    "modelname"
   ]
  },
  {
   "cell_type": "code",
   "execution_count": 34,
   "metadata": {},
   "outputs": [],
   "source": [
    "th.save(model.state_dict(), f\"weights/imitation/{modelname}.pth\")"
   ]
  },
  {
   "cell_type": "code",
   "execution_count": 6,
   "metadata": {},
   "outputs": [
    {
     "data": {
      "text/plain": [
       "<All keys matched successfully>"
      ]
     },
     "execution_count": 6,
     "metadata": {},
     "output_type": "execute_result"
    }
   ],
   "source": [
    "model = IL_RNN_simple()\n",
    "model.load_state_dict( th.load(\"weights/imitation/MLP_0916-1442.pth\") )"
   ]
  },
  {
   "cell_type": "code",
   "execution_count": 39,
   "metadata": {},
   "outputs": [
    {
     "data": {
      "text/plain": [
       "{'dict_state': {'sources': {'s1': 0, 's2': 0},\n",
       "  'blenders': {'j1': 0, 'j2': 0, 'j3': 0, 'j4': 0},\n",
       "  'demands': {'p1': 0, 'p2': 0},\n",
       "  'properties': {'j1': {'q1': 0},\n",
       "   'j2': {'q1': 0},\n",
       "   'j3': {'q1': 0},\n",
       "   'j4': {'q1': 0}},\n",
       "  'sources_avail_next_0': {'s1': 0.0, 's2': 19.986952261513},\n",
       "  'demands_avail_next_0': {'p1': 13.147715601294175, 'p2': 0.0},\n",
       "  'sources_avail_next_1': {'s1': 13.966896800299835, 's2': 16.027758933172862},\n",
       "  'demands_avail_next_1': {'p1': 13.442337106310015, 'p2': 0.0},\n",
       "  'sources_avail_next_2': {'s1': 0.0, 's2': 0.0},\n",
       "  'demands_avail_next_2': {'p1': 0.0, 'p2': 12.955960410278145},\n",
       "  'sources_avail_next_3': {'s1': 13.208133523830055, 's2': 16.733810795624873},\n",
       "  'demands_avail_next_3': {'p1': 0.0, 'p2': 0.0},\n",
       "  'sources_avail_next_4': {'s1': 14.629419833295623, 's2': 13.002356622394464},\n",
       "  'demands_avail_next_4': {'p1': 11.062252337464116, 'p2': 16.85468203066291},\n",
       "  'sources_avail_next_5': {'s1': 15.339391058369007, 's2': 11.68016330073389},\n",
       "  'demands_avail_next_5': {'p1': 0.0, 'p2': 0.0},\n",
       "  't': 0},\n",
       " 'pen_tracker': {'M': 0, 'B': 0, 'P': 0, 'Q': 0, 'reg': 0}}"
      ]
     },
     "execution_count": 39,
     "metadata": {},
     "output_type": "execute_result"
    }
   ],
   "source": [
    "obs = env.reset()\n",
    "obs, obs_dict = obs\n",
    "obs_dict"
   ]
  },
  {
   "cell_type": "code",
   "execution_count": 170,
   "metadata": {},
   "outputs": [
    {
     "name": "stdout",
     "output_type": "stream",
     "text": [
      "\n",
      "  OBS      {'s1': 0.0, 's2': 0.0} {'j1': 0.0, 'j2': 0.0, 'j3': 0.0, 'j4': 0.0} {'p1': 0.0, 'p2': 0.0} \n",
      " {'s1': 13.089238, 's2': 12.139851} {'p1': 0.0, 'p2': 17.620289}\n",
      "\n",
      "\n",
      "   ACTION : \n",
      "tau, delta: {'s1': 9.732933921646755, 's2': -4.161153636772497e-06} {'p1': 4.498637139797211, 'p2': 0.0}\n",
      "source_blend {'s1': {'j1': -7.524426446013659e-06, 'j2': -7.460369857881232e-06, 'j3': 0.6131782528795283, 'j4': 4.858108114672503}, 's2': {'j1': -7.63366364964213e-06, 'j2': -6.437957136284922e-06, 'j3': -4.646376716266332e-06, 'j4': -5.209937414818455e-06}}\n",
      "blend_demand {'j1': {'p1': 1.1766820162521483, 'p2': 0.0}, 'j2': {'p1': 4.889284331587297, 'p2': 0.0}, 'j3': {'p1': 4.089547565535664, 'p2': 0.0}, 'j4': {'p1': -6.517768014191461e-07, 'p2': -3.545509059676988e-07}}\n",
      "\n",
      " NEW OBS   >>      {'s1': 4.2616625, 's2': 1.9766781e-05} {'j1': 0.0, 'j2': 0.0, 'j3': 0.0, 'j4': 4.8581038} {'p1': 0.0, 'p2': 0.0}\n",
      "    -0.5\n",
      "\n",
      "  OBS      {'s1': 4.2616625, 's2': 1.9766781e-05} {'j1': 0.0, 'j2': 0.0, 'j3': 0.0, 'j4': 4.8581038} {'p1': 0.0, 'p2': 0.0} \n",
      " {'s1': 15.806224, 's2': 0.0} {'p1': 0.0, 'p2': 0.0}\n",
      "\n",
      "\n",
      "   ACTION : \n",
      "tau, delta: {'s1': 10.410942886486636, 's2': -4.161153636772497e-06} {'p1': 7.2846856117248535, 'p2': 1.601015254855156}\n",
      "source_blend {'s1': {'j1': -7.524426446013659e-06, 'j2': -7.460369857881232e-06, 'j3': 0.2847233439270133, 'j4': 3.4359053198052547}, 's2': {'j1': -7.63366364964213e-06, 'j2': -6.437957136284922e-06, 'j3': -4.646376716266332e-06, 'j4': -5.209937414818455e-06}}\n",
      "blend_demand {'j1': {'p1': -4.543372886607722e-07, 'p2': 0.0}, 'j2': {'p1': 2.6496454568337096, 'p2': 0.0}, 'j3': {'p1': 1.0807431203374935, 'p2': 0.0}, 'j4': {'p1': -6.517768014191461e-07, 'p2': -3.545509059676988e-07}}\n",
      "\n",
      " NEW OBS   >>      {'s1': 10.951992, 's2': 3.9533563e-05} {'j1': 0.0, 'j2': 0.0, 'j3': 0.0, 'j4': 8.294005} {'p1': 0.0, 'p2': 0.0}\n",
      "    -0.9\n",
      "\n",
      "  OBS      {'s1': 10.951992, 's2': 3.9533563e-05} {'j1': 0.0, 'j2': 0.0, 'j3': 0.0, 'j4': 8.294005} {'p1': 0.0, 'p2': 0.0} \n",
      " {'s1': 0.0, 's2': 20.373753} {'p1': 12.757036, 'p2': 16.521997}\n",
      "\n",
      "\n",
      "   ACTION : \n",
      "tau, delta: {'s1': 6.416610971816785, 's2': 11.57953185642039} {'p1': 0.0, 'p2': 0.0}\n",
      "source_blend {'s1': {'j1': -7.524426446013659e-06, 'j2': -7.460369857881232e-06, 'j3': -7.914389847485381e-06, 'j4': 3.1540958297214683}, 's2': {'j1': -7.63366364964213e-06, 'j2': -6.437957136284922e-06, 'j3': -4.646376716266332e-06, 'j4': 4.497543316831979}}\n",
      "blend_demand {'j1': {'p1': -4.543372886607722e-07, 'p2': 0.0}, 'j2': {'p1': -8.125620834237662e-07, 'p2': 0.0}, 'j3': {'p1': -7.497705480699463e-08, 'p2': 0.0}, 'j4': {'p1': -6.517768014191461e-07, 'p2': -3.545509059676988e-07}}\n",
      "\n",
      " NEW OBS   >>      {'s1': 7.797919, 's2': 7.082047} {'j1': 0.0, 'j2': 0.0, 'j3': 0.0, 'j4': 15.945645} {'p1': 0.0, 'p2': 0.0}\n",
      "    -1.1\n",
      "\n",
      "  OBS      {'s1': 7.797919, 's2': 7.082047} {'j1': 0.0, 'j2': 0.0, 'j3': 0.0, 'j4': 15.945645} {'p1': 0.0, 'p2': 0.0} \n",
      " {'s1': 13.431061, 's2': 0.0} {'p1': 18.056623, 'p2': 15.396808}\n",
      "\n",
      "\n",
      "   ACTION : \n",
      "tau, delta: {'s1': 13.261947606042012, 's2': 12.038091313907795} {'p1': 0.4489995315670967, 'p2': 1.271611601114273}\n",
      "source_blend {'s1': {'j1': 5.089048157669978, 'j2': -7.460369857881232e-06, 'j3': 0.5487364879155293, 'j4': 5.445626477227458}, 's2': {'j1': -7.63366364964213e-06, 'j2': 3.061560571894867, 'j3': -4.646376716266332e-06, 'j4': 1.6691877293663024}}\n",
      "blend_demand {'j1': {'p1': -4.543372886607722e-07, 'p2': 0.0}, 'j2': {'p1': 2.3412462509465715, 'p2': 0.0}, 'j3': {'p1': -7.497705480699463e-08, 'p2': 0.0}, 'j4': {'p1': -6.517768014191461e-07, 'p2': -3.545509059676988e-07}}\n",
      "\n",
      " NEW OBS   >>      {'s1': 9.976462, 's2': 2.3513107} {'j1': 5.0890408, 'j2': 0.0, 'j3': 0.5487319, 'j4': 23.060461} {'p1': 0.0, 'p2': 0.0}\n",
      "    -1.7000000000000002\n",
      "\n",
      "  OBS      {'s1': 9.976462, 's2': 2.3513107} {'j1': 5.0890408, 'j2': 0.0, 'j3': 0.5487319, 'j4': 23.060461} {'p1': 0.0, 'p2': 0.0} \n",
      " {'s1': 0.0, 's2': 12.015972} {'p1': 11.746572, 'p2': 0.0}\n",
      "\n",
      "\n",
      "   ACTION : \n",
      "tau, delta: {'s1': 3.4701969244276656, 's2': 14.783625876322994} {'p1': 0.0, 'p2': 0.5395697057247162}\n",
      "source_blend {'s1': {'j1': 0.7278357788211153, 'j2': -7.460369857881232e-06, 'j3': 2.646532442109735, 'j4': 4.823297056240571}, 's2': {'j1': 0.17964132362943927, 'j2': 3.5265781543253136, 'j3': 6.3717497052769065, 'j4': 2.868506965009792}}\n",
      "blend_demand {'j1': {'p1': -4.543372886607722e-07, 'p2': 0.0}, 'j2': {'p1': -8.125620834237662e-07, 'p2': 0.0}, 'j3': {'p1': -7.497705480699463e-08, 'p2': 0.0}, 'j4': {'p1': -6.517768014191461e-07, 'p2': -3.545509059676988e-07}}\n",
      "\n",
      " NEW OBS   >>      {'s1': 1.7788049, 's2': 1.4208064} {'j1': 5.9965186, 'j2': 3.5265715, 'j3': 9.567014, 'j4': 30.0} {'p1': 0.0, 'p2': 0.0}\n",
      "    -2.4000000000000004\n",
      "\n",
      "  OBS      {'s1': 1.7788049, 's2': 1.4208064} {'j1': 5.9965186, 'j2': 3.5265715, 'j3': 9.567014, 'j4': 30.0} {'p1': 0.0, 'p2': 0.0} \n",
      " {'s1': 13.38283, 's2': 14.61959} {'p1': 0.0, 'p2': 0.0}\n",
      "\n",
      "\n",
      "   ACTION : \n",
      "tau, delta: {'s1': 10.807436063211512, 's2': 18.291379973478236} {'p1': 0.0, 'p2': 0.3657596558332443}\n",
      "source_blend {'s1': {'j1': 0.9430737185194139, 'j2': -7.460369857881232e-06, 'j3': 6.7722090895604445, 'j4': 9.235984838924221}, 's2': {'j1': -7.63366364964213e-06, 'j2': 2.9013063719743473, 'j3': 11.927102985300369, 'j4': 5.816753628224601}}\n",
      "blend_demand {'j1': {'p1': -4.543372886607722e-07, 'p2': 0.0}, 'j2': {'p1': -8.125620834237662e-07, 'p2': 0.0}, 'j3': {'p1': -7.497705480699463e-08, 'p2': 0.0}, 'j4': {'p1': -6.517768014191461e-07, 'p2': -3.545509059676988e-07}}\n",
      "\n",
      " NEW OBS   >>      {'s1': 0.0, 's2': 0.0} {'j1': 6.939585, 'j2': 6.427871, 'j3': 28.266327, 'j4': 30.0} {'p1': 0.0, 'p2': 0.0}\n",
      "    -3.0000000000000004\n"
     ]
    }
   ],
   "source": [
    "tau0   = {s: [np.random.binomial(1, 0.7) * np.random.normal(15, 2) for _ in range(13)] for s in [\"s1\", \"s2\"]}\n",
    "delta0 = {d: [np.random.binomial(1, 0.7) * np.random.normal(15, 2) for _ in range(13)] for d in [\"p1\", \"p2\"]}\n",
    "\n",
    "env = BlendEnv(v=False, connections = connections, action_sample=action_sample, M=M, P=P, Q=Q, B=B, Z=Z, D=D, tau0 = tau0, delta0 = delta0)\n",
    "with th.no_grad():\n",
    "    obs = env.reset()\n",
    "    obs, obs_dict = obs\n",
    "    for k in range(env.T):\n",
    "        \n",
    "        \n",
    "        dobs = reconstruct_dict(obs, env.mapping_obs)\n",
    "        print(\"\\n  OBS     \",dobs[\"sources\"], dobs[\"blenders\"], dobs[\"demands\"], \"\\n\",dobs[\"sources_avail_next_0\"], dobs[\"demands_avail_next_0\"])\n",
    "        \n",
    "        obs = th.Tensor(norm_X(obs)).unsqueeze(0)\n",
    "        action = np.array(model.forward(obs).squeeze(0))\n",
    "        action = denorm_y(action)\n",
    "        \n",
    "        # print(action.shape)\n",
    "        dact = reconstruct_dict(action, env.mapping_act)\n",
    "        print(\"\\n\\n   ACTION : \")\n",
    "        print(\"tau, delta:\", dact[\"tau\"], dact[\"delta\"])\n",
    "        print(\"source_blend\", dact[\"source_blend\"])\n",
    "        # print(\"blend_blend\", dact[\"blend_blend\"])\n",
    "        print(\"blend_demand\", dact[\"blend_demand\"])\n",
    "        \n",
    "        \n",
    "        obs, reward, done, term, _ = env.step(action)\n",
    "        dobs = reconstruct_dict(obs, env.mapping_obs)\n",
    "        \n",
    "        print(\"\\n NEW OBS   >>     \",dobs[\"sources\"], dobs[\"blenders\"], dobs[\"demands\"])\n",
    "        print(\"   \" ,reward)"
   ]
  }
 ],
 "metadata": {
  "kernelspec": {
   "display_name": "blendv2",
   "language": "python",
   "name": "python3"
  },
  "language_info": {
   "codemirror_mode": {
    "name": "ipython",
    "version": 3
   },
   "file_extension": ".py",
   "mimetype": "text/x-python",
   "name": "python",
   "nbconvert_exporter": "python",
   "pygments_lexer": "ipython3",
   "version": "3.8.0"
  }
 },
 "nbformat": 4,
 "nbformat_minor": 2
}
