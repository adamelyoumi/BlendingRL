{
 "cells": [
  {
   "cell_type": "code",
   "execution_count": 16,
   "metadata": {},
   "outputs": [],
   "source": [
    "import numpy as np\n",
    "import pandas as pd\n",
    "\n",
    "import torch as th\n",
    "from torch.optim import Adam\n",
    "from torcheval.metrics import MeanSquaredError\n",
    "from training_loop import TrainingLoop, SimpleTrainingStep\n",
    "from training_loop.callbacks import EarlyStopping, TensorBoardLogger\n",
    "from torch.utils.data import Dataset, DataLoader\n",
    "from sklearn.model_selection import train_test_split\n",
    "from envs import BlendEnv, reconstruct_dict\n",
    "\n",
    "import datetime\n",
    "from models import IL_MLP_simple\n",
    "import os"
   ]
  },
  {
   "cell_type": "code",
   "execution_count": 17,
   "metadata": {},
   "outputs": [],
   "source": [
    "now = datetime.datetime.now().strftime('%m%d-%H%M')\n",
    "modelname = f\"MLP_{now}\""
   ]
  },
  {
   "cell_type": "code",
   "execution_count": 18,
   "metadata": {},
   "outputs": [],
   "source": [
    "cols_obs = [\n",
    "    'sources_s1', 'sources_s2',\n",
    "    'blenders_j1', 'blenders_j2', 'blenders_j3', 'blenders_j4',\n",
    "    'demands_p1', 'demands_p2',\n",
    "    'properties_j1_q1', 'properties_j2_q1', 'properties_j3_q1', 'properties_j4_q1',\n",
    "    'sources_avail_next_0_s1', 'sources_avail_next_0_s2', 'demands_avail_next_0_p1', 'demands_avail_next_0_p2',\n",
    "    'sources_avail_next_1_s1', 'sources_avail_next_1_s2', 'demands_avail_next_1_p1', 'demands_avail_next_1_p2',\n",
    "    'sources_avail_next_2_s1', 'sources_avail_next_2_s2', 'demands_avail_next_2_p1', 'demands_avail_next_2_p2',\n",
    "    'sources_avail_next_3_s1', 'sources_avail_next_3_s2', 'demands_avail_next_3_p1', 'demands_avail_next_3_p2',\n",
    "    'sources_avail_next_4_s1', 'sources_avail_next_4_s2', 'demands_avail_next_4_p1', 'demands_avail_next_4_p2',\n",
    "    'sources_avail_next_5_s1', 'sources_avail_next_5_s2', 'demands_avail_next_5_p1', 'demands_avail_next_5_p2',\n",
    "    't'\n",
    "]\n",
    "cols_act = [\n",
    "    'source_blend_s1_j1', 'source_blend_s1_j2', 'source_blend_s1_j3', 'source_blend_s1_j4',\n",
    "    'source_blend_s2_j1', 'source_blend_s2_j2', 'source_blend_s2_j3', 'source_blend_s2_j4',\n",
    "    'blend_demand_j1_p1', 'blend_demand_j1_p2',\n",
    "    'blend_demand_j2_p1', 'blend_demand_j2_p2',\n",
    "    'blend_demand_j3_p1', 'blend_demand_j3_p2',\n",
    "    'blend_demand_j4_p1', 'blend_demand_j4_p2',\n",
    "    'tau_s1', 'tau_s2',\n",
    "    'delta_p1', 'delta_p2'\n",
    "]"
   ]
  },
  {
   "cell_type": "code",
   "execution_count": 19,
   "metadata": {},
   "outputs": [],
   "source": [
    "X_train, y_train = pd.DataFrame([], columns=cols_obs), pd.DataFrame([], columns=cols_act)\n",
    "\n",
    "for file in os.listdir(\"./data/simple\"):\n",
    "    df = pd.read_csv(os.path.join(\"./data/simple\", file))\n",
    "    if \"OBS\" in file:\n",
    "        X_train = pd.concat([X_train, df])\n",
    "    elif \"ACT\" in file:\n",
    "        y_train = pd.concat([y_train, df])\n",
    "\n",
    "X_train = X_train.drop(\"Unnamed: 0\", axis=1)\n",
    "y_train = y_train.drop(\"Unnamed: 0\", axis=1)\n",
    "\n",
    "X_train, X_temp, y_train, y_temp = train_test_split(X_train, y_train, test_size=0.4, random_state=42)\n",
    "X_val, X_test, y_val, y_test = train_test_split(X_temp, y_temp, test_size=0.5, random_state=42)"
   ]
  },
  {
   "cell_type": "code",
   "execution_count": 20,
   "metadata": {},
   "outputs": [],
   "source": [
    "class MyData(Dataset):\n",
    "    def __init__(self, df_X: pd.DataFrame, df_y: pd.DataFrame) -> None:\n",
    "        super().__init__()\n",
    "        self.df_X = df_X\n",
    "        self.df_y = df_y\n",
    "        \n",
    "    def __getitem__(self, index):\n",
    "        return(th.Tensor(self.df_X.iloc[index]), th.Tensor(self.df_y.iloc[index]))\n",
    "    \n",
    "    def __len__(self):\n",
    "        return(self.df_X.shape[0])"
   ]
  },
  {
   "cell_type": "code",
   "execution_count": 21,
   "metadata": {},
   "outputs": [
    {
     "data": {
      "text/plain": [
       "866"
      ]
     },
     "execution_count": 21,
     "metadata": {},
     "output_type": "execute_result"
    }
   ],
   "source": [
    "train_ds = MyData(X_train, y_train)\n",
    "train_dl = DataLoader(train_ds, batch_size=16)\n",
    "val_ds = MyData(X_val, y_val)\n",
    "val_dl = DataLoader(val_ds, batch_size=16)\n",
    "test_ds = MyData(X_test, y_test)\n",
    "test_dl = DataLoader(test_ds, batch_size=16)\n",
    "len(train_ds)"
   ]
  },
  {
   "cell_type": "code",
   "execution_count": 22,
   "metadata": {},
   "outputs": [],
   "source": [
    "model = IL_MLP_simple()"
   ]
  },
  {
   "cell_type": "code",
   "execution_count": 23,
   "metadata": {},
   "outputs": [
    {
     "data": {
      "application/vnd.jupyter.widget-view+json": {
       "model_id": "f9a0b5cfb1bc46d6b6fd84f45452e099",
       "version_major": 2,
       "version_minor": 0
      },
      "text/plain": [
       "Epoch 1/100:   0%|          | 0/74 [00:00<?, ?it/s]"
      ]
     },
     "metadata": {},
     "output_type": "display_data"
    },
    {
     "data": {
      "application/vnd.jupyter.widget-view+json": {
       "model_id": "fba5a0f4834e4e1fb48947d08221733c",
       "version_major": 2,
       "version_minor": 0
      },
      "text/plain": [
       "Epoch 2/100:   0%|          | 0/74 [00:00<?, ?it/s]"
      ]
     },
     "metadata": {},
     "output_type": "display_data"
    },
    {
     "data": {
      "application/vnd.jupyter.widget-view+json": {
       "model_id": "1fdfb85341c64207bde5dd60ed7ebc28",
       "version_major": 2,
       "version_minor": 0
      },
      "text/plain": [
       "Epoch 3/100:   0%|          | 0/74 [00:00<?, ?it/s]"
      ]
     },
     "metadata": {},
     "output_type": "display_data"
    },
    {
     "data": {
      "application/vnd.jupyter.widget-view+json": {
       "model_id": "ec498de348a5419ea7fd5e7734f3f611",
       "version_major": 2,
       "version_minor": 0
      },
      "text/plain": [
       "Epoch 4/100:   0%|          | 0/74 [00:00<?, ?it/s]"
      ]
     },
     "metadata": {},
     "output_type": "display_data"
    },
    {
     "data": {
      "application/vnd.jupyter.widget-view+json": {
       "model_id": "1c91f32ebc53472ca7882e1f3bd41e04",
       "version_major": 2,
       "version_minor": 0
      },
      "text/plain": [
       "Epoch 5/100:   0%|          | 0/74 [00:00<?, ?it/s]"
      ]
     },
     "metadata": {},
     "output_type": "display_data"
    },
    {
     "data": {
      "application/vnd.jupyter.widget-view+json": {
       "model_id": "d3140d7a0b1342a48089522f75cabceb",
       "version_major": 2,
       "version_minor": 0
      },
      "text/plain": [
       "Epoch 6/100:   0%|          | 0/74 [00:00<?, ?it/s]"
      ]
     },
     "metadata": {},
     "output_type": "display_data"
    },
    {
     "data": {
      "application/vnd.jupyter.widget-view+json": {
       "model_id": "ae40e6a633ce4e298b329ec700f32d7e",
       "version_major": 2,
       "version_minor": 0
      },
      "text/plain": [
       "Epoch 7/100:   0%|          | 0/74 [00:00<?, ?it/s]"
      ]
     },
     "metadata": {},
     "output_type": "display_data"
    },
    {
     "data": {
      "application/vnd.jupyter.widget-view+json": {
       "model_id": "3c80714a91354940aa70cc74000d67d9",
       "version_major": 2,
       "version_minor": 0
      },
      "text/plain": [
       "Epoch 8/100:   0%|          | 0/74 [00:00<?, ?it/s]"
      ]
     },
     "metadata": {},
     "output_type": "display_data"
    },
    {
     "data": {
      "application/vnd.jupyter.widget-view+json": {
       "model_id": "da454ad747db47bbb31b956ffb369458",
       "version_major": 2,
       "version_minor": 0
      },
      "text/plain": [
       "Epoch 9/100:   0%|          | 0/74 [00:00<?, ?it/s]"
      ]
     },
     "metadata": {},
     "output_type": "display_data"
    },
    {
     "data": {
      "application/vnd.jupyter.widget-view+json": {
       "model_id": "a47c68909c1e4c1583877e340328b037",
       "version_major": 2,
       "version_minor": 0
      },
      "text/plain": [
       "Epoch 10/100:   0%|          | 0/74 [00:00<?, ?it/s]"
      ]
     },
     "metadata": {},
     "output_type": "display_data"
    },
    {
     "data": {
      "application/vnd.jupyter.widget-view+json": {
       "model_id": "2a02bc010b4a49579f160df0bd2cf315",
       "version_major": 2,
       "version_minor": 0
      },
      "text/plain": [
       "Epoch 11/100:   0%|          | 0/74 [00:00<?, ?it/s]"
      ]
     },
     "metadata": {},
     "output_type": "display_data"
    },
    {
     "data": {
      "application/vnd.jupyter.widget-view+json": {
       "model_id": "8ce90fbc4f5149c8b23c0092892036f7",
       "version_major": 2,
       "version_minor": 0
      },
      "text/plain": [
       "Epoch 12/100:   0%|          | 0/74 [00:00<?, ?it/s]"
      ]
     },
     "metadata": {},
     "output_type": "display_data"
    },
    {
     "data": {
      "application/vnd.jupyter.widget-view+json": {
       "model_id": "a5b142818cac496cb0de77d2b44d0b78",
       "version_major": 2,
       "version_minor": 0
      },
      "text/plain": [
       "Epoch 13/100:   0%|          | 0/74 [00:00<?, ?it/s]"
      ]
     },
     "metadata": {},
     "output_type": "display_data"
    },
    {
     "data": {
      "application/vnd.jupyter.widget-view+json": {
       "model_id": "df66a72ea2cd4379afcd8054839ce4fa",
       "version_major": 2,
       "version_minor": 0
      },
      "text/plain": [
       "Epoch 14/100:   0%|          | 0/74 [00:00<?, ?it/s]"
      ]
     },
     "metadata": {},
     "output_type": "display_data"
    },
    {
     "data": {
      "application/vnd.jupyter.widget-view+json": {
       "model_id": "7c2c78d7f39849fcaef7aa4194a5006c",
       "version_major": 2,
       "version_minor": 0
      },
      "text/plain": [
       "Epoch 15/100:   0%|          | 0/74 [00:00<?, ?it/s]"
      ]
     },
     "metadata": {},
     "output_type": "display_data"
    },
    {
     "data": {
      "application/vnd.jupyter.widget-view+json": {
       "model_id": "4185d760884b4f0cb2b0f9b8a148efa4",
       "version_major": 2,
       "version_minor": 0
      },
      "text/plain": [
       "Epoch 16/100:   0%|          | 0/74 [00:00<?, ?it/s]"
      ]
     },
     "metadata": {},
     "output_type": "display_data"
    },
    {
     "data": {
      "application/vnd.jupyter.widget-view+json": {
       "model_id": "b3c0bc0f077743d78cec42876c9ae6ae",
       "version_major": 2,
       "version_minor": 0
      },
      "text/plain": [
       "Epoch 17/100:   0%|          | 0/74 [00:00<?, ?it/s]"
      ]
     },
     "metadata": {},
     "output_type": "display_data"
    },
    {
     "data": {
      "application/vnd.jupyter.widget-view+json": {
       "model_id": "611fa828485e4ec7b53104dcf114cdcd",
       "version_major": 2,
       "version_minor": 0
      },
      "text/plain": [
       "Epoch 18/100:   0%|          | 0/74 [00:00<?, ?it/s]"
      ]
     },
     "metadata": {},
     "output_type": "display_data"
    },
    {
     "data": {
      "application/vnd.jupyter.widget-view+json": {
       "model_id": "34aa408bbb8e483c8efea4c75be9b612",
       "version_major": 2,
       "version_minor": 0
      },
      "text/plain": [
       "Epoch 19/100:   0%|          | 0/74 [00:00<?, ?it/s]"
      ]
     },
     "metadata": {},
     "output_type": "display_data"
    },
    {
     "data": {
      "application/vnd.jupyter.widget-view+json": {
       "model_id": "02de9efc16034a4aa42a7502711cd694",
       "version_major": 2,
       "version_minor": 0
      },
      "text/plain": [
       "Epoch 20/100:   0%|          | 0/74 [00:00<?, ?it/s]"
      ]
     },
     "metadata": {},
     "output_type": "display_data"
    },
    {
     "data": {
      "application/vnd.jupyter.widget-view+json": {
       "model_id": "117d0c99d2f942deb70852ef59aaca71",
       "version_major": 2,
       "version_minor": 0
      },
      "text/plain": [
       "Epoch 21/100:   0%|          | 0/74 [00:00<?, ?it/s]"
      ]
     },
     "metadata": {},
     "output_type": "display_data"
    },
    {
     "data": {
      "application/vnd.jupyter.widget-view+json": {
       "model_id": "3a8333efd1ab4eca8e3ea9cd797a20e2",
       "version_major": 2,
       "version_minor": 0
      },
      "text/plain": [
       "Epoch 22/100:   0%|          | 0/74 [00:00<?, ?it/s]"
      ]
     },
     "metadata": {},
     "output_type": "display_data"
    },
    {
     "data": {
      "application/vnd.jupyter.widget-view+json": {
       "model_id": "33b7c58299104a2a97fce5c11a0f1be9",
       "version_major": 2,
       "version_minor": 0
      },
      "text/plain": [
       "Epoch 23/100:   0%|          | 0/74 [00:00<?, ?it/s]"
      ]
     },
     "metadata": {},
     "output_type": "display_data"
    },
    {
     "data": {
      "application/vnd.jupyter.widget-view+json": {
       "model_id": "3db3cd7f87824496873fd7e06bd63a1b",
       "version_major": 2,
       "version_minor": 0
      },
      "text/plain": [
       "Epoch 24/100:   0%|          | 0/74 [00:00<?, ?it/s]"
      ]
     },
     "metadata": {},
     "output_type": "display_data"
    },
    {
     "data": {
      "application/vnd.jupyter.widget-view+json": {
       "model_id": "9df8baf578d64bdd862371393da45c75",
       "version_major": 2,
       "version_minor": 0
      },
      "text/plain": [
       "Epoch 25/100:   0%|          | 0/74 [00:00<?, ?it/s]"
      ]
     },
     "metadata": {},
     "output_type": "display_data"
    },
    {
     "data": {
      "application/vnd.jupyter.widget-view+json": {
       "model_id": "268e35140c90427e93c7bf81e3657582",
       "version_major": 2,
       "version_minor": 0
      },
      "text/plain": [
       "Epoch 26/100:   0%|          | 0/74 [00:00<?, ?it/s]"
      ]
     },
     "metadata": {},
     "output_type": "display_data"
    },
    {
     "data": {
      "application/vnd.jupyter.widget-view+json": {
       "model_id": "62f3d63b904f424fbd138b91b0605371",
       "version_major": 2,
       "version_minor": 0
      },
      "text/plain": [
       "Epoch 27/100:   0%|          | 0/74 [00:00<?, ?it/s]"
      ]
     },
     "metadata": {},
     "output_type": "display_data"
    },
    {
     "data": {
      "text/plain": [
       "(                  loss  batch  epoch\n",
       " epoch batch                         \n",
       " 1      1     56.680298      1      1\n",
       "        2     53.692852      2      1\n",
       "        3     49.449324      3      1\n",
       "        4     51.094777      4      1\n",
       "        5     49.756416      5      1\n",
       " ...                ...    ...    ...\n",
       " 27     52    16.542521     52     27\n",
       "        53    16.774468     53     27\n",
       "        54    16.891923     54     27\n",
       "        55    16.717352     55     27\n",
       "       -1     16.717352     -1     27\n",
       " \n",
       " [1512 rows x 3 columns],\n",
       "                       val_loss  val_batch  val_epoch\n",
       " val_epoch val_batch                                 \n",
       " 1          1         21.496624          1          1\n",
       "            2         22.349766          2          1\n",
       "            3         25.809706          3          1\n",
       "            4         23.491105          4          1\n",
       "            5         26.605465          5          1\n",
       " ...                        ...        ...        ...\n",
       " 27         16        24.495763         16         27\n",
       "            17        24.576827         17         27\n",
       "            18        24.634275         18         27\n",
       "            19        24.687481         19         27\n",
       "           -1         24.687481         -1         27\n",
       " \n",
       " [540 rows x 3 columns])"
      ]
     },
     "execution_count": 23,
     "metadata": {},
     "output_type": "execute_result"
    }
   ],
   "source": [
    "loop = TrainingLoop(\n",
    "    model,\n",
    "    step=SimpleTrainingStep(\n",
    "        optimizer_fn = lambda params: Adam(params, lr=5e-3),\n",
    "        loss = th.nn.MSELoss(),\n",
    "        # metrics = ('MSE', MeanSquaredError()),\n",
    "    ),\n",
    "    device='cpu'\n",
    ")\n",
    "loop.fit(\n",
    "    train_dl,\n",
    "    val_dl,\n",
    "    epochs=100,\n",
    "    callbacks=[\n",
    "        EarlyStopping(monitor='val_loss', mode='min', patience=20),\n",
    "        TensorBoardLogger(f\"./logs/simple/imit/{modelname}\")\n",
    "    ],\n",
    "    \n",
    ")"
   ]
  },
  {
   "cell_type": "code",
   "execution_count": 16,
   "metadata": {},
   "outputs": [],
   "source": [
    "th.save(model.state_dict(), f\"weights/{modelname}.pth\")"
   ]
  },
  {
   "cell_type": "code",
   "execution_count": 27,
   "metadata": {},
   "outputs": [],
   "source": [
    "connections = {\n",
    "    \"source_blend\": {\n",
    "        \"s1\": [\"j1\", \"j2\", \"j3\", \"j4\"],\n",
    "        \"s2\": [\"j1\", \"j2\", \"j3\", \"j4\"]\n",
    "    },\n",
    "    \"blend_blend\": {\"j1\": [], \"j2\": [], \"j3\": [], \"j4\": []},\n",
    "    \"blend_demand\": {\"j1\": [\"p1\", \"p2\"],\n",
    "        \"j2\": [\"p1\", \"p2\"],\n",
    "        \"j3\": [\"p1\", \"p2\"],\n",
    "        \"j4\": [\"p1\", \"p2\"]\n",
    "    }\n",
    "}\n",
    "\n",
    "action_sample = {\n",
    "    'source_blend':{\n",
    "        's1': {'j1':1, 'j2':1, 'j3':1, 'j4':0}, # From s1 to b1, from s1 to b2 etc...\n",
    "        's2': {'j1':1, 'j2':1, 'j3':0, 'j4':1},\n",
    "    },\n",
    "    \n",
    "    'blend_blend':{},\n",
    "    \n",
    "    'blend_demand':{\n",
    "        'j1': {'p1':1, 'p2':0},\n",
    "        'j2': {'p1':1, 'p2':2},\n",
    "        'j3': {'p1':1, 'p2':2},\n",
    "        'j4': {'p1':1, 'p2':2}\n",
    "    },\n",
    "    \n",
    "    \"tau\": {\"s1\": 10, \"s2\": 10},\n",
    "    \n",
    "    \"delta\": {\"p1\": 0, \"p2\": 0}\n",
    "}"
   ]
  },
  {
   "cell_type": "code",
   "execution_count": 36,
   "metadata": {},
   "outputs": [],
   "source": [
    "M=P=Q=B=Z=D=0"
   ]
  },
  {
   "cell_type": "code",
   "execution_count": 37,
   "metadata": {},
   "outputs": [],
   "source": [
    "env = BlendEnv(connections = connections, action_sample=action_sample, M=M, P=P, Q=Q, B=B, Z=Z, D=D)"
   ]
  },
  {
   "cell_type": "code",
   "execution_count": 38,
   "metadata": {},
   "outputs": [
    {
     "name": "stdout",
     "output_type": "stream",
     "text": [
      "\n",
      "\n",
      "    {'source_blend': {'s1': {'j1': 0.0, 'j2': 0.0, 'j3': 0.0, 'j4': 0.0}, 's2': {'j1': 5.8200917, 'j2': 3.0075731, 'j3': 0.0, 'j4': 0.0}}, 'blend_demand': {'j1': {'p1': 0.0, 'p2': 0.0}, 'j2': {'p1': 0.0, 'p2': 0.0}, 'j3': {'p1': 0.0, 'p2': 0.0}, 'j4': {'p1': 0.0, 'p2': 0.0}}, 'tau': {'s1': 1.7359276, 's2': 16.801428}, 'delta': {'p1': 0.0, 'p2': 0.0}}\n",
      "\n",
      "    >>      {'s1': 1.7359276, 's2': 7.973763} {'j1': 5.8200917, 'j2': 3.0075731, 'j3': 0.0, 'j4': 0.0} {'p1': 0.0, 'p2': 0.0}\n",
      "    0.0\n",
      "\n",
      "\n",
      "    {'source_blend': {'s1': {'j1': 0.0, 'j2': 0.0, 'j3': 0.0, 'j4': 0.0}, 's2': {'j1': 2.9211133, 'j2': 0.0, 'j3': 0.28612745, 'j4': 0.0}}, 'blend_demand': {'j1': {'p1': 0.0, 'p2': 0.0}, 'j2': {'p1': 0.0, 'p2': 0.0}, 'j3': {'p1': 2.7933748, 'p2': 0.0}, 'j4': {'p1': 0.0, 'p2': 0.0}}, 'tau': {'s1': 0.0, 's2': 16.264774}, 'delta': {'p1': 0.0, 'p2': 0.0}}\n",
      "\n",
      "    >>      {'s1': 1.7359276, 's2': 21.031296} {'j1': 8.741205, 'j2': 3.0075731, 'j3': 0.0, 'j4': 0.0} {'p1': 0.0, 'p2': 0.0}\n",
      "    0.0\n",
      "\n",
      "\n",
      "    {'source_blend': {'s1': {'j1': 0.0, 'j2': 0.0, 'j3': 0.0, 'j4': 0.0}, 's2': {'j1': 0.0, 'j2': 0.0, 'j3': 0.80793214, 'j4': 0.0}}, 'blend_demand': {'j1': {'p1': 0.0, 'p2': 0.0}, 'j2': {'p1': 0.0, 'p2': 0.0}, 'j3': {'p1': 0.0, 'p2': 0.0}, 'j4': {'p1': 0.0, 'p2': 0.0}}, 'tau': {'s1': 3.192183, 's2': 28.550154}, 'delta': {'p1': 9.566986, 'p2': 0.0}}\n",
      "\n",
      "    >>      {'s1': 4.9281106, 's2': 48.773518} {'j1': 8.741205, 'j2': 3.0075731, 'j3': 0.80793214, 'j4': 0.0} {'p1': 0.0, 'p2': 0.0}\n",
      "    0.0\n",
      "\n",
      "\n",
      "    {'source_blend': {'s1': {'j1': 0.0, 'j2': 0.0, 'j3': 0.0, 'j4': 0.0}, 's2': {'j1': 0.0, 'j2': 0.0, 'j3': 0.0, 'j4': 0.0}}, 'blend_demand': {'j1': {'p1': 0.0, 'p2': 0.0}, 'j2': {'p1': 0.0, 'p2': 0.0}, 'j3': {'p1': 3.635035, 'p2': 0.0}, 'j4': {'p1': 0.0, 'p2': 0.0}}, 'tau': {'s1': 0.0, 's2': 0.0}, 'delta': {'p1': 7.8479524, 'p2': 0.0}}\n",
      "\n",
      "    >>      {'s1': 4.9281106, 's2': 48.773518} {'j1': 8.741205, 'j2': 3.0075731, 'j3': 0.0, 'j4': 0.0} {'p1': 0.0, 'p2': 0.0}\n",
      "    0.0\n",
      "\n",
      "\n",
      "    {'source_blend': {'s1': {'j1': 0.0, 'j2': 0.0, 'j3': 0.0, 'j4': 0.0}, 's2': {'j1': 0.0, 'j2': 0.0, 'j3': 0.0, 'j4': 0.0}}, 'blend_demand': {'j1': {'p1': 0.0, 'p2': 0.0}, 'j2': {'p1': 0.0, 'p2': 0.0}, 'j3': {'p1': 13.565897, 'p2': 15.5965}, 'j4': {'p1': 0.0, 'p2': 0.0}}, 'tau': {'s1': 0.0, 's2': 0.0}, 'delta': {'p1': 12.685901, 'p2': 12.123662}}\n",
      "\n",
      "    >>      {'s1': 4.9281106, 's2': 48.773518} {'j1': 8.741205, 'j2': 3.0075731, 'j3': 0.0, 'j4': 0.0} {'p1': 0.0, 'p2': 0.0}\n",
      "    0.0\n",
      "\n",
      "\n",
      "    {'source_blend': {'s1': {'j1': 0.0, 'j2': 0.0, 'j3': 0.0, 'j4': 0.0}, 's2': {'j1': 0.0, 'j2': 0.0, 'j3': 0.0, 'j4': 0.0}}, 'blend_demand': {'j1': {'p1': 0.0, 'p2': 0.0}, 'j2': {'p1': 0.0, 'p2': 0.0}, 'j3': {'p1': 15.273649, 'p2': 29.690939}, 'j4': {'p1': 0.0, 'p2': 0.0}}, 'tau': {'s1': 0.0, 's2': 0.0}, 'delta': {'p1': 19.17704, 'p2': 17.25904}}\n",
      "\n",
      "    >>      {'s1': 4.9281106, 's2': 48.773518} {'j1': 8.741205, 'j2': 3.0075731, 'j3': 0.0, 'j4': 0.0} {'p1': 0.0, 'p2': 0.0}\n",
      "    0.0\n"
     ]
    }
   ],
   "source": [
    "env = env\n",
    "with th.no_grad():\n",
    "    obs = env.reset()\n",
    "    obs, obs_dict = obs\n",
    "    for k in range(env.T):\n",
    "        action = np.array(model.forward(th.Tensor(obs)))\n",
    "        # print(action)\n",
    "        print(\"\\n\\n   \",reconstruct_dict(action, env.mapping_act))\n",
    "        obs, reward, done, term, _ = env.step(action)\n",
    "        dobs = reconstruct_dict(obs, env.mapping_obs)\n",
    "        print(\"\\n    >>     \",dobs[\"sources\"], dobs[\"blenders\"], dobs[\"demands\"])\n",
    "        print(\"   \" ,reward)"
   ]
  },
  {
   "cell_type": "code",
   "execution_count": 26,
   "metadata": {},
   "outputs": [
    {
     "data": {
      "text/plain": [
       "[(0, ['source_blend', 's1', 'j1']),\n",
       " (1, ['source_blend', 's1', 'j2']),\n",
       " (2, ['source_blend', 's1', 'j3']),\n",
       " (3, ['source_blend', 's1', 'j4']),\n",
       " (4, ['source_blend', 's2', 'j1']),\n",
       " (5, ['source_blend', 's2', 'j2']),\n",
       " (6, ['source_blend', 's2', 'j3']),\n",
       " (7, ['source_blend', 's2', 'j4']),\n",
       " (8, ['blend_blend', 'j1', 'j5']),\n",
       " (9, ['blend_blend', 'j1', 'j6']),\n",
       " (10, ['blend_blend', 'j1', 'j7']),\n",
       " (11, ['blend_blend', 'j1', 'j8']),\n",
       " (12, ['blend_blend', 'j2', 'j5']),\n",
       " (13, ['blend_blend', 'j2', 'j6']),\n",
       " (14, ['blend_blend', 'j2', 'j7']),\n",
       " (15, ['blend_blend', 'j2', 'j8']),\n",
       " (16, ['blend_blend', 'j3', 'j5']),\n",
       " (17, ['blend_blend', 'j3', 'j6']),\n",
       " (18, ['blend_blend', 'j3', 'j7']),\n",
       " (19, ['blend_blend', 'j3', 'j8']),\n",
       " (20, ['blend_blend', 'j4', 'j5']),\n",
       " (21, ['blend_blend', 'j4', 'j6']),\n",
       " (22, ['blend_blend', 'j4', 'j7']),\n",
       " (23, ['blend_blend', 'j4', 'j8']),\n",
       " (24, ['blend_demand', 'j5', 'p1']),\n",
       " (25, ['blend_demand', 'j5', 'p2']),\n",
       " (26, ['blend_demand', 'j6', 'p1']),\n",
       " (27, ['blend_demand', 'j6', 'p2']),\n",
       " (28, ['blend_demand', 'j7', 'p1']),\n",
       " (29, ['blend_demand', 'j7', 'p2']),\n",
       " (30, ['blend_demand', 'j8', 'p1']),\n",
       " (31, ['blend_demand', 'j8', 'p2']),\n",
       " (32, ['tau', 's1']),\n",
       " (33, ['tau', 's2']),\n",
       " (34, ['delta', 'p1']),\n",
       " (35, ['delta', 'p2'])]"
      ]
     },
     "execution_count": 26,
     "metadata": {},
     "output_type": "execute_result"
    }
   ],
   "source": [
    "env.mapping_act"
   ]
  }
 ],
 "metadata": {
  "kernelspec": {
   "display_name": "blendv",
   "language": "python",
   "name": "python3"
  },
  "language_info": {
   "codemirror_mode": {
    "name": "ipython",
    "version": 3
   },
   "file_extension": ".py",
   "mimetype": "text/x-python",
   "name": "python",
   "nbconvert_exporter": "python",
   "pygments_lexer": "ipython3",
   "version": "3.8.0"
  }
 },
 "nbformat": 4,
 "nbformat_minor": 2
}
