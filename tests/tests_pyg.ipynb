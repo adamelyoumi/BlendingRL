{
 "cells": [
  {
   "cell_type": "markdown",
   "metadata": {},
   "source": [
    "Simplest Env"
   ]
  },
  {
   "cell_type": "code",
   "execution_count": 2,
   "metadata": {},
   "outputs": [],
   "source": [
    "import torch\n",
    "import torch.nn.functional as F\n",
    "from torch_geometric.nn import GCNConv\n",
    "from torch_geometric.data import Data, DataLoader\n",
    "\n",
    "# Example graph data preparation\n",
    "# Number of tanks (nodes) and connections (edges)\n",
    "num_tanks = 5\n",
    "num_edges = 7\n",
    "\n",
    "# Node features: e.g., [volume, concentration, temperature]\n",
    "node_features = torch.randn((num_tanks, 3))\n",
    "\n",
    "# Edge indices (connections between tanks)\n",
    "edge_index = torch.tensor([[0, 1, 2, 3, 4, 0, 2], \n",
    "                           [1, 2, 3, 4, 0, 2, 4]], dtype=torch.long)\n",
    "\n",
    "# Edge features: e.g., [flow capacity, resistance]\n",
    "edge_features = torch.randn((num_edges, 2))\n",
    "\n",
    "# True flow values for training (example values)\n",
    "flow_values = torch.randn((num_edges, 1))\n",
    "\n",
    "# Create a Data object\n",
    "data = Data(x=node_features, edge_index=edge_index, edge_attr=edge_features, y=flow_values)\n"
   ]
  },
  {
   "cell_type": "code",
   "execution_count": 3,
   "metadata": {},
   "outputs": [],
   "source": [
    "\n",
    "# Define the GNN model\n",
    "class TankFlowGNN(torch.nn.Module):\n",
    "    def __init__(self):\n",
    "        super(TankFlowGNN, self).__init__()\n",
    "        self.conv1 = GCNConv(3, 16)\n",
    "        self.conv2 = GCNConv(16, 16)\n",
    "        self.fc = torch.nn.Linear(16, 1)\n",
    "    \n",
    "    def forward(self, data):\n",
    "        x, edge_index, edge_attr = data.x, data.edge_index, data.edge_attr\n",
    "        x = self.conv1(x, edge_index)\n",
    "        x = F.relu(x)\n",
    "        x = self.conv2(x, edge_index)\n",
    "        x = F.relu(x)\n",
    "        \n",
    "        # Aggregate edge features\n",
    "        edge_x = torch.cat([x[edge_index[0]], x[edge_index[1]], edge_attr], dim=1)\n",
    "        \n",
    "        # Predict flows on edges\n",
    "        flow_predictions = self.fc(edge_x)\n",
    "        return flow_predictions\n",
    "\n",
    "# Instantiate the model, define loss and optimizer\n",
    "model = TankFlowGNN()\n"
   ]
  },
  {
   "cell_type": "code",
   "execution_count": 4,
   "metadata": {},
   "outputs": [
    {
     "data": {
      "text/plain": [
       "Data(x=[5, 3], edge_index=[2, 7], edge_attr=[7, 2], y=[7, 1])"
      ]
     },
     "execution_count": 4,
     "metadata": {},
     "output_type": "execute_result"
    }
   ],
   "source": [
    "data"
   ]
  },
  {
   "cell_type": "code",
   "execution_count": null,
   "metadata": {},
   "outputs": [],
   "source": [
    "\n",
    "optimizer = torch.optim.Adam(model.parameters(), lr=0.01)\n",
    "criterion = torch.nn.MSELoss()\n",
    "\n",
    "# Training loop\n",
    "def train(data, epochs=100):\n",
    "    model.train()\n",
    "    for epoch in range(epochs):\n",
    "        optimizer.zero_grad()\n",
    "        out = model(data)\n",
    "        loss = criterion(out, data.y)\n",
    "        loss.backward()\n",
    "        optimizer.step()\n",
    "        if epoch % 10 == 0:\n",
    "            print(f'Epoch {epoch}, Loss: {loss.item()}')\n",
    "\n",
    "# Train the model\n",
    "train(data)\n"
   ]
  },
  {
   "cell_type": "code",
   "execution_count": 5,
   "metadata": {},
   "outputs": [
    {
     "name": "stderr",
     "output_type": "stream",
     "text": [
      "Downloading https://www.chrsmrrs.com/graphkerneldatasets/ENZYMES.zip\n",
      "Processing...\n",
      "Done!\n"
     ]
    }
   ],
   "source": [
    "from torch_geometric.datasets import TUDataset\n",
    "\n",
    "dataset = TUDataset(root='/tmp/ENZYMES', name='ENZYMES')"
   ]
  },
  {
   "cell_type": "code",
   "execution_count": 8,
   "metadata": {},
   "outputs": [
    {
     "data": {
      "text/plain": [
       "Data(edge_index=[2, 102], x=[23, 3], y=[1])"
      ]
     },
     "execution_count": 8,
     "metadata": {},
     "output_type": "execute_result"
    }
   ],
   "source": [
    "dataset[1]"
   ]
  }
 ],
 "metadata": {
  "kernelspec": {
   "display_name": "blendv",
   "language": "python",
   "name": "python3"
  },
  "language_info": {
   "codemirror_mode": {
    "name": "ipython",
    "version": 3
   },
   "file_extension": ".py",
   "mimetype": "text/x-python",
   "name": "python",
   "nbconvert_exporter": "python",
   "pygments_lexer": "ipython3",
   "version": "3.8.0"
  }
 },
 "nbformat": 4,
 "nbformat_minor": 2
}
