{
 "cells": [
  {
   "cell_type": "markdown",
   "metadata": {},
   "source": [
    "- CNN policy ?\n",
    "- grid search for HP tuning (OK)\n",
    "- Increasingly difficult Environment\n",
    "- Positive reward for populating increasingly \"deep\" blending tanks ?\n",
    "- RL for chem sched paper (https://arxiv.org/pdf/2203.00636)\n",
    "- Masking (https://sb3-contrib.readthedocs.io/en/master/modules/ppo_mask.html, https://arxiv.org/pdf/2006.14171)\n",
    "    - Adding binary decision variables ?g  \n",
    "    - Requires discrete action space (only integer flows -> treated as categories ?)\n",
    "    - masking: disable incoming flows (resp. outgoing flows) for tanks at UB inv limit (resp. LB inv. limit), disable selling/buying when available = 0\n",
    "    - multiple envs with multiple agents ? (MARL, https://arxiv.org/pdf/2103.01955)\n",
    "        - Predict successive pipelines (\"source > blend\" then \"blend > blend\" (as many as required) then \"blend > demand\")\n",
    "        - Each agent has access to the whole state\n",
    "        - Action mask is derived from the previous agent's actions (0 if inventory at bounds or incoming flow already reserved, else 1)\n",
    "        - https://github.com/Rohan138/marl-baselines3/blob/main/marl_baselines3/independent_ppo.py\n",
    "- Safe RL: (https://proceedings.mlr.press/v119/wachi20a/wachi20a.pdf)\n",
    "    - \"Unsafe state\" ? > Do not enforce constraints strictly, instead opt for early episode termination to show which states are unsafe ? \n",
    "    - Implementations:\n",
    "        - https://pypi.org/project/fast-safe-rl/#description (Policy optimizers)\n",
    "        - https://github.com/PKU-Alignment/safety-gymnasium/tree/main/safety_gymnasium (environments; \"cost\" ?)\n"
   ]
  },
  {
   "cell_type": "markdown",
   "metadata": {},
   "source": [
    "1. Try other learning rates/CNN policies\n",
    "2. Implement Masking with single agent\n",
    "3. Try other ways to tell the model what are illegal/unsafe states (safe RL)\n",
    "4. Try multiple agents"
   ]
  },
  {
   "cell_type": "markdown",
   "metadata": {},
   "source": [
    "-----------------------"
   ]
  },
  {
   "cell_type": "markdown",
   "metadata": {},
   "source": [
    "- Masking: Discretization of action space is too slow/might not work -> Need to implement masking for continuous action space\n",
    "- Recurrent policy makes the most sense ? (window of demand forecasts)\n",
    "- https://www.reddit.com/r/reinforcementlearning/comments/17l5b47/invalid_action_masking_when_action_space_is/\n",
    "    - Suggestion of autoregressive model for having constraints respected: one predicted action is input to a second model\n",
    "    - Suggestion of editing the distribution in such a way that the constraint is respected\n",
    "- https://www.sciencedirect.com/science/article/pii/S0098135420301599\n",
    "    - Choice of ELU activation ?\n",
    "    - Choice of NN size ?\n",
    "    - \"The feature engineering in the net inventory means the network does not have to learn these relationships itself, which did help speed training.\" ?\n",
    "- Simplify the problem (remove tanks 5 to 8), find the optimal solution with Gurobi"
   ]
  },
  {
   "cell_type": "markdown",
   "metadata": {},
   "source": [
    "- remove all constraints except in/out\n",
    "- https://arxiv.org/pdf/1711.11157\n",
    "- https://arxiv.org/pdf/2111.01564\n",
    "- Softmax with large coef to produce action mask\n",
    "- Graph convolution NN instead of RNN ?\n",
    "    - https://pytorch-geometric.readthedocs.io/en/latest/\n",
    "    - Graph rep. learning - William L Hamilton"
   ]
  },
  {
   "cell_type": "markdown",
   "metadata": {},
   "source": [
    "Latest Model learned in/out rule\n",
    "Watch out, bounds aren't properly respected (neg flows sometimes)\n",
    "Fix it properly without adding penalty"
   ]
  },
  {
   "cell_type": "code",
   "execution_count": 1,
   "metadata": {},
   "outputs": [],
   "source": [
    "# import gymnasium as gym\n",
    "import json\n",
    "import numpy as np\n",
    "import torch as th\n",
    "from stable_baselines3 import PPO\n",
    "from stable_baselines3.common.evaluation import evaluate_policy\n",
    "from stable_baselines3.common.vec_env import DummyVecEnv\n",
    "from stable_baselines3.common.env_checker import check_env\n",
    "from stable_baselines3.common.monitor import Monitor\n",
    "from envs import BlendEnv, flatten_and_track_mappings, reconstruct_dict\n",
    "# from models import CustomRNNPolicy"
   ]
  },
  {
   "cell_type": "code",
   "execution_count": 2,
   "metadata": {},
   "outputs": [],
   "source": [
    "import warnings\n",
    "warnings.filterwarnings(\"ignore\")"
   ]
  },
  {
   "cell_type": "markdown",
   "metadata": {},
   "source": [
    "![image info](simple.png)"
   ]
  },
  {
   "cell_type": "code",
   "execution_count": 3,
   "metadata": {},
   "outputs": [],
   "source": [
    "connections = {\n",
    "    \"source_blend\": {\n",
    "        \"s1\": [\n",
    "            \"j1\",\n",
    "            \"j2\",\n",
    "            \"j3\",\n",
    "            \"j4\"\n",
    "        ],\n",
    "        \"s2\": [\n",
    "            \"j1\",\n",
    "            \"j2\",\n",
    "            \"j3\",\n",
    "            \"j4\"\n",
    "        ]\n",
    "    },\n",
    "    \"blend_blend\": {\n",
    "        \"j1\": [],\n",
    "        \"j2\": [],\n",
    "        \"j3\": [],\n",
    "        \"j4\": []\n",
    "    },\n",
    "    \"blend_demand\": {\n",
    "        \"j1\": [\n",
    "            \"p1\",\n",
    "            \"p2\"\n",
    "        ],\n",
    "        \"j2\": [\n",
    "            \"p1\",\n",
    "            \"p2\"\n",
    "        ],\n",
    "        \"j3\": [\n",
    "            \"p1\",\n",
    "            \"p2\"\n",
    "        ],\n",
    "        \"j4\": [\n",
    "            \"p1\",\n",
    "            \"p2\"\n",
    "        ]\n",
    "    }\n",
    "}"
   ]
  },
  {
   "cell_type": "code",
   "execution_count": 4,
   "metadata": {},
   "outputs": [],
   "source": [
    "action_sample = {\n",
    "    'source_blend':{\n",
    "        's1': {'j1':1, 'j2':1, 'j3':1, 'j4':0}, # From s1 to b1, from s1 to b2 etc...\n",
    "        's2': {'j1':1, 'j2':1, 'j3':0, 'j4':1},\n",
    "    },\n",
    "    \n",
    "    # 'source_demand':{\n",
    "    #     's1': {},\n",
    "    #     's2': {}\n",
    "    # },\n",
    "    \n",
    "    'blend_blend':{\n",
    "        # 'j1': {'j5':1, 'j6':0, 'j7':0, 'j8':0},\n",
    "        # 'j2': {'j5':0, 'j6':0, 'j7':0, 'j8':0},\n",
    "        # 'j3': {'j5':0, 'j6':0, 'j7':0, 'j8':0},\n",
    "        # 'j4': {'j5':0, 'j6':0, 'j7':0, 'j8':0},\n",
    "        # 'j5': {},\n",
    "        # 'j6': {},\n",
    "        # 'j7': {},\n",
    "        # 'j8': {}\n",
    "    },\n",
    "    \n",
    "    'blend_demand':{\n",
    "        'j1': {'p1':1, 'p2':0},\n",
    "        'j2': {'p1':1, 'p2':2},\n",
    "        'j3': {'p1':1, 'p2':2},\n",
    "        'j4': {'p1':1, 'p2':2}\n",
    "    },\n",
    "    \n",
    "    \"tau\": {\"s1\": 10, \"s2\": 10},\n",
    "    \n",
    "    \"delta\": {\"p1\": 0, \"p2\": 0}\n",
    "}\n",
    "action_sample_flat, _ = flatten_and_track_mappings(action_sample)"
   ]
  },
  {
   "cell_type": "code",
   "execution_count": 5,
   "metadata": {},
   "outputs": [],
   "source": [
    "def lr_scheduler(p):\n",
    "    if p > 0.9:\n",
    "        return 4e-2\n",
    "    if p > 0.75:\n",
    "        return 2e-2\n",
    "    if p > 0.4:\n",
    "        return 5e-3\n",
    "    else:\n",
    "        return 1e-3"
   ]
  },
  {
   "cell_type": "code",
   "execution_count": 6,
   "metadata": {},
   "outputs": [],
   "source": [
    "env = BlendEnv(v = False, D=0, connections = connections, Q = 0, P = 0, B = 0, Z = 1e3, action_sample = action_sample, MAXFLOW = 30)\n",
    "env = Monitor(env)"
   ]
  },
  {
   "cell_type": "code",
   "execution_count": 7,
   "metadata": {},
   "outputs": [],
   "source": [
    "policy_kwargs = dict(\n",
    "    net_arch=[dict(pi=[128]*6, vf=[128]*6)]\n",
    ")"
   ]
  },
  {
   "cell_type": "code",
   "execution_count": 8,
   "metadata": {},
   "outputs": [],
   "source": [
    "model = PPO(\"MlpPolicy\", env, tensorboard_log=\"./logs\", clip_range=0.3, learning_rate=lr_scheduler, policy_kwargs=policy_kwargs, ent_coef=0.001)"
   ]
  },
  {
   "cell_type": "code",
   "execution_count": 9,
   "metadata": {},
   "outputs": [],
   "source": [
    "# model = PPO(CustomRNNPolicy, env, tensorboard_log=\"./logs\", clip_range=0.4, learning_rate=lr_scheduler, policy_kwargs=policy_kwargs, ent_coef=0)"
   ]
  },
  {
   "cell_type": "code",
   "execution_count": 16,
   "metadata": {},
   "outputs": [
    {
     "data": {
      "text/plain": [
       "'models/model_0605-1449_ent_0.02_gam_0.99_clip_0.3_1000_1000_0'"
      ]
     },
     "execution_count": 16,
     "metadata": {},
     "output_type": "execute_result"
    }
   ],
   "source": [
    "import datetime\n",
    "model_name = f\"models/model_{datetime.datetime.now().strftime('%m%d-%H%M')}_ent_{model.ent_coef}_gam_{model.gamma}_clip_{model.clip_range(0)}_{int(env.M)}_{int(env.Z)}_{int(env.P)}\"\n",
    "model_name"
   ]
  },
  {
   "cell_type": "code",
   "execution_count": 17,
   "metadata": {},
   "outputs": [
    {
     "data": {
      "text/plain": [
       "<stable_baselines3.ppo.ppo.PPO at 0x1ae572278b0>"
      ]
     },
     "execution_count": 17,
     "metadata": {},
     "output_type": "execute_result"
    }
   ],
   "source": [
    "model.learn(total_timesteps=500000, progress_bar=False, tb_log_name=model_name)"
   ]
  },
  {
   "cell_type": "code",
   "execution_count": 18,
   "metadata": {},
   "outputs": [],
   "source": [
    "model.save(model_name)"
   ]
  },
  {
   "cell_type": "code",
   "execution_count": null,
   "metadata": {},
   "outputs": [],
   "source": [
    "# model.save(f\"./models/test_newmodel\")"
   ]
  },
  {
   "cell_type": "code",
   "execution_count": 11,
   "metadata": {},
   "outputs": [],
   "source": [
    "# model.set_parameters('model_0530-2312_ent_0.5_gam_0.99_clip_0.5_1000_10000_100')\n",
    "model.set_parameters(\"models\\\\model_0605-1449_ent_0.02_gam_0.99_clip_0.3_1000_1000_0\")"
   ]
  },
  {
   "cell_type": "code",
   "execution_count": 30,
   "metadata": {},
   "outputs": [],
   "source": [
    "env = BlendEnv(v = True, Z = env.Z, D=env.D, connections = env.connections, Q = env.Q, P = env.P, B = env.B, action_sample = env.action_sample)"
   ]
  },
  {
   "cell_type": "code",
   "execution_count": 48,
   "metadata": {},
   "outputs": [
    {
     "name": "stdout",
     "output_type": "stream",
     "text": [
      "[PEN] t1; s1:\t\t\tbought too much (more than supply)\n",
      "[PEN] t1; s2:\t\t\tbought too much (more than supply)\n",
      "[PEN] t1; p1:\t\t\tsold too much (more than demand)\n",
      "[PEN] t1; p2:\t\t\tsold too much (more than demand)\n",
      "s1: b: 0.1165213291140816\n",
      "[PEN] t1; s1:\t\t\tbought too little (resulting amount less than source tank LB)\n",
      "Increased reward by 0 through tank population in s1\n",
      "s2: b: 0.23443328967499014\n",
      "[PEN] t1; s2:\t\t\tbought too little (resulting amount less than source tank LB)\n",
      "Increased reward by 0 through tank population in s2\n",
      "j1: inv: 0, in_flow_sources: 17.547730939453587, in_flow_blend: 0, out_flow_blend: 0, out_flow_demands: 50.0\n",
      "[PEN] t1; j1:\t\t\tIn and out flow both non-zero (in: 17.55, out: 50.0)\n",
      "j2: inv: 0, in_flow_sources: 11.721664483749507, in_flow_blend: 0, out_flow_blend: 0, out_flow_demands: 0.0\n",
      "Increased reward by 0.0 through tank population in j2\n",
      "j3: inv: 0, in_flow_sources: 4.17393354429592, in_flow_blend: 0, out_flow_blend: 0, out_flow_demands: 50.0\n",
      "[PEN] t1; j3:\t\t\tIn and out flow both non-zero (in: 4.17, out: 50.0)\n",
      "j4: inv: 0, in_flow_sources: 6.556671032500987, in_flow_blend: 0, out_flow_blend: 0, out_flow_demands: 50.0\n",
      "[PEN] t1; j4:\t\t\tIn and out flow both non-zero (in: 6.56, out: 50.0)\n",
      "Increased reward by 0 through tank population in p1\n",
      "Increased reward by 0 through tank population in p2\n",
      "\t\t\t\t\t\t\t\t\t\t\t\t -3000.1\n",
      "[PEN] t2; s2:\t\t\tbought too much (more than supply)\n",
      "[PEN] t2; p1:\t\t\tsold too much (more than demand)\n",
      "s1: b: 0.0\n",
      "[PEN] t2; s1:\t\t\tbought too little (resulting amount less than source tank LB)\n",
      "Increased reward by 0 through tank population in s1\n",
      "s2: b: 0.3\n",
      "[PEN] t2; s2:\t\t\tbought too little (resulting amount less than source tank LB)\n",
      "Increased reward by 0 through tank population in s2\n",
      "j1: inv: 0, in_flow_sources: 15.0, in_flow_blend: 0, out_flow_blend: 0, out_flow_demands: 50.0\n",
      "[PEN] t2; j1:\t\t\tIn and out flow both non-zero (in: 15.0, out: 50.0)\n",
      "j2: inv: 11.721664483749507, in_flow_sources: 0.0, in_flow_blend: 0, out_flow_blend: 0, out_flow_demands: 50.0\n",
      "j2: b: 0.23443328967499014\n",
      "[PEN] t2; j2:\t\t\tinventory OOB (resulting amount less than blending tank LB)\n",
      "Increased reward by 0 through tank population in j2\n",
      "j3: inv: 0, in_flow_sources: 0.0, in_flow_blend: 0, out_flow_blend: 0, out_flow_demands: 100.0\n",
      "j3: b: 0.0\n",
      "[PEN] t2; j3:\t\t\tinventory OOB (resulting amount less than blending tank LB)\n",
      "Increased reward by 0 through tank population in j3\n",
      "j4: inv: 0, in_flow_sources: 15.0, in_flow_blend: 0, out_flow_blend: 0, out_flow_demands: 50.0\n",
      "[PEN] t2; j4:\t\t\tIn and out flow both non-zero (in: 15.0, out: 50.0)\n",
      "Increased reward by 0.0 through tank population in p1\n",
      "Increased reward by 0 through tank population in p2\n",
      "\t\t\t\t\t\t\t\t\t\t\t\t -5000.200000000001\n",
      "[PEN] t3; s1:\t\t\tbought too much (more than supply)\n",
      "[PEN] t3; p1:\t\t\tsold too much (more than demand)\n",
      "s1: b: 0.1\n",
      "[PEN] t3; s1:\t\t\tbought too little (resulting amount less than source tank LB)\n",
      "Increased reward by 0 through tank population in s1\n",
      "s2: b: 0.17317464192708334\n",
      "[PEN] t3; s2:\t\t\tbought too little (resulting amount less than source tank LB)\n",
      "Increased reward by 0 through tank population in s2\n",
      "j1: inv: 0, in_flow_sources: 13.658732096354168, in_flow_blend: 0, out_flow_blend: 0, out_flow_demands: 50.0\n",
      "[PEN] t3; j1:\t\t\tIn and out flow both non-zero (in: 13.66, out: 50.0)\n",
      "j2: inv: 0.0, in_flow_sources: 8.658732096354168, in_flow_blend: 0, out_flow_blend: 0, out_flow_demands: 100.0\n",
      "[PEN] t3; j2:\t\t\tIn and out flow both non-zero (in: 8.66, out: 100.0)\n",
      "j3: inv: 0.0, in_flow_sources: 0.0, in_flow_blend: 0, out_flow_blend: 0, out_flow_demands: 0.0\n",
      "Increased reward by 0 through tank population in j3\n",
      "j4: inv: 0, in_flow_sources: 13.658732096354168, in_flow_blend: 0, out_flow_blend: 0, out_flow_demands: 50.0\n",
      "[PEN] t3; j4:\t\t\tIn and out flow both non-zero (in: 13.66, out: 50.0)\n",
      "Increased reward by 0 through tank population in p1\n",
      "Increased reward by 0 through tank population in p2\n",
      "\t\t\t\t\t\t\t\t\t\t\t\t 21999.8\n",
      "[PEN] t4; s2:\t\t\tbought too much (more than supply)\n",
      "[PEN] t4; p2:\t\t\tsold too much (more than demand)\n",
      "s1: b: 0.0\n",
      "[PEN] t4; s1:\t\t\tbought too little (resulting amount less than source tank LB)\n",
      "Increased reward by 0 through tank population in s1\n",
      "s2: b: 0.0\n",
      "[PEN] t4; s2:\t\t\tbought too little (resulting amount less than source tank LB)\n",
      "Increased reward by 0 through tank population in s2\n",
      "j1: inv: 0, in_flow_sources: 0.0, in_flow_blend: 0, out_flow_blend: 0, out_flow_demands: 48.73392868041992\n",
      "j1: b: 0.0\n",
      "[PEN] t4; j1:\t\t\tinventory OOB (resulting amount less than blending tank LB)\n",
      "Increased reward by 0 through tank population in j1\n",
      "j2: inv: 0.0, in_flow_sources: 0.0, in_flow_blend: 0, out_flow_blend: 0, out_flow_demands: 50.0\n",
      "j2: b: 0.0\n",
      "[PEN] t4; j2:\t\t\tinventory OOB (resulting amount less than blending tank LB)\n",
      "Increased reward by 0 through tank population in j2\n",
      "j3: inv: 0.0, in_flow_sources: 0.0, in_flow_blend: 0, out_flow_blend: 0, out_flow_demands: 76.06328392028809\n",
      "j3: b: 0.0\n",
      "[PEN] t4; j3:\t\t\tinventory OOB (resulting amount less than blending tank LB)\n",
      "Increased reward by 0 through tank population in j3\n",
      "j4: inv: 0, in_flow_sources: 0.0, in_flow_blend: 0, out_flow_blend: 0, out_flow_demands: 50.0\n",
      "j4: b: 0.0\n",
      "[PEN] t4; j4:\t\t\tinventory OOB (resulting amount less than blending tank LB)\n",
      "Increased reward by 0 through tank population in j4\n",
      "Increased reward by 0 through tank population in p1\n",
      "p2: newdelta: 0.0\n",
      "[PEN] t4; p2:\t\t\tsold too much (resulting amount less than demand tank LB)\n",
      "Increased reward by 0 through tank population in p2\n",
      "\t\t\t\t\t\t\t\t\t\t\t\t 21999.8\n",
      "[PEN] t5; s2:\t\t\tbought too much (more than supply)\n",
      "[PEN] t5; p1:\t\t\tsold too much (more than demand)\n",
      "s1: b: 0.0\n",
      "[PEN] t5; s1:\t\t\tbought too little (resulting amount less than source tank LB)\n",
      "Increased reward by 0 through tank population in s1\n",
      "Increased reward by 0 through tank population in s2\n",
      "j1: inv: 0.0, in_flow_sources: 0.0, in_flow_blend: 0, out_flow_blend: 0, out_flow_demands: 50.0\n",
      "j1: b: 0.0\n",
      "[PEN] t5; j1:\t\t\tinventory OOB (resulting amount less than blending tank LB)\n",
      "Increased reward by 0 through tank population in j1\n",
      "j2: inv: 0.0, in_flow_sources: 0.0, in_flow_blend: 0, out_flow_blend: 0, out_flow_demands: 100.0\n",
      "j2: b: 0.0\n",
      "[PEN] t5; j2:\t\t\tinventory OOB (resulting amount less than blending tank LB)\n",
      "Increased reward by 0 through tank population in j2\n",
      "j3: inv: 0.0, in_flow_sources: 0.0, in_flow_blend: 0, out_flow_blend: 0, out_flow_demands: 50.0\n",
      "j3: b: 0.0\n",
      "[PEN] t5; j3:\t\t\tinventory OOB (resulting amount less than blending tank LB)\n",
      "Increased reward by 0 through tank population in j3\n",
      "j4: inv: 0.0, in_flow_sources: 0.0, in_flow_blend: 0, out_flow_blend: 0, out_flow_demands: 50.0\n",
      "j4: b: 0.0\n",
      "[PEN] t5; j4:\t\t\tinventory OOB (resulting amount less than blending tank LB)\n",
      "Increased reward by 0 through tank population in j4\n",
      "p1: newdelta: 8.443328967499014\n",
      "[PEN] t5; p1:\t\t\tsold too much (resulting amount less than demand tank LB)\n",
      "Increased reward by 0 through tank population in p1\n",
      "Increased reward by 0 through tank population in p2\n",
      "\t\t\t\t\t\t\t\t\t\t\t\t 38886.45793499803\n",
      "[PEN] t6; s1:\t\t\tbought too much (more than supply)\n",
      "[PEN] t6; s2:\t\t\tbought too much (more than supply)\n",
      "[PEN] t6; p1:\t\t\tsold too much (more than demand)\n",
      "[PEN] t6; p2:\t\t\tsold too much (more than demand)\n",
      "s1: b: 0.0\n",
      "[PEN] t6; s1:\t\t\tbought too little (resulting amount less than source tank LB)\n",
      "Increased reward by 0 through tank population in s1\n",
      "s2: b: 0.0\n",
      "[PEN] t6; s2:\t\t\tbought too little (resulting amount less than source tank LB)\n",
      "Increased reward by 0 through tank population in s2\n",
      "j1: inv: 0.0, in_flow_sources: 0.0, in_flow_blend: 0, out_flow_blend: 0, out_flow_demands: 50.0\n",
      "j1: b: 0.0\n",
      "[PEN] t6; j1:\t\t\tinventory OOB (resulting amount less than blending tank LB)\n",
      "Increased reward by 0 through tank population in j1\n",
      "j2: inv: 0.0, in_flow_sources: 0.0, in_flow_blend: 0, out_flow_blend: 0, out_flow_demands: 0.0\n",
      "Increased reward by 0 through tank population in j2\n",
      "j3: inv: 0.0, in_flow_sources: 0.0, in_flow_blend: 0, out_flow_blend: 0, out_flow_demands: 3.8909435272216797\n",
      "j3: b: 0.0\n",
      "[PEN] t6; j3:\t\t\tinventory OOB (resulting amount less than blending tank LB)\n",
      "Increased reward by 0 through tank population in j3\n",
      "j4: inv: 0.0, in_flow_sources: 0.0, in_flow_blend: 0, out_flow_blend: 0, out_flow_demands: 66.9140682220459\n",
      "j4: b: 0.0\n",
      "[PEN] t6; j4:\t\t\tinventory OOB (resulting amount less than blending tank LB)\n",
      "Increased reward by 0 through tank population in j4\n",
      "p1: newdelta: 0.0\n",
      "[PEN] t6; p1:\t\t\tsold too much (resulting amount less than demand tank LB)\n",
      "Increased reward by 0 through tank population in p1\n",
      "p2: newdelta: 0.0\n",
      "[PEN] t6; p2:\t\t\tsold too much (resulting amount less than demand tank LB)\n",
      "Increased reward by 0 through tank population in p2\n",
      "\t\t\t\t\t\t\t\t\t\t\t\t 38886.45793499803\n"
     ]
    }
   ],
   "source": [
    "obs = env.reset()\n",
    "obs, obs_dict = obs\n",
    "for k in range(env.T):\n",
    "    action, _ = model.predict(obs, deterministic=False)\n",
    "    obs, reward, done, term, _ = env.step(action)\n",
    "    print(\"\\t\\t\\t\\t\\t\\t\\t\\t\\t\\t\\t\\t\",reward)\n",
    "    "
   ]
  },
  {
   "cell_type": "code",
   "execution_count": 49,
   "metadata": {},
   "outputs": [],
   "source": [
    "# 0 (only once per episode)\n",
    "episode_rewards = []\n",
    "obs = env.reset()\n",
    "obs, obs_dict = obs"
   ]
  },
  {
   "cell_type": "code",
   "execution_count": 62,
   "metadata": {},
   "outputs": [
    {
     "name": "stdout",
     "output_type": "stream",
     "text": [
      "2\n"
     ]
    }
   ],
   "source": [
    "# 1 Get first action\n",
    "print(env.t)\n",
    "action, _ = model.predict(obs, deterministic=False)"
   ]
  },
  {
   "cell_type": "code",
   "execution_count": 63,
   "metadata": {},
   "outputs": [
    {
     "name": "stdout",
     "output_type": "stream",
     "text": [
      "2\n",
      "{'s1': 0.0, 's2': 0.0}\n",
      "{'j1': 0.0, 'j2': 0.0, 'j3': 10.0, 'j4': 0.0}\n",
      "{'p1': 0.0, 'p2': 0.0}\n",
      "{'j1': {'q1': 0.0}, 'j2': {'q1': 0.0}, 'j3': {'q1': 0.06}, 'j4': {'q1': 0.0}}\n"
     ]
    }
   ],
   "source": [
    "print(env.t)\n",
    "d = reconstruct_dict(obs, env.mapping_obs)\n",
    "print(d[\"sources\"])\n",
    "print(d[\"blenders\"])\n",
    "print(d[\"demands\"])\n",
    "print(d[\"properties\"])"
   ]
  },
  {
   "cell_type": "code",
   "execution_count": 64,
   "metadata": {},
   "outputs": [
    {
     "name": "stdout",
     "output_type": "stream",
     "text": [
      "2\n"
     ]
    },
    {
     "data": {
      "text/plain": [
       "{'source_blend': {'s1': {'j1': 0.0, 'j2': 50.0, 'j3': 50.0, 'j4': 0.0},\n",
       "  's2': {'j1': 0.0, 'j2': 50.0, 'j3': 0.0, 'j4': 0.0}},\n",
       " 'blend_demand': {'j1': {'p1': 0.0, 'p2': 50.0},\n",
       "  'j2': {'p1': 0.0, 'p2': 0.0},\n",
       "  'j3': {'p1': 50.0, 'p2': 50.0},\n",
       "  'j4': {'p1': 50.0, 'p2': 0.0}},\n",
       " 'tau': {'s1': 0.0, 's2': 50.0},\n",
       " 'delta': {'p1': 50.0, 'p2': 0.0}}"
      ]
     },
     "execution_count": 64,
     "metadata": {},
     "output_type": "execute_result"
    }
   ],
   "source": [
    "# 2 Visualize action\n",
    "print(env.t)\n",
    "reconstruct_dict(action, env.mapping_act)"
   ]
  },
  {
   "cell_type": "code",
   "execution_count": 65,
   "metadata": {},
   "outputs": [
    {
     "name": "stdout",
     "output_type": "stream",
     "text": [
      "2\n",
      "[PEN] t3; s2:\t\t\tbought too much (more than supply)\n",
      "[PEN] t3; p1:\t\t\tsold too much (more than demand)\n",
      "s1: b: 0.0\n",
      "[PEN] t3; s1:\t\t\tbought too little (resulting amount less than source tank LB)\n",
      "Increased reward by 0 through tank population in s1\n",
      "s2: b: 0.6\n",
      "[PEN] t3; s2:\t\t\tbought too little (resulting amount less than source tank LB)\n",
      "Increased reward by 0 through tank population in s2\n",
      "j1: inv: 0.0, in_flow_sources: 0.0, in_flow_blend: 0, out_flow_blend: 0, out_flow_demands: 50.0\n",
      "j1: b: 0.0\n",
      "[PEN] t3; j1:\t\t\tinventory OOB (resulting amount less than blending tank LB)\n",
      "Increased reward by 0 through tank population in j1\n",
      "j2: inv: 0.0, in_flow_sources: 30.0, in_flow_blend: 0, out_flow_blend: 0, out_flow_demands: 0.0\n",
      "Increased reward by 0.0 through tank population in j2\n",
      "j3: inv: 10.0, in_flow_sources: 0.0, in_flow_blend: 0, out_flow_blend: 0, out_flow_demands: 100.0\n",
      "j3: b: 0.1\n",
      "[PEN] t3; j3:\t\t\tinventory OOB (resulting amount less than blending tank LB)\n",
      "Increased reward by 0 through tank population in j3\n",
      "j4: inv: 0, in_flow_sources: 0.0, in_flow_blend: 0, out_flow_blend: 0, out_flow_demands: 50.0\n",
      "j4: b: 0.0\n",
      "[PEN] t3; j4:\t\t\tinventory OOB (resulting amount less than blending tank LB)\n",
      "Increased reward by 0 through tank population in j4\n",
      "p1: newdelta: 5.0\n",
      "[PEN] t3; p1:\t\t\tsold too much (resulting amount less than demand tank LB)\n",
      "Increased reward by 0 through tank population in p1\n",
      "Increased reward by 0.0 through tank population in p2\n"
     ]
    }
   ],
   "source": [
    "# 3\n",
    "# Step once: get 2nd action\n",
    "print(env.t)\n",
    "obs, reward, done, term, _ = env.step(action)"
   ]
  },
  {
   "cell_type": "code",
   "execution_count": 66,
   "metadata": {},
   "outputs": [
    {
     "name": "stdout",
     "output_type": "stream",
     "text": [
      "3\n",
      "{'s1': 0.0, 's2': 0.0}\n",
      "{'j1': 0.0, 'j2': 30.0, 'j3': 0.0, 'j4': 0.0}\n",
      "{'p1': 5.0, 'p2': 10.0}\n",
      "{'j1': {'q1': 0.0}, 'j2': {'q1': 0.26}, 'j3': {'q1': 0.0}, 'j4': {'q1': 0.0}}\n"
     ]
    }
   ],
   "source": [
    "# 4 Visualize new state\n",
    "print(env.t)\n",
    "d = reconstruct_dict(obs, env.mapping_obs)\n",
    "print(d[\"sources\"])\n",
    "print(d[\"blenders\"])\n",
    "print(d[\"demands\"])\n",
    "print(d[\"properties\"])"
   ]
  },
  {
   "cell_type": "code",
   "execution_count": 67,
   "metadata": {},
   "outputs": [
    {
     "data": {
      "text/plain": [
       "7999.6"
      ]
     },
     "execution_count": 67,
     "metadata": {},
     "output_type": "execute_result"
    }
   ],
   "source": [
    "reward"
   ]
  },
  {
   "cell_type": "code",
   "execution_count": null,
   "metadata": {},
   "outputs": [],
   "source": [
    "# End of episode\n",
    "episode_rewards.append(reward)"
   ]
  },
  {
   "cell_type": "code",
   "execution_count": 16,
   "metadata": {},
   "outputs": [
    {
     "data": {
      "text/plain": [
       "{'source_blend': {'s1': ['j1', 'j2', 'j3', 'j4'],\n",
       "  's2': ['j1', 'j2', 'j3', 'j4']},\n",
       " 'blend_blend': {'j1': ['j5', 'j6', 'j7', 'j8'],\n",
       "  'j2': ['j5', 'j6', 'j7', 'j8'],\n",
       "  'j3': ['j5', 'j6', 'j7', 'j8'],\n",
       "  'j4': ['j5', 'j6', 'j7', 'j8'],\n",
       "  'j5': [],\n",
       "  'j6': [],\n",
       "  'j7': [],\n",
       "  'j8': []},\n",
       " 'blend_demand': {'j1': [],\n",
       "  'j2': [],\n",
       "  'j3': [],\n",
       "  'j4': [],\n",
       "  'j5': ['p1', 'p2'],\n",
       "  'j6': ['p1', 'p2'],\n",
       "  'j7': ['p1', 'p2'],\n",
       "  'j8': ['p1', 'p2']}}"
      ]
     },
     "execution_count": 16,
     "metadata": {},
     "output_type": "execute_result"
    }
   ],
   "source": [
    "with open(\"./connections_sample.json\" ,\"r\") as f:\n",
    "    connections_s = f.readline()\n",
    "connections = json.loads(connections_s)\n",
    "connections"
   ]
  },
  {
   "cell_type": "code",
   "execution_count": 14,
   "metadata": {},
   "outputs": [],
   "source": [
    "def eval_policy(model=model, env=env, n_eval_episodes=10):\n",
    "    episode_rewards = []\n",
    "    for _ in range(n_eval_episodes):\n",
    "        obs = env.reset()\n",
    "        episode_reward = 0\n",
    "        done = False\n",
    "        while not done:\n",
    "            action, _ = model.predict(obs, deterministic=True)\n",
    "            obs, reward, done, _ = env.step(action)\n",
    "            episode_reward += reward\n",
    "        episode_rewards.append(episode_reward)\n",
    "    mean_reward = sum(episode_rewards) / n_eval_episodes\n",
    "    std_reward = np.std(episode_rewards)\n",
    "    return mean_reward, std_reward"
   ]
  },
  {
   "cell_type": "code",
   "execution_count": null,
   "metadata": {},
   "outputs": [],
   "source": [
    "eval_policy()"
   ]
  }
 ],
 "metadata": {
  "kernelspec": {
   "display_name": "blendv",
   "language": "python",
   "name": "python3"
  },
  "language_info": {
   "codemirror_mode": {
    "name": "ipython",
    "version": 3
   },
   "file_extension": ".py",
   "mimetype": "text/x-python",
   "name": "python",
   "nbconvert_exporter": "python",
   "pygments_lexer": "ipython3",
   "version": "3.8.0"
  }
 },
 "nbformat": 4,
 "nbformat_minor": 2
}
